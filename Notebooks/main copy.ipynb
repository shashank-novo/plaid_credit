{
 "cells": [
  {
   "cell_type": "code",
   "execution_count": 1,
   "metadata": {},
   "outputs": [
    {
     "name": "stdout",
     "output_type": "stream",
     "text": [
      "/Users/shashankgupta/Documents/code/git_project/plaid_credit\n",
      "/Users/shashankgupta/Documents/code/git_project/plaid_credit/Code\n"
     ]
    }
   ],
   "source": [
    "import os \n",
    "cwd = os.getcwd()\n",
    "\n",
    "os.chdir('../')\n",
    "cwd = os.getcwd()\n",
    "print(cwd)\n",
    "\n",
    "os.chdir('./code/')\n",
    "cwd = os.getcwd()\n",
    "print(cwd)\n",
    "\n",
    "import pandas as pd \n",
    "import numpy as np \n",
    "import seaborn as sns\n",
    "\n",
    "import pickle \n",
    "import logging\n",
    "\n",
    "\n",
    "# from config.config import SQLQuery\n",
    "# querySno = SQLQuery('snowflake')"
   ]
  },
  {
   "cell_type": "code",
   "execution_count": 2,
   "metadata": {},
   "outputs": [],
   "source": [
    "from preprocess import Convert,MissingValues,Outlier,FeatureSelection\n",
    "from feature_transformation import Scaler,Transform,Selection\n",
    "from model_building import split_test_train, feature_encoding, classification_models\n",
    "from model_evaluations import model_metrics, feature_importance, probability_bins, cross_validation\n",
    "from sklearn.preprocessing import StandardScaler, MinMaxScaler, RobustScaler, Normalizer\n",
    "\n",
    "from statsmodels.stats.outliers_influence import variance_inflation_factor\n",
    "\n",
    "# object initiation \n",
    "tf = Transform()\n",
    "sel = Selection()\n",
    "ft = FeatureSelection()\n",
    "cv = Convert()\n",
    "mv = MissingValues()\n",
    "ot = Outlier()\n",
    "\n",
    "# set seed\n",
    "seed = 9"
   ]
  },
  {
   "cell_type": "code",
   "execution_count": 3,
   "metadata": {},
   "outputs": [],
   "source": [
    "corr_arr = 0.4 # person correlation coefficient # change it to 0.5\n",
    "vif_arr = 5 # vif coefficient\n",
    "features_arr = 10 # total number of features to be selected from backward feature selection\n",
    "iv_upper_limit = 0.5 # upper threshold of iv # change it to 0.6\n",
    "iv_lower_limit = 0.02 # lower threshold of iv"
   ]
  },
  {
   "cell_type": "code",
   "execution_count": 23,
   "metadata": {},
   "outputs": [
    {
     "data": {
      "text/plain": [
       "(646, 255)"
      ]
     },
     "execution_count": 23,
     "metadata": {},
     "output_type": "execute_result"
    }
   ],
   "source": [
    "df_raw = pd.read_pickle('/Users/shashankgupta/Documents/code/git_project/plaid_credit/data/final_dataset_2.pkl')\n",
    "df_raw.shape"
   ]
  },
  {
   "cell_type": "code",
   "execution_count": 24,
   "metadata": {},
   "outputs": [
    {
     "data": {
      "text/plain": [
       "(646, 219)"
      ]
     },
     "execution_count": 24,
     "metadata": {},
     "output_type": "execute_result"
    }
   ],
   "source": [
    "# excluding stddev features\n",
    "keep_stddev_cols = ['stddev_credit_amt_3M']\n",
    "stddev_cols = list(df_raw.loc[:,df_raw.columns.str.contains('stddev')].columns)\n",
    "\n",
    "keep_cols = list(set(list(df_raw.columns)).difference(set(stddev_cols))) + keep_stddev_cols\n",
    "\n",
    "\n",
    "df_raw = df_raw[keep_cols]\n",
    "df_raw.shape"
   ]
  },
  {
   "cell_type": "code",
   "execution_count": 6,
   "metadata": {},
   "outputs": [
    {
     "data": {
      "text/plain": [
       "txn_flag\n",
       "1.0    637\n",
       "0.0      9\n",
       "Name: count, dtype: int64"
      ]
     },
     "execution_count": 6,
     "metadata": {},
     "output_type": "execute_result"
    }
   ],
   "source": [
    "df_raw['txn_flag'].value_counts()"
   ]
  },
  {
   "cell_type": "code",
   "execution_count": 7,
   "metadata": {},
   "outputs": [
    {
     "data": {
      "text/plain": [
       "(637, 218)"
      ]
     },
     "execution_count": 7,
     "metadata": {},
     "output_type": "execute_result"
    }
   ],
   "source": [
    "df_raw = df_raw[df_raw['txn_flag']==1]\n",
    "df_raw.shape"
   ]
  },
  {
   "cell_type": "code",
   "execution_count": 8,
   "metadata": {},
   "outputs": [
    {
     "data": {
      "text/plain": [
       "(637, 211)"
      ]
     },
     "execution_count": 8,
     "metadata": {},
     "output_type": "execute_result"
    }
   ],
   "source": [
    "df_raw = df_raw.drop(['business_id', 'lending_business_id','decision_date','drawn_flag', 'everDPD_15', 'fico_score','txn_flag'], axis=1)\n",
    "df_raw.shape"
   ]
  },
  {
   "cell_type": "code",
   "execution_count": 9,
   "metadata": {},
   "outputs": [
    {
     "name": "stdout",
     "output_type": "stream",
     "text": [
      "x_train.shape = (445, 210) | y_train.shape = (445,) | x_test.shape = (192, 210) | y_test.shape = (192,)\n"
     ]
    }
   ],
   "source": [
    "## train-test split\n",
    "\n",
    "# train test split\n",
    "x_train, y_train, x_test, y_test = split_test_train(df_raw, target_column='target', test_size=0.3, random_state=seed)\n",
    "print(f'{x_train.shape = }', '|' ,f'{y_train.shape = }', '|' ,f'{x_test.shape = }', '|' ,f'{y_test.shape = }')\n",
    "\n",
    "\n",
    "# copy to df\n",
    "df = x_train.copy(deep=True)"
   ]
  },
  {
   "cell_type": "code",
   "execution_count": 10,
   "metadata": {},
   "outputs": [
    {
     "data": {
      "text/plain": [
       "(445, 210)"
      ]
     },
     "execution_count": 10,
     "metadata": {},
     "output_type": "execute_result"
    }
   ],
   "source": [
    "# get constant features\n",
    "def get_const_features(df):\n",
    "    const_list = []\n",
    "    for col in df.columns: \n",
    "        if (len(df[col].unique())==1):\n",
    "            const_list.append(col)\n",
    "    return(const_list)\n",
    "\n",
    "# remove constant features\n",
    "const_list = get_const_features(df)\n",
    "df = df.drop(columns=const_list)\n",
    "df.shape"
   ]
  },
  {
   "cell_type": "code",
   "execution_count": 11,
   "metadata": {},
   "outputs": [
    {
     "data": {
      "text/plain": [
       "(445, 201)"
      ]
     },
     "execution_count": 11,
     "metadata": {},
     "output_type": "execute_result"
    }
   ],
   "source": [
    "# get quasi-constant features\n",
    "def get_quasi_const_features(df, threshold=0.01):\n",
    "    qconst_list = []\n",
    "    for col in df.columns: \n",
    "        if (df[col].var() <= threshold):\n",
    "            qconst_list.append(col)\n",
    "    return(qconst_list)\n",
    "\n",
    "# remove constant features\n",
    "qconst_list = get_quasi_const_features(df, threshold=0.01)\n",
    "df = df.drop(columns=qconst_list)\n",
    "df.shape"
   ]
  },
  {
   "cell_type": "code",
   "execution_count": 12,
   "metadata": {},
   "outputs": [
    {
     "data": {
      "text/html": [
       "<div>\n",
       "<style scoped>\n",
       "    .dataframe tbody tr th:only-of-type {\n",
       "        vertical-align: middle;\n",
       "    }\n",
       "\n",
       "    .dataframe tbody tr th {\n",
       "        vertical-align: top;\n",
       "    }\n",
       "\n",
       "    .dataframe thead th {\n",
       "        text-align: right;\n",
       "    }\n",
       "</style>\n",
       "<table border=\"1\" class=\"dataframe\">\n",
       "  <thead>\n",
       "    <tr style=\"text-align: right;\">\n",
       "      <th></th>\n",
       "      <th>percent_missing</th>\n",
       "    </tr>\n",
       "  </thead>\n",
       "  <tbody>\n",
       "    <tr>\n",
       "      <th>loans_amt_1M</th>\n",
       "      <td>91.011236</td>\n",
       "    </tr>\n",
       "    <tr>\n",
       "      <th>ratio_loans_size_credit_size_1M</th>\n",
       "      <td>91.011236</td>\n",
       "    </tr>\n",
       "    <tr>\n",
       "      <th>loans_count_1M</th>\n",
       "      <td>91.011236</td>\n",
       "    </tr>\n",
       "    <tr>\n",
       "      <th>median_loans_amt_1M</th>\n",
       "      <td>91.011236</td>\n",
       "    </tr>\n",
       "    <tr>\n",
       "      <th>ratio_loan_size_1M_3M</th>\n",
       "      <td>91.011236</td>\n",
       "    </tr>\n",
       "    <tr>\n",
       "      <th>...</th>\n",
       "      <td>...</td>\n",
       "    </tr>\n",
       "    <tr>\n",
       "      <th>third_party_flag</th>\n",
       "      <td>0.000000</td>\n",
       "    </tr>\n",
       "    <tr>\n",
       "      <th>ecom_flag</th>\n",
       "      <td>0.000000</td>\n",
       "    </tr>\n",
       "    <tr>\n",
       "      <th>pos_flag</th>\n",
       "      <td>0.000000</td>\n",
       "    </tr>\n",
       "    <tr>\n",
       "      <th>txn_each_mth_flag</th>\n",
       "      <td>0.000000</td>\n",
       "    </tr>\n",
       "    <tr>\n",
       "      <th>loans_flag</th>\n",
       "      <td>0.000000</td>\n",
       "    </tr>\n",
       "  </tbody>\n",
       "</table>\n",
       "<p>201 rows × 1 columns</p>\n",
       "</div>"
      ],
      "text/plain": [
       "                                 percent_missing\n",
       "loans_amt_1M                           91.011236\n",
       "ratio_loans_size_credit_size_1M        91.011236\n",
       "loans_count_1M                         91.011236\n",
       "median_loans_amt_1M                    91.011236\n",
       "ratio_loan_size_1M_3M                  91.011236\n",
       "...                                          ...\n",
       "third_party_flag                        0.000000\n",
       "ecom_flag                               0.000000\n",
       "pos_flag                                0.000000\n",
       "txn_each_mth_flag                       0.000000\n",
       "loans_flag                              0.000000\n",
       "\n",
       "[201 rows x 1 columns]"
      ]
     },
     "execution_count": 12,
     "metadata": {},
     "output_type": "execute_result"
    }
   ],
   "source": [
    "# view missing values\n",
    "def missing_value(df):\n",
    "    percent_missing = df.isnull().sum() * 100 / len(df)\n",
    "    missing_val_df = pd.DataFrame({'percent_missing': percent_missing})\n",
    "    missing_val_df.sort_values(by='percent_missing', ascending=False, inplace=True)\n",
    "    return missing_val_df\n",
    "\n",
    "missing_value(df)"
   ]
  },
  {
   "cell_type": "code",
   "execution_count": 13,
   "metadata": {},
   "outputs": [
    {
     "data": {
      "text/plain": [
       "(445, 174)"
      ]
     },
     "execution_count": 13,
     "metadata": {},
     "output_type": "execute_result"
    }
   ],
   "source": [
    "t = missing_value(df)\n",
    "drop_cols = list(t[t['percent_missing']>80].index)\n",
    "df.drop(drop_cols,axis=1,inplace=True)\n",
    "df.shape"
   ]
  },
  {
   "cell_type": "code",
   "execution_count": 14,
   "metadata": {},
   "outputs": [],
   "source": [
    "# Treating missing values\n",
    "df = df.fillna(0)"
   ]
  },
  {
   "cell_type": "code",
   "execution_count": 15,
   "metadata": {},
   "outputs": [
    {
     "name": "stdout",
     "output_type": "stream",
     "text": [
      "{'float64': 174}\n",
      "10\n",
      "164\n"
     ]
    }
   ],
   "source": [
    "# get boolean columns\n",
    "def findbool(df):\n",
    "    bool_arr = []\n",
    "    for col in df.columns: \n",
    "        if (len(df[col].unique())<=2):\n",
    "            bool_arr.append(col)\n",
    "    return(bool_arr)\n",
    "\n",
    "# get datatypes frequency\n",
    "def get_datatypes_freq(df):\n",
    "    type_dct = {str(k): list(v) for k, v in df.groupby(df.dtypes, axis=1)}\n",
    "    type_dct_info = {k: len(v) for k, v in type_dct.items()}\n",
    "    return type_dct, type_dct_info\n",
    "\n",
    "type_dct, type_dct_info = get_datatypes_freq(df)\n",
    "print(type_dct_info)\n",
    "\n",
    "bool_col_list = findbool(df)\n",
    "print(len(bool_col_list))\n",
    "\n",
    "type_dct, type_dct_info = get_datatypes_freq(df)\n",
    "col_list = (type_dct['float64'])\n",
    "col_list_excpt_bool = [column for column in col_list if column not in bool_col_list]\n",
    "print(len(col_list_excpt_bool))"
   ]
  },
  {
   "cell_type": "code",
   "execution_count": 16,
   "metadata": {},
   "outputs": [],
   "source": [
    "## iv_woe\n",
    "\n",
    "def iv_woe(data, target, bins=10, show_woe=False):\n",
    "    \n",
    "    #Empty Dataframe\n",
    "    newDF,woeDF = pd.DataFrame(), pd.DataFrame()\n",
    "    \n",
    "    #Extract Column Names\n",
    "    cols = data.columns\n",
    "    \n",
    "    #Run WOE and IV on all the independent variables\n",
    "    for ivars in cols[~cols.isin([target])]:\n",
    "        if (data[ivars].dtype.kind in 'bifc') and (len(np.unique(data[ivars]))>10):\n",
    "            binned_x = pd.qcut(data[ivars], bins,  duplicates='drop')\n",
    "            d0 = pd.DataFrame({'x': binned_x, 'y': data[target]})\n",
    "        else:\n",
    "            d0 = pd.DataFrame({'x': data[ivars], 'y': data[target]})\n",
    "\n",
    "        \n",
    "        # Calculate the number of events in each group (bin)\n",
    "        d = d0.groupby(\"x\", as_index=False).agg({\"y\": [\"count\", \"sum\"]})\n",
    "        d.columns = ['Cutoff', 'N', 'Events']\n",
    "        \n",
    "        # Calculate % of events in each group.\n",
    "        d['% of Events'] = np.maximum(d['Events'], 0.5) / d['Events'].sum()\n",
    "\n",
    "        # Calculate the non events in each group.\n",
    "        d['Non-Events'] = d['N'] - d['Events']\n",
    "        # Calculate % of non events in each group.\n",
    "        d['% of Non-Events'] = np.maximum(d['Non-Events'], 0.5) / d['Non-Events'].sum()\n",
    "\n",
    "        # Calculate WOE by taking natural log of division of % of non-events and % of events\n",
    "        d['WoE'] = np.log(d['% of Events']/d['% of Non-Events'])\n",
    "        d['IV'] = d['WoE'] * (d['% of Events'] - d['% of Non-Events'])\n",
    "        d.insert(loc=0, column='Variable', value=ivars)\n",
    "        print(\"Information value of \" + ivars + \" is \" + str(round(d['IV'].sum(),6)))\n",
    "        temp =pd.DataFrame({\"Variable\" : [ivars], \"IV\" : [d['IV'].sum()]}, columns = [\"Variable\", \"IV\"])\n",
    "        newDF=pd.concat([newDF,temp], axis=0)\n",
    "        woeDF=pd.concat([woeDF,d], axis=0)\n",
    "\n",
    "        #Show WOE Table\n",
    "        if show_woe == True:\n",
    "            print(d)\n",
    "    return newDF, woeDF"
   ]
  },
  {
   "cell_type": "code",
   "execution_count": 17,
   "metadata": {},
   "outputs": [
    {
     "name": "stdout",
     "output_type": "stream",
     "text": [
      "Information value of total_credit_count_1M is 0.046417\n",
      "Information value of total_credit_count_3M is 0.123842\n",
      "Information value of total_credit_count_6M is 0.106814\n",
      "Information value of total_credit_amt_1M is 0.039476\n",
      "Information value of total_credit_amt_3M is 0.087181\n",
      "Information value of total_credit_amt_6M is 0.046794\n",
      "Information value of credit_size_1M is 0.117904\n",
      "Information value of credit_size_3M is 0.286985\n",
      "Information value of credit_size_6M is 0.244407\n",
      "Information value of median_credit_amt_1M is 0.14747\n",
      "Information value of median_credit_amt_3M is 0.195674\n",
      "Information value of median_credit_amt_6M is 0.254997\n",
      "Information value of ratio_median_credit_amt_1M_6M is 0.056231\n",
      "Information value of ratio_median_credit_amt_1M_3M is 0.05263\n",
      "Information value of loans_amt_6M is 0.023398\n",
      "Information value of loans_count_6M is 0.034076\n",
      "Information value of median_loans_amt_6M is 0.023398\n",
      "Information value of payroll_amt_6M is 0.024865\n",
      "Information value of payroll_count_6M is 0.005915\n",
      "Information value of median_payroll_amt_6M is 0.024862\n",
      "Information value of pos_amt_6M is 0.124942\n",
      "Information value of pos_count_6M is 0.060484\n",
      "Information value of median_pos_amt_6M is 0.165416\n",
      "Information value of ecom_amt_6M is 0.097237\n",
      "Information value of ecom_count_6M is 0.059462\n",
      "Information value of median_ecom_amt_6M is 0.117647\n",
      "Information value of third_party_amt_6M is 0.050978\n",
      "Information value of third_party_count_6M is 0.1205\n",
      "Information value of median_third_party_amt_6M is 0.054732\n",
      "Information value of service_amt_6M is 0.031718\n",
      "Information value of service_count_6M is 0.036077\n",
      "Information value of median_service_amt_6M is 0.082993\n",
      "Information value of shops_amt_6M is 0.024596\n",
      "Information value of shops_count_6M is 0.023586\n",
      "Information value of median_shops_amt_6M is 0.072024\n",
      "Information value of ach_amt_6M is 0.002936\n",
      "Information value of ach_count_6M is 8.1e-05\n",
      "Information value of median_ach_amt_6M is 0.002352\n",
      "Information value of payroll_amt_3M is 0.02717\n",
      "Information value of payroll_count_3M is 0.031411\n",
      "Information value of median_payroll_amt_3M is 0.015042\n",
      "Information value of pos_amt_3M is 0.039683\n",
      "Information value of pos_count_3M is 0.032695\n",
      "Information value of median_pos_amt_3M is 0.128121\n",
      "Information value of ecom_amt_3M is 0.061982\n",
      "Information value of ecom_count_3M is 0.036288\n",
      "Information value of median_ecom_amt_3M is 0.014495\n",
      "Information value of third_party_amt_3M is 0.050978\n",
      "Information value of third_party_count_3M is 0.092285\n",
      "Information value of median_third_party_amt_3M is 0.088849\n",
      "Information value of service_amt_3M is 0.122403\n",
      "Information value of service_count_3M is 0.026231\n",
      "Information value of median_service_amt_3M is 0.047977\n",
      "Information value of shops_amt_3M is 0.08739\n",
      "Information value of shops_count_3M is 0.022842\n",
      "Information value of median_shops_amt_3M is 0.049321\n",
      "Information value of ach_amt_3M is 0.002936\n",
      "Information value of ach_count_3M is 0.002421\n",
      "Information value of median_ach_amt_3M is 0.000419\n",
      "Information value of payroll_amt_1M is 0.02457\n",
      "Information value of payroll_count_1M is 0.000977\n",
      "Information value of median_payroll_amt_1M is 0.02457\n",
      "Information value of pos_amt_1M is 0.052024\n",
      "Information value of pos_count_1M is 0.004532\n",
      "Information value of median_pos_amt_1M is 0.055576\n",
      "Information value of third_party_amt_1M is 0.034309\n",
      "Information value of third_party_count_1M is 0.039478\n",
      "Information value of median_third_party_amt_1M is 0.098737\n",
      "Information value of service_amt_1M is 0.000189\n",
      "Information value of service_count_1M is 0.002148\n",
      "Information value of median_service_amt_1M is 0.002352\n",
      "Information value of shops_amt_1M is 0.000419\n",
      "Information value of shops_count_1M is 1.8e-05\n",
      "Information value of median_shops_amt_1M is 0.000419\n",
      "Information value of payroll_size_1M is 0.054417\n",
      "Information value of pos_size_1M is 0.038154\n",
      "Information value of service_size_1M is 0.007031\n",
      "Information value of shops_size_1M is 0.000189\n",
      "Information value of payroll_size_3M is 0.02717\n",
      "Information value of pos_size_3M is 0.113325\n",
      "Information value of ecom_size_3M is 0.034309\n",
      "Information value of service_size_3M is 0.06234\n",
      "Information value of shops_size_3M is 0.098687\n",
      "Information value of ach_size_3M is 0.002936\n",
      "Information value of loans_size_6M is 0.014495\n",
      "Information value of payroll_size_6M is 0.0589\n",
      "Information value of pos_size_6M is 0.244945\n",
      "Information value of ecom_size_6M is 0.139891\n",
      "Information value of service_size_6M is 0.072024\n",
      "Information value of shops_size_6M is 0.06821\n",
      "Information value of ach_size_6M is 0.000419\n",
      "Information value of ratio_payroll_size_1M_6M is 0.002352\n",
      "Information value of ratio_pos_size_1M_6M is 0.012\n",
      "Information value of ratio_service_size_1M_6M is 0.000419\n",
      "Information value of ratio_shops_size_1M_6M is 0.007653\n",
      "Information value of ratio_payroll_size_1M_3M is 0.000419\n",
      "Information value of ratio_pos_size_1M_3M is 0.012\n",
      "Information value of ratio_service_size__1M_3M is 0.007653\n",
      "Information value of ratio_shops_size_1M_3M is 0.014495\n",
      "Information value of ratio_median_payroll_amt_3M_6M is 0.008256\n",
      "Information value of ratio_median_pos_amt_3M_6M is 0.012\n",
      "Information value of ratio_median_ecom_amt_3M_6M is 0.023398\n",
      "Information value of ratio_median_third_party_amt_3M_6M is 0.079557\n",
      "Information value of ratio_median_service_amt_3M_6M is 0.080985\n",
      "Information value of ratio_median_shops_amt_3M_6M is 0.098687\n",
      "Information value of ratio_median_ach_amt_3M_6M is 0.037826\n",
      "Information value of ratio_payroll_size_credit_size_1M is 0.002936\n",
      "Information value of ratio_pos_size_credit_size_1M is 0.020596\n",
      "Information value of ratio_service_size_credit_size_1M is 0.007653\n",
      "Information value of ratio_shops_size_credit_size_1M is 0.007653\n",
      "Information value of ratio_payroll_size_credit_size_3M is 0.017954\n",
      "Information value of ratio_pos_size_credit_size_3M is 0.027265\n",
      "Information value of ratio_ecom_size_credit_size_3M is 0.034309\n",
      "Information value of ratio_service_size_credit_size_3M is 0.065104\n",
      "Information value of ratio_shops_size_credit_size_3M is 0.070538\n",
      "Information value of ratio_ach_size_credit_size_3M is 0.007653\n",
      "Information value of ratio_loans_size_credit_size_6M is 0.023398\n",
      "Information value of ratio_payroll_size_credit_size_6M is 0.082993\n",
      "Information value of ratio_pos_size_credit_size_6M is 0.101512\n",
      "Information value of ratio_ecom_size_credit_size_6M is 0.163957\n",
      "Information value of ratio_service_size_credit_size_6M is 0.051582\n",
      "Information value of ratio_shops_size_credit_size_6M is 0.04727\n",
      "Information value of ratio_ach_size_credit_size_6M is 0.002936\n",
      "Information value of count_credits_lessthan_100_1M is 0.112666\n",
      "Information value of sum_credits_lessthan_100_1M is 0.155921\n",
      "Information value of count_credits_100_to_500_1M is 0.05544\n",
      "Information value of sum_credits_100_to_500_1M is 0.07538\n",
      "Information value of count_credits_grt_500_1M is 0.024608\n",
      "Information value of sum_credits_grt_500_1M is 0.07782\n",
      "Information value of count_credits_grt_1500_1M is 0.047626\n",
      "Information value of sum_credits_grt_1500_1M is 0.062646\n",
      "Information value of count_credits_lessthan_100_3M is 0.13311\n",
      "Information value of sum_credits_lessthan_100_3M is 0.169437\n",
      "Information value of count_credits_100_to_500_3M is 0.125503\n",
      "Information value of sum_credits_100_to_500_3M is 0.098917\n",
      "Information value of count_credits_grt_500_3M is 0.051962\n",
      "Information value of sum_credits_grt_500_3M is 0.126578\n",
      "Information value of count_credits_grt_1500_3M is 0.049676\n",
      "Information value of sum_credits_grt_1500_3M is 0.101139\n",
      "Information value of count_credits_lessthan_100_6M is 0.118544\n",
      "Information value of sum_credits_lessthan_100_6M is 0.18297\n",
      "Information value of count_credits_100_to_500_6M is 0.088252\n",
      "Information value of sum_credits_100_to_500_6M is 0.095597\n",
      "Information value of count_credits_grt_500_6M is 0.063442\n",
      "Information value of sum_credits_grt_500_6M is 0.096474\n",
      "Information value of count_credits_grt_1500_6M is 0.117989\n",
      "Information value of sum_credits_grt_1500_6M is 0.081223\n",
      "Information value of ratio_credits_lessthan_100_1M_3M is 0.023371\n",
      "Information value of ratio_credits_lessthan_100_1M_6M is 0.003004\n",
      "Information value of ratio_credits_grt_500_1M_3M is 0.029344\n",
      "Information value of ratio_credits_grt_1500_1M_3M is 0.029576\n",
      "Information value of ratio_credits_grt_1500_1M_6M is 0.02416\n",
      "Information value of ratio_amt_credits_less_100_credits_grt_500_6M is 0.188366\n",
      "Information value of ratio_amt_credits_less_100_credits_grt_500_3M is 0.284834\n",
      "Information value of ratio_amt_credits_less_100_credits_grt_1500_6M is 0.126221\n",
      "Information value of ratio_amt_credits_less_100_credits_grt_1500_3M is 0.150657\n",
      "Information value of ratio_amt_credits_grt_500_credits_grt_1500_6M is 0.069963\n",
      "Information value of ratio_amt_credits_grt_500_credits_grt_1500_3M is 0.012145\n",
      "Information value of ratio_cnt_credits_less_100_credits_grt_500_6M is 0.176091\n",
      "Information value of ratio_cnt_credits_less_100_credits_grt_500_3M is 0.140647\n",
      "Information value of ratio_cnt_credits_less_100_credits_grt_1500_6M is 0.089627\n",
      "Information value of ratio_cnt_credits_less_100_credits_grt_1500_3M is 0.074477\n",
      "Information value of ratio_cnt_credits_grt_500_credits_grt_1500_6M is 0.116901\n",
      "Information value of ratio_cnt_credits_grt_500_credits_grt_1500_3M is 0.037422\n"
     ]
    },
    {
     "data": {
      "text/plain": [
       "124"
      ]
     },
     "execution_count": 17,
     "metadata": {},
     "output_type": "execute_result"
    }
   ],
   "source": [
    "# remove features on basis of IV\n",
    "# y_train.reset_index(drop=True, inplace=True)\n",
    "df['target'] = y_train\n",
    "df['target'] = df['target'].astype(float)\n",
    "temp = df.copy()\n",
    "\n",
    "t1, t2 = iv_woe(temp[np.append(col_list_excpt_bool,['target'])], 'target', bins=5, show_woe=False)\n",
    "feature_list = list(t1[ (t1['IV']<iv_upper_limit) & (t1['IV']>iv_lower_limit) ]['Variable'].values)\n",
    "len(feature_list)"
   ]
  },
  {
   "cell_type": "code",
   "execution_count": 18,
   "metadata": {},
   "outputs": [
    {
     "data": {
      "text/plain": [
       "26"
      ]
     },
     "execution_count": 18,
     "metadata": {},
     "output_type": "execute_result"
    }
   ],
   "source": [
    "# view correlation\n",
    "corr_df, subset_df = sel.get_correlated_features(df, feature_list, thresh=corr_arr)\n",
    "corr_df\n",
    "\n",
    "\n",
    "# remove correlated features\n",
    "feature_list = sel.corr_iter(df, np.array(feature_list), thresh=corr_arr)\n",
    "feature_list = list(feature_list)\n",
    "len(feature_list)"
   ]
  },
  {
   "cell_type": "code",
   "execution_count": 19,
   "metadata": {},
   "outputs": [
    {
     "data": {
      "text/plain": [
       "26"
      ]
     },
     "execution_count": 19,
     "metadata": {},
     "output_type": "execute_result"
    }
   ],
   "source": [
    "# get feature list after iterative VIF elimination\n",
    "def vif_iter(df, iv, threshold=10):\n",
    "    vif_data = pd.DataFrame()\n",
    "    vif_data[\"feature\"] = iv\n",
    "    vif_data[\"VIF\"] = [variance_inflation_factor(df[iv].values, i) for i in range(len(iv))]\n",
    "    if len(vif_data[vif_data['VIF'] == np.inf]) > 0:\n",
    "        feature = vif_data[vif_data['VIF'] == np.inf]['feature'].iloc[0]\n",
    "        iv.remove(feature)\n",
    "        vif_iter(df, iv, threshold)\n",
    "    elif len(vif_data[vif_data['VIF'] > threshold]) > 0:\n",
    "        feature = vif_data.sort_values(by='VIF', ascending=False)['feature'].iloc[0]\n",
    "        iv.remove(feature)\n",
    "        vif_iter(df, iv, threshold)\n",
    "    vif_data = pd.DataFrame()\n",
    "    vif_data[\"feature\"] = iv\n",
    "    vif_data[\"VIF\"] = [variance_inflation_factor(df[iv].values, i) for i in range(len(iv))]\n",
    "    return iv, vif_data\n",
    "\n",
    "feature_list, vif_df = vif_iter(df, feature_list, threshold=vif_arr)\n",
    "len(feature_list)"
   ]
  },
  {
   "cell_type": "code",
   "execution_count": 20,
   "metadata": {},
   "outputs": [
    {
     "data": {
      "text/plain": [
       "['median_credit_amt_6M',\n",
       " 'loans_count_6M',\n",
       " 'pos_count_3M',\n",
       " 'median_third_party_amt_3M',\n",
       " 'ratio_median_third_party_amt_3M_6M',\n",
       " 'ratio_pos_size_credit_size_1M',\n",
       " 'ratio_shops_size_credit_size_3M',\n",
       " 'sum_credits_grt_500_6M',\n",
       " 'ratio_amt_credits_less_100_credits_grt_500_3M',\n",
       " 'ratio_amt_credits_grt_500_credits_grt_1500_6M']"
      ]
     },
     "execution_count": 20,
     "metadata": {},
     "output_type": "execute_result"
    }
   ],
   "source": [
    "# Backward feature elimination\n",
    "feat_list = ft.backward_feature_selection(df[feature_list], y_train, num_features=features_arr)\n",
    "feat_list"
   ]
  },
  {
   "cell_type": "code",
   "execution_count": 21,
   "metadata": {},
   "outputs": [
    {
     "name": "stdout",
     "output_type": "stream",
     "text": [
      "(CVXPY) Jun 30 04:31:28 PM: Encountered unexpected exception importing solver GLOP:\n",
      "RuntimeError('Unrecognized new version of ortools (9.6.2534). Expected < 9.5.0.Please open a feature request on cvxpy to enable support for this version.')\n",
      "(CVXPY) Jun 30 04:31:28 PM: Encountered unexpected exception importing solver PDLP:\n",
      "RuntimeError('Unrecognized new version of ortools (9.6.2534). Expected < 9.5.0.Please open a feature request on cvxpy to enable support for this version.')\n"
     ]
    }
   ],
   "source": [
    "## optimal binning woe\n",
    "\n",
    "import optbinning as optb\n",
    "from optbinning import Scorecard, BinningProcess, OptimalBinning\n",
    "from optbinning.binning.binning_statistics import BinningTable\n",
    "\n",
    "df_temp = df[feat_list].copy()\n",
    "df_temp['target'] = df['target']"
   ]
  },
  {
   "cell_type": "code",
   "execution_count": 73,
   "metadata": {},
   "outputs": [
    {
     "data": {
      "image/png": "[encoded data removed]",
      "text/plain": [
       "<Figure size 640x480 with 2 Axes>"
      ]
     },
     "metadata": {},
     "output_type": "display_data"
    }
   ],
   "source": [
    "# 1\n",
    "Xt= df_temp['median_credit_amt_6M']\n",
    "yt = df_temp['target'].astype(int)\n",
    "\n",
    "optb = OptimalBinning(name='median_credit_amt_6M', dtype=\"numerical\", max_n_prebins=4, monotonic_trend='descending')\n",
    "optb.fit(Xt, yt)  \n",
    "\n",
    "Xt_binned = optb.transform(Xt)\n",
    "\n",
    "ob_median_credit_amt_6M = optb.binning_table.build()\n",
    "\n",
    "optb.binning_table.plot(metric=\"event_rate\")"
   ]
  },
  {
   "cell_type": "code",
   "execution_count": 74,
   "metadata": {},
   "outputs": [
    {
     "data": {
      "text/html": [
       "<div>\n",
       "<style scoped>\n",
       "    .dataframe tbody tr th:only-of-type {\n",
       "        vertical-align: middle;\n",
       "    }\n",
       "\n",
       "    .dataframe tbody tr th {\n",
       "        vertical-align: top;\n",
       "    }\n",
       "\n",
       "    .dataframe thead th {\n",
       "        text-align: right;\n",
       "    }\n",
       "</style>\n",
       "<table border=\"1\" class=\"dataframe\">\n",
       "  <thead>\n",
       "    <tr style=\"text-align: right;\">\n",
       "      <th></th>\n",
       "      <th>Bin</th>\n",
       "      <th>Count</th>\n",
       "      <th>Count (%)</th>\n",
       "      <th>Non-event</th>\n",
       "      <th>Event</th>\n",
       "      <th>Event rate</th>\n",
       "      <th>WoE</th>\n",
       "      <th>IV</th>\n",
       "      <th>JS</th>\n",
       "    </tr>\n",
       "  </thead>\n",
       "  <tbody>\n",
       "    <tr>\n",
       "      <th>0</th>\n",
       "      <td>(-inf, 112.50)</td>\n",
       "      <td>85</td>\n",
       "      <td>0.191011</td>\n",
       "      <td>55</td>\n",
       "      <td>30</td>\n",
       "      <td>0.352941</td>\n",
       "      <td>-0.738544</td>\n",
       "      <td>0.125759</td>\n",
       "      <td>0.015372</td>\n",
       "    </tr>\n",
       "    <tr>\n",
       "      <th>1</th>\n",
       "      <td>[112.50, inf)</td>\n",
       "      <td>360</td>\n",
       "      <td>0.808989</td>\n",
       "      <td>298</td>\n",
       "      <td>62</td>\n",
       "      <td>0.172222</td>\n",
       "      <td>0.22528</td>\n",
       "      <td>0.038361</td>\n",
       "      <td>0.004785</td>\n",
       "    </tr>\n",
       "    <tr>\n",
       "      <th>2</th>\n",
       "      <td>Special</td>\n",
       "      <td>0</td>\n",
       "      <td>0.000000</td>\n",
       "      <td>0</td>\n",
       "      <td>0</td>\n",
       "      <td>0.000000</td>\n",
       "      <td>0.0</td>\n",
       "      <td>0.000000</td>\n",
       "      <td>0.000000</td>\n",
       "    </tr>\n",
       "    <tr>\n",
       "      <th>3</th>\n",
       "      <td>Missing</td>\n",
       "      <td>0</td>\n",
       "      <td>0.000000</td>\n",
       "      <td>0</td>\n",
       "      <td>0</td>\n",
       "      <td>0.000000</td>\n",
       "      <td>0.0</td>\n",
       "      <td>0.000000</td>\n",
       "      <td>0.000000</td>\n",
       "    </tr>\n",
       "    <tr>\n",
       "      <th>Totals</th>\n",
       "      <td></td>\n",
       "      <td>445</td>\n",
       "      <td>1.000000</td>\n",
       "      <td>353</td>\n",
       "      <td>92</td>\n",
       "      <td>0.206742</td>\n",
       "      <td></td>\n",
       "      <td>0.164119</td>\n",
       "      <td>0.020157</td>\n",
       "    </tr>\n",
       "  </tbody>\n",
       "</table>\n",
       "</div>"
      ],
      "text/plain": [
       "                   Bin  Count  Count (%)  Non-event  Event  Event rate  \\\n",
       "0       (-inf, 112.50)     85   0.191011         55     30    0.352941   \n",
       "1        [112.50, inf)    360   0.808989        298     62    0.172222   \n",
       "2              Special      0   0.000000          0      0    0.000000   \n",
       "3              Missing      0   0.000000          0      0    0.000000   \n",
       "Totals                    445   1.000000        353     92    0.206742   \n",
       "\n",
       "             WoE        IV        JS  \n",
       "0      -0.738544  0.125759  0.015372  \n",
       "1        0.22528  0.038361  0.004785  \n",
       "2            0.0  0.000000  0.000000  \n",
       "3            0.0  0.000000  0.000000  \n",
       "Totals            0.164119  0.020157  "
      ]
     },
     "execution_count": 74,
     "metadata": {},
     "output_type": "execute_result"
    }
   ],
   "source": [
    "ob_median_credit_amt_6M"
   ]
  },
  {
   "cell_type": "code",
   "execution_count": 24,
   "metadata": {},
   "outputs": [],
   "source": [
    "# 1\n",
    "# Var tranform\n",
    "transformed_vars = df[feat_list].copy()\n",
    "\n",
    "# transform\n",
    "col         = 'median_credit_amt_6M'\n",
    "conditions  = [ transformed_vars[col] < 112.5,\n",
    "                transformed_vars[col] >= 112.5 ]\n",
    "\n",
    "choices     = [-0.738544,0.22528]\n",
    "    \n",
    "transformed_vars[\"median_credit_amt_6M\"] = np.select(conditions, choices, default=np.nan)"
   ]
  },
  {
   "cell_type": "code",
   "execution_count": 25,
   "metadata": {},
   "outputs": [
    {
     "data": {
      "image/png": "[encoded data removed]",
      "text/plain": [
       "<Figure size 640x480 with 2 Axes>"
      ]
     },
     "metadata": {},
     "output_type": "display_data"
    }
   ],
   "source": [
    "# 2\n",
    "Xt= df_temp['loans_count_6M']\n",
    "yt = df_temp['target'].astype(int)\n",
    "\n",
    "optb = OptimalBinning(name='loans_count_6M', dtype=\"numerical\", max_n_prebins=4, monotonic_trend='descending',special_codes = [0])\n",
    "optb.fit(Xt, yt)  \n",
    "\n",
    "Xt_binned = optb.transform(Xt)\n",
    "\n",
    "ob_loans_count_6M = optb.binning_table.build()\n",
    "\n",
    "optb.binning_table.plot(metric=\"event_rate\")"
   ]
  },
  {
   "cell_type": "code",
   "execution_count": 26,
   "metadata": {},
   "outputs": [
    {
     "data": {
      "text/html": [
       "<div>\n",
       "<style scoped>\n",
       "    .dataframe tbody tr th:only-of-type {\n",
       "        vertical-align: middle;\n",
       "    }\n",
       "\n",
       "    .dataframe tbody tr th {\n",
       "        vertical-align: top;\n",
       "    }\n",
       "\n",
       "    .dataframe thead th {\n",
       "        text-align: right;\n",
       "    }\n",
       "</style>\n",
       "<table border=\"1\" class=\"dataframe\">\n",
       "  <thead>\n",
       "    <tr style=\"text-align: right;\">\n",
       "      <th></th>\n",
       "      <th>Bin</th>\n",
       "      <th>Count</th>\n",
       "      <th>Count (%)</th>\n",
       "      <th>Non-event</th>\n",
       "      <th>Event</th>\n",
       "      <th>Event rate</th>\n",
       "      <th>WoE</th>\n",
       "      <th>IV</th>\n",
       "      <th>JS</th>\n",
       "    </tr>\n",
       "  </thead>\n",
       "  <tbody>\n",
       "    <tr>\n",
       "      <th>0</th>\n",
       "      <td>(-inf, inf)</td>\n",
       "      <td>94</td>\n",
       "      <td>0.211236</td>\n",
       "      <td>70</td>\n",
       "      <td>24</td>\n",
       "      <td>0.255319</td>\n",
       "      <td>-0.274238</td>\n",
       "      <td>0.017159</td>\n",
       "      <td>0.002138</td>\n",
       "    </tr>\n",
       "    <tr>\n",
       "      <th>1</th>\n",
       "      <td>Special</td>\n",
       "      <td>351</td>\n",
       "      <td>0.788764</td>\n",
       "      <td>283</td>\n",
       "      <td>68</td>\n",
       "      <td>0.193732</td>\n",
       "      <td>0.08126</td>\n",
       "      <td>0.005084</td>\n",
       "      <td>0.000635</td>\n",
       "    </tr>\n",
       "    <tr>\n",
       "      <th>2</th>\n",
       "      <td>Missing</td>\n",
       "      <td>0</td>\n",
       "      <td>0.000000</td>\n",
       "      <td>0</td>\n",
       "      <td>0</td>\n",
       "      <td>0.000000</td>\n",
       "      <td>0.0</td>\n",
       "      <td>0.000000</td>\n",
       "      <td>0.000000</td>\n",
       "    </tr>\n",
       "    <tr>\n",
       "      <th>Totals</th>\n",
       "      <td></td>\n",
       "      <td>445</td>\n",
       "      <td>1.000000</td>\n",
       "      <td>353</td>\n",
       "      <td>92</td>\n",
       "      <td>0.206742</td>\n",
       "      <td></td>\n",
       "      <td>0.022243</td>\n",
       "      <td>0.002774</td>\n",
       "    </tr>\n",
       "  </tbody>\n",
       "</table>\n",
       "</div>"
      ],
      "text/plain": [
       "                Bin  Count  Count (%)  Non-event  Event  Event rate       WoE  \\\n",
       "0       (-inf, inf)     94   0.211236         70     24    0.255319 -0.274238   \n",
       "1           Special    351   0.788764        283     68    0.193732   0.08126   \n",
       "2           Missing      0   0.000000          0      0    0.000000       0.0   \n",
       "Totals                 445   1.000000        353     92    0.206742             \n",
       "\n",
       "              IV        JS  \n",
       "0       0.017159  0.002138  \n",
       "1       0.005084  0.000635  \n",
       "2       0.000000  0.000000  \n",
       "Totals  0.022243  0.002774  "
      ]
     },
     "execution_count": 26,
     "metadata": {},
     "output_type": "execute_result"
    }
   ],
   "source": [
    "ob_loans_count_6M"
   ]
  },
  {
   "cell_type": "code",
   "execution_count": 27,
   "metadata": {},
   "outputs": [],
   "source": [
    "# 2\n",
    "# transform\n",
    "col         = 'loans_count_6M'\n",
    "conditions  = [ transformed_vars[col] <= 0,\n",
    "                transformed_vars[col] > 0 ]\n",
    "\n",
    "choices     = [0.08126,-0.274238]\n",
    "    \n",
    "transformed_vars[\"loans_count_6M\"] = np.select(conditions, choices, default=np.nan)"
   ]
  },
  {
   "cell_type": "code",
   "execution_count": 28,
   "metadata": {},
   "outputs": [
    {
     "data": {
      "image/png": "[encoded data removed]",
      "text/plain": [
       "<Figure size 640x480 with 2 Axes>"
      ]
     },
     "metadata": {},
     "output_type": "display_data"
    }
   ],
   "source": [
    "# 3\n",
    "Xt= df_temp['pos_count_3M']\n",
    "yt = df_temp['target'].astype(int)\n",
    "\n",
    "optb = OptimalBinning(name='pos_count_3M', dtype=\"numerical\", max_n_prebins=4, monotonic_trend='descending',special_codes = [0])\n",
    "optb.fit(Xt, yt)  \n",
    "\n",
    "Xt_binned = optb.transform(Xt)\n",
    "\n",
    "ob_pos_count_3M = optb.binning_table.build()\n",
    "\n",
    "optb.binning_table.plot(metric=\"event_rate\")"
   ]
  },
  {
   "cell_type": "code",
   "execution_count": 29,
   "metadata": {},
   "outputs": [
    {
     "data": {
      "text/html": [
       "<div>\n",
       "<style scoped>\n",
       "    .dataframe tbody tr th:only-of-type {\n",
       "        vertical-align: middle;\n",
       "    }\n",
       "\n",
       "    .dataframe tbody tr th {\n",
       "        vertical-align: top;\n",
       "    }\n",
       "\n",
       "    .dataframe thead th {\n",
       "        text-align: right;\n",
       "    }\n",
       "</style>\n",
       "<table border=\"1\" class=\"dataframe\">\n",
       "  <thead>\n",
       "    <tr style=\"text-align: right;\">\n",
       "      <th></th>\n",
       "      <th>Bin</th>\n",
       "      <th>Count</th>\n",
       "      <th>Count (%)</th>\n",
       "      <th>Non-event</th>\n",
       "      <th>Event</th>\n",
       "      <th>Event rate</th>\n",
       "      <th>WoE</th>\n",
       "      <th>IV</th>\n",
       "      <th>JS</th>\n",
       "    </tr>\n",
       "  </thead>\n",
       "  <tbody>\n",
       "    <tr>\n",
       "      <th>0</th>\n",
       "      <td>(-inf, inf)</td>\n",
       "      <td>262</td>\n",
       "      <td>0.588764</td>\n",
       "      <td>216</td>\n",
       "      <td>46</td>\n",
       "      <td>0.175573</td>\n",
       "      <td>0.201958</td>\n",
       "      <td>0.022599</td>\n",
       "      <td>0.002820</td>\n",
       "    </tr>\n",
       "    <tr>\n",
       "      <th>1</th>\n",
       "      <td>Special</td>\n",
       "      <td>183</td>\n",
       "      <td>0.411236</td>\n",
       "      <td>137</td>\n",
       "      <td>46</td>\n",
       "      <td>0.251366</td>\n",
       "      <td>-0.25334</td>\n",
       "      <td>0.028348</td>\n",
       "      <td>0.003534</td>\n",
       "    </tr>\n",
       "    <tr>\n",
       "      <th>2</th>\n",
       "      <td>Missing</td>\n",
       "      <td>0</td>\n",
       "      <td>0.000000</td>\n",
       "      <td>0</td>\n",
       "      <td>0</td>\n",
       "      <td>0.000000</td>\n",
       "      <td>0.0</td>\n",
       "      <td>0.000000</td>\n",
       "      <td>0.000000</td>\n",
       "    </tr>\n",
       "    <tr>\n",
       "      <th>Totals</th>\n",
       "      <td></td>\n",
       "      <td>445</td>\n",
       "      <td>1.000000</td>\n",
       "      <td>353</td>\n",
       "      <td>92</td>\n",
       "      <td>0.206742</td>\n",
       "      <td></td>\n",
       "      <td>0.050947</td>\n",
       "      <td>0.006354</td>\n",
       "    </tr>\n",
       "  </tbody>\n",
       "</table>\n",
       "</div>"
      ],
      "text/plain": [
       "                Bin  Count  Count (%)  Non-event  Event  Event rate       WoE  \\\n",
       "0       (-inf, inf)    262   0.588764        216     46    0.175573  0.201958   \n",
       "1           Special    183   0.411236        137     46    0.251366  -0.25334   \n",
       "2           Missing      0   0.000000          0      0    0.000000       0.0   \n",
       "Totals                 445   1.000000        353     92    0.206742             \n",
       "\n",
       "              IV        JS  \n",
       "0       0.022599  0.002820  \n",
       "1       0.028348  0.003534  \n",
       "2       0.000000  0.000000  \n",
       "Totals  0.050947  0.006354  "
      ]
     },
     "execution_count": 29,
     "metadata": {},
     "output_type": "execute_result"
    }
   ],
   "source": [
    "ob_pos_count_3M"
   ]
  },
  {
   "cell_type": "code",
   "execution_count": 30,
   "metadata": {},
   "outputs": [],
   "source": [
    "# 3\n",
    "# transform\n",
    "col         = 'pos_count_3M'\n",
    "conditions  = [ transformed_vars[col] <= 0, \n",
    "                transformed_vars[col] > 0 ]\n",
    "\n",
    "choices     = [-0.25334,0.201958]\n",
    "    \n",
    "transformed_vars[\"pos_count_3M\"] = np.select(conditions, choices, default=np.nan)"
   ]
  },
  {
   "cell_type": "code",
   "execution_count": 31,
   "metadata": {},
   "outputs": [
    {
     "data": {
      "image/png": "[encoded data removed]",
      "text/plain": [
       "<Figure size 640x480 with 2 Axes>"
      ]
     },
     "metadata": {},
     "output_type": "display_data"
    }
   ],
   "source": [
    "# 4\n",
    "Xt= df_temp['median_third_party_amt_3M']\n",
    "yt = df_temp['target'].astype(int)\n",
    "\n",
    "optb = OptimalBinning(name='median_third_party_amt_3M', dtype=\"numerical\", max_n_prebins=4, monotonic_trend='descending',special_codes = [0])\n",
    "optb.fit(Xt, yt)  \n",
    "\n",
    "Xt_binned = optb.transform(Xt)\n",
    "\n",
    "ob_median_third_party_amt_3M = optb.binning_table.build()\n",
    "\n",
    "optb.binning_table.plot(metric=\"event_rate\")"
   ]
  },
  {
   "cell_type": "code",
   "execution_count": 32,
   "metadata": {},
   "outputs": [
    {
     "data": {
      "text/html": [
       "<div>\n",
       "<style scoped>\n",
       "    .dataframe tbody tr th:only-of-type {\n",
       "        vertical-align: middle;\n",
       "    }\n",
       "\n",
       "    .dataframe tbody tr th {\n",
       "        vertical-align: top;\n",
       "    }\n",
       "\n",
       "    .dataframe thead th {\n",
       "        text-align: right;\n",
       "    }\n",
       "</style>\n",
       "<table border=\"1\" class=\"dataframe\">\n",
       "  <thead>\n",
       "    <tr style=\"text-align: right;\">\n",
       "      <th></th>\n",
       "      <th>Bin</th>\n",
       "      <th>Count</th>\n",
       "      <th>Count (%)</th>\n",
       "      <th>Non-event</th>\n",
       "      <th>Event</th>\n",
       "      <th>Event rate</th>\n",
       "      <th>WoE</th>\n",
       "      <th>IV</th>\n",
       "      <th>JS</th>\n",
       "    </tr>\n",
       "  </thead>\n",
       "  <tbody>\n",
       "    <tr>\n",
       "      <th>0</th>\n",
       "      <td>(-inf, 99.12)</td>\n",
       "      <td>82</td>\n",
       "      <td>0.184270</td>\n",
       "      <td>55</td>\n",
       "      <td>27</td>\n",
       "      <td>0.329268</td>\n",
       "      <td>-0.633183</td>\n",
       "      <td>0.087171</td>\n",
       "      <td>0.010718</td>\n",
       "    </tr>\n",
       "    <tr>\n",
       "      <th>1</th>\n",
       "      <td>[99.12, 1092.00)</td>\n",
       "      <td>145</td>\n",
       "      <td>0.325843</td>\n",
       "      <td>110</td>\n",
       "      <td>35</td>\n",
       "      <td>0.241379</td>\n",
       "      <td>-0.199547</td>\n",
       "      <td>0.013733</td>\n",
       "      <td>0.001714</td>\n",
       "    </tr>\n",
       "    <tr>\n",
       "      <th>2</th>\n",
       "      <td>[1092.00, inf)</td>\n",
       "      <td>43</td>\n",
       "      <td>0.096629</td>\n",
       "      <td>41</td>\n",
       "      <td>2</td>\n",
       "      <td>0.046512</td>\n",
       "      <td>1.675745</td>\n",
       "      <td>0.158204</td>\n",
       "      <td>0.017745</td>\n",
       "    </tr>\n",
       "    <tr>\n",
       "      <th>3</th>\n",
       "      <td>Special</td>\n",
       "      <td>175</td>\n",
       "      <td>0.393258</td>\n",
       "      <td>147</td>\n",
       "      <td>28</td>\n",
       "      <td>0.160000</td>\n",
       "      <td>0.313549</td>\n",
       "      <td>0.035143</td>\n",
       "      <td>0.004375</td>\n",
       "    </tr>\n",
       "    <tr>\n",
       "      <th>4</th>\n",
       "      <td>Missing</td>\n",
       "      <td>0</td>\n",
       "      <td>0.000000</td>\n",
       "      <td>0</td>\n",
       "      <td>0</td>\n",
       "      <td>0.000000</td>\n",
       "      <td>0.0</td>\n",
       "      <td>0.000000</td>\n",
       "      <td>0.000000</td>\n",
       "    </tr>\n",
       "    <tr>\n",
       "      <th>Totals</th>\n",
       "      <td></td>\n",
       "      <td>445</td>\n",
       "      <td>1.000000</td>\n",
       "      <td>353</td>\n",
       "      <td>92</td>\n",
       "      <td>0.206742</td>\n",
       "      <td></td>\n",
       "      <td>0.294251</td>\n",
       "      <td>0.034551</td>\n",
       "    </tr>\n",
       "  </tbody>\n",
       "</table>\n",
       "</div>"
      ],
      "text/plain": [
       "                     Bin  Count  Count (%)  Non-event  Event  Event rate  \\\n",
       "0          (-inf, 99.12)     82   0.184270         55     27    0.329268   \n",
       "1       [99.12, 1092.00)    145   0.325843        110     35    0.241379   \n",
       "2         [1092.00, inf)     43   0.096629         41      2    0.046512   \n",
       "3                Special    175   0.393258        147     28    0.160000   \n",
       "4                Missing      0   0.000000          0      0    0.000000   \n",
       "Totals                      445   1.000000        353     92    0.206742   \n",
       "\n",
       "             WoE        IV        JS  \n",
       "0      -0.633183  0.087171  0.010718  \n",
       "1      -0.199547  0.013733  0.001714  \n",
       "2       1.675745  0.158204  0.017745  \n",
       "3       0.313549  0.035143  0.004375  \n",
       "4            0.0  0.000000  0.000000  \n",
       "Totals            0.294251  0.034551  "
      ]
     },
     "execution_count": 32,
     "metadata": {},
     "output_type": "execute_result"
    }
   ],
   "source": [
    "ob_median_third_party_amt_3M"
   ]
  },
  {
   "cell_type": "code",
   "execution_count": 33,
   "metadata": {},
   "outputs": [],
   "source": [
    "# 4\n",
    "# transform\n",
    "col         = 'median_third_party_amt_3M'\n",
    "conditions  = [ transformed_vars[col] <= 0, \n",
    "                (transformed_vars[col] > 0 ) & (transformed_vars[col] < 99.12),\n",
    "                (transformed_vars[col] >= 99.12 ) & (transformed_vars[col] < 1092),\n",
    "                transformed_vars[col] >= 1092 ]\n",
    "\n",
    "choices     = [0.313549,-0.633183,-0.199547,1.675745]\n",
    "    \n",
    "transformed_vars[\"median_third_party_amt_3M\"] = np.select(conditions, choices, default=np.nan)"
   ]
  },
  {
   "cell_type": "code",
   "execution_count": 34,
   "metadata": {},
   "outputs": [
    {
     "data": {
      "image/png": "[encoded data removed]",
      "text/plain": [
       "<Figure size 640x480 with 2 Axes>"
      ]
     },
     "metadata": {},
     "output_type": "display_data"
    }
   ],
   "source": [
    "# 5\n",
    "Xt= df_temp['ratio_median_third_party_amt_3M_6M']\n",
    "yt = df_temp['target'].astype(int)\n",
    "\n",
    "optb = OptimalBinning(name='ratio_median_third_party_amt_3M_6M', dtype=\"numerical\", max_n_prebins=4, monotonic_trend='descending')\n",
    "optb.fit(Xt, yt)  \n",
    "\n",
    "Xt_binned = optb.transform(Xt)\n",
    "\n",
    "ob_ratio_median_third_party_amt_3M_6M = optb.binning_table.build()\n",
    "\n",
    "optb.binning_table.plot(metric=\"event_rate\")"
   ]
  },
  {
   "cell_type": "code",
   "execution_count": 35,
   "metadata": {},
   "outputs": [
    {
     "data": {
      "text/html": [
       "<div>\n",
       "<style scoped>\n",
       "    .dataframe tbody tr th:only-of-type {\n",
       "        vertical-align: middle;\n",
       "    }\n",
       "\n",
       "    .dataframe tbody tr th {\n",
       "        vertical-align: top;\n",
       "    }\n",
       "\n",
       "    .dataframe thead th {\n",
       "        text-align: right;\n",
       "    }\n",
       "</style>\n",
       "<table border=\"1\" class=\"dataframe\">\n",
       "  <thead>\n",
       "    <tr style=\"text-align: right;\">\n",
       "      <th></th>\n",
       "      <th>Bin</th>\n",
       "      <th>Count</th>\n",
       "      <th>Count (%)</th>\n",
       "      <th>Non-event</th>\n",
       "      <th>Event</th>\n",
       "      <th>Event rate</th>\n",
       "      <th>WoE</th>\n",
       "      <th>IV</th>\n",
       "      <th>JS</th>\n",
       "    </tr>\n",
       "  </thead>\n",
       "  <tbody>\n",
       "    <tr>\n",
       "      <th>0</th>\n",
       "      <td>(-inf, 1.00)</td>\n",
       "      <td>333</td>\n",
       "      <td>0.748315</td>\n",
       "      <td>260</td>\n",
       "      <td>73</td>\n",
       "      <td>0.219219</td>\n",
       "      <td>-0.074457</td>\n",
       "      <td>0.004239</td>\n",
       "      <td>0.000530</td>\n",
       "    </tr>\n",
       "    <tr>\n",
       "      <th>1</th>\n",
       "      <td>[1.00, inf)</td>\n",
       "      <td>112</td>\n",
       "      <td>0.251685</td>\n",
       "      <td>93</td>\n",
       "      <td>19</td>\n",
       "      <td>0.169643</td>\n",
       "      <td>0.243481</td>\n",
       "      <td>0.013862</td>\n",
       "      <td>0.001729</td>\n",
       "    </tr>\n",
       "    <tr>\n",
       "      <th>2</th>\n",
       "      <td>Special</td>\n",
       "      <td>0</td>\n",
       "      <td>0.000000</td>\n",
       "      <td>0</td>\n",
       "      <td>0</td>\n",
       "      <td>0.000000</td>\n",
       "      <td>0.0</td>\n",
       "      <td>0.000000</td>\n",
       "      <td>0.000000</td>\n",
       "    </tr>\n",
       "    <tr>\n",
       "      <th>3</th>\n",
       "      <td>Missing</td>\n",
       "      <td>0</td>\n",
       "      <td>0.000000</td>\n",
       "      <td>0</td>\n",
       "      <td>0</td>\n",
       "      <td>0.000000</td>\n",
       "      <td>0.0</td>\n",
       "      <td>0.000000</td>\n",
       "      <td>0.000000</td>\n",
       "    </tr>\n",
       "    <tr>\n",
       "      <th>Totals</th>\n",
       "      <td></td>\n",
       "      <td>445</td>\n",
       "      <td>1.000000</td>\n",
       "      <td>353</td>\n",
       "      <td>92</td>\n",
       "      <td>0.206742</td>\n",
       "      <td></td>\n",
       "      <td>0.018102</td>\n",
       "      <td>0.002258</td>\n",
       "    </tr>\n",
       "  </tbody>\n",
       "</table>\n",
       "</div>"
      ],
      "text/plain": [
       "                 Bin  Count  Count (%)  Non-event  Event  Event rate  \\\n",
       "0       (-inf, 1.00)    333   0.748315        260     73    0.219219   \n",
       "1        [1.00, inf)    112   0.251685         93     19    0.169643   \n",
       "2            Special      0   0.000000          0      0    0.000000   \n",
       "3            Missing      0   0.000000          0      0    0.000000   \n",
       "Totals                  445   1.000000        353     92    0.206742   \n",
       "\n",
       "             WoE        IV        JS  \n",
       "0      -0.074457  0.004239  0.000530  \n",
       "1       0.243481  0.013862  0.001729  \n",
       "2            0.0  0.000000  0.000000  \n",
       "3            0.0  0.000000  0.000000  \n",
       "Totals            0.018102  0.002258  "
      ]
     },
     "execution_count": 35,
     "metadata": {},
     "output_type": "execute_result"
    }
   ],
   "source": [
    "ob_ratio_median_third_party_amt_3M_6M"
   ]
  },
  {
   "cell_type": "code",
   "execution_count": 36,
   "metadata": {},
   "outputs": [],
   "source": [
    "# 5\n",
    "# transform\n",
    "col         = 'ratio_median_third_party_amt_3M_6M'\n",
    "conditions  = [ transformed_vars[col] < 1,\n",
    "                transformed_vars[col] >= 1]\n",
    "\n",
    "choices     = [-0.074457,0.243481]\n",
    "    \n",
    "transformed_vars[\"ratio_median_third_party_amt_3M_6M\"] = np.select(conditions, choices, default=np.nan)"
   ]
  },
  {
   "cell_type": "code",
   "execution_count": 37,
   "metadata": {},
   "outputs": [
    {
     "data": {
      "image/png": "[encoded data removed]",
      "text/plain": [
       "<Figure size 640x480 with 2 Axes>"
      ]
     },
     "metadata": {},
     "output_type": "display_data"
    }
   ],
   "source": [
    "# 6\n",
    "Xt= df_temp['ratio_pos_size_credit_size_1M']\n",
    "yt = df_temp['target'].astype(int)\n",
    "\n",
    "optb = OptimalBinning(name='ratio_pos_size_credit_size_1M', dtype=\"numerical\", max_n_prebins=2, monotonic_trend='descending')\n",
    "optb.fit(Xt, yt)  \n",
    "\n",
    "Xt_binned = optb.transform(Xt)\n",
    "\n",
    "ob_ratio_pos_size_credit_size_1M = optb.binning_table.build()\n",
    "\n",
    "optb.binning_table.plot(metric=\"event_rate\")"
   ]
  },
  {
   "cell_type": "code",
   "execution_count": 38,
   "metadata": {},
   "outputs": [
    {
     "data": {
      "text/html": [
       "<div>\n",
       "<style scoped>\n",
       "    .dataframe tbody tr th:only-of-type {\n",
       "        vertical-align: middle;\n",
       "    }\n",
       "\n",
       "    .dataframe tbody tr th {\n",
       "        vertical-align: top;\n",
       "    }\n",
       "\n",
       "    .dataframe thead th {\n",
       "        text-align: right;\n",
       "    }\n",
       "</style>\n",
       "<table border=\"1\" class=\"dataframe\">\n",
       "  <thead>\n",
       "    <tr style=\"text-align: right;\">\n",
       "      <th></th>\n",
       "      <th>Bin</th>\n",
       "      <th>Count</th>\n",
       "      <th>Count (%)</th>\n",
       "      <th>Non-event</th>\n",
       "      <th>Event</th>\n",
       "      <th>Event rate</th>\n",
       "      <th>WoE</th>\n",
       "      <th>IV</th>\n",
       "      <th>JS</th>\n",
       "    </tr>\n",
       "  </thead>\n",
       "  <tbody>\n",
       "    <tr>\n",
       "      <th>0</th>\n",
       "      <td>(-inf, 0.27)</td>\n",
       "      <td>306</td>\n",
       "      <td>0.68764</td>\n",
       "      <td>236</td>\n",
       "      <td>70</td>\n",
       "      <td>0.228758</td>\n",
       "      <td>-0.129343</td>\n",
       "      <td>0.011940</td>\n",
       "      <td>0.001491</td>\n",
       "    </tr>\n",
       "    <tr>\n",
       "      <th>1</th>\n",
       "      <td>[0.27, inf)</td>\n",
       "      <td>139</td>\n",
       "      <td>0.31236</td>\n",
       "      <td>117</td>\n",
       "      <td>22</td>\n",
       "      <td>0.158273</td>\n",
       "      <td>0.326452</td>\n",
       "      <td>0.030136</td>\n",
       "      <td>0.003750</td>\n",
       "    </tr>\n",
       "    <tr>\n",
       "      <th>2</th>\n",
       "      <td>Special</td>\n",
       "      <td>0</td>\n",
       "      <td>0.00000</td>\n",
       "      <td>0</td>\n",
       "      <td>0</td>\n",
       "      <td>0.000000</td>\n",
       "      <td>0.0</td>\n",
       "      <td>0.000000</td>\n",
       "      <td>0.000000</td>\n",
       "    </tr>\n",
       "    <tr>\n",
       "      <th>3</th>\n",
       "      <td>Missing</td>\n",
       "      <td>0</td>\n",
       "      <td>0.00000</td>\n",
       "      <td>0</td>\n",
       "      <td>0</td>\n",
       "      <td>0.000000</td>\n",
       "      <td>0.0</td>\n",
       "      <td>0.000000</td>\n",
       "      <td>0.000000</td>\n",
       "    </tr>\n",
       "    <tr>\n",
       "      <th>Totals</th>\n",
       "      <td></td>\n",
       "      <td>445</td>\n",
       "      <td>1.00000</td>\n",
       "      <td>353</td>\n",
       "      <td>92</td>\n",
       "      <td>0.206742</td>\n",
       "      <td></td>\n",
       "      <td>0.042076</td>\n",
       "      <td>0.005242</td>\n",
       "    </tr>\n",
       "  </tbody>\n",
       "</table>\n",
       "</div>"
      ],
      "text/plain": [
       "                 Bin  Count  Count (%)  Non-event  Event  Event rate  \\\n",
       "0       (-inf, 0.27)    306    0.68764        236     70    0.228758   \n",
       "1        [0.27, inf)    139    0.31236        117     22    0.158273   \n",
       "2            Special      0    0.00000          0      0    0.000000   \n",
       "3            Missing      0    0.00000          0      0    0.000000   \n",
       "Totals                  445    1.00000        353     92    0.206742   \n",
       "\n",
       "             WoE        IV        JS  \n",
       "0      -0.129343  0.011940  0.001491  \n",
       "1       0.326452  0.030136  0.003750  \n",
       "2            0.0  0.000000  0.000000  \n",
       "3            0.0  0.000000  0.000000  \n",
       "Totals            0.042076  0.005242  "
      ]
     },
     "execution_count": 38,
     "metadata": {},
     "output_type": "execute_result"
    }
   ],
   "source": [
    "ob_ratio_pos_size_credit_size_1M"
   ]
  },
  {
   "cell_type": "code",
   "execution_count": 39,
   "metadata": {},
   "outputs": [],
   "source": [
    "# 6\n",
    "# transform\n",
    "col         = 'ratio_pos_size_credit_size_1M'\n",
    "conditions  = [ transformed_vars[col] < 0.27,\n",
    "                transformed_vars[col] >= 0.27 ]\n",
    "\n",
    "choices     = [-0.129343,0.326452]\n",
    "    \n",
    "transformed_vars[\"ratio_pos_size_credit_size_1M\"] = np.select(conditions, choices, default=np.nan)"
   ]
  },
  {
   "cell_type": "code",
   "execution_count": 40,
   "metadata": {},
   "outputs": [
    {
     "data": {
      "image/png": "[encoded data removed]",
      "text/plain": [
       "<Figure size 640x480 with 2 Axes>"
      ]
     },
     "metadata": {},
     "output_type": "display_data"
    }
   ],
   "source": [
    "# 7\n",
    "Xt= df_temp['ratio_shops_size_credit_size_3M']\n",
    "yt = df_temp['target'].astype(int)\n",
    "\n",
    "optb = OptimalBinning(name='ratio_shops_size_credit_size_3M', dtype=\"numerical\", max_n_prebins=4, monotonic_trend='descending',special_codes=[0])\n",
    "optb.fit(Xt, yt)  \n",
    "\n",
    "Xt_binned = optb.transform(Xt)\n",
    "\n",
    "ob_ratio_shops_size_credit_size_3M = optb.binning_table.build()\n",
    "\n",
    "optb.binning_table.plot(metric=\"event_rate\")"
   ]
  },
  {
   "cell_type": "code",
   "execution_count": 41,
   "metadata": {},
   "outputs": [
    {
     "data": {
      "text/html": [
       "<div>\n",
       "<style scoped>\n",
       "    .dataframe tbody tr th:only-of-type {\n",
       "        vertical-align: middle;\n",
       "    }\n",
       "\n",
       "    .dataframe tbody tr th {\n",
       "        vertical-align: top;\n",
       "    }\n",
       "\n",
       "    .dataframe thead th {\n",
       "        text-align: right;\n",
       "    }\n",
       "</style>\n",
       "<table border=\"1\" class=\"dataframe\">\n",
       "  <thead>\n",
       "    <tr style=\"text-align: right;\">\n",
       "      <th></th>\n",
       "      <th>Bin</th>\n",
       "      <th>Count</th>\n",
       "      <th>Count (%)</th>\n",
       "      <th>Non-event</th>\n",
       "      <th>Event</th>\n",
       "      <th>Event rate</th>\n",
       "      <th>WoE</th>\n",
       "      <th>IV</th>\n",
       "      <th>JS</th>\n",
       "    </tr>\n",
       "  </thead>\n",
       "  <tbody>\n",
       "    <tr>\n",
       "      <th>0</th>\n",
       "      <td>(-inf, 0.86)</td>\n",
       "      <td>123</td>\n",
       "      <td>0.276404</td>\n",
       "      <td>84</td>\n",
       "      <td>39</td>\n",
       "      <td>0.317073</td>\n",
       "      <td>-0.577424</td>\n",
       "      <td>0.107374</td>\n",
       "      <td>0.013238</td>\n",
       "    </tr>\n",
       "    <tr>\n",
       "      <th>1</th>\n",
       "      <td>[0.86, inf)</td>\n",
       "      <td>72</td>\n",
       "      <td>0.161798</td>\n",
       "      <td>62</td>\n",
       "      <td>10</td>\n",
       "      <td>0.138889</td>\n",
       "      <td>0.47987</td>\n",
       "      <td>0.032123</td>\n",
       "      <td>0.003977</td>\n",
       "    </tr>\n",
       "    <tr>\n",
       "      <th>2</th>\n",
       "      <td>Special</td>\n",
       "      <td>250</td>\n",
       "      <td>0.561798</td>\n",
       "      <td>207</td>\n",
       "      <td>43</td>\n",
       "      <td>0.172000</td>\n",
       "      <td>0.226839</td>\n",
       "      <td>0.026996</td>\n",
       "      <td>0.003367</td>\n",
       "    </tr>\n",
       "    <tr>\n",
       "      <th>3</th>\n",
       "      <td>Missing</td>\n",
       "      <td>0</td>\n",
       "      <td>0.000000</td>\n",
       "      <td>0</td>\n",
       "      <td>0</td>\n",
       "      <td>0.000000</td>\n",
       "      <td>0.0</td>\n",
       "      <td>0.000000</td>\n",
       "      <td>0.000000</td>\n",
       "    </tr>\n",
       "    <tr>\n",
       "      <th>Totals</th>\n",
       "      <td></td>\n",
       "      <td>445</td>\n",
       "      <td>1.000000</td>\n",
       "      <td>353</td>\n",
       "      <td>92</td>\n",
       "      <td>0.206742</td>\n",
       "      <td></td>\n",
       "      <td>0.166493</td>\n",
       "      <td>0.020583</td>\n",
       "    </tr>\n",
       "  </tbody>\n",
       "</table>\n",
       "</div>"
      ],
      "text/plain": [
       "                 Bin  Count  Count (%)  Non-event  Event  Event rate  \\\n",
       "0       (-inf, 0.86)    123   0.276404         84     39    0.317073   \n",
       "1        [0.86, inf)     72   0.161798         62     10    0.138889   \n",
       "2            Special    250   0.561798        207     43    0.172000   \n",
       "3            Missing      0   0.000000          0      0    0.000000   \n",
       "Totals                  445   1.000000        353     92    0.206742   \n",
       "\n",
       "             WoE        IV        JS  \n",
       "0      -0.577424  0.107374  0.013238  \n",
       "1        0.47987  0.032123  0.003977  \n",
       "2       0.226839  0.026996  0.003367  \n",
       "3            0.0  0.000000  0.000000  \n",
       "Totals            0.166493  0.020583  "
      ]
     },
     "execution_count": 41,
     "metadata": {},
     "output_type": "execute_result"
    }
   ],
   "source": [
    "ob_ratio_shops_size_credit_size_3M"
   ]
  },
  {
   "cell_type": "code",
   "execution_count": 42,
   "metadata": {},
   "outputs": [],
   "source": [
    "# 7\n",
    "# transform\n",
    "col         = 'ratio_shops_size_credit_size_3M'\n",
    "conditions  = [ transformed_vars[col] <= 0,\n",
    "                (transformed_vars[col] > 0 ) & (transformed_vars[col] < 0.86),\n",
    "                transformed_vars[col] >= 0.86 ]\n",
    "\n",
    "choices     = [0.226839,-0.577424,0.47987]\n",
    "    \n",
    "transformed_vars[\"ratio_shops_size_credit_size_3M\"] = np.select(conditions, choices, default=np.nan)"
   ]
  },
  {
   "cell_type": "code",
   "execution_count": 43,
   "metadata": {},
   "outputs": [
    {
     "data": {
      "image/png": "[encoded data removed]",
      "text/plain": [
       "<Figure size 640x480 with 2 Axes>"
      ]
     },
     "metadata": {},
     "output_type": "display_data"
    }
   ],
   "source": [
    "# 8\n",
    "Xt= df_temp['sum_credits_grt_500_6M']\n",
    "yt = df_temp['target'].astype(int)\n",
    "\n",
    "optb = OptimalBinning(name='sum_credits_grt_500_6M', dtype=\"numerical\", max_n_prebins=2, monotonic_trend='descending')\n",
    "optb.fit(Xt, yt)  \n",
    "\n",
    "Xt_binned = optb.transform(Xt)\n",
    "\n",
    "ob_sum_credits_grt_500_6M = optb.binning_table.build()\n",
    "\n",
    "optb.binning_table.plot(metric=\"event_rate\")"
   ]
  },
  {
   "cell_type": "code",
   "execution_count": 44,
   "metadata": {},
   "outputs": [
    {
     "data": {
      "text/html": [
       "<div>\n",
       "<style scoped>\n",
       "    .dataframe tbody tr th:only-of-type {\n",
       "        vertical-align: middle;\n",
       "    }\n",
       "\n",
       "    .dataframe tbody tr th {\n",
       "        vertical-align: top;\n",
       "    }\n",
       "\n",
       "    .dataframe thead th {\n",
       "        text-align: right;\n",
       "    }\n",
       "</style>\n",
       "<table border=\"1\" class=\"dataframe\">\n",
       "  <thead>\n",
       "    <tr style=\"text-align: right;\">\n",
       "      <th></th>\n",
       "      <th>Bin</th>\n",
       "      <th>Count</th>\n",
       "      <th>Count (%)</th>\n",
       "      <th>Non-event</th>\n",
       "      <th>Event</th>\n",
       "      <th>Event rate</th>\n",
       "      <th>WoE</th>\n",
       "      <th>IV</th>\n",
       "      <th>JS</th>\n",
       "    </tr>\n",
       "  </thead>\n",
       "  <tbody>\n",
       "    <tr>\n",
       "      <th>0</th>\n",
       "      <td>(-inf, 53973.49)</td>\n",
       "      <td>276</td>\n",
       "      <td>0.620225</td>\n",
       "      <td>206</td>\n",
       "      <td>70</td>\n",
       "      <td>0.253623</td>\n",
       "      <td>-0.265299</td>\n",
       "      <td>0.047037</td>\n",
       "      <td>0.005863</td>\n",
       "    </tr>\n",
       "    <tr>\n",
       "      <th>1</th>\n",
       "      <td>[53973.49, inf)</td>\n",
       "      <td>169</td>\n",
       "      <td>0.379775</td>\n",
       "      <td>147</td>\n",
       "      <td>22</td>\n",
       "      <td>0.130178</td>\n",
       "      <td>0.554711</td>\n",
       "      <td>0.098350</td>\n",
       "      <td>0.012139</td>\n",
       "    </tr>\n",
       "    <tr>\n",
       "      <th>2</th>\n",
       "      <td>Special</td>\n",
       "      <td>0</td>\n",
       "      <td>0.000000</td>\n",
       "      <td>0</td>\n",
       "      <td>0</td>\n",
       "      <td>0.000000</td>\n",
       "      <td>0.0</td>\n",
       "      <td>0.000000</td>\n",
       "      <td>0.000000</td>\n",
       "    </tr>\n",
       "    <tr>\n",
       "      <th>3</th>\n",
       "      <td>Missing</td>\n",
       "      <td>0</td>\n",
       "      <td>0.000000</td>\n",
       "      <td>0</td>\n",
       "      <td>0</td>\n",
       "      <td>0.000000</td>\n",
       "      <td>0.0</td>\n",
       "      <td>0.000000</td>\n",
       "      <td>0.000000</td>\n",
       "    </tr>\n",
       "    <tr>\n",
       "      <th>Totals</th>\n",
       "      <td></td>\n",
       "      <td>445</td>\n",
       "      <td>1.000000</td>\n",
       "      <td>353</td>\n",
       "      <td>92</td>\n",
       "      <td>0.206742</td>\n",
       "      <td></td>\n",
       "      <td>0.145388</td>\n",
       "      <td>0.018001</td>\n",
       "    </tr>\n",
       "  </tbody>\n",
       "</table>\n",
       "</div>"
      ],
      "text/plain": [
       "                     Bin  Count  Count (%)  Non-event  Event  Event rate  \\\n",
       "0       (-inf, 53973.49)    276   0.620225        206     70    0.253623   \n",
       "1        [53973.49, inf)    169   0.379775        147     22    0.130178   \n",
       "2                Special      0   0.000000          0      0    0.000000   \n",
       "3                Missing      0   0.000000          0      0    0.000000   \n",
       "Totals                      445   1.000000        353     92    0.206742   \n",
       "\n",
       "             WoE        IV        JS  \n",
       "0      -0.265299  0.047037  0.005863  \n",
       "1       0.554711  0.098350  0.012139  \n",
       "2            0.0  0.000000  0.000000  \n",
       "3            0.0  0.000000  0.000000  \n",
       "Totals            0.145388  0.018001  "
      ]
     },
     "execution_count": 44,
     "metadata": {},
     "output_type": "execute_result"
    }
   ],
   "source": [
    "ob_sum_credits_grt_500_6M"
   ]
  },
  {
   "cell_type": "code",
   "execution_count": 45,
   "metadata": {},
   "outputs": [],
   "source": [
    "# 8\n",
    "# transform\n",
    "col         = 'sum_credits_grt_500_6M'\n",
    "conditions  = [ transformed_vars[col] < 53973.5,\n",
    "                transformed_vars[col] >= 53973.5 ]\n",
    "\n",
    "choices     = [-0.265299,0.554711]\n",
    "    \n",
    "transformed_vars[\"sum_credits_grt_500_6M\"] = np.select(conditions, choices, default=np.nan)"
   ]
  },
  {
   "cell_type": "code",
   "execution_count": 69,
   "metadata": {},
   "outputs": [
    {
     "data": {
      "image/png": "[encoded data removed]",
      "text/plain": [
       "<Figure size 640x480 with 2 Axes>"
      ]
     },
     "metadata": {},
     "output_type": "display_data"
    }
   ],
   "source": [
    "# 9\n",
    "Xt= df_temp['ratio_amt_credits_less_100_credits_grt_500_3M']\n",
    "yt = df_temp['target'].astype(int)\n",
    "\n",
    "optb = OptimalBinning(name='ratio_amt_credits_less_100_credits_grt_500_3M', dtype=\"numerical\", max_n_prebins=2, monotonic_trend='descending',special_codes=[0])\n",
    "optb.fit(Xt, yt)  \n",
    "\n",
    "Xt_binned = optb.transform(Xt)\n",
    "\n",
    "ob_ratio_amt_credits_less_100_credits_grt_500_3M = optb.binning_table.build()\n",
    "\n",
    "optb.binning_table.plot(metric=\"event_rate\")"
   ]
  },
  {
   "cell_type": "code",
   "execution_count": 70,
   "metadata": {},
   "outputs": [
    {
     "data": {
      "text/html": [
       "<div>\n",
       "<style scoped>\n",
       "    .dataframe tbody tr th:only-of-type {\n",
       "        vertical-align: middle;\n",
       "    }\n",
       "\n",
       "    .dataframe tbody tr th {\n",
       "        vertical-align: top;\n",
       "    }\n",
       "\n",
       "    .dataframe thead th {\n",
       "        text-align: right;\n",
       "    }\n",
       "</style>\n",
       "<table border=\"1\" class=\"dataframe\">\n",
       "  <thead>\n",
       "    <tr style=\"text-align: right;\">\n",
       "      <th></th>\n",
       "      <th>Bin</th>\n",
       "      <th>Count</th>\n",
       "      <th>Count (%)</th>\n",
       "      <th>Non-event</th>\n",
       "      <th>Event</th>\n",
       "      <th>Event rate</th>\n",
       "      <th>WoE</th>\n",
       "      <th>IV</th>\n",
       "      <th>JS</th>\n",
       "    </tr>\n",
       "  </thead>\n",
       "  <tbody>\n",
       "    <tr>\n",
       "      <th>0</th>\n",
       "      <td>(-inf, inf)</td>\n",
       "      <td>346</td>\n",
       "      <td>0.777528</td>\n",
       "      <td>273</td>\n",
       "      <td>73</td>\n",
       "      <td>0.210983</td>\n",
       "      <td>-0.025667</td>\n",
       "      <td>0.000516</td>\n",
       "      <td>0.000065</td>\n",
       "    </tr>\n",
       "    <tr>\n",
       "      <th>1</th>\n",
       "      <td>Special</td>\n",
       "      <td>99</td>\n",
       "      <td>0.222472</td>\n",
       "      <td>80</td>\n",
       "      <td>19</td>\n",
       "      <td>0.191919</td>\n",
       "      <td>0.092908</td>\n",
       "      <td>0.001868</td>\n",
       "      <td>0.000233</td>\n",
       "    </tr>\n",
       "    <tr>\n",
       "      <th>2</th>\n",
       "      <td>Missing</td>\n",
       "      <td>0</td>\n",
       "      <td>0.000000</td>\n",
       "      <td>0</td>\n",
       "      <td>0</td>\n",
       "      <td>0.000000</td>\n",
       "      <td>0.0</td>\n",
       "      <td>0.000000</td>\n",
       "      <td>0.000000</td>\n",
       "    </tr>\n",
       "    <tr>\n",
       "      <th>Totals</th>\n",
       "      <td></td>\n",
       "      <td>445</td>\n",
       "      <td>1.000000</td>\n",
       "      <td>353</td>\n",
       "      <td>92</td>\n",
       "      <td>0.206742</td>\n",
       "      <td></td>\n",
       "      <td>0.002384</td>\n",
       "      <td>0.000298</td>\n",
       "    </tr>\n",
       "  </tbody>\n",
       "</table>\n",
       "</div>"
      ],
      "text/plain": [
       "                Bin  Count  Count (%)  Non-event  Event  Event rate       WoE  \\\n",
       "0       (-inf, inf)    346   0.777528        273     73    0.210983 -0.025667   \n",
       "1           Special     99   0.222472         80     19    0.191919  0.092908   \n",
       "2           Missing      0   0.000000          0      0    0.000000       0.0   \n",
       "Totals                 445   1.000000        353     92    0.206742             \n",
       "\n",
       "              IV        JS  \n",
       "0       0.000516  0.000065  \n",
       "1       0.001868  0.000233  \n",
       "2       0.000000  0.000000  \n",
       "Totals  0.002384  0.000298  "
      ]
     },
     "execution_count": 70,
     "metadata": {},
     "output_type": "execute_result"
    }
   ],
   "source": [
    "ob_ratio_amt_credits_less_100_credits_grt_500_3M"
   ]
  },
  {
   "cell_type": "code",
   "execution_count": 48,
   "metadata": {},
   "outputs": [],
   "source": [
    "# 9\n",
    "# transform\n",
    "col         = 'ratio_amt_credits_less_100_credits_grt_500_3M'\n",
    "conditions  = [ transformed_vars[col] <= 0,\n",
    "                transformed_vars[col] > 0 ]\n",
    "\n",
    "choices     = [0.092908,-0.025667]\n",
    "    \n",
    "transformed_vars[\"ratio_amt_credits_less_100_credits_grt_500_3M\"] = np.select(conditions, choices, default=np.nan)"
   ]
  },
  {
   "cell_type": "code",
   "execution_count": 49,
   "metadata": {},
   "outputs": [
    {
     "data": {
      "image/png": "[encoded data removed]",
      "text/plain": [
       "<Figure size 640x480 with 2 Axes>"
      ]
     },
     "metadata": {},
     "output_type": "display_data"
    }
   ],
   "source": [
    "# 10\n",
    "Xt= df_temp['ratio_amt_credits_grt_500_credits_grt_1500_6M']\n",
    "yt = df_temp['target'].astype(int)\n",
    "\n",
    "optb = OptimalBinning(name='ratio_amt_credits_grt_500_credits_grt_1500_6M', dtype=\"numerical\", max_n_prebins=4, monotonic_trend='descending')\n",
    "optb.fit(Xt, yt)  \n",
    "\n",
    "Xt_binned = optb.transform(Xt)\n",
    "\n",
    "ob_ratio_amt_credits_grt_500_credits_grt_1500_6M = optb.binning_table.build()\n",
    "\n",
    "optb.binning_table.plot(metric=\"event_rate\")"
   ]
  },
  {
   "cell_type": "code",
   "execution_count": 50,
   "metadata": {},
   "outputs": [
    {
     "data": {
      "text/html": [
       "<div>\n",
       "<style scoped>\n",
       "    .dataframe tbody tr th:only-of-type {\n",
       "        vertical-align: middle;\n",
       "    }\n",
       "\n",
       "    .dataframe tbody tr th {\n",
       "        vertical-align: top;\n",
       "    }\n",
       "\n",
       "    .dataframe thead th {\n",
       "        text-align: right;\n",
       "    }\n",
       "</style>\n",
       "<table border=\"1\" class=\"dataframe\">\n",
       "  <thead>\n",
       "    <tr style=\"text-align: right;\">\n",
       "      <th></th>\n",
       "      <th>Bin</th>\n",
       "      <th>Count</th>\n",
       "      <th>Count (%)</th>\n",
       "      <th>Non-event</th>\n",
       "      <th>Event</th>\n",
       "      <th>Event rate</th>\n",
       "      <th>WoE</th>\n",
       "      <th>IV</th>\n",
       "      <th>JS</th>\n",
       "    </tr>\n",
       "  </thead>\n",
       "  <tbody>\n",
       "    <tr>\n",
       "      <th>0</th>\n",
       "      <td>(-inf, 1.00)</td>\n",
       "      <td>75</td>\n",
       "      <td>0.168539</td>\n",
       "      <td>55</td>\n",
       "      <td>20</td>\n",
       "      <td>0.266667</td>\n",
       "      <td>-0.333079</td>\n",
       "      <td>0.020512</td>\n",
       "      <td>0.002552</td>\n",
       "    </tr>\n",
       "    <tr>\n",
       "      <th>1</th>\n",
       "      <td>[1.00, inf)</td>\n",
       "      <td>370</td>\n",
       "      <td>0.831461</td>\n",
       "      <td>298</td>\n",
       "      <td>72</td>\n",
       "      <td>0.194595</td>\n",
       "      <td>0.075748</td>\n",
       "      <td>0.004665</td>\n",
       "      <td>0.000583</td>\n",
       "    </tr>\n",
       "    <tr>\n",
       "      <th>2</th>\n",
       "      <td>Special</td>\n",
       "      <td>0</td>\n",
       "      <td>0.000000</td>\n",
       "      <td>0</td>\n",
       "      <td>0</td>\n",
       "      <td>0.000000</td>\n",
       "      <td>0.0</td>\n",
       "      <td>0.000000</td>\n",
       "      <td>0.000000</td>\n",
       "    </tr>\n",
       "    <tr>\n",
       "      <th>3</th>\n",
       "      <td>Missing</td>\n",
       "      <td>0</td>\n",
       "      <td>0.000000</td>\n",
       "      <td>0</td>\n",
       "      <td>0</td>\n",
       "      <td>0.000000</td>\n",
       "      <td>0.0</td>\n",
       "      <td>0.000000</td>\n",
       "      <td>0.000000</td>\n",
       "    </tr>\n",
       "    <tr>\n",
       "      <th>Totals</th>\n",
       "      <td></td>\n",
       "      <td>445</td>\n",
       "      <td>1.000000</td>\n",
       "      <td>353</td>\n",
       "      <td>92</td>\n",
       "      <td>0.206742</td>\n",
       "      <td></td>\n",
       "      <td>0.025177</td>\n",
       "      <td>0.003135</td>\n",
       "    </tr>\n",
       "  </tbody>\n",
       "</table>\n",
       "</div>"
      ],
      "text/plain": [
       "                 Bin  Count  Count (%)  Non-event  Event  Event rate  \\\n",
       "0       (-inf, 1.00)     75   0.168539         55     20    0.266667   \n",
       "1        [1.00, inf)    370   0.831461        298     72    0.194595   \n",
       "2            Special      0   0.000000          0      0    0.000000   \n",
       "3            Missing      0   0.000000          0      0    0.000000   \n",
       "Totals                  445   1.000000        353     92    0.206742   \n",
       "\n",
       "             WoE        IV        JS  \n",
       "0      -0.333079  0.020512  0.002552  \n",
       "1       0.075748  0.004665  0.000583  \n",
       "2            0.0  0.000000  0.000000  \n",
       "3            0.0  0.000000  0.000000  \n",
       "Totals            0.025177  0.003135  "
      ]
     },
     "execution_count": 50,
     "metadata": {},
     "output_type": "execute_result"
    }
   ],
   "source": [
    "ob_ratio_amt_credits_grt_500_credits_grt_1500_6M"
   ]
  },
  {
   "cell_type": "code",
   "execution_count": 51,
   "metadata": {},
   "outputs": [],
   "source": [
    "# 10\n",
    "# transform\n",
    "col         = 'ratio_amt_credits_grt_500_credits_grt_1500_6M'\n",
    "conditions  = [ transformed_vars[col] < 1,\n",
    "                transformed_vars[col] >= 1 ]\n",
    "\n",
    "choices     = [-0.333079,0.075748]\n",
    "    \n",
    "transformed_vars[\"ratio_amt_credits_grt_500_credits_grt_1500_6M\"] = np.select(conditions, choices, default=np.nan)"
   ]
  },
  {
   "cell_type": "code",
   "execution_count": 52,
   "metadata": {},
   "outputs": [
    {
     "data": {
      "text/html": [
       "<div>\n",
       "<style scoped>\n",
       "    .dataframe tbody tr th:only-of-type {\n",
       "        vertical-align: middle;\n",
       "    }\n",
       "\n",
       "    .dataframe tbody tr th {\n",
       "        vertical-align: top;\n",
       "    }\n",
       "\n",
       "    .dataframe thead th {\n",
       "        text-align: right;\n",
       "    }\n",
       "</style>\n",
       "<table border=\"1\" class=\"dataframe\">\n",
       "  <thead>\n",
       "    <tr style=\"text-align: right;\">\n",
       "      <th></th>\n",
       "      <th>median_credit_amt_6M</th>\n",
       "      <th>loans_count_6M</th>\n",
       "      <th>pos_count_3M</th>\n",
       "      <th>median_third_party_amt_3M</th>\n",
       "      <th>ratio_median_third_party_amt_3M_6M</th>\n",
       "      <th>ratio_pos_size_credit_size_1M</th>\n",
       "      <th>ratio_shops_size_credit_size_3M</th>\n",
       "      <th>sum_credits_grt_500_6M</th>\n",
       "      <th>ratio_amt_credits_less_100_credits_grt_500_3M</th>\n",
       "      <th>ratio_amt_credits_grt_500_credits_grt_1500_6M</th>\n",
       "    </tr>\n",
       "  </thead>\n",
       "  <tbody>\n",
       "    <tr>\n",
       "      <th>408</th>\n",
       "      <td>0.225280</td>\n",
       "      <td>0.081260</td>\n",
       "      <td>0.201958</td>\n",
       "      <td>0.313549</td>\n",
       "      <td>-0.074457</td>\n",
       "      <td>-0.129343</td>\n",
       "      <td>0.226839</td>\n",
       "      <td>-0.265299</td>\n",
       "      <td>0.092908</td>\n",
       "      <td>-0.333079</td>\n",
       "    </tr>\n",
       "    <tr>\n",
       "      <th>108</th>\n",
       "      <td>0.225280</td>\n",
       "      <td>0.081260</td>\n",
       "      <td>0.201958</td>\n",
       "      <td>-0.633183</td>\n",
       "      <td>-0.074457</td>\n",
       "      <td>-0.129343</td>\n",
       "      <td>-0.577424</td>\n",
       "      <td>-0.265299</td>\n",
       "      <td>-0.025667</td>\n",
       "      <td>0.075748</td>\n",
       "    </tr>\n",
       "    <tr>\n",
       "      <th>613</th>\n",
       "      <td>-0.738544</td>\n",
       "      <td>0.081260</td>\n",
       "      <td>-0.253340</td>\n",
       "      <td>-0.633183</td>\n",
       "      <td>-0.074457</td>\n",
       "      <td>-0.129343</td>\n",
       "      <td>0.226839</td>\n",
       "      <td>-0.265299</td>\n",
       "      <td>-0.025667</td>\n",
       "      <td>0.075748</td>\n",
       "    </tr>\n",
       "    <tr>\n",
       "      <th>101</th>\n",
       "      <td>-0.738544</td>\n",
       "      <td>0.081260</td>\n",
       "      <td>0.201958</td>\n",
       "      <td>-0.633183</td>\n",
       "      <td>-0.074457</td>\n",
       "      <td>0.326452</td>\n",
       "      <td>-0.577424</td>\n",
       "      <td>-0.265299</td>\n",
       "      <td>-0.025667</td>\n",
       "      <td>0.075748</td>\n",
       "    </tr>\n",
       "    <tr>\n",
       "      <th>484</th>\n",
       "      <td>0.225280</td>\n",
       "      <td>-0.274238</td>\n",
       "      <td>-0.253340</td>\n",
       "      <td>-0.199547</td>\n",
       "      <td>-0.074457</td>\n",
       "      <td>-0.129343</td>\n",
       "      <td>0.226839</td>\n",
       "      <td>0.554711</td>\n",
       "      <td>0.092908</td>\n",
       "      <td>0.075748</td>\n",
       "    </tr>\n",
       "    <tr>\n",
       "      <th>...</th>\n",
       "      <td>...</td>\n",
       "      <td>...</td>\n",
       "      <td>...</td>\n",
       "      <td>...</td>\n",
       "      <td>...</td>\n",
       "      <td>...</td>\n",
       "      <td>...</td>\n",
       "      <td>...</td>\n",
       "      <td>...</td>\n",
       "      <td>...</td>\n",
       "    </tr>\n",
       "    <tr>\n",
       "      <th>170</th>\n",
       "      <td>0.225280</td>\n",
       "      <td>0.081260</td>\n",
       "      <td>0.201958</td>\n",
       "      <td>-0.199547</td>\n",
       "      <td>0.243481</td>\n",
       "      <td>-0.129343</td>\n",
       "      <td>-0.577424</td>\n",
       "      <td>-0.265299</td>\n",
       "      <td>-0.025667</td>\n",
       "      <td>0.075748</td>\n",
       "    </tr>\n",
       "    <tr>\n",
       "      <th>157</th>\n",
       "      <td>0.225280</td>\n",
       "      <td>0.081260</td>\n",
       "      <td>0.201958</td>\n",
       "      <td>-0.633183</td>\n",
       "      <td>-0.074457</td>\n",
       "      <td>-0.129343</td>\n",
       "      <td>-0.577424</td>\n",
       "      <td>0.554711</td>\n",
       "      <td>-0.025667</td>\n",
       "      <td>0.075748</td>\n",
       "    </tr>\n",
       "    <tr>\n",
       "      <th>36</th>\n",
       "      <td>0.225280</td>\n",
       "      <td>-0.274238</td>\n",
       "      <td>-0.253340</td>\n",
       "      <td>0.313549</td>\n",
       "      <td>-0.074457</td>\n",
       "      <td>-0.129343</td>\n",
       "      <td>0.226839</td>\n",
       "      <td>-0.265299</td>\n",
       "      <td>-0.025667</td>\n",
       "      <td>0.075748</td>\n",
       "    </tr>\n",
       "    <tr>\n",
       "      <th>5</th>\n",
       "      <td>-0.738544</td>\n",
       "      <td>-0.274238</td>\n",
       "      <td>0.201958</td>\n",
       "      <td>-0.633183</td>\n",
       "      <td>-0.074457</td>\n",
       "      <td>-0.129343</td>\n",
       "      <td>-0.577424</td>\n",
       "      <td>-0.265299</td>\n",
       "      <td>-0.025667</td>\n",
       "      <td>0.075748</td>\n",
       "    </tr>\n",
       "    <tr>\n",
       "      <th>475</th>\n",
       "      <td>0.225280</td>\n",
       "      <td>0.081260</td>\n",
       "      <td>0.201958</td>\n",
       "      <td>-0.199547</td>\n",
       "      <td>-0.074457</td>\n",
       "      <td>-0.129343</td>\n",
       "      <td>0.226839</td>\n",
       "      <td>-0.265299</td>\n",
       "      <td>-0.025667</td>\n",
       "      <td>0.075748</td>\n",
       "    </tr>\n",
       "  </tbody>\n",
       "</table>\n",
       "<p>445 rows × 10 columns</p>\n",
       "</div>"
      ],
      "text/plain": [
       "     median_credit_amt_6M  loans_count_6M  pos_count_3M  \\\n",
       "408              0.225280        0.081260      0.201958   \n",
       "108              0.225280        0.081260      0.201958   \n",
       "613             -0.738544        0.081260     -0.253340   \n",
       "101             -0.738544        0.081260      0.201958   \n",
       "484              0.225280       -0.274238     -0.253340   \n",
       "..                    ...             ...           ...   \n",
       "170              0.225280        0.081260      0.201958   \n",
       "157              0.225280        0.081260      0.201958   \n",
       "36               0.225280       -0.274238     -0.253340   \n",
       "5               -0.738544       -0.274238      0.201958   \n",
       "475              0.225280        0.081260      0.201958   \n",
       "\n",
       "     median_third_party_amt_3M  ratio_median_third_party_amt_3M_6M  \\\n",
       "408                   0.313549                           -0.074457   \n",
       "108                  -0.633183                           -0.074457   \n",
       "613                  -0.633183                           -0.074457   \n",
       "101                  -0.633183                           -0.074457   \n",
       "484                  -0.199547                           -0.074457   \n",
       "..                         ...                                 ...   \n",
       "170                  -0.199547                            0.243481   \n",
       "157                  -0.633183                           -0.074457   \n",
       "36                    0.313549                           -0.074457   \n",
       "5                    -0.633183                           -0.074457   \n",
       "475                  -0.199547                           -0.074457   \n",
       "\n",
       "     ratio_pos_size_credit_size_1M  ratio_shops_size_credit_size_3M  \\\n",
       "408                      -0.129343                         0.226839   \n",
       "108                      -0.129343                        -0.577424   \n",
       "613                      -0.129343                         0.226839   \n",
       "101                       0.326452                        -0.577424   \n",
       "484                      -0.129343                         0.226839   \n",
       "..                             ...                              ...   \n",
       "170                      -0.129343                        -0.577424   \n",
       "157                      -0.129343                        -0.577424   \n",
       "36                       -0.129343                         0.226839   \n",
       "5                        -0.129343                        -0.577424   \n",
       "475                      -0.129343                         0.226839   \n",
       "\n",
       "     sum_credits_grt_500_6M  ratio_amt_credits_less_100_credits_grt_500_3M  \\\n",
       "408               -0.265299                                       0.092908   \n",
       "108               -0.265299                                      -0.025667   \n",
       "613               -0.265299                                      -0.025667   \n",
       "101               -0.265299                                      -0.025667   \n",
       "484                0.554711                                       0.092908   \n",
       "..                      ...                                            ...   \n",
       "170               -0.265299                                      -0.025667   \n",
       "157                0.554711                                      -0.025667   \n",
       "36                -0.265299                                      -0.025667   \n",
       "5                 -0.265299                                      -0.025667   \n",
       "475               -0.265299                                      -0.025667   \n",
       "\n",
       "     ratio_amt_credits_grt_500_credits_grt_1500_6M  \n",
       "408                                      -0.333079  \n",
       "108                                       0.075748  \n",
       "613                                       0.075748  \n",
       "101                                       0.075748  \n",
       "484                                       0.075748  \n",
       "..                                             ...  \n",
       "170                                       0.075748  \n",
       "157                                       0.075748  \n",
       "36                                        0.075748  \n",
       "5                                         0.075748  \n",
       "475                                       0.075748  \n",
       "\n",
       "[445 rows x 10 columns]"
      ]
     },
     "execution_count": 52,
     "metadata": {},
     "output_type": "execute_result"
    }
   ],
   "source": [
    "transformed_vars"
   ]
  },
  {
   "cell_type": "markdown",
   "metadata": {},
   "source": [
    "#### Model fitting"
   ]
  },
  {
   "cell_type": "code",
   "execution_count": 53,
   "metadata": {},
   "outputs": [],
   "source": [
    "# copy vars\n",
    "X_train = transformed_vars.copy()\n",
    "\n",
    "# hyperparameters\n",
    "params_log_reg = {'penalty': 'l2',\n",
    "                  'random_state': seed,\n",
    "                  'solver': 'liblinear',\n",
    "                  'class_weight': 'balanced'}\n",
    "\n",
    "# model fit\n",
    "logreg_model = classification_models(X_train[feat_list], y_train, params_log_reg, models=['log_reg'])"
   ]
  },
  {
   "cell_type": "code",
   "execution_count": 54,
   "metadata": {},
   "outputs": [
    {
     "name": "stdout",
     "output_type": "stream",
     "text": [
      "CV Scores - [0.74 0.74 0.62]\n",
      "Mean of CV Scores - 0.7\n"
     ]
    }
   ],
   "source": [
    "# train cv scores\n",
    "cv_scores = cross_validation(logreg_model, X_train[feat_list], y_train, scoring='roc_auc', folds=3, seed=seed)\n",
    "print('CV Scores -',np.round(cv_scores, 2))\n",
    "print('Mean of CV Scores -',np.round(np.mean(cv_scores),2))"
   ]
  },
  {
   "cell_type": "code",
   "execution_count": 55,
   "metadata": {},
   "outputs": [
    {
     "data": {
      "application/vnd.plotly.v1+json": {
       "config": {
        "plotlyServerURL": "https://plot.ly"
       },
       "data": [
        {
         "alignmentgroup": "True",
         "hovertemplate": "variable=importance<br>value=%{x}<br>index=%{y}<extra></extra>",
         "legendgroup": "importance",
         "marker": {
          "color": "#636efa",
          "pattern": {
           "shape": ""
          }
         },
         "name": "importance",
         "offsetgroup": "importance",
         "orientation": "h",
         "showlegend": true,
         "textposition": "auto",
         "type": "bar",
         "x": [
          -0.5137026700592672,
          -0.8405197792577942,
          -1.2939375671891848,
          -1.0049855124366536,
          0.08638851866509832,
          -0.6026145912466481,
          -0.9900746420019318,
          -0.7109471630922428,
          -0.09384485316297844,
          0.013271495801257529
         ],
         "xaxis": "x",
         "y": [
          "median_credit_amt_6M",
          "loans_count_6M",
          "pos_count_3M",
          "median_third_party_amt_3M",
          "ratio_median_third_party_amt_3M_6M",
          "ratio_pos_size_credit_size_1M",
          "ratio_shops_size_credit_size_3M",
          "sum_credits_grt_500_6M",
          "ratio_amt_credits_less_100_credits_grt_500_3M",
          "ratio_amt_credits_grt_500_credits_grt_1500_6M"
         ],
         "yaxis": "y"
        }
       ],
       "layout": {
        "barmode": "relative",
        "height": 500,
        "legend": {
         "title": {
          "text": "variable"
         },
         "tracegroupgap": 0
        },
        "margin": {
         "t": 60
        },
        "template": {
         "data": {
          "bar": [
           {
            "error_x": {
             "color": "#2a3f5f"
            },
            "error_y": {
             "color": "#2a3f5f"
            },
            "marker": {
             "line": {
              "color": "#E5ECF6",
              "width": 0.5
             },
             "pattern": {
              "fillmode": "overlay",
              "size": 10,
              "solidity": 0.2
             }
            },
            "type": "bar"
           }
          ],
          "barpolar": [
           {
            "marker": {
             "line": {
              "color": "#E5ECF6",
              "width": 0.5
             },
             "pattern": {
              "fillmode": "overlay",
              "size": 10,
              "solidity": 0.2
             }
            },
            "type": "barpolar"
           }
          ],
          "carpet": [
           {
            "aaxis": {
             "endlinecolor": "#2a3f5f",
             "gridcolor": "white",
             "linecolor": "white",
             "minorgridcolor": "white",
             "startlinecolor": "#2a3f5f"
            },
            "baxis": {
             "endlinecolor": "#2a3f5f",
             "gridcolor": "white",
             "linecolor": "white",
             "minorgridcolor": "white",
             "startlinecolor": "#2a3f5f"
            },
            "type": "carpet"
           }
          ],
          "choropleth": [
           {
            "colorbar": {
             "outlinewidth": 0,
             "ticks": ""
            },
            "type": "choropleth"
           }
          ],
          "contour": [
           {
            "colorbar": {
             "outlinewidth": 0,
             "ticks": ""
            },
            "colorscale": [
             [
              0,
              "#0d0887"
             ],
             [
              0.1111111111111111,
              "#46039f"
             ],
             [
              0.2222222222222222,
              "#7201a8"
             ],
             [
              0.3333333333333333,
              "#9c179e"
             ],
             [
              0.4444444444444444,
              "#bd3786"
             ],
             [
              0.5555555555555556,
              "#d8576b"
             ],
             [
              0.6666666666666666,
              "#ed7953"
             ],
             [
              0.7777777777777778,
              "#fb9f3a"
             ],
             [
              0.8888888888888888,
              "#fdca26"
             ],
             [
              1,
              "#f0f921"
             ]
            ],
            "type": "contour"
           }
          ],
          "contourcarpet": [
           {
            "colorbar": {
             "outlinewidth": 0,
             "ticks": ""
            },
            "type": "contourcarpet"
           }
          ],
          "heatmap": [
           {
            "colorbar": {
             "outlinewidth": 0,
             "ticks": ""
            },
            "colorscale": [
             [
              0,
              "#0d0887"
             ],
             [
              0.1111111111111111,
              "#46039f"
             ],
             [
              0.2222222222222222,
              "#7201a8"
             ],
             [
              0.3333333333333333,
              "#9c179e"
             ],
             [
              0.4444444444444444,
              "#bd3786"
             ],
             [
              0.5555555555555556,
              "#d8576b"
             ],
             [
              0.6666666666666666,
              "#ed7953"
             ],
             [
              0.7777777777777778,
              "#fb9f3a"
             ],
             [
              0.8888888888888888,
              "#fdca26"
             ],
             [
              1,
              "#f0f921"
             ]
            ],
            "type": "heatmap"
           }
          ],
          "heatmapgl": [
           {
            "colorbar": {
             "outlinewidth": 0,
             "ticks": ""
            },
            "colorscale": [
             [
              0,
              "#0d0887"
             ],
             [
              0.1111111111111111,
              "#46039f"
             ],
             [
              0.2222222222222222,
              "#7201a8"
             ],
             [
              0.3333333333333333,
              "#9c179e"
             ],
             [
              0.4444444444444444,
              "#bd3786"
             ],
             [
              0.5555555555555556,
              "#d8576b"
             ],
             [
              0.6666666666666666,
              "#ed7953"
             ],
             [
              0.7777777777777778,
              "#fb9f3a"
             ],
             [
              0.8888888888888888,
              "#fdca26"
             ],
             [
              1,
              "#f0f921"
             ]
            ],
            "type": "heatmapgl"
           }
          ],
          "histogram": [
           {
            "marker": {
             "pattern": {
              "fillmode": "overlay",
              "size": 10,
              "solidity": 0.2
             }
            },
            "type": "histogram"
           }
          ],
          "histogram2d": [
           {
            "colorbar": {
             "outlinewidth": 0,
             "ticks": ""
            },
            "colorscale": [
             [
              0,
              "#0d0887"
             ],
             [
              0.1111111111111111,
              "#46039f"
             ],
             [
              0.2222222222222222,
              "#7201a8"
             ],
             [
              0.3333333333333333,
              "#9c179e"
             ],
             [
              0.4444444444444444,
              "#bd3786"
             ],
             [
              0.5555555555555556,
              "#d8576b"
             ],
             [
              0.6666666666666666,
              "#ed7953"
             ],
             [
              0.7777777777777778,
              "#fb9f3a"
             ],
             [
              0.8888888888888888,
              "#fdca26"
             ],
             [
              1,
              "#f0f921"
             ]
            ],
            "type": "histogram2d"
           }
          ],
          "histogram2dcontour": [
           {
            "colorbar": {
             "outlinewidth": 0,
             "ticks": ""
            },
            "colorscale": [
             [
              0,
              "#0d0887"
             ],
             [
              0.1111111111111111,
              "#46039f"
             ],
             [
              0.2222222222222222,
              "#7201a8"
             ],
             [
              0.3333333333333333,
              "#9c179e"
             ],
             [
              0.4444444444444444,
              "#bd3786"
             ],
             [
              0.5555555555555556,
              "#d8576b"
             ],
             [
              0.6666666666666666,
              "#ed7953"
             ],
             [
              0.7777777777777778,
              "#fb9f3a"
             ],
             [
              0.8888888888888888,
              "#fdca26"
             ],
             [
              1,
              "#f0f921"
             ]
            ],
            "type": "histogram2dcontour"
           }
          ],
          "mesh3d": [
           {
            "colorbar": {
             "outlinewidth": 0,
             "ticks": ""
            },
            "type": "mesh3d"
           }
          ],
          "parcoords": [
           {
            "line": {
             "colorbar": {
              "outlinewidth": 0,
              "ticks": ""
             }
            },
            "type": "parcoords"
           }
          ],
          "pie": [
           {
            "automargin": true,
            "type": "pie"
           }
          ],
          "scatter": [
           {
            "fillpattern": {
             "fillmode": "overlay",
             "size": 10,
             "solidity": 0.2
            },
            "type": "scatter"
           }
          ],
          "scatter3d": [
           {
            "line": {
             "colorbar": {
              "outlinewidth": 0,
              "ticks": ""
             }
            },
            "marker": {
             "colorbar": {
              "outlinewidth": 0,
              "ticks": ""
             }
            },
            "type": "scatter3d"
           }
          ],
          "scattercarpet": [
           {
            "marker": {
             "colorbar": {
              "outlinewidth": 0,
              "ticks": ""
             }
            },
            "type": "scattercarpet"
           }
          ],
          "scattergeo": [
           {
            "marker": {
             "colorbar": {
              "outlinewidth": 0,
              "ticks": ""
             }
            },
            "type": "scattergeo"
           }
          ],
          "scattergl": [
           {
            "marker": {
             "colorbar": {
              "outlinewidth": 0,
              "ticks": ""
             }
            },
            "type": "scattergl"
           }
          ],
          "scattermapbox": [
           {
            "marker": {
             "colorbar": {
              "outlinewidth": 0,
              "ticks": ""
             }
            },
            "type": "scattermapbox"
           }
          ],
          "scatterpolar": [
           {
            "marker": {
             "colorbar": {
              "outlinewidth": 0,
              "ticks": ""
             }
            },
            "type": "scatterpolar"
           }
          ],
          "scatterpolargl": [
           {
            "marker": {
             "colorbar": {
              "outlinewidth": 0,
              "ticks": ""
             }
            },
            "type": "scatterpolargl"
           }
          ],
          "scatterternary": [
           {
            "marker": {
             "colorbar": {
              "outlinewidth": 0,
              "ticks": ""
             }
            },
            "type": "scatterternary"
           }
          ],
          "surface": [
           {
            "colorbar": {
             "outlinewidth": 0,
             "ticks": ""
            },
            "colorscale": [
             [
              0,
              "#0d0887"
             ],
             [
              0.1111111111111111,
              "#46039f"
             ],
             [
              0.2222222222222222,
              "#7201a8"
             ],
             [
              0.3333333333333333,
              "#9c179e"
             ],
             [
              0.4444444444444444,
              "#bd3786"
             ],
             [
              0.5555555555555556,
              "#d8576b"
             ],
             [
              0.6666666666666666,
              "#ed7953"
             ],
             [
              0.7777777777777778,
              "#fb9f3a"
             ],
             [
              0.8888888888888888,
              "#fdca26"
             ],
             [
              1,
              "#f0f921"
             ]
            ],
            "type": "surface"
           }
          ],
          "table": [
           {
            "cells": {
             "fill": {
              "color": "#EBF0F8"
             },
             "line": {
              "color": "white"
             }
            },
            "header": {
             "fill": {
              "color": "#C8D4E3"
             },
             "line": {
              "color": "white"
             }
            },
            "type": "table"
           }
          ]
         },
         "layout": {
          "annotationdefaults": {
           "arrowcolor": "#2a3f5f",
           "arrowhead": 0,
           "arrowwidth": 1
          },
          "autotypenumbers": "strict",
          "coloraxis": {
           "colorbar": {
            "outlinewidth": 0,
            "ticks": ""
           }
          },
          "colorscale": {
           "diverging": [
            [
             0,
             "#8e0152"
            ],
            [
             0.1,
             "#c51b7d"
            ],
            [
             0.2,
             "#de77ae"
            ],
            [
             0.3,
             "#f1b6da"
            ],
            [
             0.4,
             "#fde0ef"
            ],
            [
             0.5,
             "#f7f7f7"
            ],
            [
             0.6,
             "#e6f5d0"
            ],
            [
             0.7,
             "#b8e186"
            ],
            [
             0.8,
             "#7fbc41"
            ],
            [
             0.9,
             "#4d9221"
            ],
            [
             1,
             "#276419"
            ]
           ],
           "sequential": [
            [
             0,
             "#0d0887"
            ],
            [
             0.1111111111111111,
             "#46039f"
            ],
            [
             0.2222222222222222,
             "#7201a8"
            ],
            [
             0.3333333333333333,
             "#9c179e"
            ],
            [
             0.4444444444444444,
             "#bd3786"
            ],
            [
             0.5555555555555556,
             "#d8576b"
            ],
            [
             0.6666666666666666,
             "#ed7953"
            ],
            [
             0.7777777777777778,
             "#fb9f3a"
            ],
            [
             0.8888888888888888,
             "#fdca26"
            ],
            [
             1,
             "#f0f921"
            ]
           ],
           "sequentialminus": [
            [
             0,
             "#0d0887"
            ],
            [
             0.1111111111111111,
             "#46039f"
            ],
            [
             0.2222222222222222,
             "#7201a8"
            ],
            [
             0.3333333333333333,
             "#9c179e"
            ],
            [
             0.4444444444444444,
             "#bd3786"
            ],
            [
             0.5555555555555556,
             "#d8576b"
            ],
            [
             0.6666666666666666,
             "#ed7953"
            ],
            [
             0.7777777777777778,
             "#fb9f3a"
            ],
            [
             0.8888888888888888,
             "#fdca26"
            ],
            [
             1,
             "#f0f921"
            ]
           ]
          },
          "colorway": [
           "#636efa",
           "#EF553B",
           "#00cc96",
           "#ab63fa",
           "#FFA15A",
           "#19d3f3",
           "#FF6692",
           "#B6E880",
           "#FF97FF",
           "#FECB52"
          ],
          "font": {
           "color": "#2a3f5f"
          },
          "geo": {
           "bgcolor": "white",
           "lakecolor": "white",
           "landcolor": "#E5ECF6",
           "showlakes": true,
           "showland": true,
           "subunitcolor": "white"
          },
          "hoverlabel": {
           "align": "left"
          },
          "hovermode": "closest",
          "mapbox": {
           "style": "light"
          },
          "paper_bgcolor": "white",
          "plot_bgcolor": "#E5ECF6",
          "polar": {
           "angularaxis": {
            "gridcolor": "white",
            "linecolor": "white",
            "ticks": ""
           },
           "bgcolor": "#E5ECF6",
           "radialaxis": {
            "gridcolor": "white",
            "linecolor": "white",
            "ticks": ""
           }
          },
          "scene": {
           "xaxis": {
            "backgroundcolor": "#E5ECF6",
            "gridcolor": "white",
            "gridwidth": 2,
            "linecolor": "white",
            "showbackground": true,
            "ticks": "",
            "zerolinecolor": "white"
           },
           "yaxis": {
            "backgroundcolor": "#E5ECF6",
            "gridcolor": "white",
            "gridwidth": 2,
            "linecolor": "white",
            "showbackground": true,
            "ticks": "",
            "zerolinecolor": "white"
           },
           "zaxis": {
            "backgroundcolor": "#E5ECF6",
            "gridcolor": "white",
            "gridwidth": 2,
            "linecolor": "white",
            "showbackground": true,
            "ticks": "",
            "zerolinecolor": "white"
           }
          },
          "shapedefaults": {
           "line": {
            "color": "#2a3f5f"
           }
          },
          "ternary": {
           "aaxis": {
            "gridcolor": "white",
            "linecolor": "white",
            "ticks": ""
           },
           "baxis": {
            "gridcolor": "white",
            "linecolor": "white",
            "ticks": ""
           },
           "bgcolor": "#E5ECF6",
           "caxis": {
            "gridcolor": "white",
            "linecolor": "white",
            "ticks": ""
           }
          },
          "title": {
           "x": 0.05
          },
          "xaxis": {
           "automargin": true,
           "gridcolor": "white",
           "linecolor": "white",
           "ticks": "",
           "title": {
            "standoff": 15
           },
           "zerolinecolor": "white",
           "zerolinewidth": 2
          },
          "yaxis": {
           "automargin": true,
           "gridcolor": "white",
           "linecolor": "white",
           "ticks": "",
           "title": {
            "standoff": 15
           },
           "zerolinecolor": "white",
           "zerolinewidth": 2
          }
         }
        },
        "width": 1400,
        "xaxis": {
         "anchor": "y",
         "domain": [
          0,
          1
         ],
         "title": {
          "text": "value"
         }
        },
        "yaxis": {
         "anchor": "x",
         "categoryorder": "total ascending",
         "domain": [
          0,
          1
         ],
         "title": {
          "text": "index"
         }
        }
       }
      }
     },
     "metadata": {},
     "output_type": "display_data"
    },
    {
     "data": {
      "text/html": [
       "<div>\n",
       "<style scoped>\n",
       "    .dataframe tbody tr th:only-of-type {\n",
       "        vertical-align: middle;\n",
       "    }\n",
       "\n",
       "    .dataframe tbody tr th {\n",
       "        vertical-align: top;\n",
       "    }\n",
       "\n",
       "    .dataframe thead th {\n",
       "        text-align: right;\n",
       "    }\n",
       "</style>\n",
       "<table border=\"1\" class=\"dataframe\">\n",
       "  <thead>\n",
       "    <tr style=\"text-align: right;\">\n",
       "      <th></th>\n",
       "      <th>importance</th>\n",
       "    </tr>\n",
       "  </thead>\n",
       "  <tbody>\n",
       "    <tr>\n",
       "      <th>ratio_median_third_party_amt_3M_6M</th>\n",
       "      <td>0.086389</td>\n",
       "    </tr>\n",
       "    <tr>\n",
       "      <th>ratio_amt_credits_grt_500_credits_grt_1500_6M</th>\n",
       "      <td>0.013271</td>\n",
       "    </tr>\n",
       "    <tr>\n",
       "      <th>ratio_amt_credits_less_100_credits_grt_500_3M</th>\n",
       "      <td>-0.093845</td>\n",
       "    </tr>\n",
       "    <tr>\n",
       "      <th>median_credit_amt_6M</th>\n",
       "      <td>-0.513703</td>\n",
       "    </tr>\n",
       "    <tr>\n",
       "      <th>ratio_pos_size_credit_size_1M</th>\n",
       "      <td>-0.602615</td>\n",
       "    </tr>\n",
       "    <tr>\n",
       "      <th>sum_credits_grt_500_6M</th>\n",
       "      <td>-0.710947</td>\n",
       "    </tr>\n",
       "    <tr>\n",
       "      <th>loans_count_6M</th>\n",
       "      <td>-0.840520</td>\n",
       "    </tr>\n",
       "    <tr>\n",
       "      <th>ratio_shops_size_credit_size_3M</th>\n",
       "      <td>-0.990075</td>\n",
       "    </tr>\n",
       "    <tr>\n",
       "      <th>median_third_party_amt_3M</th>\n",
       "      <td>-1.004986</td>\n",
       "    </tr>\n",
       "    <tr>\n",
       "      <th>pos_count_3M</th>\n",
       "      <td>-1.293938</td>\n",
       "    </tr>\n",
       "  </tbody>\n",
       "</table>\n",
       "</div>"
      ],
      "text/plain": [
       "                                               importance\n",
       "ratio_median_third_party_amt_3M_6M               0.086389\n",
       "ratio_amt_credits_grt_500_credits_grt_1500_6M    0.013271\n",
       "ratio_amt_credits_less_100_credits_grt_500_3M   -0.093845\n",
       "median_credit_amt_6M                            -0.513703\n",
       "ratio_pos_size_credit_size_1M                   -0.602615\n",
       "sum_credits_grt_500_6M                          -0.710947\n",
       "loans_count_6M                                  -0.840520\n",
       "ratio_shops_size_credit_size_3M                 -0.990075\n",
       "median_third_party_amt_3M                       -1.004986\n",
       "pos_count_3M                                    -1.293938"
      ]
     },
     "execution_count": 55,
     "metadata": {},
     "output_type": "execute_result"
    }
   ],
   "source": [
    "# Feature importance\n",
    "feat_imp = feature_importance(logreg_model, X_train[feat_list], show_plot=True)\n",
    "\n",
    "feat_imp.sort_values(by='importance', ascending=False)"
   ]
  },
  {
   "cell_type": "code",
   "execution_count": 56,
   "metadata": {},
   "outputs": [],
   "source": [
    "# binning variable transform\n",
    "x_test.fillna(0, inplace=True)\n",
    "\n",
    "transformed_vars = x_test[feat_list]"
   ]
  },
  {
   "cell_type": "code",
   "execution_count": 57,
   "metadata": {},
   "outputs": [],
   "source": [
    "# 1\n",
    "# transform\n",
    "col         = 'median_credit_amt_6M'\n",
    "conditions  = [ transformed_vars[col] < 112.5,\n",
    "                transformed_vars[col] >= 112.5 ]\n",
    "\n",
    "choices     = [-0.738544,0.22528]\n",
    "    \n",
    "transformed_vars[\"median_credit_amt_6M\"] = np.select(conditions, choices, default=np.nan)\n",
    "\n",
    "# 2\n",
    "# transform\n",
    "col         = 'loans_count_6M'\n",
    "conditions  = [ transformed_vars[col] <= 0,\n",
    "                transformed_vars[col] > 0 ]\n",
    "\n",
    "choices     = [0.08126,-0.274238]\n",
    "    \n",
    "transformed_vars[\"loans_count_6M\"] = np.select(conditions, choices, default=np.nan)\n",
    "\n",
    "# 3\n",
    "# transform\n",
    "col         = 'pos_count_3M'\n",
    "conditions  = [ transformed_vars[col] <= 0, \n",
    "                transformed_vars[col] > 0 ]\n",
    "\n",
    "choices     = [-0.25334,0.201958]\n",
    "    \n",
    "transformed_vars[\"pos_count_3M\"] = np.select(conditions, choices, default=np.nan)\n",
    "\n",
    "# 4\n",
    "# transform\n",
    "col         = 'median_third_party_amt_3M'\n",
    "conditions  = [ transformed_vars[col] <= 0, \n",
    "                (transformed_vars[col] > 0 ) & (transformed_vars[col] < 99.12),\n",
    "                (transformed_vars[col] >= 99.12 ) & (transformed_vars[col] < 1092),\n",
    "                transformed_vars[col] >= 1092 ]\n",
    "\n",
    "choices     = [0.313549,-0.633183,-0.199547,1.675745]\n",
    "    \n",
    "transformed_vars[\"median_third_party_amt_3M\"] = np.select(conditions, choices, default=np.nan)\n",
    "\n",
    "# 5\n",
    "# transform\n",
    "col         = 'ratio_median_third_party_amt_3M_6M'\n",
    "conditions  = [ transformed_vars[col] < 1,\n",
    "                transformed_vars[col] >= 1]\n",
    "\n",
    "choices     = [-0.074457,0.243481]\n",
    "    \n",
    "transformed_vars[\"ratio_median_third_party_amt_3M_6M\"] = np.select(conditions, choices, default=np.nan)\n",
    "\n",
    "# 6\n",
    "# transform\n",
    "col         = 'ratio_pos_size_credit_size_1M'\n",
    "conditions  = [ transformed_vars[col] < 0.27,\n",
    "                transformed_vars[col] >= 0.27 ]\n",
    "\n",
    "choices     = [-0.129343,0.326452]\n",
    "    \n",
    "transformed_vars[\"ratio_pos_size_credit_size_1M\"] = np.select(conditions, choices, default=np.nan)\n",
    "\n",
    "# 7\n",
    "# transform\n",
    "col         = 'ratio_shops_size_credit_size_3M'\n",
    "conditions  = [ transformed_vars[col] <= 0,\n",
    "                (transformed_vars[col] > 0 ) & (transformed_vars[col] < 0.86),\n",
    "                transformed_vars[col] >= 0.86 ]\n",
    "\n",
    "choices     = [0.226839,-0.577424,0.47987]\n",
    "    \n",
    "transformed_vars[\"ratio_shops_size_credit_size_3M\"] = np.select(conditions, choices, default=np.nan)\n",
    "\n",
    "# 8\n",
    "# transform\n",
    "col         = 'sum_credits_grt_500_6M'\n",
    "conditions  = [ transformed_vars[col] < 53973.5,\n",
    "                transformed_vars[col] >= 53973.5 ]\n",
    "\n",
    "choices     = [-0.265299,0.554711]\n",
    "    \n",
    "transformed_vars[\"sum_credits_grt_500_6M\"] = np.select(conditions, choices, default=np.nan)\n",
    "\n",
    "# 9\n",
    "# transform\n",
    "col         = 'ratio_amt_credits_less_100_credits_grt_500_3M'\n",
    "conditions  = [ transformed_vars[col] <= 0,\n",
    "                transformed_vars[col] > 0 ]\n",
    "\n",
    "choices     = [0.092908,-0.025667]\n",
    "    \n",
    "transformed_vars[\"ratio_amt_credits_less_100_credits_grt_500_3M\"] = np.select(conditions, choices, default=np.nan)\n",
    "\n",
    "# 10\n",
    "# transform\n",
    "col         = 'ratio_amt_credits_grt_500_credits_grt_1500_6M'\n",
    "conditions  = [ transformed_vars[col] < 1,\n",
    "                transformed_vars[col] >= 1 ]\n",
    "\n",
    "choices     = [-0.333079,0.075748]\n",
    "    \n",
    "transformed_vars[\"ratio_amt_credits_grt_500_credits_grt_1500_6M\"] = np.select(conditions, choices, default=np.nan)"
   ]
  },
  {
   "cell_type": "code",
   "execution_count": 58,
   "metadata": {},
   "outputs": [],
   "source": [
    "# copy\n",
    "X_test = transformed_vars.copy()"
   ]
  },
  {
   "cell_type": "code",
   "execution_count": 59,
   "metadata": {},
   "outputs": [
    {
     "name": "stdout",
     "output_type": "stream",
     "text": [
      "CV Scores - [0.51 0.58 0.54]\n",
      "Mean of CV Scores - 0.54\n"
     ]
    }
   ],
   "source": [
    "# test cv scores\n",
    "cv_scores = cross_validation(logreg_model, X_test[feat_list], y_test, scoring='roc_auc', folds=3, seed=seed)\n",
    "print('CV Scores -',np.round(cv_scores, 2))\n",
    "print('Mean of CV Scores -',np.round(np.mean(cv_scores),2))"
   ]
  },
  {
   "cell_type": "code",
   "execution_count": 60,
   "metadata": {},
   "outputs": [],
   "source": [
    "## Model Evaluation - KS & ROC AUC\n",
    "\n",
    "def ks(target=None, prob=None):\n",
    "    data = pd.DataFrame()\n",
    "    data['y'] = target\n",
    "    data['y'] = data['y'].astype(float)\n",
    "    data['p'] = prob\n",
    "    data['y0'] = 1- data['y']\n",
    "    data['bucket'] = pd.qcut(data['p'], 5)\n",
    "    grouped = data.groupby('bucket', as_index=False)\n",
    "    kstable = pd.DataFrame()\n",
    "    kstable['min_prob'] = grouped.min()['p']\n",
    "    kstable['max_prob'] = grouped.max()['p']\n",
    "    kstable['events'] = grouped.sum()['y']\n",
    "    kstable['nonevents'] = grouped.sum()['y0']\n",
    "    kstable = kstable.sort_values(by='min_prob', ascending=False).reset_index(drop=True)\n",
    "    kstable['event_rate'] = (kstable.events / data['y'].sum()).apply('{0:.2%}'.format)\n",
    "    kstable['nonevent_rate'] = (kstable['nonevents'] /  data['y0'].sum()).apply('{0:2%}'.format)\n",
    "    kstable['cum_eventrate'] = (kstable.events / data['y'].sum()).cumsum()\n",
    "    kstable['cum_noneventrate'] = (kstable.nonevents / data['y0'].sum()).cumsum()\n",
    "    kstable['KS'] = np.round(kstable['cum_eventrate'] - kstable['cum_noneventrate'], 3) * 100\n",
    "    kstable['bad_rate'] = (kstable['events'] / (kstable['events'] + kstable['nonevents'])) * 100\n",
    "    \n",
    "    # formatting\n",
    "    kstable['cum_eventrate'] = kstable['cum_eventrate'].apply('{0:.2%}'.format)\n",
    "    kstable['cum_noneventrate'] = kstable['cum_noneventrate'].apply('{0:.2%}'.format)\n",
    "    kstable.index = range(1,6)\n",
    "    kstable.index.rename('Decile', inplace=True)\n",
    "    pd.set_option('display.max_columns', 9)\n",
    "    print(kstable)\n",
    "    \n",
    "    # Display KS\n",
    "    print(\"KS is \" + str(max(kstable['KS']))+\"%\"+ \" at decile \" + str((kstable.index[kstable['KS']==max(kstable['KS'])][0])))\n",
    "    return kstable"
   ]
  },
  {
   "cell_type": "code",
   "execution_count": 61,
   "metadata": {},
   "outputs": [
    {
     "name": "stdout",
     "output_type": "stream",
     "text": [
      "        min_prob  max_prob  events  nonevents  ... cum_eventrate  \\\n",
      "Decile                                         ...                 \n",
      "1       0.607786  0.918795    38.0       51.0  ...        41.30%   \n",
      "2       0.500555  0.600012    24.0       65.0  ...        67.39%   \n",
      "3       0.439059  0.493550    18.0       71.0  ...        86.96%   \n",
      "4       0.270026  0.438275     6.0       80.0  ...        93.48%   \n",
      "5       0.039020  0.268666     6.0       86.0  ...       100.00%   \n",
      "\n",
      "       cum_noneventrate    KS   bad_rate  \n",
      "Decile                                    \n",
      "1                14.45%  26.9  42.696629  \n",
      "2                32.86%  34.5  26.966292  \n",
      "3                52.97%  34.0  20.224719  \n",
      "4                75.64%  17.8   6.976744  \n",
      "5               100.00%  -0.0   6.521739  \n",
      "\n",
      "[5 rows x 10 columns]\n",
      "KS is 34.5% at decile 2\n",
      "        min_prob  max_prob  events  nonevents  ... cum_eventrate  \\\n",
      "Decile                                         ...                 \n",
      "1       0.643674  0.890330    10.0       28.0  ...        25.00%   \n",
      "2       0.509209  0.637532    13.0       26.0  ...        57.50%   \n",
      "3       0.429838  0.507421     6.0       32.0  ...        72.50%   \n",
      "4       0.311411  0.425443     4.0       34.0  ...        82.50%   \n",
      "5       0.040063  0.311297     7.0       32.0  ...       100.00%   \n",
      "\n",
      "       cum_noneventrate    KS   bad_rate  \n",
      "Decile                                    \n",
      "1                18.42%   6.6  26.315789  \n",
      "2                35.53%  22.0  33.333333  \n",
      "3                56.58%  15.9  15.789474  \n",
      "4                78.95%   3.6  10.526316  \n",
      "5               100.00%   0.0  17.948718  \n",
      "\n",
      "[5 rows x 10 columns]\n",
      "KS is 22.0% at decile 2\n"
     ]
    }
   ],
   "source": [
    "# predicted proability\n",
    "train_pred = logreg_model.predict_proba(X_train[feat_list])[:,1]\n",
    "                                                                     \n",
    "test_pred = logreg_model.predict_proba(X_test[feat_list])[:,1]\n",
    "\n",
    "\n",
    "train_ks = ks(y_train, train_pred)\n",
    "test_ks = ks(y_test, test_pred)\n",
    "\n"
   ]
  },
  {
   "cell_type": "code",
   "execution_count": 62,
   "metadata": {},
   "outputs": [
    {
     "name": "stdout",
     "output_type": "stream",
     "text": [
      "Train AUC = 0.738822515088065\n",
      "Test AUC = 0.6046052631578948\n"
     ]
    }
   ],
   "source": [
    "from sklearn.metrics import  roc_auc_score\n",
    "\n",
    "print('Train AUC = {}'.format(roc_auc_score(y_train, train_pred)))   \n",
    "  \n",
    "print('Test AUC = {}'.format(roc_auc_score(y_test, test_pred)))    "
   ]
  },
  {
   "cell_type": "code",
   "execution_count": 63,
   "metadata": {},
   "outputs": [
    {
     "data": {
      "text/html": [
       "<div>\n",
       "<style scoped>\n",
       "    .dataframe tbody tr th:only-of-type {\n",
       "        vertical-align: middle;\n",
       "    }\n",
       "\n",
       "    .dataframe tbody tr th {\n",
       "        vertical-align: top;\n",
       "    }\n",
       "\n",
       "    .dataframe thead th {\n",
       "        text-align: right;\n",
       "    }\n",
       "</style>\n",
       "<table border=\"1\" class=\"dataframe\">\n",
       "  <thead>\n",
       "    <tr style=\"text-align: right;\">\n",
       "      <th></th>\n",
       "      <th>min_prob</th>\n",
       "      <th>max_prob</th>\n",
       "      <th>events</th>\n",
       "      <th>nonevents</th>\n",
       "      <th>...</th>\n",
       "      <th>cum_eventrate</th>\n",
       "      <th>cum_noneventrate</th>\n",
       "      <th>KS</th>\n",
       "      <th>bad_rate</th>\n",
       "    </tr>\n",
       "    <tr>\n",
       "      <th>Decile</th>\n",
       "      <th></th>\n",
       "      <th></th>\n",
       "      <th></th>\n",
       "      <th></th>\n",
       "      <th></th>\n",
       "      <th></th>\n",
       "      <th></th>\n",
       "      <th></th>\n",
       "      <th></th>\n",
       "    </tr>\n",
       "  </thead>\n",
       "  <tbody>\n",
       "    <tr>\n",
       "      <th>1</th>\n",
       "      <td>0.607786</td>\n",
       "      <td>0.918795</td>\n",
       "      <td>38.0</td>\n",
       "      <td>51.0</td>\n",
       "      <td>...</td>\n",
       "      <td>41.30%</td>\n",
       "      <td>14.45%</td>\n",
       "      <td>26.9</td>\n",
       "      <td>42.696629</td>\n",
       "    </tr>\n",
       "    <tr>\n",
       "      <th>2</th>\n",
       "      <td>0.500555</td>\n",
       "      <td>0.600012</td>\n",
       "      <td>24.0</td>\n",
       "      <td>65.0</td>\n",
       "      <td>...</td>\n",
       "      <td>67.39%</td>\n",
       "      <td>32.86%</td>\n",
       "      <td>34.5</td>\n",
       "      <td>26.966292</td>\n",
       "    </tr>\n",
       "    <tr>\n",
       "      <th>3</th>\n",
       "      <td>0.439059</td>\n",
       "      <td>0.493550</td>\n",
       "      <td>18.0</td>\n",
       "      <td>71.0</td>\n",
       "      <td>...</td>\n",
       "      <td>86.96%</td>\n",
       "      <td>52.97%</td>\n",
       "      <td>34.0</td>\n",
       "      <td>20.224719</td>\n",
       "    </tr>\n",
       "    <tr>\n",
       "      <th>4</th>\n",
       "      <td>0.270026</td>\n",
       "      <td>0.438275</td>\n",
       "      <td>6.0</td>\n",
       "      <td>80.0</td>\n",
       "      <td>...</td>\n",
       "      <td>93.48%</td>\n",
       "      <td>75.64%</td>\n",
       "      <td>17.8</td>\n",
       "      <td>6.976744</td>\n",
       "    </tr>\n",
       "    <tr>\n",
       "      <th>5</th>\n",
       "      <td>0.039020</td>\n",
       "      <td>0.268666</td>\n",
       "      <td>6.0</td>\n",
       "      <td>86.0</td>\n",
       "      <td>...</td>\n",
       "      <td>100.00%</td>\n",
       "      <td>100.00%</td>\n",
       "      <td>-0.0</td>\n",
       "      <td>6.521739</td>\n",
       "    </tr>\n",
       "  </tbody>\n",
       "</table>\n",
       "<p>5 rows × 10 columns</p>\n",
       "</div>"
      ],
      "text/plain": [
       "        min_prob  max_prob  events  nonevents  ... cum_eventrate  \\\n",
       "Decile                                         ...                 \n",
       "1       0.607786  0.918795    38.0       51.0  ...        41.30%   \n",
       "2       0.500555  0.600012    24.0       65.0  ...        67.39%   \n",
       "3       0.439059  0.493550    18.0       71.0  ...        86.96%   \n",
       "4       0.270026  0.438275     6.0       80.0  ...        93.48%   \n",
       "5       0.039020  0.268666     6.0       86.0  ...       100.00%   \n",
       "\n",
       "       cum_noneventrate    KS   bad_rate  \n",
       "Decile                                    \n",
       "1                14.45%  26.9  42.696629  \n",
       "2                32.86%  34.5  26.966292  \n",
       "3                52.97%  34.0  20.224719  \n",
       "4                75.64%  17.8   6.976744  \n",
       "5               100.00%  -0.0   6.521739  \n",
       "\n",
       "[5 rows x 10 columns]"
      ]
     },
     "execution_count": 63,
     "metadata": {},
     "output_type": "execute_result"
    }
   ],
   "source": [
    "train_ks"
   ]
  },
  {
   "cell_type": "code",
   "execution_count": 64,
   "metadata": {},
   "outputs": [
    {
     "data": {
      "text/html": [
       "<div>\n",
       "<style scoped>\n",
       "    .dataframe tbody tr th:only-of-type {\n",
       "        vertical-align: middle;\n",
       "    }\n",
       "\n",
       "    .dataframe tbody tr th {\n",
       "        vertical-align: top;\n",
       "    }\n",
       "\n",
       "    .dataframe thead th {\n",
       "        text-align: right;\n",
       "    }\n",
       "</style>\n",
       "<table border=\"1\" class=\"dataframe\">\n",
       "  <thead>\n",
       "    <tr style=\"text-align: right;\">\n",
       "      <th></th>\n",
       "      <th>min_prob</th>\n",
       "      <th>max_prob</th>\n",
       "      <th>events</th>\n",
       "      <th>nonevents</th>\n",
       "      <th>...</th>\n",
       "      <th>cum_eventrate</th>\n",
       "      <th>cum_noneventrate</th>\n",
       "      <th>KS</th>\n",
       "      <th>bad_rate</th>\n",
       "    </tr>\n",
       "    <tr>\n",
       "      <th>Decile</th>\n",
       "      <th></th>\n",
       "      <th></th>\n",
       "      <th></th>\n",
       "      <th></th>\n",
       "      <th></th>\n",
       "      <th></th>\n",
       "      <th></th>\n",
       "      <th></th>\n",
       "      <th></th>\n",
       "    </tr>\n",
       "  </thead>\n",
       "  <tbody>\n",
       "    <tr>\n",
       "      <th>1</th>\n",
       "      <td>0.643674</td>\n",
       "      <td>0.890330</td>\n",
       "      <td>10.0</td>\n",
       "      <td>28.0</td>\n",
       "      <td>...</td>\n",
       "      <td>25.00%</td>\n",
       "      <td>18.42%</td>\n",
       "      <td>6.6</td>\n",
       "      <td>26.315789</td>\n",
       "    </tr>\n",
       "    <tr>\n",
       "      <th>2</th>\n",
       "      <td>0.509209</td>\n",
       "      <td>0.637532</td>\n",
       "      <td>13.0</td>\n",
       "      <td>26.0</td>\n",
       "      <td>...</td>\n",
       "      <td>57.50%</td>\n",
       "      <td>35.53%</td>\n",
       "      <td>22.0</td>\n",
       "      <td>33.333333</td>\n",
       "    </tr>\n",
       "    <tr>\n",
       "      <th>3</th>\n",
       "      <td>0.429838</td>\n",
       "      <td>0.507421</td>\n",
       "      <td>6.0</td>\n",
       "      <td>32.0</td>\n",
       "      <td>...</td>\n",
       "      <td>72.50%</td>\n",
       "      <td>56.58%</td>\n",
       "      <td>15.9</td>\n",
       "      <td>15.789474</td>\n",
       "    </tr>\n",
       "    <tr>\n",
       "      <th>4</th>\n",
       "      <td>0.311411</td>\n",
       "      <td>0.425443</td>\n",
       "      <td>4.0</td>\n",
       "      <td>34.0</td>\n",
       "      <td>...</td>\n",
       "      <td>82.50%</td>\n",
       "      <td>78.95%</td>\n",
       "      <td>3.6</td>\n",
       "      <td>10.526316</td>\n",
       "    </tr>\n",
       "    <tr>\n",
       "      <th>5</th>\n",
       "      <td>0.040063</td>\n",
       "      <td>0.311297</td>\n",
       "      <td>7.0</td>\n",
       "      <td>32.0</td>\n",
       "      <td>...</td>\n",
       "      <td>100.00%</td>\n",
       "      <td>100.00%</td>\n",
       "      <td>0.0</td>\n",
       "      <td>17.948718</td>\n",
       "    </tr>\n",
       "  </tbody>\n",
       "</table>\n",
       "<p>5 rows × 10 columns</p>\n",
       "</div>"
      ],
      "text/plain": [
       "        min_prob  max_prob  events  nonevents  ... cum_eventrate  \\\n",
       "Decile                                         ...                 \n",
       "1       0.643674  0.890330    10.0       28.0  ...        25.00%   \n",
       "2       0.509209  0.637532    13.0       26.0  ...        57.50%   \n",
       "3       0.429838  0.507421     6.0       32.0  ...        72.50%   \n",
       "4       0.311411  0.425443     4.0       34.0  ...        82.50%   \n",
       "5       0.040063  0.311297     7.0       32.0  ...       100.00%   \n",
       "\n",
       "       cum_noneventrate    KS   bad_rate  \n",
       "Decile                                    \n",
       "1                18.42%   6.6  26.315789  \n",
       "2                35.53%  22.0  33.333333  \n",
       "3                56.58%  15.9  15.789474  \n",
       "4                78.95%   3.6  10.526316  \n",
       "5               100.00%   0.0  17.948718  \n",
       "\n",
       "[5 rows x 10 columns]"
      ]
     },
     "execution_count": 64,
     "metadata": {},
     "output_type": "execute_result"
    }
   ],
   "source": [
    "test_ks"
   ]
  },
  {
   "cell_type": "code",
   "execution_count": null,
   "metadata": {},
   "outputs": [],
   "source": []
  },
  {
   "cell_type": "code",
   "execution_count": null,
   "metadata": {},
   "outputs": [],
   "source": []
  }
 ],
 "metadata": {
  "kernelspec": {
   "display_name": "Python 3.9.17 64-bit ('venv_plaid_credit')",
   "language": "python",
   "name": "python3"
  },
  "language_info": {
   "codemirror_mode": {
    "name": "ipython",
    "version": 3
   },
   "file_extension": ".py",
   "mimetype": "text/x-python",
   "name": "python",
   "nbconvert_exporter": "python",
   "pygments_lexer": "ipython3",
   "version": "3.9.17"
  },
  "orig_nbformat": 4,
  "vscode": {
   "interpreter": {
    "hash": "d9bbc33ec67b6e69663d9524a7cba3ebe2e2de2798633e20e7d227e00dd346ad"
   }
  }
 },
 "nbformat": 4,
 "nbformat_minor": 2
}
