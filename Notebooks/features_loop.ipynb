{
 "cells": [
  {
   "cell_type": "code",
   "execution_count": 1,
   "metadata": {},
   "outputs": [
    {
     "name": "stdout",
     "output_type": "stream",
     "text": [
      "/Users/shashankgupta/Documents/code/git_project/plaid_credit\n",
      "/Users/shashankgupta/Documents/code/git_project/plaid_credit/Code\n"
     ]
    }
   ],
   "source": [
    "import os \n",
    "cwd = os.getcwd()\n",
    "\n",
    "os.chdir('../')\n",
    "cwd = os.getcwd()\n",
    "print(cwd)\n",
    "\n",
    "os.chdir('./code/')\n",
    "cwd = os.getcwd()\n",
    "print(cwd)\n",
    "\n",
    "import pandas as pd \n",
    "import numpy as np \n",
    "import seaborn as sns\n",
    "from sklearn.metrics import  roc_auc_score\n",
    "\n",
    "import pickle \n",
    "import logging\n",
    "\n",
    "\n",
    "# from config.config import SQLQuery\n",
    "# querySno = SQLQuery('snowflake')"
   ]
  },
  {
   "cell_type": "code",
   "execution_count": 2,
   "metadata": {},
   "outputs": [],
   "source": [
    "from preprocess import Convert,MissingValues,Outlier,FeatureSelection\n",
    "from feature_transformation import Scaler,Transform,Selection\n",
    "from model_building import split_test_train, feature_encoding, classification_models\n",
    "from model_evaluations import model_metrics, feature_importance, probability_bins, cross_validation\n",
    "from sklearn.preprocessing import StandardScaler, MinMaxScaler, RobustScaler, Normalizer\n",
    "\n",
    "from statsmodels.stats.outliers_influence import variance_inflation_factor\n",
    "\n",
    "# object initiation \n",
    "tf = Transform()\n",
    "sel = Selection()\n",
    "ft = FeatureSelection()\n",
    "cv = Convert()\n",
    "mv = MissingValues()\n",
    "ot = Outlier()\n",
    "\n",
    "# set seed\n",
    "seed = 9"
   ]
  },
  {
   "cell_type": "code",
   "execution_count": 3,
   "metadata": {},
   "outputs": [],
   "source": [
    "corr_arr = 0.4 # person correlation coefficient # change it to 0.5\n",
    "vif_arr = 5 # vif coefficient\n",
    "features_arr = 10 # total number of features to be selected from backward feature selection\n",
    "iv_upper_limit = 0.5 # upper threshold of iv # change it to 0.6\n",
    "iv_lower_limit = 0.02 # lower threshold of iv"
   ]
  },
  {
   "cell_type": "code",
   "execution_count": 4,
   "metadata": {},
   "outputs": [
    {
     "data": {
      "text/plain": [
       "(646, 255)"
      ]
     },
     "execution_count": 4,
     "metadata": {},
     "output_type": "execute_result"
    }
   ],
   "source": [
    "df_raw = pd.read_pickle('/Users/shashankgupta/Documents/code/git_project/plaid_credit/data/final_dataset_2.pkl')\n",
    "df_raw.shape"
   ]
  },
  {
   "cell_type": "code",
   "execution_count": 5,
   "metadata": {},
   "outputs": [
    {
     "data": {
      "text/plain": [
       "(646, 219)"
      ]
     },
     "execution_count": 5,
     "metadata": {},
     "output_type": "execute_result"
    }
   ],
   "source": [
    "# excluding stddev features\n",
    "keep_stddev_cols = ['stddev_credit_amt_3M']\n",
    "stddev_cols = list(df_raw.loc[:,df_raw.columns.str.contains('stddev')].columns)\n",
    "\n",
    "keep_cols = list(set(list(df_raw.columns)).difference(set(stddev_cols))) + keep_stddev_cols\n",
    "\n",
    "\n",
    "df_raw = df_raw[keep_cols]\n",
    "df_raw.shape"
   ]
  },
  {
   "cell_type": "code",
   "execution_count": 6,
   "metadata": {},
   "outputs": [
    {
     "data": {
      "text/plain": [
       "txn_flag\n",
       "1.0    637\n",
       "0.0      9\n",
       "Name: count, dtype: int64"
      ]
     },
     "execution_count": 6,
     "metadata": {},
     "output_type": "execute_result"
    }
   ],
   "source": [
    "df_raw['txn_flag'].value_counts()"
   ]
  },
  {
   "cell_type": "code",
   "execution_count": 7,
   "metadata": {},
   "outputs": [
    {
     "data": {
      "text/plain": [
       "(637, 219)"
      ]
     },
     "execution_count": 7,
     "metadata": {},
     "output_type": "execute_result"
    }
   ],
   "source": [
    "df_raw = df_raw[df_raw['txn_flag']==1]\n",
    "df_raw.shape"
   ]
  },
  {
   "cell_type": "code",
   "execution_count": 8,
   "metadata": {},
   "outputs": [
    {
     "data": {
      "text/plain": [
       "(637, 212)"
      ]
     },
     "execution_count": 8,
     "metadata": {},
     "output_type": "execute_result"
    }
   ],
   "source": [
    "df_raw = df_raw.drop(['business_id', 'lending_business_id','decision_date','drawn_flag', 'everDPD_15', 'fico_score','txn_flag'], axis=1)\n",
    "df_raw.shape"
   ]
  },
  {
   "cell_type": "code",
   "execution_count": 9,
   "metadata": {},
   "outputs": [
    {
     "name": "stdout",
     "output_type": "stream",
     "text": [
      "x_train.shape = (445, 211) | y_train.shape = (445,) | x_test.shape = (192, 211) | y_test.shape = (192,)\n"
     ]
    }
   ],
   "source": [
    "## train-test split\n",
    "\n",
    "# train test split\n",
    "x_train, y_train, x_test, y_test = split_test_train(df_raw, target_column='target', test_size=0.3, random_state=seed)\n",
    "print(f'{x_train.shape = }', '|' ,f'{y_train.shape = }', '|' ,f'{x_test.shape = }', '|' ,f'{y_test.shape = }')\n",
    "\n",
    "\n",
    "# copy to df\n",
    "df = x_train.copy(deep=True)"
   ]
  },
  {
   "cell_type": "code",
   "execution_count": 10,
   "metadata": {},
   "outputs": [],
   "source": [
    "# Treating missing values\n",
    "df = df.fillna(0)"
   ]
  },
  {
   "cell_type": "code",
   "execution_count": 11,
   "metadata": {},
   "outputs": [],
   "source": [
    "feat_list = ['stddev_credit_amt_3M', 'shops_amt_3M','pos_size_1M',\n",
    "               'loans_amt_6M','ratio_amt_credits_less_100_credits_grt_500_3M',\n",
    "               'median_credit_amt_1M','ratio_pos_size_1M_6M','median_ecom_amt_6M',\n",
    "                'pos_count_3M','median_pos_amt_3M',\n",
    "                'count_credits_grt_500_3M','loans_size_6M','sum_credits_grt_500_1M','ach_count_6M']\n",
    "\n",
    "df['target'] = df_raw['target']"
   ]
  },
  {
   "cell_type": "code",
   "execution_count": 12,
   "metadata": {},
   "outputs": [
    {
     "name": "stdout",
     "output_type": "stream",
     "text": [
      "(CVXPY) Jul 03 10:38:39 AM: Encountered unexpected exception importing solver GLOP:\n",
      "RuntimeError('Unrecognized new version of ortools (9.6.2534). Expected < 9.5.0.Please open a feature request on cvxpy to enable support for this version.')\n",
      "(CVXPY) Jul 03 10:38:39 AM: Encountered unexpected exception importing solver PDLP:\n",
      "RuntimeError('Unrecognized new version of ortools (9.6.2534). Expected < 9.5.0.Please open a feature request on cvxpy to enable support for this version.')\n"
     ]
    }
   ],
   "source": [
    "## optimal binning woe\n",
    "\n",
    "import optbinning as optb\n",
    "from optbinning import Scorecard, BinningProcess, OptimalBinning\n",
    "from optbinning.binning.binning_statistics import BinningTable\n",
    "\n",
    "df_temp = df[feat_list].copy()\n",
    "df_temp['target'] = df['target']\n",
    "df_temp = df_temp.fillna(0)"
   ]
  },
  {
   "cell_type": "code",
   "execution_count": 13,
   "metadata": {},
   "outputs": [
    {
     "data": {
      "image/png": "[encoded data removed]",
      "text/plain": [
       "<Figure size 640x480 with 2 Axes>"
      ]
     },
     "metadata": {},
     "output_type": "display_data"
    }
   ],
   "source": [
    "# 1\n",
    "Xt= df_temp['stddev_credit_amt_3M']\n",
    "yt = df_temp['target'].astype(int)\n",
    "\n",
    "optb = OptimalBinning(name='stddev_credit_amt_3M', dtype=\"numerical\", max_n_prebins=4, monotonic_trend='descending',special_codes = [0])\n",
    "optb.fit(Xt, yt)  \n",
    "\n",
    "Xt_binned = optb.transform(Xt)\n",
    "\n",
    "ob_stddev_credit_amt_3M = optb.binning_table.build()\n",
    "\n",
    "optb.binning_table.plot(metric=\"event_rate\")"
   ]
  },
  {
   "cell_type": "code",
   "execution_count": 14,
   "metadata": {},
   "outputs": [
    {
     "data": {
      "text/html": [
       "<div>\n",
       "<style scoped>\n",
       "    .dataframe tbody tr th:only-of-type {\n",
       "        vertical-align: middle;\n",
       "    }\n",
       "\n",
       "    .dataframe tbody tr th {\n",
       "        vertical-align: top;\n",
       "    }\n",
       "\n",
       "    .dataframe thead th {\n",
       "        text-align: right;\n",
       "    }\n",
       "</style>\n",
       "<table border=\"1\" class=\"dataframe\">\n",
       "  <thead>\n",
       "    <tr style=\"text-align: right;\">\n",
       "      <th></th>\n",
       "      <th>Bin</th>\n",
       "      <th>Count</th>\n",
       "      <th>Count (%)</th>\n",
       "      <th>Non-event</th>\n",
       "      <th>Event</th>\n",
       "      <th>Event rate</th>\n",
       "      <th>WoE</th>\n",
       "      <th>IV</th>\n",
       "      <th>JS</th>\n",
       "    </tr>\n",
       "  </thead>\n",
       "  <tbody>\n",
       "    <tr>\n",
       "      <th>0</th>\n",
       "      <td>(-inf, 578.24)</td>\n",
       "      <td>122</td>\n",
       "      <td>0.274157</td>\n",
       "      <td>84</td>\n",
       "      <td>38</td>\n",
       "      <td>0.311475</td>\n",
       "      <td>-0.551449</td>\n",
       "      <td>0.096549</td>\n",
       "      <td>0.011918</td>\n",
       "    </tr>\n",
       "    <tr>\n",
       "      <th>1</th>\n",
       "      <td>[578.24, 1274.05)</td>\n",
       "      <td>134</td>\n",
       "      <td>0.301124</td>\n",
       "      <td>106</td>\n",
       "      <td>28</td>\n",
       "      <td>0.208955</td>\n",
       "      <td>-0.013445</td>\n",
       "      <td>0.000055</td>\n",
       "      <td>0.000007</td>\n",
       "    </tr>\n",
       "    <tr>\n",
       "      <th>2</th>\n",
       "      <td>[1274.05, 7645.75)</td>\n",
       "      <td>135</td>\n",
       "      <td>0.303371</td>\n",
       "      <td>115</td>\n",
       "      <td>20</td>\n",
       "      <td>0.148148</td>\n",
       "      <td>0.40452</td>\n",
       "      <td>0.043845</td>\n",
       "      <td>0.005444</td>\n",
       "    </tr>\n",
       "    <tr>\n",
       "      <th>3</th>\n",
       "      <td>[7645.75, inf)</td>\n",
       "      <td>28</td>\n",
       "      <td>0.062921</td>\n",
       "      <td>27</td>\n",
       "      <td>1</td>\n",
       "      <td>0.035714</td>\n",
       "      <td>1.951157</td>\n",
       "      <td>0.128030</td>\n",
       "      <td>0.013868</td>\n",
       "    </tr>\n",
       "    <tr>\n",
       "      <th>4</th>\n",
       "      <td>Special</td>\n",
       "      <td>26</td>\n",
       "      <td>0.058427</td>\n",
       "      <td>21</td>\n",
       "      <td>5</td>\n",
       "      <td>0.192308</td>\n",
       "      <td>0.090405</td>\n",
       "      <td>0.000465</td>\n",
       "      <td>0.000058</td>\n",
       "    </tr>\n",
       "    <tr>\n",
       "      <th>5</th>\n",
       "      <td>Missing</td>\n",
       "      <td>0</td>\n",
       "      <td>0.000000</td>\n",
       "      <td>0</td>\n",
       "      <td>0</td>\n",
       "      <td>0.000000</td>\n",
       "      <td>0.0</td>\n",
       "      <td>0.000000</td>\n",
       "      <td>0.000000</td>\n",
       "    </tr>\n",
       "    <tr>\n",
       "      <th>Totals</th>\n",
       "      <td></td>\n",
       "      <td>445</td>\n",
       "      <td>1.000000</td>\n",
       "      <td>353</td>\n",
       "      <td>92</td>\n",
       "      <td>0.206742</td>\n",
       "      <td></td>\n",
       "      <td>0.268944</td>\n",
       "      <td>0.031294</td>\n",
       "    </tr>\n",
       "  </tbody>\n",
       "</table>\n",
       "</div>"
      ],
      "text/plain": [
       "                       Bin  Count  Count (%)  Non-event  Event  Event rate  \\\n",
       "0           (-inf, 578.24)    122   0.274157         84     38    0.311475   \n",
       "1        [578.24, 1274.05)    134   0.301124        106     28    0.208955   \n",
       "2       [1274.05, 7645.75)    135   0.303371        115     20    0.148148   \n",
       "3           [7645.75, inf)     28   0.062921         27      1    0.035714   \n",
       "4                  Special     26   0.058427         21      5    0.192308   \n",
       "5                  Missing      0   0.000000          0      0    0.000000   \n",
       "Totals                        445   1.000000        353     92    0.206742   \n",
       "\n",
       "             WoE        IV        JS  \n",
       "0      -0.551449  0.096549  0.011918  \n",
       "1      -0.013445  0.000055  0.000007  \n",
       "2        0.40452  0.043845  0.005444  \n",
       "3       1.951157  0.128030  0.013868  \n",
       "4       0.090405  0.000465  0.000058  \n",
       "5            0.0  0.000000  0.000000  \n",
       "Totals            0.268944  0.031294  "
      ]
     },
     "execution_count": 14,
     "metadata": {},
     "output_type": "execute_result"
    }
   ],
   "source": [
    "ob_stddev_credit_amt_3M"
   ]
  },
  {
   "cell_type": "code",
   "execution_count": 15,
   "metadata": {},
   "outputs": [],
   "source": [
    "# 1\n",
    "# Var tranform\n",
    "transformed_vars = df[feat_list].copy()\n",
    "\n",
    "# transform\n",
    "col         = 'stddev_credit_amt_3M'\n",
    "conditions  = [ transformed_vars[col] <= 0, \n",
    "                (transformed_vars[col] > 0 ) & (transformed_vars[col] < 578), \n",
    "                (transformed_vars[col] >= 578 ) & (transformed_vars[col] < 1274), \n",
    "                (transformed_vars[col] >= 1274) & (transformed_vars[col] < 7646),\n",
    "                transformed_vars[col] >= 7646 ]\n",
    "\n",
    "choices     = [0.090405,-0.551449,-0.013445, 0.40452,1.951157]\n",
    "    \n",
    "transformed_vars[\"stddev_credit_amt_3M\"] = np.select(conditions, choices, default=np.nan)"
   ]
  },
  {
   "cell_type": "code",
   "execution_count": 16,
   "metadata": {},
   "outputs": [
    {
     "data": {
      "image/png": "[encoded data removed]",
      "text/plain": [
       "<Figure size 640x480 with 2 Axes>"
      ]
     },
     "metadata": {},
     "output_type": "display_data"
    }
   ],
   "source": [
    "# 2\n",
    "Xt= df_temp['shops_amt_3M']\n",
    "yt = df_temp['target'].astype(int)\n",
    "\n",
    "optb = OptimalBinning(name='shops_amt_3M', dtype=\"numerical\", max_n_prebins=4, monotonic_trend='descending',special_codes = [0])\n",
    "optb.fit(Xt, yt)  \n",
    "\n",
    "Xt_binned = optb.transform(Xt)\n",
    "\n",
    "ob_shops_amt_3M = optb.binning_table.build()\n",
    "\n",
    "optb.binning_table.plot(metric=\"event_rate\")"
   ]
  },
  {
   "cell_type": "code",
   "execution_count": 17,
   "metadata": {},
   "outputs": [
    {
     "data": {
      "text/html": [
       "<div>\n",
       "<style scoped>\n",
       "    .dataframe tbody tr th:only-of-type {\n",
       "        vertical-align: middle;\n",
       "    }\n",
       "\n",
       "    .dataframe tbody tr th {\n",
       "        vertical-align: top;\n",
       "    }\n",
       "\n",
       "    .dataframe thead th {\n",
       "        text-align: right;\n",
       "    }\n",
       "</style>\n",
       "<table border=\"1\" class=\"dataframe\">\n",
       "  <thead>\n",
       "    <tr style=\"text-align: right;\">\n",
       "      <th></th>\n",
       "      <th>Bin</th>\n",
       "      <th>Count</th>\n",
       "      <th>Count (%)</th>\n",
       "      <th>Non-event</th>\n",
       "      <th>Event</th>\n",
       "      <th>Event rate</th>\n",
       "      <th>WoE</th>\n",
       "      <th>IV</th>\n",
       "      <th>JS</th>\n",
       "    </tr>\n",
       "  </thead>\n",
       "  <tbody>\n",
       "    <tr>\n",
       "      <th>0</th>\n",
       "      <td>(-inf, 221.50)</td>\n",
       "      <td>51</td>\n",
       "      <td>0.114607</td>\n",
       "      <td>33</td>\n",
       "      <td>18</td>\n",
       "      <td>0.352941</td>\n",
       "      <td>-0.738544</td>\n",
       "      <td>0.075455</td>\n",
       "      <td>0.009223</td>\n",
       "    </tr>\n",
       "    <tr>\n",
       "      <th>1</th>\n",
       "      <td>[221.50, 2587.99)</td>\n",
       "      <td>71</td>\n",
       "      <td>0.159551</td>\n",
       "      <td>51</td>\n",
       "      <td>20</td>\n",
       "      <td>0.281690</td>\n",
       "      <td>-0.408586</td>\n",
       "      <td>0.029792</td>\n",
       "      <td>0.003698</td>\n",
       "    </tr>\n",
       "    <tr>\n",
       "      <th>2</th>\n",
       "      <td>[2587.99, inf)</td>\n",
       "      <td>73</td>\n",
       "      <td>0.164045</td>\n",
       "      <td>62</td>\n",
       "      <td>11</td>\n",
       "      <td>0.150685</td>\n",
       "      <td>0.38456</td>\n",
       "      <td>0.021563</td>\n",
       "      <td>0.002679</td>\n",
       "    </tr>\n",
       "    <tr>\n",
       "      <th>3</th>\n",
       "      <td>Special</td>\n",
       "      <td>250</td>\n",
       "      <td>0.561798</td>\n",
       "      <td>207</td>\n",
       "      <td>43</td>\n",
       "      <td>0.172000</td>\n",
       "      <td>0.226839</td>\n",
       "      <td>0.026996</td>\n",
       "      <td>0.003367</td>\n",
       "    </tr>\n",
       "    <tr>\n",
       "      <th>4</th>\n",
       "      <td>Missing</td>\n",
       "      <td>0</td>\n",
       "      <td>0.000000</td>\n",
       "      <td>0</td>\n",
       "      <td>0</td>\n",
       "      <td>0.000000</td>\n",
       "      <td>0.0</td>\n",
       "      <td>0.000000</td>\n",
       "      <td>0.000000</td>\n",
       "    </tr>\n",
       "    <tr>\n",
       "      <th>Totals</th>\n",
       "      <td></td>\n",
       "      <td>445</td>\n",
       "      <td>1.000000</td>\n",
       "      <td>353</td>\n",
       "      <td>92</td>\n",
       "      <td>0.206742</td>\n",
       "      <td></td>\n",
       "      <td>0.153807</td>\n",
       "      <td>0.018968</td>\n",
       "    </tr>\n",
       "  </tbody>\n",
       "</table>\n",
       "</div>"
      ],
      "text/plain": [
       "                      Bin  Count  Count (%)  Non-event  Event  Event rate  \\\n",
       "0          (-inf, 221.50)     51   0.114607         33     18    0.352941   \n",
       "1       [221.50, 2587.99)     71   0.159551         51     20    0.281690   \n",
       "2          [2587.99, inf)     73   0.164045         62     11    0.150685   \n",
       "3                 Special    250   0.561798        207     43    0.172000   \n",
       "4                 Missing      0   0.000000          0      0    0.000000   \n",
       "Totals                       445   1.000000        353     92    0.206742   \n",
       "\n",
       "             WoE        IV        JS  \n",
       "0      -0.738544  0.075455  0.009223  \n",
       "1      -0.408586  0.029792  0.003698  \n",
       "2        0.38456  0.021563  0.002679  \n",
       "3       0.226839  0.026996  0.003367  \n",
       "4            0.0  0.000000  0.000000  \n",
       "Totals            0.153807  0.018968  "
      ]
     },
     "execution_count": 17,
     "metadata": {},
     "output_type": "execute_result"
    }
   ],
   "source": [
    "ob_shops_amt_3M"
   ]
  },
  {
   "cell_type": "code",
   "execution_count": 18,
   "metadata": {},
   "outputs": [],
   "source": [
    "# 2\n",
    "# transform\n",
    "col         = 'shops_amt_3M'\n",
    "conditions  = [ transformed_vars[col] <= 0,\n",
    "                (transformed_vars[col] > 0 ) & (transformed_vars[col] < 221.5), \n",
    "                (transformed_vars[col] >= 221.5 ) & (transformed_vars[col] < 2588), \n",
    "                transformed_vars[col] >= 2588 ]\n",
    "\n",
    "choices     = [0.226839,-0.738544,-0.408586,0.38456]\n",
    "    \n",
    "transformed_vars[\"shops_amt_3M\"] = np.select(conditions, choices, default=np.nan)"
   ]
  },
  {
   "cell_type": "code",
   "execution_count": 19,
   "metadata": {},
   "outputs": [
    {
     "data": {
      "image/png": "[encoded data removed]",
      "text/plain": [
       "<Figure size 640x480 with 2 Axes>"
      ]
     },
     "metadata": {},
     "output_type": "display_data"
    }
   ],
   "source": [
    "# 3\n",
    "Xt= df_temp['pos_size_1M']\n",
    "yt = df_temp['target'].astype(int)\n",
    "\n",
    "optb = OptimalBinning(name='pos_size_1M', dtype=\"numerical\", max_n_prebins=4, monotonic_trend='descending')\n",
    "optb.fit(Xt, yt)  \n",
    "\n",
    "Xt_binned = optb.transform(Xt)\n",
    "\n",
    "ob_pos_size_1M= optb.binning_table.build()\n",
    "\n",
    "optb.binning_table.plot(metric=\"event_rate\")"
   ]
  },
  {
   "cell_type": "code",
   "execution_count": 20,
   "metadata": {},
   "outputs": [
    {
     "data": {
      "text/html": [
       "<div>\n",
       "<style scoped>\n",
       "    .dataframe tbody tr th:only-of-type {\n",
       "        vertical-align: middle;\n",
       "    }\n",
       "\n",
       "    .dataframe tbody tr th {\n",
       "        vertical-align: top;\n",
       "    }\n",
       "\n",
       "    .dataframe thead th {\n",
       "        text-align: right;\n",
       "    }\n",
       "</style>\n",
       "<table border=\"1\" class=\"dataframe\">\n",
       "  <thead>\n",
       "    <tr style=\"text-align: right;\">\n",
       "      <th></th>\n",
       "      <th>Bin</th>\n",
       "      <th>Count</th>\n",
       "      <th>Count (%)</th>\n",
       "      <th>Non-event</th>\n",
       "      <th>Event</th>\n",
       "      <th>Event rate</th>\n",
       "      <th>WoE</th>\n",
       "      <th>IV</th>\n",
       "      <th>JS</th>\n",
       "    </tr>\n",
       "  </thead>\n",
       "  <tbody>\n",
       "    <tr>\n",
       "      <th>0</th>\n",
       "      <td>(-inf, 235.11)</td>\n",
       "      <td>335</td>\n",
       "      <td>0.752809</td>\n",
       "      <td>257</td>\n",
       "      <td>78</td>\n",
       "      <td>0.232836</td>\n",
       "      <td>-0.152312</td>\n",
       "      <td>0.018244</td>\n",
       "      <td>0.002278</td>\n",
       "    </tr>\n",
       "    <tr>\n",
       "      <th>1</th>\n",
       "      <td>[235.11, 979.44)</td>\n",
       "      <td>66</td>\n",
       "      <td>0.148315</td>\n",
       "      <td>54</td>\n",
       "      <td>12</td>\n",
       "      <td>0.181818</td>\n",
       "      <td>0.159398</td>\n",
       "      <td>0.003593</td>\n",
       "      <td>0.000449</td>\n",
       "    </tr>\n",
       "    <tr>\n",
       "      <th>2</th>\n",
       "      <td>[979.44, inf)</td>\n",
       "      <td>44</td>\n",
       "      <td>0.098876</td>\n",
       "      <td>42</td>\n",
       "      <td>2</td>\n",
       "      <td>0.045455</td>\n",
       "      <td>1.699843</td>\n",
       "      <td>0.165294</td>\n",
       "      <td>0.018486</td>\n",
       "    </tr>\n",
       "    <tr>\n",
       "      <th>3</th>\n",
       "      <td>Special</td>\n",
       "      <td>0</td>\n",
       "      <td>0.000000</td>\n",
       "      <td>0</td>\n",
       "      <td>0</td>\n",
       "      <td>0.000000</td>\n",
       "      <td>0.0</td>\n",
       "      <td>0.000000</td>\n",
       "      <td>0.000000</td>\n",
       "    </tr>\n",
       "    <tr>\n",
       "      <th>4</th>\n",
       "      <td>Missing</td>\n",
       "      <td>0</td>\n",
       "      <td>0.000000</td>\n",
       "      <td>0</td>\n",
       "      <td>0</td>\n",
       "      <td>0.000000</td>\n",
       "      <td>0.0</td>\n",
       "      <td>0.000000</td>\n",
       "      <td>0.000000</td>\n",
       "    </tr>\n",
       "    <tr>\n",
       "      <th>Totals</th>\n",
       "      <td></td>\n",
       "      <td>445</td>\n",
       "      <td>1.000000</td>\n",
       "      <td>353</td>\n",
       "      <td>92</td>\n",
       "      <td>0.206742</td>\n",
       "      <td></td>\n",
       "      <td>0.187131</td>\n",
       "      <td>0.021213</td>\n",
       "    </tr>\n",
       "  </tbody>\n",
       "</table>\n",
       "</div>"
      ],
      "text/plain": [
       "                     Bin  Count  Count (%)  Non-event  Event  Event rate  \\\n",
       "0         (-inf, 235.11)    335   0.752809        257     78    0.232836   \n",
       "1       [235.11, 979.44)     66   0.148315         54     12    0.181818   \n",
       "2          [979.44, inf)     44   0.098876         42      2    0.045455   \n",
       "3                Special      0   0.000000          0      0    0.000000   \n",
       "4                Missing      0   0.000000          0      0    0.000000   \n",
       "Totals                      445   1.000000        353     92    0.206742   \n",
       "\n",
       "             WoE        IV        JS  \n",
       "0      -0.152312  0.018244  0.002278  \n",
       "1       0.159398  0.003593  0.000449  \n",
       "2       1.699843  0.165294  0.018486  \n",
       "3            0.0  0.000000  0.000000  \n",
       "4            0.0  0.000000  0.000000  \n",
       "Totals            0.187131  0.021213  "
      ]
     },
     "execution_count": 20,
     "metadata": {},
     "output_type": "execute_result"
    }
   ],
   "source": [
    "ob_pos_size_1M"
   ]
  },
  {
   "cell_type": "code",
   "execution_count": 21,
   "metadata": {},
   "outputs": [],
   "source": [
    "# 3\n",
    "# transform\n",
    "col         = 'pos_size_1M'\n",
    "conditions  = [ transformed_vars[col] < 235.11, \n",
    "                (transformed_vars[col] >= 235.11 ) & (transformed_vars[col] < 979.44), \n",
    "                transformed_vars[col] >= 979.44 ]\n",
    "\n",
    "choices     = [-0.152312,0.159398,1.699843]\n",
    "    \n",
    "transformed_vars[\"pos_size_1M\"] = np.select(conditions, choices, default=np.nan)"
   ]
  },
  {
   "cell_type": "code",
   "execution_count": 22,
   "metadata": {},
   "outputs": [
    {
     "data": {
      "image/png": "[encoded data removed]",
      "text/plain": [
       "<Figure size 640x480 with 2 Axes>"
      ]
     },
     "metadata": {},
     "output_type": "display_data"
    }
   ],
   "source": [
    "# 4\n",
    "Xt= df_temp['loans_amt_6M']\n",
    "yt = df_temp['target'].astype(int)\n",
    "\n",
    "optb = OptimalBinning(name='loans_amt_6M', dtype=\"numerical\", max_n_prebins=4, monotonic_trend='descending',special_codes = [0])\n",
    "optb.fit(Xt, yt)  \n",
    "\n",
    "Xt_binned = optb.transform(Xt)\n",
    "\n",
    "ob_loans_amt_6M = optb.binning_table.build()\n",
    "\n",
    "optb.binning_table.plot(metric=\"event_rate\")"
   ]
  },
  {
   "cell_type": "code",
   "execution_count": 23,
   "metadata": {},
   "outputs": [
    {
     "data": {
      "text/html": [
       "<div>\n",
       "<style scoped>\n",
       "    .dataframe tbody tr th:only-of-type {\n",
       "        vertical-align: middle;\n",
       "    }\n",
       "\n",
       "    .dataframe tbody tr th {\n",
       "        vertical-align: top;\n",
       "    }\n",
       "\n",
       "    .dataframe thead th {\n",
       "        text-align: right;\n",
       "    }\n",
       "</style>\n",
       "<table border=\"1\" class=\"dataframe\">\n",
       "  <thead>\n",
       "    <tr style=\"text-align: right;\">\n",
       "      <th></th>\n",
       "      <th>Bin</th>\n",
       "      <th>Count</th>\n",
       "      <th>Count (%)</th>\n",
       "      <th>Non-event</th>\n",
       "      <th>Event</th>\n",
       "      <th>Event rate</th>\n",
       "      <th>WoE</th>\n",
       "      <th>IV</th>\n",
       "      <th>JS</th>\n",
       "    </tr>\n",
       "  </thead>\n",
       "  <tbody>\n",
       "    <tr>\n",
       "      <th>0</th>\n",
       "      <td>(-inf, 21503.36)</td>\n",
       "      <td>69</td>\n",
       "      <td>0.155056</td>\n",
       "      <td>48</td>\n",
       "      <td>21</td>\n",
       "      <td>0.304348</td>\n",
       "      <td>-0.518001</td>\n",
       "      <td>0.047803</td>\n",
       "      <td>0.005909</td>\n",
       "    </tr>\n",
       "    <tr>\n",
       "      <th>1</th>\n",
       "      <td>[21503.36, inf)</td>\n",
       "      <td>25</td>\n",
       "      <td>0.056180</td>\n",
       "      <td>22</td>\n",
       "      <td>3</td>\n",
       "      <td>0.120000</td>\n",
       "      <td>0.647751</td>\n",
       "      <td>0.019247</td>\n",
       "      <td>0.002365</td>\n",
       "    </tr>\n",
       "    <tr>\n",
       "      <th>2</th>\n",
       "      <td>Special</td>\n",
       "      <td>351</td>\n",
       "      <td>0.788764</td>\n",
       "      <td>283</td>\n",
       "      <td>68</td>\n",
       "      <td>0.193732</td>\n",
       "      <td>0.08126</td>\n",
       "      <td>0.005084</td>\n",
       "      <td>0.000635</td>\n",
       "    </tr>\n",
       "    <tr>\n",
       "      <th>3</th>\n",
       "      <td>Missing</td>\n",
       "      <td>0</td>\n",
       "      <td>0.000000</td>\n",
       "      <td>0</td>\n",
       "      <td>0</td>\n",
       "      <td>0.000000</td>\n",
       "      <td>0.0</td>\n",
       "      <td>0.000000</td>\n",
       "      <td>0.000000</td>\n",
       "    </tr>\n",
       "    <tr>\n",
       "      <th>Totals</th>\n",
       "      <td></td>\n",
       "      <td>445</td>\n",
       "      <td>1.000000</td>\n",
       "      <td>353</td>\n",
       "      <td>92</td>\n",
       "      <td>0.206742</td>\n",
       "      <td></td>\n",
       "      <td>0.072135</td>\n",
       "      <td>0.008910</td>\n",
       "    </tr>\n",
       "  </tbody>\n",
       "</table>\n",
       "</div>"
      ],
      "text/plain": [
       "                     Bin  Count  Count (%)  Non-event  Event  Event rate  \\\n",
       "0       (-inf, 21503.36)     69   0.155056         48     21    0.304348   \n",
       "1        [21503.36, inf)     25   0.056180         22      3    0.120000   \n",
       "2                Special    351   0.788764        283     68    0.193732   \n",
       "3                Missing      0   0.000000          0      0    0.000000   \n",
       "Totals                      445   1.000000        353     92    0.206742   \n",
       "\n",
       "             WoE        IV        JS  \n",
       "0      -0.518001  0.047803  0.005909  \n",
       "1       0.647751  0.019247  0.002365  \n",
       "2        0.08126  0.005084  0.000635  \n",
       "3            0.0  0.000000  0.000000  \n",
       "Totals            0.072135  0.008910  "
      ]
     },
     "execution_count": 23,
     "metadata": {},
     "output_type": "execute_result"
    }
   ],
   "source": [
    "ob_loans_amt_6M"
   ]
  },
  {
   "cell_type": "code",
   "execution_count": 24,
   "metadata": {},
   "outputs": [],
   "source": [
    "# 4\n",
    "# transform\n",
    "col         = 'loans_amt_6M'\n",
    "conditions  = [ transformed_vars[col] <= 0, \n",
    "                (transformed_vars[col] > 0 ) & (transformed_vars[col] < 21503),\n",
    "                transformed_vars[col] >= 21503 ]\n",
    "\n",
    "choices     = [0.08126,-0.518001,0.647751]\n",
    "    \n",
    "transformed_vars[\"loans_amt_6M\"] = np.select(conditions, choices, default=np.nan)"
   ]
  },
  {
   "cell_type": "code",
   "execution_count": 25,
   "metadata": {},
   "outputs": [
    {
     "data": {
      "image/png": "[encoded data removed]",
      "text/plain": [
       "<Figure size 640x480 with 2 Axes>"
      ]
     },
     "metadata": {},
     "output_type": "display_data"
    }
   ],
   "source": [
    "# 5\n",
    "Xt= df_temp['ratio_amt_credits_less_100_credits_grt_500_3M']\n",
    "yt = df_temp['target'].astype(int)\n",
    "\n",
    "optb = OptimalBinning(name='ratio_amt_credits_less_100_credits_grt_500_3M', dtype=\"numerical\", max_n_prebins=4, monotonic_trend='descending')\n",
    "optb.fit(Xt, yt)  \n",
    "\n",
    "Xt_binned = optb.transform(Xt)\n",
    "\n",
    "ob_ratio_amt_credits_less_100_credits_grt_500_3M = optb.binning_table.build()\n",
    "\n",
    "optb.binning_table.plot(metric=\"event_rate\")"
   ]
  },
  {
   "cell_type": "code",
   "execution_count": 26,
   "metadata": {},
   "outputs": [
    {
     "data": {
      "text/html": [
       "<div>\n",
       "<style scoped>\n",
       "    .dataframe tbody tr th:only-of-type {\n",
       "        vertical-align: middle;\n",
       "    }\n",
       "\n",
       "    .dataframe tbody tr th {\n",
       "        vertical-align: top;\n",
       "    }\n",
       "\n",
       "    .dataframe thead th {\n",
       "        text-align: right;\n",
       "    }\n",
       "</style>\n",
       "<table border=\"1\" class=\"dataframe\">\n",
       "  <thead>\n",
       "    <tr style=\"text-align: right;\">\n",
       "      <th></th>\n",
       "      <th>Bin</th>\n",
       "      <th>Count</th>\n",
       "      <th>Count (%)</th>\n",
       "      <th>Non-event</th>\n",
       "      <th>Event</th>\n",
       "      <th>Event rate</th>\n",
       "      <th>WoE</th>\n",
       "      <th>IV</th>\n",
       "      <th>JS</th>\n",
       "    </tr>\n",
       "  </thead>\n",
       "  <tbody>\n",
       "    <tr>\n",
       "      <th>0</th>\n",
       "      <td>(-inf, 0.00)</td>\n",
       "      <td>124</td>\n",
       "      <td>0.278652</td>\n",
       "      <td>96</td>\n",
       "      <td>28</td>\n",
       "      <td>0.225806</td>\n",
       "      <td>-0.112536</td>\n",
       "      <td>0.003645</td>\n",
       "      <td>0.000455</td>\n",
       "    </tr>\n",
       "    <tr>\n",
       "      <th>1</th>\n",
       "      <td>[0.00, inf)</td>\n",
       "      <td>321</td>\n",
       "      <td>0.721348</td>\n",
       "      <td>257</td>\n",
       "      <td>64</td>\n",
       "      <td>0.199377</td>\n",
       "      <td>0.045514</td>\n",
       "      <td>0.001474</td>\n",
       "      <td>0.000184</td>\n",
       "    </tr>\n",
       "    <tr>\n",
       "      <th>2</th>\n",
       "      <td>Special</td>\n",
       "      <td>0</td>\n",
       "      <td>0.000000</td>\n",
       "      <td>0</td>\n",
       "      <td>0</td>\n",
       "      <td>0.000000</td>\n",
       "      <td>0.0</td>\n",
       "      <td>0.000000</td>\n",
       "      <td>0.000000</td>\n",
       "    </tr>\n",
       "    <tr>\n",
       "      <th>3</th>\n",
       "      <td>Missing</td>\n",
       "      <td>0</td>\n",
       "      <td>0.000000</td>\n",
       "      <td>0</td>\n",
       "      <td>0</td>\n",
       "      <td>0.000000</td>\n",
       "      <td>0.0</td>\n",
       "      <td>0.000000</td>\n",
       "      <td>0.000000</td>\n",
       "    </tr>\n",
       "    <tr>\n",
       "      <th>Totals</th>\n",
       "      <td></td>\n",
       "      <td>445</td>\n",
       "      <td>1.000000</td>\n",
       "      <td>353</td>\n",
       "      <td>92</td>\n",
       "      <td>0.206742</td>\n",
       "      <td></td>\n",
       "      <td>0.005120</td>\n",
       "      <td>0.000640</td>\n",
       "    </tr>\n",
       "  </tbody>\n",
       "</table>\n",
       "</div>"
      ],
      "text/plain": [
       "                 Bin  Count  Count (%)  Non-event  Event  Event rate  \\\n",
       "0       (-inf, 0.00)    124   0.278652         96     28    0.225806   \n",
       "1        [0.00, inf)    321   0.721348        257     64    0.199377   \n",
       "2            Special      0   0.000000          0      0    0.000000   \n",
       "3            Missing      0   0.000000          0      0    0.000000   \n",
       "Totals                  445   1.000000        353     92    0.206742   \n",
       "\n",
       "             WoE        IV        JS  \n",
       "0      -0.112536  0.003645  0.000455  \n",
       "1       0.045514  0.001474  0.000184  \n",
       "2            0.0  0.000000  0.000000  \n",
       "3            0.0  0.000000  0.000000  \n",
       "Totals            0.005120  0.000640  "
      ]
     },
     "execution_count": 26,
     "metadata": {},
     "output_type": "execute_result"
    }
   ],
   "source": [
    "ob_ratio_amt_credits_less_100_credits_grt_500_3M"
   ]
  },
  {
   "cell_type": "code",
   "execution_count": 27,
   "metadata": {},
   "outputs": [],
   "source": [
    "# 5\n",
    "# transform\n",
    "col         = 'ratio_amt_credits_less_100_credits_grt_500_3M'\n",
    "conditions  = [ transformed_vars[col] <= 0,\n",
    "                transformed_vars[col] > 0 ]\n",
    "\n",
    "choices     = [-0.112536,0.045514]\n",
    "    \n",
    "transformed_vars[\"ratio_amt_credits_less_100_credits_grt_500_3M\"] = np.select(conditions, choices, default=np.nan)"
   ]
  },
  {
   "cell_type": "code",
   "execution_count": 28,
   "metadata": {},
   "outputs": [
    {
     "data": {
      "image/png": "[encoded data removed]",
      "text/plain": [
       "<Figure size 640x480 with 2 Axes>"
      ]
     },
     "metadata": {},
     "output_type": "display_data"
    }
   ],
   "source": [
    "# 6\n",
    "Xt= df_temp['median_credit_amt_1M']\n",
    "yt = df_temp['target'].astype(int)\n",
    "\n",
    "optb = OptimalBinning(name='median_credit_amt_1M', dtype=\"numerical\", max_n_prebins=4, monotonic_trend='descending')\n",
    "optb.fit(Xt, yt)  \n",
    "\n",
    "Xt_binned = optb.transform(Xt)\n",
    "\n",
    "ob_median_credit_amt_1M = optb.binning_table.build()\n",
    "\n",
    "optb.binning_table.plot(metric=\"event_rate\")"
   ]
  },
  {
   "cell_type": "code",
   "execution_count": 29,
   "metadata": {},
   "outputs": [
    {
     "data": {
      "text/html": [
       "<div>\n",
       "<style scoped>\n",
       "    .dataframe tbody tr th:only-of-type {\n",
       "        vertical-align: middle;\n",
       "    }\n",
       "\n",
       "    .dataframe tbody tr th {\n",
       "        vertical-align: top;\n",
       "    }\n",
       "\n",
       "    .dataframe thead th {\n",
       "        text-align: right;\n",
       "    }\n",
       "</style>\n",
       "<table border=\"1\" class=\"dataframe\">\n",
       "  <thead>\n",
       "    <tr style=\"text-align: right;\">\n",
       "      <th></th>\n",
       "      <th>Bin</th>\n",
       "      <th>Count</th>\n",
       "      <th>Count (%)</th>\n",
       "      <th>Non-event</th>\n",
       "      <th>Event</th>\n",
       "      <th>Event rate</th>\n",
       "      <th>WoE</th>\n",
       "      <th>IV</th>\n",
       "      <th>JS</th>\n",
       "    </tr>\n",
       "  </thead>\n",
       "  <tbody>\n",
       "    <tr>\n",
       "      <th>0</th>\n",
       "      <td>(-inf, 102.00)</td>\n",
       "      <td>128</td>\n",
       "      <td>0.287640</td>\n",
       "      <td>91</td>\n",
       "      <td>37</td>\n",
       "      <td>0.289062</td>\n",
       "      <td>-0.444738</td>\n",
       "      <td>0.064213</td>\n",
       "      <td>0.007961</td>\n",
       "    </tr>\n",
       "    <tr>\n",
       "      <th>1</th>\n",
       "      <td>[102.00, 475.21)</td>\n",
       "      <td>141</td>\n",
       "      <td>0.316854</td>\n",
       "      <td>109</td>\n",
       "      <td>32</td>\n",
       "      <td>0.226950</td>\n",
       "      <td>-0.119068</td>\n",
       "      <td>0.004649</td>\n",
       "      <td>0.000581</td>\n",
       "    </tr>\n",
       "    <tr>\n",
       "      <th>2</th>\n",
       "      <td>[475.21, inf)</td>\n",
       "      <td>176</td>\n",
       "      <td>0.395506</td>\n",
       "      <td>153</td>\n",
       "      <td>23</td>\n",
       "      <td>0.130682</td>\n",
       "      <td>0.550264</td>\n",
       "      <td>0.100934</td>\n",
       "      <td>0.012460</td>\n",
       "    </tr>\n",
       "    <tr>\n",
       "      <th>3</th>\n",
       "      <td>Special</td>\n",
       "      <td>0</td>\n",
       "      <td>0.000000</td>\n",
       "      <td>0</td>\n",
       "      <td>0</td>\n",
       "      <td>0.000000</td>\n",
       "      <td>0.0</td>\n",
       "      <td>0.000000</td>\n",
       "      <td>0.000000</td>\n",
       "    </tr>\n",
       "    <tr>\n",
       "      <th>4</th>\n",
       "      <td>Missing</td>\n",
       "      <td>0</td>\n",
       "      <td>0.000000</td>\n",
       "      <td>0</td>\n",
       "      <td>0</td>\n",
       "      <td>0.000000</td>\n",
       "      <td>0.0</td>\n",
       "      <td>0.000000</td>\n",
       "      <td>0.000000</td>\n",
       "    </tr>\n",
       "    <tr>\n",
       "      <th>Totals</th>\n",
       "      <td></td>\n",
       "      <td>445</td>\n",
       "      <td>1.000000</td>\n",
       "      <td>353</td>\n",
       "      <td>92</td>\n",
       "      <td>0.206742</td>\n",
       "      <td></td>\n",
       "      <td>0.169795</td>\n",
       "      <td>0.021002</td>\n",
       "    </tr>\n",
       "  </tbody>\n",
       "</table>\n",
       "</div>"
      ],
      "text/plain": [
       "                     Bin  Count  Count (%)  Non-event  Event  Event rate  \\\n",
       "0         (-inf, 102.00)    128   0.287640         91     37    0.289062   \n",
       "1       [102.00, 475.21)    141   0.316854        109     32    0.226950   \n",
       "2          [475.21, inf)    176   0.395506        153     23    0.130682   \n",
       "3                Special      0   0.000000          0      0    0.000000   \n",
       "4                Missing      0   0.000000          0      0    0.000000   \n",
       "Totals                      445   1.000000        353     92    0.206742   \n",
       "\n",
       "             WoE        IV        JS  \n",
       "0      -0.444738  0.064213  0.007961  \n",
       "1      -0.119068  0.004649  0.000581  \n",
       "2       0.550264  0.100934  0.012460  \n",
       "3            0.0  0.000000  0.000000  \n",
       "4            0.0  0.000000  0.000000  \n",
       "Totals            0.169795  0.021002  "
      ]
     },
     "execution_count": 29,
     "metadata": {},
     "output_type": "execute_result"
    }
   ],
   "source": [
    "ob_median_credit_amt_1M"
   ]
  },
  {
   "cell_type": "code",
   "execution_count": 30,
   "metadata": {},
   "outputs": [],
   "source": [
    "# 6\n",
    "# transform\n",
    "col         = 'median_credit_amt_1M'\n",
    "conditions  = [ transformed_vars[col] < 102,\n",
    "                (transformed_vars[col] >= 102 ) & (transformed_vars[col] < 475.2),\n",
    "                transformed_vars[col] >= 475.2 ]\n",
    "\n",
    "choices     = [-0.444738,-0.119068,0.550264]\n",
    "    \n",
    "transformed_vars[\"median_credit_amt_1M\"] = np.select(conditions, choices, default=np.nan)"
   ]
  },
  {
   "cell_type": "code",
   "execution_count": 31,
   "metadata": {},
   "outputs": [
    {
     "data": {
      "image/png": "[encoded data removed]",
      "text/plain": [
       "<Figure size 640x480 with 2 Axes>"
      ]
     },
     "metadata": {},
     "output_type": "display_data"
    }
   ],
   "source": [
    "# 7\n",
    "Xt= df_temp['ratio_pos_size_1M_6M']\n",
    "yt = df_temp['target'].astype(int)\n",
    "\n",
    "optb = OptimalBinning(name='ratio_pos_size_1M_6M', dtype=\"numerical\", max_n_prebins=4, monotonic_trend='descending',special_codes=[0])\n",
    "optb.fit(Xt, yt)  \n",
    "\n",
    "Xt_binned = optb.transform(Xt)\n",
    "\n",
    "ob_ratio_pos_size_1M_6M = optb.binning_table.build()\n",
    "\n",
    "optb.binning_table.plot(metric=\"event_rate\")"
   ]
  },
  {
   "cell_type": "code",
   "execution_count": 32,
   "metadata": {},
   "outputs": [
    {
     "data": {
      "text/html": [
       "<div>\n",
       "<style scoped>\n",
       "    .dataframe tbody tr th:only-of-type {\n",
       "        vertical-align: middle;\n",
       "    }\n",
       "\n",
       "    .dataframe tbody tr th {\n",
       "        vertical-align: top;\n",
       "    }\n",
       "\n",
       "    .dataframe thead th {\n",
       "        text-align: right;\n",
       "    }\n",
       "</style>\n",
       "<table border=\"1\" class=\"dataframe\">\n",
       "  <thead>\n",
       "    <tr style=\"text-align: right;\">\n",
       "      <th></th>\n",
       "      <th>Bin</th>\n",
       "      <th>Count</th>\n",
       "      <th>Count (%)</th>\n",
       "      <th>Non-event</th>\n",
       "      <th>Event</th>\n",
       "      <th>Event rate</th>\n",
       "      <th>WoE</th>\n",
       "      <th>IV</th>\n",
       "      <th>JS</th>\n",
       "    </tr>\n",
       "  </thead>\n",
       "  <tbody>\n",
       "    <tr>\n",
       "      <th>0</th>\n",
       "      <td>(-inf, 1.21)</td>\n",
       "      <td>168</td>\n",
       "      <td>0.377528</td>\n",
       "      <td>137</td>\n",
       "      <td>31</td>\n",
       "      <td>0.184524</td>\n",
       "      <td>0.141314</td>\n",
       "      <td>0.007228</td>\n",
       "      <td>0.000903</td>\n",
       "    </tr>\n",
       "    <tr>\n",
       "      <th>1</th>\n",
       "      <td>[1.21, inf)</td>\n",
       "      <td>26</td>\n",
       "      <td>0.058427</td>\n",
       "      <td>24</td>\n",
       "      <td>2</td>\n",
       "      <td>0.076923</td>\n",
       "      <td>1.140227</td>\n",
       "      <td>0.052735</td>\n",
       "      <td>0.006256</td>\n",
       "    </tr>\n",
       "    <tr>\n",
       "      <th>2</th>\n",
       "      <td>Special</td>\n",
       "      <td>251</td>\n",
       "      <td>0.564045</td>\n",
       "      <td>192</td>\n",
       "      <td>59</td>\n",
       "      <td>0.235060</td>\n",
       "      <td>-0.164722</td>\n",
       "      <td>0.016043</td>\n",
       "      <td>0.002003</td>\n",
       "    </tr>\n",
       "    <tr>\n",
       "      <th>3</th>\n",
       "      <td>Missing</td>\n",
       "      <td>0</td>\n",
       "      <td>0.000000</td>\n",
       "      <td>0</td>\n",
       "      <td>0</td>\n",
       "      <td>0.000000</td>\n",
       "      <td>0.0</td>\n",
       "      <td>0.000000</td>\n",
       "      <td>0.000000</td>\n",
       "    </tr>\n",
       "    <tr>\n",
       "      <th>Totals</th>\n",
       "      <td></td>\n",
       "      <td>445</td>\n",
       "      <td>1.000000</td>\n",
       "      <td>353</td>\n",
       "      <td>92</td>\n",
       "      <td>0.206742</td>\n",
       "      <td></td>\n",
       "      <td>0.076006</td>\n",
       "      <td>0.009162</td>\n",
       "    </tr>\n",
       "  </tbody>\n",
       "</table>\n",
       "</div>"
      ],
      "text/plain": [
       "                 Bin  Count  Count (%)  Non-event  Event  Event rate  \\\n",
       "0       (-inf, 1.21)    168   0.377528        137     31    0.184524   \n",
       "1        [1.21, inf)     26   0.058427         24      2    0.076923   \n",
       "2            Special    251   0.564045        192     59    0.235060   \n",
       "3            Missing      0   0.000000          0      0    0.000000   \n",
       "Totals                  445   1.000000        353     92    0.206742   \n",
       "\n",
       "             WoE        IV        JS  \n",
       "0       0.141314  0.007228  0.000903  \n",
       "1       1.140227  0.052735  0.006256  \n",
       "2      -0.164722  0.016043  0.002003  \n",
       "3            0.0  0.000000  0.000000  \n",
       "Totals            0.076006  0.009162  "
      ]
     },
     "execution_count": 32,
     "metadata": {},
     "output_type": "execute_result"
    }
   ],
   "source": [
    "ob_ratio_pos_size_1M_6M"
   ]
  },
  {
   "cell_type": "code",
   "execution_count": 33,
   "metadata": {},
   "outputs": [],
   "source": [
    "# 7\n",
    "# transform\n",
    "col         = 'ratio_pos_size_1M_6M'\n",
    "conditions  = [ transformed_vars[col] <= 0,\n",
    "                (transformed_vars[col] > 0 ) & (transformed_vars[col] < 1.21),\n",
    "                transformed_vars[col] >= 1.21 ]\n",
    "\n",
    "choices     = [-0.164722,0.141314,1.140227]\n",
    "    \n",
    "transformed_vars[\"ratio_pos_size_1M_6M\"] = np.select(conditions, choices, default=np.nan)"
   ]
  },
  {
   "cell_type": "code",
   "execution_count": 34,
   "metadata": {},
   "outputs": [
    {
     "data": {
      "image/png": "[encoded data removed]",
      "text/plain": [
       "<Figure size 640x480 with 2 Axes>"
      ]
     },
     "metadata": {},
     "output_type": "display_data"
    }
   ],
   "source": [
    "# 8\n",
    "Xt= df_temp['median_ecom_amt_6M']\n",
    "yt = df_temp['target'].astype(int)\n",
    "\n",
    "optb = OptimalBinning(name='median_ecom_amt_6M', dtype=\"numerical\", max_n_prebins=4, monotonic_trend='descending', special_codes=[0])\n",
    "optb.fit(Xt, yt)  \n",
    "\n",
    "Xt_binned = optb.transform(Xt)\n",
    "\n",
    "ob_median_ecom_amt_6M = optb.binning_table.build()\n",
    "\n",
    "optb.binning_table.plot(metric=\"event_rate\")"
   ]
  },
  {
   "cell_type": "code",
   "execution_count": 35,
   "metadata": {},
   "outputs": [
    {
     "data": {
      "text/html": [
       "<div>\n",
       "<style scoped>\n",
       "    .dataframe tbody tr th:only-of-type {\n",
       "        vertical-align: middle;\n",
       "    }\n",
       "\n",
       "    .dataframe tbody tr th {\n",
       "        vertical-align: top;\n",
       "    }\n",
       "\n",
       "    .dataframe thead th {\n",
       "        text-align: right;\n",
       "    }\n",
       "</style>\n",
       "<table border=\"1\" class=\"dataframe\">\n",
       "  <thead>\n",
       "    <tr style=\"text-align: right;\">\n",
       "      <th></th>\n",
       "      <th>Bin</th>\n",
       "      <th>Count</th>\n",
       "      <th>Count (%)</th>\n",
       "      <th>Non-event</th>\n",
       "      <th>Event</th>\n",
       "      <th>Event rate</th>\n",
       "      <th>WoE</th>\n",
       "      <th>IV</th>\n",
       "      <th>JS</th>\n",
       "    </tr>\n",
       "  </thead>\n",
       "  <tbody>\n",
       "    <tr>\n",
       "      <th>0</th>\n",
       "      <td>(-inf, 49.74)</td>\n",
       "      <td>101</td>\n",
       "      <td>0.226966</td>\n",
       "      <td>69</td>\n",
       "      <td>32</td>\n",
       "      <td>0.316832</td>\n",
       "      <td>-0.576309</td>\n",
       "      <td>0.087806</td>\n",
       "      <td>0.010826</td>\n",
       "    </tr>\n",
       "    <tr>\n",
       "      <th>1</th>\n",
       "      <td>[49.74, inf)</td>\n",
       "      <td>46</td>\n",
       "      <td>0.103371</td>\n",
       "      <td>34</td>\n",
       "      <td>12</td>\n",
       "      <td>0.260870</td>\n",
       "      <td>-0.303226</td>\n",
       "      <td>0.010345</td>\n",
       "      <td>0.001288</td>\n",
       "    </tr>\n",
       "    <tr>\n",
       "      <th>2</th>\n",
       "      <td>Special</td>\n",
       "      <td>298</td>\n",
       "      <td>0.669663</td>\n",
       "      <td>250</td>\n",
       "      <td>48</td>\n",
       "      <td>0.161074</td>\n",
       "      <td>0.30558</td>\n",
       "      <td>0.056983</td>\n",
       "      <td>0.007095</td>\n",
       "    </tr>\n",
       "    <tr>\n",
       "      <th>3</th>\n",
       "      <td>Missing</td>\n",
       "      <td>0</td>\n",
       "      <td>0.000000</td>\n",
       "      <td>0</td>\n",
       "      <td>0</td>\n",
       "      <td>0.000000</td>\n",
       "      <td>0.0</td>\n",
       "      <td>0.000000</td>\n",
       "      <td>0.000000</td>\n",
       "    </tr>\n",
       "    <tr>\n",
       "      <th>Totals</th>\n",
       "      <td></td>\n",
       "      <td>445</td>\n",
       "      <td>1.000000</td>\n",
       "      <td>353</td>\n",
       "      <td>92</td>\n",
       "      <td>0.206742</td>\n",
       "      <td></td>\n",
       "      <td>0.155134</td>\n",
       "      <td>0.019210</td>\n",
       "    </tr>\n",
       "  </tbody>\n",
       "</table>\n",
       "</div>"
      ],
      "text/plain": [
       "                  Bin  Count  Count (%)  Non-event  Event  Event rate  \\\n",
       "0       (-inf, 49.74)    101   0.226966         69     32    0.316832   \n",
       "1        [49.74, inf)     46   0.103371         34     12    0.260870   \n",
       "2             Special    298   0.669663        250     48    0.161074   \n",
       "3             Missing      0   0.000000          0      0    0.000000   \n",
       "Totals                   445   1.000000        353     92    0.206742   \n",
       "\n",
       "             WoE        IV        JS  \n",
       "0      -0.576309  0.087806  0.010826  \n",
       "1      -0.303226  0.010345  0.001288  \n",
       "2        0.30558  0.056983  0.007095  \n",
       "3            0.0  0.000000  0.000000  \n",
       "Totals            0.155134  0.019210  "
      ]
     },
     "execution_count": 35,
     "metadata": {},
     "output_type": "execute_result"
    }
   ],
   "source": [
    "ob_median_ecom_amt_6M"
   ]
  },
  {
   "cell_type": "code",
   "execution_count": 36,
   "metadata": {},
   "outputs": [],
   "source": [
    "# 8\n",
    "# transform\n",
    "col         = 'median_ecom_amt_6M'\n",
    "conditions  = [ transformed_vars[col] <= 0,\n",
    "                (transformed_vars[col] > 0 ) & (transformed_vars[col] < 49.74),\n",
    "                transformed_vars[col] >= 49.74 ]\n",
    "\n",
    "choices     = [0.30558,-0.576309,-0.303226]\n",
    "    \n",
    "transformed_vars[\"median_ecom_amt_6M\"] = np.select(conditions, choices, default=np.nan)"
   ]
  },
  {
   "cell_type": "code",
   "execution_count": 37,
   "metadata": {},
   "outputs": [
    {
     "data": {
      "image/png": "[encoded data removed]",
      "text/plain": [
       "<Figure size 640x480 with 2 Axes>"
      ]
     },
     "metadata": {},
     "output_type": "display_data"
    }
   ],
   "source": [
    "# 9\n",
    "Xt= df_temp['pos_count_3M']\n",
    "yt = df_temp['target'].astype(int)\n",
    "\n",
    "optb = OptimalBinning(name='pos_count_3M', dtype=\"numerical\", max_n_prebins=4, monotonic_trend='descending', special_codes=[0])\n",
    "optb.fit(Xt, yt)  \n",
    "\n",
    "Xt_binned = optb.transform(Xt)\n",
    "\n",
    "ob_pos_count_3M = optb.binning_table.build()\n",
    "\n",
    "optb.binning_table.plot(metric=\"event_rate\")"
   ]
  },
  {
   "cell_type": "code",
   "execution_count": 38,
   "metadata": {},
   "outputs": [
    {
     "data": {
      "text/html": [
       "<div>\n",
       "<style scoped>\n",
       "    .dataframe tbody tr th:only-of-type {\n",
       "        vertical-align: middle;\n",
       "    }\n",
       "\n",
       "    .dataframe tbody tr th {\n",
       "        vertical-align: top;\n",
       "    }\n",
       "\n",
       "    .dataframe thead th {\n",
       "        text-align: right;\n",
       "    }\n",
       "</style>\n",
       "<table border=\"1\" class=\"dataframe\">\n",
       "  <thead>\n",
       "    <tr style=\"text-align: right;\">\n",
       "      <th></th>\n",
       "      <th>Bin</th>\n",
       "      <th>Count</th>\n",
       "      <th>Count (%)</th>\n",
       "      <th>Non-event</th>\n",
       "      <th>Event</th>\n",
       "      <th>Event rate</th>\n",
       "      <th>WoE</th>\n",
       "      <th>IV</th>\n",
       "      <th>JS</th>\n",
       "    </tr>\n",
       "  </thead>\n",
       "  <tbody>\n",
       "    <tr>\n",
       "      <th>0</th>\n",
       "      <td>(-inf, inf)</td>\n",
       "      <td>262</td>\n",
       "      <td>0.588764</td>\n",
       "      <td>216</td>\n",
       "      <td>46</td>\n",
       "      <td>0.175573</td>\n",
       "      <td>0.201958</td>\n",
       "      <td>0.022599</td>\n",
       "      <td>0.002820</td>\n",
       "    </tr>\n",
       "    <tr>\n",
       "      <th>1</th>\n",
       "      <td>Special</td>\n",
       "      <td>183</td>\n",
       "      <td>0.411236</td>\n",
       "      <td>137</td>\n",
       "      <td>46</td>\n",
       "      <td>0.251366</td>\n",
       "      <td>-0.25334</td>\n",
       "      <td>0.028348</td>\n",
       "      <td>0.003534</td>\n",
       "    </tr>\n",
       "    <tr>\n",
       "      <th>2</th>\n",
       "      <td>Missing</td>\n",
       "      <td>0</td>\n",
       "      <td>0.000000</td>\n",
       "      <td>0</td>\n",
       "      <td>0</td>\n",
       "      <td>0.000000</td>\n",
       "      <td>0.0</td>\n",
       "      <td>0.000000</td>\n",
       "      <td>0.000000</td>\n",
       "    </tr>\n",
       "    <tr>\n",
       "      <th>Totals</th>\n",
       "      <td></td>\n",
       "      <td>445</td>\n",
       "      <td>1.000000</td>\n",
       "      <td>353</td>\n",
       "      <td>92</td>\n",
       "      <td>0.206742</td>\n",
       "      <td></td>\n",
       "      <td>0.050947</td>\n",
       "      <td>0.006354</td>\n",
       "    </tr>\n",
       "  </tbody>\n",
       "</table>\n",
       "</div>"
      ],
      "text/plain": [
       "                Bin  Count  Count (%)  Non-event  Event  Event rate       WoE  \\\n",
       "0       (-inf, inf)    262   0.588764        216     46    0.175573  0.201958   \n",
       "1           Special    183   0.411236        137     46    0.251366  -0.25334   \n",
       "2           Missing      0   0.000000          0      0    0.000000       0.0   \n",
       "Totals                 445   1.000000        353     92    0.206742             \n",
       "\n",
       "              IV        JS  \n",
       "0       0.022599  0.002820  \n",
       "1       0.028348  0.003534  \n",
       "2       0.000000  0.000000  \n",
       "Totals  0.050947  0.006354  "
      ]
     },
     "execution_count": 38,
     "metadata": {},
     "output_type": "execute_result"
    }
   ],
   "source": [
    "ob_pos_count_3M"
   ]
  },
  {
   "cell_type": "code",
   "execution_count": 39,
   "metadata": {},
   "outputs": [],
   "source": [
    "# 9\n",
    "# transform\n",
    "col         = 'pos_count_3M'\n",
    "conditions  = [ transformed_vars[col] <= 0,\n",
    "                transformed_vars[col] > 0 ]\n",
    "\n",
    "choices     = [-0.25334,0.201958]\n",
    "    \n",
    "transformed_vars[\"pos_count_3M\"] = np.select(conditions, choices, default=np.nan)"
   ]
  },
  {
   "cell_type": "code",
   "execution_count": 40,
   "metadata": {},
   "outputs": [
    {
     "data": {
      "image/png": "[encoded data removed]",
      "text/plain": [
       "<Figure size 640x480 with 2 Axes>"
      ]
     },
     "metadata": {},
     "output_type": "display_data"
    }
   ],
   "source": [
    "# 10\n",
    "Xt= df_temp['median_pos_amt_3M']\n",
    "yt = df_temp['target'].astype(int)\n",
    "\n",
    "optb = OptimalBinning(name='median_pos_amt_3M', dtype=\"numerical\", max_n_prebins=4, monotonic_trend='descending',special_codes=[0])\n",
    "optb.fit(Xt, yt)  \n",
    "\n",
    "Xt_binned = optb.transform(Xt)\n",
    "\n",
    "ob_median_pos_amt_3M = optb.binning_table.build()\n",
    "\n",
    "optb.binning_table.plot(metric=\"event_rate\")"
   ]
  },
  {
   "cell_type": "code",
   "execution_count": 41,
   "metadata": {},
   "outputs": [
    {
     "data": {
      "text/html": [
       "<div>\n",
       "<style scoped>\n",
       "    .dataframe tbody tr th:only-of-type {\n",
       "        vertical-align: middle;\n",
       "    }\n",
       "\n",
       "    .dataframe tbody tr th {\n",
       "        vertical-align: top;\n",
       "    }\n",
       "\n",
       "    .dataframe thead th {\n",
       "        text-align: right;\n",
       "    }\n",
       "</style>\n",
       "<table border=\"1\" class=\"dataframe\">\n",
       "  <thead>\n",
       "    <tr style=\"text-align: right;\">\n",
       "      <th></th>\n",
       "      <th>Bin</th>\n",
       "      <th>Count</th>\n",
       "      <th>Count (%)</th>\n",
       "      <th>Non-event</th>\n",
       "      <th>Event</th>\n",
       "      <th>Event rate</th>\n",
       "      <th>WoE</th>\n",
       "      <th>IV</th>\n",
       "      <th>JS</th>\n",
       "    </tr>\n",
       "  </thead>\n",
       "  <tbody>\n",
       "    <tr>\n",
       "      <th>0</th>\n",
       "      <td>(-inf, 486.25)</td>\n",
       "      <td>162</td>\n",
       "      <td>0.364045</td>\n",
       "      <td>125</td>\n",
       "      <td>37</td>\n",
       "      <td>0.228395</td>\n",
       "      <td>-0.127284</td>\n",
       "      <td>0.006118</td>\n",
       "      <td>0.000764</td>\n",
       "    </tr>\n",
       "    <tr>\n",
       "      <th>1</th>\n",
       "      <td>[486.25, inf)</td>\n",
       "      <td>100</td>\n",
       "      <td>0.224719</td>\n",
       "      <td>91</td>\n",
       "      <td>9</td>\n",
       "      <td>0.090000</td>\n",
       "      <td>0.968955</td>\n",
       "      <td>0.154998</td>\n",
       "      <td>0.018651</td>\n",
       "    </tr>\n",
       "    <tr>\n",
       "      <th>2</th>\n",
       "      <td>Special</td>\n",
       "      <td>183</td>\n",
       "      <td>0.411236</td>\n",
       "      <td>137</td>\n",
       "      <td>46</td>\n",
       "      <td>0.251366</td>\n",
       "      <td>-0.25334</td>\n",
       "      <td>0.028348</td>\n",
       "      <td>0.003534</td>\n",
       "    </tr>\n",
       "    <tr>\n",
       "      <th>3</th>\n",
       "      <td>Missing</td>\n",
       "      <td>0</td>\n",
       "      <td>0.000000</td>\n",
       "      <td>0</td>\n",
       "      <td>0</td>\n",
       "      <td>0.000000</td>\n",
       "      <td>0.0</td>\n",
       "      <td>0.000000</td>\n",
       "      <td>0.000000</td>\n",
       "    </tr>\n",
       "    <tr>\n",
       "      <th>Totals</th>\n",
       "      <td></td>\n",
       "      <td>445</td>\n",
       "      <td>1.000000</td>\n",
       "      <td>353</td>\n",
       "      <td>92</td>\n",
       "      <td>0.206742</td>\n",
       "      <td></td>\n",
       "      <td>0.189465</td>\n",
       "      <td>0.022949</td>\n",
       "    </tr>\n",
       "  </tbody>\n",
       "</table>\n",
       "</div>"
      ],
      "text/plain": [
       "                   Bin  Count  Count (%)  Non-event  Event  Event rate  \\\n",
       "0       (-inf, 486.25)    162   0.364045        125     37    0.228395   \n",
       "1        [486.25, inf)    100   0.224719         91      9    0.090000   \n",
       "2              Special    183   0.411236        137     46    0.251366   \n",
       "3              Missing      0   0.000000          0      0    0.000000   \n",
       "Totals                    445   1.000000        353     92    0.206742   \n",
       "\n",
       "             WoE        IV        JS  \n",
       "0      -0.127284  0.006118  0.000764  \n",
       "1       0.968955  0.154998  0.018651  \n",
       "2       -0.25334  0.028348  0.003534  \n",
       "3            0.0  0.000000  0.000000  \n",
       "Totals            0.189465  0.022949  "
      ]
     },
     "execution_count": 41,
     "metadata": {},
     "output_type": "execute_result"
    }
   ],
   "source": [
    "ob_median_pos_amt_3M"
   ]
  },
  {
   "cell_type": "code",
   "execution_count": 42,
   "metadata": {},
   "outputs": [],
   "source": [
    "# 10\n",
    "# transform\n",
    "col         = 'median_pos_amt_3M'\n",
    "conditions  = [ transformed_vars[col] <= 0,\n",
    "                (transformed_vars[col] > 0 ) & (transformed_vars[col] < 486.25),\n",
    "                transformed_vars[col] >= 486.25 ]\n",
    "\n",
    "choices     = [-0.25334,-0.127284,0.968955]\n",
    "    \n",
    "transformed_vars[\"median_pos_amt_3M\"] = np.select(conditions, choices, default=np.nan)"
   ]
  },
  {
   "cell_type": "code",
   "execution_count": 43,
   "metadata": {},
   "outputs": [
    {
     "data": {
      "image/png": "[encoded data removed]",
      "text/plain": [
       "<Figure size 640x480 with 2 Axes>"
      ]
     },
     "metadata": {},
     "output_type": "display_data"
    }
   ],
   "source": [
    "# 11\n",
    "Xt= df_temp['count_credits_grt_500_3M']\n",
    "yt = df_temp['target'].astype(int)\n",
    "\n",
    "optb = OptimalBinning(name='count_credits_grt_500_3M', dtype=\"numerical\", max_n_prebins=4, monotonic_trend='descending')\n",
    "optb.fit(Xt, yt)  \n",
    "\n",
    "Xt_binned = optb.transform(Xt)\n",
    "\n",
    "ob_count_credits_grt_500_3M = optb.binning_table.build()\n",
    "\n",
    "optb.binning_table.plot(metric=\"event_rate\")"
   ]
  },
  {
   "cell_type": "code",
   "execution_count": 44,
   "metadata": {},
   "outputs": [
    {
     "data": {
      "text/html": [
       "<div>\n",
       "<style scoped>\n",
       "    .dataframe tbody tr th:only-of-type {\n",
       "        vertical-align: middle;\n",
       "    }\n",
       "\n",
       "    .dataframe tbody tr th {\n",
       "        vertical-align: top;\n",
       "    }\n",
       "\n",
       "    .dataframe thead th {\n",
       "        text-align: right;\n",
       "    }\n",
       "</style>\n",
       "<table border=\"1\" class=\"dataframe\">\n",
       "  <thead>\n",
       "    <tr style=\"text-align: right;\">\n",
       "      <th></th>\n",
       "      <th>Bin</th>\n",
       "      <th>Count</th>\n",
       "      <th>Count (%)</th>\n",
       "      <th>Non-event</th>\n",
       "      <th>Event</th>\n",
       "      <th>Event rate</th>\n",
       "      <th>WoE</th>\n",
       "      <th>IV</th>\n",
       "      <th>JS</th>\n",
       "    </tr>\n",
       "  </thead>\n",
       "  <tbody>\n",
       "    <tr>\n",
       "      <th>0</th>\n",
       "      <td>(-inf, 1.50)</td>\n",
       "      <td>62</td>\n",
       "      <td>0.139326</td>\n",
       "      <td>44</td>\n",
       "      <td>18</td>\n",
       "      <td>0.290323</td>\n",
       "      <td>-0.450862</td>\n",
       "      <td>3.201401e-02</td>\n",
       "      <td>3.968197e-03</td>\n",
       "    </tr>\n",
       "    <tr>\n",
       "      <th>1</th>\n",
       "      <td>[1.50, 15.50)</td>\n",
       "      <td>261</td>\n",
       "      <td>0.586517</td>\n",
       "      <td>207</td>\n",
       "      <td>54</td>\n",
       "      <td>0.206897</td>\n",
       "      <td>-0.000945</td>\n",
       "      <td>5.236235e-07</td>\n",
       "      <td>6.545294e-08</td>\n",
       "    </tr>\n",
       "    <tr>\n",
       "      <th>2</th>\n",
       "      <td>[15.50, inf)</td>\n",
       "      <td>122</td>\n",
       "      <td>0.274157</td>\n",
       "      <td>102</td>\n",
       "      <td>20</td>\n",
       "      <td>0.163934</td>\n",
       "      <td>0.284561</td>\n",
       "      <td>2.036334e-02</td>\n",
       "      <td>2.536864e-03</td>\n",
       "    </tr>\n",
       "    <tr>\n",
       "      <th>3</th>\n",
       "      <td>Special</td>\n",
       "      <td>0</td>\n",
       "      <td>0.000000</td>\n",
       "      <td>0</td>\n",
       "      <td>0</td>\n",
       "      <td>0.000000</td>\n",
       "      <td>0.0</td>\n",
       "      <td>0.000000e+00</td>\n",
       "      <td>0.000000e+00</td>\n",
       "    </tr>\n",
       "    <tr>\n",
       "      <th>4</th>\n",
       "      <td>Missing</td>\n",
       "      <td>0</td>\n",
       "      <td>0.000000</td>\n",
       "      <td>0</td>\n",
       "      <td>0</td>\n",
       "      <td>0.000000</td>\n",
       "      <td>0.0</td>\n",
       "      <td>0.000000e+00</td>\n",
       "      <td>0.000000e+00</td>\n",
       "    </tr>\n",
       "    <tr>\n",
       "      <th>Totals</th>\n",
       "      <td></td>\n",
       "      <td>445</td>\n",
       "      <td>1.000000</td>\n",
       "      <td>353</td>\n",
       "      <td>92</td>\n",
       "      <td>0.206742</td>\n",
       "      <td></td>\n",
       "      <td>5.237787e-02</td>\n",
       "      <td>6.505127e-03</td>\n",
       "    </tr>\n",
       "  </tbody>\n",
       "</table>\n",
       "</div>"
      ],
      "text/plain": [
       "                  Bin  Count  Count (%)  Non-event  Event  Event rate  \\\n",
       "0        (-inf, 1.50)     62   0.139326         44     18    0.290323   \n",
       "1       [1.50, 15.50)    261   0.586517        207     54    0.206897   \n",
       "2        [15.50, inf)    122   0.274157        102     20    0.163934   \n",
       "3             Special      0   0.000000          0      0    0.000000   \n",
       "4             Missing      0   0.000000          0      0    0.000000   \n",
       "Totals                   445   1.000000        353     92    0.206742   \n",
       "\n",
       "             WoE            IV            JS  \n",
       "0      -0.450862  3.201401e-02  3.968197e-03  \n",
       "1      -0.000945  5.236235e-07  6.545294e-08  \n",
       "2       0.284561  2.036334e-02  2.536864e-03  \n",
       "3            0.0  0.000000e+00  0.000000e+00  \n",
       "4            0.0  0.000000e+00  0.000000e+00  \n",
       "Totals            5.237787e-02  6.505127e-03  "
      ]
     },
     "execution_count": 44,
     "metadata": {},
     "output_type": "execute_result"
    }
   ],
   "source": [
    "ob_count_credits_grt_500_3M"
   ]
  },
  {
   "cell_type": "code",
   "execution_count": 45,
   "metadata": {},
   "outputs": [],
   "source": [
    "# 11\n",
    "# transform\n",
    "col         = 'count_credits_grt_500_3M'\n",
    "conditions  = [ transformed_vars[col] < 1.5,\n",
    "                (transformed_vars[col] >= 1.5 ) & (transformed_vars[col] < 15.5),\n",
    "                transformed_vars[col] >= 15.5 ]\n",
    "\n",
    "choices     = [-0.450862,-0.000945,0.284561]\n",
    "    \n",
    "transformed_vars[\"count_credits_grt_500_3M\"] = np.select(conditions, choices, default=np.nan)"
   ]
  },
  {
   "cell_type": "code",
   "execution_count": 46,
   "metadata": {},
   "outputs": [
    {
     "data": {
      "image/png": "[encoded data removed]",
      "text/plain": [
       "<Figure size 640x480 with 2 Axes>"
      ]
     },
     "metadata": {},
     "output_type": "display_data"
    }
   ],
   "source": [
    "# 12\n",
    "Xt= df_temp['loans_size_6M']\n",
    "yt = df_temp['target'].astype(int)\n",
    "\n",
    "optb = OptimalBinning(name='loans_size_6M', dtype=\"numerical\", max_n_prebins=4, monotonic_trend='descending',special_codes=[0])\n",
    "optb.fit(Xt, yt)  \n",
    "\n",
    "Xt_binned = optb.transform(Xt)\n",
    "\n",
    "ob_loans_size_6M = optb.binning_table.build()\n",
    "\n",
    "optb.binning_table.plot(metric=\"event_rate\")"
   ]
  },
  {
   "cell_type": "code",
   "execution_count": 47,
   "metadata": {},
   "outputs": [
    {
     "data": {
      "text/html": [
       "<div>\n",
       "<style scoped>\n",
       "    .dataframe tbody tr th:only-of-type {\n",
       "        vertical-align: middle;\n",
       "    }\n",
       "\n",
       "    .dataframe tbody tr th {\n",
       "        vertical-align: top;\n",
       "    }\n",
       "\n",
       "    .dataframe thead th {\n",
       "        text-align: right;\n",
       "    }\n",
       "</style>\n",
       "<table border=\"1\" class=\"dataframe\">\n",
       "  <thead>\n",
       "    <tr style=\"text-align: right;\">\n",
       "      <th></th>\n",
       "      <th>Bin</th>\n",
       "      <th>Count</th>\n",
       "      <th>Count (%)</th>\n",
       "      <th>Non-event</th>\n",
       "      <th>Event</th>\n",
       "      <th>Event rate</th>\n",
       "      <th>WoE</th>\n",
       "      <th>IV</th>\n",
       "      <th>JS</th>\n",
       "    </tr>\n",
       "  </thead>\n",
       "  <tbody>\n",
       "    <tr>\n",
       "      <th>0</th>\n",
       "      <td>(-inf, 3316.67)</td>\n",
       "      <td>65</td>\n",
       "      <td>0.146067</td>\n",
       "      <td>44</td>\n",
       "      <td>21</td>\n",
       "      <td>0.323077</td>\n",
       "      <td>-0.605012</td>\n",
       "      <td>0.062688</td>\n",
       "      <td>0.007719</td>\n",
       "    </tr>\n",
       "    <tr>\n",
       "      <th>1</th>\n",
       "      <td>[3316.67, inf)</td>\n",
       "      <td>29</td>\n",
       "      <td>0.065169</td>\n",
       "      <td>26</td>\n",
       "      <td>3</td>\n",
       "      <td>0.103448</td>\n",
       "      <td>0.814805</td>\n",
       "      <td>0.033444</td>\n",
       "      <td>0.004069</td>\n",
       "    </tr>\n",
       "    <tr>\n",
       "      <th>2</th>\n",
       "      <td>Special</td>\n",
       "      <td>351</td>\n",
       "      <td>0.788764</td>\n",
       "      <td>283</td>\n",
       "      <td>68</td>\n",
       "      <td>0.193732</td>\n",
       "      <td>0.08126</td>\n",
       "      <td>0.005084</td>\n",
       "      <td>0.000635</td>\n",
       "    </tr>\n",
       "    <tr>\n",
       "      <th>3</th>\n",
       "      <td>Missing</td>\n",
       "      <td>0</td>\n",
       "      <td>0.000000</td>\n",
       "      <td>0</td>\n",
       "      <td>0</td>\n",
       "      <td>0.000000</td>\n",
       "      <td>0.0</td>\n",
       "      <td>0.000000</td>\n",
       "      <td>0.000000</td>\n",
       "    </tr>\n",
       "    <tr>\n",
       "      <th>Totals</th>\n",
       "      <td></td>\n",
       "      <td>445</td>\n",
       "      <td>1.000000</td>\n",
       "      <td>353</td>\n",
       "      <td>92</td>\n",
       "      <td>0.206742</td>\n",
       "      <td></td>\n",
       "      <td>0.101217</td>\n",
       "      <td>0.012423</td>\n",
       "    </tr>\n",
       "  </tbody>\n",
       "</table>\n",
       "</div>"
      ],
      "text/plain": [
       "                    Bin  Count  Count (%)  Non-event  Event  Event rate  \\\n",
       "0       (-inf, 3316.67)     65   0.146067         44     21    0.323077   \n",
       "1        [3316.67, inf)     29   0.065169         26      3    0.103448   \n",
       "2               Special    351   0.788764        283     68    0.193732   \n",
       "3               Missing      0   0.000000          0      0    0.000000   \n",
       "Totals                     445   1.000000        353     92    0.206742   \n",
       "\n",
       "             WoE        IV        JS  \n",
       "0      -0.605012  0.062688  0.007719  \n",
       "1       0.814805  0.033444  0.004069  \n",
       "2        0.08126  0.005084  0.000635  \n",
       "3            0.0  0.000000  0.000000  \n",
       "Totals            0.101217  0.012423  "
      ]
     },
     "execution_count": 47,
     "metadata": {},
     "output_type": "execute_result"
    }
   ],
   "source": [
    "ob_loans_size_6M"
   ]
  },
  {
   "cell_type": "code",
   "execution_count": 48,
   "metadata": {},
   "outputs": [],
   "source": [
    "# 12\n",
    "# transform\n",
    "col         = 'loans_size_6M'\n",
    "conditions  = [ transformed_vars[col] <= 0,\n",
    "                (transformed_vars[col] > 0 ) & (transformed_vars[col] < 3317),\n",
    "                transformed_vars[col] >= 3317 ]\n",
    "\n",
    "choices     = [0.08126,-0.605012,0.814805]\n",
    "    \n",
    "transformed_vars[\"loans_size_6M\"] = np.select(conditions, choices, default=np.nan)"
   ]
  },
  {
   "cell_type": "code",
   "execution_count": 49,
   "metadata": {},
   "outputs": [
    {
     "data": {
      "image/png": "[encoded data removed]",
      "text/plain": [
       "<Figure size 640x480 with 2 Axes>"
      ]
     },
     "metadata": {},
     "output_type": "display_data"
    }
   ],
   "source": [
    "# 13\n",
    "Xt= df_temp['sum_credits_grt_500_1M']\n",
    "yt = df_temp['target'].astype(int)\n",
    "\n",
    "optb = OptimalBinning(name='sum_credits_grt_500_1M', dtype=\"numerical\", max_n_prebins=4, monotonic_trend='descending')\n",
    "optb.fit(Xt, yt)  \n",
    "\n",
    "Xt_binned = optb.transform(Xt)\n",
    "\n",
    "ob_sum_credits_grt_500_1M = optb.binning_table.build()\n",
    "\n",
    "optb.binning_table.plot(metric=\"event_rate\")"
   ]
  },
  {
   "cell_type": "code",
   "execution_count": 50,
   "metadata": {},
   "outputs": [
    {
     "data": {
      "text/html": [
       "<div>\n",
       "<style scoped>\n",
       "    .dataframe tbody tr th:only-of-type {\n",
       "        vertical-align: middle;\n",
       "    }\n",
       "\n",
       "    .dataframe tbody tr th {\n",
       "        vertical-align: top;\n",
       "    }\n",
       "\n",
       "    .dataframe thead th {\n",
       "        text-align: right;\n",
       "    }\n",
       "</style>\n",
       "<table border=\"1\" class=\"dataframe\">\n",
       "  <thead>\n",
       "    <tr style=\"text-align: right;\">\n",
       "      <th></th>\n",
       "      <th>Bin</th>\n",
       "      <th>Count</th>\n",
       "      <th>Count (%)</th>\n",
       "      <th>Non-event</th>\n",
       "      <th>Event</th>\n",
       "      <th>Event rate</th>\n",
       "      <th>WoE</th>\n",
       "      <th>IV</th>\n",
       "      <th>JS</th>\n",
       "    </tr>\n",
       "  </thead>\n",
       "  <tbody>\n",
       "    <tr>\n",
       "      <th>0</th>\n",
       "      <td>(-inf, 6586.72)</td>\n",
       "      <td>260</td>\n",
       "      <td>0.58427</td>\n",
       "      <td>195</td>\n",
       "      <td>65</td>\n",
       "      <td>0.250000</td>\n",
       "      <td>-0.246067</td>\n",
       "      <td>0.037922</td>\n",
       "      <td>0.004728</td>\n",
       "    </tr>\n",
       "    <tr>\n",
       "      <th>1</th>\n",
       "      <td>[6586.72, inf)</td>\n",
       "      <td>185</td>\n",
       "      <td>0.41573</td>\n",
       "      <td>158</td>\n",
       "      <td>27</td>\n",
       "      <td>0.145946</td>\n",
       "      <td>0.422079</td>\n",
       "      <td>0.065048</td>\n",
       "      <td>0.008071</td>\n",
       "    </tr>\n",
       "    <tr>\n",
       "      <th>2</th>\n",
       "      <td>Special</td>\n",
       "      <td>0</td>\n",
       "      <td>0.00000</td>\n",
       "      <td>0</td>\n",
       "      <td>0</td>\n",
       "      <td>0.000000</td>\n",
       "      <td>0.0</td>\n",
       "      <td>0.000000</td>\n",
       "      <td>0.000000</td>\n",
       "    </tr>\n",
       "    <tr>\n",
       "      <th>3</th>\n",
       "      <td>Missing</td>\n",
       "      <td>0</td>\n",
       "      <td>0.00000</td>\n",
       "      <td>0</td>\n",
       "      <td>0</td>\n",
       "      <td>0.000000</td>\n",
       "      <td>0.0</td>\n",
       "      <td>0.000000</td>\n",
       "      <td>0.000000</td>\n",
       "    </tr>\n",
       "    <tr>\n",
       "      <th>Totals</th>\n",
       "      <td></td>\n",
       "      <td>445</td>\n",
       "      <td>1.00000</td>\n",
       "      <td>353</td>\n",
       "      <td>92</td>\n",
       "      <td>0.206742</td>\n",
       "      <td></td>\n",
       "      <td>0.102971</td>\n",
       "      <td>0.012800</td>\n",
       "    </tr>\n",
       "  </tbody>\n",
       "</table>\n",
       "</div>"
      ],
      "text/plain": [
       "                    Bin  Count  Count (%)  Non-event  Event  Event rate  \\\n",
       "0       (-inf, 6586.72)    260    0.58427        195     65    0.250000   \n",
       "1        [6586.72, inf)    185    0.41573        158     27    0.145946   \n",
       "2               Special      0    0.00000          0      0    0.000000   \n",
       "3               Missing      0    0.00000          0      0    0.000000   \n",
       "Totals                     445    1.00000        353     92    0.206742   \n",
       "\n",
       "             WoE        IV        JS  \n",
       "0      -0.246067  0.037922  0.004728  \n",
       "1       0.422079  0.065048  0.008071  \n",
       "2            0.0  0.000000  0.000000  \n",
       "3            0.0  0.000000  0.000000  \n",
       "Totals            0.102971  0.012800  "
      ]
     },
     "execution_count": 50,
     "metadata": {},
     "output_type": "execute_result"
    }
   ],
   "source": [
    "ob_sum_credits_grt_500_1M"
   ]
  },
  {
   "cell_type": "code",
   "execution_count": 51,
   "metadata": {},
   "outputs": [],
   "source": [
    "# 13\n",
    "# transform\n",
    "col         = 'sum_credits_grt_500_1M'\n",
    "conditions  = [ transformed_vars[col] < 6587,\n",
    "                transformed_vars[col] >= 6587 ]\n",
    "\n",
    "choices     = [-0.246067,0.422079]\n",
    "    \n",
    "transformed_vars[\"sum_credits_grt_500_1M\"] = np.select(conditions, choices, default=np.nan)"
   ]
  },
  {
   "cell_type": "code",
   "execution_count": 52,
   "metadata": {},
   "outputs": [
    {
     "data": {
      "image/png": "[encoded data removed]",
      "text/plain": [
       "<Figure size 640x480 with 2 Axes>"
      ]
     },
     "metadata": {},
     "output_type": "display_data"
    }
   ],
   "source": [
    "# 14\n",
    "Xt= df_temp['ach_count_6M']\n",
    "yt = df_temp['target'].astype(int)\n",
    "\n",
    "optb = OptimalBinning(name='ach_count_6M', dtype=\"numerical\", max_n_prebins=4, monotonic_trend='descending')\n",
    "optb.fit(Xt, yt)  \n",
    "\n",
    "Xt_binned = optb.transform(Xt)\n",
    "\n",
    "ob_ach_count_6M = optb.binning_table.build()\n",
    "\n",
    "optb.binning_table.plot(metric=\"event_rate\")"
   ]
  },
  {
   "cell_type": "code",
   "execution_count": 53,
   "metadata": {},
   "outputs": [
    {
     "data": {
      "text/html": [
       "<div>\n",
       "<style scoped>\n",
       "    .dataframe tbody tr th:only-of-type {\n",
       "        vertical-align: middle;\n",
       "    }\n",
       "\n",
       "    .dataframe tbody tr th {\n",
       "        vertical-align: top;\n",
       "    }\n",
       "\n",
       "    .dataframe thead th {\n",
       "        text-align: right;\n",
       "    }\n",
       "</style>\n",
       "<table border=\"1\" class=\"dataframe\">\n",
       "  <thead>\n",
       "    <tr style=\"text-align: right;\">\n",
       "      <th></th>\n",
       "      <th>Bin</th>\n",
       "      <th>Count</th>\n",
       "      <th>Count (%)</th>\n",
       "      <th>Non-event</th>\n",
       "      <th>Event</th>\n",
       "      <th>Event rate</th>\n",
       "      <th>WoE</th>\n",
       "      <th>IV</th>\n",
       "      <th>JS</th>\n",
       "    </tr>\n",
       "  </thead>\n",
       "  <tbody>\n",
       "    <tr>\n",
       "      <th>0</th>\n",
       "      <td>(-inf, 6.50)</td>\n",
       "      <td>385</td>\n",
       "      <td>0.865169</td>\n",
       "      <td>304</td>\n",
       "      <td>81</td>\n",
       "      <td>0.210390</td>\n",
       "      <td>-0.022101</td>\n",
       "      <td>0.000425</td>\n",
       "      <td>0.000053</td>\n",
       "    </tr>\n",
       "    <tr>\n",
       "      <th>1</th>\n",
       "      <td>[6.50, inf)</td>\n",
       "      <td>60</td>\n",
       "      <td>0.134831</td>\n",
       "      <td>49</td>\n",
       "      <td>11</td>\n",
       "      <td>0.183333</td>\n",
       "      <td>0.149246</td>\n",
       "      <td>0.002872</td>\n",
       "      <td>0.000359</td>\n",
       "    </tr>\n",
       "    <tr>\n",
       "      <th>2</th>\n",
       "      <td>Special</td>\n",
       "      <td>0</td>\n",
       "      <td>0.000000</td>\n",
       "      <td>0</td>\n",
       "      <td>0</td>\n",
       "      <td>0.000000</td>\n",
       "      <td>0.0</td>\n",
       "      <td>0.000000</td>\n",
       "      <td>0.000000</td>\n",
       "    </tr>\n",
       "    <tr>\n",
       "      <th>3</th>\n",
       "      <td>Missing</td>\n",
       "      <td>0</td>\n",
       "      <td>0.000000</td>\n",
       "      <td>0</td>\n",
       "      <td>0</td>\n",
       "      <td>0.000000</td>\n",
       "      <td>0.0</td>\n",
       "      <td>0.000000</td>\n",
       "      <td>0.000000</td>\n",
       "    </tr>\n",
       "    <tr>\n",
       "      <th>Totals</th>\n",
       "      <td></td>\n",
       "      <td>445</td>\n",
       "      <td>1.000000</td>\n",
       "      <td>353</td>\n",
       "      <td>92</td>\n",
       "      <td>0.206742</td>\n",
       "      <td></td>\n",
       "      <td>0.003298</td>\n",
       "      <td>0.000412</td>\n",
       "    </tr>\n",
       "  </tbody>\n",
       "</table>\n",
       "</div>"
      ],
      "text/plain": [
       "                 Bin  Count  Count (%)  Non-event  Event  Event rate  \\\n",
       "0       (-inf, 6.50)    385   0.865169        304     81    0.210390   \n",
       "1        [6.50, inf)     60   0.134831         49     11    0.183333   \n",
       "2            Special      0   0.000000          0      0    0.000000   \n",
       "3            Missing      0   0.000000          0      0    0.000000   \n",
       "Totals                  445   1.000000        353     92    0.206742   \n",
       "\n",
       "             WoE        IV        JS  \n",
       "0      -0.022101  0.000425  0.000053  \n",
       "1       0.149246  0.002872  0.000359  \n",
       "2            0.0  0.000000  0.000000  \n",
       "3            0.0  0.000000  0.000000  \n",
       "Totals            0.003298  0.000412  "
      ]
     },
     "execution_count": 53,
     "metadata": {},
     "output_type": "execute_result"
    }
   ],
   "source": [
    "ob_ach_count_6M"
   ]
  },
  {
   "cell_type": "code",
   "execution_count": 54,
   "metadata": {},
   "outputs": [],
   "source": [
    "# 14\n",
    "# transform\n",
    "col         = 'ach_count_6M'\n",
    "conditions  = [ transformed_vars[col] < 6.5,\n",
    "                transformed_vars[col] >= 6.5 ]\n",
    "\n",
    "choices     = [-0.022101,0.149246]\n",
    "    \n",
    "transformed_vars[\"ach_count_6M\"] = np.select(conditions, choices, default=np.nan)"
   ]
  },
  {
   "cell_type": "markdown",
   "metadata": {},
   "source": [
    "#### Model fitting"
   ]
  },
  {
   "cell_type": "code",
   "execution_count": 55,
   "metadata": {},
   "outputs": [],
   "source": [
    "# copy vars\n",
    "X_train = transformed_vars.copy()\n",
    "\n",
    "# hyperparameters\n",
    "params_log_reg = {'penalty': 'l2',\n",
    "                  'random_state': seed,\n",
    "                  'solver': 'liblinear',\n",
    "                  'class_weight': 'balanced'}\n",
    "\n",
    "# model fit\n",
    "logreg_model = classification_models(X_train[feat_list], y_train, params_log_reg, models=['log_reg'])"
   ]
  },
  {
   "cell_type": "code",
   "execution_count": 56,
   "metadata": {},
   "outputs": [
    {
     "name": "stdout",
     "output_type": "stream",
     "text": [
      "CV Scores - [0.74 0.67 0.64]\n",
      "Mean of CV Scores - 0.68\n"
     ]
    }
   ],
   "source": [
    "# train cv scores\n",
    "cv_scores = cross_validation(logreg_model, X_train[feat_list], y_train, scoring='roc_auc', folds=3, seed=seed)\n",
    "print('CV Scores -',np.round(cv_scores, 2))\n",
    "print('Mean of CV Scores -',np.round(np.mean(cv_scores),2))"
   ]
  },
  {
   "cell_type": "code",
   "execution_count": 57,
   "metadata": {},
   "outputs": [
    {
     "data": {
      "application/vnd.plotly.v1+json": {
       "config": {
        "plotlyServerURL": "https://plot.ly"
       },
       "data": [
        {
         "alignmentgroup": "True",
         "hovertemplate": "variable=importance<br>value=%{x}<br>index=%{y}<extra></extra>",
         "legendgroup": "importance",
         "marker": {
          "color": "#636efa",
          "pattern": {
           "shape": ""
          }
         },
         "name": "importance",
         "offsetgroup": "importance",
         "orientation": "h",
         "showlegend": true,
         "textposition": "auto",
         "type": "bar",
         "x": [
          -0.6987393314635253,
          -0.5614425780344536,
          -0.18329534243043255,
          -0.3556550492496639,
          0.20216321655461333,
          -0.34100881363481517,
          -0.7100175122461624,
          -0.8136398149845648,
          -0.4347665324481,
          -0.5459624557664475,
          0.18335575158048334,
          -0.13148899349478946,
          0.018701042300278317,
          -0.28437357469871904
         ],
         "xaxis": "x",
         "y": [
          "stddev_credit_amt_3M",
          "shops_amt_3M",
          "pos_size_1M",
          "loans_amt_6M",
          "ratio_amt_credits_less_100_credits_grt_500_3M",
          "median_credit_amt_1M",
          "ratio_pos_size_1M_6M",
          "median_ecom_amt_6M",
          "pos_count_3M",
          "median_pos_amt_3M",
          "count_credits_grt_500_3M",
          "loans_size_6M",
          "sum_credits_grt_500_1M",
          "ach_count_6M"
         ],
         "yaxis": "y"
        }
       ],
       "layout": {
        "barmode": "relative",
        "height": 500,
        "legend": {
         "title": {
          "text": "variable"
         },
         "tracegroupgap": 0
        },
        "margin": {
         "t": 60
        },
        "template": {
         "data": {
          "bar": [
           {
            "error_x": {
             "color": "#2a3f5f"
            },
            "error_y": {
             "color": "#2a3f5f"
            },
            "marker": {
             "line": {
              "color": "#E5ECF6",
              "width": 0.5
             },
             "pattern": {
              "fillmode": "overlay",
              "size": 10,
              "solidity": 0.2
             }
            },
            "type": "bar"
           }
          ],
          "barpolar": [
           {
            "marker": {
             "line": {
              "color": "#E5ECF6",
              "width": 0.5
             },
             "pattern": {
              "fillmode": "overlay",
              "size": 10,
              "solidity": 0.2
             }
            },
            "type": "barpolar"
           }
          ],
          "carpet": [
           {
            "aaxis": {
             "endlinecolor": "#2a3f5f",
             "gridcolor": "white",
             "linecolor": "white",
             "minorgridcolor": "white",
             "startlinecolor": "#2a3f5f"
            },
            "baxis": {
             "endlinecolor": "#2a3f5f",
             "gridcolor": "white",
             "linecolor": "white",
             "minorgridcolor": "white",
             "startlinecolor": "#2a3f5f"
            },
            "type": "carpet"
           }
          ],
          "choropleth": [
           {
            "colorbar": {
             "outlinewidth": 0,
             "ticks": ""
            },
            "type": "choropleth"
           }
          ],
          "contour": [
           {
            "colorbar": {
             "outlinewidth": 0,
             "ticks": ""
            },
            "colorscale": [
             [
              0,
              "#0d0887"
             ],
             [
              0.1111111111111111,
              "#46039f"
             ],
             [
              0.2222222222222222,
              "#7201a8"
             ],
             [
              0.3333333333333333,
              "#9c179e"
             ],
             [
              0.4444444444444444,
              "#bd3786"
             ],
             [
              0.5555555555555556,
              "#d8576b"
             ],
             [
              0.6666666666666666,
              "#ed7953"
             ],
             [
              0.7777777777777778,
              "#fb9f3a"
             ],
             [
              0.8888888888888888,
              "#fdca26"
             ],
             [
              1,
              "#f0f921"
             ]
            ],
            "type": "contour"
           }
          ],
          "contourcarpet": [
           {
            "colorbar": {
             "outlinewidth": 0,
             "ticks": ""
            },
            "type": "contourcarpet"
           }
          ],
          "heatmap": [
           {
            "colorbar": {
             "outlinewidth": 0,
             "ticks": ""
            },
            "colorscale": [
             [
              0,
              "#0d0887"
             ],
             [
              0.1111111111111111,
              "#46039f"
             ],
             [
              0.2222222222222222,
              "#7201a8"
             ],
             [
              0.3333333333333333,
              "#9c179e"
             ],
             [
              0.4444444444444444,
              "#bd3786"
             ],
             [
              0.5555555555555556,
              "#d8576b"
             ],
             [
              0.6666666666666666,
              "#ed7953"
             ],
             [
              0.7777777777777778,
              "#fb9f3a"
             ],
             [
              0.8888888888888888,
              "#fdca26"
             ],
             [
              1,
              "#f0f921"
             ]
            ],
            "type": "heatmap"
           }
          ],
          "heatmapgl": [
           {
            "colorbar": {
             "outlinewidth": 0,
             "ticks": ""
            },
            "colorscale": [
             [
              0,
              "#0d0887"
             ],
             [
              0.1111111111111111,
              "#46039f"
             ],
             [
              0.2222222222222222,
              "#7201a8"
             ],
             [
              0.3333333333333333,
              "#9c179e"
             ],
             [
              0.4444444444444444,
              "#bd3786"
             ],
             [
              0.5555555555555556,
              "#d8576b"
             ],
             [
              0.6666666666666666,
              "#ed7953"
             ],
             [
              0.7777777777777778,
              "#fb9f3a"
             ],
             [
              0.8888888888888888,
              "#fdca26"
             ],
             [
              1,
              "#f0f921"
             ]
            ],
            "type": "heatmapgl"
           }
          ],
          "histogram": [
           {
            "marker": {
             "pattern": {
              "fillmode": "overlay",
              "size": 10,
              "solidity": 0.2
             }
            },
            "type": "histogram"
           }
          ],
          "histogram2d": [
           {
            "colorbar": {
             "outlinewidth": 0,
             "ticks": ""
            },
            "colorscale": [
             [
              0,
              "#0d0887"
             ],
             [
              0.1111111111111111,
              "#46039f"
             ],
             [
              0.2222222222222222,
              "#7201a8"
             ],
             [
              0.3333333333333333,
              "#9c179e"
             ],
             [
              0.4444444444444444,
              "#bd3786"
             ],
             [
              0.5555555555555556,
              "#d8576b"
             ],
             [
              0.6666666666666666,
              "#ed7953"
             ],
             [
              0.7777777777777778,
              "#fb9f3a"
             ],
             [
              0.8888888888888888,
              "#fdca26"
             ],
             [
              1,
              "#f0f921"
             ]
            ],
            "type": "histogram2d"
           }
          ],
          "histogram2dcontour": [
           {
            "colorbar": {
             "outlinewidth": 0,
             "ticks": ""
            },
            "colorscale": [
             [
              0,
              "#0d0887"
             ],
             [
              0.1111111111111111,
              "#46039f"
             ],
             [
              0.2222222222222222,
              "#7201a8"
             ],
             [
              0.3333333333333333,
              "#9c179e"
             ],
             [
              0.4444444444444444,
              "#bd3786"
             ],
             [
              0.5555555555555556,
              "#d8576b"
             ],
             [
              0.6666666666666666,
              "#ed7953"
             ],
             [
              0.7777777777777778,
              "#fb9f3a"
             ],
             [
              0.8888888888888888,
              "#fdca26"
             ],
             [
              1,
              "#f0f921"
             ]
            ],
            "type": "histogram2dcontour"
           }
          ],
          "mesh3d": [
           {
            "colorbar": {
             "outlinewidth": 0,
             "ticks": ""
            },
            "type": "mesh3d"
           }
          ],
          "parcoords": [
           {
            "line": {
             "colorbar": {
              "outlinewidth": 0,
              "ticks": ""
             }
            },
            "type": "parcoords"
           }
          ],
          "pie": [
           {
            "automargin": true,
            "type": "pie"
           }
          ],
          "scatter": [
           {
            "fillpattern": {
             "fillmode": "overlay",
             "size": 10,
             "solidity": 0.2
            },
            "type": "scatter"
           }
          ],
          "scatter3d": [
           {
            "line": {
             "colorbar": {
              "outlinewidth": 0,
              "ticks": ""
             }
            },
            "marker": {
             "colorbar": {
              "outlinewidth": 0,
              "ticks": ""
             }
            },
            "type": "scatter3d"
           }
          ],
          "scattercarpet": [
           {
            "marker": {
             "colorbar": {
              "outlinewidth": 0,
              "ticks": ""
             }
            },
            "type": "scattercarpet"
           }
          ],
          "scattergeo": [
           {
            "marker": {
             "colorbar": {
              "outlinewidth": 0,
              "ticks": ""
             }
            },
            "type": "scattergeo"
           }
          ],
          "scattergl": [
           {
            "marker": {
             "colorbar": {
              "outlinewidth": 0,
              "ticks": ""
             }
            },
            "type": "scattergl"
           }
          ],
          "scattermapbox": [
           {
            "marker": {
             "colorbar": {
              "outlinewidth": 0,
              "ticks": ""
             }
            },
            "type": "scattermapbox"
           }
          ],
          "scatterpolar": [
           {
            "marker": {
             "colorbar": {
              "outlinewidth": 0,
              "ticks": ""
             }
            },
            "type": "scatterpolar"
           }
          ],
          "scatterpolargl": [
           {
            "marker": {
             "colorbar": {
              "outlinewidth": 0,
              "ticks": ""
             }
            },
            "type": "scatterpolargl"
           }
          ],
          "scatterternary": [
           {
            "marker": {
             "colorbar": {
              "outlinewidth": 0,
              "ticks": ""
             }
            },
            "type": "scatterternary"
           }
          ],
          "surface": [
           {
            "colorbar": {
             "outlinewidth": 0,
             "ticks": ""
            },
            "colorscale": [
             [
              0,
              "#0d0887"
             ],
             [
              0.1111111111111111,
              "#46039f"
             ],
             [
              0.2222222222222222,
              "#7201a8"
             ],
             [
              0.3333333333333333,
              "#9c179e"
             ],
             [
              0.4444444444444444,
              "#bd3786"
             ],
             [
              0.5555555555555556,
              "#d8576b"
             ],
             [
              0.6666666666666666,
              "#ed7953"
             ],
             [
              0.7777777777777778,
              "#fb9f3a"
             ],
             [
              0.8888888888888888,
              "#fdca26"
             ],
             [
              1,
              "#f0f921"
             ]
            ],
            "type": "surface"
           }
          ],
          "table": [
           {
            "cells": {
             "fill": {
              "color": "#EBF0F8"
             },
             "line": {
              "color": "white"
             }
            },
            "header": {
             "fill": {
              "color": "#C8D4E3"
             },
             "line": {
              "color": "white"
             }
            },
            "type": "table"
           }
          ]
         },
         "layout": {
          "annotationdefaults": {
           "arrowcolor": "#2a3f5f",
           "arrowhead": 0,
           "arrowwidth": 1
          },
          "autotypenumbers": "strict",
          "coloraxis": {
           "colorbar": {
            "outlinewidth": 0,
            "ticks": ""
           }
          },
          "colorscale": {
           "diverging": [
            [
             0,
             "#8e0152"
            ],
            [
             0.1,
             "#c51b7d"
            ],
            [
             0.2,
             "#de77ae"
            ],
            [
             0.3,
             "#f1b6da"
            ],
            [
             0.4,
             "#fde0ef"
            ],
            [
             0.5,
             "#f7f7f7"
            ],
            [
             0.6,
             "#e6f5d0"
            ],
            [
             0.7,
             "#b8e186"
            ],
            [
             0.8,
             "#7fbc41"
            ],
            [
             0.9,
             "#4d9221"
            ],
            [
             1,
             "#276419"
            ]
           ],
           "sequential": [
            [
             0,
             "#0d0887"
            ],
            [
             0.1111111111111111,
             "#46039f"
            ],
            [
             0.2222222222222222,
             "#7201a8"
            ],
            [
             0.3333333333333333,
             "#9c179e"
            ],
            [
             0.4444444444444444,
             "#bd3786"
            ],
            [
             0.5555555555555556,
             "#d8576b"
            ],
            [
             0.6666666666666666,
             "#ed7953"
            ],
            [
             0.7777777777777778,
             "#fb9f3a"
            ],
            [
             0.8888888888888888,
             "#fdca26"
            ],
            [
             1,
             "#f0f921"
            ]
           ],
           "sequentialminus": [
            [
             0,
             "#0d0887"
            ],
            [
             0.1111111111111111,
             "#46039f"
            ],
            [
             0.2222222222222222,
             "#7201a8"
            ],
            [
             0.3333333333333333,
             "#9c179e"
            ],
            [
             0.4444444444444444,
             "#bd3786"
            ],
            [
             0.5555555555555556,
             "#d8576b"
            ],
            [
             0.6666666666666666,
             "#ed7953"
            ],
            [
             0.7777777777777778,
             "#fb9f3a"
            ],
            [
             0.8888888888888888,
             "#fdca26"
            ],
            [
             1,
             "#f0f921"
            ]
           ]
          },
          "colorway": [
           "#636efa",
           "#EF553B",
           "#00cc96",
           "#ab63fa",
           "#FFA15A",
           "#19d3f3",
           "#FF6692",
           "#B6E880",
           "#FF97FF",
           "#FECB52"
          ],
          "font": {
           "color": "#2a3f5f"
          },
          "geo": {
           "bgcolor": "white",
           "lakecolor": "white",
           "landcolor": "#E5ECF6",
           "showlakes": true,
           "showland": true,
           "subunitcolor": "white"
          },
          "hoverlabel": {
           "align": "left"
          },
          "hovermode": "closest",
          "mapbox": {
           "style": "light"
          },
          "paper_bgcolor": "white",
          "plot_bgcolor": "#E5ECF6",
          "polar": {
           "angularaxis": {
            "gridcolor": "white",
            "linecolor": "white",
            "ticks": ""
           },
           "bgcolor": "#E5ECF6",
           "radialaxis": {
            "gridcolor": "white",
            "linecolor": "white",
            "ticks": ""
           }
          },
          "scene": {
           "xaxis": {
            "backgroundcolor": "#E5ECF6",
            "gridcolor": "white",
            "gridwidth": 2,
            "linecolor": "white",
            "showbackground": true,
            "ticks": "",
            "zerolinecolor": "white"
           },
           "yaxis": {
            "backgroundcolor": "#E5ECF6",
            "gridcolor": "white",
            "gridwidth": 2,
            "linecolor": "white",
            "showbackground": true,
            "ticks": "",
            "zerolinecolor": "white"
           },
           "zaxis": {
            "backgroundcolor": "#E5ECF6",
            "gridcolor": "white",
            "gridwidth": 2,
            "linecolor": "white",
            "showbackground": true,
            "ticks": "",
            "zerolinecolor": "white"
           }
          },
          "shapedefaults": {
           "line": {
            "color": "#2a3f5f"
           }
          },
          "ternary": {
           "aaxis": {
            "gridcolor": "white",
            "linecolor": "white",
            "ticks": ""
           },
           "baxis": {
            "gridcolor": "white",
            "linecolor": "white",
            "ticks": ""
           },
           "bgcolor": "#E5ECF6",
           "caxis": {
            "gridcolor": "white",
            "linecolor": "white",
            "ticks": ""
           }
          },
          "title": {
           "x": 0.05
          },
          "xaxis": {
           "automargin": true,
           "gridcolor": "white",
           "linecolor": "white",
           "ticks": "",
           "title": {
            "standoff": 15
           },
           "zerolinecolor": "white",
           "zerolinewidth": 2
          },
          "yaxis": {
           "automargin": true,
           "gridcolor": "white",
           "linecolor": "white",
           "ticks": "",
           "title": {
            "standoff": 15
           },
           "zerolinecolor": "white",
           "zerolinewidth": 2
          }
         }
        },
        "width": 1400,
        "xaxis": {
         "anchor": "y",
         "domain": [
          0,
          1
         ],
         "title": {
          "text": "value"
         }
        },
        "yaxis": {
         "anchor": "x",
         "categoryorder": "total ascending",
         "domain": [
          0,
          1
         ],
         "title": {
          "text": "index"
         }
        }
       }
      }
     },
     "metadata": {},
     "output_type": "display_data"
    },
    {
     "data": {
      "text/html": [
       "<div>\n",
       "<style scoped>\n",
       "    .dataframe tbody tr th:only-of-type {\n",
       "        vertical-align: middle;\n",
       "    }\n",
       "\n",
       "    .dataframe tbody tr th {\n",
       "        vertical-align: top;\n",
       "    }\n",
       "\n",
       "    .dataframe thead th {\n",
       "        text-align: right;\n",
       "    }\n",
       "</style>\n",
       "<table border=\"1\" class=\"dataframe\">\n",
       "  <thead>\n",
       "    <tr style=\"text-align: right;\">\n",
       "      <th></th>\n",
       "      <th>importance</th>\n",
       "    </tr>\n",
       "  </thead>\n",
       "  <tbody>\n",
       "    <tr>\n",
       "      <th>ratio_amt_credits_less_100_credits_grt_500_3M</th>\n",
       "      <td>0.202163</td>\n",
       "    </tr>\n",
       "    <tr>\n",
       "      <th>count_credits_grt_500_3M</th>\n",
       "      <td>0.183356</td>\n",
       "    </tr>\n",
       "    <tr>\n",
       "      <th>sum_credits_grt_500_1M</th>\n",
       "      <td>0.018701</td>\n",
       "    </tr>\n",
       "    <tr>\n",
       "      <th>loans_size_6M</th>\n",
       "      <td>-0.131489</td>\n",
       "    </tr>\n",
       "    <tr>\n",
       "      <th>pos_size_1M</th>\n",
       "      <td>-0.183295</td>\n",
       "    </tr>\n",
       "    <tr>\n",
       "      <th>ach_count_6M</th>\n",
       "      <td>-0.284374</td>\n",
       "    </tr>\n",
       "    <tr>\n",
       "      <th>median_credit_amt_1M</th>\n",
       "      <td>-0.341009</td>\n",
       "    </tr>\n",
       "    <tr>\n",
       "      <th>loans_amt_6M</th>\n",
       "      <td>-0.355655</td>\n",
       "    </tr>\n",
       "    <tr>\n",
       "      <th>pos_count_3M</th>\n",
       "      <td>-0.434767</td>\n",
       "    </tr>\n",
       "    <tr>\n",
       "      <th>median_pos_amt_3M</th>\n",
       "      <td>-0.545962</td>\n",
       "    </tr>\n",
       "    <tr>\n",
       "      <th>shops_amt_3M</th>\n",
       "      <td>-0.561443</td>\n",
       "    </tr>\n",
       "    <tr>\n",
       "      <th>stddev_credit_amt_3M</th>\n",
       "      <td>-0.698739</td>\n",
       "    </tr>\n",
       "    <tr>\n",
       "      <th>ratio_pos_size_1M_6M</th>\n",
       "      <td>-0.710018</td>\n",
       "    </tr>\n",
       "    <tr>\n",
       "      <th>median_ecom_amt_6M</th>\n",
       "      <td>-0.813640</td>\n",
       "    </tr>\n",
       "  </tbody>\n",
       "</table>\n",
       "</div>"
      ],
      "text/plain": [
       "                                               importance\n",
       "ratio_amt_credits_less_100_credits_grt_500_3M    0.202163\n",
       "count_credits_grt_500_3M                         0.183356\n",
       "sum_credits_grt_500_1M                           0.018701\n",
       "loans_size_6M                                   -0.131489\n",
       "pos_size_1M                                     -0.183295\n",
       "ach_count_6M                                    -0.284374\n",
       "median_credit_amt_1M                            -0.341009\n",
       "loans_amt_6M                                    -0.355655\n",
       "pos_count_3M                                    -0.434767\n",
       "median_pos_amt_3M                               -0.545962\n",
       "shops_amt_3M                                    -0.561443\n",
       "stddev_credit_amt_3M                            -0.698739\n",
       "ratio_pos_size_1M_6M                            -0.710018\n",
       "median_ecom_amt_6M                              -0.813640"
      ]
     },
     "execution_count": 57,
     "metadata": {},
     "output_type": "execute_result"
    }
   ],
   "source": [
    "# Feature importance\n",
    "feat_imp = feature_importance(logreg_model, X_train[feat_list], show_plot=True)\n",
    "\n",
    "feat_imp.sort_values(by='importance', ascending=False)"
   ]
  },
  {
   "cell_type": "code",
   "execution_count": 58,
   "metadata": {},
   "outputs": [],
   "source": [
    "# binning variable transform\n",
    "x_test.fillna(0, inplace=True)\n",
    "\n",
    "transformed_vars = x_test[feat_list]"
   ]
  },
  {
   "cell_type": "code",
   "execution_count": 59,
   "metadata": {},
   "outputs": [],
   "source": [
    "# 1\n",
    "# transform\n",
    "col         = 'stddev_credit_amt_3M'\n",
    "conditions  = [ transformed_vars[col] <= 0, \n",
    "                (transformed_vars[col] > 0 ) & (transformed_vars[col] < 578), \n",
    "                (transformed_vars[col] >= 578 ) & (transformed_vars[col] < 1274), \n",
    "                (transformed_vars[col] >= 1274) & (transformed_vars[col] < 7646),\n",
    "                transformed_vars[col] >= 7646 ]\n",
    "\n",
    "choices     = [0.090405,-0.551449,-0.013445, 0.40452,1.951157]\n",
    "    \n",
    "transformed_vars[\"stddev_credit_amt_3M\"] = np.select(conditions, choices, default=np.nan)\n",
    "\n",
    "# 2\n",
    "# transform\n",
    "col         = 'shops_amt_3M'\n",
    "conditions  = [ transformed_vars[col] <= 0,\n",
    "                (transformed_vars[col] > 0 ) & (transformed_vars[col] < 221.5), \n",
    "                (transformed_vars[col] >= 221.5 ) & (transformed_vars[col] < 2588), \n",
    "                transformed_vars[col] >= 2588 ]\n",
    "\n",
    "choices     = [0.226839,-0.738544,-0.408586,0.38456]\n",
    "    \n",
    "transformed_vars[\"shops_amt_3M\"] = np.select(conditions, choices, default=np.nan)\n",
    "\n",
    "# 3\n",
    "# transform\n",
    "col         = 'pos_size_1M'\n",
    "conditions  = [ transformed_vars[col] < 235.11, \n",
    "                (transformed_vars[col] >= 235.11 ) & (transformed_vars[col] < 979.44), \n",
    "                transformed_vars[col] >= 979.44 ]\n",
    "\n",
    "choices     = [-0.152312,0.159398,1.699843]\n",
    "    \n",
    "transformed_vars[\"pos_size_1M\"] = np.select(conditions, choices, default=np.nan)\n",
    "\n",
    "# 4\n",
    "# transform\n",
    "col         = 'loans_amt_6M'\n",
    "conditions  = [ transformed_vars[col] <= 0, \n",
    "                (transformed_vars[col] > 0 ) & (transformed_vars[col] < 21503),\n",
    "                transformed_vars[col] >= 21503 ]\n",
    "\n",
    "choices     = [0.08126,-0.518001,0.647751]\n",
    "    \n",
    "transformed_vars[\"loans_amt_6M\"] = np.select(conditions, choices, default=np.nan)\n",
    "\n",
    "# 5\n",
    "# transform\n",
    "col         = 'ratio_amt_credits_less_100_credits_grt_500_3M'\n",
    "conditions  = [ transformed_vars[col] <= 0,\n",
    "                transformed_vars[col] > 0 ]\n",
    "\n",
    "choices     = [-0.112536,0.045514]\n",
    "    \n",
    "transformed_vars[\"ratio_amt_credits_less_100_credits_grt_500_3M\"] = np.select(conditions, choices, default=np.nan)\n",
    "\n",
    "# 6\n",
    "# transform\n",
    "col         = 'median_credit_amt_1M'\n",
    "conditions  = [ transformed_vars[col] < 102,\n",
    "                (transformed_vars[col] >= 102 ) & (transformed_vars[col] < 475.2),\n",
    "                transformed_vars[col] >= 475.2 ]\n",
    "\n",
    "choices     = [-0.444738,-0.119068,0.550264]\n",
    "    \n",
    "transformed_vars[\"median_credit_amt_1M\"] = np.select(conditions, choices, default=np.nan)\n",
    "\n",
    "# 7\n",
    "# transform\n",
    "col         = 'ratio_pos_size_1M_6M'\n",
    "conditions  = [ transformed_vars[col] <= 0,\n",
    "                (transformed_vars[col] > 0 ) & (transformed_vars[col] < 1.21),\n",
    "                transformed_vars[col] >= 1.21 ]\n",
    "\n",
    "choices     = [-0.164722,0.141314,1.140227]\n",
    "    \n",
    "transformed_vars[\"ratio_pos_size_1M_6M\"] = np.select(conditions, choices, default=np.nan)\n",
    "\n",
    "# 8\n",
    "# transform\n",
    "col         = 'median_ecom_amt_6M'\n",
    "conditions  = [ transformed_vars[col] <= 0,\n",
    "                (transformed_vars[col] > 0 ) & (transformed_vars[col] < 49.74),\n",
    "                transformed_vars[col] >= 49.74 ]\n",
    "\n",
    "choices     = [0.30558,-0.576309,-0.303226]\n",
    "    \n",
    "transformed_vars[\"median_ecom_amt_6M\"] = np.select(conditions, choices, default=np.nan)\n",
    "\n",
    "# 9\n",
    "# transform\n",
    "col         = 'pos_count_3M'\n",
    "conditions  = [ transformed_vars[col] <= 0,\n",
    "                transformed_vars[col] > 0 ]\n",
    "\n",
    "choices     = [-0.25334,0.201958]\n",
    "    \n",
    "transformed_vars[\"pos_count_3M\"] = np.select(conditions, choices, default=np.nan)\n",
    "\n",
    "# 10\n",
    "# transform\n",
    "col         = 'median_pos_amt_3M'\n",
    "conditions  = [ transformed_vars[col] <= 0,\n",
    "                (transformed_vars[col] > 0 ) & (transformed_vars[col] < 486.25),\n",
    "                transformed_vars[col] >= 486.25 ]\n",
    "\n",
    "choices     = [-0.25334,-0.127284,0.968955]\n",
    "    \n",
    "transformed_vars[\"median_pos_amt_3M\"] = np.select(conditions, choices, default=np.nan)\n",
    "\n",
    "# 11\n",
    "# transform\n",
    "col         = 'count_credits_grt_500_3M'\n",
    "conditions  = [ transformed_vars[col] < 1.5,\n",
    "                (transformed_vars[col] >= 1.5 ) & (transformed_vars[col] < 15.5),\n",
    "                transformed_vars[col] >= 15.5 ]\n",
    "\n",
    "choices     = [-0.450862,-0.000945,0.284561]\n",
    "    \n",
    "transformed_vars[\"count_credits_grt_500_3M\"] = np.select(conditions, choices, default=np.nan)\n",
    "\n",
    "# 12\n",
    "# transform\n",
    "col         = 'loans_size_6M'\n",
    "conditions  = [ transformed_vars[col] <= 0,\n",
    "                (transformed_vars[col] > 0 ) & (transformed_vars[col] < 3317),\n",
    "                transformed_vars[col] >= 3317 ]\n",
    "\n",
    "choices     = [0.08126,-0.605012,0.814805]\n",
    "    \n",
    "transformed_vars[\"loans_size_6M\"] = np.select(conditions, choices, default=np.nan)\n",
    "\n",
    "\n",
    "# 13\n",
    "# transform\n",
    "col         = 'sum_credits_grt_500_1M'\n",
    "conditions  = [ transformed_vars[col] < 6587,\n",
    "                transformed_vars[col] >= 6587 ]\n",
    "\n",
    "choices     = [-0.246067,0.422079]\n",
    "    \n",
    "transformed_vars[\"sum_credits_grt_500_1M\"] = np.select(conditions, choices, default=np.nan)\n",
    "\n",
    "# 14\n",
    "# transform\n",
    "col         = 'ach_count_6M'\n",
    "conditions  = [ transformed_vars[col] < 6.5,\n",
    "                transformed_vars[col] >= 6.5 ]\n",
    "\n",
    "choices     = [-0.022101,0.149246]\n",
    "    \n",
    "transformed_vars[\"ach_count_6M\"] = np.select(conditions, choices, default=np.nan)"
   ]
  },
  {
   "cell_type": "code",
   "execution_count": 60,
   "metadata": {},
   "outputs": [],
   "source": [
    "# copy\n",
    "X_test = transformed_vars.copy()"
   ]
  },
  {
   "cell_type": "code",
   "execution_count": 61,
   "metadata": {},
   "outputs": [
    {
     "name": "stdout",
     "output_type": "stream",
     "text": [
      "CV Scores - [0.68 0.59 0.57]\n",
      "Mean of CV Scores - 0.61\n"
     ]
    }
   ],
   "source": [
    "# test cv scores\n",
    "cv_scores = cross_validation(logreg_model, X_test[feat_list], y_test, scoring='roc_auc', folds=3, seed=seed)\n",
    "print('CV Scores -',np.round(cv_scores, 2))\n",
    "print('Mean of CV Scores -',np.round(np.mean(cv_scores),2))"
   ]
  },
  {
   "cell_type": "code",
   "execution_count": 62,
   "metadata": {},
   "outputs": [],
   "source": [
    "## Model Evaluation - KS & ROC AUC\n",
    "\n",
    "def ks(target=None, prob=None):\n",
    "    data = pd.DataFrame()\n",
    "    data['y'] = target\n",
    "    data['y'] = data['y'].astype(float)\n",
    "    data['p'] = prob\n",
    "    data['y0'] = 1- data['y']\n",
    "    data['bucket'] = pd.qcut(data['p'], 5, duplicates = 'drop')\n",
    "    grouped = data.groupby('bucket', as_index=False)\n",
    "    kstable = pd.DataFrame()\n",
    "    kstable['min_prob'] = grouped.min()['p']\n",
    "    kstable['max_prob'] = grouped.max()['p']\n",
    "    kstable['events'] = grouped.sum()['y']\n",
    "    kstable['nonevents'] = grouped.sum()['y0']\n",
    "    kstable = kstable.sort_values(by='min_prob', ascending=False).reset_index(drop=True)\n",
    "    kstable['event_rate'] = (kstable.events / data['y'].sum()).apply('{0:.2%}'.format)\n",
    "    kstable['nonevent_rate'] = (kstable['nonevents'] /  data['y0'].sum()).apply('{0:2%}'.format)\n",
    "    kstable['cum_eventrate'] = (kstable.events / data['y'].sum()).cumsum()\n",
    "    kstable['cum_noneventrate'] = (kstable.nonevents / data['y0'].sum()).cumsum()\n",
    "    kstable['KS'] = np.round(kstable['cum_eventrate'] - kstable['cum_noneventrate'], 3) * 100\n",
    "    kstable['bad_rate'] = (kstable['events'] / (kstable['events'] + kstable['nonevents'])) * 100\n",
    "    \n",
    "    # formatting\n",
    "    kstable['cum_eventrate'] = kstable['cum_eventrate'].apply('{0:.2%}'.format)\n",
    "    kstable['cum_noneventrate'] = kstable['cum_noneventrate'].apply('{0:.2%}'.format)\n",
    "    # kstable.index = range(1,len(data['bucket'].unique())+1)\n",
    "    # kstable.index.rename('Decile', inplace=True)\n",
    "    pd.set_option('display.max_columns', 9)\n",
    "    # print(kstable)\n",
    "    \n",
    "    # Display KS\n",
    "    # print(\"KS is \" + str(max(kstable['KS']))+\"%\"+ \" at decile \" + str((kstable.index[kstable['KS']==max(kstable['KS'])][0])))\n",
    "    return kstable"
   ]
  },
  {
   "cell_type": "code",
   "execution_count": 63,
   "metadata": {},
   "outputs": [],
   "source": [
    "# predicted proability\n",
    "train_pred = logreg_model.predict_proba(X_train[feat_list])[:,1]\n",
    "                                                                     \n",
    "test_pred = logreg_model.predict_proba(X_test[feat_list])[:,1]\n",
    "\n",
    "\n",
    "train_ks = ks(y_train, train_pred)\n",
    "test_ks = ks(y_test, test_pred)\n",
    "\n"
   ]
  },
  {
   "cell_type": "code",
   "execution_count": 64,
   "metadata": {},
   "outputs": [
    {
     "name": "stdout",
     "output_type": "stream",
     "text": [
      "Train AUC = 0.7293077965266659\n",
      "Test AUC = 0.6539473684210527\n"
     ]
    }
   ],
   "source": [
    "# AUC scores\n",
    "print('Train AUC = {}'.format(roc_auc_score(y_train, train_pred)))   \n",
    "  \n",
    "print('Test AUC = {}'.format(roc_auc_score(y_test, test_pred)))    "
   ]
  },
  {
   "cell_type": "code",
   "execution_count": 65,
   "metadata": {},
   "outputs": [
    {
     "data": {
      "text/html": [
       "<div>\n",
       "<style scoped>\n",
       "    .dataframe tbody tr th:only-of-type {\n",
       "        vertical-align: middle;\n",
       "    }\n",
       "\n",
       "    .dataframe tbody tr th {\n",
       "        vertical-align: top;\n",
       "    }\n",
       "\n",
       "    .dataframe thead th {\n",
       "        text-align: right;\n",
       "    }\n",
       "</style>\n",
       "<table border=\"1\" class=\"dataframe\">\n",
       "  <thead>\n",
       "    <tr style=\"text-align: right;\">\n",
       "      <th></th>\n",
       "      <th>min_prob</th>\n",
       "      <th>max_prob</th>\n",
       "      <th>events</th>\n",
       "      <th>nonevents</th>\n",
       "      <th>...</th>\n",
       "      <th>cum_eventrate</th>\n",
       "      <th>cum_noneventrate</th>\n",
       "      <th>KS</th>\n",
       "      <th>bad_rate</th>\n",
       "    </tr>\n",
       "  </thead>\n",
       "  <tbody>\n",
       "    <tr>\n",
       "      <th>0</th>\n",
       "      <td>0.611044</td>\n",
       "      <td>0.855591</td>\n",
       "      <td>40.0</td>\n",
       "      <td>49.0</td>\n",
       "      <td>...</td>\n",
       "      <td>43.48%</td>\n",
       "      <td>13.88%</td>\n",
       "      <td>29.6</td>\n",
       "      <td>44.943820</td>\n",
       "    </tr>\n",
       "    <tr>\n",
       "      <th>1</th>\n",
       "      <td>0.508884</td>\n",
       "      <td>0.609653</td>\n",
       "      <td>17.0</td>\n",
       "      <td>70.0</td>\n",
       "      <td>...</td>\n",
       "      <td>61.96%</td>\n",
       "      <td>33.71%</td>\n",
       "      <td>28.2</td>\n",
       "      <td>19.540230</td>\n",
       "    </tr>\n",
       "    <tr>\n",
       "      <th>2</th>\n",
       "      <td>0.427436</td>\n",
       "      <td>0.508154</td>\n",
       "      <td>21.0</td>\n",
       "      <td>68.0</td>\n",
       "      <td>...</td>\n",
       "      <td>84.78%</td>\n",
       "      <td>52.97%</td>\n",
       "      <td>31.8</td>\n",
       "      <td>23.595506</td>\n",
       "    </tr>\n",
       "    <tr>\n",
       "      <th>3</th>\n",
       "      <td>0.274534</td>\n",
       "      <td>0.426618</td>\n",
       "      <td>8.0</td>\n",
       "      <td>83.0</td>\n",
       "      <td>...</td>\n",
       "      <td>93.48%</td>\n",
       "      <td>76.49%</td>\n",
       "      <td>17.0</td>\n",
       "      <td>8.791209</td>\n",
       "    </tr>\n",
       "    <tr>\n",
       "      <th>4</th>\n",
       "      <td>0.022513</td>\n",
       "      <td>0.270676</td>\n",
       "      <td>6.0</td>\n",
       "      <td>83.0</td>\n",
       "      <td>...</td>\n",
       "      <td>100.00%</td>\n",
       "      <td>100.00%</td>\n",
       "      <td>-0.0</td>\n",
       "      <td>6.741573</td>\n",
       "    </tr>\n",
       "  </tbody>\n",
       "</table>\n",
       "<p>5 rows × 10 columns</p>\n",
       "</div>"
      ],
      "text/plain": [
       "   min_prob  max_prob  events  nonevents  ... cum_eventrate cum_noneventrate  \\\n",
       "0  0.611044  0.855591    40.0       49.0  ...        43.48%           13.88%   \n",
       "1  0.508884  0.609653    17.0       70.0  ...        61.96%           33.71%   \n",
       "2  0.427436  0.508154    21.0       68.0  ...        84.78%           52.97%   \n",
       "3  0.274534  0.426618     8.0       83.0  ...        93.48%           76.49%   \n",
       "4  0.022513  0.270676     6.0       83.0  ...       100.00%          100.00%   \n",
       "\n",
       "     KS   bad_rate  \n",
       "0  29.6  44.943820  \n",
       "1  28.2  19.540230  \n",
       "2  31.8  23.595506  \n",
       "3  17.0   8.791209  \n",
       "4  -0.0   6.741573  \n",
       "\n",
       "[5 rows x 10 columns]"
      ]
     },
     "execution_count": 65,
     "metadata": {},
     "output_type": "execute_result"
    }
   ],
   "source": [
    "train_ks"
   ]
  },
  {
   "cell_type": "code",
   "execution_count": 66,
   "metadata": {},
   "outputs": [
    {
     "data": {
      "text/html": [
       "<div>\n",
       "<style scoped>\n",
       "    .dataframe tbody tr th:only-of-type {\n",
       "        vertical-align: middle;\n",
       "    }\n",
       "\n",
       "    .dataframe tbody tr th {\n",
       "        vertical-align: top;\n",
       "    }\n",
       "\n",
       "    .dataframe thead th {\n",
       "        text-align: right;\n",
       "    }\n",
       "</style>\n",
       "<table border=\"1\" class=\"dataframe\">\n",
       "  <thead>\n",
       "    <tr style=\"text-align: right;\">\n",
       "      <th></th>\n",
       "      <th>min_prob</th>\n",
       "      <th>max_prob</th>\n",
       "      <th>events</th>\n",
       "      <th>nonevents</th>\n",
       "      <th>...</th>\n",
       "      <th>cum_eventrate</th>\n",
       "      <th>cum_noneventrate</th>\n",
       "      <th>KS</th>\n",
       "      <th>bad_rate</th>\n",
       "    </tr>\n",
       "  </thead>\n",
       "  <tbody>\n",
       "    <tr>\n",
       "      <th>0</th>\n",
       "      <td>0.628804</td>\n",
       "      <td>0.856461</td>\n",
       "      <td>14.0</td>\n",
       "      <td>25.0</td>\n",
       "      <td>...</td>\n",
       "      <td>35.00%</td>\n",
       "      <td>16.45%</td>\n",
       "      <td>18.6</td>\n",
       "      <td>35.897436</td>\n",
       "    </tr>\n",
       "    <tr>\n",
       "      <th>1</th>\n",
       "      <td>0.530722</td>\n",
       "      <td>0.627054</td>\n",
       "      <td>9.0</td>\n",
       "      <td>29.0</td>\n",
       "      <td>...</td>\n",
       "      <td>57.50%</td>\n",
       "      <td>35.53%</td>\n",
       "      <td>22.0</td>\n",
       "      <td>23.684211</td>\n",
       "    </tr>\n",
       "    <tr>\n",
       "      <th>2</th>\n",
       "      <td>0.415716</td>\n",
       "      <td>0.527902</td>\n",
       "      <td>7.0</td>\n",
       "      <td>31.0</td>\n",
       "      <td>...</td>\n",
       "      <td>75.00%</td>\n",
       "      <td>55.92%</td>\n",
       "      <td>19.1</td>\n",
       "      <td>18.421053</td>\n",
       "    </tr>\n",
       "    <tr>\n",
       "      <th>3</th>\n",
       "      <td>0.316170</td>\n",
       "      <td>0.414219</td>\n",
       "      <td>6.0</td>\n",
       "      <td>32.0</td>\n",
       "      <td>...</td>\n",
       "      <td>90.00%</td>\n",
       "      <td>76.97%</td>\n",
       "      <td>13.0</td>\n",
       "      <td>15.789474</td>\n",
       "    </tr>\n",
       "    <tr>\n",
       "      <th>4</th>\n",
       "      <td>0.046981</td>\n",
       "      <td>0.312942</td>\n",
       "      <td>4.0</td>\n",
       "      <td>35.0</td>\n",
       "      <td>...</td>\n",
       "      <td>100.00%</td>\n",
       "      <td>100.00%</td>\n",
       "      <td>0.0</td>\n",
       "      <td>10.256410</td>\n",
       "    </tr>\n",
       "  </tbody>\n",
       "</table>\n",
       "<p>5 rows × 10 columns</p>\n",
       "</div>"
      ],
      "text/plain": [
       "   min_prob  max_prob  events  nonevents  ... cum_eventrate cum_noneventrate  \\\n",
       "0  0.628804  0.856461    14.0       25.0  ...        35.00%           16.45%   \n",
       "1  0.530722  0.627054     9.0       29.0  ...        57.50%           35.53%   \n",
       "2  0.415716  0.527902     7.0       31.0  ...        75.00%           55.92%   \n",
       "3  0.316170  0.414219     6.0       32.0  ...        90.00%           76.97%   \n",
       "4  0.046981  0.312942     4.0       35.0  ...       100.00%          100.00%   \n",
       "\n",
       "     KS   bad_rate  \n",
       "0  18.6  35.897436  \n",
       "1  22.0  23.684211  \n",
       "2  19.1  18.421053  \n",
       "3  13.0  15.789474  \n",
       "4   0.0  10.256410  \n",
       "\n",
       "[5 rows x 10 columns]"
      ]
     },
     "execution_count": 66,
     "metadata": {},
     "output_type": "execute_result"
    }
   ],
   "source": [
    "test_ks"
   ]
  },
  {
   "cell_type": "code",
   "execution_count": 67,
   "metadata": {},
   "outputs": [],
   "source": [
    "def is_column_descending(df, column_name):\n",
    "    is_descending = df[column_name].is_monotonic_decreasing\n",
    "    return int(is_descending)"
   ]
  },
  {
   "cell_type": "code",
   "execution_count": 68,
   "metadata": {},
   "outputs": [],
   "source": [
    "def get_model_results(X_train, y_train, X_test, y_test, feat_list,params_log_reg, output_df):\n",
    "    # model fitting\n",
    "    logreg_model = classification_models(X_train[feat_list], y_train, params_log_reg, models=['log_reg'])\n",
    "\n",
    "    #cv scores\n",
    "    cv_scores = cross_validation(logreg_model, X_train[feat_list], y_train, scoring='roc_auc', folds=3, seed=seed)\n",
    "    train_cv_score = np.round(np.mean(cv_scores),2)\n",
    "    cv_scores = cross_validation(logreg_model, X_test[feat_list], y_test, scoring='roc_auc', folds=3, seed=seed)\n",
    "    test_cv_score = np.round(np.mean(cv_scores),2)\n",
    "    \n",
    "    # predicted proability\n",
    "    train_pred = logreg_model.predict_proba(X_train[feat_list])[:,1]                                                             \n",
    "    test_pred = logreg_model.predict_proba(X_test[feat_list])[:,1]\n",
    "\n",
    "    #AUC\n",
    "    train_auc = roc_auc_score(y_train, train_pred)\n",
    "    test_auc = roc_auc_score(y_test, test_pred)\n",
    "\n",
    "    # Rank-order\n",
    "    train_ks = ks(y_train, train_pred)\n",
    "    test_ks = ks(y_test, test_pred)\n",
    "\n",
    "    train_ro = is_column_descending(train_ks, 'bad_rate')\n",
    "    test_ro = is_column_descending(test_ks, 'bad_rate')\n",
    "\n",
    "    temp = {'feat_list' : [feat_list],\\\n",
    "            'feat_length' : len(feat_list),\\\n",
    "            'train_cv_score' : train_cv_score,\\\n",
    "            'test_cv_score' : test_cv_score,\\\n",
    "            'train_auc' : train_auc,\\\n",
    "            'test_auc' : test_auc,\\\n",
    "            'train_ro' : train_ro,\\\n",
    "            'test_ro' : test_ro}\n",
    "    output_df = pd.concat([output_df, pd.DataFrame(temp)], ignore_index=True)\n",
    "\n",
    "    return output_df, temp\n",
    "    "
   ]
  },
  {
   "cell_type": "code",
   "execution_count": 69,
   "metadata": {},
   "outputs": [
    {
     "data": {
      "text/plain": [
       "['stddev_credit_amt_3M',\n",
       " 'shops_amt_3M',\n",
       " 'pos_size_1M',\n",
       " 'loans_amt_6M',\n",
       " 'ratio_amt_credits_less_100_credits_grt_500_3M',\n",
       " 'median_credit_amt_1M',\n",
       " 'ratio_pos_size_1M_6M',\n",
       " 'median_ecom_amt_6M',\n",
       " 'pos_count_3M',\n",
       " 'median_pos_amt_3M',\n",
       " 'count_credits_grt_500_3M',\n",
       " 'loans_size_6M',\n",
       " 'sum_credits_grt_500_1M',\n",
       " 'ach_count_6M']"
      ]
     },
     "execution_count": 69,
     "metadata": {},
     "output_type": "execute_result"
    }
   ],
   "source": [
    "feat_list"
   ]
  },
  {
   "cell_type": "code",
   "execution_count": 70,
   "metadata": {},
   "outputs": [],
   "source": [
    "from itertools import combinations\n",
    "\n",
    "def get_subsets_of_length(lst, subset_length):\n",
    "    subsets = list(combinations(lst, subset_length))\n",
    "    return subsets \n",
    "\n",
    "# subsets = get_subsets_of_length(feat_list, 9)"
   ]
  },
  {
   "cell_type": "code",
   "execution_count": 71,
   "metadata": {},
   "outputs": [],
   "source": [
    "output_df = pd.DataFrame(columns = ('feat_list','feat_length','train_cv_score','test_cv_score','train_auc','test_auc','train_ro','test_ro'))\n",
    "for subset_length in [7,8,9,10,11,12,13]:\n",
    "    subsets = list(combinations(feat_list, subset_length))\n",
    "    for i in range(len(subsets)):\n",
    "        X_train_temp = X_train[list(subsets[i])]\n",
    "        X_test_temp = X_test[list(subsets[i])]\n",
    "        # print(subsets[i])\n",
    "        output_df,temp = get_model_results(X_train_temp, y_train, X_test_temp, y_test, list(subsets[i]),params_log_reg, output_df)\n"
   ]
  },
  {
   "cell_type": "code",
   "execution_count": 72,
   "metadata": {},
   "outputs": [
    {
     "data": {
      "text/html": [
       "<div>\n",
       "<style scoped>\n",
       "    .dataframe tbody tr th:only-of-type {\n",
       "        vertical-align: middle;\n",
       "    }\n",
       "\n",
       "    .dataframe tbody tr th {\n",
       "        vertical-align: top;\n",
       "    }\n",
       "\n",
       "    .dataframe thead th {\n",
       "        text-align: right;\n",
       "    }\n",
       "</style>\n",
       "<table border=\"1\" class=\"dataframe\">\n",
       "  <thead>\n",
       "    <tr style=\"text-align: right;\">\n",
       "      <th></th>\n",
       "      <th>feat_list</th>\n",
       "      <th>feat_length</th>\n",
       "      <th>train_cv_score</th>\n",
       "      <th>test_cv_score</th>\n",
       "      <th>train_auc</th>\n",
       "      <th>test_auc</th>\n",
       "      <th>train_ro</th>\n",
       "      <th>test_ro</th>\n",
       "    </tr>\n",
       "  </thead>\n",
       "  <tbody>\n",
       "    <tr>\n",
       "      <th>0</th>\n",
       "      <td>[stddev_credit_amt_3M, shops_amt_3M, pos_size_...</td>\n",
       "      <td>7</td>\n",
       "      <td>0.66</td>\n",
       "      <td>0.64</td>\n",
       "      <td>0.690833</td>\n",
       "      <td>0.675164</td>\n",
       "      <td>1</td>\n",
       "      <td>0</td>\n",
       "    </tr>\n",
       "    <tr>\n",
       "      <th>1</th>\n",
       "      <td>[stddev_credit_amt_3M, shops_amt_3M, pos_size_...</td>\n",
       "      <td>7</td>\n",
       "      <td>0.67</td>\n",
       "      <td>0.66</td>\n",
       "      <td>0.711987</td>\n",
       "      <td>0.661595</td>\n",
       "      <td>0</td>\n",
       "      <td>1</td>\n",
       "    </tr>\n",
       "    <tr>\n",
       "      <th>2</th>\n",
       "      <td>[stddev_credit_amt_3M, shops_amt_3M, pos_size_...</td>\n",
       "      <td>7</td>\n",
       "      <td>0.66</td>\n",
       "      <td>0.65</td>\n",
       "      <td>0.694390</td>\n",
       "      <td>0.657484</td>\n",
       "      <td>1</td>\n",
       "      <td>0</td>\n",
       "    </tr>\n",
       "    <tr>\n",
       "      <th>3</th>\n",
       "      <td>[stddev_credit_amt_3M, shops_amt_3M, pos_size_...</td>\n",
       "      <td>7</td>\n",
       "      <td>0.67</td>\n",
       "      <td>0.64</td>\n",
       "      <td>0.697792</td>\n",
       "      <td>0.650822</td>\n",
       "      <td>1</td>\n",
       "      <td>0</td>\n",
       "    </tr>\n",
       "    <tr>\n",
       "      <th>4</th>\n",
       "      <td>[stddev_credit_amt_3M, shops_amt_3M, pos_size_...</td>\n",
       "      <td>7</td>\n",
       "      <td>0.66</td>\n",
       "      <td>0.65</td>\n",
       "      <td>0.689632</td>\n",
       "      <td>0.669819</td>\n",
       "      <td>1</td>\n",
       "      <td>0</td>\n",
       "    </tr>\n",
       "    <tr>\n",
       "      <th>...</th>\n",
       "      <td>...</td>\n",
       "      <td>...</td>\n",
       "      <td>...</td>\n",
       "      <td>...</td>\n",
       "      <td>...</td>\n",
       "      <td>...</td>\n",
       "      <td>...</td>\n",
       "      <td>...</td>\n",
       "    </tr>\n",
       "    <tr>\n",
       "      <th>9902</th>\n",
       "      <td>[stddev_credit_amt_3M, shops_amt_3M, pos_size_...</td>\n",
       "      <td>13</td>\n",
       "      <td>0.68</td>\n",
       "      <td>0.61</td>\n",
       "      <td>0.729600</td>\n",
       "      <td>0.652138</td>\n",
       "      <td>0</td>\n",
       "      <td>1</td>\n",
       "    </tr>\n",
       "    <tr>\n",
       "      <th>9903</th>\n",
       "      <td>[stddev_credit_amt_3M, shops_amt_3M, pos_size_...</td>\n",
       "      <td>13</td>\n",
       "      <td>0.68</td>\n",
       "      <td>0.61</td>\n",
       "      <td>0.729369</td>\n",
       "      <td>0.657730</td>\n",
       "      <td>0</td>\n",
       "      <td>0</td>\n",
       "    </tr>\n",
       "    <tr>\n",
       "      <th>9904</th>\n",
       "      <td>[stddev_credit_amt_3M, shops_amt_3M, loans_amt...</td>\n",
       "      <td>13</td>\n",
       "      <td>0.69</td>\n",
       "      <td>0.61</td>\n",
       "      <td>0.728461</td>\n",
       "      <td>0.652303</td>\n",
       "      <td>1</td>\n",
       "      <td>1</td>\n",
       "    </tr>\n",
       "    <tr>\n",
       "      <th>9905</th>\n",
       "      <td>[stddev_credit_amt_3M, pos_size_1M, loans_amt_...</td>\n",
       "      <td>13</td>\n",
       "      <td>0.70</td>\n",
       "      <td>0.62</td>\n",
       "      <td>0.719932</td>\n",
       "      <td>0.669079</td>\n",
       "      <td>1</td>\n",
       "      <td>0</td>\n",
       "    </tr>\n",
       "    <tr>\n",
       "      <th>9906</th>\n",
       "      <td>[shops_amt_3M, pos_size_1M, loans_amt_6M, rati...</td>\n",
       "      <td>13</td>\n",
       "      <td>0.68</td>\n",
       "      <td>0.59</td>\n",
       "      <td>0.720332</td>\n",
       "      <td>0.616530</td>\n",
       "      <td>1</td>\n",
       "      <td>0</td>\n",
       "    </tr>\n",
       "  </tbody>\n",
       "</table>\n",
       "<p>9907 rows × 8 columns</p>\n",
       "</div>"
      ],
      "text/plain": [
       "                                              feat_list feat_length  \\\n",
       "0     [stddev_credit_amt_3M, shops_amt_3M, pos_size_...           7   \n",
       "1     [stddev_credit_amt_3M, shops_amt_3M, pos_size_...           7   \n",
       "2     [stddev_credit_amt_3M, shops_amt_3M, pos_size_...           7   \n",
       "3     [stddev_credit_amt_3M, shops_amt_3M, pos_size_...           7   \n",
       "4     [stddev_credit_amt_3M, shops_amt_3M, pos_size_...           7   \n",
       "...                                                 ...         ...   \n",
       "9902  [stddev_credit_amt_3M, shops_amt_3M, pos_size_...          13   \n",
       "9903  [stddev_credit_amt_3M, shops_amt_3M, pos_size_...          13   \n",
       "9904  [stddev_credit_amt_3M, shops_amt_3M, loans_amt...          13   \n",
       "9905  [stddev_credit_amt_3M, pos_size_1M, loans_amt_...          13   \n",
       "9906  [shops_amt_3M, pos_size_1M, loans_amt_6M, rati...          13   \n",
       "\n",
       "      train_cv_score  test_cv_score  train_auc  test_auc train_ro test_ro  \n",
       "0               0.66           0.64   0.690833  0.675164        1       0  \n",
       "1               0.67           0.66   0.711987  0.661595        0       1  \n",
       "2               0.66           0.65   0.694390  0.657484        1       0  \n",
       "3               0.67           0.64   0.697792  0.650822        1       0  \n",
       "4               0.66           0.65   0.689632  0.669819        1       0  \n",
       "...              ...            ...        ...       ...      ...     ...  \n",
       "9902            0.68           0.61   0.729600  0.652138        0       1  \n",
       "9903            0.68           0.61   0.729369  0.657730        0       0  \n",
       "9904            0.69           0.61   0.728461  0.652303        1       1  \n",
       "9905            0.70           0.62   0.719932  0.669079        1       0  \n",
       "9906            0.68           0.59   0.720332  0.616530        1       0  \n",
       "\n",
       "[9907 rows x 8 columns]"
      ]
     },
     "execution_count": 72,
     "metadata": {},
     "output_type": "execute_result"
    }
   ],
   "source": [
    "output_df"
   ]
  },
  {
   "cell_type": "code",
   "execution_count": 73,
   "metadata": {},
   "outputs": [],
   "source": [
    "output_df['auc_delta'] = output_df['train_auc'] - output_df['test_auc']"
   ]
  },
  {
   "cell_type": "code",
   "execution_count": 114,
   "metadata": {},
   "outputs": [
    {
     "data": {
      "text/html": [
       "<div>\n",
       "<style scoped>\n",
       "    .dataframe tbody tr th:only-of-type {\n",
       "        vertical-align: middle;\n",
       "    }\n",
       "\n",
       "    .dataframe tbody tr th {\n",
       "        vertical-align: top;\n",
       "    }\n",
       "\n",
       "    .dataframe thead th {\n",
       "        text-align: right;\n",
       "    }\n",
       "</style>\n",
       "<table border=\"1\" class=\"dataframe\">\n",
       "  <thead>\n",
       "    <tr style=\"text-align: right;\">\n",
       "      <th></th>\n",
       "      <th>feat_list</th>\n",
       "      <th>feat_length</th>\n",
       "      <th>train_cv_score</th>\n",
       "      <th>test_cv_score</th>\n",
       "      <th>train_auc</th>\n",
       "      <th>test_auc</th>\n",
       "      <th>train_ro</th>\n",
       "      <th>test_ro</th>\n",
       "      <th>auc_delta</th>\n",
       "    </tr>\n",
       "  </thead>\n",
       "  <tbody>\n",
       "    <tr>\n",
       "      <th>925</th>\n",
       "      <td>[stddev_credit_amt_3M, pos_size_1M, loans_amt_...</td>\n",
       "      <td>7</td>\n",
       "      <td>0.67</td>\n",
       "      <td>0.63</td>\n",
       "      <td>0.684321</td>\n",
       "      <td>0.684046</td>\n",
       "      <td>1</td>\n",
       "      <td>1</td>\n",
       "      <td>0.000275</td>\n",
       "    </tr>\n",
       "    <tr>\n",
       "      <th>1401</th>\n",
       "      <td>[stddev_credit_amt_3M, loans_amt_6M, median_cr...</td>\n",
       "      <td>7</td>\n",
       "      <td>0.65</td>\n",
       "      <td>0.63</td>\n",
       "      <td>0.675884</td>\n",
       "      <td>0.675329</td>\n",
       "      <td>1</td>\n",
       "      <td>1</td>\n",
       "      <td>0.000555</td>\n",
       "    </tr>\n",
       "    <tr>\n",
       "      <th>4636</th>\n",
       "      <td>[stddev_credit_amt_3M, pos_size_1M, ratio_amt_...</td>\n",
       "      <td>8</td>\n",
       "      <td>0.67</td>\n",
       "      <td>0.61</td>\n",
       "      <td>0.687939</td>\n",
       "      <td>0.687253</td>\n",
       "      <td>1</td>\n",
       "      <td>1</td>\n",
       "      <td>0.000685</td>\n",
       "    </tr>\n",
       "    <tr>\n",
       "      <th>7460</th>\n",
       "      <td>[stddev_credit_amt_3M, pos_size_1M, ratio_amt_...</td>\n",
       "      <td>9</td>\n",
       "      <td>0.66</td>\n",
       "      <td>0.61</td>\n",
       "      <td>0.687939</td>\n",
       "      <td>0.687253</td>\n",
       "      <td>1</td>\n",
       "      <td>1</td>\n",
       "      <td>0.000685</td>\n",
       "    </tr>\n",
       "    <tr>\n",
       "      <th>1091</th>\n",
       "      <td>[stddev_credit_amt_3M, pos_size_1M, ratio_amt_...</td>\n",
       "      <td>7</td>\n",
       "      <td>0.65</td>\n",
       "      <td>0.63</td>\n",
       "      <td>0.657070</td>\n",
       "      <td>0.656168</td>\n",
       "      <td>1</td>\n",
       "      <td>1</td>\n",
       "      <td>0.000902</td>\n",
       "    </tr>\n",
       "    <tr>\n",
       "      <th>3135</th>\n",
       "      <td>[loans_amt_6M, ratio_amt_credits_less_100_cred...</td>\n",
       "      <td>7</td>\n",
       "      <td>0.64</td>\n",
       "      <td>0.61</td>\n",
       "      <td>0.652774</td>\n",
       "      <td>0.651809</td>\n",
       "      <td>1</td>\n",
       "      <td>1</td>\n",
       "      <td>0.000965</td>\n",
       "    </tr>\n",
       "    <tr>\n",
       "      <th>1226</th>\n",
       "      <td>[stddev_credit_amt_3M, pos_size_1M, ratio_pos_...</td>\n",
       "      <td>7</td>\n",
       "      <td>0.64</td>\n",
       "      <td>0.63</td>\n",
       "      <td>0.660026</td>\n",
       "      <td>0.658799</td>\n",
       "      <td>1</td>\n",
       "      <td>1</td>\n",
       "      <td>0.001227</td>\n",
       "    </tr>\n",
       "    <tr>\n",
       "      <th>1014</th>\n",
       "      <td>[stddev_credit_amt_3M, pos_size_1M, ratio_amt_...</td>\n",
       "      <td>7</td>\n",
       "      <td>0.67</td>\n",
       "      <td>0.61</td>\n",
       "      <td>0.689956</td>\n",
       "      <td>0.687911</td>\n",
       "      <td>1</td>\n",
       "      <td>1</td>\n",
       "      <td>0.002044</td>\n",
       "    </tr>\n",
       "    <tr>\n",
       "      <th>4624</th>\n",
       "      <td>[stddev_credit_amt_3M, pos_size_1M, ratio_amt_...</td>\n",
       "      <td>8</td>\n",
       "      <td>0.67</td>\n",
       "      <td>0.61</td>\n",
       "      <td>0.690171</td>\n",
       "      <td>0.688076</td>\n",
       "      <td>1</td>\n",
       "      <td>1</td>\n",
       "      <td>0.002096</td>\n",
       "    </tr>\n",
       "    <tr>\n",
       "      <th>4550</th>\n",
       "      <td>[stddev_credit_amt_3M, pos_size_1M, loans_amt_...</td>\n",
       "      <td>8</td>\n",
       "      <td>0.67</td>\n",
       "      <td>0.63</td>\n",
       "      <td>0.685398</td>\n",
       "      <td>0.682895</td>\n",
       "      <td>1</td>\n",
       "      <td>1</td>\n",
       "      <td>0.002504</td>\n",
       "    </tr>\n",
       "    <tr>\n",
       "      <th>4367</th>\n",
       "      <td>[stddev_credit_amt_3M, pos_size_1M, loans_amt_...</td>\n",
       "      <td>8</td>\n",
       "      <td>0.67</td>\n",
       "      <td>0.63</td>\n",
       "      <td>0.685460</td>\n",
       "      <td>0.682895</td>\n",
       "      <td>1</td>\n",
       "      <td>1</td>\n",
       "      <td>0.002565</td>\n",
       "    </tr>\n",
       "    <tr>\n",
       "      <th>887</th>\n",
       "      <td>[stddev_credit_amt_3M, pos_size_1M, loans_amt_...</td>\n",
       "      <td>7</td>\n",
       "      <td>0.67</td>\n",
       "      <td>0.63</td>\n",
       "      <td>0.684105</td>\n",
       "      <td>0.680757</td>\n",
       "      <td>1</td>\n",
       "      <td>1</td>\n",
       "      <td>0.003349</td>\n",
       "    </tr>\n",
       "    <tr>\n",
       "      <th>8953</th>\n",
       "      <td>[stddev_credit_amt_3M, pos_size_1M, loans_amt_...</td>\n",
       "      <td>10</td>\n",
       "      <td>0.66</td>\n",
       "      <td>0.62</td>\n",
       "      <td>0.684105</td>\n",
       "      <td>0.680757</td>\n",
       "      <td>1</td>\n",
       "      <td>1</td>\n",
       "      <td>0.003349</td>\n",
       "    </tr>\n",
       "    <tr>\n",
       "      <th>9673</th>\n",
       "      <td>[stddev_credit_amt_3M, pos_size_1M, loans_amt_...</td>\n",
       "      <td>11</td>\n",
       "      <td>0.66</td>\n",
       "      <td>0.61</td>\n",
       "      <td>0.688416</td>\n",
       "      <td>0.685033</td>\n",
       "      <td>1</td>\n",
       "      <td>1</td>\n",
       "      <td>0.003383</td>\n",
       "    </tr>\n",
       "    <tr>\n",
       "      <th>4633</th>\n",
       "      <td>[stddev_credit_amt_3M, pos_size_1M, ratio_amt_...</td>\n",
       "      <td>8</td>\n",
       "      <td>0.68</td>\n",
       "      <td>0.61</td>\n",
       "      <td>0.689971</td>\n",
       "      <td>0.686431</td>\n",
       "      <td>1</td>\n",
       "      <td>1</td>\n",
       "      <td>0.003540</td>\n",
       "    </tr>\n",
       "    <tr>\n",
       "      <th>7470</th>\n",
       "      <td>[stddev_credit_amt_3M, pos_size_1M, ratio_amt_...</td>\n",
       "      <td>9</td>\n",
       "      <td>0.67</td>\n",
       "      <td>0.61</td>\n",
       "      <td>0.688555</td>\n",
       "      <td>0.684951</td>\n",
       "      <td>1</td>\n",
       "      <td>1</td>\n",
       "      <td>0.003604</td>\n",
       "    </tr>\n",
       "    <tr>\n",
       "      <th>9070</th>\n",
       "      <td>[stddev_credit_amt_3M, pos_size_1M, ratio_amt_...</td>\n",
       "      <td>10</td>\n",
       "      <td>0.66</td>\n",
       "      <td>0.61</td>\n",
       "      <td>0.688739</td>\n",
       "      <td>0.685115</td>\n",
       "      <td>1</td>\n",
       "      <td>1</td>\n",
       "      <td>0.003624</td>\n",
       "    </tr>\n",
       "    <tr>\n",
       "      <th>7467</th>\n",
       "      <td>[stddev_credit_amt_3M, pos_size_1M, ratio_amt_...</td>\n",
       "      <td>9</td>\n",
       "      <td>0.68</td>\n",
       "      <td>0.61</td>\n",
       "      <td>0.689679</td>\n",
       "      <td>0.686020</td>\n",
       "      <td>1</td>\n",
       "      <td>1</td>\n",
       "      <td>0.003659</td>\n",
       "    </tr>\n",
       "    <tr>\n",
       "      <th>9036</th>\n",
       "      <td>[stddev_credit_amt_3M, pos_size_1M, loans_amt_...</td>\n",
       "      <td>10</td>\n",
       "      <td>0.67</td>\n",
       "      <td>0.61</td>\n",
       "      <td>0.687261</td>\n",
       "      <td>0.683306</td>\n",
       "      <td>1</td>\n",
       "      <td>1</td>\n",
       "      <td>0.003955</td>\n",
       "    </tr>\n",
       "    <tr>\n",
       "      <th>7468</th>\n",
       "      <td>[stddev_credit_amt_3M, pos_size_1M, ratio_amt_...</td>\n",
       "      <td>9</td>\n",
       "      <td>0.68</td>\n",
       "      <td>0.61</td>\n",
       "      <td>0.690217</td>\n",
       "      <td>0.686020</td>\n",
       "      <td>1</td>\n",
       "      <td>1</td>\n",
       "      <td>0.004198</td>\n",
       "    </tr>\n",
       "    <tr>\n",
       "      <th>926</th>\n",
       "      <td>[stddev_credit_amt_3M, pos_size_1M, loans_amt_...</td>\n",
       "      <td>7</td>\n",
       "      <td>0.67</td>\n",
       "      <td>0.63</td>\n",
       "      <td>0.684090</td>\n",
       "      <td>0.679605</td>\n",
       "      <td>1</td>\n",
       "      <td>1</td>\n",
       "      <td>0.004485</td>\n",
       "    </tr>\n",
       "    <tr>\n",
       "      <th>9067</th>\n",
       "      <td>[stddev_credit_amt_3M, pos_size_1M, ratio_amt_...</td>\n",
       "      <td>10</td>\n",
       "      <td>0.67</td>\n",
       "      <td>0.61</td>\n",
       "      <td>0.689401</td>\n",
       "      <td>0.684704</td>\n",
       "      <td>1</td>\n",
       "      <td>1</td>\n",
       "      <td>0.004697</td>\n",
       "    </tr>\n",
       "    <tr>\n",
       "      <th>4509</th>\n",
       "      <td>[stddev_credit_amt_3M, pos_size_1M, loans_amt_...</td>\n",
       "      <td>8</td>\n",
       "      <td>0.67</td>\n",
       "      <td>0.63</td>\n",
       "      <td>0.685306</td>\n",
       "      <td>0.680592</td>\n",
       "      <td>1</td>\n",
       "      <td>1</td>\n",
       "      <td>0.004714</td>\n",
       "    </tr>\n",
       "    <tr>\n",
       "      <th>7384</th>\n",
       "      <td>[stddev_credit_amt_3M, pos_size_1M, loans_amt_...</td>\n",
       "      <td>9</td>\n",
       "      <td>0.67</td>\n",
       "      <td>0.61</td>\n",
       "      <td>0.688478</td>\n",
       "      <td>0.683224</td>\n",
       "      <td>1</td>\n",
       "      <td>1</td>\n",
       "      <td>0.005254</td>\n",
       "    </tr>\n",
       "    <tr>\n",
       "      <th>7286</th>\n",
       "      <td>[stddev_credit_amt_3M, pos_size_1M, loans_amt_...</td>\n",
       "      <td>9</td>\n",
       "      <td>0.66</td>\n",
       "      <td>0.63</td>\n",
       "      <td>0.686676</td>\n",
       "      <td>0.681332</td>\n",
       "      <td>1</td>\n",
       "      <td>1</td>\n",
       "      <td>0.005344</td>\n",
       "    </tr>\n",
       "    <tr>\n",
       "      <th>7461</th>\n",
       "      <td>[stddev_credit_amt_3M, pos_size_1M, ratio_amt_...</td>\n",
       "      <td>9</td>\n",
       "      <td>0.67</td>\n",
       "      <td>0.61</td>\n",
       "      <td>0.689863</td>\n",
       "      <td>0.684457</td>\n",
       "      <td>1</td>\n",
       "      <td>1</td>\n",
       "      <td>0.005406</td>\n",
       "    </tr>\n",
       "    <tr>\n",
       "      <th>9033</th>\n",
       "      <td>[stddev_credit_amt_3M, pos_size_1M, loans_amt_...</td>\n",
       "      <td>10</td>\n",
       "      <td>0.66</td>\n",
       "      <td>0.63</td>\n",
       "      <td>0.683936</td>\n",
       "      <td>0.678372</td>\n",
       "      <td>1</td>\n",
       "      <td>1</td>\n",
       "      <td>0.005564</td>\n",
       "    </tr>\n",
       "    <tr>\n",
       "      <th>4393</th>\n",
       "      <td>[stddev_credit_amt_3M, pos_size_1M, loans_amt_...</td>\n",
       "      <td>8</td>\n",
       "      <td>0.66</td>\n",
       "      <td>0.62</td>\n",
       "      <td>0.686676</td>\n",
       "      <td>0.681086</td>\n",
       "      <td>1</td>\n",
       "      <td>1</td>\n",
       "      <td>0.005591</td>\n",
       "    </tr>\n",
       "    <tr>\n",
       "      <th>8955</th>\n",
       "      <td>[stddev_credit_amt_3M, pos_size_1M, loans_amt_...</td>\n",
       "      <td>10</td>\n",
       "      <td>0.66</td>\n",
       "      <td>0.62</td>\n",
       "      <td>0.686569</td>\n",
       "      <td>0.680839</td>\n",
       "      <td>1</td>\n",
       "      <td>1</td>\n",
       "      <td>0.005730</td>\n",
       "    </tr>\n",
       "    <tr>\n",
       "      <th>4497</th>\n",
       "      <td>[stddev_credit_amt_3M, pos_size_1M, loans_amt_...</td>\n",
       "      <td>8</td>\n",
       "      <td>0.66</td>\n",
       "      <td>0.63</td>\n",
       "      <td>0.684536</td>\n",
       "      <td>0.678783</td>\n",
       "      <td>1</td>\n",
       "      <td>1</td>\n",
       "      <td>0.005753</td>\n",
       "    </tr>\n",
       "  </tbody>\n",
       "</table>\n",
       "</div>"
      ],
      "text/plain": [
       "                                              feat_list feat_length  \\\n",
       "925   [stddev_credit_amt_3M, pos_size_1M, loans_amt_...           7   \n",
       "1401  [stddev_credit_amt_3M, loans_amt_6M, median_cr...           7   \n",
       "4636  [stddev_credit_amt_3M, pos_size_1M, ratio_amt_...           8   \n",
       "7460  [stddev_credit_amt_3M, pos_size_1M, ratio_amt_...           9   \n",
       "1091  [stddev_credit_amt_3M, pos_size_1M, ratio_amt_...           7   \n",
       "3135  [loans_amt_6M, ratio_amt_credits_less_100_cred...           7   \n",
       "1226  [stddev_credit_amt_3M, pos_size_1M, ratio_pos_...           7   \n",
       "1014  [stddev_credit_amt_3M, pos_size_1M, ratio_amt_...           7   \n",
       "4624  [stddev_credit_amt_3M, pos_size_1M, ratio_amt_...           8   \n",
       "4550  [stddev_credit_amt_3M, pos_size_1M, loans_amt_...           8   \n",
       "4367  [stddev_credit_amt_3M, pos_size_1M, loans_amt_...           8   \n",
       "887   [stddev_credit_amt_3M, pos_size_1M, loans_amt_...           7   \n",
       "8953  [stddev_credit_amt_3M, pos_size_1M, loans_amt_...          10   \n",
       "9673  [stddev_credit_amt_3M, pos_size_1M, loans_amt_...          11   \n",
       "4633  [stddev_credit_amt_3M, pos_size_1M, ratio_amt_...           8   \n",
       "7470  [stddev_credit_amt_3M, pos_size_1M, ratio_amt_...           9   \n",
       "9070  [stddev_credit_amt_3M, pos_size_1M, ratio_amt_...          10   \n",
       "7467  [stddev_credit_amt_3M, pos_size_1M, ratio_amt_...           9   \n",
       "9036  [stddev_credit_amt_3M, pos_size_1M, loans_amt_...          10   \n",
       "7468  [stddev_credit_amt_3M, pos_size_1M, ratio_amt_...           9   \n",
       "926   [stddev_credit_amt_3M, pos_size_1M, loans_amt_...           7   \n",
       "9067  [stddev_credit_amt_3M, pos_size_1M, ratio_amt_...          10   \n",
       "4509  [stddev_credit_amt_3M, pos_size_1M, loans_amt_...           8   \n",
       "7384  [stddev_credit_amt_3M, pos_size_1M, loans_amt_...           9   \n",
       "7286  [stddev_credit_amt_3M, pos_size_1M, loans_amt_...           9   \n",
       "7461  [stddev_credit_amt_3M, pos_size_1M, ratio_amt_...           9   \n",
       "9033  [stddev_credit_amt_3M, pos_size_1M, loans_amt_...          10   \n",
       "4393  [stddev_credit_amt_3M, pos_size_1M, loans_amt_...           8   \n",
       "8955  [stddev_credit_amt_3M, pos_size_1M, loans_amt_...          10   \n",
       "4497  [stddev_credit_amt_3M, pos_size_1M, loans_amt_...           8   \n",
       "\n",
       "      train_cv_score  test_cv_score  train_auc  test_auc train_ro test_ro  \\\n",
       "925             0.67           0.63   0.684321  0.684046        1       1   \n",
       "1401            0.65           0.63   0.675884  0.675329        1       1   \n",
       "4636            0.67           0.61   0.687939  0.687253        1       1   \n",
       "7460            0.66           0.61   0.687939  0.687253        1       1   \n",
       "1091            0.65           0.63   0.657070  0.656168        1       1   \n",
       "3135            0.64           0.61   0.652774  0.651809        1       1   \n",
       "1226            0.64           0.63   0.660026  0.658799        1       1   \n",
       "1014            0.67           0.61   0.689956  0.687911        1       1   \n",
       "4624            0.67           0.61   0.690171  0.688076        1       1   \n",
       "4550            0.67           0.63   0.685398  0.682895        1       1   \n",
       "4367            0.67           0.63   0.685460  0.682895        1       1   \n",
       "887             0.67           0.63   0.684105  0.680757        1       1   \n",
       "8953            0.66           0.62   0.684105  0.680757        1       1   \n",
       "9673            0.66           0.61   0.688416  0.685033        1       1   \n",
       "4633            0.68           0.61   0.689971  0.686431        1       1   \n",
       "7470            0.67           0.61   0.688555  0.684951        1       1   \n",
       "9070            0.66           0.61   0.688739  0.685115        1       1   \n",
       "7467            0.68           0.61   0.689679  0.686020        1       1   \n",
       "9036            0.67           0.61   0.687261  0.683306        1       1   \n",
       "7468            0.68           0.61   0.690217  0.686020        1       1   \n",
       "926             0.67           0.63   0.684090  0.679605        1       1   \n",
       "9067            0.67           0.61   0.689401  0.684704        1       1   \n",
       "4509            0.67           0.63   0.685306  0.680592        1       1   \n",
       "7384            0.67           0.61   0.688478  0.683224        1       1   \n",
       "7286            0.66           0.63   0.686676  0.681332        1       1   \n",
       "7461            0.67           0.61   0.689863  0.684457        1       1   \n",
       "9033            0.66           0.63   0.683936  0.678372        1       1   \n",
       "4393            0.66           0.62   0.686676  0.681086        1       1   \n",
       "8955            0.66           0.62   0.686569  0.680839        1       1   \n",
       "4497            0.66           0.63   0.684536  0.678783        1       1   \n",
       "\n",
       "      auc_delta  \n",
       "925    0.000275  \n",
       "1401   0.000555  \n",
       "4636   0.000685  \n",
       "7460   0.000685  \n",
       "1091   0.000902  \n",
       "3135   0.000965  \n",
       "1226   0.001227  \n",
       "1014   0.002044  \n",
       "4624   0.002096  \n",
       "4550   0.002504  \n",
       "4367   0.002565  \n",
       "887    0.003349  \n",
       "8953   0.003349  \n",
       "9673   0.003383  \n",
       "4633   0.003540  \n",
       "7470   0.003604  \n",
       "9070   0.003624  \n",
       "7467   0.003659  \n",
       "9036   0.003955  \n",
       "7468   0.004198  \n",
       "926    0.004485  \n",
       "9067   0.004697  \n",
       "4509   0.004714  \n",
       "7384   0.005254  \n",
       "7286   0.005344  \n",
       "7461   0.005406  \n",
       "9033   0.005564  \n",
       "4393   0.005591  \n",
       "8955   0.005730  \n",
       "4497   0.005753  "
      ]
     },
     "execution_count": 114,
     "metadata": {},
     "output_type": "execute_result"
    }
   ],
   "source": [
    "output_df[(output_df['train_ro']==1) & (output_df['test_ro']==1) & (output_df['auc_delta']>=0)].sort_values(by=['auc_delta','train_auc'],ascending = [True, False]).head(30)"
   ]
  },
  {
   "cell_type": "code",
   "execution_count": null,
   "metadata": {},
   "outputs": [],
   "source": [
    "[926,\n",
    "9067,\n",
    "4509,\n",
    "7384,\n",
    "7286,\n",
    "7461,\n",
    "9033,\n",
    "4393.\n",
    "8955,\n",
    "4497]"
   ]
  },
  {
   "cell_type": "code",
   "execution_count": 125,
   "metadata": {},
   "outputs": [
    {
     "data": {
      "text/plain": [
       "['stddev_credit_amt_3M',\n",
       " 'pos_size_1M',\n",
       " 'ratio_amt_credits_less_100_credits_grt_500_3M',\n",
       " 'median_credit_amt_1M',\n",
       " 'ratio_pos_size_1M_6M',\n",
       " 'median_pos_amt_3M',\n",
       " 'count_credits_grt_500_3M',\n",
       " 'loans_size_6M',\n",
       " 'ach_count_6M']"
      ]
     },
     "execution_count": 125,
     "metadata": {},
     "output_type": "execute_result"
    }
   ],
   "source": [
    "output_df.iloc[7468]['feat_list']"
   ]
  },
  {
   "cell_type": "code",
   "execution_count": 129,
   "metadata": {},
   "outputs": [
    {
     "data": {
      "text/plain": [
       "['stddev_credit_amt_3M',\n",
       " 'pos_size_1M',\n",
       " 'ratio_amt_credits_less_100_credits_grt_500_3M',\n",
       " 'median_credit_amt_1M',\n",
       " 'ratio_pos_size_1M_6M',\n",
       " 'median_pos_amt_3M',\n",
       " 'count_credits_grt_500_3M',\n",
       " 'loans_size_6M']"
      ]
     },
     "execution_count": 129,
     "metadata": {},
     "output_type": "execute_result"
    }
   ],
   "source": [
    "output_df.iloc[4633]['feat_list']"
   ]
  },
  {
   "cell_type": "code",
   "execution_count": 130,
   "metadata": {},
   "outputs": [
    {
     "data": {
      "text/plain": [
       "['stddev_credit_amt_3M',\n",
       " 'pos_size_1M',\n",
       " 'ratio_amt_credits_less_100_credits_grt_500_3M',\n",
       " 'median_credit_amt_1M',\n",
       " 'ratio_pos_size_1M_6M',\n",
       " 'pos_count_3M',\n",
       " 'median_pos_amt_3M',\n",
       " 'loans_size_6M']"
      ]
     },
     "execution_count": 130,
     "metadata": {},
     "output_type": "execute_result"
    }
   ],
   "source": [
    "output_df.iloc[4624]['feat_list']"
   ]
  },
  {
   "cell_type": "code",
   "execution_count": 131,
   "metadata": {},
   "outputs": [
    {
     "data": {
      "text/plain": [
       "['stddev_credit_amt_3M',\n",
       " 'pos_size_1M',\n",
       " 'loans_amt_6M',\n",
       " 'ratio_amt_credits_less_100_credits_grt_500_3M',\n",
       " 'median_credit_amt_1M',\n",
       " 'ratio_pos_size_1M_6M',\n",
       " 'median_pos_amt_3M',\n",
       " 'count_credits_grt_500_3M']"
      ]
     },
     "execution_count": 131,
     "metadata": {},
     "output_type": "execute_result"
    }
   ],
   "source": [
    "output_df.iloc[4367]['feat_list']"
   ]
  },
  {
   "cell_type": "code",
   "execution_count": 132,
   "metadata": {},
   "outputs": [
    {
     "data": {
      "text/plain": [
       "['stddev_credit_amt_3M',\n",
       " 'pos_size_1M',\n",
       " 'ratio_amt_credits_less_100_credits_grt_500_3M',\n",
       " 'median_credit_amt_1M',\n",
       " 'ratio_pos_size_1M_6M',\n",
       " 'median_pos_amt_3M',\n",
       " 'loans_size_6M']"
      ]
     },
     "execution_count": 132,
     "metadata": {},
     "output_type": "execute_result"
    }
   ],
   "source": [
    "output_df.iloc[1014]['feat_list']"
   ]
  },
  {
   "cell_type": "code",
   "execution_count": 102,
   "metadata": {},
   "outputs": [
    {
     "data": {
      "text/plain": [
       "(9907, 9)"
      ]
     },
     "execution_count": 102,
     "metadata": {},
     "output_type": "execute_result"
    }
   ],
   "source": [
    "output_df.shape"
   ]
  },
  {
   "cell_type": "code",
   "execution_count": null,
   "metadata": {},
   "outputs": [],
   "source": []
  }
 ],
 "metadata": {
  "kernelspec": {
   "display_name": "Python 3.9.17 64-bit ('venv_plaid_credit')",
   "language": "python",
   "name": "python3"
  },
  "language_info": {
   "codemirror_mode": {
    "name": "ipython",
    "version": 3
   },
   "file_extension": ".py",
   "mimetype": "text/x-python",
   "name": "python",
   "nbconvert_exporter": "python",
   "pygments_lexer": "ipython3",
   "version": "3.9.17"
  },
  "orig_nbformat": 4,
  "vscode": {
   "interpreter": {
    "hash": "d9bbc33ec67b6e69663d9524a7cba3ebe2e2de2798633e20e7d227e00dd346ad"
   }
  }
 },
 "nbformat": 4,
 "nbformat_minor": 2
}
