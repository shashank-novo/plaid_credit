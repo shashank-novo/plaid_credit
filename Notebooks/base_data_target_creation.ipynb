{
 "cells": [
  {
   "cell_type": "code",
   "execution_count": 1,
   "metadata": {},
   "outputs": [
    {
     "name": "stdout",
     "output_type": "stream",
     "text": [
      "/Users/shashankgupta/Documents/code/git_project/plaid_credit\n",
      "/Users/shashankgupta/Documents/code/git_project/plaid_credit/Code\n"
     ]
    }
   ],
   "source": [
    "import os \n",
    "cwd = os.getcwd()\n",
    "\n",
    "os.chdir('../')\n",
    "cwd = os.getcwd()\n",
    "print(cwd)\n",
    "\n",
    "os.chdir('./code/')\n",
    "cwd = os.getcwd()\n",
    "print(cwd)\n",
    "\n",
    "import pandas as pd \n",
    "import numpy as np \n",
    "import seaborn as sns\n",
    "\n",
    "import pickle \n",
    "import logging\n",
    "\n",
    "\n",
    "from config.config import SQLQuery\n",
    "querySno = SQLQuery('snowflake')"
   ]
  },
  {
   "cell_type": "code",
   "execution_count": 2,
   "metadata": {},
   "outputs": [],
   "source": [
    "querySno = SQLQuery('snowflake')\n",
    "base = querySno(r\"\"\" \n",
    "with default_flags as (\n",
    "select distinct lending_business_id, business_id,loan_month,\n",
    "max(case when emi_no = 1 then due_date end) over(partition by lending_business_id) as first_duedate, \n",
    "max(case when emi_no = 2 then due_date end) over(partition by lending_business_id) as second_duedate, \n",
    "max(case when emi_no = 3 then due_date end) over(partition by lending_business_id) as third_duedate,\n",
    "max(case when emi_no = 4 then due_date end) over(partition by lending_business_id) as fourth_duedate,\n",
    "max(case when emi_no = 5 then due_date end) over(partition by lending_business_id) as fifth_duedate,\n",
    "max(case when emi_no = 6 then due_date end) over(partition by lending_business_id) as sixth_duedate,\n",
    "max(case when emi_no = 1 then defalt end) over(partition by lending_business_id) as fpd, \n",
    "max(case when emi_no = 2 then defalt end) over(partition by lending_business_id) as spd, \n",
    "max(case when emi_no = 3 then defalt end) over(partition by lending_business_id) as tpd,\n",
    "max(case when emi_no = 4 then defalt end) over(partition by lending_business_id) as frpd,\n",
    "max(case when emi_no = 5 then defalt end) over(partition by lending_business_id) as ffpd,\n",
    "max(case when emi_no = 6 then defalt end) over(partition by lending_business_id) as sxpd,\n",
    "max(case when emi_no = 1 then total_emi end) over(partition by lending_business_id) as first_emi_amount,\n",
    "max(case when emi_no = 2 then total_emi end) over(partition by lending_business_id) as second_emi_amount,\n",
    "max(case when emi_no = 3 then total_emi end) over(partition by lending_business_id) as third_emi_amount,\n",
    "max(case when emi_no = 4 then total_emi end) over(partition by lending_business_id) as fourth_emi_amount,\n",
    "max(case when emi_no = 5 then total_emi end) over(partition by lending_business_id) as fifth_emi_amount,\n",
    "max(case when emi_no = 6 then total_emi end) over(partition by lending_business_id) as sixth_emi_amount\n",
    "from (\n",
    "select a.*,json_extract_path_text(c.predict_meta, 'business_id') as b1_id, json_extract_path_text(c.predict_meta, 'data.business_id') as b2_id,\n",
    "case when b1_id is null then b2_id else b1_id end as business_id,\n",
    "month(a.created_at) as month_no,\n",
    "case when paid_on_time = 'true' then 0\n",
    "when paid_on_time = 'false' then 1 else null end as default_flag,\n",
    "dense_rank() over(partition by a.lending_business_id order by due_date) as emi_no,\n",
    "min(a.created_at) over (partition by a.lending_business_id) as min_created_at,\n",
    "month(min_created_at) as loan_month,\n",
    "max(default_flag) over(partition by a.lending_business_id, due_date) as defalt,\n",
    "sum(due_amount) over(partition by a.lending_business_id, due_date) as amount_due,\n",
    "sum(payment) over(partition by a.lending_business_id, due_date) as payment_done,\n",
    "amount_due/100 + payment_done/100 as total_emi\n",
    "from \"FIVETRAN_DB\".\"PROD_NOVO_API_PUBLIC\".\"LENDING_PAYMENT_SCHEDULES\" a\n",
    "join FIVETRAN_DB.PROD_NOVO_API_PUBLIC.LENDING_DECISION_RESULTS c on a.lending_business_id = c.lending_business_id\n",
    "where date(due_date) <= date('2023-06-05')\n",
    "-- and a.lending_business_id = '909564ef-6b22-4303-9df5-fc4e892fef01'\n",
    ")\n",
    ")\n",
    ", first_cure as (\n",
    "select *,transaction_date as first_cure_date from (\n",
    "select *, row_number() over(partition by business_id order by transaction_date) rnk\n",
    "from (\n",
    "select b.lending_business_id, t.business_id, t.transaction_date, b.first_emi_amount,b.second_emi_amount,b.third_emi_amount, t.description, \n",
    "running_balance,b.first_duedate,b.second_duedate,b.third_duedate,\n",
    "sum(-amount) over(partition by t.business_id order by transaction_date) as first_amount_cured\n",
    "from default_flags b left join prod_db.data.transactions t on t.business_id = b.business_id\n",
    "where date(transaction_date) >= date(b.first_duedate)\n",
    "-- and date(transaction_date) < date(b.second_duedate)\n",
    "and description ILIKE any('Novo Funding%%')\n",
    "and amount < 0\n",
    ")\n",
    "where first_amount_cured >= first_emi_amount\n",
    ")\n",
    "where rnk = 1\n",
    ")\n",
    ", second_cure as (\n",
    "select *, transaction_date as second_cure_date from (\n",
    "select *, row_number() over(partition by business_id order by transaction_date) as rnk\n",
    "from(\n",
    "select b.lending_business_id, t.business_id, t.transaction_date, b.first_emi_amount,b.second_emi_amount,b.third_emi_amount, t.description, \n",
    "t.running_balance,b.first_duedate,b.second_duedate,b.third_duedate,\n",
    "sum(-amount) over(partition by t.business_id order by transaction_date) as second_amount_cured\n",
    "from default_flags b left join prod_db.data.transactions t on t.business_id = b.business_id\n",
    "-- join first_cure c on b.lending_business_id = c.lending_business_id\n",
    "where date(transaction_date) >= date(b.first_duedate)\n",
    "-- and date(transaction_date) < date(b.second_duedate)\n",
    "and description ILIKE any('Novo Funding%%')\n",
    "and amount < 0\n",
    ")\n",
    "where second_amount_cured >= first_emi_amount + second_emi_amount\n",
    ")\n",
    "where rnk = 1\n",
    ")\n",
    "\n",
    ",third_cure as (\n",
    "select *, transaction_date as third_cure_date from (\n",
    "select *, row_number() over(partition by business_id order by transaction_date) as rnk\n",
    "from(\n",
    "select b.lending_business_id, t.business_id, t.transaction_date, b.first_emi_amount,b.second_emi_amount,b.third_emi_amount, t.description, \n",
    "running_balance,b.first_duedate,b.second_duedate,b.third_duedate,\n",
    "sum(-amount) over(partition by t.business_id order by transaction_date) as third_amount_cured\n",
    "from default_flags b left join prod_db.data.transactions t on t.business_id = b.business_id\n",
    "-- join first_cure c on b.lending_business_id = c.lending_business_id\n",
    "where date(transaction_date) >= date(b.first_duedate)\n",
    "-- and date(transaction_date) < date(b.third_duedate)\n",
    "and description ILIKE any('Novo Funding%%')\n",
    "and amount < 0\n",
    ")\n",
    "where third_amount_cured >= first_emi_amount + second_emi_amount + third_emi_amount\n",
    ")\n",
    "where rnk = 1\n",
    ")\n",
    "\n",
    ",fourth_cure as (\n",
    "select *, transaction_date as fourth_cure_date from (\n",
    "select *, row_number() over(partition by business_id order by transaction_date) as rnk\n",
    "from(\n",
    "select b.lending_business_id, t.business_id, t.transaction_date, b.first_emi_amount,b.second_emi_amount,b.third_emi_amount,b.fourth_emi_amount ,t.description, \n",
    "running_balance,b.first_duedate,b.second_duedate,b.third_duedate,b.fourth_duedate,\n",
    "sum(-amount) over(partition by t.business_id order by transaction_date) as fourth_amount_cured\n",
    "from default_flags b left join prod_db.data.transactions t on t.business_id = b.business_id\n",
    "-- join first_cure c on b.lending_business_id = c.lending_business_id\n",
    "where date(transaction_date) >= date(b.first_duedate)\n",
    "-- and date(transaction_date) < date(b.third_duedate)\n",
    "and description ILIKE any('Novo Funding%%')\n",
    "and amount < 0\n",
    ")\n",
    "where fourth_amount_cured >= first_emi_amount + second_emi_amount + third_emi_amount + fourth_emi_amount\n",
    ")\n",
    "where rnk = 1\n",
    ")\n",
    "\n",
    ",fifth_cure as (\n",
    "select *, transaction_date as fifth_cure_date from (\n",
    "select *, row_number() over(partition by business_id order by transaction_date) as rnk\n",
    "from(\n",
    "select b.lending_business_id, t.business_id, t.transaction_date, b.first_emi_amount,b.second_emi_amount,b.third_emi_amount,b.fourth_emi_amount,b.fifth_emi_amount ,t.description, \n",
    "running_balance,b.first_duedate,b.second_duedate,b.third_duedate,b.fourth_duedate, b.fifth_duedate,\n",
    "sum(-amount) over(partition by t.business_id order by transaction_date) as fifth_amount_cured\n",
    "from default_flags b left join prod_db.data.transactions t on t.business_id = b.business_id\n",
    "-- join first_cure c on b.lending_business_id = c.lending_business_id\n",
    "where date(transaction_date) >= date(b.first_duedate)\n",
    "-- and date(transaction_date) < date(b.third_duedate)\n",
    "and description ILIKE any('Novo Funding%%')\n",
    "and amount < 0\n",
    ")\n",
    "where fifth_amount_cured >= first_emi_amount + second_emi_amount + third_emi_amount + fourth_emi_amount + fifth_emi_amount\n",
    ")\n",
    "where rnk = 1\n",
    ")\n",
    "\n",
    ",sixth_cure as (\n",
    "select *, transaction_date as sixth_cure_date from (\n",
    "select *, row_number() over(partition by business_id order by transaction_date) as rnk\n",
    "from(\n",
    "select b.lending_business_id, t.business_id, t.transaction_date, b.first_emi_amount,b.second_emi_amount,b.third_emi_amount,b.fourth_emi_amount,\n",
    "b.fifth_emi_amount,b.sixth_emi_amount, t.description, \n",
    "running_balance,b.first_duedate,b.second_duedate,b.third_duedate,b.fourth_duedate, b.fifth_duedate, b.sixth_duedate,\n",
    "sum(-amount) over(partition by t.business_id order by transaction_date) as sixth_amount_cured\n",
    "from default_flags b left join prod_db.data.transactions t on t.business_id = b.business_id\n",
    "-- join first_cure c on b.lending_business_id = c.lending_business_id\n",
    "where date(transaction_date) >= date(b.first_duedate)\n",
    "-- and date(transaction_date) < date(b.third_duedate)\n",
    "and description ILIKE any('Novo Funding%%')\n",
    "and amount < 0\n",
    ")\n",
    "where sixth_amount_cured >= first_emi_amount + second_emi_amount + third_emi_amount + fourth_emi_amount + fifth_emi_amount + sixth_emi_amount\n",
    ")\n",
    "where rnk = 1\n",
    ")\n",
    "\n",
    "select a.lending_business_id, a.business_id, a.first_duedate,date(f.first_cure_date)as first_cure_date, a.second_duedate,date(s.second_cure_date)as second_cure_date, \n",
    "a.third_duedate,date(t.third_cure_date) as third_cure_date, a.fourth_duedate,date(fr.fourth_cure_date) as fourth_cure_date, a.fifth_duedate, date(ff.fifth_cure_date) as fifth_cure_date,\n",
    "a.sixth_duedate, date(sx.sixth_cure_date) as sixth_cure_date,\n",
    "fpd, spd, tpd, frpd, ffpd,sxpd,\n",
    "case when fpd = 1 and first_amount_cured >= a.first_emi_amount then 1 else 0 end as first_cure_flag,\n",
    "case when spd = 1 and second_amount_cured >= a.first_emi_amount + a.second_emi_amount then 1 else 0 end as second_cure_flag,\n",
    "case when tpd = 1 and third_amount_cured >= a.first_emi_amount + a.second_emi_amount + a.third_emi_amount then 1 else 0 end as third_cure_flag,\n",
    "case when frpd = 1 and fourth_amount_cured >= a.first_emi_amount + a.second_emi_amount + a.third_emi_amount + a.fourth_emi_amount then 1 else 0 end as fourth_cure_flag,\n",
    "case when ffpd = 1 and fifth_amount_cured >= a.first_emi_amount + a.second_emi_amount + a.third_emi_amount + a.fourth_emi_amount + a.fifth_emi_amount then 1 else 0 end as fifth_cure_flag,\n",
    "case when sxpd = 1 and sixth_amount_cured >= a.first_emi_amount + a.second_emi_amount + a.third_emi_amount + a.fourth_emi_amount + a.fifth_emi_amount + a.sixth_emi_amount then 1 else 0 end as sixth_cure_flag,\n",
    "case when first_cure_flag = 1 then datediff(day,a.first_duedate,f.first_cure_date) else null end as first_cure_days,\n",
    "case when second_cure_flag = 1 then datediff(day,a.second_duedate,s.second_cure_date) else null end as second_cure_days,\n",
    "case when third_cure_flag = 1 then datediff(day,a.third_duedate,t.third_cure_date) else null end as third_cure_days,\n",
    "case when fourth_cure_flag = 1 then datediff(day,a.fourth_duedate,fr.fourth_cure_date) else null end as fourth_cure_days,\n",
    "case when fifth_cure_flag = 1 then datediff(day, a.fifth_duedate, ff.fifth_cure_date) else null end as fifth_cure_days,\n",
    "case when sixth_cure_flag = 1 then datediff(day, a.sixth_duedate, sx.sixth_cure_date) else null end as sixth_cure_days,\n",
    "a.first_emi_amount, f.first_amount_cured, a.second_emi_amount,(s.second_amount_cured - f.first_amount_cured) as second_amt_cured, a.third_emi_amount, \n",
    "(t.third_amount_cured - second_amt_cured) as third_amt_cured, a.fourth_emi_amount, (fr.fourth_amount_cured - third_amt_cured) as fourth_amt_cured,\n",
    "(ff.fifth_amount_cured - fourth_amt_cured) as fifth_amt_cured, (sx.sixth_amount_cured - fifth_amt_cured) as sixth_amt_cured\n",
    "from default_flags a \n",
    "left join first_cure f on a.lending_business_id = f.lending_business_id\n",
    "left join second_cure s on a.lending_business_id = s.lending_business_id\n",
    "left join third_cure t on a.lending_business_id = t.lending_business_id\n",
    "left join fourth_cure fr on a.lending_business_id = fr.lending_business_id\n",
    "left join fifth_cure ff on a.lending_business_id = ff.lending_business_id\n",
    "left join sixth_cure sx on a.lending_business_id = sx.lending_business_id\n",
    "where a.first_duedate <= date('2023-06-05')\n",
    "-- and a.business_id = '111eb19b-cd06-4943-b9f5-c111ae38189e'\n",
    "order by first_duedate desc\n",
    "\"\"\")"
   ]
  },
  {
   "cell_type": "code",
   "execution_count": 3,
   "metadata": {},
   "outputs": [
    {
     "data": {
      "text/plain": [
       "(2835, 42)"
      ]
     },
     "execution_count": 3,
     "metadata": {},
     "output_type": "execute_result"
    }
   ],
   "source": [
    "base.shape"
   ]
  },
  {
   "cell_type": "code",
   "execution_count": 4,
   "metadata": {},
   "outputs": [
    {
     "data": {
      "text/html": [
       "<div>\n",
       "<style scoped>\n",
       "    .dataframe tbody tr th:only-of-type {\n",
       "        vertical-align: middle;\n",
       "    }\n",
       "\n",
       "    .dataframe tbody tr th {\n",
       "        vertical-align: top;\n",
       "    }\n",
       "\n",
       "    .dataframe thead th {\n",
       "        text-align: right;\n",
       "    }\n",
       "</style>\n",
       "<table border=\"1\" class=\"dataframe\">\n",
       "  <thead>\n",
       "    <tr style=\"text-align: right;\">\n",
       "      <th></th>\n",
       "      <th>lending_business_id</th>\n",
       "      <th>business_id</th>\n",
       "      <th>first_duedate</th>\n",
       "      <th>first_cure_date</th>\n",
       "      <th>second_duedate</th>\n",
       "      <th>second_cure_date</th>\n",
       "      <th>third_duedate</th>\n",
       "      <th>third_cure_date</th>\n",
       "      <th>fourth_duedate</th>\n",
       "      <th>fourth_cure_date</th>\n",
       "      <th>...</th>\n",
       "      <th>first_emi_amount</th>\n",
       "      <th>first_amount_cured</th>\n",
       "      <th>second_emi_amount</th>\n",
       "      <th>second_amt_cured</th>\n",
       "      <th>third_emi_amount</th>\n",
       "      <th>third_amt_cured</th>\n",
       "      <th>fourth_emi_amount</th>\n",
       "      <th>fourth_amt_cured</th>\n",
       "      <th>fifth_amt_cured</th>\n",
       "      <th>sixth_amt_cured</th>\n",
       "    </tr>\n",
       "  </thead>\n",
       "  <tbody>\n",
       "    <tr>\n",
       "      <th>0</th>\n",
       "      <td>6b3e7079-6cc7-4103-8bb1-2c5c9455e888</td>\n",
       "      <td>34ef815c-eba6-4acb-a6f0-a5c9ece158e6</td>\n",
       "      <td>2023-06-05</td>\n",
       "      <td>2023-06-05</td>\n",
       "      <td>None</td>\n",
       "      <td>None</td>\n",
       "      <td>None</td>\n",
       "      <td>None</td>\n",
       "      <td>None</td>\n",
       "      <td>None</td>\n",
       "      <td>...</td>\n",
       "      <td>933.33</td>\n",
       "      <td>933.33</td>\n",
       "      <td>NaN</td>\n",
       "      <td>NaN</td>\n",
       "      <td>NaN</td>\n",
       "      <td>NaN</td>\n",
       "      <td>NaN</td>\n",
       "      <td>NaN</td>\n",
       "      <td>NaN</td>\n",
       "      <td>NaN</td>\n",
       "    </tr>\n",
       "    <tr>\n",
       "      <th>1</th>\n",
       "      <td>06296573-9834-4351-b450-c59f44e9741e</td>\n",
       "      <td>c4cec416-702f-4067-ba46-84088fbc0a5f</td>\n",
       "      <td>2023-06-05</td>\n",
       "      <td>None</td>\n",
       "      <td>None</td>\n",
       "      <td>None</td>\n",
       "      <td>None</td>\n",
       "      <td>None</td>\n",
       "      <td>None</td>\n",
       "      <td>None</td>\n",
       "      <td>...</td>\n",
       "      <td>235.98</td>\n",
       "      <td>NaN</td>\n",
       "      <td>NaN</td>\n",
       "      <td>NaN</td>\n",
       "      <td>NaN</td>\n",
       "      <td>NaN</td>\n",
       "      <td>NaN</td>\n",
       "      <td>NaN</td>\n",
       "      <td>NaN</td>\n",
       "      <td>NaN</td>\n",
       "    </tr>\n",
       "    <tr>\n",
       "      <th>2</th>\n",
       "      <td>c74679c1-92d2-43ac-8b73-3e3ed8b8000a</td>\n",
       "      <td>136032b3-d2f5-43ab-a9d2-33230517857f</td>\n",
       "      <td>2023-06-05</td>\n",
       "      <td>2023-06-05</td>\n",
       "      <td>None</td>\n",
       "      <td>None</td>\n",
       "      <td>None</td>\n",
       "      <td>None</td>\n",
       "      <td>None</td>\n",
       "      <td>None</td>\n",
       "      <td>...</td>\n",
       "      <td>466.00</td>\n",
       "      <td>466.00</td>\n",
       "      <td>NaN</td>\n",
       "      <td>NaN</td>\n",
       "      <td>NaN</td>\n",
       "      <td>NaN</td>\n",
       "      <td>NaN</td>\n",
       "      <td>NaN</td>\n",
       "      <td>NaN</td>\n",
       "      <td>NaN</td>\n",
       "    </tr>\n",
       "    <tr>\n",
       "      <th>3</th>\n",
       "      <td>028fa7c5-b2f8-45a2-a738-b670de867b94</td>\n",
       "      <td>32947d50-65c5-448a-9bf1-867ab1a3e52f</td>\n",
       "      <td>2023-06-05</td>\n",
       "      <td>2023-06-05</td>\n",
       "      <td>None</td>\n",
       "      <td>None</td>\n",
       "      <td>None</td>\n",
       "      <td>None</td>\n",
       "      <td>None</td>\n",
       "      <td>None</td>\n",
       "      <td>...</td>\n",
       "      <td>98.33</td>\n",
       "      <td>98.33</td>\n",
       "      <td>NaN</td>\n",
       "      <td>NaN</td>\n",
       "      <td>NaN</td>\n",
       "      <td>NaN</td>\n",
       "      <td>NaN</td>\n",
       "      <td>NaN</td>\n",
       "      <td>NaN</td>\n",
       "      <td>NaN</td>\n",
       "    </tr>\n",
       "    <tr>\n",
       "      <th>4</th>\n",
       "      <td>6e7c058d-8863-4c6c-8547-b3bfa0a022ef</td>\n",
       "      <td>198af8d7-fcf0-4636-800b-2b49cdbfbb2d</td>\n",
       "      <td>2023-06-05</td>\n",
       "      <td>None</td>\n",
       "      <td>None</td>\n",
       "      <td>None</td>\n",
       "      <td>None</td>\n",
       "      <td>None</td>\n",
       "      <td>None</td>\n",
       "      <td>None</td>\n",
       "      <td>...</td>\n",
       "      <td>282.31</td>\n",
       "      <td>NaN</td>\n",
       "      <td>NaN</td>\n",
       "      <td>NaN</td>\n",
       "      <td>NaN</td>\n",
       "      <td>NaN</td>\n",
       "      <td>NaN</td>\n",
       "      <td>NaN</td>\n",
       "      <td>NaN</td>\n",
       "      <td>NaN</td>\n",
       "    </tr>\n",
       "  </tbody>\n",
       "</table>\n",
       "<p>5 rows × 42 columns</p>\n",
       "</div>"
      ],
      "text/plain": [
       "                    lending_business_id                           business_id  \\\n",
       "0  6b3e7079-6cc7-4103-8bb1-2c5c9455e888  34ef815c-eba6-4acb-a6f0-a5c9ece158e6   \n",
       "1  06296573-9834-4351-b450-c59f44e9741e  c4cec416-702f-4067-ba46-84088fbc0a5f   \n",
       "2  c74679c1-92d2-43ac-8b73-3e3ed8b8000a  136032b3-d2f5-43ab-a9d2-33230517857f   \n",
       "3  028fa7c5-b2f8-45a2-a738-b670de867b94  32947d50-65c5-448a-9bf1-867ab1a3e52f   \n",
       "4  6e7c058d-8863-4c6c-8547-b3bfa0a022ef  198af8d7-fcf0-4636-800b-2b49cdbfbb2d   \n",
       "\n",
       "  first_duedate first_cure_date second_duedate second_cure_date third_duedate  \\\n",
       "0    2023-06-05      2023-06-05           None             None          None   \n",
       "1    2023-06-05            None           None             None          None   \n",
       "2    2023-06-05      2023-06-05           None             None          None   \n",
       "3    2023-06-05      2023-06-05           None             None          None   \n",
       "4    2023-06-05            None           None             None          None   \n",
       "\n",
       "  third_cure_date fourth_duedate fourth_cure_date  ... first_emi_amount  \\\n",
       "0            None           None             None  ...           933.33   \n",
       "1            None           None             None  ...           235.98   \n",
       "2            None           None             None  ...           466.00   \n",
       "3            None           None             None  ...            98.33   \n",
       "4            None           None             None  ...           282.31   \n",
       "\n",
       "  first_amount_cured second_emi_amount second_amt_cured  third_emi_amount  \\\n",
       "0             933.33               NaN              NaN               NaN   \n",
       "1                NaN               NaN              NaN               NaN   \n",
       "2             466.00               NaN              NaN               NaN   \n",
       "3              98.33               NaN              NaN               NaN   \n",
       "4                NaN               NaN              NaN               NaN   \n",
       "\n",
       "   third_amt_cured  fourth_emi_amount  fourth_amt_cured  fifth_amt_cured  \\\n",
       "0              NaN                NaN               NaN              NaN   \n",
       "1              NaN                NaN               NaN              NaN   \n",
       "2              NaN                NaN               NaN              NaN   \n",
       "3              NaN                NaN               NaN              NaN   \n",
       "4              NaN                NaN               NaN              NaN   \n",
       "\n",
       "   sixth_amt_cured  \n",
       "0              NaN  \n",
       "1              NaN  \n",
       "2              NaN  \n",
       "3              NaN  \n",
       "4              NaN  \n",
       "\n",
       "[5 rows x 42 columns]"
      ]
     },
     "execution_count": 4,
     "metadata": {},
     "output_type": "execute_result"
    }
   ],
   "source": [
    "base.head()"
   ]
  },
  {
   "cell_type": "code",
   "execution_count": 6,
   "metadata": {},
   "outputs": [],
   "source": [
    "base['everDPD'] = base.apply(lambda x: max(x['fpd'],x['spd'],x['tpd'],x['frpd'],x['ffpd'],x['sxpd']),axis=1)"
   ]
  },
  {
   "cell_type": "markdown",
   "metadata": {},
   "source": [
    "##### everDPD calculations"
   ]
  },
  {
   "cell_type": "code",
   "execution_count": 7,
   "metadata": {},
   "outputs": [],
   "source": [
    "base['fpd_plus_3'] = 0\n",
    "base['spd_plus_3'] = 0\n",
    "base['tpd_plus_3'] = 0\n",
    "base['frpd_plus_3'] = 0\n",
    "base['ffpd_plus_3'] = 0\n",
    "base['sxpd_plus_3'] = 0\n",
    "\n",
    "base.loc[(base['fpd']==1) & (base['first_cure_days']>=3), 'fpd_plus_3'] = 1\n",
    "base.loc[(base['spd']==1) & (base['second_cure_days']>=3), 'spd_plus_3'] = 1\n",
    "base.loc[(base['tpd']==1) & (base['third_cure_days']>=3), 'tpd_plus_3'] = 1\n",
    "base.loc[(base['frpd']==1) & (base['fourth_cure_days']>=3), 'frpd_plus_3'] = 1\n",
    "base.loc[(base['ffpd']==1) & (base['fifth_cure_days']>=3), 'ffpd_plus_3'] = 1\n",
    "base.loc[(base['sxpd']==1) & (base['sixth_cure_days']>=3), 'sxpd_plus_3'] = 1"
   ]
  },
  {
   "cell_type": "code",
   "execution_count": 8,
   "metadata": {},
   "outputs": [],
   "source": [
    "base['fpd_plus_15'] = 0\n",
    "base['spd_plus_15'] = 0\n",
    "base['tpd_plus_15'] = 0\n",
    "base['frpd_plus_15'] = 0\n",
    "base['ffpd_plus_15'] = 0\n",
    "base['sxpd_plus_15'] = 0\n",
    "\n",
    "base.loc[(base['fpd']==1) & (base['first_cure_days']>=15), 'fpd_plus_15'] = 1\n",
    "base.loc[(base['spd']==1) & (base['second_cure_days']>=15), 'spd_plus_15'] = 1\n",
    "base.loc[(base['tpd']==1) & (base['third_cure_days']>=15), 'tpd_plus_15'] = 1\n",
    "base.loc[(base['frpd']==1) & (base['fourth_cure_days']>=15), 'frpd_plus_15'] = 1\n",
    "base.loc[(base['ffpd']==1) & (base['fifth_cure_days']>=15), 'ffpd_plus_15'] = 1\n",
    "base.loc[(base['sxpd']==1) & (base['sixth_cure_days']>=15), 'sxpd_plus_15'] = 1"
   ]
  },
  {
   "cell_type": "code",
   "execution_count": 9,
   "metadata": {},
   "outputs": [],
   "source": [
    "base['fpd_plus_30'] = 0\n",
    "base['spd_plus_30'] = 0\n",
    "base['tpd_plus_30'] = 0\n",
    "base['frpd_plus_30'] = 0\n",
    "base['ffpd_plus_30'] = 0\n",
    "base['sxpd_plus_30'] = 0\n",
    "\n",
    "base.loc[(base['fpd']==1) & (base['first_cure_days']>=30), 'fpd_plus_30'] = 1\n",
    "base.loc[(base['spd']==1) & (base['second_cure_days']>=30), 'spd_plus_30'] = 1\n",
    "base.loc[(base['tpd']==1) & (base['third_cure_days']>=30), 'tpd_plus_30'] = 1\n",
    "base.loc[(base['frpd']==1) & (base['fourth_cure_days']>=30), 'frpd_plus_30'] = 1\n",
    "base.loc[(base['ffpd']==1) & (base['fifth_cure_days']>=30), 'ffpd_plus_30'] = 1\n",
    "base.loc[(base['sxpd']==1) & (base['sixth_cure_days']>=30), 'sxpd_plus_30'] = 1"
   ]
  },
  {
   "cell_type": "markdown",
   "metadata": {},
   "source": [
    "##### EverDPDs"
   ]
  },
  {
   "cell_type": "code",
   "execution_count": 10,
   "metadata": {},
   "outputs": [],
   "source": [
    "base['everDPD_3'] = base.apply(lambda x: max(x['fpd_plus_3'],x['spd_plus_3'],x['tpd_plus_3'],x['frpd_plus_3'],x['ffpd_plus_3'],x['sxpd_plus_3']),axis=1)\n",
    "base['everDPD_15'] = base.apply(lambda x: max(x['fpd_plus_15'],x['spd_plus_15'],x['tpd_plus_15'],x['frpd_plus_15'],x['ffpd_plus_15'],x['sxpd_plus_15']),axis=1)\n",
    "base['everDPD_30'] = base.apply(lambda x: max(x['fpd_plus_30'],x['spd_plus_30'],x['tpd_plus_30'],x['frpd_plus_30'],x['ffpd_plus_30'],x['sxpd_plus_30']),axis=1)"
   ]
  },
  {
   "cell_type": "code",
   "execution_count": 11,
   "metadata": {},
   "outputs": [
    {
     "name": "stdout",
     "output_type": "stream",
     "text": [
      "total accounts = 2835\n",
      "everDPD_count = 928.0, everDPD% = 0.327336860670194\n",
      "everDPD_3_count = 589, everDPD_3% = 0.20776014109347443\n",
      "everDPD_15_count = 404, everDPD_15% = 0.14250440917107585\n",
      "everDPD_30_count = 315, everDPD_30% = 0.1111111111111111\n"
     ]
    }
   ],
   "source": [
    "print(\"total accounts = {}\".format(base.shape[0]))\n",
    "print(\"everDPD_count = {}, everDPD% = {}\".format(base['everDPD'].sum(),base['everDPD'].sum()/len(base)))\n",
    "print(\"everDPD_3_count = {}, everDPD_3% = {}\".format(base['everDPD_3'].sum(),base['everDPD_3'].sum()/len(base)))\n",
    "print(\"everDPD_15_count = {}, everDPD_15% = {}\".format(base['everDPD_15'].sum(),base['everDPD_15'].sum()/len(base)))\n",
    "print(\"everDPD_30_count = {}, everDPD_30% = {}\".format(base['everDPD_30'].sum(),base['everDPD_30'].sum()/len(base)))"
   ]
  },
  {
   "cell_type": "code",
   "execution_count": 13,
   "metadata": {},
   "outputs": [],
   "source": [
    "cols = ['lending_business_id','fpd','spd','tpd','frpd','ffpd','sxpd','sixth_cure_days','everDPD','everDPD_15']"
   ]
  },
  {
   "cell_type": "code",
   "execution_count": 14,
   "metadata": {},
   "outputs": [
    {
     "data": {
      "text/plain": [
       "(166, 10)"
      ]
     },
     "execution_count": 14,
     "metadata": {},
     "output_type": "execute_result"
    }
   ],
   "source": [
    "# Fully aged accounts (till 5th Jun'23)\n",
    "base.loc[~base['sxpd'].isnull(),cols].shape"
   ]
  },
  {
   "cell_type": "code",
   "execution_count": 15,
   "metadata": {},
   "outputs": [
    {
     "data": {
      "text/plain": [
       "(73, 10)"
      ]
     },
     "execution_count": 15,
     "metadata": {},
     "output_type": "execute_result"
    }
   ],
   "source": [
    "base.loc[base['sxpd']==1,cols].shape"
   ]
  },
  {
   "cell_type": "code",
   "execution_count": 16,
   "metadata": {},
   "outputs": [
    {
     "data": {
      "text/html": [
       "<div>\n",
       "<style scoped>\n",
       "    .dataframe tbody tr th:only-of-type {\n",
       "        vertical-align: middle;\n",
       "    }\n",
       "\n",
       "    .dataframe tbody tr th {\n",
       "        vertical-align: top;\n",
       "    }\n",
       "\n",
       "    .dataframe thead th {\n",
       "        text-align: right;\n",
       "    }\n",
       "</style>\n",
       "<table border=\"1\" class=\"dataframe\">\n",
       "  <thead>\n",
       "    <tr style=\"text-align: right;\">\n",
       "      <th></th>\n",
       "      <th>lending_business_id</th>\n",
       "      <th>business_id</th>\n",
       "      <th>first_duedate</th>\n",
       "      <th>first_cure_date</th>\n",
       "      <th>second_duedate</th>\n",
       "      <th>second_cure_date</th>\n",
       "      <th>third_duedate</th>\n",
       "      <th>third_cure_date</th>\n",
       "      <th>fourth_duedate</th>\n",
       "      <th>fourth_cure_date</th>\n",
       "      <th>...</th>\n",
       "      <th>sxpd_plus_15</th>\n",
       "      <th>fpd_plus_30</th>\n",
       "      <th>spd_plus_30</th>\n",
       "      <th>tpd_plus_30</th>\n",
       "      <th>frpd_plus_30</th>\n",
       "      <th>ffpd_plus_30</th>\n",
       "      <th>sxpd_plus_30</th>\n",
       "      <th>everDPD_3</th>\n",
       "      <th>everDPD_15</th>\n",
       "      <th>everDPD_30</th>\n",
       "    </tr>\n",
       "  </thead>\n",
       "  <tbody>\n",
       "    <tr>\n",
       "      <th>0</th>\n",
       "      <td>6b3e7079-6cc7-4103-8bb1-2c5c9455e888</td>\n",
       "      <td>34ef815c-eba6-4acb-a6f0-a5c9ece158e6</td>\n",
       "      <td>2023-06-05</td>\n",
       "      <td>2023-06-05</td>\n",
       "      <td>None</td>\n",
       "      <td>None</td>\n",
       "      <td>None</td>\n",
       "      <td>None</td>\n",
       "      <td>None</td>\n",
       "      <td>None</td>\n",
       "      <td>...</td>\n",
       "      <td>0</td>\n",
       "      <td>0</td>\n",
       "      <td>0</td>\n",
       "      <td>0</td>\n",
       "      <td>0</td>\n",
       "      <td>0</td>\n",
       "      <td>0</td>\n",
       "      <td>0</td>\n",
       "      <td>0</td>\n",
       "      <td>0</td>\n",
       "    </tr>\n",
       "    <tr>\n",
       "      <th>1</th>\n",
       "      <td>06296573-9834-4351-b450-c59f44e9741e</td>\n",
       "      <td>c4cec416-702f-4067-ba46-84088fbc0a5f</td>\n",
       "      <td>2023-06-05</td>\n",
       "      <td>None</td>\n",
       "      <td>None</td>\n",
       "      <td>None</td>\n",
       "      <td>None</td>\n",
       "      <td>None</td>\n",
       "      <td>None</td>\n",
       "      <td>None</td>\n",
       "      <td>...</td>\n",
       "      <td>0</td>\n",
       "      <td>0</td>\n",
       "      <td>0</td>\n",
       "      <td>0</td>\n",
       "      <td>0</td>\n",
       "      <td>0</td>\n",
       "      <td>0</td>\n",
       "      <td>0</td>\n",
       "      <td>0</td>\n",
       "      <td>0</td>\n",
       "    </tr>\n",
       "    <tr>\n",
       "      <th>2</th>\n",
       "      <td>c74679c1-92d2-43ac-8b73-3e3ed8b8000a</td>\n",
       "      <td>136032b3-d2f5-43ab-a9d2-33230517857f</td>\n",
       "      <td>2023-06-05</td>\n",
       "      <td>2023-06-05</td>\n",
       "      <td>None</td>\n",
       "      <td>None</td>\n",
       "      <td>None</td>\n",
       "      <td>None</td>\n",
       "      <td>None</td>\n",
       "      <td>None</td>\n",
       "      <td>...</td>\n",
       "      <td>0</td>\n",
       "      <td>0</td>\n",
       "      <td>0</td>\n",
       "      <td>0</td>\n",
       "      <td>0</td>\n",
       "      <td>0</td>\n",
       "      <td>0</td>\n",
       "      <td>0</td>\n",
       "      <td>0</td>\n",
       "      <td>0</td>\n",
       "    </tr>\n",
       "    <tr>\n",
       "      <th>3</th>\n",
       "      <td>028fa7c5-b2f8-45a2-a738-b670de867b94</td>\n",
       "      <td>32947d50-65c5-448a-9bf1-867ab1a3e52f</td>\n",
       "      <td>2023-06-05</td>\n",
       "      <td>2023-06-05</td>\n",
       "      <td>None</td>\n",
       "      <td>None</td>\n",
       "      <td>None</td>\n",
       "      <td>None</td>\n",
       "      <td>None</td>\n",
       "      <td>None</td>\n",
       "      <td>...</td>\n",
       "      <td>0</td>\n",
       "      <td>0</td>\n",
       "      <td>0</td>\n",
       "      <td>0</td>\n",
       "      <td>0</td>\n",
       "      <td>0</td>\n",
       "      <td>0</td>\n",
       "      <td>0</td>\n",
       "      <td>0</td>\n",
       "      <td>0</td>\n",
       "    </tr>\n",
       "    <tr>\n",
       "      <th>4</th>\n",
       "      <td>6e7c058d-8863-4c6c-8547-b3bfa0a022ef</td>\n",
       "      <td>198af8d7-fcf0-4636-800b-2b49cdbfbb2d</td>\n",
       "      <td>2023-06-05</td>\n",
       "      <td>None</td>\n",
       "      <td>None</td>\n",
       "      <td>None</td>\n",
       "      <td>None</td>\n",
       "      <td>None</td>\n",
       "      <td>None</td>\n",
       "      <td>None</td>\n",
       "      <td>...</td>\n",
       "      <td>0</td>\n",
       "      <td>0</td>\n",
       "      <td>0</td>\n",
       "      <td>0</td>\n",
       "      <td>0</td>\n",
       "      <td>0</td>\n",
       "      <td>0</td>\n",
       "      <td>0</td>\n",
       "      <td>0</td>\n",
       "      <td>0</td>\n",
       "    </tr>\n",
       "  </tbody>\n",
       "</table>\n",
       "<p>5 rows × 64 columns</p>\n",
       "</div>"
      ],
      "text/plain": [
       "                    lending_business_id                           business_id  \\\n",
       "0  6b3e7079-6cc7-4103-8bb1-2c5c9455e888  34ef815c-eba6-4acb-a6f0-a5c9ece158e6   \n",
       "1  06296573-9834-4351-b450-c59f44e9741e  c4cec416-702f-4067-ba46-84088fbc0a5f   \n",
       "2  c74679c1-92d2-43ac-8b73-3e3ed8b8000a  136032b3-d2f5-43ab-a9d2-33230517857f   \n",
       "3  028fa7c5-b2f8-45a2-a738-b670de867b94  32947d50-65c5-448a-9bf1-867ab1a3e52f   \n",
       "4  6e7c058d-8863-4c6c-8547-b3bfa0a022ef  198af8d7-fcf0-4636-800b-2b49cdbfbb2d   \n",
       "\n",
       "  first_duedate first_cure_date second_duedate second_cure_date third_duedate  \\\n",
       "0    2023-06-05      2023-06-05           None             None          None   \n",
       "1    2023-06-05            None           None             None          None   \n",
       "2    2023-06-05      2023-06-05           None             None          None   \n",
       "3    2023-06-05      2023-06-05           None             None          None   \n",
       "4    2023-06-05            None           None             None          None   \n",
       "\n",
       "  third_cure_date fourth_duedate fourth_cure_date  ... sxpd_plus_15  \\\n",
       "0            None           None             None  ...            0   \n",
       "1            None           None             None  ...            0   \n",
       "2            None           None             None  ...            0   \n",
       "3            None           None             None  ...            0   \n",
       "4            None           None             None  ...            0   \n",
       "\n",
       "  fpd_plus_30 spd_plus_30 tpd_plus_30  frpd_plus_30  ffpd_plus_30  \\\n",
       "0           0           0           0             0             0   \n",
       "1           0           0           0             0             0   \n",
       "2           0           0           0             0             0   \n",
       "3           0           0           0             0             0   \n",
       "4           0           0           0             0             0   \n",
       "\n",
       "   sxpd_plus_30  everDPD_3  everDPD_15  everDPD_30  \n",
       "0             0          0           0           0  \n",
       "1             0          0           0           0  \n",
       "2             0          0           0           0  \n",
       "3             0          0           0           0  \n",
       "4             0          0           0           0  \n",
       "\n",
       "[5 rows x 64 columns]"
      ]
     },
     "execution_count": 16,
     "metadata": {},
     "output_type": "execute_result"
    }
   ],
   "source": [
    "base.head()"
   ]
  },
  {
   "cell_type": "code",
   "execution_count": 17,
   "metadata": {},
   "outputs": [],
   "source": [
    "querySno = SQLQuery('snowflake')\n",
    "fico = querySno(r\"\"\" \n",
    "select a.lending_business_id, \n",
    "case when json_extract_path_text(predict_meta,'business_id') is null\n",
    "     then json_extract_path_text(json_extract_path_text(predict_meta,'data') , 'business_id')\n",
    "     else json_extract_path_text(predict_meta,'business_id') end as business_id,\n",
    "b.fico_score\n",
    "from FIVETRAN_DB.PROD_NOVO_API_PUBLIC.LENDING_DECISION_RESULTS a\n",
    "left join \"FIVETRAN_DB\".\"PROD_NOVO_API_PUBLIC\".\"CUSTOMER_CREDIT_PROFILES\" b\n",
    "on a.LENDING_BUSINESS_ID = b.LENDING_BUSINESS_ID\n",
    "and fico_score is not null\n",
    "and fico_score != ''\n",
    "and date(b.created_at) <= date(a.created_at)\n",
    "where json_extract_path_text(a.rejection_reasons, 'data') = '[]'\n",
    "or a.is_overridden = 'TRUE'\n",
    "\"\"\")"
   ]
  },
  {
   "cell_type": "code",
   "execution_count": 18,
   "metadata": {},
   "outputs": [
    {
     "data": {
      "text/plain": [
       "(5783, 3)"
      ]
     },
     "execution_count": 18,
     "metadata": {},
     "output_type": "execute_result"
    }
   ],
   "source": [
    "fico.shape"
   ]
  },
  {
   "cell_type": "code",
   "execution_count": 19,
   "metadata": {},
   "outputs": [],
   "source": [
    "target = base[['lending_business_id','business_id','everDPD_15']]"
   ]
  },
  {
   "cell_type": "code",
   "execution_count": 20,
   "metadata": {},
   "outputs": [],
   "source": [
    "querySno = SQLQuery('snowflake')\n",
    "lending_base = querySno(r\"\"\" \n",
    "with approved as (\n",
    "select distinct a.lending_business_id, \n",
    "case when json_extract_path_text(predict_meta,'business_id') is null\n",
    "     then json_extract_path_text(json_extract_path_text(predict_meta,'data') , 'business_id')\n",
    "     else json_extract_path_text(predict_meta,'business_id') end as business_id,\n",
    "a.created_at,\n",
    "case when b.lending_business_id is not null then 1 else 0 end as drawn_flag\n",
    "from FIVETRAN_DB.PROD_NOVO_API_PUBLIC.LENDING_DECISION_RESULTS a\n",
    "left join \"FIVETRAN_DB\".\"PROD_NOVO_API_PUBLIC\".\"LENDING_PAYMENT_SCHEDULES\" b \n",
    "on a.lending_business_id = b.lending_business_id\n",
    "where json_extract_path_text(rejection_reasons, 'data') = '[]'\n",
    "or is_overridden = 'TRUE'\n",
    ")\n",
    "\n",
    "-- select count(distinct business_id) from (\n",
    "select a.*\n",
    "from approved a \n",
    "join (select distinct business_id from prod_db.adhoc.lending_response_base_w_plaid_match_v2_20230623) b \n",
    "on a.business_id = b.business_id \n",
    "and a.created_at >= date('2022-11-29') and a.created_at <= date('2023-06-05')\n",
    "-- )\n",
    "\"\"\")"
   ]
  },
  {
   "cell_type": "code",
   "execution_count": 21,
   "metadata": {},
   "outputs": [
    {
     "data": {
      "text/plain": [
       "(888, 4)"
      ]
     },
     "execution_count": 21,
     "metadata": {},
     "output_type": "execute_result"
    }
   ],
   "source": [
    "lending_base.shape"
   ]
  },
  {
   "cell_type": "code",
   "execution_count": 22,
   "metadata": {},
   "outputs": [
    {
     "data": {
      "text/html": [
       "<div>\n",
       "<style scoped>\n",
       "    .dataframe tbody tr th:only-of-type {\n",
       "        vertical-align: middle;\n",
       "    }\n",
       "\n",
       "    .dataframe tbody tr th {\n",
       "        vertical-align: top;\n",
       "    }\n",
       "\n",
       "    .dataframe thead th {\n",
       "        text-align: right;\n",
       "    }\n",
       "</style>\n",
       "<table border=\"1\" class=\"dataframe\">\n",
       "  <thead>\n",
       "    <tr style=\"text-align: right;\">\n",
       "      <th></th>\n",
       "      <th>lending_business_id</th>\n",
       "      <th>business_id</th>\n",
       "      <th>created_at</th>\n",
       "      <th>drawn_flag</th>\n",
       "    </tr>\n",
       "  </thead>\n",
       "  <tbody>\n",
       "    <tr>\n",
       "      <th>0</th>\n",
       "      <td>5249377a-500b-42a7-af3e-109b648c928d</td>\n",
       "      <td>b14a4191-4139-446d-aa66-b071e4eb8ccb</td>\n",
       "      <td>2023-03-24 17:29:54.080531+00:00</td>\n",
       "      <td>1</td>\n",
       "    </tr>\n",
       "    <tr>\n",
       "      <th>1</th>\n",
       "      <td>fe14006a-6546-43a3-a1a6-88c4993f8f3f</td>\n",
       "      <td>416d0695-5f0f-4d37-88d8-53ecad0b1f5f</td>\n",
       "      <td>2023-04-25 23:30:57.040311+00:00</td>\n",
       "      <td>1</td>\n",
       "    </tr>\n",
       "    <tr>\n",
       "      <th>2</th>\n",
       "      <td>a30ca216-71ee-4822-b543-d9e09532ad99</td>\n",
       "      <td>8a67470b-ba91-498a-b0b0-522902a6f714</td>\n",
       "      <td>2023-01-20 00:29:07.578576+00:00</td>\n",
       "      <td>1</td>\n",
       "    </tr>\n",
       "    <tr>\n",
       "      <th>3</th>\n",
       "      <td>24bb963f-d3a9-4159-b893-5912efe3e9a4</td>\n",
       "      <td>dd7f8b41-4ff5-4011-88ea-e244561bd9d3</td>\n",
       "      <td>2022-11-30 17:22:03.691987+00:00</td>\n",
       "      <td>0</td>\n",
       "    </tr>\n",
       "    <tr>\n",
       "      <th>4</th>\n",
       "      <td>50966993-54ee-446b-bbcf-c957c82354f2</td>\n",
       "      <td>da9818c4-8f95-417c-ab19-f60669832897</td>\n",
       "      <td>2023-04-20 21:56:17.863761+00:00</td>\n",
       "      <td>0</td>\n",
       "    </tr>\n",
       "  </tbody>\n",
       "</table>\n",
       "</div>"
      ],
      "text/plain": [
       "                    lending_business_id                           business_id  \\\n",
       "0  5249377a-500b-42a7-af3e-109b648c928d  b14a4191-4139-446d-aa66-b071e4eb8ccb   \n",
       "1  fe14006a-6546-43a3-a1a6-88c4993f8f3f  416d0695-5f0f-4d37-88d8-53ecad0b1f5f   \n",
       "2  a30ca216-71ee-4822-b543-d9e09532ad99  8a67470b-ba91-498a-b0b0-522902a6f714   \n",
       "3  24bb963f-d3a9-4159-b893-5912efe3e9a4  dd7f8b41-4ff5-4011-88ea-e244561bd9d3   \n",
       "4  50966993-54ee-446b-bbcf-c957c82354f2  da9818c4-8f95-417c-ab19-f60669832897   \n",
       "\n",
       "                        created_at  drawn_flag  \n",
       "0 2023-03-24 17:29:54.080531+00:00           1  \n",
       "1 2023-04-25 23:30:57.040311+00:00           1  \n",
       "2 2023-01-20 00:29:07.578576+00:00           1  \n",
       "3 2022-11-30 17:22:03.691987+00:00           0  \n",
       "4 2023-04-20 21:56:17.863761+00:00           0  "
      ]
     },
     "execution_count": 22,
     "metadata": {},
     "output_type": "execute_result"
    }
   ],
   "source": [
    "lending_base.head()"
   ]
  },
  {
   "cell_type": "code",
   "execution_count": 23,
   "metadata": {},
   "outputs": [
    {
     "data": {
      "text/plain": [
       "(888, 5)"
      ]
     },
     "execution_count": 23,
     "metadata": {},
     "output_type": "execute_result"
    }
   ],
   "source": [
    "df1 = lending_base.merge(target,how='left',left_on=['lending_business_id','business_id'],right_on=['lending_business_id','business_id'])\n",
    "df1.shape"
   ]
  },
  {
   "cell_type": "code",
   "execution_count": 24,
   "metadata": {},
   "outputs": [
    {
     "data": {
      "text/html": [
       "<div>\n",
       "<style scoped>\n",
       "    .dataframe tbody tr th:only-of-type {\n",
       "        vertical-align: middle;\n",
       "    }\n",
       "\n",
       "    .dataframe tbody tr th {\n",
       "        vertical-align: top;\n",
       "    }\n",
       "\n",
       "    .dataframe thead th {\n",
       "        text-align: right;\n",
       "    }\n",
       "</style>\n",
       "<table border=\"1\" class=\"dataframe\">\n",
       "  <thead>\n",
       "    <tr style=\"text-align: right;\">\n",
       "      <th></th>\n",
       "      <th>lending_business_id</th>\n",
       "      <th>business_id</th>\n",
       "      <th>created_at</th>\n",
       "      <th>drawn_flag</th>\n",
       "      <th>everDPD_15</th>\n",
       "    </tr>\n",
       "  </thead>\n",
       "  <tbody>\n",
       "    <tr>\n",
       "      <th>0</th>\n",
       "      <td>5249377a-500b-42a7-af3e-109b648c928d</td>\n",
       "      <td>b14a4191-4139-446d-aa66-b071e4eb8ccb</td>\n",
       "      <td>2023-03-24 17:29:54.080531+00:00</td>\n",
       "      <td>1</td>\n",
       "      <td>NaN</td>\n",
       "    </tr>\n",
       "    <tr>\n",
       "      <th>1</th>\n",
       "      <td>fe14006a-6546-43a3-a1a6-88c4993f8f3f</td>\n",
       "      <td>416d0695-5f0f-4d37-88d8-53ecad0b1f5f</td>\n",
       "      <td>2023-04-25 23:30:57.040311+00:00</td>\n",
       "      <td>1</td>\n",
       "      <td>0.0</td>\n",
       "    </tr>\n",
       "    <tr>\n",
       "      <th>2</th>\n",
       "      <td>a30ca216-71ee-4822-b543-d9e09532ad99</td>\n",
       "      <td>8a67470b-ba91-498a-b0b0-522902a6f714</td>\n",
       "      <td>2023-01-20 00:29:07.578576+00:00</td>\n",
       "      <td>1</td>\n",
       "      <td>0.0</td>\n",
       "    </tr>\n",
       "    <tr>\n",
       "      <th>3</th>\n",
       "      <td>24bb963f-d3a9-4159-b893-5912efe3e9a4</td>\n",
       "      <td>dd7f8b41-4ff5-4011-88ea-e244561bd9d3</td>\n",
       "      <td>2022-11-30 17:22:03.691987+00:00</td>\n",
       "      <td>0</td>\n",
       "      <td>NaN</td>\n",
       "    </tr>\n",
       "    <tr>\n",
       "      <th>4</th>\n",
       "      <td>50966993-54ee-446b-bbcf-c957c82354f2</td>\n",
       "      <td>da9818c4-8f95-417c-ab19-f60669832897</td>\n",
       "      <td>2023-04-20 21:56:17.863761+00:00</td>\n",
       "      <td>0</td>\n",
       "      <td>NaN</td>\n",
       "    </tr>\n",
       "  </tbody>\n",
       "</table>\n",
       "</div>"
      ],
      "text/plain": [
       "                    lending_business_id                           business_id  \\\n",
       "0  5249377a-500b-42a7-af3e-109b648c928d  b14a4191-4139-446d-aa66-b071e4eb8ccb   \n",
       "1  fe14006a-6546-43a3-a1a6-88c4993f8f3f  416d0695-5f0f-4d37-88d8-53ecad0b1f5f   \n",
       "2  a30ca216-71ee-4822-b543-d9e09532ad99  8a67470b-ba91-498a-b0b0-522902a6f714   \n",
       "3  24bb963f-d3a9-4159-b893-5912efe3e9a4  dd7f8b41-4ff5-4011-88ea-e244561bd9d3   \n",
       "4  50966993-54ee-446b-bbcf-c957c82354f2  da9818c4-8f95-417c-ab19-f60669832897   \n",
       "\n",
       "                        created_at  drawn_flag  everDPD_15  \n",
       "0 2023-03-24 17:29:54.080531+00:00           1         NaN  \n",
       "1 2023-04-25 23:30:57.040311+00:00           1         0.0  \n",
       "2 2023-01-20 00:29:07.578576+00:00           1         0.0  \n",
       "3 2022-11-30 17:22:03.691987+00:00           0         NaN  \n",
       "4 2023-04-20 21:56:17.863761+00:00           0         NaN  "
      ]
     },
     "execution_count": 24,
     "metadata": {},
     "output_type": "execute_result"
    }
   ],
   "source": [
    "df1.head()"
   ]
  },
  {
   "cell_type": "code",
   "execution_count": 25,
   "metadata": {},
   "outputs": [
    {
     "data": {
      "text/plain": [
       "(95, 5)"
      ]
     },
     "execution_count": 25,
     "metadata": {},
     "output_type": "execute_result"
    }
   ],
   "source": [
    "# drawn but not aged\n",
    "df1[(df1['drawn_flag']==1) & (df1['everDPD_15'].isnull())].shape"
   ]
  },
  {
   "cell_type": "code",
   "execution_count": 26,
   "metadata": {},
   "outputs": [
    {
     "data": {
      "text/plain": [
       "(888, 6)"
      ]
     },
     "execution_count": 26,
     "metadata": {},
     "output_type": "execute_result"
    }
   ],
   "source": [
    "df = df1.merge(fico,left_on=['lending_business_id','business_id'],right_on=['lending_business_id','business_id'])\n",
    "df.shape"
   ]
  },
  {
   "cell_type": "code",
   "execution_count": 27,
   "metadata": {},
   "outputs": [],
   "source": [
    "df['dpd_flag'] = 0\n",
    "df.loc[~(df['everDPD_15'].isnull()),'dpd_flag'] = 1"
   ]
  },
  {
   "cell_type": "code",
   "execution_count": 28,
   "metadata": {},
   "outputs": [
    {
     "data": {
      "text/plain": [
       "483"
      ]
     },
     "execution_count": 28,
     "metadata": {},
     "output_type": "execute_result"
    }
   ],
   "source": [
    "df['dpd_flag'].sum()"
   ]
  },
  {
   "cell_type": "code",
   "execution_count": 29,
   "metadata": {},
   "outputs": [],
   "source": [
    "df['fico_score'] = df['fico_score'].astype('int')"
   ]
  },
  {
   "cell_type": "code",
   "execution_count": 30,
   "metadata": {},
   "outputs": [],
   "source": [
    "df['fico_flag'] = 0\n",
    "df.loc[((df['fico_score']>600) & (df['fico_score']<=630)) | ((df['fico_score']>=720) & (df['fico_score']<=850)),'fico_flag'] = 1"
   ]
  },
  {
   "cell_type": "code",
   "execution_count": 32,
   "metadata": {},
   "outputs": [
    {
     "name": "stdout",
     "output_type": "stream",
     "text": [
      "(888, 8)\n",
      "578\n",
      "483\n",
      "71.0\n"
     ]
    }
   ],
   "source": [
    "print(df.shape)\n",
    "print(df['drawn_flag'].sum())\n",
    "print(df['dpd_flag'].sum())\n",
    "print(df['everDPD_15'].sum())"
   ]
  },
  {
   "cell_type": "code",
   "execution_count": 34,
   "metadata": {},
   "outputs": [
    {
     "data": {
      "text/plain": [
       "(708, 8)"
      ]
     },
     "execution_count": 34,
     "metadata": {},
     "output_type": "execute_result"
    }
   ],
   "source": [
    "df_final = df[(df['dpd_flag']==1) | ((df['dpd_flag']==0) & (df['fico_flag']==1))]\n",
    "df_final.shape"
   ]
  },
  {
   "cell_type": "code",
   "execution_count": 35,
   "metadata": {},
   "outputs": [
    {
     "name": "stderr",
     "output_type": "stream",
     "text": [
      "/var/folders/v3/dy2p0xqd3mz5bvjtls49l7t80000gn/T/ipykernel_11873/1725682920.py:1: SettingWithCopyWarning: \n",
      "A value is trying to be set on a copy of a slice from a DataFrame.\n",
      "Try using .loc[row_indexer,col_indexer] = value instead\n",
      "\n",
      "See the caveats in the documentation: https://pandas.pydata.org/pandas-docs/stable/user_guide/indexing.html#returning-a-view-versus-a-copy\n",
      "  df_final['target'] = 0\n"
     ]
    }
   ],
   "source": [
    "df_final['target'] = 0\n",
    "df_final.loc[df['dpd_flag']==1, 'target'] = df_final['everDPD_15']\n",
    "df_final.loc[(df['fico_flag']==1) & (df['fico_score']<630), 'target'] = 1"
   ]
  },
  {
   "cell_type": "code",
   "execution_count": 41,
   "metadata": {},
   "outputs": [
    {
     "data": {
      "text/html": [
       "<div>\n",
       "<style scoped>\n",
       "    .dataframe tbody tr th:only-of-type {\n",
       "        vertical-align: middle;\n",
       "    }\n",
       "\n",
       "    .dataframe tbody tr th {\n",
       "        vertical-align: top;\n",
       "    }\n",
       "\n",
       "    .dataframe thead th {\n",
       "        text-align: right;\n",
       "    }\n",
       "</style>\n",
       "<table border=\"1\" class=\"dataframe\">\n",
       "  <thead>\n",
       "    <tr style=\"text-align: right;\">\n",
       "      <th></th>\n",
       "      <th>lending_business_id</th>\n",
       "      <th>business_id</th>\n",
       "      <th>created_at</th>\n",
       "      <th>drawn_flag</th>\n",
       "      <th>everDPD_15</th>\n",
       "      <th>fico_score</th>\n",
       "      <th>target</th>\n",
       "    </tr>\n",
       "  </thead>\n",
       "  <tbody>\n",
       "    <tr>\n",
       "      <th>873</th>\n",
       "      <td>8cf26f6c-7a8d-4951-aed6-7cf229ce1cbe</td>\n",
       "      <td>6c40cce7-434d-4f06-8823-dde976f76452</td>\n",
       "      <td>2023-01-26 20:02:12.811738+00:00</td>\n",
       "      <td>1</td>\n",
       "      <td>1.0</td>\n",
       "      <td>678</td>\n",
       "      <td>1</td>\n",
       "    </tr>\n",
       "    <tr>\n",
       "      <th>667</th>\n",
       "      <td>6274f443-4d48-4632-b2b4-e58b89a0834a</td>\n",
       "      <td>bcc783a4-1a0c-4721-a442-e5178793ff1d</td>\n",
       "      <td>2022-11-30 18:56:24.616727+00:00</td>\n",
       "      <td>1</td>\n",
       "      <td>0.0</td>\n",
       "      <td>710</td>\n",
       "      <td>0</td>\n",
       "    </tr>\n",
       "    <tr>\n",
       "      <th>559</th>\n",
       "      <td>0ce6fb49-fd77-4cbb-a7b1-ea941581c3f4</td>\n",
       "      <td>a99e8bf4-2ebc-498f-87d0-c0f7269bc57b</td>\n",
       "      <td>2023-01-13 20:28:30.627066+00:00</td>\n",
       "      <td>1</td>\n",
       "      <td>0.0</td>\n",
       "      <td>683</td>\n",
       "      <td>0</td>\n",
       "    </tr>\n",
       "    <tr>\n",
       "      <th>217</th>\n",
       "      <td>1a5874a8-5ad9-4340-aa50-6f63a3dec957</td>\n",
       "      <td>59a345a5-ca8d-4998-81e2-ae85a74fba93</td>\n",
       "      <td>2023-02-23 12:36:36.746526+00:00</td>\n",
       "      <td>1</td>\n",
       "      <td>0.0</td>\n",
       "      <td>638</td>\n",
       "      <td>0</td>\n",
       "    </tr>\n",
       "    <tr>\n",
       "      <th>543</th>\n",
       "      <td>b854768e-1903-41e9-ad66-aae065da2773</td>\n",
       "      <td>e62ca860-e7a0-4779-8815-3bfc7e45bc47</td>\n",
       "      <td>2023-05-16 12:45:34.262026+00:00</td>\n",
       "      <td>1</td>\n",
       "      <td>NaN</td>\n",
       "      <td>749</td>\n",
       "      <td>0</td>\n",
       "    </tr>\n",
       "    <tr>\n",
       "      <th>860</th>\n",
       "      <td>f75cf355-84a2-48cc-b553-3fffff1e5fa7</td>\n",
       "      <td>32316aeb-3981-47bf-8a85-4d9d22365119</td>\n",
       "      <td>2022-12-06 16:43:14.693514+00:00</td>\n",
       "      <td>1</td>\n",
       "      <td>0.0</td>\n",
       "      <td>608</td>\n",
       "      <td>1</td>\n",
       "    </tr>\n",
       "    <tr>\n",
       "      <th>582</th>\n",
       "      <td>a97237da-ec1d-47c5-a1d0-31a485f903aa</td>\n",
       "      <td>69b1a76e-be39-44f5-bcde-fb710b6f1556</td>\n",
       "      <td>2023-03-09 11:25:09.557277+00:00</td>\n",
       "      <td>1</td>\n",
       "      <td>1.0</td>\n",
       "      <td>621</td>\n",
       "      <td>1</td>\n",
       "    </tr>\n",
       "    <tr>\n",
       "      <th>746</th>\n",
       "      <td>cc3e99c0-3afd-4a22-93b3-52f4c6a32cc1</td>\n",
       "      <td>f17a0a0f-bb50-4621-be8d-6e5bf6498baa</td>\n",
       "      <td>2023-03-16 14:41:25.773311+00:00</td>\n",
       "      <td>0</td>\n",
       "      <td>NaN</td>\n",
       "      <td>787</td>\n",
       "      <td>0</td>\n",
       "    </tr>\n",
       "    <tr>\n",
       "      <th>557</th>\n",
       "      <td>b37efc29-85e6-4e83-a214-35d14af3ad56</td>\n",
       "      <td>08271739-f0d2-4849-ac41-ebb1743ab013</td>\n",
       "      <td>2023-03-08 00:29:04.337316+00:00</td>\n",
       "      <td>0</td>\n",
       "      <td>NaN</td>\n",
       "      <td>850</td>\n",
       "      <td>0</td>\n",
       "    </tr>\n",
       "    <tr>\n",
       "      <th>361</th>\n",
       "      <td>7e430af9-c856-437b-b988-dd67dc0a0488</td>\n",
       "      <td>fdd42381-93e9-45aa-a894-54b77a88e968</td>\n",
       "      <td>2023-06-03 16:29:44.381574+00:00</td>\n",
       "      <td>0</td>\n",
       "      <td>NaN</td>\n",
       "      <td>610</td>\n",
       "      <td>1</td>\n",
       "    </tr>\n",
       "  </tbody>\n",
       "</table>\n",
       "</div>"
      ],
      "text/plain": [
       "                      lending_business_id  \\\n",
       "873  8cf26f6c-7a8d-4951-aed6-7cf229ce1cbe   \n",
       "667  6274f443-4d48-4632-b2b4-e58b89a0834a   \n",
       "559  0ce6fb49-fd77-4cbb-a7b1-ea941581c3f4   \n",
       "217  1a5874a8-5ad9-4340-aa50-6f63a3dec957   \n",
       "543  b854768e-1903-41e9-ad66-aae065da2773   \n",
       "860  f75cf355-84a2-48cc-b553-3fffff1e5fa7   \n",
       "582  a97237da-ec1d-47c5-a1d0-31a485f903aa   \n",
       "746  cc3e99c0-3afd-4a22-93b3-52f4c6a32cc1   \n",
       "557  b37efc29-85e6-4e83-a214-35d14af3ad56   \n",
       "361  7e430af9-c856-437b-b988-dd67dc0a0488   \n",
       "\n",
       "                              business_id                       created_at  \\\n",
       "873  6c40cce7-434d-4f06-8823-dde976f76452 2023-01-26 20:02:12.811738+00:00   \n",
       "667  bcc783a4-1a0c-4721-a442-e5178793ff1d 2022-11-30 18:56:24.616727+00:00   \n",
       "559  a99e8bf4-2ebc-498f-87d0-c0f7269bc57b 2023-01-13 20:28:30.627066+00:00   \n",
       "217  59a345a5-ca8d-4998-81e2-ae85a74fba93 2023-02-23 12:36:36.746526+00:00   \n",
       "543  e62ca860-e7a0-4779-8815-3bfc7e45bc47 2023-05-16 12:45:34.262026+00:00   \n",
       "860  32316aeb-3981-47bf-8a85-4d9d22365119 2022-12-06 16:43:14.693514+00:00   \n",
       "582  69b1a76e-be39-44f5-bcde-fb710b6f1556 2023-03-09 11:25:09.557277+00:00   \n",
       "746  f17a0a0f-bb50-4621-be8d-6e5bf6498baa 2023-03-16 14:41:25.773311+00:00   \n",
       "557  08271739-f0d2-4849-ac41-ebb1743ab013 2023-03-08 00:29:04.337316+00:00   \n",
       "361  fdd42381-93e9-45aa-a894-54b77a88e968 2023-06-03 16:29:44.381574+00:00   \n",
       "\n",
       "     drawn_flag  everDPD_15  fico_score  target  \n",
       "873           1         1.0         678       1  \n",
       "667           1         0.0         710       0  \n",
       "559           1         0.0         683       0  \n",
       "217           1         0.0         638       0  \n",
       "543           1         NaN         749       0  \n",
       "860           1         0.0         608       1  \n",
       "582           1         1.0         621       1  \n",
       "746           0         NaN         787       0  \n",
       "557           0         NaN         850       0  \n",
       "361           0         NaN         610       1  "
      ]
     },
     "execution_count": 41,
     "metadata": {},
     "output_type": "execute_result"
    }
   ],
   "source": [
    "df_final.sample(10)"
   ]
  },
  {
   "cell_type": "code",
   "execution_count": 39,
   "metadata": {},
   "outputs": [
    {
     "name": "stdout",
     "output_type": "stream",
     "text": [
      "df length = 708\n",
      "target rate = 0.2033898305084746\n"
     ]
    }
   ],
   "source": [
    "print('df length = {}'.format(len(df_final)))\n",
    "print('target rate = {}'.format(df_final['target'].sum()/len(df_final)))"
   ]
  },
  {
   "cell_type": "code",
   "execution_count": 40,
   "metadata": {},
   "outputs": [],
   "source": [
    "df_final = df_final.drop(['dpd_flag','fico_flag'],axis=1)"
   ]
  },
  {
   "cell_type": "code",
   "execution_count": 43,
   "metadata": {},
   "outputs": [],
   "source": [
    "# from sqlalchemy.types import NVARCHAR\n",
    "# q = SQLQuery('snowflake')\n",
    "\n",
    "# df_final.to_sql(name='lending_base_target_23jun',\n",
    "#                  con=q.engine, \n",
    "#                  schema='prod_db.adhoc',\n",
    "#                  if_exists='append', \n",
    "#                  index=False, \n",
    "#                  chunksize=16000, \n",
    "#                  method='multi',\n",
    "#                  dtype={col_name: NVARCHAR for col_name in df_final})"
   ]
  }
 ],
 "metadata": {
  "kernelspec": {
   "display_name": "Python 3.10.5 64-bit",
   "language": "python",
   "name": "python3"
  },
  "language_info": {
   "codemirror_mode": {
    "name": "ipython",
    "version": 3
   },
   "file_extension": ".py",
   "mimetype": "text/x-python",
   "name": "python",
   "nbconvert_exporter": "python",
   "pygments_lexer": "ipython3",
   "version": "3.10.5"
  },
  "orig_nbformat": 4,
  "vscode": {
   "interpreter": {
    "hash": "aee8b7b246df8f9039afb4144a1f6fd8d2ca17a180786b69acc140d282b71a49"
   }
  }
 },
 "nbformat": 4,
 "nbformat_minor": 2
}
