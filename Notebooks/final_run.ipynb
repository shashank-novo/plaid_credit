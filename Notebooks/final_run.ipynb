{
 "cells": [
  {
   "cell_type": "code",
   "execution_count": 1,
   "metadata": {},
   "outputs": [
    {
     "name": "stdout",
     "output_type": "stream",
     "text": [
      "/Users/shashankgupta/Documents/code/git_project/plaid_credit\n",
      "/Users/shashankgupta/Documents/code/git_project/plaid_credit/Code\n"
     ]
    }
   ],
   "source": [
    "import os \n",
    "cwd = os.getcwd()\n",
    "\n",
    "os.chdir('../')\n",
    "cwd = os.getcwd()\n",
    "print(cwd)\n",
    "\n",
    "os.chdir('./code/')\n",
    "cwd = os.getcwd()\n",
    "print(cwd)\n",
    "\n",
    "import pandas as pd \n",
    "import numpy as np \n",
    "import seaborn as sns\n",
    "from sklearn.metrics import  roc_auc_score\n",
    "\n",
    "import pickle \n",
    "import logging\n",
    "\n",
    "\n",
    "# from config.config import SQLQuery\n",
    "# querySno = SQLQuery('snowflake')"
   ]
  },
  {
   "cell_type": "code",
   "execution_count": 2,
   "metadata": {},
   "outputs": [],
   "source": [
    "from preprocess import Convert,MissingValues,Outlier,FeatureSelection\n",
    "from feature_transformation import Scaler,Transform,Selection\n",
    "from model_building import split_test_train, feature_encoding, classification_models\n",
    "from model_evaluations import model_metrics, feature_importance, probability_bins, cross_validation\n",
    "from sklearn.preprocessing import StandardScaler, MinMaxScaler, RobustScaler, Normalizer\n",
    "\n",
    "from statsmodels.stats.outliers_influence import variance_inflation_factor\n",
    "\n",
    "# object initiation \n",
    "tf = Transform()\n",
    "sel = Selection()\n",
    "ft = FeatureSelection()\n",
    "cv = Convert()\n",
    "mv = MissingValues()\n",
    "ot = Outlier()\n",
    "\n",
    "# set seed\n",
    "seed = 37"
   ]
  },
  {
   "cell_type": "code",
   "execution_count": 3,
   "metadata": {},
   "outputs": [],
   "source": [
    "corr_arr = 0.4 # person correlation coefficient # change it to 0.5\n",
    "vif_arr = 5 # vif coefficient\n",
    "features_arr = 10 # total number of features to be selected from backward feature selection\n",
    "iv_upper_limit = 0.5 # upper threshold of iv # change it to 0.6\n",
    "iv_lower_limit = 0.02 # lower threshold of iv"
   ]
  },
  {
   "cell_type": "code",
   "execution_count": 4,
   "metadata": {},
   "outputs": [
    {
     "data": {
      "text/plain": [
       "(646, 255)"
      ]
     },
     "execution_count": 4,
     "metadata": {},
     "output_type": "execute_result"
    }
   ],
   "source": [
    "df_raw = pd.read_pickle('/Users/shashankgupta/Documents/code/git_project/plaid_credit/data/final_dataset_2.pkl')\n",
    "df_raw.shape"
   ]
  },
  {
   "cell_type": "code",
   "execution_count": 5,
   "metadata": {},
   "outputs": [
    {
     "data": {
      "text/plain": [
       "txn_flag\n",
       "1.0    637\n",
       "0.0      9\n",
       "Name: count, dtype: int64"
      ]
     },
     "execution_count": 5,
     "metadata": {},
     "output_type": "execute_result"
    }
   ],
   "source": [
    "df_raw['txn_flag'].value_counts()"
   ]
  },
  {
   "cell_type": "code",
   "execution_count": 6,
   "metadata": {},
   "outputs": [
    {
     "data": {
      "text/plain": [
       "(637, 255)"
      ]
     },
     "execution_count": 6,
     "metadata": {},
     "output_type": "execute_result"
    }
   ],
   "source": [
    "df_raw = df_raw[df_raw['txn_flag']==1]\n",
    "df_raw.shape"
   ]
  },
  {
   "cell_type": "code",
   "execution_count": 7,
   "metadata": {},
   "outputs": [
    {
     "data": {
      "text/plain": [
       "(637, 248)"
      ]
     },
     "execution_count": 7,
     "metadata": {},
     "output_type": "execute_result"
    }
   ],
   "source": [
    "df_raw = df_raw.drop(['business_id', 'lending_business_id','decision_date','drawn_flag', 'everDPD_15', 'fico_score','txn_flag'], axis=1)\n",
    "df_raw.shape"
   ]
  },
  {
   "cell_type": "code",
   "execution_count": 8,
   "metadata": {},
   "outputs": [
    {
     "name": "stdout",
     "output_type": "stream",
     "text": [
      "x_train.shape = (445, 247) | y_train.shape = (445,) | x_test.shape = (192, 247) | y_test.shape = (192,)\n"
     ]
    }
   ],
   "source": [
    "## train-test split\n",
    "\n",
    "# train test split\n",
    "x_train, y_train, x_test, y_test = split_test_train(df_raw, target_column='target', test_size=0.3, random_state=seed)\n",
    "print(f'{x_train.shape = }', '|' ,f'{y_train.shape = }', '|' ,f'{x_test.shape = }', '|' ,f'{y_test.shape = }')\n",
    "\n",
    "\n",
    "# copy to df\n",
    "df = x_train.copy(deep=True)"
   ]
  },
  {
   "cell_type": "code",
   "execution_count": 9,
   "metadata": {},
   "outputs": [],
   "source": [
    "# Treating missing values\n",
    "df = df.fillna(0)"
   ]
  },
  {
   "cell_type": "code",
   "execution_count": 10,
   "metadata": {},
   "outputs": [],
   "source": [
    "ind = 0\n",
    "\n",
    "#replacing 'stddev_credit_amt_3M' with 'credit_size_3M' for business explainability, (correlation coeff is 0.95)\n",
    "\n",
    "feat_list = ['credit_size_3M',\n",
    " 'pos_size_1M',\n",
    " 'ratio_amt_credits_less_100_credits_grt_500_3M',\n",
    " 'median_credit_amt_1M',\n",
    " 'ratio_pos_size_1M_6M',\n",
    " 'median_pos_amt_3M',\n",
    " 'count_credits_grt_500_3M',\n",
    " 'loans_size_6M',\n",
    " 'ach_count_6M']\n",
    "\n",
    "df['target'] = df_raw['target']"
   ]
  },
  {
   "cell_type": "code",
   "execution_count": 11,
   "metadata": {},
   "outputs": [
    {
     "name": "stdout",
     "output_type": "stream",
     "text": [
      "(CVXPY) Jul 03 02:55:03 PM: Encountered unexpected exception importing solver GLOP:\n",
      "RuntimeError('Unrecognized new version of ortools (9.6.2534). Expected < 9.5.0.Please open a feature request on cvxpy to enable support for this version.')\n",
      "(CVXPY) Jul 03 02:55:03 PM: Encountered unexpected exception importing solver PDLP:\n",
      "RuntimeError('Unrecognized new version of ortools (9.6.2534). Expected < 9.5.0.Please open a feature request on cvxpy to enable support for this version.')\n"
     ]
    }
   ],
   "source": [
    "## optimal binning woe\n",
    "\n",
    "import optbinning as optb\n",
    "from optbinning import Scorecard, BinningProcess, OptimalBinning\n",
    "from optbinning.binning.binning_statistics import BinningTable\n",
    "\n",
    "df_temp = df.copy()\n",
    "df_temp['target'] = df['target']\n",
    "df_temp = df_temp.fillna(0)"
   ]
  },
  {
   "cell_type": "code",
   "execution_count": 12,
   "metadata": {},
   "outputs": [
    {
     "data": {
      "image/png": "[encoded data removed]",
      "text/plain": [
       "<Figure size 640x480 with 2 Axes>"
      ]
     },
     "metadata": {},
     "output_type": "display_data"
    }
   ],
   "source": [
    "# 1\n",
    "Xt= df_temp['stddev_credit_amt_3M']\n",
    "yt = df_temp['target'].astype(int)\n",
    "\n",
    "optb = OptimalBinning(name='stddev_credit_amt_3M', dtype=\"numerical\", max_n_prebins=4, monotonic_trend='descending',special_codes = [0])\n",
    "optb.fit(Xt, yt)  \n",
    "\n",
    "Xt_binned = optb.transform(Xt)\n",
    "\n",
    "ob_stddev_credit_amt_3M = optb.binning_table.build()\n",
    "\n",
    "optb.binning_table.plot(metric=\"event_rate\")"
   ]
  },
  {
   "cell_type": "code",
   "execution_count": 13,
   "metadata": {},
   "outputs": [
    {
     "data": {
      "text/html": [
       "<div>\n",
       "<style scoped>\n",
       "    .dataframe tbody tr th:only-of-type {\n",
       "        vertical-align: middle;\n",
       "    }\n",
       "\n",
       "    .dataframe tbody tr th {\n",
       "        vertical-align: top;\n",
       "    }\n",
       "\n",
       "    .dataframe thead th {\n",
       "        text-align: right;\n",
       "    }\n",
       "</style>\n",
       "<table border=\"1\" class=\"dataframe\">\n",
       "  <thead>\n",
       "    <tr style=\"text-align: right;\">\n",
       "      <th></th>\n",
       "      <th>Bin</th>\n",
       "      <th>Count</th>\n",
       "      <th>Count (%)</th>\n",
       "      <th>Non-event</th>\n",
       "      <th>Event</th>\n",
       "      <th>Event rate</th>\n",
       "      <th>WoE</th>\n",
       "      <th>IV</th>\n",
       "      <th>JS</th>\n",
       "    </tr>\n",
       "  </thead>\n",
       "  <tbody>\n",
       "    <tr>\n",
       "      <th>0</th>\n",
       "      <td>(-inf, 563.26)</td>\n",
       "      <td>118</td>\n",
       "      <td>0.265169</td>\n",
       "      <td>76</td>\n",
       "      <td>42</td>\n",
       "      <td>0.355932</td>\n",
       "      <td>-0.751616</td>\n",
       "      <td>0.181308</td>\n",
       "      <td>0.022145</td>\n",
       "    </tr>\n",
       "    <tr>\n",
       "      <th>1</th>\n",
       "      <td>[563.26, 1313.72)</td>\n",
       "      <td>118</td>\n",
       "      <td>0.265169</td>\n",
       "      <td>95</td>\n",
       "      <td>23</td>\n",
       "      <td>0.194915</td>\n",
       "      <td>0.073703</td>\n",
       "      <td>0.001409</td>\n",
       "      <td>0.000176</td>\n",
       "    </tr>\n",
       "    <tr>\n",
       "      <th>2</th>\n",
       "      <td>[1313.72, 7591.32)</td>\n",
       "      <td>148</td>\n",
       "      <td>0.332584</td>\n",
       "      <td>128</td>\n",
       "      <td>20</td>\n",
       "      <td>0.135135</td>\n",
       "      <td>0.511619</td>\n",
       "      <td>0.074295</td>\n",
       "      <td>0.009187</td>\n",
       "    </tr>\n",
       "    <tr>\n",
       "      <th>3</th>\n",
       "      <td>[7591.32, inf)</td>\n",
       "      <td>34</td>\n",
       "      <td>0.076404</td>\n",
       "      <td>33</td>\n",
       "      <td>1</td>\n",
       "      <td>0.029412</td>\n",
       "      <td>2.151828</td>\n",
       "      <td>0.177773</td>\n",
       "      <td>0.018732</td>\n",
       "    </tr>\n",
       "    <tr>\n",
       "      <th>4</th>\n",
       "      <td>Special</td>\n",
       "      <td>27</td>\n",
       "      <td>0.060674</td>\n",
       "      <td>21</td>\n",
       "      <td>6</td>\n",
       "      <td>0.222222</td>\n",
       "      <td>-0.091917</td>\n",
       "      <td>0.000526</td>\n",
       "      <td>0.000066</td>\n",
       "    </tr>\n",
       "    <tr>\n",
       "      <th>5</th>\n",
       "      <td>Missing</td>\n",
       "      <td>0</td>\n",
       "      <td>0.000000</td>\n",
       "      <td>0</td>\n",
       "      <td>0</td>\n",
       "      <td>0.000000</td>\n",
       "      <td>0.0</td>\n",
       "      <td>0.000000</td>\n",
       "      <td>0.000000</td>\n",
       "    </tr>\n",
       "    <tr>\n",
       "      <th>Totals</th>\n",
       "      <td></td>\n",
       "      <td>445</td>\n",
       "      <td>1.000000</td>\n",
       "      <td>353</td>\n",
       "      <td>92</td>\n",
       "      <td>0.206742</td>\n",
       "      <td></td>\n",
       "      <td>0.435311</td>\n",
       "      <td>0.050306</td>\n",
       "    </tr>\n",
       "  </tbody>\n",
       "</table>\n",
       "</div>"
      ],
      "text/plain": [
       "                       Bin  Count  Count (%)  Non-event  Event  Event rate  \\\n",
       "0           (-inf, 563.26)    118   0.265169         76     42    0.355932   \n",
       "1        [563.26, 1313.72)    118   0.265169         95     23    0.194915   \n",
       "2       [1313.72, 7591.32)    148   0.332584        128     20    0.135135   \n",
       "3           [7591.32, inf)     34   0.076404         33      1    0.029412   \n",
       "4                  Special     27   0.060674         21      6    0.222222   \n",
       "5                  Missing      0   0.000000          0      0    0.000000   \n",
       "Totals                        445   1.000000        353     92    0.206742   \n",
       "\n",
       "             WoE        IV        JS  \n",
       "0      -0.751616  0.181308  0.022145  \n",
       "1       0.073703  0.001409  0.000176  \n",
       "2       0.511619  0.074295  0.009187  \n",
       "3       2.151828  0.177773  0.018732  \n",
       "4      -0.091917  0.000526  0.000066  \n",
       "5            0.0  0.000000  0.000000  \n",
       "Totals            0.435311  0.050306  "
      ]
     },
     "execution_count": 13,
     "metadata": {},
     "output_type": "execute_result"
    }
   ],
   "source": [
    "ob_stddev_credit_amt_3M"
   ]
  },
  {
   "cell_type": "code",
   "execution_count": 14,
   "metadata": {},
   "outputs": [],
   "source": [
    "# 1\n",
    "# Var tranform\n",
    "transformed_vars = df.copy()\n",
    "\n",
    "# transform\n",
    "col         = 'stddev_credit_amt_3M'\n",
    "conditions  = [ transformed_vars[col] <= 0, \n",
    "                (transformed_vars[col] > 0 ) & (transformed_vars[col] < 578), \n",
    "                (transformed_vars[col] >= 578 ) & (transformed_vars[col] < 1274), \n",
    "                (transformed_vars[col] >= 1274) & (transformed_vars[col] < 7646),\n",
    "                transformed_vars[col] >= 7646 ]\n",
    "\n",
    "choices     = [0.090405,-0.551449,-0.013445, 0.40452,1.951157]\n",
    "    \n",
    "transformed_vars[\"stddev_credit_amt_3M\"] = np.select(conditions, choices, default=np.nan)"
   ]
  },
  {
   "cell_type": "code",
   "execution_count": 15,
   "metadata": {},
   "outputs": [
    {
     "data": {
      "image/png": "[encoded data removed]",
      "text/plain": [
       "<Figure size 640x480 with 2 Axes>"
      ]
     },
     "metadata": {},
     "output_type": "display_data"
    }
   ],
   "source": [
    "# 2\n",
    "Xt= df_temp['shops_amt_3M']\n",
    "yt = df_temp['target'].astype(int)\n",
    "\n",
    "optb = OptimalBinning(name='shops_amt_3M', dtype=\"numerical\", max_n_prebins=4, monotonic_trend='descending',special_codes = [0])\n",
    "optb.fit(Xt, yt)  \n",
    "\n",
    "Xt_binned = optb.transform(Xt)\n",
    "\n",
    "ob_shops_amt_3M = optb.binning_table.build()\n",
    "\n",
    "optb.binning_table.plot(metric=\"event_rate\")"
   ]
  },
  {
   "cell_type": "code",
   "execution_count": 16,
   "metadata": {},
   "outputs": [
    {
     "data": {
      "text/html": [
       "<div>\n",
       "<style scoped>\n",
       "    .dataframe tbody tr th:only-of-type {\n",
       "        vertical-align: middle;\n",
       "    }\n",
       "\n",
       "    .dataframe tbody tr th {\n",
       "        vertical-align: top;\n",
       "    }\n",
       "\n",
       "    .dataframe thead th {\n",
       "        text-align: right;\n",
       "    }\n",
       "</style>\n",
       "<table border=\"1\" class=\"dataframe\">\n",
       "  <thead>\n",
       "    <tr style=\"text-align: right;\">\n",
       "      <th></th>\n",
       "      <th>Bin</th>\n",
       "      <th>Count</th>\n",
       "      <th>Count (%)</th>\n",
       "      <th>Non-event</th>\n",
       "      <th>Event</th>\n",
       "      <th>Event rate</th>\n",
       "      <th>WoE</th>\n",
       "      <th>IV</th>\n",
       "      <th>JS</th>\n",
       "    </tr>\n",
       "  </thead>\n",
       "  <tbody>\n",
       "    <tr>\n",
       "      <th>0</th>\n",
       "      <td>(-inf, 109.53)</td>\n",
       "      <td>34</td>\n",
       "      <td>0.076404</td>\n",
       "      <td>21</td>\n",
       "      <td>13</td>\n",
       "      <td>0.382353</td>\n",
       "      <td>-0.865106</td>\n",
       "      <td>0.070778</td>\n",
       "      <td>0.008581</td>\n",
       "    </tr>\n",
       "    <tr>\n",
       "      <th>1</th>\n",
       "      <td>[109.53, 848.23)</td>\n",
       "      <td>49</td>\n",
       "      <td>0.110112</td>\n",
       "      <td>35</td>\n",
       "      <td>14</td>\n",
       "      <td>0.285714</td>\n",
       "      <td>-0.428389</td>\n",
       "      <td>0.022715</td>\n",
       "      <td>0.002818</td>\n",
       "    </tr>\n",
       "    <tr>\n",
       "      <th>2</th>\n",
       "      <td>[848.23, inf)</td>\n",
       "      <td>114</td>\n",
       "      <td>0.256180</td>\n",
       "      <td>91</td>\n",
       "      <td>23</td>\n",
       "      <td>0.201754</td>\n",
       "      <td>0.030686</td>\n",
       "      <td>0.000239</td>\n",
       "      <td>0.000030</td>\n",
       "    </tr>\n",
       "    <tr>\n",
       "      <th>3</th>\n",
       "      <td>Special</td>\n",
       "      <td>248</td>\n",
       "      <td>0.557303</td>\n",
       "      <td>206</td>\n",
       "      <td>42</td>\n",
       "      <td>0.169355</td>\n",
       "      <td>0.245527</td>\n",
       "      <td>0.031194</td>\n",
       "      <td>0.003889</td>\n",
       "    </tr>\n",
       "    <tr>\n",
       "      <th>4</th>\n",
       "      <td>Missing</td>\n",
       "      <td>0</td>\n",
       "      <td>0.000000</td>\n",
       "      <td>0</td>\n",
       "      <td>0</td>\n",
       "      <td>0.000000</td>\n",
       "      <td>0.0</td>\n",
       "      <td>0.000000</td>\n",
       "      <td>0.000000</td>\n",
       "    </tr>\n",
       "    <tr>\n",
       "      <th>Totals</th>\n",
       "      <td></td>\n",
       "      <td>445</td>\n",
       "      <td>1.000000</td>\n",
       "      <td>353</td>\n",
       "      <td>92</td>\n",
       "      <td>0.206742</td>\n",
       "      <td></td>\n",
       "      <td>0.124926</td>\n",
       "      <td>0.015318</td>\n",
       "    </tr>\n",
       "  </tbody>\n",
       "</table>\n",
       "</div>"
      ],
      "text/plain": [
       "                     Bin  Count  Count (%)  Non-event  Event  Event rate  \\\n",
       "0         (-inf, 109.53)     34   0.076404         21     13    0.382353   \n",
       "1       [109.53, 848.23)     49   0.110112         35     14    0.285714   \n",
       "2          [848.23, inf)    114   0.256180         91     23    0.201754   \n",
       "3                Special    248   0.557303        206     42    0.169355   \n",
       "4                Missing      0   0.000000          0      0    0.000000   \n",
       "Totals                      445   1.000000        353     92    0.206742   \n",
       "\n",
       "             WoE        IV        JS  \n",
       "0      -0.865106  0.070778  0.008581  \n",
       "1      -0.428389  0.022715  0.002818  \n",
       "2       0.030686  0.000239  0.000030  \n",
       "3       0.245527  0.031194  0.003889  \n",
       "4            0.0  0.000000  0.000000  \n",
       "Totals            0.124926  0.015318  "
      ]
     },
     "execution_count": 16,
     "metadata": {},
     "output_type": "execute_result"
    }
   ],
   "source": [
    "ob_shops_amt_3M"
   ]
  },
  {
   "cell_type": "code",
   "execution_count": 17,
   "metadata": {},
   "outputs": [
    {
     "data": {
      "text/plain": [
       "566     341.32\n",
       "262      27.91\n",
       "202       0.25\n",
       "525       0.00\n",
       "335       0.00\n",
       "        ...   \n",
       "141     700.00\n",
       "85      127.03\n",
       "523       0.00\n",
       "161       0.00\n",
       "314    1039.97\n",
       "Name: shops_amt_3M, Length: 445, dtype: float64"
      ]
     },
     "execution_count": 17,
     "metadata": {},
     "output_type": "execute_result"
    }
   ],
   "source": [
    "df_temp['shops_amt_3M']"
   ]
  },
  {
   "cell_type": "code",
   "execution_count": 18,
   "metadata": {},
   "outputs": [],
   "source": [
    "# 2\n",
    "# transform\n",
    "col         = 'shops_amt_3M'\n",
    "conditions  = [ transformed_vars[col] <= 0,\n",
    "                (transformed_vars[col] > 0 ) & (transformed_vars[col] < 221.5), \n",
    "                (transformed_vars[col] >= 221.5 ) & (transformed_vars[col] < 2588), \n",
    "                transformed_vars[col] >= 2588 ]\n",
    "\n",
    "choices     = [0.226839,-0.738544,-0.408586,0.38456]\n",
    "    \n",
    "transformed_vars[\"shops_amt_3M\"] = np.select(conditions, choices, default=np.nan)"
   ]
  },
  {
   "cell_type": "code",
   "execution_count": 19,
   "metadata": {},
   "outputs": [
    {
     "data": {
      "image/png": "[encoded data removed]",
      "text/plain": [
       "<Figure size 640x480 with 2 Axes>"
      ]
     },
     "metadata": {},
     "output_type": "display_data"
    }
   ],
   "source": [
    "# 3\n",
    "Xt= df_temp['pos_size_1M']\n",
    "yt = df_temp['target'].astype(int)\n",
    "\n",
    "optb = OptimalBinning(name='pos_size_1M', dtype=\"numerical\", max_n_prebins=4, monotonic_trend='descending')\n",
    "optb.fit(Xt, yt)  \n",
    "\n",
    "Xt_binned = optb.transform(Xt)\n",
    "\n",
    "ob_pos_size_1M= optb.binning_table.build()\n",
    "\n",
    "optb.binning_table.plot(metric=\"event_rate\")"
   ]
  },
  {
   "cell_type": "code",
   "execution_count": 20,
   "metadata": {},
   "outputs": [
    {
     "data": {
      "text/html": [
       "<div>\n",
       "<style scoped>\n",
       "    .dataframe tbody tr th:only-of-type {\n",
       "        vertical-align: middle;\n",
       "    }\n",
       "\n",
       "    .dataframe tbody tr th {\n",
       "        vertical-align: top;\n",
       "    }\n",
       "\n",
       "    .dataframe thead th {\n",
       "        text-align: right;\n",
       "    }\n",
       "</style>\n",
       "<table border=\"1\" class=\"dataframe\">\n",
       "  <thead>\n",
       "    <tr style=\"text-align: right;\">\n",
       "      <th></th>\n",
       "      <th>Bin</th>\n",
       "      <th>Count</th>\n",
       "      <th>Count (%)</th>\n",
       "      <th>Non-event</th>\n",
       "      <th>Event</th>\n",
       "      <th>Event rate</th>\n",
       "      <th>WoE</th>\n",
       "      <th>IV</th>\n",
       "      <th>JS</th>\n",
       "    </tr>\n",
       "  </thead>\n",
       "  <tbody>\n",
       "    <tr>\n",
       "      <th>0</th>\n",
       "      <td>(-inf, 232.19)</td>\n",
       "      <td>342</td>\n",
       "      <td>0.768539</td>\n",
       "      <td>262</td>\n",
       "      <td>80</td>\n",
       "      <td>0.233918</td>\n",
       "      <td>-0.158362</td>\n",
       "      <td>0.020168</td>\n",
       "      <td>0.002518</td>\n",
       "    </tr>\n",
       "    <tr>\n",
       "      <th>1</th>\n",
       "      <td>[232.19, 908.25)</td>\n",
       "      <td>58</td>\n",
       "      <td>0.130337</td>\n",
       "      <td>47</td>\n",
       "      <td>11</td>\n",
       "      <td>0.189655</td>\n",
       "      <td>0.107573</td>\n",
       "      <td>0.001461</td>\n",
       "      <td>0.000183</td>\n",
       "    </tr>\n",
       "    <tr>\n",
       "      <th>2</th>\n",
       "      <td>[908.25, inf)</td>\n",
       "      <td>45</td>\n",
       "      <td>0.101124</td>\n",
       "      <td>44</td>\n",
       "      <td>1</td>\n",
       "      <td>0.022222</td>\n",
       "      <td>2.43951</td>\n",
       "      <td>0.277559</td>\n",
       "      <td>0.028043</td>\n",
       "    </tr>\n",
       "    <tr>\n",
       "      <th>3</th>\n",
       "      <td>Special</td>\n",
       "      <td>0</td>\n",
       "      <td>0.000000</td>\n",
       "      <td>0</td>\n",
       "      <td>0</td>\n",
       "      <td>0.000000</td>\n",
       "      <td>0.0</td>\n",
       "      <td>0.000000</td>\n",
       "      <td>0.000000</td>\n",
       "    </tr>\n",
       "    <tr>\n",
       "      <th>4</th>\n",
       "      <td>Missing</td>\n",
       "      <td>0</td>\n",
       "      <td>0.000000</td>\n",
       "      <td>0</td>\n",
       "      <td>0</td>\n",
       "      <td>0.000000</td>\n",
       "      <td>0.0</td>\n",
       "      <td>0.000000</td>\n",
       "      <td>0.000000</td>\n",
       "    </tr>\n",
       "    <tr>\n",
       "      <th>Totals</th>\n",
       "      <td></td>\n",
       "      <td>445</td>\n",
       "      <td>1.000000</td>\n",
       "      <td>353</td>\n",
       "      <td>92</td>\n",
       "      <td>0.206742</td>\n",
       "      <td></td>\n",
       "      <td>0.299188</td>\n",
       "      <td>0.030744</td>\n",
       "    </tr>\n",
       "  </tbody>\n",
       "</table>\n",
       "</div>"
      ],
      "text/plain": [
       "                     Bin  Count  Count (%)  Non-event  Event  Event rate  \\\n",
       "0         (-inf, 232.19)    342   0.768539        262     80    0.233918   \n",
       "1       [232.19, 908.25)     58   0.130337         47     11    0.189655   \n",
       "2          [908.25, inf)     45   0.101124         44      1    0.022222   \n",
       "3                Special      0   0.000000          0      0    0.000000   \n",
       "4                Missing      0   0.000000          0      0    0.000000   \n",
       "Totals                      445   1.000000        353     92    0.206742   \n",
       "\n",
       "             WoE        IV        JS  \n",
       "0      -0.158362  0.020168  0.002518  \n",
       "1       0.107573  0.001461  0.000183  \n",
       "2        2.43951  0.277559  0.028043  \n",
       "3            0.0  0.000000  0.000000  \n",
       "4            0.0  0.000000  0.000000  \n",
       "Totals            0.299188  0.030744  "
      ]
     },
     "execution_count": 20,
     "metadata": {},
     "output_type": "execute_result"
    }
   ],
   "source": [
    "ob_pos_size_1M"
   ]
  },
  {
   "cell_type": "code",
   "execution_count": 21,
   "metadata": {},
   "outputs": [],
   "source": [
    "# 3\n",
    "# transform\n",
    "col         = 'pos_size_1M'\n",
    "conditions  = [ transformed_vars[col] < 235.11, \n",
    "                (transformed_vars[col] >= 235.11 ) & (transformed_vars[col] < 979.44), \n",
    "                transformed_vars[col] >= 979.44 ]\n",
    "\n",
    "choices     = [-0.152312,0.159398,1.699843]\n",
    "    \n",
    "transformed_vars[\"pos_size_1M\"] = np.select(conditions, choices, default=np.nan)"
   ]
  },
  {
   "cell_type": "code",
   "execution_count": 22,
   "metadata": {},
   "outputs": [
    {
     "data": {
      "image/png": "[encoded data removed]",
      "text/plain": [
       "<Figure size 640x480 with 2 Axes>"
      ]
     },
     "metadata": {},
     "output_type": "display_data"
    }
   ],
   "source": [
    "# 4\n",
    "Xt= df_temp['loans_amt_6M']\n",
    "yt = df_temp['target'].astype(int)\n",
    "\n",
    "optb = OptimalBinning(name='loans_amt_6M', dtype=\"numerical\", max_n_prebins=4, monotonic_trend='descending',special_codes = [0])\n",
    "optb.fit(Xt, yt)  \n",
    "\n",
    "Xt_binned = optb.transform(Xt)\n",
    "\n",
    "ob_loans_amt_6M = optb.binning_table.build()\n",
    "\n",
    "optb.binning_table.plot(metric=\"event_rate\")"
   ]
  },
  {
   "cell_type": "code",
   "execution_count": 23,
   "metadata": {},
   "outputs": [
    {
     "data": {
      "text/html": [
       "<div>\n",
       "<style scoped>\n",
       "    .dataframe tbody tr th:only-of-type {\n",
       "        vertical-align: middle;\n",
       "    }\n",
       "\n",
       "    .dataframe tbody tr th {\n",
       "        vertical-align: top;\n",
       "    }\n",
       "\n",
       "    .dataframe thead th {\n",
       "        text-align: right;\n",
       "    }\n",
       "</style>\n",
       "<table border=\"1\" class=\"dataframe\">\n",
       "  <thead>\n",
       "    <tr style=\"text-align: right;\">\n",
       "      <th></th>\n",
       "      <th>Bin</th>\n",
       "      <th>Count</th>\n",
       "      <th>Count (%)</th>\n",
       "      <th>Non-event</th>\n",
       "      <th>Event</th>\n",
       "      <th>Event rate</th>\n",
       "      <th>WoE</th>\n",
       "      <th>IV</th>\n",
       "      <th>JS</th>\n",
       "    </tr>\n",
       "  </thead>\n",
       "  <tbody>\n",
       "    <tr>\n",
       "      <th>0</th>\n",
       "      <td>(-inf, 6905.79)</td>\n",
       "      <td>49</td>\n",
       "      <td>0.110112</td>\n",
       "      <td>35</td>\n",
       "      <td>14</td>\n",
       "      <td>0.285714</td>\n",
       "      <td>-0.428389</td>\n",
       "      <td>0.022715</td>\n",
       "      <td>0.002818</td>\n",
       "    </tr>\n",
       "    <tr>\n",
       "      <th>1</th>\n",
       "      <td>[6905.79, inf)</td>\n",
       "      <td>41</td>\n",
       "      <td>0.092135</td>\n",
       "      <td>33</td>\n",
       "      <td>8</td>\n",
       "      <td>0.195122</td>\n",
       "      <td>0.072387</td>\n",
       "      <td>0.000473</td>\n",
       "      <td>0.000059</td>\n",
       "    </tr>\n",
       "    <tr>\n",
       "      <th>2</th>\n",
       "      <td>Special</td>\n",
       "      <td>355</td>\n",
       "      <td>0.797753</td>\n",
       "      <td>285</td>\n",
       "      <td>70</td>\n",
       "      <td>0.197183</td>\n",
       "      <td>0.059314</td>\n",
       "      <td>0.002758</td>\n",
       "      <td>0.000345</td>\n",
       "    </tr>\n",
       "    <tr>\n",
       "      <th>3</th>\n",
       "      <td>Missing</td>\n",
       "      <td>0</td>\n",
       "      <td>0.000000</td>\n",
       "      <td>0</td>\n",
       "      <td>0</td>\n",
       "      <td>0.000000</td>\n",
       "      <td>0.0</td>\n",
       "      <td>0.000000</td>\n",
       "      <td>0.000000</td>\n",
       "    </tr>\n",
       "    <tr>\n",
       "      <th>Totals</th>\n",
       "      <td></td>\n",
       "      <td>445</td>\n",
       "      <td>1.000000</td>\n",
       "      <td>353</td>\n",
       "      <td>92</td>\n",
       "      <td>0.206742</td>\n",
       "      <td></td>\n",
       "      <td>0.025945</td>\n",
       "      <td>0.003222</td>\n",
       "    </tr>\n",
       "  </tbody>\n",
       "</table>\n",
       "</div>"
      ],
      "text/plain": [
       "                    Bin  Count  Count (%)  Non-event  Event  Event rate  \\\n",
       "0       (-inf, 6905.79)     49   0.110112         35     14    0.285714   \n",
       "1        [6905.79, inf)     41   0.092135         33      8    0.195122   \n",
       "2               Special    355   0.797753        285     70    0.197183   \n",
       "3               Missing      0   0.000000          0      0    0.000000   \n",
       "Totals                     445   1.000000        353     92    0.206742   \n",
       "\n",
       "             WoE        IV        JS  \n",
       "0      -0.428389  0.022715  0.002818  \n",
       "1       0.072387  0.000473  0.000059  \n",
       "2       0.059314  0.002758  0.000345  \n",
       "3            0.0  0.000000  0.000000  \n",
       "Totals            0.025945  0.003222  "
      ]
     },
     "execution_count": 23,
     "metadata": {},
     "output_type": "execute_result"
    }
   ],
   "source": [
    "ob_loans_amt_6M"
   ]
  },
  {
   "cell_type": "code",
   "execution_count": 24,
   "metadata": {},
   "outputs": [],
   "source": [
    "# 4\n",
    "# transform\n",
    "col         = 'loans_amt_6M'\n",
    "conditions  = [ transformed_vars[col] <= 0, \n",
    "                (transformed_vars[col] > 0 ) & (transformed_vars[col] < 21503),\n",
    "                transformed_vars[col] >= 21503 ]\n",
    "\n",
    "choices     = [0.08126,-0.518001,0.647751]\n",
    "    \n",
    "transformed_vars[\"loans_amt_6M\"] = np.select(conditions, choices, default=np.nan)"
   ]
  },
  {
   "cell_type": "code",
   "execution_count": 105,
   "metadata": {},
   "outputs": [
    {
     "data": {
      "image/png": "[encoded data removed]",
      "text/plain": [
       "<Figure size 640x480 with 2 Axes>"
      ]
     },
     "metadata": {},
     "output_type": "display_data"
    }
   ],
   "source": [
    "# 5\n",
    "Xt= df_temp['ratio_amt_credits_less_100_credits_grt_500_3M']\n",
    "yt = df_temp['target'].astype(int)\n",
    "\n",
    "optb = OptimalBinning(name='ratio_amt_credits_less_100_credits_grt_500_3M', dtype=\"numerical\", max_n_prebins=2, monotonic_trend='descending',special_codes=[0])\n",
    "optb.fit(Xt, yt)  \n",
    "\n",
    "Xt_binned = optb.transform(Xt)\n",
    "\n",
    "ob_ratio_amt_credits_less_100_credits_grt_500_3M = optb.binning_table.build()\n",
    "\n",
    "optb.binning_table.plot(metric=\"event_rate\")"
   ]
  },
  {
   "cell_type": "code",
   "execution_count": 106,
   "metadata": {},
   "outputs": [
    {
     "data": {
      "text/html": [
       "<div>\n",
       "<style scoped>\n",
       "    .dataframe tbody tr th:only-of-type {\n",
       "        vertical-align: middle;\n",
       "    }\n",
       "\n",
       "    .dataframe tbody tr th {\n",
       "        vertical-align: top;\n",
       "    }\n",
       "\n",
       "    .dataframe thead th {\n",
       "        text-align: right;\n",
       "    }\n",
       "</style>\n",
       "<table border=\"1\" class=\"dataframe\">\n",
       "  <thead>\n",
       "    <tr style=\"text-align: right;\">\n",
       "      <th></th>\n",
       "      <th>Bin</th>\n",
       "      <th>Count</th>\n",
       "      <th>Count (%)</th>\n",
       "      <th>Non-event</th>\n",
       "      <th>Event</th>\n",
       "      <th>Event rate</th>\n",
       "      <th>WoE</th>\n",
       "      <th>IV</th>\n",
       "      <th>JS</th>\n",
       "    </tr>\n",
       "  </thead>\n",
       "  <tbody>\n",
       "    <tr>\n",
       "      <th>0</th>\n",
       "      <td>(-inf, inf)</td>\n",
       "      <td>343</td>\n",
       "      <td>0.770787</td>\n",
       "      <td>268</td>\n",
       "      <td>75</td>\n",
       "      <td>0.218659</td>\n",
       "      <td>-0.071181</td>\n",
       "      <td>0.003987</td>\n",
       "      <td>0.000498</td>\n",
       "    </tr>\n",
       "    <tr>\n",
       "      <th>1</th>\n",
       "      <td>Special</td>\n",
       "      <td>102</td>\n",
       "      <td>0.229213</td>\n",
       "      <td>85</td>\n",
       "      <td>17</td>\n",
       "      <td>0.166667</td>\n",
       "      <td>0.264758</td>\n",
       "      <td>0.014829</td>\n",
       "      <td>0.001848</td>\n",
       "    </tr>\n",
       "    <tr>\n",
       "      <th>2</th>\n",
       "      <td>Missing</td>\n",
       "      <td>0</td>\n",
       "      <td>0.000000</td>\n",
       "      <td>0</td>\n",
       "      <td>0</td>\n",
       "      <td>0.000000</td>\n",
       "      <td>0.0</td>\n",
       "      <td>0.000000</td>\n",
       "      <td>0.000000</td>\n",
       "    </tr>\n",
       "    <tr>\n",
       "      <th>Totals</th>\n",
       "      <td></td>\n",
       "      <td>445</td>\n",
       "      <td>1.000000</td>\n",
       "      <td>353</td>\n",
       "      <td>92</td>\n",
       "      <td>0.206742</td>\n",
       "      <td></td>\n",
       "      <td>0.018816</td>\n",
       "      <td>0.002347</td>\n",
       "    </tr>\n",
       "  </tbody>\n",
       "</table>\n",
       "</div>"
      ],
      "text/plain": [
       "                Bin  Count  Count (%)  Non-event  Event  Event rate       WoE  \\\n",
       "0       (-inf, inf)    343   0.770787        268     75    0.218659 -0.071181   \n",
       "1           Special    102   0.229213         85     17    0.166667  0.264758   \n",
       "2           Missing      0   0.000000          0      0    0.000000       0.0   \n",
       "Totals                 445   1.000000        353     92    0.206742             \n",
       "\n",
       "              IV        JS  \n",
       "0       0.003987  0.000498  \n",
       "1       0.014829  0.001848  \n",
       "2       0.000000  0.000000  \n",
       "Totals  0.018816  0.002347  "
      ]
     },
     "execution_count": 106,
     "metadata": {},
     "output_type": "execute_result"
    }
   ],
   "source": [
    "ob_ratio_amt_credits_less_100_credits_grt_500_3M"
   ]
  },
  {
   "cell_type": "code",
   "execution_count": 27,
   "metadata": {},
   "outputs": [],
   "source": [
    "# 5\n",
    "# transform\n",
    "col         = 'ratio_amt_credits_less_100_credits_grt_500_3M'\n",
    "conditions  = [ transformed_vars[col] <= 0,\n",
    "                transformed_vars[col] > 0 ]\n",
    "\n",
    "choices     = [-0.112536,0.045514]\n",
    "    \n",
    "transformed_vars[\"ratio_amt_credits_less_100_credits_grt_500_3M\"] = np.select(conditions, choices, default=np.nan)"
   ]
  },
  {
   "cell_type": "code",
   "execution_count": 28,
   "metadata": {},
   "outputs": [
    {
     "data": {
      "image/png": "[encoded data removed]",
      "text/plain": [
       "<Figure size 640x480 with 2 Axes>"
      ]
     },
     "metadata": {},
     "output_type": "display_data"
    }
   ],
   "source": [
    "# 6\n",
    "Xt= df_temp['median_credit_amt_1M']\n",
    "yt = df_temp['target'].astype(int)\n",
    "\n",
    "optb = OptimalBinning(name='median_credit_amt_1M', dtype=\"numerical\", max_n_prebins=4, monotonic_trend='descending')\n",
    "optb.fit(Xt, yt)  \n",
    "\n",
    "Xt_binned = optb.transform(Xt)\n",
    "\n",
    "ob_median_credit_amt_1M = optb.binning_table.build()\n",
    "\n",
    "optb.binning_table.plot(metric=\"event_rate\")"
   ]
  },
  {
   "cell_type": "code",
   "execution_count": 29,
   "metadata": {},
   "outputs": [
    {
     "data": {
      "text/html": [
       "<div>\n",
       "<style scoped>\n",
       "    .dataframe tbody tr th:only-of-type {\n",
       "        vertical-align: middle;\n",
       "    }\n",
       "\n",
       "    .dataframe tbody tr th {\n",
       "        vertical-align: top;\n",
       "    }\n",
       "\n",
       "    .dataframe thead th {\n",
       "        text-align: right;\n",
       "    }\n",
       "</style>\n",
       "<table border=\"1\" class=\"dataframe\">\n",
       "  <thead>\n",
       "    <tr style=\"text-align: right;\">\n",
       "      <th></th>\n",
       "      <th>Bin</th>\n",
       "      <th>Count</th>\n",
       "      <th>Count (%)</th>\n",
       "      <th>Non-event</th>\n",
       "      <th>Event</th>\n",
       "      <th>Event rate</th>\n",
       "      <th>WoE</th>\n",
       "      <th>IV</th>\n",
       "      <th>JS</th>\n",
       "    </tr>\n",
       "  </thead>\n",
       "  <tbody>\n",
       "    <tr>\n",
       "      <th>0</th>\n",
       "      <td>(-inf, 120.83)</td>\n",
       "      <td>149</td>\n",
       "      <td>0.334831</td>\n",
       "      <td>105</td>\n",
       "      <td>44</td>\n",
       "      <td>0.295302</td>\n",
       "      <td>-0.474909</td>\n",
       "      <td>0.085868</td>\n",
       "      <td>0.010634</td>\n",
       "    </tr>\n",
       "    <tr>\n",
       "      <th>1</th>\n",
       "      <td>[120.83, 506.44)</td>\n",
       "      <td>130</td>\n",
       "      <td>0.292135</td>\n",
       "      <td>102</td>\n",
       "      <td>28</td>\n",
       "      <td>0.215385</td>\n",
       "      <td>-0.051911</td>\n",
       "      <td>0.000799</td>\n",
       "      <td>0.000100</td>\n",
       "    </tr>\n",
       "    <tr>\n",
       "      <th>2</th>\n",
       "      <td>[506.44, inf)</td>\n",
       "      <td>166</td>\n",
       "      <td>0.373034</td>\n",
       "      <td>146</td>\n",
       "      <td>20</td>\n",
       "      <td>0.120482</td>\n",
       "      <td>0.643195</td>\n",
       "      <td>0.126199</td>\n",
       "      <td>0.015508</td>\n",
       "    </tr>\n",
       "    <tr>\n",
       "      <th>3</th>\n",
       "      <td>Special</td>\n",
       "      <td>0</td>\n",
       "      <td>0.000000</td>\n",
       "      <td>0</td>\n",
       "      <td>0</td>\n",
       "      <td>0.000000</td>\n",
       "      <td>0.0</td>\n",
       "      <td>0.000000</td>\n",
       "      <td>0.000000</td>\n",
       "    </tr>\n",
       "    <tr>\n",
       "      <th>4</th>\n",
       "      <td>Missing</td>\n",
       "      <td>0</td>\n",
       "      <td>0.000000</td>\n",
       "      <td>0</td>\n",
       "      <td>0</td>\n",
       "      <td>0.000000</td>\n",
       "      <td>0.0</td>\n",
       "      <td>0.000000</td>\n",
       "      <td>0.000000</td>\n",
       "    </tr>\n",
       "    <tr>\n",
       "      <th>Totals</th>\n",
       "      <td></td>\n",
       "      <td>445</td>\n",
       "      <td>1.000000</td>\n",
       "      <td>353</td>\n",
       "      <td>92</td>\n",
       "      <td>0.206742</td>\n",
       "      <td></td>\n",
       "      <td>0.212867</td>\n",
       "      <td>0.026242</td>\n",
       "    </tr>\n",
       "  </tbody>\n",
       "</table>\n",
       "</div>"
      ],
      "text/plain": [
       "                     Bin  Count  Count (%)  Non-event  Event  Event rate  \\\n",
       "0         (-inf, 120.83)    149   0.334831        105     44    0.295302   \n",
       "1       [120.83, 506.44)    130   0.292135        102     28    0.215385   \n",
       "2          [506.44, inf)    166   0.373034        146     20    0.120482   \n",
       "3                Special      0   0.000000          0      0    0.000000   \n",
       "4                Missing      0   0.000000          0      0    0.000000   \n",
       "Totals                      445   1.000000        353     92    0.206742   \n",
       "\n",
       "             WoE        IV        JS  \n",
       "0      -0.474909  0.085868  0.010634  \n",
       "1      -0.051911  0.000799  0.000100  \n",
       "2       0.643195  0.126199  0.015508  \n",
       "3            0.0  0.000000  0.000000  \n",
       "4            0.0  0.000000  0.000000  \n",
       "Totals            0.212867  0.026242  "
      ]
     },
     "execution_count": 29,
     "metadata": {},
     "output_type": "execute_result"
    }
   ],
   "source": [
    "ob_median_credit_amt_1M"
   ]
  },
  {
   "cell_type": "code",
   "execution_count": 30,
   "metadata": {},
   "outputs": [],
   "source": [
    "# 6\n",
    "# transform\n",
    "col         = 'median_credit_amt_1M'\n",
    "conditions  = [ transformed_vars[col] < 102,\n",
    "                (transformed_vars[col] >= 102 ) & (transformed_vars[col] < 475.2),\n",
    "                transformed_vars[col] >= 475.2 ]\n",
    "\n",
    "choices     = [-0.444738,-0.119068,0.550264]\n",
    "    \n",
    "transformed_vars[\"median_credit_amt_1M\"] = np.select(conditions, choices, default=np.nan)"
   ]
  },
  {
   "cell_type": "code",
   "execution_count": 31,
   "metadata": {},
   "outputs": [
    {
     "data": {
      "image/png": "[encoded data removed]",
      "text/plain": [
       "<Figure size 640x480 with 2 Axes>"
      ]
     },
     "metadata": {},
     "output_type": "display_data"
    }
   ],
   "source": [
    "# 7\n",
    "Xt= df_temp['ratio_pos_size_1M_6M']\n",
    "yt = df_temp['target'].astype(int)\n",
    "\n",
    "optb = OptimalBinning(name='ratio_pos_size_1M_6M', dtype=\"numerical\", max_n_prebins=4, monotonic_trend='descending',special_codes=[0])\n",
    "optb.fit(Xt, yt)  \n",
    "\n",
    "Xt_binned = optb.transform(Xt)\n",
    "\n",
    "ob_ratio_pos_size_1M_6M = optb.binning_table.build()\n",
    "\n",
    "optb.binning_table.plot(metric=\"event_rate\")"
   ]
  },
  {
   "cell_type": "code",
   "execution_count": 32,
   "metadata": {},
   "outputs": [
    {
     "data": {
      "text/html": [
       "<div>\n",
       "<style scoped>\n",
       "    .dataframe tbody tr th:only-of-type {\n",
       "        vertical-align: middle;\n",
       "    }\n",
       "\n",
       "    .dataframe tbody tr th {\n",
       "        vertical-align: top;\n",
       "    }\n",
       "\n",
       "    .dataframe thead th {\n",
       "        text-align: right;\n",
       "    }\n",
       "</style>\n",
       "<table border=\"1\" class=\"dataframe\">\n",
       "  <thead>\n",
       "    <tr style=\"text-align: right;\">\n",
       "      <th></th>\n",
       "      <th>Bin</th>\n",
       "      <th>Count</th>\n",
       "      <th>Count (%)</th>\n",
       "      <th>Non-event</th>\n",
       "      <th>Event</th>\n",
       "      <th>Event rate</th>\n",
       "      <th>WoE</th>\n",
       "      <th>IV</th>\n",
       "      <th>JS</th>\n",
       "    </tr>\n",
       "  </thead>\n",
       "  <tbody>\n",
       "    <tr>\n",
       "      <th>0</th>\n",
       "      <td>(-inf, 1.21)</td>\n",
       "      <td>150</td>\n",
       "      <td>0.337079</td>\n",
       "      <td>120</td>\n",
       "      <td>30</td>\n",
       "      <td>0.200000</td>\n",
       "      <td>0.041615</td>\n",
       "      <td>0.000577</td>\n",
       "      <td>0.000072</td>\n",
       "    </tr>\n",
       "    <tr>\n",
       "      <th>1</th>\n",
       "      <td>[1.21, inf)</td>\n",
       "      <td>25</td>\n",
       "      <td>0.056180</td>\n",
       "      <td>23</td>\n",
       "      <td>2</td>\n",
       "      <td>0.080000</td>\n",
       "      <td>1.097668</td>\n",
       "      <td>0.047657</td>\n",
       "      <td>0.005675</td>\n",
       "    </tr>\n",
       "    <tr>\n",
       "      <th>2</th>\n",
       "      <td>Special</td>\n",
       "      <td>270</td>\n",
       "      <td>0.606742</td>\n",
       "      <td>210</td>\n",
       "      <td>60</td>\n",
       "      <td>0.222222</td>\n",
       "      <td>-0.091917</td>\n",
       "      <td>0.005264</td>\n",
       "      <td>0.000658</td>\n",
       "    </tr>\n",
       "    <tr>\n",
       "      <th>3</th>\n",
       "      <td>Missing</td>\n",
       "      <td>0</td>\n",
       "      <td>0.000000</td>\n",
       "      <td>0</td>\n",
       "      <td>0</td>\n",
       "      <td>0.000000</td>\n",
       "      <td>0.0</td>\n",
       "      <td>0.000000</td>\n",
       "      <td>0.000000</td>\n",
       "    </tr>\n",
       "    <tr>\n",
       "      <th>Totals</th>\n",
       "      <td></td>\n",
       "      <td>445</td>\n",
       "      <td>1.000000</td>\n",
       "      <td>353</td>\n",
       "      <td>92</td>\n",
       "      <td>0.206742</td>\n",
       "      <td></td>\n",
       "      <td>0.053498</td>\n",
       "      <td>0.006405</td>\n",
       "    </tr>\n",
       "  </tbody>\n",
       "</table>\n",
       "</div>"
      ],
      "text/plain": [
       "                 Bin  Count  Count (%)  Non-event  Event  Event rate  \\\n",
       "0       (-inf, 1.21)    150   0.337079        120     30    0.200000   \n",
       "1        [1.21, inf)     25   0.056180         23      2    0.080000   \n",
       "2            Special    270   0.606742        210     60    0.222222   \n",
       "3            Missing      0   0.000000          0      0    0.000000   \n",
       "Totals                  445   1.000000        353     92    0.206742   \n",
       "\n",
       "             WoE        IV        JS  \n",
       "0       0.041615  0.000577  0.000072  \n",
       "1       1.097668  0.047657  0.005675  \n",
       "2      -0.091917  0.005264  0.000658  \n",
       "3            0.0  0.000000  0.000000  \n",
       "Totals            0.053498  0.006405  "
      ]
     },
     "execution_count": 32,
     "metadata": {},
     "output_type": "execute_result"
    }
   ],
   "source": [
    "ob_ratio_pos_size_1M_6M"
   ]
  },
  {
   "cell_type": "code",
   "execution_count": 33,
   "metadata": {},
   "outputs": [],
   "source": [
    "# 7\n",
    "# transform\n",
    "col         = 'ratio_pos_size_1M_6M'\n",
    "conditions  = [ transformed_vars[col] <= 0,\n",
    "                (transformed_vars[col] > 0 ) & (transformed_vars[col] < 1.21),\n",
    "                transformed_vars[col] >= 1.21 ]\n",
    "\n",
    "choices     = [-0.164722,0.141314,1.140227]\n",
    "    \n",
    "transformed_vars[\"ratio_pos_size_1M_6M\"] = np.select(conditions, choices, default=np.nan)"
   ]
  },
  {
   "cell_type": "code",
   "execution_count": 34,
   "metadata": {},
   "outputs": [
    {
     "data": {
      "image/png": "[encoded data removed]",
      "text/plain": [
       "<Figure size 640x480 with 2 Axes>"
      ]
     },
     "metadata": {},
     "output_type": "display_data"
    }
   ],
   "source": [
    "# 8\n",
    "Xt= df_temp['median_ecom_amt_6M']\n",
    "yt = df_temp['target'].astype(int)\n",
    "\n",
    "optb = OptimalBinning(name='median_ecom_amt_6M', dtype=\"numerical\", max_n_prebins=4, monotonic_trend='descending', special_codes=[0])\n",
    "optb.fit(Xt, yt)  \n",
    "\n",
    "Xt_binned = optb.transform(Xt)\n",
    "\n",
    "ob_median_ecom_amt_6M = optb.binning_table.build()\n",
    "\n",
    "optb.binning_table.plot(metric=\"event_rate\")"
   ]
  },
  {
   "cell_type": "code",
   "execution_count": 35,
   "metadata": {},
   "outputs": [
    {
     "data": {
      "text/html": [
       "<div>\n",
       "<style scoped>\n",
       "    .dataframe tbody tr th:only-of-type {\n",
       "        vertical-align: middle;\n",
       "    }\n",
       "\n",
       "    .dataframe tbody tr th {\n",
       "        vertical-align: top;\n",
       "    }\n",
       "\n",
       "    .dataframe thead th {\n",
       "        text-align: right;\n",
       "    }\n",
       "</style>\n",
       "<table border=\"1\" class=\"dataframe\">\n",
       "  <thead>\n",
       "    <tr style=\"text-align: right;\">\n",
       "      <th></th>\n",
       "      <th>Bin</th>\n",
       "      <th>Count</th>\n",
       "      <th>Count (%)</th>\n",
       "      <th>Non-event</th>\n",
       "      <th>Event</th>\n",
       "      <th>Event rate</th>\n",
       "      <th>WoE</th>\n",
       "      <th>IV</th>\n",
       "      <th>JS</th>\n",
       "    </tr>\n",
       "  </thead>\n",
       "  <tbody>\n",
       "    <tr>\n",
       "      <th>0</th>\n",
       "      <td>(-inf, 15.53)</td>\n",
       "      <td>35</td>\n",
       "      <td>0.078652</td>\n",
       "      <td>23</td>\n",
       "      <td>12</td>\n",
       "      <td>0.342857</td>\n",
       "      <td>-0.694092</td>\n",
       "      <td>0.045310</td>\n",
       "      <td>0.005553</td>\n",
       "    </tr>\n",
       "    <tr>\n",
       "      <th>1</th>\n",
       "      <td>[15.53, inf)</td>\n",
       "      <td>116</td>\n",
       "      <td>0.260674</td>\n",
       "      <td>86</td>\n",
       "      <td>30</td>\n",
       "      <td>0.258621</td>\n",
       "      <td>-0.29153</td>\n",
       "      <td>0.024040</td>\n",
       "      <td>0.002994</td>\n",
       "    </tr>\n",
       "    <tr>\n",
       "      <th>2</th>\n",
       "      <td>Special</td>\n",
       "      <td>294</td>\n",
       "      <td>0.660674</td>\n",
       "      <td>244</td>\n",
       "      <td>50</td>\n",
       "      <td>0.170068</td>\n",
       "      <td>0.240466</td>\n",
       "      <td>0.035526</td>\n",
       "      <td>0.004430</td>\n",
       "    </tr>\n",
       "    <tr>\n",
       "      <th>3</th>\n",
       "      <td>Missing</td>\n",
       "      <td>0</td>\n",
       "      <td>0.000000</td>\n",
       "      <td>0</td>\n",
       "      <td>0</td>\n",
       "      <td>0.000000</td>\n",
       "      <td>0.0</td>\n",
       "      <td>0.000000</td>\n",
       "      <td>0.000000</td>\n",
       "    </tr>\n",
       "    <tr>\n",
       "      <th>Totals</th>\n",
       "      <td></td>\n",
       "      <td>445</td>\n",
       "      <td>1.000000</td>\n",
       "      <td>353</td>\n",
       "      <td>92</td>\n",
       "      <td>0.206742</td>\n",
       "      <td></td>\n",
       "      <td>0.104876</td>\n",
       "      <td>0.012977</td>\n",
       "    </tr>\n",
       "  </tbody>\n",
       "</table>\n",
       "</div>"
      ],
      "text/plain": [
       "                  Bin  Count  Count (%)  Non-event  Event  Event rate  \\\n",
       "0       (-inf, 15.53)     35   0.078652         23     12    0.342857   \n",
       "1        [15.53, inf)    116   0.260674         86     30    0.258621   \n",
       "2             Special    294   0.660674        244     50    0.170068   \n",
       "3             Missing      0   0.000000          0      0    0.000000   \n",
       "Totals                   445   1.000000        353     92    0.206742   \n",
       "\n",
       "             WoE        IV        JS  \n",
       "0      -0.694092  0.045310  0.005553  \n",
       "1       -0.29153  0.024040  0.002994  \n",
       "2       0.240466  0.035526  0.004430  \n",
       "3            0.0  0.000000  0.000000  \n",
       "Totals            0.104876  0.012977  "
      ]
     },
     "execution_count": 35,
     "metadata": {},
     "output_type": "execute_result"
    }
   ],
   "source": [
    "ob_median_ecom_amt_6M"
   ]
  },
  {
   "cell_type": "code",
   "execution_count": 36,
   "metadata": {},
   "outputs": [],
   "source": [
    "# 8\n",
    "# transform\n",
    "col         = 'median_ecom_amt_6M'\n",
    "conditions  = [ transformed_vars[col] <= 0,\n",
    "                (transformed_vars[col] > 0 ) & (transformed_vars[col] < 49.74),\n",
    "                transformed_vars[col] >= 49.74 ]\n",
    "\n",
    "choices     = [0.30558,-0.576309,-0.303226]\n",
    "    \n",
    "transformed_vars[\"median_ecom_amt_6M\"] = np.select(conditions, choices, default=np.nan)"
   ]
  },
  {
   "cell_type": "code",
   "execution_count": 37,
   "metadata": {},
   "outputs": [
    {
     "data": {
      "image/png": "[encoded data removed]",
      "text/plain": [
       "<Figure size 640x480 with 2 Axes>"
      ]
     },
     "metadata": {},
     "output_type": "display_data"
    }
   ],
   "source": [
    "# 9\n",
    "Xt= df_temp['pos_count_3M']\n",
    "yt = df_temp['target'].astype(int)\n",
    "\n",
    "optb = OptimalBinning(name='pos_count_3M', dtype=\"numerical\", max_n_prebins=4, monotonic_trend='descending', special_codes=[0])\n",
    "optb.fit(Xt, yt)  \n",
    "\n",
    "Xt_binned = optb.transform(Xt)\n",
    "\n",
    "ob_pos_count_3M = optb.binning_table.build()\n",
    "\n",
    "optb.binning_table.plot(metric=\"event_rate\")"
   ]
  },
  {
   "cell_type": "code",
   "execution_count": 38,
   "metadata": {},
   "outputs": [
    {
     "data": {
      "text/html": [
       "<div>\n",
       "<style scoped>\n",
       "    .dataframe tbody tr th:only-of-type {\n",
       "        vertical-align: middle;\n",
       "    }\n",
       "\n",
       "    .dataframe tbody tr th {\n",
       "        vertical-align: top;\n",
       "    }\n",
       "\n",
       "    .dataframe thead th {\n",
       "        text-align: right;\n",
       "    }\n",
       "</style>\n",
       "<table border=\"1\" class=\"dataframe\">\n",
       "  <thead>\n",
       "    <tr style=\"text-align: right;\">\n",
       "      <th></th>\n",
       "      <th>Bin</th>\n",
       "      <th>Count</th>\n",
       "      <th>Count (%)</th>\n",
       "      <th>Non-event</th>\n",
       "      <th>Event</th>\n",
       "      <th>Event rate</th>\n",
       "      <th>WoE</th>\n",
       "      <th>IV</th>\n",
       "      <th>JS</th>\n",
       "    </tr>\n",
       "  </thead>\n",
       "  <tbody>\n",
       "    <tr>\n",
       "      <th>0</th>\n",
       "      <td>(-inf, 1.50)</td>\n",
       "      <td>45</td>\n",
       "      <td>0.101124</td>\n",
       "      <td>34</td>\n",
       "      <td>11</td>\n",
       "      <td>0.244444</td>\n",
       "      <td>-0.216214</td>\n",
       "      <td>0.005027</td>\n",
       "      <td>0.000627</td>\n",
       "    </tr>\n",
       "    <tr>\n",
       "      <th>1</th>\n",
       "      <td>[1.50, 14.50)</td>\n",
       "      <td>175</td>\n",
       "      <td>0.393258</td>\n",
       "      <td>142</td>\n",
       "      <td>33</td>\n",
       "      <td>0.188571</td>\n",
       "      <td>0.11464</td>\n",
       "      <td>0.004995</td>\n",
       "      <td>0.000624</td>\n",
       "    </tr>\n",
       "    <tr>\n",
       "      <th>2</th>\n",
       "      <td>[14.50, inf)</td>\n",
       "      <td>29</td>\n",
       "      <td>0.065169</td>\n",
       "      <td>26</td>\n",
       "      <td>3</td>\n",
       "      <td>0.103448</td>\n",
       "      <td>0.814805</td>\n",
       "      <td>0.033444</td>\n",
       "      <td>0.004069</td>\n",
       "    </tr>\n",
       "    <tr>\n",
       "      <th>3</th>\n",
       "      <td>Special</td>\n",
       "      <td>196</td>\n",
       "      <td>0.440449</td>\n",
       "      <td>151</td>\n",
       "      <td>45</td>\n",
       "      <td>0.229592</td>\n",
       "      <td>-0.134062</td>\n",
       "      <td>0.008227</td>\n",
       "      <td>0.001028</td>\n",
       "    </tr>\n",
       "    <tr>\n",
       "      <th>4</th>\n",
       "      <td>Missing</td>\n",
       "      <td>0</td>\n",
       "      <td>0.000000</td>\n",
       "      <td>0</td>\n",
       "      <td>0</td>\n",
       "      <td>0.000000</td>\n",
       "      <td>0.0</td>\n",
       "      <td>0.000000</td>\n",
       "      <td>0.000000</td>\n",
       "    </tr>\n",
       "    <tr>\n",
       "      <th>Totals</th>\n",
       "      <td></td>\n",
       "      <td>445</td>\n",
       "      <td>1.000000</td>\n",
       "      <td>353</td>\n",
       "      <td>92</td>\n",
       "      <td>0.206742</td>\n",
       "      <td></td>\n",
       "      <td>0.051693</td>\n",
       "      <td>0.006347</td>\n",
       "    </tr>\n",
       "  </tbody>\n",
       "</table>\n",
       "</div>"
      ],
      "text/plain": [
       "                  Bin  Count  Count (%)  Non-event  Event  Event rate  \\\n",
       "0        (-inf, 1.50)     45   0.101124         34     11    0.244444   \n",
       "1       [1.50, 14.50)    175   0.393258        142     33    0.188571   \n",
       "2        [14.50, inf)     29   0.065169         26      3    0.103448   \n",
       "3             Special    196   0.440449        151     45    0.229592   \n",
       "4             Missing      0   0.000000          0      0    0.000000   \n",
       "Totals                   445   1.000000        353     92    0.206742   \n",
       "\n",
       "             WoE        IV        JS  \n",
       "0      -0.216214  0.005027  0.000627  \n",
       "1        0.11464  0.004995  0.000624  \n",
       "2       0.814805  0.033444  0.004069  \n",
       "3      -0.134062  0.008227  0.001028  \n",
       "4            0.0  0.000000  0.000000  \n",
       "Totals            0.051693  0.006347  "
      ]
     },
     "execution_count": 38,
     "metadata": {},
     "output_type": "execute_result"
    }
   ],
   "source": [
    "ob_pos_count_3M"
   ]
  },
  {
   "cell_type": "code",
   "execution_count": 39,
   "metadata": {},
   "outputs": [],
   "source": [
    "# 9\n",
    "# transform\n",
    "col         = 'pos_count_3M'\n",
    "conditions  = [ transformed_vars[col] <= 0,\n",
    "                transformed_vars[col] > 0 ]\n",
    "\n",
    "choices     = [-0.25334,0.201958]\n",
    "    \n",
    "transformed_vars[\"pos_count_3M\"] = np.select(conditions, choices, default=np.nan)"
   ]
  },
  {
   "cell_type": "code",
   "execution_count": 40,
   "metadata": {},
   "outputs": [
    {
     "data": {
      "image/png": "[encoded data removed]",
      "text/plain": [
       "<Figure size 640x480 with 2 Axes>"
      ]
     },
     "metadata": {},
     "output_type": "display_data"
    }
   ],
   "source": [
    "# 10\n",
    "Xt= df_temp['median_pos_amt_3M']\n",
    "yt = df_temp['target'].astype(int)\n",
    "\n",
    "optb = OptimalBinning(name='median_pos_amt_3M', dtype=\"numerical\", max_n_prebins=4, monotonic_trend='descending',special_codes=[0])\n",
    "optb.fit(Xt, yt)  \n",
    "\n",
    "Xt_binned = optb.transform(Xt)\n",
    "\n",
    "ob_median_pos_amt_3M = optb.binning_table.build()\n",
    "\n",
    "optb.binning_table.plot(metric=\"event_rate\")"
   ]
  },
  {
   "cell_type": "code",
   "execution_count": 41,
   "metadata": {},
   "outputs": [
    {
     "data": {
      "text/html": [
       "<div>\n",
       "<style scoped>\n",
       "    .dataframe tbody tr th:only-of-type {\n",
       "        vertical-align: middle;\n",
       "    }\n",
       "\n",
       "    .dataframe tbody tr th {\n",
       "        vertical-align: top;\n",
       "    }\n",
       "\n",
       "    .dataframe thead th {\n",
       "        text-align: right;\n",
       "    }\n",
       "</style>\n",
       "<table border=\"1\" class=\"dataframe\">\n",
       "  <thead>\n",
       "    <tr style=\"text-align: right;\">\n",
       "      <th></th>\n",
       "      <th>Bin</th>\n",
       "      <th>Count</th>\n",
       "      <th>Count (%)</th>\n",
       "      <th>Non-event</th>\n",
       "      <th>Event</th>\n",
       "      <th>Event rate</th>\n",
       "      <th>WoE</th>\n",
       "      <th>IV</th>\n",
       "      <th>JS</th>\n",
       "    </tr>\n",
       "  </thead>\n",
       "  <tbody>\n",
       "    <tr>\n",
       "      <th>0</th>\n",
       "      <td>(-inf, 486.25)</td>\n",
       "      <td>150</td>\n",
       "      <td>0.337079</td>\n",
       "      <td>114</td>\n",
       "      <td>36</td>\n",
       "      <td>0.240000</td>\n",
       "      <td>-0.192</td>\n",
       "      <td>0.013125</td>\n",
       "      <td>0.001638</td>\n",
       "    </tr>\n",
       "    <tr>\n",
       "      <th>1</th>\n",
       "      <td>[486.25, inf)</td>\n",
       "      <td>99</td>\n",
       "      <td>0.222472</td>\n",
       "      <td>88</td>\n",
       "      <td>11</td>\n",
       "      <td>0.111111</td>\n",
       "      <td>0.734762</td>\n",
       "      <td>0.095318</td>\n",
       "      <td>0.011654</td>\n",
       "    </tr>\n",
       "    <tr>\n",
       "      <th>2</th>\n",
       "      <td>Special</td>\n",
       "      <td>196</td>\n",
       "      <td>0.440449</td>\n",
       "      <td>151</td>\n",
       "      <td>45</td>\n",
       "      <td>0.229592</td>\n",
       "      <td>-0.134062</td>\n",
       "      <td>0.008227</td>\n",
       "      <td>0.001028</td>\n",
       "    </tr>\n",
       "    <tr>\n",
       "      <th>3</th>\n",
       "      <td>Missing</td>\n",
       "      <td>0</td>\n",
       "      <td>0.000000</td>\n",
       "      <td>0</td>\n",
       "      <td>0</td>\n",
       "      <td>0.000000</td>\n",
       "      <td>0.0</td>\n",
       "      <td>0.000000</td>\n",
       "      <td>0.000000</td>\n",
       "    </tr>\n",
       "    <tr>\n",
       "      <th>Totals</th>\n",
       "      <td></td>\n",
       "      <td>445</td>\n",
       "      <td>1.000000</td>\n",
       "      <td>353</td>\n",
       "      <td>92</td>\n",
       "      <td>0.206742</td>\n",
       "      <td></td>\n",
       "      <td>0.116670</td>\n",
       "      <td>0.014319</td>\n",
       "    </tr>\n",
       "  </tbody>\n",
       "</table>\n",
       "</div>"
      ],
      "text/plain": [
       "                   Bin  Count  Count (%)  Non-event  Event  Event rate  \\\n",
       "0       (-inf, 486.25)    150   0.337079        114     36    0.240000   \n",
       "1        [486.25, inf)     99   0.222472         88     11    0.111111   \n",
       "2              Special    196   0.440449        151     45    0.229592   \n",
       "3              Missing      0   0.000000          0      0    0.000000   \n",
       "Totals                    445   1.000000        353     92    0.206742   \n",
       "\n",
       "             WoE        IV        JS  \n",
       "0         -0.192  0.013125  0.001638  \n",
       "1       0.734762  0.095318  0.011654  \n",
       "2      -0.134062  0.008227  0.001028  \n",
       "3            0.0  0.000000  0.000000  \n",
       "Totals            0.116670  0.014319  "
      ]
     },
     "execution_count": 41,
     "metadata": {},
     "output_type": "execute_result"
    }
   ],
   "source": [
    "ob_median_pos_amt_3M"
   ]
  },
  {
   "cell_type": "code",
   "execution_count": 42,
   "metadata": {},
   "outputs": [],
   "source": [
    "# 10\n",
    "# transform\n",
    "col         = 'median_pos_amt_3M'\n",
    "conditions  = [ transformed_vars[col] <= 0,\n",
    "                (transformed_vars[col] > 0 ) & (transformed_vars[col] < 486.25),\n",
    "                transformed_vars[col] >= 486.25 ]\n",
    "\n",
    "choices     = [-0.25334,-0.127284,0.968955]\n",
    "    \n",
    "transformed_vars[\"median_pos_amt_3M\"] = np.select(conditions, choices, default=np.nan)"
   ]
  },
  {
   "cell_type": "code",
   "execution_count": 43,
   "metadata": {},
   "outputs": [
    {
     "data": {
      "image/png": "[encoded data removed]",
      "text/plain": [
       "<Figure size 640x480 with 2 Axes>"
      ]
     },
     "metadata": {},
     "output_type": "display_data"
    }
   ],
   "source": [
    "# 11\n",
    "Xt= df_temp['count_credits_grt_500_3M']\n",
    "yt = df_temp['target'].astype(int)\n",
    "\n",
    "optb = OptimalBinning(name='count_credits_grt_500_3M', dtype=\"numerical\", max_n_prebins=4, monotonic_trend='descending')\n",
    "optb.fit(Xt, yt)  \n",
    "\n",
    "Xt_binned = optb.transform(Xt)\n",
    "\n",
    "ob_count_credits_grt_500_3M = optb.binning_table.build()\n",
    "\n",
    "optb.binning_table.plot(metric=\"event_rate\")"
   ]
  },
  {
   "cell_type": "code",
   "execution_count": 44,
   "metadata": {},
   "outputs": [
    {
     "data": {
      "text/html": [
       "<div>\n",
       "<style scoped>\n",
       "    .dataframe tbody tr th:only-of-type {\n",
       "        vertical-align: middle;\n",
       "    }\n",
       "\n",
       "    .dataframe tbody tr th {\n",
       "        vertical-align: top;\n",
       "    }\n",
       "\n",
       "    .dataframe thead th {\n",
       "        text-align: right;\n",
       "    }\n",
       "</style>\n",
       "<table border=\"1\" class=\"dataframe\">\n",
       "  <thead>\n",
       "    <tr style=\"text-align: right;\">\n",
       "      <th></th>\n",
       "      <th>Bin</th>\n",
       "      <th>Count</th>\n",
       "      <th>Count (%)</th>\n",
       "      <th>Non-event</th>\n",
       "      <th>Event</th>\n",
       "      <th>Event rate</th>\n",
       "      <th>WoE</th>\n",
       "      <th>IV</th>\n",
       "      <th>JS</th>\n",
       "    </tr>\n",
       "  </thead>\n",
       "  <tbody>\n",
       "    <tr>\n",
       "      <th>0</th>\n",
       "      <td>(-inf, 1.50)</td>\n",
       "      <td>63</td>\n",
       "      <td>0.141573</td>\n",
       "      <td>45</td>\n",
       "      <td>18</td>\n",
       "      <td>0.285714</td>\n",
       "      <td>-0.428389</td>\n",
       "      <td>0.029205</td>\n",
       "      <td>0.003623</td>\n",
       "    </tr>\n",
       "    <tr>\n",
       "      <th>1</th>\n",
       "      <td>[1.50, 15.50)</td>\n",
       "      <td>258</td>\n",
       "      <td>0.579775</td>\n",
       "      <td>206</td>\n",
       "      <td>52</td>\n",
       "      <td>0.201550</td>\n",
       "      <td>0.031953</td>\n",
       "      <td>0.000586</td>\n",
       "      <td>0.000073</td>\n",
       "    </tr>\n",
       "    <tr>\n",
       "      <th>2</th>\n",
       "      <td>[15.50, inf)</td>\n",
       "      <td>124</td>\n",
       "      <td>0.278652</td>\n",
       "      <td>102</td>\n",
       "      <td>22</td>\n",
       "      <td>0.177419</td>\n",
       "      <td>0.189251</td>\n",
       "      <td>0.009429</td>\n",
       "      <td>0.001177</td>\n",
       "    </tr>\n",
       "    <tr>\n",
       "      <th>3</th>\n",
       "      <td>Special</td>\n",
       "      <td>0</td>\n",
       "      <td>0.000000</td>\n",
       "      <td>0</td>\n",
       "      <td>0</td>\n",
       "      <td>0.000000</td>\n",
       "      <td>0.0</td>\n",
       "      <td>0.000000</td>\n",
       "      <td>0.000000</td>\n",
       "    </tr>\n",
       "    <tr>\n",
       "      <th>4</th>\n",
       "      <td>Missing</td>\n",
       "      <td>0</td>\n",
       "      <td>0.000000</td>\n",
       "      <td>0</td>\n",
       "      <td>0</td>\n",
       "      <td>0.000000</td>\n",
       "      <td>0.0</td>\n",
       "      <td>0.000000</td>\n",
       "      <td>0.000000</td>\n",
       "    </tr>\n",
       "    <tr>\n",
       "      <th>Totals</th>\n",
       "      <td></td>\n",
       "      <td>445</td>\n",
       "      <td>1.000000</td>\n",
       "      <td>353</td>\n",
       "      <td>92</td>\n",
       "      <td>0.206742</td>\n",
       "      <td></td>\n",
       "      <td>0.039220</td>\n",
       "      <td>0.004873</td>\n",
       "    </tr>\n",
       "  </tbody>\n",
       "</table>\n",
       "</div>"
      ],
      "text/plain": [
       "                  Bin  Count  Count (%)  Non-event  Event  Event rate  \\\n",
       "0        (-inf, 1.50)     63   0.141573         45     18    0.285714   \n",
       "1       [1.50, 15.50)    258   0.579775        206     52    0.201550   \n",
       "2        [15.50, inf)    124   0.278652        102     22    0.177419   \n",
       "3             Special      0   0.000000          0      0    0.000000   \n",
       "4             Missing      0   0.000000          0      0    0.000000   \n",
       "Totals                   445   1.000000        353     92    0.206742   \n",
       "\n",
       "             WoE        IV        JS  \n",
       "0      -0.428389  0.029205  0.003623  \n",
       "1       0.031953  0.000586  0.000073  \n",
       "2       0.189251  0.009429  0.001177  \n",
       "3            0.0  0.000000  0.000000  \n",
       "4            0.0  0.000000  0.000000  \n",
       "Totals            0.039220  0.004873  "
      ]
     },
     "execution_count": 44,
     "metadata": {},
     "output_type": "execute_result"
    }
   ],
   "source": [
    "ob_count_credits_grt_500_3M"
   ]
  },
  {
   "cell_type": "code",
   "execution_count": 45,
   "metadata": {},
   "outputs": [],
   "source": [
    "# 11\n",
    "# transform\n",
    "col         = 'count_credits_grt_500_3M'\n",
    "conditions  = [ transformed_vars[col] < 1.5,\n",
    "                (transformed_vars[col] >= 1.5 ) & (transformed_vars[col] < 15.5),\n",
    "                transformed_vars[col] >= 15.5 ]\n",
    "\n",
    "choices     = [-0.450862,-0.000945,0.284561]\n",
    "    \n",
    "transformed_vars[\"count_credits_grt_500_3M\"] = np.select(conditions, choices, default=np.nan)"
   ]
  },
  {
   "cell_type": "code",
   "execution_count": 46,
   "metadata": {},
   "outputs": [
    {
     "data": {
      "image/png": "[encoded data removed]",
      "text/plain": [
       "<Figure size 640x480 with 2 Axes>"
      ]
     },
     "metadata": {},
     "output_type": "display_data"
    }
   ],
   "source": [
    "# 12\n",
    "Xt= df_temp['loans_size_6M']\n",
    "yt = df_temp['target'].astype(int)\n",
    "\n",
    "optb = OptimalBinning(name='loans_size_6M', dtype=\"numerical\", max_n_prebins=4, monotonic_trend='descending',special_codes=[0])\n",
    "optb.fit(Xt, yt)  \n",
    "\n",
    "Xt_binned = optb.transform(Xt)\n",
    "\n",
    "ob_loans_size_6M = optb.binning_table.build()\n",
    "\n",
    "optb.binning_table.plot(metric=\"event_rate\")"
   ]
  },
  {
   "cell_type": "code",
   "execution_count": 47,
   "metadata": {},
   "outputs": [
    {
     "data": {
      "text/html": [
       "<div>\n",
       "<style scoped>\n",
       "    .dataframe tbody tr th:only-of-type {\n",
       "        vertical-align: middle;\n",
       "    }\n",
       "\n",
       "    .dataframe tbody tr th {\n",
       "        vertical-align: top;\n",
       "    }\n",
       "\n",
       "    .dataframe thead th {\n",
       "        text-align: right;\n",
       "    }\n",
       "</style>\n",
       "<table border=\"1\" class=\"dataframe\">\n",
       "  <thead>\n",
       "    <tr style=\"text-align: right;\">\n",
       "      <th></th>\n",
       "      <th>Bin</th>\n",
       "      <th>Count</th>\n",
       "      <th>Count (%)</th>\n",
       "      <th>Non-event</th>\n",
       "      <th>Event</th>\n",
       "      <th>Event rate</th>\n",
       "      <th>WoE</th>\n",
       "      <th>IV</th>\n",
       "      <th>JS</th>\n",
       "    </tr>\n",
       "  </thead>\n",
       "  <tbody>\n",
       "    <tr>\n",
       "      <th>0</th>\n",
       "      <td>(-inf, 3316.67)</td>\n",
       "      <td>60</td>\n",
       "      <td>0.134831</td>\n",
       "      <td>41</td>\n",
       "      <td>19</td>\n",
       "      <td>0.316667</td>\n",
       "      <td>-0.575546</td>\n",
       "      <td>0.052015</td>\n",
       "      <td>0.006414</td>\n",
       "    </tr>\n",
       "    <tr>\n",
       "      <th>1</th>\n",
       "      <td>[3316.67, inf)</td>\n",
       "      <td>30</td>\n",
       "      <td>0.067416</td>\n",
       "      <td>27</td>\n",
       "      <td>3</td>\n",
       "      <td>0.100000</td>\n",
       "      <td>0.852545</td>\n",
       "      <td>0.037408</td>\n",
       "      <td>0.004539</td>\n",
       "    </tr>\n",
       "    <tr>\n",
       "      <th>2</th>\n",
       "      <td>Special</td>\n",
       "      <td>355</td>\n",
       "      <td>0.797753</td>\n",
       "      <td>285</td>\n",
       "      <td>70</td>\n",
       "      <td>0.197183</td>\n",
       "      <td>0.059314</td>\n",
       "      <td>0.002758</td>\n",
       "      <td>0.000345</td>\n",
       "    </tr>\n",
       "    <tr>\n",
       "      <th>3</th>\n",
       "      <td>Missing</td>\n",
       "      <td>0</td>\n",
       "      <td>0.000000</td>\n",
       "      <td>0</td>\n",
       "      <td>0</td>\n",
       "      <td>0.000000</td>\n",
       "      <td>0.0</td>\n",
       "      <td>0.000000</td>\n",
       "      <td>0.000000</td>\n",
       "    </tr>\n",
       "    <tr>\n",
       "      <th>Totals</th>\n",
       "      <td></td>\n",
       "      <td>445</td>\n",
       "      <td>1.000000</td>\n",
       "      <td>353</td>\n",
       "      <td>92</td>\n",
       "      <td>0.206742</td>\n",
       "      <td></td>\n",
       "      <td>0.092181</td>\n",
       "      <td>0.011298</td>\n",
       "    </tr>\n",
       "  </tbody>\n",
       "</table>\n",
       "</div>"
      ],
      "text/plain": [
       "                    Bin  Count  Count (%)  Non-event  Event  Event rate  \\\n",
       "0       (-inf, 3316.67)     60   0.134831         41     19    0.316667   \n",
       "1        [3316.67, inf)     30   0.067416         27      3    0.100000   \n",
       "2               Special    355   0.797753        285     70    0.197183   \n",
       "3               Missing      0   0.000000          0      0    0.000000   \n",
       "Totals                     445   1.000000        353     92    0.206742   \n",
       "\n",
       "             WoE        IV        JS  \n",
       "0      -0.575546  0.052015  0.006414  \n",
       "1       0.852545  0.037408  0.004539  \n",
       "2       0.059314  0.002758  0.000345  \n",
       "3            0.0  0.000000  0.000000  \n",
       "Totals            0.092181  0.011298  "
      ]
     },
     "execution_count": 47,
     "metadata": {},
     "output_type": "execute_result"
    }
   ],
   "source": [
    "ob_loans_size_6M"
   ]
  },
  {
   "cell_type": "code",
   "execution_count": 48,
   "metadata": {},
   "outputs": [],
   "source": [
    "# 12\n",
    "# transform\n",
    "col         = 'loans_size_6M'\n",
    "conditions  = [ transformed_vars[col] <= 0,\n",
    "                (transformed_vars[col] > 0 ) & (transformed_vars[col] < 3317),\n",
    "                transformed_vars[col] >= 3317 ]\n",
    "\n",
    "choices     = [0.08126,-0.605012,0.814805]\n",
    "    \n",
    "transformed_vars[\"loans_size_6M\"] = np.select(conditions, choices, default=np.nan)"
   ]
  },
  {
   "cell_type": "code",
   "execution_count": 49,
   "metadata": {},
   "outputs": [
    {
     "data": {
      "image/png": "[encoded data removed]",
      "text/plain": [
       "<Figure size 640x480 with 2 Axes>"
      ]
     },
     "metadata": {},
     "output_type": "display_data"
    }
   ],
   "source": [
    "# 13\n",
    "Xt= df_temp['ratio_loans_size_credit_size_6M']\n",
    "yt = df_temp['target'].astype(int)\n",
    "\n",
    "optb = OptimalBinning(name='ratio_loans_size_credit_size_6M', dtype=\"numerical\", max_n_prebins=4, monotonic_trend='descending',special_codes=[0])\n",
    "optb.fit(Xt, yt)  \n",
    "\n",
    "Xt_binned = optb.transform(Xt)\n",
    "\n",
    "ob_ratio_loans_size_credit_size_6M = optb.binning_table.build()\n",
    "\n",
    "optb.binning_table.plot(metric=\"event_rate\")"
   ]
  },
  {
   "cell_type": "code",
   "execution_count": 50,
   "metadata": {},
   "outputs": [
    {
     "data": {
      "text/html": [
       "<div>\n",
       "<style scoped>\n",
       "    .dataframe tbody tr th:only-of-type {\n",
       "        vertical-align: middle;\n",
       "    }\n",
       "\n",
       "    .dataframe tbody tr th {\n",
       "        vertical-align: top;\n",
       "    }\n",
       "\n",
       "    .dataframe thead th {\n",
       "        text-align: right;\n",
       "    }\n",
       "</style>\n",
       "<table border=\"1\" class=\"dataframe\">\n",
       "  <thead>\n",
       "    <tr style=\"text-align: right;\">\n",
       "      <th></th>\n",
       "      <th>Bin</th>\n",
       "      <th>Count</th>\n",
       "      <th>Count (%)</th>\n",
       "      <th>Non-event</th>\n",
       "      <th>Event</th>\n",
       "      <th>Event rate</th>\n",
       "      <th>WoE</th>\n",
       "      <th>IV</th>\n",
       "      <th>JS</th>\n",
       "    </tr>\n",
       "  </thead>\n",
       "  <tbody>\n",
       "    <tr>\n",
       "      <th>0</th>\n",
       "      <td>(-inf, 1.30)</td>\n",
       "      <td>56</td>\n",
       "      <td>0.125843</td>\n",
       "      <td>42</td>\n",
       "      <td>14</td>\n",
       "      <td>0.250000</td>\n",
       "      <td>-0.246067</td>\n",
       "      <td>0.008168</td>\n",
       "      <td>0.001018</td>\n",
       "    </tr>\n",
       "    <tr>\n",
       "      <th>1</th>\n",
       "      <td>[1.30, inf)</td>\n",
       "      <td>34</td>\n",
       "      <td>0.076404</td>\n",
       "      <td>26</td>\n",
       "      <td>8</td>\n",
       "      <td>0.235294</td>\n",
       "      <td>-0.166024</td>\n",
       "      <td>0.002208</td>\n",
       "      <td>0.000276</td>\n",
       "    </tr>\n",
       "    <tr>\n",
       "      <th>2</th>\n",
       "      <td>Special</td>\n",
       "      <td>355</td>\n",
       "      <td>0.797753</td>\n",
       "      <td>285</td>\n",
       "      <td>70</td>\n",
       "      <td>0.197183</td>\n",
       "      <td>0.059314</td>\n",
       "      <td>0.002758</td>\n",
       "      <td>0.000345</td>\n",
       "    </tr>\n",
       "    <tr>\n",
       "      <th>3</th>\n",
       "      <td>Missing</td>\n",
       "      <td>0</td>\n",
       "      <td>0.000000</td>\n",
       "      <td>0</td>\n",
       "      <td>0</td>\n",
       "      <td>0.000000</td>\n",
       "      <td>0.0</td>\n",
       "      <td>0.000000</td>\n",
       "      <td>0.000000</td>\n",
       "    </tr>\n",
       "    <tr>\n",
       "      <th>Totals</th>\n",
       "      <td></td>\n",
       "      <td>445</td>\n",
       "      <td>1.000000</td>\n",
       "      <td>353</td>\n",
       "      <td>92</td>\n",
       "      <td>0.206742</td>\n",
       "      <td></td>\n",
       "      <td>0.013134</td>\n",
       "      <td>0.001639</td>\n",
       "    </tr>\n",
       "  </tbody>\n",
       "</table>\n",
       "</div>"
      ],
      "text/plain": [
       "                 Bin  Count  Count (%)  Non-event  Event  Event rate  \\\n",
       "0       (-inf, 1.30)     56   0.125843         42     14    0.250000   \n",
       "1        [1.30, inf)     34   0.076404         26      8    0.235294   \n",
       "2            Special    355   0.797753        285     70    0.197183   \n",
       "3            Missing      0   0.000000          0      0    0.000000   \n",
       "Totals                  445   1.000000        353     92    0.206742   \n",
       "\n",
       "             WoE        IV        JS  \n",
       "0      -0.246067  0.008168  0.001018  \n",
       "1      -0.166024  0.002208  0.000276  \n",
       "2       0.059314  0.002758  0.000345  \n",
       "3            0.0  0.000000  0.000000  \n",
       "Totals            0.013134  0.001639  "
      ]
     },
     "execution_count": 50,
     "metadata": {},
     "output_type": "execute_result"
    }
   ],
   "source": [
    "ob_ratio_loans_size_credit_size_6M"
   ]
  },
  {
   "cell_type": "code",
   "execution_count": 51,
   "metadata": {},
   "outputs": [],
   "source": [
    "# 13\n",
    "# transform\n",
    "col         = 'ratio_loans_size_credit_size_6M'\n",
    "conditions  = [ transformed_vars[col] <= 0,\n",
    "                (transformed_vars[col] > 0 ) & (transformed_vars[col] < 1.11),\n",
    "                transformed_vars[col] >= 1.11 ]\n",
    "\n",
    "choices     = [0.08126,-0.389168,-0.107917]\n",
    "    \n",
    "transformed_vars[\"ratio_loans_size_credit_size_6M\"] = np.select(conditions, choices, default=np.nan)"
   ]
  },
  {
   "cell_type": "code",
   "execution_count": 52,
   "metadata": {},
   "outputs": [
    {
     "data": {
      "image/png": "[encoded data removed]",
      "text/plain": [
       "<Figure size 640x480 with 2 Axes>"
      ]
     },
     "metadata": {},
     "output_type": "display_data"
    }
   ],
   "source": [
    "# 14\n",
    "Xt= df_temp['sum_credits_grt_500_1M']\n",
    "yt = df_temp['target'].astype(int)\n",
    "\n",
    "optb = OptimalBinning(name='sum_credits_grt_500_1M', dtype=\"numerical\", max_n_prebins=4, monotonic_trend='descending')\n",
    "optb.fit(Xt, yt)  \n",
    "\n",
    "Xt_binned = optb.transform(Xt)\n",
    "\n",
    "ob_sum_credits_grt_500_1M = optb.binning_table.build()\n",
    "\n",
    "optb.binning_table.plot(metric=\"event_rate\")"
   ]
  },
  {
   "cell_type": "code",
   "execution_count": 53,
   "metadata": {},
   "outputs": [
    {
     "data": {
      "text/html": [
       "<div>\n",
       "<style scoped>\n",
       "    .dataframe tbody tr th:only-of-type {\n",
       "        vertical-align: middle;\n",
       "    }\n",
       "\n",
       "    .dataframe tbody tr th {\n",
       "        vertical-align: top;\n",
       "    }\n",
       "\n",
       "    .dataframe thead th {\n",
       "        text-align: right;\n",
       "    }\n",
       "</style>\n",
       "<table border=\"1\" class=\"dataframe\">\n",
       "  <thead>\n",
       "    <tr style=\"text-align: right;\">\n",
       "      <th></th>\n",
       "      <th>Bin</th>\n",
       "      <th>Count</th>\n",
       "      <th>Count (%)</th>\n",
       "      <th>Non-event</th>\n",
       "      <th>Event</th>\n",
       "      <th>Event rate</th>\n",
       "      <th>WoE</th>\n",
       "      <th>IV</th>\n",
       "      <th>JS</th>\n",
       "    </tr>\n",
       "  </thead>\n",
       "  <tbody>\n",
       "    <tr>\n",
       "      <th>0</th>\n",
       "      <td>(-inf, 4255.33)</td>\n",
       "      <td>192</td>\n",
       "      <td>0.431461</td>\n",
       "      <td>144</td>\n",
       "      <td>48</td>\n",
       "      <td>0.250000</td>\n",
       "      <td>-0.246067</td>\n",
       "      <td>0.028004</td>\n",
       "      <td>0.003492</td>\n",
       "    </tr>\n",
       "    <tr>\n",
       "      <th>1</th>\n",
       "      <td>[4255.33, 6586.72)</td>\n",
       "      <td>58</td>\n",
       "      <td>0.130337</td>\n",
       "      <td>44</td>\n",
       "      <td>14</td>\n",
       "      <td>0.241379</td>\n",
       "      <td>-0.199547</td>\n",
       "      <td>0.005493</td>\n",
       "      <td>0.000686</td>\n",
       "    </tr>\n",
       "    <tr>\n",
       "      <th>2</th>\n",
       "      <td>[6586.72, inf)</td>\n",
       "      <td>195</td>\n",
       "      <td>0.438202</td>\n",
       "      <td>165</td>\n",
       "      <td>30</td>\n",
       "      <td>0.153846</td>\n",
       "      <td>0.360069</td>\n",
       "      <td>0.050890</td>\n",
       "      <td>0.006327</td>\n",
       "    </tr>\n",
       "    <tr>\n",
       "      <th>3</th>\n",
       "      <td>Special</td>\n",
       "      <td>0</td>\n",
       "      <td>0.000000</td>\n",
       "      <td>0</td>\n",
       "      <td>0</td>\n",
       "      <td>0.000000</td>\n",
       "      <td>0.0</td>\n",
       "      <td>0.000000</td>\n",
       "      <td>0.000000</td>\n",
       "    </tr>\n",
       "    <tr>\n",
       "      <th>4</th>\n",
       "      <td>Missing</td>\n",
       "      <td>0</td>\n",
       "      <td>0.000000</td>\n",
       "      <td>0</td>\n",
       "      <td>0</td>\n",
       "      <td>0.000000</td>\n",
       "      <td>0.0</td>\n",
       "      <td>0.000000</td>\n",
       "      <td>0.000000</td>\n",
       "    </tr>\n",
       "    <tr>\n",
       "      <th>Totals</th>\n",
       "      <td></td>\n",
       "      <td>445</td>\n",
       "      <td>1.000000</td>\n",
       "      <td>353</td>\n",
       "      <td>92</td>\n",
       "      <td>0.206742</td>\n",
       "      <td></td>\n",
       "      <td>0.084388</td>\n",
       "      <td>0.010504</td>\n",
       "    </tr>\n",
       "  </tbody>\n",
       "</table>\n",
       "</div>"
      ],
      "text/plain": [
       "                       Bin  Count  Count (%)  Non-event  Event  Event rate  \\\n",
       "0          (-inf, 4255.33)    192   0.431461        144     48    0.250000   \n",
       "1       [4255.33, 6586.72)     58   0.130337         44     14    0.241379   \n",
       "2           [6586.72, inf)    195   0.438202        165     30    0.153846   \n",
       "3                  Special      0   0.000000          0      0    0.000000   \n",
       "4                  Missing      0   0.000000          0      0    0.000000   \n",
       "Totals                        445   1.000000        353     92    0.206742   \n",
       "\n",
       "             WoE        IV        JS  \n",
       "0      -0.246067  0.028004  0.003492  \n",
       "1      -0.199547  0.005493  0.000686  \n",
       "2       0.360069  0.050890  0.006327  \n",
       "3            0.0  0.000000  0.000000  \n",
       "4            0.0  0.000000  0.000000  \n",
       "Totals            0.084388  0.010504  "
      ]
     },
     "execution_count": 53,
     "metadata": {},
     "output_type": "execute_result"
    }
   ],
   "source": [
    "ob_sum_credits_grt_500_1M"
   ]
  },
  {
   "cell_type": "code",
   "execution_count": 54,
   "metadata": {},
   "outputs": [],
   "source": [
    "# 14\n",
    "# transform\n",
    "col         = 'sum_credits_grt_500_1M'\n",
    "conditions  = [ transformed_vars[col] < 6587,\n",
    "                transformed_vars[col] >= 6587 ]\n",
    "\n",
    "choices     = [-0.246067,0.422079]\n",
    "    \n",
    "transformed_vars[\"sum_credits_grt_500_1M\"] = np.select(conditions, choices, default=np.nan)"
   ]
  },
  {
   "cell_type": "code",
   "execution_count": 55,
   "metadata": {},
   "outputs": [
    {
     "data": {
      "image/png": "[encoded data removed]",
      "text/plain": [
       "<Figure size 640x480 with 2 Axes>"
      ]
     },
     "metadata": {},
     "output_type": "display_data"
    }
   ],
   "source": [
    "# 15\n",
    "Xt= df_temp['ach_count_6M']\n",
    "yt = df_temp['target'].astype(int)\n",
    "\n",
    "optb = OptimalBinning(name='ach_count_6M', dtype=\"numerical\", max_n_prebins=4, monotonic_trend='descending')\n",
    "optb.fit(Xt, yt)  \n",
    "\n",
    "Xt_binned = optb.transform(Xt)\n",
    "\n",
    "ob_ach_count_6M = optb.binning_table.build()\n",
    "\n",
    "optb.binning_table.plot(metric=\"event_rate\")"
   ]
  },
  {
   "cell_type": "code",
   "execution_count": 56,
   "metadata": {},
   "outputs": [
    {
     "data": {
      "text/html": [
       "<div>\n",
       "<style scoped>\n",
       "    .dataframe tbody tr th:only-of-type {\n",
       "        vertical-align: middle;\n",
       "    }\n",
       "\n",
       "    .dataframe tbody tr th {\n",
       "        vertical-align: top;\n",
       "    }\n",
       "\n",
       "    .dataframe thead th {\n",
       "        text-align: right;\n",
       "    }\n",
       "</style>\n",
       "<table border=\"1\" class=\"dataframe\">\n",
       "  <thead>\n",
       "    <tr style=\"text-align: right;\">\n",
       "      <th></th>\n",
       "      <th>Bin</th>\n",
       "      <th>Count</th>\n",
       "      <th>Count (%)</th>\n",
       "      <th>Non-event</th>\n",
       "      <th>Event</th>\n",
       "      <th>Event rate</th>\n",
       "      <th>WoE</th>\n",
       "      <th>IV</th>\n",
       "      <th>JS</th>\n",
       "    </tr>\n",
       "  </thead>\n",
       "  <tbody>\n",
       "    <tr>\n",
       "      <th>0</th>\n",
       "      <td>(-inf, 9.50)</td>\n",
       "      <td>394</td>\n",
       "      <td>0.885393</td>\n",
       "      <td>311</td>\n",
       "      <td>83</td>\n",
       "      <td>0.210660</td>\n",
       "      <td>-0.023727</td>\n",
       "      <td>0.000502</td>\n",
       "      <td>0.000063</td>\n",
       "    </tr>\n",
       "    <tr>\n",
       "      <th>1</th>\n",
       "      <td>[9.50, inf)</td>\n",
       "      <td>51</td>\n",
       "      <td>0.114607</td>\n",
       "      <td>42</td>\n",
       "      <td>9</td>\n",
       "      <td>0.176471</td>\n",
       "      <td>0.195766</td>\n",
       "      <td>0.004141</td>\n",
       "      <td>0.000517</td>\n",
       "    </tr>\n",
       "    <tr>\n",
       "      <th>2</th>\n",
       "      <td>Special</td>\n",
       "      <td>0</td>\n",
       "      <td>0.000000</td>\n",
       "      <td>0</td>\n",
       "      <td>0</td>\n",
       "      <td>0.000000</td>\n",
       "      <td>0.0</td>\n",
       "      <td>0.000000</td>\n",
       "      <td>0.000000</td>\n",
       "    </tr>\n",
       "    <tr>\n",
       "      <th>3</th>\n",
       "      <td>Missing</td>\n",
       "      <td>0</td>\n",
       "      <td>0.000000</td>\n",
       "      <td>0</td>\n",
       "      <td>0</td>\n",
       "      <td>0.000000</td>\n",
       "      <td>0.0</td>\n",
       "      <td>0.000000</td>\n",
       "      <td>0.000000</td>\n",
       "    </tr>\n",
       "    <tr>\n",
       "      <th>Totals</th>\n",
       "      <td></td>\n",
       "      <td>445</td>\n",
       "      <td>1.000000</td>\n",
       "      <td>353</td>\n",
       "      <td>92</td>\n",
       "      <td>0.206742</td>\n",
       "      <td></td>\n",
       "      <td>0.004643</td>\n",
       "      <td>0.000580</td>\n",
       "    </tr>\n",
       "  </tbody>\n",
       "</table>\n",
       "</div>"
      ],
      "text/plain": [
       "                 Bin  Count  Count (%)  Non-event  Event  Event rate  \\\n",
       "0       (-inf, 9.50)    394   0.885393        311     83    0.210660   \n",
       "1        [9.50, inf)     51   0.114607         42      9    0.176471   \n",
       "2            Special      0   0.000000          0      0    0.000000   \n",
       "3            Missing      0   0.000000          0      0    0.000000   \n",
       "Totals                  445   1.000000        353     92    0.206742   \n",
       "\n",
       "             WoE        IV        JS  \n",
       "0      -0.023727  0.000502  0.000063  \n",
       "1       0.195766  0.004141  0.000517  \n",
       "2            0.0  0.000000  0.000000  \n",
       "3            0.0  0.000000  0.000000  \n",
       "Totals            0.004643  0.000580  "
      ]
     },
     "execution_count": 56,
     "metadata": {},
     "output_type": "execute_result"
    }
   ],
   "source": [
    "ob_ach_count_6M"
   ]
  },
  {
   "cell_type": "code",
   "execution_count": 57,
   "metadata": {},
   "outputs": [],
   "source": [
    "# 15\n",
    "# transform\n",
    "col         = 'ach_count_6M'\n",
    "conditions  = [ transformed_vars[col] < 6.5,\n",
    "                transformed_vars[col] >= 6.5 ]\n",
    "\n",
    "choices     = [-0.022101,0.149246]\n",
    "    \n",
    "transformed_vars[\"ach_count_6M\"] = np.select(conditions, choices, default=np.nan)"
   ]
  },
  {
   "cell_type": "code",
   "execution_count": 58,
   "metadata": {},
   "outputs": [
    {
     "data": {
      "image/png": "[encoded data removed]",
      "text/plain": [
       "<Figure size 640x480 with 2 Axes>"
      ]
     },
     "metadata": {},
     "output_type": "display_data"
    }
   ],
   "source": [
    "# 16\n",
    "Xt= df_temp['credit_size_3M']\n",
    "yt = df_temp['target'].astype(int)\n",
    "\n",
    "optb = OptimalBinning(name='credit_size_3M', dtype=\"numerical\", max_n_prebins=4, monotonic_trend='descending')\n",
    "optb.fit(Xt, yt)  \n",
    "\n",
    "Xt_binned = optb.transform(Xt)\n",
    "\n",
    "ob_credit_size_3M = optb.binning_table.build()\n",
    "\n",
    "optb.binning_table.plot(metric=\"event_rate\")"
   ]
  },
  {
   "cell_type": "code",
   "execution_count": 59,
   "metadata": {},
   "outputs": [
    {
     "data": {
      "text/html": [
       "<div>\n",
       "<style scoped>\n",
       "    .dataframe tbody tr th:only-of-type {\n",
       "        vertical-align: middle;\n",
       "    }\n",
       "\n",
       "    .dataframe tbody tr th {\n",
       "        vertical-align: top;\n",
       "    }\n",
       "\n",
       "    .dataframe thead th {\n",
       "        text-align: right;\n",
       "    }\n",
       "</style>\n",
       "<table border=\"1\" class=\"dataframe\">\n",
       "  <thead>\n",
       "    <tr style=\"text-align: right;\">\n",
       "      <th></th>\n",
       "      <th>Bin</th>\n",
       "      <th>Count</th>\n",
       "      <th>Count (%)</th>\n",
       "      <th>Non-event</th>\n",
       "      <th>Event</th>\n",
       "      <th>Event rate</th>\n",
       "      <th>WoE</th>\n",
       "      <th>IV</th>\n",
       "      <th>JS</th>\n",
       "    </tr>\n",
       "  </thead>\n",
       "  <tbody>\n",
       "    <tr>\n",
       "      <th>0</th>\n",
       "      <td>(-inf, 330.75)</td>\n",
       "      <td>95</td>\n",
       "      <td>0.213483</td>\n",
       "      <td>57</td>\n",
       "      <td>38</td>\n",
       "      <td>0.400000</td>\n",
       "      <td>-0.939214</td>\n",
       "      <td>0.236279</td>\n",
       "      <td>0.028495</td>\n",
       "    </tr>\n",
       "    <tr>\n",
       "      <th>1</th>\n",
       "      <td>[330.75, 1240.81)</td>\n",
       "      <td>198</td>\n",
       "      <td>0.444944</td>\n",
       "      <td>160</td>\n",
       "      <td>38</td>\n",
       "      <td>0.191919</td>\n",
       "      <td>0.092908</td>\n",
       "      <td>0.003736</td>\n",
       "      <td>0.000467</td>\n",
       "    </tr>\n",
       "    <tr>\n",
       "      <th>2</th>\n",
       "      <td>[1240.81, inf)</td>\n",
       "      <td>152</td>\n",
       "      <td>0.341573</td>\n",
       "      <td>136</td>\n",
       "      <td>16</td>\n",
       "      <td>0.105263</td>\n",
       "      <td>0.795387</td>\n",
       "      <td>0.168110</td>\n",
       "      <td>0.020477</td>\n",
       "    </tr>\n",
       "    <tr>\n",
       "      <th>3</th>\n",
       "      <td>Special</td>\n",
       "      <td>0</td>\n",
       "      <td>0.000000</td>\n",
       "      <td>0</td>\n",
       "      <td>0</td>\n",
       "      <td>0.000000</td>\n",
       "      <td>0.0</td>\n",
       "      <td>0.000000</td>\n",
       "      <td>0.000000</td>\n",
       "    </tr>\n",
       "    <tr>\n",
       "      <th>4</th>\n",
       "      <td>Missing</td>\n",
       "      <td>0</td>\n",
       "      <td>0.000000</td>\n",
       "      <td>0</td>\n",
       "      <td>0</td>\n",
       "      <td>0.000000</td>\n",
       "      <td>0.0</td>\n",
       "      <td>0.000000</td>\n",
       "      <td>0.000000</td>\n",
       "    </tr>\n",
       "    <tr>\n",
       "      <th>Totals</th>\n",
       "      <td></td>\n",
       "      <td>445</td>\n",
       "      <td>1.000000</td>\n",
       "      <td>353</td>\n",
       "      <td>92</td>\n",
       "      <td>0.206742</td>\n",
       "      <td></td>\n",
       "      <td>0.408125</td>\n",
       "      <td>0.049439</td>\n",
       "    </tr>\n",
       "  </tbody>\n",
       "</table>\n",
       "</div>"
      ],
      "text/plain": [
       "                      Bin  Count  Count (%)  Non-event  Event  Event rate  \\\n",
       "0          (-inf, 330.75)     95   0.213483         57     38    0.400000   \n",
       "1       [330.75, 1240.81)    198   0.444944        160     38    0.191919   \n",
       "2          [1240.81, inf)    152   0.341573        136     16    0.105263   \n",
       "3                 Special      0   0.000000          0      0    0.000000   \n",
       "4                 Missing      0   0.000000          0      0    0.000000   \n",
       "Totals                       445   1.000000        353     92    0.206742   \n",
       "\n",
       "             WoE        IV        JS  \n",
       "0      -0.939214  0.236279  0.028495  \n",
       "1       0.092908  0.003736  0.000467  \n",
       "2       0.795387  0.168110  0.020477  \n",
       "3            0.0  0.000000  0.000000  \n",
       "4            0.0  0.000000  0.000000  \n",
       "Totals            0.408125  0.049439  "
      ]
     },
     "execution_count": 59,
     "metadata": {},
     "output_type": "execute_result"
    }
   ],
   "source": [
    "ob_credit_size_3M"
   ]
  },
  {
   "cell_type": "code",
   "execution_count": 60,
   "metadata": {},
   "outputs": [],
   "source": [
    "# 16\n",
    "# transform\n",
    "col         = 'credit_size_3M'\n",
    "conditions  = [ transformed_vars[col] < 178.8,\n",
    "                (transformed_vars[col] >= 178.9 ) & (transformed_vars[col] < 392.56),\n",
    "                (transformed_vars[col] >= 392.56 ) & (transformed_vars[col] < 2274.8),\n",
    "                transformed_vars[col] >= 2274.8 ]\n",
    "\n",
    "choices     = [-1.056997,-0.484478,0.184337,1.294378]\n",
    "    \n",
    "transformed_vars[\"credit_size_3M\"] = np.select(conditions, choices, default=np.nan)"
   ]
  },
  {
   "cell_type": "markdown",
   "metadata": {},
   "source": [
    "#### Model fitting"
   ]
  },
  {
   "cell_type": "code",
   "execution_count": 61,
   "metadata": {},
   "outputs": [],
   "source": [
    "# copy vars\n",
    "X_train = transformed_vars.copy()\n",
    "\n",
    "# hyperparameters\n",
    "params_log_reg = {'penalty': 'l2',\n",
    "                  'random_state': seed,\n",
    "                  'solver': 'liblinear',\n",
    "                  'class_weight': 'balanced'}\n",
    "\n",
    "# model fit\n",
    "logreg_model = classification_models(X_train[feat_list], y_train, params_log_reg, models=['log_reg'])"
   ]
  },
  {
   "cell_type": "code",
   "execution_count": 62,
   "metadata": {},
   "outputs": [
    {
     "name": "stdout",
     "output_type": "stream",
     "text": [
      "CV Scores - [0.67 0.67 0.69]\n",
      "Mean of CV Scores - 0.68\n"
     ]
    }
   ],
   "source": [
    "# train cv scores\n",
    "cv_scores = cross_validation(logreg_model, X_train[feat_list], y_train, scoring='roc_auc', folds=3, seed=seed)\n",
    "print('CV Scores -',np.round(cv_scores, 2))\n",
    "print('Mean of CV Scores -',np.round(np.mean(cv_scores),2))"
   ]
  },
  {
   "cell_type": "code",
   "execution_count": 63,
   "metadata": {},
   "outputs": [
    {
     "data": {
      "application/vnd.plotly.v1+json": {
       "config": {
        "plotlyServerURL": "https://plot.ly"
       },
       "data": [
        {
         "alignmentgroup": "True",
         "hovertemplate": "variable=importance<br>value=%{x}<br>index=%{y}<extra></extra>",
         "legendgroup": "importance",
         "marker": {
          "color": "#636efa",
          "pattern": {
           "shape": ""
          }
         },
         "name": "importance",
         "offsetgroup": "importance",
         "orientation": "h",
         "showlegend": true,
         "textposition": "auto",
         "type": "bar",
         "x": [
          -0.8199781515705383,
          -0.8568593537380625,
          0.7238509144337567,
          -0.3451768389912336,
          -0.35318816812339177,
          -0.1268505987922913,
          0.8656520627948846,
          -0.4215552540585966,
          0.1857240784924589
         ],
         "xaxis": "x",
         "y": [
          "credit_size_3M",
          "pos_size_1M",
          "ratio_amt_credits_less_100_credits_grt_500_3M",
          "median_credit_amt_1M",
          "ratio_pos_size_1M_6M",
          "median_pos_amt_3M",
          "count_credits_grt_500_3M",
          "loans_size_6M",
          "ach_count_6M"
         ],
         "yaxis": "y"
        }
       ],
       "layout": {
        "barmode": "relative",
        "height": 500,
        "legend": {
         "title": {
          "text": "variable"
         },
         "tracegroupgap": 0
        },
        "margin": {
         "t": 60
        },
        "template": {
         "data": {
          "bar": [
           {
            "error_x": {
             "color": "#2a3f5f"
            },
            "error_y": {
             "color": "#2a3f5f"
            },
            "marker": {
             "line": {
              "color": "#E5ECF6",
              "width": 0.5
             },
             "pattern": {
              "fillmode": "overlay",
              "size": 10,
              "solidity": 0.2
             }
            },
            "type": "bar"
           }
          ],
          "barpolar": [
           {
            "marker": {
             "line": {
              "color": "#E5ECF6",
              "width": 0.5
             },
             "pattern": {
              "fillmode": "overlay",
              "size": 10,
              "solidity": 0.2
             }
            },
            "type": "barpolar"
           }
          ],
          "carpet": [
           {
            "aaxis": {
             "endlinecolor": "#2a3f5f",
             "gridcolor": "white",
             "linecolor": "white",
             "minorgridcolor": "white",
             "startlinecolor": "#2a3f5f"
            },
            "baxis": {
             "endlinecolor": "#2a3f5f",
             "gridcolor": "white",
             "linecolor": "white",
             "minorgridcolor": "white",
             "startlinecolor": "#2a3f5f"
            },
            "type": "carpet"
           }
          ],
          "choropleth": [
           {
            "colorbar": {
             "outlinewidth": 0,
             "ticks": ""
            },
            "type": "choropleth"
           }
          ],
          "contour": [
           {
            "colorbar": {
             "outlinewidth": 0,
             "ticks": ""
            },
            "colorscale": [
             [
              0,
              "#0d0887"
             ],
             [
              0.1111111111111111,
              "#46039f"
             ],
             [
              0.2222222222222222,
              "#7201a8"
             ],
             [
              0.3333333333333333,
              "#9c179e"
             ],
             [
              0.4444444444444444,
              "#bd3786"
             ],
             [
              0.5555555555555556,
              "#d8576b"
             ],
             [
              0.6666666666666666,
              "#ed7953"
             ],
             [
              0.7777777777777778,
              "#fb9f3a"
             ],
             [
              0.8888888888888888,
              "#fdca26"
             ],
             [
              1,
              "#f0f921"
             ]
            ],
            "type": "contour"
           }
          ],
          "contourcarpet": [
           {
            "colorbar": {
             "outlinewidth": 0,
             "ticks": ""
            },
            "type": "contourcarpet"
           }
          ],
          "heatmap": [
           {
            "colorbar": {
             "outlinewidth": 0,
             "ticks": ""
            },
            "colorscale": [
             [
              0,
              "#0d0887"
             ],
             [
              0.1111111111111111,
              "#46039f"
             ],
             [
              0.2222222222222222,
              "#7201a8"
             ],
             [
              0.3333333333333333,
              "#9c179e"
             ],
             [
              0.4444444444444444,
              "#bd3786"
             ],
             [
              0.5555555555555556,
              "#d8576b"
             ],
             [
              0.6666666666666666,
              "#ed7953"
             ],
             [
              0.7777777777777778,
              "#fb9f3a"
             ],
             [
              0.8888888888888888,
              "#fdca26"
             ],
             [
              1,
              "#f0f921"
             ]
            ],
            "type": "heatmap"
           }
          ],
          "heatmapgl": [
           {
            "colorbar": {
             "outlinewidth": 0,
             "ticks": ""
            },
            "colorscale": [
             [
              0,
              "#0d0887"
             ],
             [
              0.1111111111111111,
              "#46039f"
             ],
             [
              0.2222222222222222,
              "#7201a8"
             ],
             [
              0.3333333333333333,
              "#9c179e"
             ],
             [
              0.4444444444444444,
              "#bd3786"
             ],
             [
              0.5555555555555556,
              "#d8576b"
             ],
             [
              0.6666666666666666,
              "#ed7953"
             ],
             [
              0.7777777777777778,
              "#fb9f3a"
             ],
             [
              0.8888888888888888,
              "#fdca26"
             ],
             [
              1,
              "#f0f921"
             ]
            ],
            "type": "heatmapgl"
           }
          ],
          "histogram": [
           {
            "marker": {
             "pattern": {
              "fillmode": "overlay",
              "size": 10,
              "solidity": 0.2
             }
            },
            "type": "histogram"
           }
          ],
          "histogram2d": [
           {
            "colorbar": {
             "outlinewidth": 0,
             "ticks": ""
            },
            "colorscale": [
             [
              0,
              "#0d0887"
             ],
             [
              0.1111111111111111,
              "#46039f"
             ],
             [
              0.2222222222222222,
              "#7201a8"
             ],
             [
              0.3333333333333333,
              "#9c179e"
             ],
             [
              0.4444444444444444,
              "#bd3786"
             ],
             [
              0.5555555555555556,
              "#d8576b"
             ],
             [
              0.6666666666666666,
              "#ed7953"
             ],
             [
              0.7777777777777778,
              "#fb9f3a"
             ],
             [
              0.8888888888888888,
              "#fdca26"
             ],
             [
              1,
              "#f0f921"
             ]
            ],
            "type": "histogram2d"
           }
          ],
          "histogram2dcontour": [
           {
            "colorbar": {
             "outlinewidth": 0,
             "ticks": ""
            },
            "colorscale": [
             [
              0,
              "#0d0887"
             ],
             [
              0.1111111111111111,
              "#46039f"
             ],
             [
              0.2222222222222222,
              "#7201a8"
             ],
             [
              0.3333333333333333,
              "#9c179e"
             ],
             [
              0.4444444444444444,
              "#bd3786"
             ],
             [
              0.5555555555555556,
              "#d8576b"
             ],
             [
              0.6666666666666666,
              "#ed7953"
             ],
             [
              0.7777777777777778,
              "#fb9f3a"
             ],
             [
              0.8888888888888888,
              "#fdca26"
             ],
             [
              1,
              "#f0f921"
             ]
            ],
            "type": "histogram2dcontour"
           }
          ],
          "mesh3d": [
           {
            "colorbar": {
             "outlinewidth": 0,
             "ticks": ""
            },
            "type": "mesh3d"
           }
          ],
          "parcoords": [
           {
            "line": {
             "colorbar": {
              "outlinewidth": 0,
              "ticks": ""
             }
            },
            "type": "parcoords"
           }
          ],
          "pie": [
           {
            "automargin": true,
            "type": "pie"
           }
          ],
          "scatter": [
           {
            "fillpattern": {
             "fillmode": "overlay",
             "size": 10,
             "solidity": 0.2
            },
            "type": "scatter"
           }
          ],
          "scatter3d": [
           {
            "line": {
             "colorbar": {
              "outlinewidth": 0,
              "ticks": ""
             }
            },
            "marker": {
             "colorbar": {
              "outlinewidth": 0,
              "ticks": ""
             }
            },
            "type": "scatter3d"
           }
          ],
          "scattercarpet": [
           {
            "marker": {
             "colorbar": {
              "outlinewidth": 0,
              "ticks": ""
             }
            },
            "type": "scattercarpet"
           }
          ],
          "scattergeo": [
           {
            "marker": {
             "colorbar": {
              "outlinewidth": 0,
              "ticks": ""
             }
            },
            "type": "scattergeo"
           }
          ],
          "scattergl": [
           {
            "marker": {
             "colorbar": {
              "outlinewidth": 0,
              "ticks": ""
             }
            },
            "type": "scattergl"
           }
          ],
          "scattermapbox": [
           {
            "marker": {
             "colorbar": {
              "outlinewidth": 0,
              "ticks": ""
             }
            },
            "type": "scattermapbox"
           }
          ],
          "scatterpolar": [
           {
            "marker": {
             "colorbar": {
              "outlinewidth": 0,
              "ticks": ""
             }
            },
            "type": "scatterpolar"
           }
          ],
          "scatterpolargl": [
           {
            "marker": {
             "colorbar": {
              "outlinewidth": 0,
              "ticks": ""
             }
            },
            "type": "scatterpolargl"
           }
          ],
          "scatterternary": [
           {
            "marker": {
             "colorbar": {
              "outlinewidth": 0,
              "ticks": ""
             }
            },
            "type": "scatterternary"
           }
          ],
          "surface": [
           {
            "colorbar": {
             "outlinewidth": 0,
             "ticks": ""
            },
            "colorscale": [
             [
              0,
              "#0d0887"
             ],
             [
              0.1111111111111111,
              "#46039f"
             ],
             [
              0.2222222222222222,
              "#7201a8"
             ],
             [
              0.3333333333333333,
              "#9c179e"
             ],
             [
              0.4444444444444444,
              "#bd3786"
             ],
             [
              0.5555555555555556,
              "#d8576b"
             ],
             [
              0.6666666666666666,
              "#ed7953"
             ],
             [
              0.7777777777777778,
              "#fb9f3a"
             ],
             [
              0.8888888888888888,
              "#fdca26"
             ],
             [
              1,
              "#f0f921"
             ]
            ],
            "type": "surface"
           }
          ],
          "table": [
           {
            "cells": {
             "fill": {
              "color": "#EBF0F8"
             },
             "line": {
              "color": "white"
             }
            },
            "header": {
             "fill": {
              "color": "#C8D4E3"
             },
             "line": {
              "color": "white"
             }
            },
            "type": "table"
           }
          ]
         },
         "layout": {
          "annotationdefaults": {
           "arrowcolor": "#2a3f5f",
           "arrowhead": 0,
           "arrowwidth": 1
          },
          "autotypenumbers": "strict",
          "coloraxis": {
           "colorbar": {
            "outlinewidth": 0,
            "ticks": ""
           }
          },
          "colorscale": {
           "diverging": [
            [
             0,
             "#8e0152"
            ],
            [
             0.1,
             "#c51b7d"
            ],
            [
             0.2,
             "#de77ae"
            ],
            [
             0.3,
             "#f1b6da"
            ],
            [
             0.4,
             "#fde0ef"
            ],
            [
             0.5,
             "#f7f7f7"
            ],
            [
             0.6,
             "#e6f5d0"
            ],
            [
             0.7,
             "#b8e186"
            ],
            [
             0.8,
             "#7fbc41"
            ],
            [
             0.9,
             "#4d9221"
            ],
            [
             1,
             "#276419"
            ]
           ],
           "sequential": [
            [
             0,
             "#0d0887"
            ],
            [
             0.1111111111111111,
             "#46039f"
            ],
            [
             0.2222222222222222,
             "#7201a8"
            ],
            [
             0.3333333333333333,
             "#9c179e"
            ],
            [
             0.4444444444444444,
             "#bd3786"
            ],
            [
             0.5555555555555556,
             "#d8576b"
            ],
            [
             0.6666666666666666,
             "#ed7953"
            ],
            [
             0.7777777777777778,
             "#fb9f3a"
            ],
            [
             0.8888888888888888,
             "#fdca26"
            ],
            [
             1,
             "#f0f921"
            ]
           ],
           "sequentialminus": [
            [
             0,
             "#0d0887"
            ],
            [
             0.1111111111111111,
             "#46039f"
            ],
            [
             0.2222222222222222,
             "#7201a8"
            ],
            [
             0.3333333333333333,
             "#9c179e"
            ],
            [
             0.4444444444444444,
             "#bd3786"
            ],
            [
             0.5555555555555556,
             "#d8576b"
            ],
            [
             0.6666666666666666,
             "#ed7953"
            ],
            [
             0.7777777777777778,
             "#fb9f3a"
            ],
            [
             0.8888888888888888,
             "#fdca26"
            ],
            [
             1,
             "#f0f921"
            ]
           ]
          },
          "colorway": [
           "#636efa",
           "#EF553B",
           "#00cc96",
           "#ab63fa",
           "#FFA15A",
           "#19d3f3",
           "#FF6692",
           "#B6E880",
           "#FF97FF",
           "#FECB52"
          ],
          "font": {
           "color": "#2a3f5f"
          },
          "geo": {
           "bgcolor": "white",
           "lakecolor": "white",
           "landcolor": "#E5ECF6",
           "showlakes": true,
           "showland": true,
           "subunitcolor": "white"
          },
          "hoverlabel": {
           "align": "left"
          },
          "hovermode": "closest",
          "mapbox": {
           "style": "light"
          },
          "paper_bgcolor": "white",
          "plot_bgcolor": "#E5ECF6",
          "polar": {
           "angularaxis": {
            "gridcolor": "white",
            "linecolor": "white",
            "ticks": ""
           },
           "bgcolor": "#E5ECF6",
           "radialaxis": {
            "gridcolor": "white",
            "linecolor": "white",
            "ticks": ""
           }
          },
          "scene": {
           "xaxis": {
            "backgroundcolor": "#E5ECF6",
            "gridcolor": "white",
            "gridwidth": 2,
            "linecolor": "white",
            "showbackground": true,
            "ticks": "",
            "zerolinecolor": "white"
           },
           "yaxis": {
            "backgroundcolor": "#E5ECF6",
            "gridcolor": "white",
            "gridwidth": 2,
            "linecolor": "white",
            "showbackground": true,
            "ticks": "",
            "zerolinecolor": "white"
           },
           "zaxis": {
            "backgroundcolor": "#E5ECF6",
            "gridcolor": "white",
            "gridwidth": 2,
            "linecolor": "white",
            "showbackground": true,
            "ticks": "",
            "zerolinecolor": "white"
           }
          },
          "shapedefaults": {
           "line": {
            "color": "#2a3f5f"
           }
          },
          "ternary": {
           "aaxis": {
            "gridcolor": "white",
            "linecolor": "white",
            "ticks": ""
           },
           "baxis": {
            "gridcolor": "white",
            "linecolor": "white",
            "ticks": ""
           },
           "bgcolor": "#E5ECF6",
           "caxis": {
            "gridcolor": "white",
            "linecolor": "white",
            "ticks": ""
           }
          },
          "title": {
           "x": 0.05
          },
          "xaxis": {
           "automargin": true,
           "gridcolor": "white",
           "linecolor": "white",
           "ticks": "",
           "title": {
            "standoff": 15
           },
           "zerolinecolor": "white",
           "zerolinewidth": 2
          },
          "yaxis": {
           "automargin": true,
           "gridcolor": "white",
           "linecolor": "white",
           "ticks": "",
           "title": {
            "standoff": 15
           },
           "zerolinecolor": "white",
           "zerolinewidth": 2
          }
         }
        },
        "width": 1400,
        "xaxis": {
         "anchor": "y",
         "domain": [
          0,
          1
         ],
         "title": {
          "text": "value"
         }
        },
        "yaxis": {
         "anchor": "x",
         "categoryorder": "total ascending",
         "domain": [
          0,
          1
         ],
         "title": {
          "text": "index"
         }
        }
       }
      }
     },
     "metadata": {},
     "output_type": "display_data"
    },
    {
     "data": {
      "text/html": [
       "<div>\n",
       "<style scoped>\n",
       "    .dataframe tbody tr th:only-of-type {\n",
       "        vertical-align: middle;\n",
       "    }\n",
       "\n",
       "    .dataframe tbody tr th {\n",
       "        vertical-align: top;\n",
       "    }\n",
       "\n",
       "    .dataframe thead th {\n",
       "        text-align: right;\n",
       "    }\n",
       "</style>\n",
       "<table border=\"1\" class=\"dataframe\">\n",
       "  <thead>\n",
       "    <tr style=\"text-align: right;\">\n",
       "      <th></th>\n",
       "      <th>importance</th>\n",
       "    </tr>\n",
       "  </thead>\n",
       "  <tbody>\n",
       "    <tr>\n",
       "      <th>count_credits_grt_500_3M</th>\n",
       "      <td>0.865652</td>\n",
       "    </tr>\n",
       "    <tr>\n",
       "      <th>ratio_amt_credits_less_100_credits_grt_500_3M</th>\n",
       "      <td>0.723851</td>\n",
       "    </tr>\n",
       "    <tr>\n",
       "      <th>ach_count_6M</th>\n",
       "      <td>0.185724</td>\n",
       "    </tr>\n",
       "    <tr>\n",
       "      <th>median_pos_amt_3M</th>\n",
       "      <td>-0.126851</td>\n",
       "    </tr>\n",
       "    <tr>\n",
       "      <th>median_credit_amt_1M</th>\n",
       "      <td>-0.345177</td>\n",
       "    </tr>\n",
       "    <tr>\n",
       "      <th>ratio_pos_size_1M_6M</th>\n",
       "      <td>-0.353188</td>\n",
       "    </tr>\n",
       "    <tr>\n",
       "      <th>loans_size_6M</th>\n",
       "      <td>-0.421555</td>\n",
       "    </tr>\n",
       "    <tr>\n",
       "      <th>credit_size_3M</th>\n",
       "      <td>-0.819978</td>\n",
       "    </tr>\n",
       "    <tr>\n",
       "      <th>pos_size_1M</th>\n",
       "      <td>-0.856859</td>\n",
       "    </tr>\n",
       "  </tbody>\n",
       "</table>\n",
       "</div>"
      ],
      "text/plain": [
       "                                               importance\n",
       "count_credits_grt_500_3M                         0.865652\n",
       "ratio_amt_credits_less_100_credits_grt_500_3M    0.723851\n",
       "ach_count_6M                                     0.185724\n",
       "median_pos_amt_3M                               -0.126851\n",
       "median_credit_amt_1M                            -0.345177\n",
       "ratio_pos_size_1M_6M                            -0.353188\n",
       "loans_size_6M                                   -0.421555\n",
       "credit_size_3M                                  -0.819978\n",
       "pos_size_1M                                     -0.856859"
      ]
     },
     "execution_count": 63,
     "metadata": {},
     "output_type": "execute_result"
    }
   ],
   "source": [
    "# Feature importance\n",
    "feat_imp = feature_importance(logreg_model, X_train[feat_list], show_plot=True)\n",
    "\n",
    "feat_imp.sort_values(by='importance', ascending=False)"
   ]
  },
  {
   "cell_type": "code",
   "execution_count": 96,
   "metadata": {},
   "outputs": [],
   "source": [
    "feat_imp.sort_values(by='importance', ascending=False).to_clipboard()"
   ]
  },
  {
   "cell_type": "code",
   "execution_count": 64,
   "metadata": {},
   "outputs": [],
   "source": [
    "# binning variable transform\n",
    "x_test.fillna(0, inplace=True)\n",
    "\n",
    "transformed_vars = x_test"
   ]
  },
  {
   "cell_type": "code",
   "execution_count": 65,
   "metadata": {},
   "outputs": [],
   "source": [
    "# 1\n",
    "# transform\n",
    "col         = 'stddev_credit_amt_3M'\n",
    "conditions  = [ transformed_vars[col] <= 0, \n",
    "                (transformed_vars[col] > 0 ) & (transformed_vars[col] < 578), \n",
    "                (transformed_vars[col] >= 578 ) & (transformed_vars[col] < 1274), \n",
    "                (transformed_vars[col] >= 1274) & (transformed_vars[col] < 7646),\n",
    "                transformed_vars[col] >= 7646 ]\n",
    "\n",
    "choices     = [0.090405,-0.551449,-0.013445, 0.40452,1.951157]\n",
    "    \n",
    "transformed_vars[\"stddev_credit_amt_3M\"] = np.select(conditions, choices, default=np.nan)\n",
    "\n",
    "# 2\n",
    "# transform\n",
    "col         = 'shops_amt_3M'\n",
    "conditions  = [ transformed_vars[col] <= 0,\n",
    "                (transformed_vars[col] > 0 ) & (transformed_vars[col] < 221.5), \n",
    "                (transformed_vars[col] >= 221.5 ) & (transformed_vars[col] < 2588), \n",
    "                transformed_vars[col] >= 2588 ]\n",
    "\n",
    "choices     = [0.226839,-0.738544,-0.408586,0.38456]\n",
    "    \n",
    "transformed_vars[\"shops_amt_3M\"] = np.select(conditions, choices, default=np.nan)\n",
    "\n",
    "# 3\n",
    "# transform\n",
    "col         = 'pos_size_1M'\n",
    "conditions  = [ transformed_vars[col] < 235.11, \n",
    "                (transformed_vars[col] >= 235.11 ) & (transformed_vars[col] < 979.44), \n",
    "                transformed_vars[col] >= 979.44 ]\n",
    "\n",
    "choices     = [-0.152312,0.159398,1.699843]\n",
    "    \n",
    "transformed_vars[\"pos_size_1M\"] = np.select(conditions, choices, default=np.nan)\n",
    "\n",
    "# 4\n",
    "# transform\n",
    "col         = 'loans_amt_6M'\n",
    "conditions  = [ transformed_vars[col] <= 0, \n",
    "                (transformed_vars[col] > 0 ) & (transformed_vars[col] < 21503),\n",
    "                transformed_vars[col] >= 21503 ]\n",
    "\n",
    "choices     = [0.08126,-0.518001,0.647751]\n",
    "    \n",
    "transformed_vars[\"loans_amt_6M\"] = np.select(conditions, choices, default=np.nan)\n",
    "\n",
    "# 5\n",
    "# transform\n",
    "col         = 'ratio_amt_credits_less_100_credits_grt_500_3M'\n",
    "conditions  = [ transformed_vars[col] <= 0,\n",
    "                transformed_vars[col] > 0 ]\n",
    "\n",
    "choices     = [-0.112536,0.045514]\n",
    "    \n",
    "transformed_vars[\"ratio_amt_credits_less_100_credits_grt_500_3M\"] = np.select(conditions, choices, default=np.nan)\n",
    "\n",
    "# 6\n",
    "# transform\n",
    "col         = 'median_credit_amt_1M'\n",
    "conditions  = [ transformed_vars[col] < 102,\n",
    "                (transformed_vars[col] >= 102 ) & (transformed_vars[col] < 475.2),\n",
    "                transformed_vars[col] >= 475.2 ]\n",
    "\n",
    "choices     = [-0.444738,-0.119068,0.550264]\n",
    "    \n",
    "transformed_vars[\"median_credit_amt_1M\"] = np.select(conditions, choices, default=np.nan)\n",
    "\n",
    "# 7\n",
    "# transform\n",
    "col         = 'ratio_pos_size_1M_6M'\n",
    "conditions  = [ transformed_vars[col] <= 0,\n",
    "                (transformed_vars[col] > 0 ) & (transformed_vars[col] < 1.21),\n",
    "                transformed_vars[col] >= 1.21 ]\n",
    "\n",
    "choices     = [-0.164722,0.141314,1.140227]\n",
    "    \n",
    "transformed_vars[\"ratio_pos_size_1M_6M\"] = np.select(conditions, choices, default=np.nan)\n",
    "\n",
    "# 8\n",
    "# transform\n",
    "col         = 'median_ecom_amt_6M'\n",
    "conditions  = [ transformed_vars[col] <= 0,\n",
    "                (transformed_vars[col] > 0 ) & (transformed_vars[col] < 49.74),\n",
    "                transformed_vars[col] >= 49.74 ]\n",
    "\n",
    "choices     = [0.30558,-0.576309,-0.303226]\n",
    "    \n",
    "transformed_vars[\"median_ecom_amt_6M\"] = np.select(conditions, choices, default=np.nan)\n",
    "\n",
    "# 9\n",
    "# transform\n",
    "col         = 'pos_count_3M'\n",
    "conditions  = [ transformed_vars[col] <= 0,\n",
    "                transformed_vars[col] > 0 ]\n",
    "\n",
    "choices     = [-0.25334,0.201958]\n",
    "    \n",
    "transformed_vars[\"pos_count_3M\"] = np.select(conditions, choices, default=np.nan)\n",
    "\n",
    "# 10\n",
    "# transform\n",
    "col         = 'median_pos_amt_3M'\n",
    "conditions  = [ transformed_vars[col] <= 0,\n",
    "                (transformed_vars[col] > 0 ) & (transformed_vars[col] < 486.25),\n",
    "                transformed_vars[col] >= 486.25 ]\n",
    "\n",
    "choices     = [-0.25334,-0.127284,0.968955]\n",
    "    \n",
    "transformed_vars[\"median_pos_amt_3M\"] = np.select(conditions, choices, default=np.nan)\n",
    "\n",
    "# 11\n",
    "# transform\n",
    "col         = 'count_credits_grt_500_3M'\n",
    "conditions  = [ transformed_vars[col] < 1.5,\n",
    "                (transformed_vars[col] >= 1.5 ) & (transformed_vars[col] < 15.5),\n",
    "                transformed_vars[col] >= 15.5 ]\n",
    "\n",
    "choices     = [-0.450862,-0.000945,0.284561]\n",
    "    \n",
    "transformed_vars[\"count_credits_grt_500_3M\"] = np.select(conditions, choices, default=np.nan)\n",
    "\n",
    "# 12\n",
    "# transform\n",
    "col         = 'loans_size_6M'\n",
    "conditions  = [ transformed_vars[col] <= 0,\n",
    "                (transformed_vars[col] > 0 ) & (transformed_vars[col] < 3317),\n",
    "                transformed_vars[col] >= 3317 ]\n",
    "\n",
    "choices     = [0.08126,-0.605012,0.814805]\n",
    "    \n",
    "transformed_vars[\"loans_size_6M\"] = np.select(conditions, choices, default=np.nan)\n",
    "\n",
    "# 13\n",
    "# transform\n",
    "col         = 'ratio_loans_size_credit_size_6M'\n",
    "conditions  = [ transformed_vars[col] <= 0,\n",
    "                (transformed_vars[col] > 0 ) & (transformed_vars[col] < 1.11),\n",
    "                transformed_vars[col] >= 1.11 ]\n",
    "\n",
    "choices     = [0.08126,-0.389168,-0.107917]\n",
    "    \n",
    "transformed_vars[\"ratio_loans_size_credit_size_6M\"] = np.select(conditions, choices, default=np.nan)\n",
    "\n",
    "# 14\n",
    "# transform\n",
    "col         = 'sum_credits_grt_500_1M'\n",
    "conditions  = [ transformed_vars[col] < 6587,\n",
    "                transformed_vars[col] >= 6587 ]\n",
    "\n",
    "choices     = [-0.246067,0.422079]\n",
    "    \n",
    "transformed_vars[\"sum_credits_grt_500_1M\"] = np.select(conditions, choices, default=np.nan)\n",
    "\n",
    "# 15\n",
    "# transform\n",
    "col         = 'ach_count_6M'\n",
    "conditions  = [ transformed_vars[col] < 6.5,\n",
    "                transformed_vars[col] >= 6.5 ]\n",
    "\n",
    "choices     = [-0.022101,0.149246]\n",
    "    \n",
    "transformed_vars[\"ach_count_6M\"] = np.select(conditions, choices, default=np.nan)\n",
    "\n",
    "# 16\n",
    "# transform\n",
    "col         = 'credit_size_3M'\n",
    "conditions  = [ transformed_vars[col] < 178.8,\n",
    "                (transformed_vars[col] >= 178.9 ) & (transformed_vars[col] < 392.56),\n",
    "                (transformed_vars[col] >= 392.56 ) & (transformed_vars[col] < 2274.8),\n",
    "                transformed_vars[col] >= 2274.8 ]\n",
    "\n",
    "choices     = [-1.056997,-0.484478,0.184337,1.294378]\n",
    "    \n",
    "transformed_vars[\"credit_size_3M\"] = np.select(conditions, choices, default=np.nan)"
   ]
  },
  {
   "cell_type": "code",
   "execution_count": 66,
   "metadata": {},
   "outputs": [],
   "source": [
    "# copy\n",
    "X_test = transformed_vars.copy()"
   ]
  },
  {
   "cell_type": "code",
   "execution_count": 67,
   "metadata": {},
   "outputs": [
    {
     "name": "stdout",
     "output_type": "stream",
     "text": [
      "CV Scores - [0.59 0.63 0.54]\n",
      "Mean of CV Scores - 0.59\n"
     ]
    }
   ],
   "source": [
    "# test cv scores\n",
    "cv_scores = cross_validation(logreg_model, X_test[feat_list], y_test, scoring='roc_auc', folds=3, seed=seed)\n",
    "print('CV Scores -',np.round(cv_scores, 2))\n",
    "print('Mean of CV Scores -',np.round(np.mean(cv_scores),2))"
   ]
  },
  {
   "cell_type": "code",
   "execution_count": 68,
   "metadata": {},
   "outputs": [],
   "source": [
    "## Model Evaluation - KS & ROC AUC\n",
    "\n",
    "def ks(target=None, prob=None):\n",
    "    data = pd.DataFrame()\n",
    "    data['y'] = target\n",
    "    data['y'] = data['y'].astype(float)\n",
    "    data['p'] = prob\n",
    "    data['y0'] = 1- data['y']\n",
    "    data['bucket'] = pd.qcut(data['p'], 5, duplicates = 'drop')\n",
    "    grouped = data.groupby('bucket', as_index=False)\n",
    "    kstable = pd.DataFrame()\n",
    "    kstable['min_prob'] = grouped.min()['p']\n",
    "    kstable['max_prob'] = grouped.max()['p']\n",
    "    kstable['events'] = grouped.sum()['y']\n",
    "    kstable['nonevents'] = grouped.sum()['y0']\n",
    "    kstable = kstable.sort_values(by='min_prob', ascending=False).reset_index(drop=True)\n",
    "    kstable['event_rate'] = (kstable.events / data['y'].sum()).apply('{0:.2%}'.format)\n",
    "    kstable['nonevent_rate'] = (kstable['nonevents'] /  data['y0'].sum()).apply('{0:2%}'.format)\n",
    "    kstable['cum_eventrate'] = (kstable.events / data['y'].sum()).cumsum()\n",
    "    kstable['cum_noneventrate'] = (kstable.nonevents / data['y0'].sum()).cumsum()\n",
    "    kstable['KS'] = np.round(kstable['cum_eventrate'] - kstable['cum_noneventrate'], 3) * 100\n",
    "    kstable['bad_rate'] = (kstable['events'] / (kstable['events'] + kstable['nonevents'])) * 100\n",
    "    \n",
    "    # formatting\n",
    "    kstable['cum_eventrate'] = kstable['cum_eventrate'].apply('{0:.2%}'.format)\n",
    "    kstable['cum_noneventrate'] = kstable['cum_noneventrate'].apply('{0:.2%}'.format)\n",
    "    # kstable.index = range(1,len(data['bucket'].unique())+1)\n",
    "    # kstable.index.rename('Decile', inplace=True)\n",
    "    pd.set_option('display.max_columns', 9)\n",
    "    print(kstable)\n",
    "    \n",
    "    # Display KS\n",
    "    print(\"KS is \" + str(max(kstable['KS']))+\"%\"+ \" at decile \" + str((kstable.index[kstable['KS']==max(kstable['KS'])][0])))\n",
    "    return kstable"
   ]
  },
  {
   "cell_type": "code",
   "execution_count": 69,
   "metadata": {},
   "outputs": [
    {
     "name": "stdout",
     "output_type": "stream",
     "text": [
      "   min_prob  max_prob  events  nonevents  ... cum_eventrate cum_noneventrate  \\\n",
      "0  0.631069  0.820957    35.0       47.0  ...        38.04%           13.31%   \n",
      "1  0.533721  0.628923    22.0       74.0  ...        61.96%           34.28%   \n",
      "2  0.456239  0.530817    19.0       68.0  ...        82.61%           53.54%   \n",
      "3  0.264609  0.455167    13.0       78.0  ...        96.74%           75.64%   \n",
      "4  0.035467  0.261540     3.0       86.0  ...       100.00%          100.00%   \n",
      "\n",
      "     KS   bad_rate  \n",
      "0  24.7  42.682927  \n",
      "1  27.7  22.916667  \n",
      "2  29.1  21.839080  \n",
      "3  21.1  14.285714  \n",
      "4   0.0   3.370787  \n",
      "\n",
      "[5 rows x 10 columns]\n",
      "KS is 29.099999999999998% at decile 2\n",
      "   min_prob  max_prob  events  nonevents  ... cum_eventrate cum_noneventrate  \\\n",
      "0  0.654689  0.801988    17.0       21.0  ...        42.50%           13.82%   \n",
      "1  0.532905  0.649594     9.0       30.0  ...        65.00%           33.55%   \n",
      "2  0.472630  0.530325     6.0       31.0  ...        80.00%           53.95%   \n",
      "3  0.371624  0.468100     5.0       32.0  ...        92.50%           75.00%   \n",
      "4  0.044590  0.341189     3.0       38.0  ...       100.00%          100.00%   \n",
      "\n",
      "     KS   bad_rate  \n",
      "0  28.7  44.736842  \n",
      "1  31.4  23.076923  \n",
      "2  26.1  16.216216  \n",
      "3  17.5  13.513514  \n",
      "4   0.0   7.317073  \n",
      "\n",
      "[5 rows x 10 columns]\n",
      "KS is 31.4% at decile 1\n"
     ]
    }
   ],
   "source": [
    "# predicted proability\n",
    "train_pred = logreg_model.predict_proba(X_train[feat_list])[:,1]\n",
    "                                                                     \n",
    "test_pred = logreg_model.predict_proba(X_test[feat_list])[:,1]\n",
    "\n",
    "\n",
    "train_ks = ks(y_train, train_pred)\n",
    "test_ks = ks(y_test, test_pred)\n",
    "\n"
   ]
  },
  {
   "cell_type": "code",
   "execution_count": 91,
   "metadata": {},
   "outputs": [
    {
     "name": "stdout",
     "output_type": "stream",
     "text": [
      "   min_prob  max_prob  events  nonevents  ... cum_eventrate cum_noneventrate  \\\n",
      "0  0.654689  0.801988    17.0       21.0  ...        42.50%           13.82%   \n",
      "1  0.532905  0.649594     9.0       30.0  ...        65.00%           33.55%   \n",
      "2  0.472630  0.530325     6.0       31.0  ...        80.00%           53.95%   \n",
      "3  0.371624  0.468100     5.0       32.0  ...        92.50%           75.00%   \n",
      "4  0.044590  0.341189     3.0       38.0  ...       100.00%          100.00%   \n",
      "\n",
      "     KS   bad_rate  \n",
      "0  28.7  44.736842  \n",
      "1  31.4  23.076923  \n",
      "2  26.1  16.216216  \n",
      "3  17.5  13.513514  \n",
      "4   0.0   7.317073  \n",
      "\n",
      "[5 rows x 10 columns]\n",
      "KS is 31.4% at decile 1\n"
     ]
    },
    {
     "data": {
      "text/html": [
       "<div>\n",
       "<style scoped>\n",
       "    .dataframe tbody tr th:only-of-type {\n",
       "        vertical-align: middle;\n",
       "    }\n",
       "\n",
       "    .dataframe tbody tr th {\n",
       "        vertical-align: top;\n",
       "    }\n",
       "\n",
       "    .dataframe thead th {\n",
       "        text-align: right;\n",
       "    }\n",
       "</style>\n",
       "<table border=\"1\" class=\"dataframe\">\n",
       "  <thead>\n",
       "    <tr style=\"text-align: right;\">\n",
       "      <th></th>\n",
       "      <th>min_prob</th>\n",
       "      <th>max_prob</th>\n",
       "      <th>events</th>\n",
       "      <th>nonevents</th>\n",
       "      <th>...</th>\n",
       "      <th>cum_eventrate</th>\n",
       "      <th>cum_noneventrate</th>\n",
       "      <th>KS</th>\n",
       "      <th>bad_rate</th>\n",
       "    </tr>\n",
       "  </thead>\n",
       "  <tbody>\n",
       "    <tr>\n",
       "      <th>0</th>\n",
       "      <td>0.654689</td>\n",
       "      <td>0.801988</td>\n",
       "      <td>17.0</td>\n",
       "      <td>21.0</td>\n",
       "      <td>...</td>\n",
       "      <td>42.50%</td>\n",
       "      <td>13.82%</td>\n",
       "      <td>28.7</td>\n",
       "      <td>44.736842</td>\n",
       "    </tr>\n",
       "    <tr>\n",
       "      <th>1</th>\n",
       "      <td>0.532905</td>\n",
       "      <td>0.649594</td>\n",
       "      <td>9.0</td>\n",
       "      <td>30.0</td>\n",
       "      <td>...</td>\n",
       "      <td>65.00%</td>\n",
       "      <td>33.55%</td>\n",
       "      <td>31.4</td>\n",
       "      <td>23.076923</td>\n",
       "    </tr>\n",
       "    <tr>\n",
       "      <th>2</th>\n",
       "      <td>0.472630</td>\n",
       "      <td>0.530325</td>\n",
       "      <td>6.0</td>\n",
       "      <td>31.0</td>\n",
       "      <td>...</td>\n",
       "      <td>80.00%</td>\n",
       "      <td>53.95%</td>\n",
       "      <td>26.1</td>\n",
       "      <td>16.216216</td>\n",
       "    </tr>\n",
       "    <tr>\n",
       "      <th>3</th>\n",
       "      <td>0.371624</td>\n",
       "      <td>0.468100</td>\n",
       "      <td>5.0</td>\n",
       "      <td>32.0</td>\n",
       "      <td>...</td>\n",
       "      <td>92.50%</td>\n",
       "      <td>75.00%</td>\n",
       "      <td>17.5</td>\n",
       "      <td>13.513514</td>\n",
       "    </tr>\n",
       "    <tr>\n",
       "      <th>4</th>\n",
       "      <td>0.044590</td>\n",
       "      <td>0.341189</td>\n",
       "      <td>3.0</td>\n",
       "      <td>38.0</td>\n",
       "      <td>...</td>\n",
       "      <td>100.00%</td>\n",
       "      <td>100.00%</td>\n",
       "      <td>0.0</td>\n",
       "      <td>7.317073</td>\n",
       "    </tr>\n",
       "  </tbody>\n",
       "</table>\n",
       "<p>5 rows × 10 columns</p>\n",
       "</div>"
      ],
      "text/plain": [
       "   min_prob  max_prob  events  nonevents  ... cum_eventrate cum_noneventrate  \\\n",
       "0  0.654689  0.801988    17.0       21.0  ...        42.50%           13.82%   \n",
       "1  0.532905  0.649594     9.0       30.0  ...        65.00%           33.55%   \n",
       "2  0.472630  0.530325     6.0       31.0  ...        80.00%           53.95%   \n",
       "3  0.371624  0.468100     5.0       32.0  ...        92.50%           75.00%   \n",
       "4  0.044590  0.341189     3.0       38.0  ...       100.00%          100.00%   \n",
       "\n",
       "     KS   bad_rate  \n",
       "0  28.7  44.736842  \n",
       "1  31.4  23.076923  \n",
       "2  26.1  16.216216  \n",
       "3  17.5  13.513514  \n",
       "4   0.0   7.317073  \n",
       "\n",
       "[5 rows x 10 columns]"
      ]
     },
     "execution_count": 91,
     "metadata": {},
     "output_type": "execute_result"
    }
   ],
   "source": [
    "ks(y_test, test_pred)"
   ]
  },
  {
   "cell_type": "code",
   "execution_count": 70,
   "metadata": {},
   "outputs": [
    {
     "name": "stdout",
     "output_type": "stream",
     "text": [
      "Train AUC = 0.7142967114176624\n",
      "Test AUC = 0.704358552631579\n"
     ]
    }
   ],
   "source": [
    "# AUC scores\n",
    "print('Train AUC = {}'.format(roc_auc_score(y_train, train_pred)))   \n",
    "  \n",
    "print('Test AUC = {}'.format(roc_auc_score(y_test, test_pred)))    "
   ]
  },
  {
   "cell_type": "code",
   "execution_count": 93,
   "metadata": {},
   "outputs": [
    {
     "data": {
      "text/html": [
       "<div>\n",
       "<style scoped>\n",
       "    .dataframe tbody tr th:only-of-type {\n",
       "        vertical-align: middle;\n",
       "    }\n",
       "\n",
       "    .dataframe tbody tr th {\n",
       "        vertical-align: top;\n",
       "    }\n",
       "\n",
       "    .dataframe thead th {\n",
       "        text-align: right;\n",
       "    }\n",
       "</style>\n",
       "<table border=\"1\" class=\"dataframe\">\n",
       "  <thead>\n",
       "    <tr style=\"text-align: right;\">\n",
       "      <th></th>\n",
       "      <th>min_prob</th>\n",
       "      <th>max_prob</th>\n",
       "      <th>events</th>\n",
       "      <th>nonevents</th>\n",
       "      <th>...</th>\n",
       "      <th>cum_eventrate</th>\n",
       "      <th>cum_noneventrate</th>\n",
       "      <th>KS</th>\n",
       "      <th>bad_rate</th>\n",
       "    </tr>\n",
       "  </thead>\n",
       "  <tbody>\n",
       "    <tr>\n",
       "      <th>0</th>\n",
       "      <td>0.631069</td>\n",
       "      <td>0.820957</td>\n",
       "      <td>35.0</td>\n",
       "      <td>47.0</td>\n",
       "      <td>...</td>\n",
       "      <td>38.04%</td>\n",
       "      <td>13.31%</td>\n",
       "      <td>24.7</td>\n",
       "      <td>42.682927</td>\n",
       "    </tr>\n",
       "    <tr>\n",
       "      <th>1</th>\n",
       "      <td>0.533721</td>\n",
       "      <td>0.628923</td>\n",
       "      <td>22.0</td>\n",
       "      <td>74.0</td>\n",
       "      <td>...</td>\n",
       "      <td>61.96%</td>\n",
       "      <td>34.28%</td>\n",
       "      <td>27.7</td>\n",
       "      <td>22.916667</td>\n",
       "    </tr>\n",
       "    <tr>\n",
       "      <th>2</th>\n",
       "      <td>0.456239</td>\n",
       "      <td>0.530817</td>\n",
       "      <td>19.0</td>\n",
       "      <td>68.0</td>\n",
       "      <td>...</td>\n",
       "      <td>82.61%</td>\n",
       "      <td>53.54%</td>\n",
       "      <td>29.1</td>\n",
       "      <td>21.839080</td>\n",
       "    </tr>\n",
       "    <tr>\n",
       "      <th>3</th>\n",
       "      <td>0.264609</td>\n",
       "      <td>0.455167</td>\n",
       "      <td>13.0</td>\n",
       "      <td>78.0</td>\n",
       "      <td>...</td>\n",
       "      <td>96.74%</td>\n",
       "      <td>75.64%</td>\n",
       "      <td>21.1</td>\n",
       "      <td>14.285714</td>\n",
       "    </tr>\n",
       "    <tr>\n",
       "      <th>4</th>\n",
       "      <td>0.035467</td>\n",
       "      <td>0.261540</td>\n",
       "      <td>3.0</td>\n",
       "      <td>86.0</td>\n",
       "      <td>...</td>\n",
       "      <td>100.00%</td>\n",
       "      <td>100.00%</td>\n",
       "      <td>0.0</td>\n",
       "      <td>3.370787</td>\n",
       "    </tr>\n",
       "  </tbody>\n",
       "</table>\n",
       "<p>5 rows × 10 columns</p>\n",
       "</div>"
      ],
      "text/plain": [
       "   min_prob  max_prob  events  nonevents  ... cum_eventrate cum_noneventrate  \\\n",
       "0  0.631069  0.820957    35.0       47.0  ...        38.04%           13.31%   \n",
       "1  0.533721  0.628923    22.0       74.0  ...        61.96%           34.28%   \n",
       "2  0.456239  0.530817    19.0       68.0  ...        82.61%           53.54%   \n",
       "3  0.264609  0.455167    13.0       78.0  ...        96.74%           75.64%   \n",
       "4  0.035467  0.261540     3.0       86.0  ...       100.00%          100.00%   \n",
       "\n",
       "     KS   bad_rate  \n",
       "0  24.7  42.682927  \n",
       "1  27.7  22.916667  \n",
       "2  29.1  21.839080  \n",
       "3  21.1  14.285714  \n",
       "4   0.0   3.370787  \n",
       "\n",
       "[5 rows x 10 columns]"
      ]
     },
     "execution_count": 93,
     "metadata": {},
     "output_type": "execute_result"
    }
   ],
   "source": [
    "train_ks"
   ]
  },
  {
   "cell_type": "code",
   "execution_count": 95,
   "metadata": {},
   "outputs": [
    {
     "data": {
      "text/html": [
       "<div>\n",
       "<style scoped>\n",
       "    .dataframe tbody tr th:only-of-type {\n",
       "        vertical-align: middle;\n",
       "    }\n",
       "\n",
       "    .dataframe tbody tr th {\n",
       "        vertical-align: top;\n",
       "    }\n",
       "\n",
       "    .dataframe thead th {\n",
       "        text-align: right;\n",
       "    }\n",
       "</style>\n",
       "<table border=\"1\" class=\"dataframe\">\n",
       "  <thead>\n",
       "    <tr style=\"text-align: right;\">\n",
       "      <th></th>\n",
       "      <th>min_prob</th>\n",
       "      <th>max_prob</th>\n",
       "      <th>events</th>\n",
       "      <th>nonevents</th>\n",
       "      <th>...</th>\n",
       "      <th>cum_eventrate</th>\n",
       "      <th>cum_noneventrate</th>\n",
       "      <th>KS</th>\n",
       "      <th>bad_rate</th>\n",
       "    </tr>\n",
       "  </thead>\n",
       "  <tbody>\n",
       "    <tr>\n",
       "      <th>0</th>\n",
       "      <td>0.654689</td>\n",
       "      <td>0.801988</td>\n",
       "      <td>17.0</td>\n",
       "      <td>21.0</td>\n",
       "      <td>...</td>\n",
       "      <td>42.50%</td>\n",
       "      <td>13.82%</td>\n",
       "      <td>28.7</td>\n",
       "      <td>44.736842</td>\n",
       "    </tr>\n",
       "    <tr>\n",
       "      <th>1</th>\n",
       "      <td>0.532905</td>\n",
       "      <td>0.649594</td>\n",
       "      <td>9.0</td>\n",
       "      <td>30.0</td>\n",
       "      <td>...</td>\n",
       "      <td>65.00%</td>\n",
       "      <td>33.55%</td>\n",
       "      <td>31.4</td>\n",
       "      <td>23.076923</td>\n",
       "    </tr>\n",
       "    <tr>\n",
       "      <th>2</th>\n",
       "      <td>0.472630</td>\n",
       "      <td>0.530325</td>\n",
       "      <td>6.0</td>\n",
       "      <td>31.0</td>\n",
       "      <td>...</td>\n",
       "      <td>80.00%</td>\n",
       "      <td>53.95%</td>\n",
       "      <td>26.1</td>\n",
       "      <td>16.216216</td>\n",
       "    </tr>\n",
       "    <tr>\n",
       "      <th>3</th>\n",
       "      <td>0.371624</td>\n",
       "      <td>0.468100</td>\n",
       "      <td>5.0</td>\n",
       "      <td>32.0</td>\n",
       "      <td>...</td>\n",
       "      <td>92.50%</td>\n",
       "      <td>75.00%</td>\n",
       "      <td>17.5</td>\n",
       "      <td>13.513514</td>\n",
       "    </tr>\n",
       "    <tr>\n",
       "      <th>4</th>\n",
       "      <td>0.044590</td>\n",
       "      <td>0.341189</td>\n",
       "      <td>3.0</td>\n",
       "      <td>38.0</td>\n",
       "      <td>...</td>\n",
       "      <td>100.00%</td>\n",
       "      <td>100.00%</td>\n",
       "      <td>0.0</td>\n",
       "      <td>7.317073</td>\n",
       "    </tr>\n",
       "  </tbody>\n",
       "</table>\n",
       "<p>5 rows × 10 columns</p>\n",
       "</div>"
      ],
      "text/plain": [
       "   min_prob  max_prob  events  nonevents  ... cum_eventrate cum_noneventrate  \\\n",
       "0  0.654689  0.801988    17.0       21.0  ...        42.50%           13.82%   \n",
       "1  0.532905  0.649594     9.0       30.0  ...        65.00%           33.55%   \n",
       "2  0.472630  0.530325     6.0       31.0  ...        80.00%           53.95%   \n",
       "3  0.371624  0.468100     5.0       32.0  ...        92.50%           75.00%   \n",
       "4  0.044590  0.341189     3.0       38.0  ...       100.00%          100.00%   \n",
       "\n",
       "     KS   bad_rate  \n",
       "0  28.7  44.736842  \n",
       "1  31.4  23.076923  \n",
       "2  26.1  16.216216  \n",
       "3  17.5  13.513514  \n",
       "4   0.0   7.317073  \n",
       "\n",
       "[5 rows x 10 columns]"
      ]
     },
     "execution_count": 95,
     "metadata": {},
     "output_type": "execute_result"
    }
   ],
   "source": [
    "test_ks"
   ]
  },
  {
   "cell_type": "code",
   "execution_count": 115,
   "metadata": {},
   "outputs": [
    {
     "data": {
      "text/plain": [
       "['credit_size_3M',\n",
       " 'pos_size_1M',\n",
       " 'ratio_amt_credits_less_100_credits_grt_500_3M',\n",
       " 'median_credit_amt_1M',\n",
       " 'ratio_pos_size_1M_6M',\n",
       " 'median_pos_amt_3M',\n",
       " 'count_credits_grt_500_3M',\n",
       " 'loans_size_6M',\n",
       " 'ach_count_6M']"
      ]
     },
     "execution_count": 115,
     "metadata": {},
     "output_type": "execute_result"
    }
   ],
   "source": [
    "feat_list"
   ]
  },
  {
   "cell_type": "code",
   "execution_count": 75,
   "metadata": {},
   "outputs": [
    {
     "data": {
      "text/plain": [
       "count    445.000000\n",
       "mean     620.618276\n",
       "std       76.922737\n",
       "min      469.821422\n",
       "25%      567.703714\n",
       "50%      603.502434\n",
       "75%      663.779833\n",
       "max      887.743320\n",
       "Name: risk_score, dtype: float64"
      ]
     },
     "execution_count": 75,
     "metadata": {},
     "output_type": "execute_result"
    }
   ],
   "source": [
    "# Scoring on train\n",
    "\n",
    "train1 = X_train.copy()\n",
    "train1['pred_proba'] = logreg_model.predict_proba(X_train[feat_list])[:,1]\n",
    "\n",
    "train1['odds'] = train1['pred_proba'] / (1-train1['pred_proba'])\n",
    "train1['log_odds'] = np.log(train1['odds'])\n",
    "train1['risk_score'] = 601.7 - (86.6 * train1['log_odds'])\n",
    "train1.risk_score.describe()"
   ]
  },
  {
   "cell_type": "code",
   "execution_count": 77,
   "metadata": {},
   "outputs": [
    {
     "name": "stdout",
     "output_type": "stream",
     "text": [
      "              precision    recall  f1-score   support\n",
      "\n",
      "       False       0.86      0.73      0.79       353\n",
      "        True       0.34      0.53      0.41        92\n",
      "\n",
      "    accuracy                           0.69       445\n",
      "   macro avg       0.60      0.63      0.60       445\n",
      "weighted avg       0.75      0.69      0.71       445\n",
      "\n",
      "[[257  96]\n",
      " [ 43  49]]\n",
      "0.7142967114176624\n",
      "              precision    recall  f1-score   support\n",
      "\n",
      "       False       0.89      0.76      0.82       152\n",
      "        True       0.41      0.65      0.50        40\n",
      "\n",
      "    accuracy                           0.73       192\n",
      "   macro avg       0.65      0.70      0.66       192\n",
      "weighted avg       0.79      0.73      0.75       192\n",
      "\n",
      "[[115  37]\n",
      " [ 14  26]]\n",
      "0.704358552631579\n",
      "   min_prob  max_prob  events  nonevents  ... cum_eventrate cum_noneventrate  \\\n",
      "0  0.631069  0.820957    35.0       47.0  ...        38.04%           13.31%   \n",
      "1  0.533721  0.628923    22.0       74.0  ...        61.96%           34.28%   \n",
      "2  0.456239  0.530817    19.0       68.0  ...        82.61%           53.54%   \n",
      "3  0.264609  0.455167    13.0       78.0  ...        96.74%           75.64%   \n",
      "4  0.035467  0.261540     3.0       86.0  ...       100.00%          100.00%   \n",
      "\n",
      "     KS   bad_rate  \n",
      "0  24.7  42.682927  \n",
      "1  27.7  22.916667  \n",
      "2  29.1  21.839080  \n",
      "3  21.1  14.285714  \n",
      "4   0.0   3.370787  \n",
      "\n",
      "[5 rows x 10 columns]\n",
      "KS is 29.099999999999998% at decile 2\n",
      "   min_prob  max_prob  events  nonevents  ... cum_eventrate cum_noneventrate  \\\n",
      "0  0.654689  0.801988    17.0       21.0  ...        42.50%           13.82%   \n",
      "1  0.532905  0.649594     9.0       30.0  ...        65.00%           33.55%   \n",
      "2  0.472630  0.530325     6.0       31.0  ...        80.00%           53.95%   \n",
      "3  0.371624  0.468100     5.0       32.0  ...        92.50%           75.00%   \n",
      "4  0.044590  0.341189     3.0       38.0  ...       100.00%          100.00%   \n",
      "\n",
      "     KS   bad_rate  \n",
      "0  28.7  44.736842  \n",
      "1  31.4  23.076923  \n",
      "2  26.1  16.216216  \n",
      "3  17.5  13.513514  \n",
      "4   0.0   7.317073  \n",
      "\n",
      "[5 rows x 10 columns]\n",
      "KS is 31.4% at decile 1\n",
      "              precision    recall  f1-score   support\n",
      "\n",
      "       False       0.84      0.77      0.80       353\n",
      "        True       0.34      0.46      0.39        92\n",
      "\n",
      "    accuracy                           0.70       445\n",
      "   macro avg       0.59      0.61      0.60       445\n",
      "weighted avg       0.74      0.70      0.72       445\n",
      "\n",
      "[[271  82]\n",
      " [ 50  42]]\n",
      "0.7102013794802315\n",
      "              precision    recall  f1-score   support\n",
      "\n",
      "       False       0.88      0.80      0.84       152\n",
      "        True       0.43      0.57      0.49        40\n",
      "\n",
      "    accuracy                           0.76       192\n",
      "   macro avg       0.66      0.69      0.67       192\n",
      "weighted avg       0.79      0.76      0.77       192\n",
      "\n",
      "[[122  30]\n",
      " [ 17  23]]\n",
      "0.7045230263157894\n",
      "   min_prob  max_prob  events  nonevents  ... cum_eventrate cum_noneventrate  \\\n",
      "0  0.284788  0.433259    36.0       46.0  ...        39.13%           13.03%   \n",
      "1  0.230383  0.282972    20.0       76.0  ...        60.87%           34.56%   \n",
      "2  0.192766  0.229234    20.0       67.0  ...        82.61%           53.54%   \n",
      "3  0.118019  0.191957    13.0       78.0  ...        96.74%           75.64%   \n",
      "4  0.027938  0.117536     3.0       86.0  ...       100.00%          100.00%   \n",
      "\n",
      "     KS   bad_rate  \n",
      "0  26.1  43.902439  \n",
      "1  26.3  20.833333  \n",
      "2  29.1  22.988506  \n",
      "3  21.1  14.285714  \n",
      "4   0.0   3.370787  \n",
      "\n",
      "[5 rows x 10 columns]\n",
      "KS is 29.099999999999998% at decile 2\n",
      "   min_prob  max_prob  events  nonevents  ... cum_eventrate cum_noneventrate  \\\n",
      "0  0.299452  0.409788    15.0       24.0  ...        37.50%           15.79%   \n",
      "1  0.231933  0.298844    11.0       26.0  ...        65.00%           32.89%   \n",
      "2  0.201052  0.229171     5.0       30.0  ...        77.50%           52.63%   \n",
      "3  0.144176  0.200751     6.0       35.0  ...        92.50%           75.66%   \n",
      "4  0.033700  0.143494     3.0       37.0  ...       100.00%          100.00%   \n",
      "\n",
      "     KS   bad_rate  \n",
      "0  21.7  38.461538  \n",
      "1  32.1  29.729730  \n",
      "2  24.9  14.285714  \n",
      "3  16.8  14.634146  \n",
      "4   0.0   7.500000  \n",
      "\n",
      "[5 rows x 10 columns]\n",
      "KS is 32.1% at decile 1\n"
     ]
    }
   ],
   "source": [
    "from sklearn.metrics import classification_report, confusion_matrix, roc_auc_score, roc_curve\n",
    "\n",
    "def ml_modelling(model, x_train, x_test, y_train, y_test):\n",
    "\n",
    "    # model.fit(x_train, y_train)\n",
    "    \n",
    "    # threshold tuning\n",
    "    y_hat = model.predict_proba(x_test)\n",
    "    y_hat = y_hat[:,1]\n",
    "    \n",
    "    fpr, tpr, thresholds = roc_curve(y_test, y_hat, pos_label=1)\n",
    "    J = tpr - fpr\n",
    "    ix = np.argmax(J)\n",
    "    best_thresh = thresholds[ix]\n",
    "    \n",
    "    # predictions\n",
    "    y_pred1 = model.predict_proba(x_train)\n",
    "    y_pred2 = model.predict_proba(x_test)\n",
    "    \n",
    "    return model, y_pred1, y_pred2, best_thresh\n",
    "\n",
    "logreg_model, y_hat1, y_hat2, thresh = ml_modelling(logreg_model, X_train[feat_list], X_test[feat_list], y_train.astype(int), y_test.astype(int))\n",
    "\n",
    "def evaluate_model(y_actual, y_pred, y_hat):\n",
    "    y_actual = y_actual.astype(y_pred.dtype)\n",
    "    print(classification_report(y_actual, y_pred))\n",
    "    print(confusion_matrix(y_actual, y_pred))\n",
    "    print(roc_auc_score(y_actual, y_hat))\n",
    "\n",
    "y_pred1 = y_hat1[:,1] >= thresh\n",
    "y_pred2 = y_hat2[:,1] >= thresh\n",
    "\n",
    "evaluate_model(y_train.astype(int), y_pred1, y_hat1[:,1])\n",
    "evaluate_model(y_test.astype(int), y_pred2, y_hat2[:,1])\n",
    "\n",
    "train_ks_thresh = ks(y_train.astype(int), y_hat1[:,1])\n",
    "test_ks_thresh= ks(y_test.astype(int), y_hat2[:,1])\n",
    "\n",
    "## Probability Calibration\n",
    "\n",
    "from sklearn.calibration import CalibratedClassifierCV, calibration_curve\n",
    "\n",
    "platt = CalibratedClassifierCV(logreg_model,  method=\"sigmoid\", cv=3)\n",
    "\n",
    "platt.fit(X_train[feat_list], y_train.astype(int))\n",
    "\n",
    "# threshold tuning\n",
    "\n",
    "platt, y_hat3, y_hat4, thresh = ml_modelling(platt, X_train[feat_list], X_test[feat_list], y_train.astype(int), y_test.astype(int))\n",
    "\n",
    "y_pred3 = y_hat3[:,1] >= thresh\n",
    "y_pred4 = y_hat4[:,1] >= thresh\n",
    "\n",
    "evaluate_model(y_train.astype(int), y_pred3, y_hat3[:,1])\n",
    "evaluate_model(y_test.astype(int), y_pred4, y_hat4[:,1])\n",
    "\n",
    "cal_train_ks = ks(y_train.astype(int), y_hat3[:,1])\n",
    "cal_test_ks= ks(y_test.astype(int), y_hat4[:,1])"
   ]
  },
  {
   "cell_type": "code",
   "execution_count": 80,
   "metadata": {},
   "outputs": [
    {
     "data": {
      "text/plain": [
       "0.25676538025120377"
      ]
     },
     "execution_count": 80,
     "metadata": {},
     "output_type": "execute_result"
    }
   ],
   "source": [
    "thresh"
   ]
  },
  {
   "cell_type": "code",
   "execution_count": null,
   "metadata": {},
   "outputs": [],
   "source": [
    "#### p-values"
   ]
  },
  {
   "cell_type": "code",
   "execution_count": 116,
   "metadata": {},
   "outputs": [],
   "source": [
    "X = X_train[feat_list]\n",
    "y = y_train"
   ]
  },
  {
   "cell_type": "code",
   "execution_count": 127,
   "metadata": {},
   "outputs": [],
   "source": [
    "y = y.astype(int)"
   ]
  },
  {
   "cell_type": "code",
   "execution_count": 131,
   "metadata": {},
   "outputs": [
    {
     "name": "stdout",
     "output_type": "stream",
     "text": [
      "Optimization terminated successfully.\n",
      "         Current function value: 0.459600\n",
      "         Iterations 7\n",
      "const                                            3.430788e-24\n",
      "credit_size_3M                                   8.281001e-04\n",
      "pos_size_1M                                      1.059666e-01\n",
      "ratio_amt_credits_less_100_credits_grt_500_3M    1.733087e-01\n",
      "median_credit_amt_1M                             3.546360e-01\n",
      "ratio_pos_size_1M_6M                             4.306824e-01\n",
      "median_pos_amt_3M                                5.162461e-01\n",
      "count_credits_grt_500_3M                         2.852498e-01\n",
      "loans_size_6M                                    2.447937e-01\n",
      "ach_count_6M                                     9.583780e-01\n",
      "dtype: float64\n"
     ]
    }
   ],
   "source": [
    "import statsmodels.api as sm\n",
    "\n",
    "# X: Your feature matrix\n",
    "# y: Your target variable\n",
    "\n",
    "# Add a constant column to the feature matrix\n",
    "X = sm.add_constant(X)\n",
    "\n",
    "# Fit the logistic regression model\n",
    "logit_model = sm.Logit(y, X)\n",
    "result = logit_model.fit()\n",
    "\n",
    "# Get the p-values for the features\n",
    "p_values = result.pvalues\n",
    "\n",
    "# Print the p-values\n",
    "print(p_values)"
   ]
  },
  {
   "cell_type": "code",
   "execution_count": 97,
   "metadata": {},
   "outputs": [],
   "source": [
    "# cal_train_ks"
   ]
  },
  {
   "cell_type": "code",
   "execution_count": 98,
   "metadata": {},
   "outputs": [],
   "source": [
    "# cal_test_ks"
   ]
  },
  {
   "cell_type": "code",
   "execution_count": 82,
   "metadata": {},
   "outputs": [],
   "source": [
    "# pickle.dump(logreg_model, open('/Users/shashankgupta/Documents/code/git_project/plaid_credit/models/final_model.pkl', 'wb'))"
   ]
  },
  {
   "cell_type": "code",
   "execution_count": null,
   "metadata": {},
   "outputs": [],
   "source": []
  },
  {
   "cell_type": "code",
   "execution_count": null,
   "metadata": {},
   "outputs": [],
   "source": []
  },
  {
   "cell_type": "code",
   "execution_count": null,
   "metadata": {},
   "outputs": [],
   "source": []
  }
 ],
 "metadata": {
  "kernelspec": {
   "display_name": "Python 3.9.17 64-bit ('venv_plaid_credit')",
   "language": "python",
   "name": "python3"
  },
  "language_info": {
   "codemirror_mode": {
    "name": "ipython",
    "version": 3
   },
   "file_extension": ".py",
   "mimetype": "text/x-python",
   "name": "python",
   "nbconvert_exporter": "python",
   "pygments_lexer": "ipython3",
   "version": "3.9.17"
  },
  "orig_nbformat": 4,
  "vscode": {
   "interpreter": {
    "hash": "d9bbc33ec67b6e69663d9524a7cba3ebe2e2de2798633e20e7d227e00dd346ad"
   }
  }
 },
 "nbformat": 4,
 "nbformat_minor": 2
}
