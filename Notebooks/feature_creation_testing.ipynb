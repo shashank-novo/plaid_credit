{
 "cells": [
  {
   "cell_type": "code",
   "execution_count": 1,
   "metadata": {},
   "outputs": [
    {
     "name": "stdout",
     "output_type": "stream",
     "text": [
      "/Users/shashankgupta/Documents/code/git_project/plaid_credit\n",
      "/Users/shashankgupta/Documents/code/git_project/plaid_credit/Code\n"
     ]
    }
   ],
   "source": [
    "import os \n",
    "cwd = os.getcwd()\n",
    "\n",
    "os.chdir('../')\n",
    "cwd = os.getcwd()\n",
    "print(cwd)\n",
    "\n",
    "os.chdir('./code/')\n",
    "cwd = os.getcwd()\n",
    "print(cwd)\n",
    "\n",
    "import pandas as pd \n",
    "import numpy as np \n",
    "import seaborn as sns\n",
    "\n",
    "import pickle \n",
    "import logging\n",
    "\n",
    "\n",
    "from config.config import SQLQuery\n",
    "querySno = SQLQuery('snowflake')"
   ]
  },
  {
   "cell_type": "code",
   "execution_count": 2,
   "metadata": {},
   "outputs": [
    {
     "data": {
      "text/plain": [
       "(753, 18)"
      ]
     },
     "execution_count": 2,
     "metadata": {},
     "output_type": "execute_result"
    }
   ],
   "source": [
    "querySno = SQLQuery('snowflake')\n",
    "test_df = querySno(r\"\"\" \n",
    "select * from prod_db.adhoc.lending_temp_data_check_prod\n",
    "where type = 'credit'\n",
    "\"\"\")\n",
    "test_df.shape"
   ]
  },
  {
   "cell_type": "code",
   "execution_count": 3,
   "metadata": {},
   "outputs": [
    {
     "data": {
      "text/html": [
       "<div>\n",
       "<style scoped>\n",
       "    .dataframe tbody tr th:only-of-type {\n",
       "        vertical-align: middle;\n",
       "    }\n",
       "\n",
       "    .dataframe tbody tr th {\n",
       "        vertical-align: top;\n",
       "    }\n",
       "\n",
       "    .dataframe thead th {\n",
       "        text-align: right;\n",
       "    }\n",
       "</style>\n",
       "<table border=\"1\" class=\"dataframe\">\n",
       "  <thead>\n",
       "    <tr style=\"text-align: right;\">\n",
       "      <th></th>\n",
       "      <th>id</th>\n",
       "      <th>transaction_id</th>\n",
       "      <th>application_id</th>\n",
       "      <th>external_account_id</th>\n",
       "      <th>plaid_account_id</th>\n",
       "      <th>plaid_item_id</th>\n",
       "      <th>description</th>\n",
       "      <th>categories</th>\n",
       "      <th>amount</th>\n",
       "      <th>type</th>\n",
       "      <th>date</th>\n",
       "      <th>retrieved_at</th>\n",
       "      <th>pending</th>\n",
       "      <th>iso_currency_code</th>\n",
       "      <th>meta</th>\n",
       "      <th>merchant_name</th>\n",
       "      <th>created_at</th>\n",
       "      <th>updated_at</th>\n",
       "    </tr>\n",
       "  </thead>\n",
       "  <tbody>\n",
       "    <tr>\n",
       "      <th>0</th>\n",
       "      <td>1da1bbf8-d015-43ef-824a-a2a612eef033</td>\n",
       "      <td>8oVYXpyNAkt3vLL4rNyKCdjXqVg8g1tvdPoxm</td>\n",
       "      <td>3c4f32e9-c92a-4fd5-9303-9365bf5f392e</td>\n",
       "      <td>17c0481f-24ab-4d7f-9d71-35c0630c7407</td>\n",
       "      <td>dv5k6dBVP9cpajjDzP7wiNNJrxbYEgI8J9xEO</td>\n",
       "      <td>d7a23bf6-94f4-4223-9c8b-3b4f53644807</td>\n",
       "      <td>Amazon</td>\n",
       "      <td>Shops</td>\n",
       "      <td>-11.17</td>\n",
       "      <td>credit</td>\n",
       "      <td>2023-04-10 00:00:00</td>\n",
       "      <td>2023-04-15 19:37:31.613 +0530</td>\n",
       "      <td>false</td>\n",
       "      <td>USD</td>\n",
       "      <td>{\"date\": \"2023-04-10\", \"name\": \"Amazon\", \"amou...</td>\n",
       "      <td>None</td>\n",
       "      <td>2023-06-30 11:13:25.315 +0530</td>\n",
       "      <td>2023-06-30 11:13:25.315 +0530</td>\n",
       "    </tr>\n",
       "    <tr>\n",
       "      <th>1</th>\n",
       "      <td>060f7891-d905-4fc5-934c-06c6d8113dee</td>\n",
       "      <td>rD1Njv6V84iAVOOnYoadI6xmXZA0AJUwvzoVB</td>\n",
       "      <td>3c4f32e9-c92a-4fd5-9303-9365bf5f392e</td>\n",
       "      <td>17c0481f-24ab-4d7f-9d71-35c0630c7407</td>\n",
       "      <td>dv5k6dBVP9cpajjDzP7wiNNJrxbYEgI8J9xEO</td>\n",
       "      <td>d7a23bf6-94f4-4223-9c8b-3b4f53644807</td>\n",
       "      <td>Amazon</td>\n",
       "      <td>Shops</td>\n",
       "      <td>-9.62</td>\n",
       "      <td>credit</td>\n",
       "      <td>2023-04-12 00:00:00</td>\n",
       "      <td>2023-04-15 19:37:31.613 +0530</td>\n",
       "      <td>false</td>\n",
       "      <td>USD</td>\n",
       "      <td>{\"date\": \"2023-04-12\", \"name\": \"Amazon\", \"amou...</td>\n",
       "      <td>None</td>\n",
       "      <td>2023-06-30 11:13:25.610 +0530</td>\n",
       "      <td>2023-06-30 11:13:25.610 +0530</td>\n",
       "    </tr>\n",
       "    <tr>\n",
       "      <th>2</th>\n",
       "      <td>6215da27-81d6-4726-b203-9fbe317bf972</td>\n",
       "      <td>4OVYRp0Q3Bs1yAAvp73mUxw6LED3DAUnXvaRR</td>\n",
       "      <td>3c4f32e9-c92a-4fd5-9303-9365bf5f392e</td>\n",
       "      <td>17c0481f-24ab-4d7f-9d71-35c0630c7407</td>\n",
       "      <td>dv5k6dBVP9cpajjDzP7wiNNJrxbYEgI8J9xEO</td>\n",
       "      <td>d7a23bf6-94f4-4223-9c8b-3b4f53644807</td>\n",
       "      <td>Amazon</td>\n",
       "      <td>Shops</td>\n",
       "      <td>-11.76</td>\n",
       "      <td>credit</td>\n",
       "      <td>2023-04-11 00:00:00</td>\n",
       "      <td>2023-04-15 19:37:31.613 +0530</td>\n",
       "      <td>false</td>\n",
       "      <td>USD</td>\n",
       "      <td>{\"date\": \"2023-04-11\", \"name\": \"Amazon\", \"amou...</td>\n",
       "      <td>None</td>\n",
       "      <td>2023-06-30 11:13:25.879 +0530</td>\n",
       "      <td>2023-06-30 11:13:25.879 +0530</td>\n",
       "    </tr>\n",
       "    <tr>\n",
       "      <th>3</th>\n",
       "      <td>a14e9fd5-b4e9-47a9-8edd-9c214b6607ba</td>\n",
       "      <td>8jeRnMEo8Bs58ZKjYo03u7X1m5xdK3iJ4nnzr</td>\n",
       "      <td>3369b5d7-92a0-4d8a-813b-11f34abd34d6</td>\n",
       "      <td>86fc6028-d43b-44af-b73a-066d4020ec4b</td>\n",
       "      <td>X4pBovZ6xQSa7w46MbYbUYMkAwzozYf68QjX8</td>\n",
       "      <td>ab9f8cb3-ee5c-40eb-badc-06c41cbbd2bb</td>\n",
       "      <td>MOBILE DEPOSIT</td>\n",
       "      <td>Transfer,Deposit</td>\n",
       "      <td>-105.00</td>\n",
       "      <td>credit</td>\n",
       "      <td>2023-01-23 00:00:00</td>\n",
       "      <td>2023-01-29 14:37:34.187 +0530</td>\n",
       "      <td>false</td>\n",
       "      <td>USD</td>\n",
       "      <td>{\"date\": \"2023-01-23\", \"name\": \"MOBILE DEPOSIT...</td>\n",
       "      <td>None</td>\n",
       "      <td>2023-06-30 10:43:09.228 +0530</td>\n",
       "      <td>2023-06-30 10:43:09.228 +0530</td>\n",
       "    </tr>\n",
       "    <tr>\n",
       "      <th>4</th>\n",
       "      <td>12bc9161-c567-4104-b1be-5800be000b75</td>\n",
       "      <td>ZxOeQjoD8pu0M4YDLBzmSNw7MLrb9pHVaddEx</td>\n",
       "      <td>3369b5d7-92a0-4d8a-813b-11f34abd34d6</td>\n",
       "      <td>86fc6028-d43b-44af-b73a-066d4020ec4b</td>\n",
       "      <td>X4pBovZ6xQSa7w46MbYbUYMkAwzozYf68QjX8</td>\n",
       "      <td>ab9f8cb3-ee5c-40eb-badc-06c41cbbd2bb</td>\n",
       "      <td>DEPOSIT</td>\n",
       "      <td>Transfer,Deposit</td>\n",
       "      <td>-1240.00</td>\n",
       "      <td>credit</td>\n",
       "      <td>2023-01-20 00:00:00</td>\n",
       "      <td>2023-01-29 14:37:34.187 +0530</td>\n",
       "      <td>false</td>\n",
       "      <td>USD</td>\n",
       "      <td>{\"date\": \"2023-01-20\", \"name\": \"DEPOSIT\", \"amo...</td>\n",
       "      <td>None</td>\n",
       "      <td>2023-06-30 10:43:09.527 +0530</td>\n",
       "      <td>2023-06-30 10:43:09.527 +0530</td>\n",
       "    </tr>\n",
       "  </tbody>\n",
       "</table>\n",
       "</div>"
      ],
      "text/plain": [
       "                                     id  \\\n",
       "0  1da1bbf8-d015-43ef-824a-a2a612eef033   \n",
       "1  060f7891-d905-4fc5-934c-06c6d8113dee   \n",
       "2  6215da27-81d6-4726-b203-9fbe317bf972   \n",
       "3  a14e9fd5-b4e9-47a9-8edd-9c214b6607ba   \n",
       "4  12bc9161-c567-4104-b1be-5800be000b75   \n",
       "\n",
       "                          transaction_id  \\\n",
       "0  8oVYXpyNAkt3vLL4rNyKCdjXqVg8g1tvdPoxm   \n",
       "1  rD1Njv6V84iAVOOnYoadI6xmXZA0AJUwvzoVB   \n",
       "2  4OVYRp0Q3Bs1yAAvp73mUxw6LED3DAUnXvaRR   \n",
       "3  8jeRnMEo8Bs58ZKjYo03u7X1m5xdK3iJ4nnzr   \n",
       "4  ZxOeQjoD8pu0M4YDLBzmSNw7MLrb9pHVaddEx   \n",
       "\n",
       "                         application_id                   external_account_id  \\\n",
       "0  3c4f32e9-c92a-4fd5-9303-9365bf5f392e  17c0481f-24ab-4d7f-9d71-35c0630c7407   \n",
       "1  3c4f32e9-c92a-4fd5-9303-9365bf5f392e  17c0481f-24ab-4d7f-9d71-35c0630c7407   \n",
       "2  3c4f32e9-c92a-4fd5-9303-9365bf5f392e  17c0481f-24ab-4d7f-9d71-35c0630c7407   \n",
       "3  3369b5d7-92a0-4d8a-813b-11f34abd34d6  86fc6028-d43b-44af-b73a-066d4020ec4b   \n",
       "4  3369b5d7-92a0-4d8a-813b-11f34abd34d6  86fc6028-d43b-44af-b73a-066d4020ec4b   \n",
       "\n",
       "                        plaid_account_id  \\\n",
       "0  dv5k6dBVP9cpajjDzP7wiNNJrxbYEgI8J9xEO   \n",
       "1  dv5k6dBVP9cpajjDzP7wiNNJrxbYEgI8J9xEO   \n",
       "2  dv5k6dBVP9cpajjDzP7wiNNJrxbYEgI8J9xEO   \n",
       "3  X4pBovZ6xQSa7w46MbYbUYMkAwzozYf68QjX8   \n",
       "4  X4pBovZ6xQSa7w46MbYbUYMkAwzozYf68QjX8   \n",
       "\n",
       "                          plaid_item_id     description        categories  \\\n",
       "0  d7a23bf6-94f4-4223-9c8b-3b4f53644807          Amazon             Shops   \n",
       "1  d7a23bf6-94f4-4223-9c8b-3b4f53644807          Amazon             Shops   \n",
       "2  d7a23bf6-94f4-4223-9c8b-3b4f53644807          Amazon             Shops   \n",
       "3  ab9f8cb3-ee5c-40eb-badc-06c41cbbd2bb  MOBILE DEPOSIT  Transfer,Deposit   \n",
       "4  ab9f8cb3-ee5c-40eb-badc-06c41cbbd2bb         DEPOSIT  Transfer,Deposit   \n",
       "\n",
       "     amount    type                 date                   retrieved_at  \\\n",
       "0    -11.17  credit  2023-04-10 00:00:00  2023-04-15 19:37:31.613 +0530   \n",
       "1     -9.62  credit  2023-04-12 00:00:00  2023-04-15 19:37:31.613 +0530   \n",
       "2    -11.76  credit  2023-04-11 00:00:00  2023-04-15 19:37:31.613 +0530   \n",
       "3   -105.00  credit  2023-01-23 00:00:00  2023-01-29 14:37:34.187 +0530   \n",
       "4  -1240.00  credit  2023-01-20 00:00:00  2023-01-29 14:37:34.187 +0530   \n",
       "\n",
       "  pending iso_currency_code  \\\n",
       "0   false               USD   \n",
       "1   false               USD   \n",
       "2   false               USD   \n",
       "3   false               USD   \n",
       "4   false               USD   \n",
       "\n",
       "                                                meta merchant_name  \\\n",
       "0  {\"date\": \"2023-04-10\", \"name\": \"Amazon\", \"amou...          None   \n",
       "1  {\"date\": \"2023-04-12\", \"name\": \"Amazon\", \"amou...          None   \n",
       "2  {\"date\": \"2023-04-11\", \"name\": \"Amazon\", \"amou...          None   \n",
       "3  {\"date\": \"2023-01-23\", \"name\": \"MOBILE DEPOSIT...          None   \n",
       "4  {\"date\": \"2023-01-20\", \"name\": \"DEPOSIT\", \"amo...          None   \n",
       "\n",
       "                      created_at                     updated_at  \n",
       "0  2023-06-30 11:13:25.315 +0530  2023-06-30 11:13:25.315 +0530  \n",
       "1  2023-06-30 11:13:25.610 +0530  2023-06-30 11:13:25.610 +0530  \n",
       "2  2023-06-30 11:13:25.879 +0530  2023-06-30 11:13:25.879 +0530  \n",
       "3  2023-06-30 10:43:09.228 +0530  2023-06-30 10:43:09.228 +0530  \n",
       "4  2023-06-30 10:43:09.527 +0530  2023-06-30 10:43:09.527 +0530  "
      ]
     },
     "execution_count": 3,
     "metadata": {},
     "output_type": "execute_result"
    }
   ],
   "source": [
    "test_df.head()"
   ]
  },
  {
   "cell_type": "code",
   "execution_count": 4,
   "metadata": {},
   "outputs": [
    {
     "data": {
      "text/plain": [
       "Index(['id', 'transaction_id', 'application_id', 'external_account_id',\n",
       "       'plaid_account_id', 'plaid_item_id', 'description', 'categories',\n",
       "       'amount', 'type', 'date', 'retrieved_at', 'pending',\n",
       "       'iso_currency_code', 'meta', 'merchant_name', 'created_at',\n",
       "       'updated_at'],\n",
       "      dtype='object')"
      ]
     },
     "execution_count": 4,
     "metadata": {},
     "output_type": "execute_result"
    }
   ],
   "source": [
    "test_df.columns"
   ]
  },
  {
   "cell_type": "code",
   "execution_count": 5,
   "metadata": {},
   "outputs": [],
   "source": [
    "test_df = test_df.rename(columns = {'application_id' : 'business_id'})"
   ]
  },
  {
   "cell_type": "code",
   "execution_count": 6,
   "metadata": {},
   "outputs": [],
   "source": [
    "df = test_df.copy()"
   ]
  },
  {
   "cell_type": "code",
   "execution_count": 7,
   "metadata": {},
   "outputs": [],
   "source": [
    "df.drop('meta',axis=1,inplace=True)"
   ]
  },
  {
   "cell_type": "code",
   "execution_count": 8,
   "metadata": {},
   "outputs": [],
   "source": [
    "df['amount'] = df['amount'].astype('float')\n",
    "df['amount'] = -1*df['amount']"
   ]
  },
  {
   "cell_type": "code",
   "execution_count": 9,
   "metadata": {},
   "outputs": [
    {
     "data": {
      "text/plain": [
       "(753, 17)"
      ]
     },
     "execution_count": 9,
     "metadata": {},
     "output_type": "execute_result"
    }
   ],
   "source": [
    "df.shape"
   ]
  },
  {
   "cell_type": "code",
   "execution_count": 10,
   "metadata": {},
   "outputs": [
    {
     "data": {
      "text/plain": [
       "5"
      ]
     },
     "execution_count": 10,
     "metadata": {},
     "output_type": "execute_result"
    }
   ],
   "source": [
    "len(df['business_id'].unique())"
   ]
  },
  {
   "cell_type": "code",
   "execution_count": 11,
   "metadata": {},
   "outputs": [
    {
     "data": {
      "text/plain": [
       "Index(['id', 'transaction_id', 'business_id', 'external_account_id',\n",
       "       'plaid_account_id', 'plaid_item_id', 'description', 'categories',\n",
       "       'amount', 'type', 'date', 'retrieved_at', 'pending',\n",
       "       'iso_currency_code', 'merchant_name', 'created_at', 'updated_at'],\n",
       "      dtype='object')"
      ]
     },
     "execution_count": 11,
     "metadata": {},
     "output_type": "execute_result"
    }
   ],
   "source": [
    "df.columns"
   ]
  },
  {
   "cell_type": "code",
   "execution_count": 12,
   "metadata": {},
   "outputs": [],
   "source": [
    "import datetime as dt     \n",
    "df['today'] = dt.date.today\n",
    "df['today'] = '2023-07-04'\n",
    "df['today'] = pd.to_datetime(df['today'])\n",
    "df['date'] = df['date'].apply(pd.Timestamp)  # will handle parsing\n",
    "df['datediff'] = (df['today'] - df['date']).dt.days"
   ]
  },
  {
   "cell_type": "code",
   "execution_count": 13,
   "metadata": {},
   "outputs": [],
   "source": [
    "df_copy = df.copy()"
   ]
  },
  {
   "cell_type": "markdown",
   "metadata": {},
   "source": [
    "#### Keywords"
   ]
  },
  {
   "cell_type": "code",
   "execution_count": 14,
   "metadata": {},
   "outputs": [],
   "source": [
    "finance_merchants = ['Affirm','Upstart','Dave','Pennymac','Navient','MoneyLion','Affirm Inc','Wf Home Mtg','Rocket Mortgage','OneMain Financial','Kikoff Lending','Lightstream','Avant','SoFi','Firstmark','Mohela','Dovenmuehle Mortgage','Dept Education','Progressive Leasing','Great Lakes','Mr. Cooper','Dave Inc','Nationstar Dba','GM Financial','Uplift','Chrysler Capital','Flagstar',\t'Loan',\t'Continental Finance',\t'Freedom Mortgage',\t'Fundbox Inc.',\t'Empower',\t'Snap Finance',\t'Sezzle',\t'Dovenmuehle Mtg',\t'Navient Navi',\t'Navient Pmt Spe',\t'Fedloanservicing Stdnt Loan',\t'Earnin',\t'Hmfusa',\t'Sba Loan',\t'American Education Services',\t'Unitedwholesale',\t'Nelnet Loan Serv',\t'Progressivelease',\t'Upstart Network',\t'Netcredit',\t'Con Ed Of Ny',\t'Avant LLC',\t'Install Loan',\t'Quicken Loans',\t'Educational Comp',\t'Bmwfinancial Svs',\t'Of America',\t'To Loan',\t'Possible Finance',\t'Gm Financial',\t'Sofi Securities',\t'Ford Credit',\t'Navient-fdr',\t'Self Lender',\t'Albert',\t'Mariner Finance',\t'Aes Stdnt Loan',\t'Auto Loan',\t'Freedom Mtg',\t'Onemain',\t'Td Auto',\t'Marcus',\t'Cont Finance',\t'Service Finance',\t'Bridgecrest',\t'Credit Acceptance',\t'Mortgage Serv',\t'Quicken Loans Mtg',\t'Vw Credit Tel.',\t'Qoins',\t'Flex Finance',\t'Lending Club',\t'Advance America',\t'Amerihome Mtg',\t'Home Mtg',\t'Guild Mortgage',\t'Onemain Loan',\t'Lakeview Ln Srv',\t'Iphone Citiz',\t'Moneylion',\t'Navi Ed Serv Web',\t'Loancare Serv',\t'Affirm Payment',\t'Self Lender Scc',\t'Small Business Administration',\t'Fedloanservicing',\t'UAS',\t'Caliber Home Loa',\t'Nelnet Loan Srv',\t'United Wholesale Mortgage',\t'Speedy Cash',\t'Edward Jones',\t'Charles Schwab','DreamSpring','Bluevine','INTUIT']\n",
    "finance_keywords = ['loan', 'finance','disburs','cash advance','advance']\n",
    "loan_sba = ['shopify capital', 'knight', 'expansion', 'payin', 'sba', 'ondeck', 'kabbage', 'bluevine', 'headway', 'prosper', 'onramp','direct capital edi','lightstream', 'onemain', 'intuit financ', 'ninja', 'good funding','SoFi']\n",
    "\n",
    "payroll_keywords = ['quickbooks','ADP','Gusto','Paychex flex','Onpay','Paycor','payroll']\n",
    "\n",
    "uber_keywords = ['uber','lyft','car service','ride share']\n",
    "\n",
    "refunds_keywords = ['reverse', 'reversal', 'refund', 'return']\n",
    "\n",
    "pos_keywords1 = ['POS']\n",
    "pos_keywords2 = ['card payment','point of sale']\n",
    "pos_cat = ['ATM']\n",
    "\n",
    "rent_keywords = ['rent', 'airbnb']\n",
    "\n",
    "ecom_keywords = ['shopify', 'ebay','amazon', 'sears', 'target','bigcommerce','shift4shop','opencart','prestashop','magento','wix','woocommerce','godaddy','ecwid','bigcartel','nopcommerce','walmart','costco','home depot','best buy']\n",
    "\n",
    "third_party = ['venmo','zelle','cash app','cashapp','afterpay','paypal','square','digit','acorns','betterment']\n",
    "third_party_cat = ['third party']\n",
    "\n",
    "biz_rev_desc = ['stripe','USAA','capital one','airbnb','rent']\n",
    "service_cat = ['Service','Healthcare','Taxi','education','recreation','gaming','freight','stock broker','photography','real estate','lodging','subscription']\n",
    "shops_cat = ['Shops','gas station','travel','food','digital purchase','restaurants','community','groceries','beauty','fitness','gyms','clothing','sport','florist']\n",
    "bank_fees_cat = ['bank fees']\n",
    "\n",
    "#categories == Service\n",
    "\n"
   ]
  },
  {
   "cell_type": "markdown",
   "metadata": {},
   "source": [
    "#### keywords for transaction categories"
   ]
  },
  {
   "cell_type": "code",
   "execution_count": 15,
   "metadata": {},
   "outputs": [],
   "source": [
    "# keywords for description column\n",
    "finance_keywords = ['loan', 'finance','disburs','cash advance','advance']\n",
    "loan_sba = ['shopify capital', 'knight', 'expansion', 'payin', 'sba', 'ondeck', 'kabbage', 'bluevine', 'headway', 'prosper', 'onramp','direct capital edi','lightstream', 'onemain', 'intuit financ', 'ninja', 'good funding','SoFi','rentsidual']\n",
    "\n",
    "payroll_keywords = ['quickbooks','ADP','Gusto','Paychex flex','Onpay','Paycor','payroll']\n",
    "\n",
    "pos_keywords1 = ['POS']\n",
    "pos_keywords2 = ['card payment','point of sale','square']\n",
    "\n",
    "ecom_keywords = ['shopify', 'ebay','amazon', 'sears', 'target','bigcommerce','shift4shop','opencart','prestashop','magento','wix','woocommerce','godaddy','ecwid','bigcartel','nopcommerce','walmart','costco','home depot','best buy']\n",
    "\n",
    "third_party = ['venmo','zelle','cash app','cashapp','afterpay','paypal','square cash','digit','acorns','betterment','coinbase']\n",
    "\n",
    "service = ['Service','Healthcare','Taxi','education','recreation','gaming','freight','stock broker','photography','real estate','lodging','subscription']\n",
    "shops = ['Shops','gas station','travel','food','digital purchase','restaurants','community','groceries','beauty','fitness','gyms','clothing','sport','florist']\n",
    "\n",
    "biz_rev = ['stripe','USAA','capital one','airbnb','rent','ACH deposit','cash','']\n",
    "biz_rev_cat = ['wire']"
   ]
  },
  {
   "cell_type": "code",
   "execution_count": 16,
   "metadata": {},
   "outputs": [],
   "source": [
    "# keywors for categories column\n",
    "finance_merchants = ['Affirm','Upstart','Dave','Pennymac','Navient','MoneyLion','Affirm Inc','Wf Home Mtg','Rocket Mortgage','OneMain Financial','Kikoff Lending','Lightstream','Avant','SoFi','Firstmark','Mohela','Dovenmuehle Mortgage','Dept Education','Progressive Leasing','Great Lakes','Mr. Cooper','Dave Inc','Nationstar Dba','GM Financial','Uplift','Chrysler Capital','Flagstar',\t'Loan',\t'Continental Finance',\t'Freedom Mortgage',\t'Fundbox Inc.',\t'Empower',\t'Snap Finance',\t'Sezzle',\t'Dovenmuehle Mtg',\t'Navient Navi',\t'Navient Pmt Spe',\t'Fedloanservicing Stdnt Loan',\t'Earnin',\t'Hmfusa',\t'Sba Loan',\t'American Education Services',\t'Unitedwholesale',\t'Nelnet Loan Serv',\t'Progressivelease',\t'Upstart Network',\t'Netcredit',\t'Con Ed Of Ny',\t'Avant LLC',\t'Install Loan',\t'Quicken Loans',\t'Educational Comp',\t'Bmwfinancial Svs',\t'Of America',\t'To Loan',\t'Possible Finance',\t'Gm Financial',\t'Sofi Securities',\t'Ford Credit',\t'Navient-fdr',\t'Self Lender',\t'Albert',\t'Mariner Finance',\t'Aes Stdnt Loan',\t'Auto Loan',\t'Freedom Mtg',\t'Onemain',\t'Td Auto',\t'Marcus',\t'Cont Finance',\t'Service Finance',\t'Bridgecrest',\t'Credit Acceptance',\t'Mortgage Serv',\t'Quicken Loans Mtg',\t'Vw Credit Tel.',\t'Qoins',\t'Flex Finance',\t'Lending Club',\t'Advance America',\t'Amerihome Mtg',\t'Home Mtg',\t'Guild Mortgage',\t'Onemain Loan',\t'Lakeview Ln Srv',\t'Iphone Citiz',\t'Moneylion',\t'Navi Ed Serv Web',\t'Loancare Serv',\t'Affirm Payment',\t'Self Lender Scc',\t'Small Business Administration',\t'Fedloanservicing',\t'UAS',\t'Caliber Home Loa',\t'Nelnet Loan Srv',\t'United Wholesale Mortgage',\t'Speedy Cash',\t'Edward Jones',\t'Charles Schwab','DreamSpring','Bluevine','INTUIT']\n",
    "\n",
    "payroll = ['payroll']\n",
    "\n",
    "pos_cat = ['ATM']\n",
    "\n",
    "third_party_cat = ['third party']\n",
    "\n",
    "service_cat = ['service']\n",
    "shops_cat = ['shops']\n",
    "\n",
    "bank = ['bank fees']\n"
   ]
  },
  {
   "cell_type": "markdown",
   "metadata": {},
   "source": [
    "#### Transaction categorisation"
   ]
  },
  {
   "cell_type": "code",
   "execution_count": 17,
   "metadata": {},
   "outputs": [
    {
     "data": {
      "text/plain": [
       "0    698\n",
       "1     55\n",
       "Name: pos_flag, dtype: int64"
      ]
     },
     "execution_count": 17,
     "metadata": {},
     "output_type": "execute_result"
    }
   ],
   "source": [
    "pos_keywords1 = ['POS']\n",
    "pos_keywords2 = ['card payment','point of sale','square']\n",
    "pos_cat = ['ATM']\n",
    "\n",
    "#POS \n",
    "df['pos_flag'] = 0\n",
    "df.loc[(df['description'].str.contains('|'.join(pos_keywords1))),'pos_flag'] = 1\n",
    "df.loc[(df['description'].str.contains('|'.join(pos_keywords2),case=False)),'pos_flag'] = 1\n",
    "df.loc[(df['categories'].str.contains('|'.join(pos_cat),case=False)),'pos_flag'] = 1\n",
    "\n",
    "df['pos_flag'].value_counts()"
   ]
  },
  {
   "cell_type": "code",
   "execution_count": 18,
   "metadata": {},
   "outputs": [
    {
     "data": {
      "text/plain": [
       "0    752\n",
       "1      1\n",
       "Name: loans_flag, dtype: int64"
      ]
     },
     "execution_count": 18,
     "metadata": {},
     "output_type": "execute_result"
    }
   ],
   "source": [
    "## Loans\n",
    "# merchant\n",
    "finance_merchants = ['Affirm','Upstart','Dave','Pennymac','Navient','MoneyLion','Affirm Inc','Wf Home Mtg','Rocket Mortgage','OneMain Financial','Kikoff Lending','Lightstream','Avant','SoFi','Firstmark','Mohela','Dovenmuehle Mortgage','Dept Education','Progressive Leasing','Great Lakes','Mr. Cooper','Dave Inc','Nationstar Dba','GM Financial','Uplift','Chrysler Capital','Flagstar',\t'Loan',\t'Continental Finance',\t'Freedom Mortgage',\t'Fundbox Inc.',\t'Empower',\t'Snap Finance',\t'Sezzle',\t'Dovenmuehle Mtg',\t'Navient Navi',\t'Navient Pmt Spe',\t'Fedloanservicing Stdnt Loan',\t'Earnin',\t'Hmfusa',\t'Sba Loan',\t'American Education Services',\t'Unitedwholesale',\t'Nelnet Loan Serv',\t'Progressivelease',\t'Upstart Network',\t'Netcredit',\t'Con Ed Of Ny',\t'Avant LLC',\t'Install Loan',\t'Quicken Loans',\t'Educational Comp',\t'Bmwfinancial Svs',\t'Of America',\t'To Loan',\t'Possible Finance',\t'Gm Financial',\t'Sofi Securities',\t'Ford Credit',\t'Navient-fdr',\t'Self Lender',\t'Albert',\t'Mariner Finance',\t'Aes Stdnt Loan',\t'Auto Loan',\t'Freedom Mtg',\t'Onemain',\t'Td Auto',\t'Marcus',\t'Cont Finance',\t'Service Finance',\t'Bridgecrest',\t'Credit Acceptance',\t'Mortgage Serv',\t'Quicken Loans Mtg',\t'Vw Credit Tel.',\t'Qoins',\t'Flex Finance',\t'Lending Club',\t'Advance America',\t'Amerihome Mtg',\t'Home Mtg',\t'Guild Mortgage',\t'Onemain Loan',\t'Lakeview Ln Srv',\t'Iphone Citiz',\t'Moneylion',\t'Navi Ed Serv Web',\t'Loancare Serv',\t'Affirm Payment',\t'Self Lender Scc',\t'Small Business Administration',\t'Fedloanservicing',\t'UAS',\t'Caliber Home Loa',\t'Nelnet Loan Srv',\t'United Wholesale Mortgage',\t'Speedy Cash',\t'Edward Jones',\t'Charles Schwab','DreamSpring','Bluevine','INTUIT']\n",
    "loan_sba = ['shopify capital', 'knight', 'expansion', 'payin', 'sba', 'ondeck', 'kabbage', 'bluevine', 'headway', 'prosper', 'onramp','direct capital edi','lightstream', 'onemain', 'intuit financ', 'ninja', 'good funding','SoFi','rentsidual']\n",
    "finance_keywords = ['loan', 'finance','disburs','cash advance','advance']\n",
    "\n",
    "df['loans_flag'] = 0\n",
    "\n",
    "df.loc[df['merchant_name'].isnull(),'merchant_name'] = ''\n",
    "df.loc[(df['merchant_name'].str.contains('|'.join(finance_merchants), case=False)),'loans_flag'] = 1\n",
    "\n",
    "# desc\n",
    "df.loc[(df['description'].str.contains('|'.join(loan_sba), case=False)),'loans_flag'] = 1\n",
    "df.loc[(df['description'].str.contains('|'.join(finance_keywords), case=False)),'loans_flag'] = 1\n",
    "\n",
    "df['loans_flag'].value_counts()"
   ]
  },
  {
   "cell_type": "code",
   "execution_count": 19,
   "metadata": {},
   "outputs": [
    {
     "data": {
      "text/plain": [
       "0    733\n",
       "1     20\n",
       "Name: payroll_flag, dtype: int64"
      ]
     },
     "execution_count": 19,
     "metadata": {},
     "output_type": "execute_result"
    }
   ],
   "source": [
    "# Payroll\n",
    "df['payroll_flag'] = 0\n",
    "df.loc[(df['description'].str.contains('|'.join(payroll_keywords), case=False)),'payroll_flag'] = 1\n",
    "df.loc[(df['categories'].str.contains('|'.join(payroll), case=False)),'payroll_flag'] = 1\n",
    "\n",
    "df['payroll_flag'].value_counts()"
   ]
  },
  {
   "cell_type": "code",
   "execution_count": 20,
   "metadata": {},
   "outputs": [
    {
     "data": {
      "text/plain": [
       "0    740\n",
       "1     13\n",
       "Name: ecom_flag, dtype: int64"
      ]
     },
     "execution_count": 20,
     "metadata": {},
     "output_type": "execute_result"
    }
   ],
   "source": [
    "#ecom\n",
    "df['ecom_flag'] = 0\n",
    "df.loc[(df['description'].str.contains('|'.join(ecom_keywords), case=False)),'ecom_flag'] = 1\n",
    "df['ecom_flag'].value_counts()"
   ]
  },
  {
   "cell_type": "code",
   "execution_count": 21,
   "metadata": {},
   "outputs": [
    {
     "data": {
      "text/plain": [
       "0    688\n",
       "1     65\n",
       "Name: third_party_flag, dtype: int64"
      ]
     },
     "execution_count": 21,
     "metadata": {},
     "output_type": "execute_result"
    }
   ],
   "source": [
    "#third party\n",
    "df['third_party_flag'] = 0\n",
    "df.loc[(df['description'].str.contains('|'.join(third_party), case=False)),'third_party_flag'] = 1\n",
    "\n",
    "df.loc[(df['categories'].str.contains('|'.join(third_party_cat), case=False)),'third_party_flag'] = 1\n",
    "\n",
    "df['third_party_flag'].value_counts()"
   ]
  },
  {
   "cell_type": "code",
   "execution_count": 22,
   "metadata": {},
   "outputs": [
    {
     "data": {
      "text/plain": [
       "0    729\n",
       "1     24\n",
       "Name: service_flag, dtype: int64"
      ]
     },
     "execution_count": 22,
     "metadata": {},
     "output_type": "execute_result"
    }
   ],
   "source": [
    "#Services\n",
    "df['service_flag'] = 0\n",
    "df.loc[(df['description'].str.contains('|'.join(service), case=False)),'service_flag'] = 1\n",
    "\n",
    "df.loc[(df['categories'].str.contains('|'.join(service_cat), case=False)),'service_flag'] = 1\n",
    "\n",
    "df['service_flag'].value_counts()"
   ]
  },
  {
   "cell_type": "code",
   "execution_count": 23,
   "metadata": {},
   "outputs": [
    {
     "data": {
      "text/plain": [
       "0    730\n",
       "1     23\n",
       "Name: shops_flag, dtype: int64"
      ]
     },
     "execution_count": 23,
     "metadata": {},
     "output_type": "execute_result"
    }
   ],
   "source": [
    "#Shops\n",
    "df['shops_flag'] = 0\n",
    "df.loc[(df['description'].str.contains('|'.join(shops), case=False)),'shops_flag'] = 1\n",
    "\n",
    "df.loc[(df['categories'].str.contains('|'.join(service_cat), case=False)),'shops_flag'] = 1\n",
    "\n",
    "df['shops_flag'].value_counts()"
   ]
  },
  {
   "cell_type": "code",
   "execution_count": 24,
   "metadata": {},
   "outputs": [
    {
     "data": {
      "text/plain": [
       "0    749\n",
       "1      4\n",
       "Name: ach_flag, dtype: int64"
      ]
     },
     "execution_count": 24,
     "metadata": {},
     "output_type": "execute_result"
    }
   ],
   "source": [
    "# ACH\n",
    "df['ach_flag'] = 0\n",
    "df.loc[df['description'].str.contains('ACH'),'ach_flag'] = 1\n",
    "df['ach_flag'].value_counts()"
   ]
  },
  {
   "cell_type": "code",
   "execution_count": 25,
   "metadata": {},
   "outputs": [
    {
     "data": {
      "text/plain": [
       "(753, 27)"
      ]
     },
     "execution_count": 25,
     "metadata": {},
     "output_type": "execute_result"
    }
   ],
   "source": [
    "df.shape"
   ]
  },
  {
   "cell_type": "code",
   "execution_count": 27,
   "metadata": {},
   "outputs": [
    {
     "data": {
      "text/html": [
       "<div>\n",
       "<style scoped>\n",
       "    .dataframe tbody tr th:only-of-type {\n",
       "        vertical-align: middle;\n",
       "    }\n",
       "\n",
       "    .dataframe tbody tr th {\n",
       "        vertical-align: top;\n",
       "    }\n",
       "\n",
       "    .dataframe thead th {\n",
       "        text-align: right;\n",
       "    }\n",
       "</style>\n",
       "<table border=\"1\" class=\"dataframe\">\n",
       "  <thead>\n",
       "    <tr style=\"text-align: right;\">\n",
       "      <th></th>\n",
       "      <th>business_id</th>\n",
       "      <th>amount</th>\n",
       "    </tr>\n",
       "  </thead>\n",
       "  <tbody>\n",
       "    <tr>\n",
       "      <th>0</th>\n",
       "      <td>07bb4be8-674f-40fb-acf7-116ca4ed257c</td>\n",
       "      <td>2</td>\n",
       "    </tr>\n",
       "    <tr>\n",
       "      <th>1</th>\n",
       "      <td>3369b5d7-92a0-4d8a-813b-11f34abd34d6</td>\n",
       "      <td>2</td>\n",
       "    </tr>\n",
       "  </tbody>\n",
       "</table>\n",
       "</div>"
      ],
      "text/plain": [
       "                            business_id  amount\n",
       "0  07bb4be8-674f-40fb-acf7-116ca4ed257c       2\n",
       "1  3369b5d7-92a0-4d8a-813b-11f34abd34d6       2"
      ]
     },
     "execution_count": 27,
     "metadata": {},
     "output_type": "execute_result"
    }
   ],
   "source": [
    "df[df['ach_flag']==1].groupby('business_id',as_index=False)['amount'].count()"
   ]
  },
  {
   "cell_type": "code",
   "execution_count": 28,
   "metadata": {},
   "outputs": [
    {
     "name": "stdout",
     "output_type": "stream",
     "text": [
      "loans count = 1\n",
      "payrolls count = 20\n",
      "third party count = 65\n",
      "ecom count = 13\n",
      "service count = 24\n",
      "shops count = 23\n",
      "POS count = 55\n"
     ]
    }
   ],
   "source": [
    "print('loans count = {}'.format(df['loans_flag'].sum()))\n",
    "print('payrolls count = {}'.format(df['payroll_flag'].sum()))\n",
    "print('third party count = {}'.format(df['third_party_flag'].sum()))\n",
    "print('ecom count = {}'.format(df['ecom_flag'].sum()))\n",
    "print('service count = {}'.format(df['service_flag'].sum()))\n",
    "print('shops count = {}'.format(df['shops_flag'].sum()))\n",
    "print('POS count = {}'.format(df['pos_flag'].sum()))\n"
   ]
  },
  {
   "cell_type": "code",
   "execution_count": 29,
   "metadata": {},
   "outputs": [
    {
     "data": {
      "text/plain": [
       "Index(['id', 'transaction_id', 'business_id', 'external_account_id',\n",
       "       'plaid_account_id', 'plaid_item_id', 'description', 'categories',\n",
       "       'amount', 'type', 'date', 'retrieved_at', 'pending',\n",
       "       'iso_currency_code', 'merchant_name', 'created_at', 'updated_at',\n",
       "       'today', 'datediff', 'pos_flag', 'loans_flag', 'payroll_flag',\n",
       "       'ecom_flag', 'third_party_flag', 'service_flag', 'shops_flag',\n",
       "       'ach_flag'],\n",
       "      dtype='object')"
      ]
     },
     "execution_count": 29,
     "metadata": {},
     "output_type": "execute_result"
    }
   ],
   "source": [
    "df.columns"
   ]
  },
  {
   "cell_type": "code",
   "execution_count": 30,
   "metadata": {},
   "outputs": [
    {
     "name": "stdout",
     "output_type": "stream",
     "text": [
      "1M count = 20\n",
      "3M count = 78\n",
      "6M count = 186\n"
     ]
    }
   ],
   "source": [
    "# Month flag\n",
    "df['1M_flag'] = 0\n",
    "df['3M_flag'] = 0\n",
    "df['6M_flag'] = 0\n",
    "\n",
    "df.loc[df['datediff'] <= 30,'1M_flag'] = 1\n",
    "df.loc[df['datediff'] <= 90,'3M_flag'] = 1\n",
    "df.loc[df['datediff'] <= 180,'6M_flag'] = 1\n",
    "\n",
    "print('1M count = {}'.format(df['1M_flag'].sum()))\n",
    "print('3M count = {}'.format(df['3M_flag'].sum()))\n",
    "print('6M count = {}'.format(df['6M_flag'].sum()))"
   ]
  },
  {
   "cell_type": "markdown",
   "metadata": {},
   "source": [
    "#### Feature creation"
   ]
  },
  {
   "cell_type": "code",
   "execution_count": 31,
   "metadata": {},
   "outputs": [
    {
     "data": {
      "text/plain": [
       "5"
      ]
     },
     "execution_count": 31,
     "metadata": {},
     "output_type": "execute_result"
    }
   ],
   "source": [
    "len(df['business_id'].unique())"
   ]
  },
  {
   "cell_type": "code",
   "execution_count": 32,
   "metadata": {},
   "outputs": [
    {
     "data": {
      "text/plain": [
       "Index(['id', 'transaction_id', 'business_id', 'external_account_id',\n",
       "       'plaid_account_id', 'plaid_item_id', 'description', 'categories',\n",
       "       'amount', 'type', 'date', 'retrieved_at', 'pending',\n",
       "       'iso_currency_code', 'merchant_name', 'created_at', 'updated_at',\n",
       "       'today', 'datediff', 'pos_flag', 'loans_flag', 'payroll_flag',\n",
       "       'ecom_flag', 'third_party_flag', 'service_flag', 'shops_flag',\n",
       "       'ach_flag', '1M_flag', '3M_flag', '6M_flag'],\n",
       "      dtype='object')"
      ]
     },
     "execution_count": 32,
     "metadata": {},
     "output_type": "execute_result"
    }
   ],
   "source": [
    "df.columns"
   ]
  },
  {
   "cell_type": "code",
   "execution_count": 33,
   "metadata": {},
   "outputs": [],
   "source": [
    "base_df = df.groupby('business_id', as_index=False)['amount'].count()"
   ]
  },
  {
   "cell_type": "code",
   "execution_count": 34,
   "metadata": {},
   "outputs": [
    {
     "name": "stdout",
     "output_type": "stream",
     "text": [
      "loans count = 1\n",
      "payrolls count = 4\n",
      "POS count = 4\n",
      "ecom count = 4\n",
      "Third party count = 4\n",
      "Service count = 5\n",
      "Shops count = 5\n",
      "ACH count = 2\n"
     ]
    }
   ],
   "source": [
    "# loans flag\n",
    "t = df.groupby('business_id',as_index=False)['loans_flag'].max()\n",
    "base_df = base_df.merge(t,how='left',on='business_id')\n",
    "print('loans count = {}'.format(base_df['loans_flag'].sum()))\n",
    "\n",
    "# payroll flag\n",
    "t = df.groupby('business_id',as_index=False)['payroll_flag'].max()\n",
    "base_df = base_df.merge(t,how='left',on='business_id')\n",
    "print('payrolls count = {}'.format(base_df['payroll_flag'].sum()))\n",
    "\n",
    "# POS flag\n",
    "t = df.groupby('business_id',as_index=False)['pos_flag'].max()\n",
    "base_df = base_df.merge(t,how='left',on='business_id')\n",
    "print('POS count = {}'.format(base_df['pos_flag'].sum()))\n",
    "\n",
    "# ecom flag\n",
    "t = df.groupby('business_id',as_index=False)['ecom_flag'].max()\n",
    "base_df = base_df.merge(t,how='left',on='business_id')\n",
    "print('ecom count = {}'.format(base_df['ecom_flag'].sum()))\n",
    "\n",
    "# Third party flag\n",
    "t = df.groupby('business_id',as_index=False)['third_party_flag'].max()\n",
    "base_df = base_df.merge(t,how='left',on='business_id')\n",
    "print('Third party count = {}'.format(base_df['third_party_flag'].sum()))\n",
    "\n",
    "# Service flag\n",
    "t = df.groupby('business_id',as_index=False)['service_flag'].max()\n",
    "base_df = base_df.merge(t,how='left',on='business_id')\n",
    "print('Service count = {}'.format(base_df['service_flag'].sum()))\n",
    "\n",
    "# Shops flag\n",
    "t = df.groupby('business_id',as_index=False)['shops_flag'].max()\n",
    "base_df = base_df.merge(t,how='left',on='business_id')\n",
    "print('Shops count = {}'.format(base_df['shops_flag'].sum()))\n",
    "\n",
    "# ACH flag\n",
    "t = df.groupby('business_id',as_index=False)['ach_flag'].max()\n",
    "base_df = base_df.merge(t,how='left',on='business_id')\n",
    "print('ACH count = {}'.format(base_df['ach_flag'].sum()))\n",
    "\n"
   ]
  },
  {
   "cell_type": "code",
   "execution_count": 35,
   "metadata": {},
   "outputs": [],
   "source": [
    "# credit count 1M / 3M / 6M\n",
    "t1 = df[df['1M_flag']==1].groupby('business_id',as_index=False)['transaction_id'].count().rename(columns = {'transaction_id':'total_credit_count_1M'})\n",
    "t3 = df[df['3M_flag']==1].groupby('business_id',as_index=False)['transaction_id'].count().rename(columns = {'transaction_id':'total_credit_count_3M'})\n",
    "t6 = df[df['6M_flag']==1].groupby('business_id',as_index=False)['transaction_id'].count().rename(columns = {'transaction_id':'total_credit_count_6M'})\n",
    "\n",
    "base_df = base_df.merge(t1,how='left',on='business_id')\n",
    "base_df = base_df.merge(t3,how='left',on='business_id') \n",
    "base_df = base_df.merge(t6,how='left',on='business_id')\n",
    "\n",
    "# base_df[['total_credit_count_1M','total_credit_count_3M','total_credit_count_6M']] = base_df[['total_credit_count_1M','total_credit_count_3M','total_credit_count_6M']].fillna(0)"
   ]
  },
  {
   "cell_type": "code",
   "execution_count": 36,
   "metadata": {},
   "outputs": [],
   "source": [
    "# credit amt 1M / 3M / 6M\n",
    "t1 = df[df['1M_flag']==1].groupby('business_id',as_index=False)['amount'].sum().rename(columns = {'amount':'total_credit_amt_1M'})\n",
    "t3 = df[df['3M_flag']==1].groupby('business_id',as_index=False)['amount'].sum().rename(columns = {'amount':'total_credit_amt_3M'})\n",
    "t6 = df[df['6M_flag']==1].groupby('business_id',as_index=False)['amount'].sum().rename(columns = {'amount':'total_credit_amt_6M'})\n",
    "\n",
    "base_df = base_df.merge(t1,how='left',on='business_id')\n",
    "base_df = base_df.merge(t3,how='left',on='business_id')\n",
    "base_df = base_df.merge(t6,how='left',on='business_id')\n",
    "\n",
    "# base_df[['total_credit_amt_1M','total_credit_amt_3M','total_credit_amt_6M']] = base_df[['total_credit_amt_1M','total_credit_amt_3M','total_credit_amt_6M']].fillna(0)"
   ]
  },
  {
   "cell_type": "code",
   "execution_count": 37,
   "metadata": {},
   "outputs": [],
   "source": [
    "# credit size 1M / 3M / 6M\n",
    "base_df['credit_size_1M'] = base_df['total_credit_amt_1M']/(1 + base_df['total_credit_count_1M'])\n",
    "base_df['credit_size_3M'] = base_df['total_credit_amt_3M']/(1 + base_df['total_credit_count_3M'])\n",
    "base_df['credit_size_6M'] = base_df['total_credit_amt_6M']/(1 + base_df['total_credit_count_6M'])\n"
   ]
  },
  {
   "cell_type": "code",
   "execution_count": 38,
   "metadata": {},
   "outputs": [],
   "source": [
    "# stddev credits\n",
    "\n",
    "t1 = df[df['1M_flag']==1].groupby('business_id',as_index=False)['amount'].agg([np.std,'median']).rename(columns = {'std':'stddev_credit_amt_1M','median':'median_credit_amt_1M'})\n",
    "t3 = df[df['3M_flag']==1].groupby('business_id',as_index=False)['amount'].agg([np.std,'median']).rename(columns = {'std':'stddev_credit_amt_3M','median':'median_credit_amt_3M'})\n",
    "t6 = df.groupby('business_id',as_index=False)['amount'].agg([np.std,'median']).rename(columns = {'std':'stddev_credit_amt_6M','median':'median_credit_amt_6M'})\n",
    "\n",
    "base_df = base_df.merge(t1,how='left',on='business_id')\n",
    "base_df = base_df.merge(t3,how='left',on='business_id')\n",
    "base_df = base_df.merge(t6,how='left',on='business_id')\n",
    "\n",
    "#ratios\n",
    "base_df['ratio_stddev_credit_amt_1M_6M'] = base_df['stddev_credit_amt_1M']/(1 + base_df['stddev_credit_amt_6M'])\n",
    "base_df['ratio_stddev_credit_amt_1M_3M'] = base_df['stddev_credit_amt_1M']/(1 + base_df['stddev_credit_amt_3M'])\n",
    "\n",
    "base_df['ratio_median_credit_amt_1M_6M'] = base_df['median_credit_amt_1M']/(1 + base_df['median_credit_amt_6M'])\n",
    "base_df['ratio_median_credit_amt_1M_3M'] = base_df['median_credit_amt_1M']/(1 + base_df['median_credit_amt_3M'])"
   ]
  },
  {
   "cell_type": "code",
   "execution_count": 39,
   "metadata": {},
   "outputs": [],
   "source": [
    "# categories - sum, count, medin, stddev - 1M / 3M / 6M\n",
    "\n",
    "t1 = df[(df['loans_flag']==1) & (df['3M_flag']==1)].groupby('business_id',as_index=False)['amount'].agg(['sum','count','median',np.std]).rename(columns = {'sum':'loans_amt_6M','count':'loans_count_6M','median':'median_loans_amt_6M', 'std': 'stddev_loans_amt_6M'})\n",
    "t2 = df[(df['payroll_flag']==1) & (df['3M_flag']==1)].groupby('business_id',as_index=False)['amount'].agg(['sum','count','median',np.std]).rename(columns = {'sum':'payroll_amt_6M','count':'payroll_count_6M','median':'median_payroll_amt_6M', 'std': 'stddev_payroll_amt_6M'})\n",
    "t3 = df[(df['pos_flag']==1) & (df['3M_flag']==1)].groupby('business_id',as_index=False)['amount'].agg(['sum','count','median',np.std]).rename(columns = {'sum':'pos_amt_6M','count':'pos_count_6M','median':'median_pos_amt_6M', 'std': 'stddev_pos_amt_6M'})\n",
    "t4 = df[(df['ecom_flag']==1) & (df['3M_flag']==1)].groupby('business_id',as_index=False)['amount'].agg(['sum','count','median',np.std]).rename(columns = {'sum':'ecom_amt_6M','count':'ecom_count_6M','median':'median_ecom_amt_6M', 'std': 'stddev_ecom_amt_6M'})\n",
    "t5 = df[(df['third_party_flag']==1) & (df['3M_flag']==1)].groupby('business_id',as_index=False)['amount'].agg(['sum','count','median',np.std]).rename(columns = {'sum':'third_party_amt_6M','count':'third_party_count_6M','median':'median_third_party_amt_6M', 'std': 'stddev_third_party_amt_6M'})\n",
    "t6 = df[(df['service_flag']==1) & (df['3M_flag']==1)].groupby('business_id',as_index=False)['amount'].agg(['sum','count','median',np.std]).rename(columns = {'sum':'service_amt_6M','count':'service_count_6M','median':'median_service_amt_6M', 'std': 'stddev_service_amt_6M'})\n",
    "t7 = df[(df['shops_flag']==1) & (df['3M_flag']==1)].groupby('business_id',as_index=False)['amount'].agg(['sum','count','median',np.std]).rename(columns = {'sum':'shops_amt_6M','count':'shops_count_6M','median':'median_shops_amt_6M', 'std': 'stddev_shops_amt_6M'})\n",
    "t8 = df[(df['ach_flag']==1) & (df['3M_flag']==1)].groupby('business_id',as_index=False)['amount'].agg(['sum','count','median',np.std]).rename(columns = {'sum':'ach_amt_6M','count':'ach_count_6M','median':'median_ach_amt_6M', 'std': 'stddev_ach_amt_6M'})\n",
    "\n",
    "base_df = base_df.merge(t1,how='left',on='business_id')\n",
    "base_df = base_df.merge(t2,how='left',on='business_id')\n",
    "base_df = base_df.merge(t3,how='left',on='business_id')\n",
    "base_df = base_df.merge(t4,how='left',on='business_id')\n",
    "base_df = base_df.merge(t5,how='left',on='business_id')\n",
    "base_df = base_df.merge(t6,how='left',on='business_id')\n",
    "base_df = base_df.merge(t7,how='left',on='business_id')\n",
    "base_df = base_df.merge(t8,how='left',on='business_id')\n",
    "\n",
    "t1 = df[(df['loans_flag']==1) & (df['3M_flag']==1)].groupby('business_id',as_index=False)['amount'].agg(['sum','count','median',np.std]).rename(columns = {'sum':'loans_amt_3M','count':'loans_count_3M','median':'median_loans_amt_3M', 'std': 'stddev_loans_amt_3M'})\n",
    "t2 = df[(df['payroll_flag']==1) & (df['3M_flag']==1)].groupby('business_id',as_index=False)['amount'].agg(['sum','count','median',np.std]).rename(columns = {'sum':'payroll_amt_3M','count':'payroll_count_3M','median':'median_payroll_amt_3M', 'std': 'stddev_payroll_amt_3M'})\n",
    "t3 = df[(df['pos_flag']==1) & (df['3M_flag']==1)].groupby('business_id',as_index=False)['amount'].agg(['sum','count','median',np.std]).rename(columns = {'sum':'pos_amt_3M','count':'pos_count_3M','median':'median_pos_amt_3M', 'std': 'stddev_pos_amt_3M'})\n",
    "t4 = df[(df['ecom_flag']==1) & (df['3M_flag']==1)].groupby('business_id',as_index=False)['amount'].agg(['sum','count','median',np.std]).rename(columns = {'sum':'ecom_amt_3M','count':'ecom_count_3M','median':'median_ecom_amt_3M', 'std': 'stddev_ecom_amt_3M'})\n",
    "t5 = df[(df['third_party_flag']==1) & (df['3M_flag']==1)].groupby('business_id',as_index=False)['amount'].agg(['sum','count','median',np.std]).rename(columns = {'sum':'third_party_amt_3M','count':'third_party_count_3M','median':'median_third_party_amt_3M', 'std': 'stddev_third_party_amt_3M'})\n",
    "t6 = df[(df['service_flag']==1) & (df['3M_flag']==1)].groupby('business_id',as_index=False)['amount'].agg(['sum','count','median',np.std]).rename(columns = {'sum':'service_amt_3M','count':'service_count_3M','median':'median_service_amt_3M', 'std': 'stddev_service_amt_3M'})\n",
    "t7 = df[(df['shops_flag']==1) & (df['3M_flag']==1)].groupby('business_id',as_index=False)['amount'].agg(['sum','count','median',np.std]).rename(columns = {'sum':'shops_amt_3M','count':'shops_count_3M','median':'median_shops_amt_3M', 'std': 'stddev_shops_amt_3M'})\n",
    "t8 = df[(df['ach_flag']==1) & (df['3M_flag']==1)].groupby('business_id',as_index=False)['amount'].agg(['sum','count','median',np.std]).rename(columns = {'sum':'ach_amt_3M','count':'ach_count_3M','median':'median_ach_amt_3M', 'std': 'stddev_ach_amt_3M'})\n",
    "\n",
    "base_df = base_df.merge(t1,how='left',on='business_id')\n",
    "base_df = base_df.merge(t2,how='left',on='business_id')\n",
    "base_df = base_df.merge(t3,how='left',on='business_id')\n",
    "base_df = base_df.merge(t4,how='left',on='business_id')\n",
    "base_df = base_df.merge(t5,how='left',on='business_id')\n",
    "base_df = base_df.merge(t6,how='left',on='business_id')\n",
    "base_df = base_df.merge(t7,how='left',on='business_id')\n",
    "base_df = base_df.merge(t8,how='left',on='business_id')\n",
    "\n",
    "t1 = df[(df['loans_flag']==1) & (df['1M_flag']==1)].groupby('business_id',as_index=False)['amount'].agg(['sum','count','median',np.std]).rename(columns = {'sum':'loans_amt_1M','count':'loans_count_1M','median':'median_loans_amt_1M', 'std': 'stddev_loans_amt_1M'})\n",
    "t2 = df[(df['payroll_flag']==1) & (df['1M_flag']==1)].groupby('business_id',as_index=False)['amount'].agg(['sum','count','median',np.std]).rename(columns = {'sum':'payroll_amt_1M','count':'payroll_count_1M','median':'median_payroll_amt_1M', 'std': 'stddev_payroll_amt_1M'})\n",
    "t3 = df[(df['pos_flag']==1) & (df['1M_flag']==1)].groupby('business_id',as_index=False)['amount'].agg(['sum','count','median',np.std]).rename(columns = {'sum':'pos_amt_1M','count':'pos_count_1M','median':'median_pos_amt_1M', 'std': 'stddev_pos_amt_1M'})\n",
    "t4 = df[(df['ecom_flag']==1) & (df['1M_flag']==1)].groupby('business_id',as_index=False)['amount'].agg(['sum','count','median',np.std]).rename(columns = {'sum':'ecom_amt_1M','count':'ecom_count_1M','median':'median_ecom_amt_1M', 'std': 'stddev_ecom_amt_1M'})\n",
    "t5 = df[(df['third_party_flag']==1) & (df['1M_flag']==1)].groupby('business_id',as_index=False)['amount'].agg(['sum','count','median',np.std]).rename(columns = {'sum':'third_party_amt_1M','count':'third_party_count_1M','median':'median_third_party_amt_1M', 'std': 'stddev_third_party_amt_1M'})\n",
    "t6 = df[(df['service_flag']==1) & (df['1M_flag']==1)].groupby('business_id',as_index=False)['amount'].agg(['sum','count','median',np.std]).rename(columns = {'sum':'service_amt_1M','count':'service_count_1M','median':'median_service_amt_1M', 'std': 'stddev_service_amt_1M'})\n",
    "t7 = df[(df['shops_flag']==1) & (df['1M_flag']==1)].groupby('business_id',as_index=False)['amount'].agg(['sum','count','median',np.std]).rename(columns = {'sum':'shops_amt_1M','count':'shops_count_1M','median':'median_shops_amt_1M', 'std': 'stddev_shops_amt_1M'})\n",
    "t8 = df[(df['ach_flag']==1) & (df['1M_flag']==1)].groupby('business_id',as_index=False)['amount'].agg(['sum','count','median',np.std]).rename(columns = {'sum':'ach_amt_1M','count':'ach_count_1M','median':'median_ach_amt_1M', 'std': 'stddev_ach_amt_1M'})\n",
    "\n",
    "base_df = base_df.merge(t1,how='left',on='business_id')\n",
    "base_df = base_df.merge(t2,how='left',on='business_id')\n",
    "base_df = base_df.merge(t3,how='left',on='business_id')\n",
    "base_df = base_df.merge(t4,how='left',on='business_id')\n",
    "base_df = base_df.merge(t5,how='left',on='business_id')\n",
    "base_df = base_df.merge(t6,how='left',on='business_id')\n",
    "base_df = base_df.merge(t7,how='left',on='business_id')\n",
    "base_df = base_df.merge(t8,how='left',on='business_id')"
   ]
  },
  {
   "cell_type": "code",
   "execution_count": 40,
   "metadata": {},
   "outputs": [],
   "source": [
    "# size 1M / 3M / 6M\n",
    "base_df['loans_size_1M'] = base_df['loans_amt_1M']/(1 + base_df['loans_count_1M'])\n",
    "base_df['payroll_size_1M'] = base_df['payroll_amt_1M']/(1 + base_df['payroll_count_1M'])\n",
    "base_df['pos_size_1M'] = base_df['pos_amt_1M']/(1 + base_df['pos_count_1M'])\n",
    "base_df['ecom_size_1M'] = base_df['ecom_amt_1M']/(1 + base_df['ecom_count_1M'])\n",
    "base_df['third_party_size_1M'] = base_df['third_party_amt_1M']/(1 + base_df['third_party_amt_1M'])\n",
    "base_df['service_size_1M'] = base_df['service_amt_1M']/(1 + base_df['service_count_1M'])\n",
    "base_df['shops_size_1M'] = base_df['shops_amt_1M']/(1 + base_df['shops_count_1M'])\n",
    "base_df['ach_size_1M'] = base_df['ach_amt_1M']/(1 + base_df['ach_count_1M'])\n",
    "\n",
    "base_df['loans_size_3M'] = base_df['loans_amt_3M']/(1 + base_df['loans_count_3M'])\n",
    "base_df['payroll_size_3M'] = base_df['payroll_amt_3M']/(1 + base_df['payroll_count_3M'])\n",
    "base_df['pos_size_3M'] = base_df['pos_amt_3M']/(1 + base_df['pos_count_3M'])\n",
    "base_df['ecom_size_3M'] = base_df['ecom_amt_3M']/(1 + base_df['ecom_count_3M'])\n",
    "base_df['third_party_size_3M'] = base_df['third_party_amt_3M']/(1 + base_df['third_party_amt_3M'])\n",
    "base_df['service_size_3M'] = base_df['service_amt_3M']/(1 + base_df['service_count_3M'])\n",
    "base_df['shops_size_3M'] = base_df['shops_amt_3M']/(1 + base_df['shops_count_3M'])\n",
    "base_df['ach_size_3M'] = base_df['ach_amt_3M']/(1 + base_df['ach_count_3M'])\n",
    "\n",
    "base_df['loans_size_6M'] = base_df['loans_amt_6M']/(1 + base_df['loans_count_6M'])\n",
    "base_df['payroll_size_6M'] = base_df['payroll_amt_6M']/(1 + base_df['payroll_count_6M'])\n",
    "base_df['pos_size_6M'] = base_df['pos_amt_6M']/(1 + base_df['pos_count_6M'])\n",
    "base_df['ecom_size_6M'] = base_df['ecom_amt_6M']/(1 + base_df['ecom_count_6M'])\n",
    "base_df['third_party_size_6M'] = base_df['third_party_amt_6M']/(1 + base_df['third_party_amt_6M'])\n",
    "base_df['service_size_6M'] = base_df['service_amt_6M']/(1 + base_df['service_count_6M'])\n",
    "base_df['shops_size_6M'] = base_df['shops_amt_6M']/(1 + base_df['shops_count_6M'])\n",
    "base_df['ach_size_6M'] = base_df['ach_amt_6M']/(1 + base_df['ach_count_6M'])"
   ]
  },
  {
   "cell_type": "code",
   "execution_count": 41,
   "metadata": {},
   "outputs": [],
   "source": [
    "# ratios 1M/6M & 1M/3M & 3M/6M\n",
    "\n",
    "base_df['ratio_loan_size_1M_6M'] = base_df['loans_size_1M']/(1 + base_df['loans_size_6M'])\n",
    "base_df['ratio_payroll_size_1M_6M'] = base_df['payroll_size_1M']/(1 + base_df['payroll_size_6M'])\n",
    "base_df['ratio_pos_size_1M_6M'] = base_df['pos_size_1M']/(1 + base_df['pos_size_6M'])\n",
    "base_df['ratio_ecom_size_1M_6M'] = base_df['ecom_size_1M']/(1 + base_df['ecom_size_6M'])\n",
    "base_df['ratio_third_party_size_1M_6M'] = base_df['third_party_size_1M']/(1 + base_df['third_party_size_6M'])\n",
    "base_df['ratio_service_size_1M_6M'] = base_df['service_size_1M']/(1 + base_df['service_size_6M'])\n",
    "base_df['ratio_shops_size_1M_6M'] = base_df['shops_size_1M']/(1 + base_df['shops_size_6M'])\n",
    "base_df['ratio_ach_size_1M_6M'] = base_df['ach_size_1M']/(1 + base_df['ach_size_6M'])\n",
    "\n",
    "base_df['ratio_loan_size_1M_3M'] = base_df['loans_size_1M']/(1 + base_df['loans_size_3M'])\n",
    "base_df['ratio_payroll_size_1M_3M'] = base_df['payroll_size_1M']/(1 + base_df['payroll_size_3M'])\n",
    "base_df['ratio_pos_size_1M_3M'] = base_df['pos_size_1M']/(1 + base_df['pos_size_3M'])\n",
    "base_df['ratio_ecom_size_1M_3M'] = base_df['ecom_size_1M']/(1 + base_df['ecom_size_3M'])\n",
    "base_df['ratio_third_party_size_1M_3M'] = base_df['third_party_size_1M']/(1 + base_df['third_party_size_3M'])\n",
    "base_df['ratio_service_size__1M_3M'] = base_df['service_size_1M']/(1 + base_df['service_size_3M'])\n",
    "base_df['ratio_shops_size_1M_3M'] = base_df['shops_size_1M']/(1 + base_df['shops_size_3M'])\n",
    "base_df['ratio_ach_size_1M_3M'] = base_df['ach_size_1M']/(1 + base_df['ach_size_3M'])\n",
    "\n",
    "base_df['ratio_median_loan_amt_3M_6M'] = base_df['median_loans_amt_3M']/(1 + base_df['median_loans_amt_6M'])\n",
    "base_df['ratio_median_payroll_amt_3M_6M'] = base_df['median_payroll_amt_3M']/(1 + base_df['median_payroll_amt_6M'])\n",
    "base_df['ratio_median_pos_amt_3M_6M'] = base_df['median_pos_amt_3M']/(1 + base_df['median_pos_amt_6M'])\n",
    "base_df['ratio_median_ecom_amt_3M_6M'] = base_df['median_ecom_amt_3M']/(1 + base_df['median_ecom_amt_6M'])\n",
    "base_df['ratio_median_third_party_amt_3M_6M'] = base_df['median_third_party_amt_3M']/(1 + base_df['median_third_party_amt_6M'])\n",
    "base_df['ratio_median_service_amt_3M_6M'] = base_df['median_service_amt_3M']/(1 + base_df['median_service_amt_6M'])\n",
    "base_df['ratio_median_shops_amt_3M_6M'] = base_df['median_shops_amt_3M']/(1 + base_df['median_shops_amt_6M'])\n",
    "base_df['ratio_median_ach_amt_3M_6M'] = base_df['median_ach_amt_3M']/(1 + base_df['median_ach_amt_6M'])\n",
    "\n",
    "\n",
    "base_df['ratio_stddev_loan_amt_3M_6M'] = base_df['stddev_loans_amt_3M']/(1 + base_df['stddev_loans_amt_6M'])\n",
    "base_df['ratio_stddev_payroll_amt_3M_6M'] = base_df['stddev_payroll_amt_3M']/(1 + base_df['stddev_payroll_amt_6M'])\n",
    "base_df['ratio_stddev_pos_amt_3M_6M'] = base_df['stddev_pos_amt_3M']/(1 + base_df['stddev_pos_amt_6M'])\n",
    "base_df['ratio_stddev_ecom_amt_3M_6M'] = base_df['stddev_ecom_amt_3M']/(1 + base_df['stddev_ecom_amt_6M'])\n",
    "base_df['ratio_stddev_third_party_amt_3M_6M'] = base_df['stddev_third_party_amt_3M']/(1 + base_df['stddev_third_party_amt_6M'])\n",
    "base_df['ratio_stddev_service_amt_3M_6M'] = base_df['stddev_service_amt_3M']/(1 + base_df['stddev_service_amt_6M'])\n",
    "base_df['ratio_stddev_shops_amt_3M_6M'] = base_df['stddev_shops_amt_3M']/(1 + base_df['stddev_shops_amt_6M'])\n",
    "base_df['ratio_stddev_ach_amt_3M_6M'] = base_df['stddev_ach_amt_3M']/(1 + base_df['stddev_ach_amt_6M'])"
   ]
  },
  {
   "cell_type": "code",
   "execution_count": 42,
   "metadata": {},
   "outputs": [],
   "source": [
    "# ratio cat/credit\n",
    "\n",
    "base_df['ratio_loans_size_credit_size_1M'] = base_df['loans_size_1M']/(1 + base_df['credit_size_1M'])\n",
    "base_df['ratio_payroll_size_credit_size_1M'] = base_df['payroll_size_1M']/(1 + base_df['credit_size_1M'])\n",
    "base_df['ratio_pos_size_credit_size_1M'] = base_df['pos_size_1M']/(1 + base_df['credit_size_1M'])\n",
    "base_df['ratio_ecom_size_credit_size_1M'] = base_df['ecom_size_1M']/(1 + base_df['credit_size_1M'])\n",
    "base_df['ratio_third_party_size_credit_size_1M'] = base_df['third_party_size_1M']/(1 + base_df['credit_size_1M'])\n",
    "base_df['ratio_service_size_credit_size_1M'] = base_df['service_size_1M']/(1 + base_df['credit_size_1M'])\n",
    "base_df['ratio_shops_size_credit_size_1M'] = base_df['shops_size_1M']/(1 + base_df['credit_size_1M'])\n",
    "base_df['ratio_ach_size_credit_size_1M'] = base_df['ach_size_1M']/(1 + base_df['credit_size_1M'])\n",
    "\n",
    "base_df['ratio_loans_size_credit_size_3M'] = base_df['loans_size_3M']/(1 + base_df['credit_size_3M'])\n",
    "base_df['ratio_payroll_size_credit_size_3M'] = base_df['payroll_size_3M']/(1 + base_df['credit_size_3M'])\n",
    "base_df['ratio_pos_size_credit_size_3M'] = base_df['pos_size_3M']/(1 + base_df['credit_size_3M'])\n",
    "base_df['ratio_ecom_size_credit_size_3M'] = base_df['ecom_size_3M']/(1 + base_df['credit_size_3M'])\n",
    "base_df['ratio_third_party_size_credit_size_3M'] = base_df['third_party_size_3M']/(1 + base_df['credit_size_3M'])\n",
    "base_df['ratio_service_size_credit_size_3M'] = base_df['service_size_3M']/(1 + base_df['credit_size_3M'])\n",
    "base_df['ratio_shops_size_credit_size_3M'] = base_df['shops_size_3M']/(1 + base_df['credit_size_3M'])\n",
    "base_df['ratio_ach_size_credit_size_3M'] = base_df['ach_size_3M']/(1 + base_df['credit_size_3M'])\n",
    "\n",
    "base_df['ratio_loans_size_credit_size_6M'] = base_df['loans_size_6M']/(1 + base_df['credit_size_6M'])\n",
    "base_df['ratio_payroll_size_credit_size_6M'] = base_df['payroll_size_6M']/(1 + base_df['credit_size_6M'])\n",
    "base_df['ratio_pos_size_credit_size_6M'] = base_df['pos_size_6M']/(1 + base_df['credit_size_6M'])\n",
    "base_df['ratio_ecom_size_credit_size_6M'] = base_df['ecom_size_6M']/(1 + base_df['credit_size_6M'])\n",
    "base_df['ratio_third_party_size_credit_size_6M'] = base_df['third_party_size_6M']/(1 + base_df['credit_size_6M'])\n",
    "base_df['ratio_service_size_credit_size_6M'] = base_df['service_size_6M']/(1 + base_df['credit_size_6M'])\n",
    "base_df['ratio_shops_size_credit_size_6M'] = base_df['shops_size_6M']/(1 + base_df['credit_size_6M'])\n",
    "base_df['ratio_ach_size_credit_size_6M'] = base_df['ach_size_6M']/(1 + base_df['credit_size_6M'])"
   ]
  },
  {
   "cell_type": "code",
   "execution_count": 43,
   "metadata": {},
   "outputs": [],
   "source": [
    "# amount features"
   ]
  },
  {
   "cell_type": "code",
   "execution_count": 44,
   "metadata": {},
   "outputs": [],
   "source": [
    "t1 = df[(df['amount']<100) & (df['1M_flag']==1)].groupby('business_id',as_index=False)['amount'].agg(['count','sum']).rename(columns={'sum':'sum_credits_lessthan_100_1M','count':'count_credits_lessthan_100_1M'})\n",
    "t2 = df[(df['amount']>=100) & (df['amount']<500) & (df['1M_flag']==1)].groupby('business_id',as_index=False)['amount'].agg(['count','sum']).rename(columns={'sum':'sum_credits_100_to_500_1M','count':'count_credits_100_to_500_1M'})\n",
    "t3 = df[(df['amount']>=500) & (df['1M_flag']==1)].groupby('business_id',as_index=False)['amount'].agg(['count','sum']).rename(columns={'sum':'sum_credits_grt_500_1M','count':'count_credits_grt_500_1M'})\n",
    "t4 = df[(df['amount']>=1500) & (df['1M_flag']==1)].groupby('business_id',as_index=False)['amount'].agg(['count','sum']).rename(columns={'sum':'sum_credits_grt_1500_1M','count':'count_credits_grt_1500_1M'})\n",
    "\n",
    "base_df = base_df.merge(t1,how='left',on='business_id')\n",
    "base_df = base_df.merge(t2,how='left',on='business_id')\n",
    "base_df = base_df.merge(t3,how='left',on='business_id')\n",
    "base_df = base_df.merge(t4,how='left',on='business_id')\n",
    "\n",
    "t1 = df[(df['amount']<100) & (df['3M_flag']==1)].groupby('business_id',as_index=False)['amount'].agg(['count','sum']).rename(columns={'sum':'sum_credits_lessthan_100_3M','count':'count_credits_lessthan_100_3M'})\n",
    "t2 = df[(df['amount']>=100) & (df['amount']<500) & (df['3M_flag']==1)].groupby('business_id',as_index=False)['amount'].agg(['count','sum']).rename(columns={'sum':'sum_credits_100_to_500_3M','count':'count_credits_100_to_500_3M'})\n",
    "t3 = df[(df['amount']>=500) & (df['3M_flag']==1)].groupby('business_id',as_index=False)['amount'].agg(['count','sum']).rename(columns={'sum':'sum_credits_grt_500_3M','count':'count_credits_grt_500_3M'})\n",
    "t4 = df[(df['amount']>=1500) & (df['3M_flag']==1)].groupby('business_id',as_index=False)['amount'].agg(['count','sum']).rename(columns={'sum':'sum_credits_grt_1500_3M','count':'count_credits_grt_1500_3M'})\n",
    "\n",
    "base_df = base_df.merge(t1,how='left',on='business_id')\n",
    "base_df = base_df.merge(t2,how='left',on='business_id')\n",
    "base_df = base_df.merge(t3,how='left',on='business_id')\n",
    "base_df = base_df.merge(t4,how='left',on='business_id')\n",
    "\n",
    "t1 = df[(df['amount']<100) & (df['6M_flag']==1)].groupby('business_id',as_index=False)['amount'].agg(['count','sum']).rename(columns={'sum':'sum_credits_lessthan_100_6M','count':'count_credits_lessthan_100_6M'})\n",
    "t2 = df[(df['amount']>=100) & (df['amount']<500) & (df['6M_flag']==1)].groupby('business_id',as_index=False)['amount'].agg(['count','sum']).rename(columns={'sum':'sum_credits_100_to_500_6M','count':'count_credits_100_to_500_6M'})\n",
    "t3 = df[(df['amount']>=500) & (df['6M_flag']==1)].groupby('business_id',as_index=False)['amount'].agg(['count','sum']).rename(columns={'sum':'sum_credits_grt_500_6M','count':'count_credits_grt_500_6M'})\n",
    "t4 = df[(df['amount']>=1500) & (df['6M_flag']==1)].groupby('business_id',as_index=False)['amount'].agg(['count','sum']).rename(columns={'sum':'sum_credits_grt_1500_6M','count':'count_credits_grt_1500_6M'})\n",
    "\n",
    "base_df = base_df.merge(t1,how='left',on='business_id')\n",
    "base_df = base_df.merge(t2,how='left',on='business_id')\n",
    "base_df = base_df.merge(t3,how='left',on='business_id')\n",
    "base_df = base_df.merge(t4,how='left',on='business_id')"
   ]
  },
  {
   "cell_type": "code",
   "execution_count": 45,
   "metadata": {},
   "outputs": [],
   "source": [
    "# amount ratios\n",
    "\n",
    "base_df['ratio_credits_lessthan_100_1M_3M'] = base_df['count_credits_lessthan_100_1M']/(1 + base_df['count_credits_lessthan_100_3M'])\n",
    "base_df['ratio_credits_lessthan_100_1M_6M'] = base_df['count_credits_lessthan_100_1M']/(1 + base_df['count_credits_lessthan_100_6M'])\n",
    "\n",
    "base_df['ratio_credits_grt_500_1M_3M'] = base_df['count_credits_grt_500_1M']/(1 + base_df['count_credits_grt_500_3M'])\n",
    "base_df['ratio_credits_grt_500_1M_6M'] = base_df['count_credits_grt_500_1M']/(1 + base_df['count_credits_grt_500_6M'])\n",
    "\n",
    "base_df['ratio_credits_grt_1500_1M_3M'] = base_df['count_credits_grt_1500_1M']/(1 + base_df['count_credits_grt_1500_3M'])\n",
    "base_df['ratio_credits_grt_1500_1M_6M'] = base_df['count_credits_grt_1500_1M']/(1 + base_df['count_credits_grt_1500_6M'])"
   ]
  },
  {
   "cell_type": "code",
   "execution_count": 46,
   "metadata": {},
   "outputs": [],
   "source": [
    "# amount ratios 2 \n",
    "base_df['ratio_amt_credits_less_100_credits_grt_500_6M'] = base_df['sum_credits_lessthan_100_6M']/(1 + base_df['sum_credits_grt_500_6M'])\n",
    "base_df['ratio_amt_credits_less_100_credits_grt_500_3M'] = base_df['sum_credits_lessthan_100_3M']/(1 + base_df['sum_credits_grt_500_3M'])\n",
    "\n",
    "base_df['ratio_amt_credits_less_100_credits_grt_1500_6M'] = base_df['sum_credits_lessthan_100_6M']/(1 + base_df['sum_credits_grt_1500_6M'])\n",
    "base_df['ratio_amt_credits_less_100_credits_grt_1500_3M'] = base_df['sum_credits_lessthan_100_3M']/(1 + base_df['sum_credits_grt_1500_3M'])\n",
    "\n",
    "base_df['ratio_amt_credits_grt_500_credits_grt_1500_6M'] = base_df['sum_credits_grt_500_6M']/(1 + base_df['sum_credits_grt_1500_6M'])\n",
    "base_df['ratio_amt_credits_grt_500_credits_grt_1500_3M'] = base_df['sum_credits_grt_500_3M']/(1 + base_df['sum_credits_grt_1500_3M'])\n",
    "\n",
    "\n",
    "base_df['ratio_cnt_credits_less_100_credits_grt_500_6M'] = base_df['count_credits_lessthan_100_6M']/(1 + base_df['count_credits_grt_500_6M'])\n",
    "base_df['ratio_cnt_credits_less_100_credits_grt_500_3M'] = base_df['count_credits_lessthan_100_3M']/(1 + base_df['count_credits_grt_500_3M'])\n",
    "\n",
    "base_df['ratio_cnt_credits_less_100_credits_grt_1500_6M'] = base_df['count_credits_lessthan_100_6M']/(1 + base_df['count_credits_grt_1500_6M'])\n",
    "base_df['ratio_cnt_credits_less_100_credits_grt_1500_3M'] = base_df['count_credits_lessthan_100_3M']/(1 + base_df['count_credits_grt_1500_3M'])\n",
    "\n",
    "base_df['ratio_cnt_credits_grt_500_credits_grt_1500_6M'] = base_df['count_credits_grt_500_6M']/(1 + base_df['count_credits_grt_1500_6M'])\n",
    "base_df['ratio_cnt_credits_grt_500_credits_grt_1500_3M'] = base_df['count_credits_grt_500_3M']/(1 + base_df['count_credits_grt_1500_3M'])\n"
   ]
  },
  {
   "cell_type": "code",
   "execution_count": 47,
   "metadata": {},
   "outputs": [],
   "source": [
    "# txns in each month flag\n",
    "df['txn_l1m_flag'] = 0\n",
    "df['txn_2nd_mth_flag'] = 0\n",
    "df['txn_3rd_mth_flag'] = 0\n",
    "df['txn_4th_mth_flag'] = 0\n",
    "df['txn_5th_mth_flag'] = 0\n",
    "df['txn_6th_mth_flag'] = 0\n",
    "\n",
    "df.loc[(df['datediff']<=30),'txn_l1m_flag'] = 1\n",
    "df.loc[(df['datediff']>30) & (df['datediff']<=60),'txn_2nd_mth_flag'] = 1\n",
    "df.loc[(df['datediff']>60) & (df['datediff']<=90),'txn_3rd_mth_flag'] = 1\n",
    "df.loc[(df['datediff']>90) & (df['datediff']<=120),'txn_4th_mth_flag'] = 1\n",
    "df.loc[(df['datediff']>120) & (df['datediff']<=150),'txn_5th_mth_flag'] = 1\n",
    "df.loc[(df['datediff']>150) & (df['datediff']<=180),'txn_6th_mth_flag'] = 1\n",
    "\n",
    "t1 = df.groupby('business_id',as_index=False)[['txn_l1m_flag','txn_2nd_mth_flag','txn_3rd_mth_flag','txn_4th_mth_flag','txn_5th_mth_flag','txn_6th_mth_flag']].max()\n",
    "t1['txn_each_mth_flag'] = 0\n",
    "t1.loc[(t1['txn_l1m_flag']==1) & (t1['txn_2nd_mth_flag']==1) & (t1['txn_3rd_mth_flag']==1) & (t1['txn_4th_mth_flag']==1) & (t1['txn_5th_mth_flag']==1) & (t1['txn_6th_mth_flag']==1),'txn_each_mth_flag'] = 1\n",
    "\n",
    "base_df = base_df.merge(t1[['business_id','txn_each_mth_flag']],how='left',on = 'business_id')\n",
    "\n",
    "t1 = df[df['amount']>100].groupby('business_id',as_index=False)[['txn_l1m_flag','txn_2nd_mth_flag','txn_3rd_mth_flag','txn_4th_mth_flag','txn_5th_mth_flag','txn_6th_mth_flag']].max()\n",
    "t1['txn_grt_100_each_mth_flag'] = 0\n",
    "t1.loc[(t1['txn_l1m_flag']==1) & (t1['txn_2nd_mth_flag']==1) & (t1['txn_3rd_mth_flag']==1) & (t1['txn_4th_mth_flag']==1) & (t1['txn_5th_mth_flag']==1) & (t1['txn_6th_mth_flag']==1),'txn_grt_100_each_mth_flag'] = 1\n",
    "\n",
    "base_df = base_df.merge(t1[['business_id','txn_grt_100_each_mth_flag']],how='left',on = 'business_id')\n"
   ]
  },
  {
   "cell_type": "code",
   "execution_count": 48,
   "metadata": {},
   "outputs": [
    {
     "data": {
      "text/plain": [
       "Index(['business_id', 'amount', 'loans_flag', 'payroll_flag', 'pos_flag',\n",
       "       'ecom_flag', 'third_party_flag', 'service_flag', 'shops_flag',\n",
       "       'ach_flag',\n",
       "       ...\n",
       "       'ratio_amt_credits_grt_500_credits_grt_1500_6M',\n",
       "       'ratio_amt_credits_grt_500_credits_grt_1500_3M',\n",
       "       'ratio_cnt_credits_less_100_credits_grt_500_6M',\n",
       "       'ratio_cnt_credits_less_100_credits_grt_500_3M',\n",
       "       'ratio_cnt_credits_less_100_credits_grt_1500_6M',\n",
       "       'ratio_cnt_credits_less_100_credits_grt_1500_3M',\n",
       "       'ratio_cnt_credits_grt_500_credits_grt_1500_6M',\n",
       "       'ratio_cnt_credits_grt_500_credits_grt_1500_3M', 'txn_each_mth_flag',\n",
       "       'txn_grt_100_each_mth_flag'],\n",
       "      dtype='object', length=249)"
      ]
     },
     "execution_count": 48,
     "metadata": {},
     "output_type": "execute_result"
    }
   ],
   "source": [
    "base_df.columns\n",
    "# len(base_df.columns)"
   ]
  },
  {
   "cell_type": "code",
   "execution_count": 49,
   "metadata": {},
   "outputs": [],
   "source": [
    "final_df = base_df.copy()"
   ]
  },
  {
   "cell_type": "code",
   "execution_count": 50,
   "metadata": {},
   "outputs": [
    {
     "data": {
      "text/plain": [
       "(5, 250)"
      ]
     },
     "execution_count": 50,
     "metadata": {},
     "output_type": "execute_result"
    }
   ],
   "source": [
    "t = pd.DataFrame(df['business_id'].unique(),columns=['business_id'])\n",
    "t['txn_flag'] = 1\n",
    "final_df = final_df.merge(t,how='left',on='business_id')\n",
    "final_df['txn_flag'] = final_df['txn_flag'].fillna(0)\n",
    "final_df.shape"
   ]
  },
  {
   "cell_type": "code",
   "execution_count": 51,
   "metadata": {},
   "outputs": [
    {
     "data": {
      "text/plain": [
       "1    5\n",
       "Name: txn_flag, dtype: int64"
      ]
     },
     "execution_count": 51,
     "metadata": {},
     "output_type": "execute_result"
    }
   ],
   "source": [
    "final_df['txn_flag'].value_counts()"
   ]
  },
  {
   "cell_type": "code",
   "execution_count": 52,
   "metadata": {},
   "outputs": [],
   "source": [
    "feat_list = ['business_id',\n",
    "'count_credits_grt_500_3M',\n",
    "'ratio_amt_credits_less_100_credits_grt_500_3M',\n",
    "'ach_count_6M',\n",
    "'median_pos_amt_3M',\n",
    "'median_credit_amt_1M',\n",
    "'ratio_pos_size_1M_6M',\n",
    "'loans_size_6M',\n",
    "'credit_size_3M',\n",
    "'pos_size_1M']\n"
   ]
  },
  {
   "cell_type": "code",
   "execution_count": 53,
   "metadata": {},
   "outputs": [],
   "source": [
    "final_df[feat_list].to_clipboard()"
   ]
  },
  {
   "cell_type": "code",
   "execution_count": 58,
   "metadata": {},
   "outputs": [
    {
     "data": {
      "text/html": [
       "<div>\n",
       "<style scoped>\n",
       "    .dataframe tbody tr th:only-of-type {\n",
       "        vertical-align: middle;\n",
       "    }\n",
       "\n",
       "    .dataframe tbody tr th {\n",
       "        vertical-align: top;\n",
       "    }\n",
       "\n",
       "    .dataframe thead th {\n",
       "        text-align: right;\n",
       "    }\n",
       "</style>\n",
       "<table border=\"1\" class=\"dataframe\">\n",
       "  <thead>\n",
       "    <tr style=\"text-align: right;\">\n",
       "      <th></th>\n",
       "      <th>id</th>\n",
       "      <th>transaction_id</th>\n",
       "      <th>business_id</th>\n",
       "      <th>external_account_id</th>\n",
       "      <th>plaid_account_id</th>\n",
       "      <th>plaid_item_id</th>\n",
       "      <th>description</th>\n",
       "      <th>categories</th>\n",
       "      <th>amount</th>\n",
       "      <th>type</th>\n",
       "      <th>...</th>\n",
       "      <th>ach_flag</th>\n",
       "      <th>1M_flag</th>\n",
       "      <th>3M_flag</th>\n",
       "      <th>6M_flag</th>\n",
       "      <th>txn_l1m_flag</th>\n",
       "      <th>txn_2nd_mth_flag</th>\n",
       "      <th>txn_3rd_mth_flag</th>\n",
       "      <th>txn_4th_mth_flag</th>\n",
       "      <th>txn_5th_mth_flag</th>\n",
       "      <th>txn_6th_mth_flag</th>\n",
       "    </tr>\n",
       "  </thead>\n",
       "  <tbody>\n",
       "    <tr>\n",
       "      <th>635</th>\n",
       "      <td>b28ce121-fa22-4a5b-8413-9a1044d729ed</td>\n",
       "      <td>zeggqDVeEJHpkaJZnnNacgqBb7ndLBTzz70zx</td>\n",
       "      <td>07bb4be8-674f-40fb-acf7-116ca4ed257c</td>\n",
       "      <td>bfcf55b0-b183-4b92-add8-e2abe391435c</td>\n",
       "      <td>B500KvP5ORT4YzVyggDrhj4vv0dB6kHdPdQob</td>\n",
       "      <td>d2ef3f5b-ea90-4d9c-8a16-30b2fabfb95d</td>\n",
       "      <td>CRB UPL LOAN PPD ID: 9088507376</td>\n",
       "      <td>Service,Financial,Loans and Mortgages</td>\n",
       "      <td>12819.75</td>\n",
       "      <td>credit</td>\n",
       "      <td>...</td>\n",
       "      <td>0</td>\n",
       "      <td>0</td>\n",
       "      <td>0</td>\n",
       "      <td>0</td>\n",
       "      <td>0</td>\n",
       "      <td>0</td>\n",
       "      <td>0</td>\n",
       "      <td>0</td>\n",
       "      <td>0</td>\n",
       "      <td>0</td>\n",
       "    </tr>\n",
       "  </tbody>\n",
       "</table>\n",
       "<p>1 rows × 36 columns</p>\n",
       "</div>"
      ],
      "text/plain": [
       "                                       id  \\\n",
       "635  b28ce121-fa22-4a5b-8413-9a1044d729ed   \n",
       "\n",
       "                            transaction_id  \\\n",
       "635  zeggqDVeEJHpkaJZnnNacgqBb7ndLBTzz70zx   \n",
       "\n",
       "                              business_id  \\\n",
       "635  07bb4be8-674f-40fb-acf7-116ca4ed257c   \n",
       "\n",
       "                      external_account_id  \\\n",
       "635  bfcf55b0-b183-4b92-add8-e2abe391435c   \n",
       "\n",
       "                          plaid_account_id  \\\n",
       "635  B500KvP5ORT4YzVyggDrhj4vv0dB6kHdPdQob   \n",
       "\n",
       "                            plaid_item_id                      description  \\\n",
       "635  d2ef3f5b-ea90-4d9c-8a16-30b2fabfb95d  CRB UPL LOAN PPD ID: 9088507376   \n",
       "\n",
       "                                categories    amount    type  ... ach_flag  \\\n",
       "635  Service,Financial,Loans and Mortgages  12819.75  credit  ...        0   \n",
       "\n",
       "    1M_flag 3M_flag 6M_flag txn_l1m_flag txn_2nd_mth_flag txn_3rd_mth_flag  \\\n",
       "635       0       0       0            0                0                0   \n",
       "\n",
       "    txn_4th_mth_flag  txn_5th_mth_flag  txn_6th_mth_flag  \n",
       "635                0                 0                 0  \n",
       "\n",
       "[1 rows x 36 columns]"
      ]
     },
     "execution_count": 58,
     "metadata": {},
     "output_type": "execute_result"
    }
   ],
   "source": [
    "df[(df['business_id']=='07bb4be8-674f-40fb-acf7-116ca4ed257c')&(df['loans_flag']==1)]"
   ]
  },
  {
   "cell_type": "code",
   "execution_count": 63,
   "metadata": {},
   "outputs": [
    {
     "data": {
      "text/html": [
       "<div>\n",
       "<style scoped>\n",
       "    .dataframe tbody tr th:only-of-type {\n",
       "        vertical-align: middle;\n",
       "    }\n",
       "\n",
       "    .dataframe tbody tr th {\n",
       "        vertical-align: top;\n",
       "    }\n",
       "\n",
       "    .dataframe thead th {\n",
       "        text-align: right;\n",
       "    }\n",
       "</style>\n",
       "<table border=\"1\" class=\"dataframe\">\n",
       "  <thead>\n",
       "    <tr style=\"text-align: right;\">\n",
       "      <th></th>\n",
       "      <th>id</th>\n",
       "      <th>transaction_id</th>\n",
       "      <th>business_id</th>\n",
       "      <th>external_account_id</th>\n",
       "      <th>plaid_account_id</th>\n",
       "      <th>plaid_item_id</th>\n",
       "      <th>description</th>\n",
       "      <th>categories</th>\n",
       "      <th>amount</th>\n",
       "      <th>type</th>\n",
       "      <th>...</th>\n",
       "      <th>ach_flag</th>\n",
       "      <th>1M_flag</th>\n",
       "      <th>3M_flag</th>\n",
       "      <th>6M_flag</th>\n",
       "      <th>txn_l1m_flag</th>\n",
       "      <th>txn_2nd_mth_flag</th>\n",
       "      <th>txn_3rd_mth_flag</th>\n",
       "      <th>txn_4th_mth_flag</th>\n",
       "      <th>txn_5th_mth_flag</th>\n",
       "      <th>txn_6th_mth_flag</th>\n",
       "    </tr>\n",
       "  </thead>\n",
       "  <tbody>\n",
       "  </tbody>\n",
       "</table>\n",
       "<p>0 rows × 36 columns</p>\n",
       "</div>"
      ],
      "text/plain": [
       "Empty DataFrame\n",
       "Columns: [id, transaction_id, business_id, external_account_id, plaid_account_id, plaid_item_id, description, categories, amount, type, date, retrieved_at, pending, iso_currency_code, merchant_name, created_at, updated_at, today, datediff, pos_flag, loans_flag, payroll_flag, ecom_flag, third_party_flag, service_flag, shops_flag, ach_flag, 1M_flag, 3M_flag, 6M_flag, txn_l1m_flag, txn_2nd_mth_flag, txn_3rd_mth_flag, txn_4th_mth_flag, txn_5th_mth_flag, txn_6th_mth_flag]\n",
       "Index: []\n",
       "\n",
       "[0 rows x 36 columns]"
      ]
     },
     "execution_count": 63,
     "metadata": {},
     "output_type": "execute_result"
    }
   ],
   "source": [
    "df[(df['business_id']=='07bb4be8-674f-40fb-acf7-116ca4ed257c')&(df['loans_flag']==1)&(df['6M_flag']==1)]"
   ]
  },
  {
   "cell_type": "code",
   "execution_count": 57,
   "metadata": {},
   "outputs": [
    {
     "data": {
      "text/plain": [
       "600   2022-06-21\n",
       "602   2022-06-08\n",
       "Name: date, dtype: datetime64[ns]"
      ]
     },
     "execution_count": 57,
     "metadata": {},
     "output_type": "execute_result"
    }
   ],
   "source": [
    "df[(df['business_id']=='07bb4be8-674f-40fb-acf7-116ca4ed257c')&(df['ach_flag']==1)]['date']"
   ]
  }
 ],
 "metadata": {
  "kernelspec": {
   "display_name": "Python 3.10.5 64-bit",
   "language": "python",
   "name": "python3"
  },
  "language_info": {
   "codemirror_mode": {
    "name": "ipython",
    "version": 3
   },
   "file_extension": ".py",
   "mimetype": "text/x-python",
   "name": "python",
   "nbconvert_exporter": "python",
   "pygments_lexer": "ipython3",
   "version": "3.10.5"
  },
  "orig_nbformat": 4,
  "vscode": {
   "interpreter": {
    "hash": "aee8b7b246df8f9039afb4144a1f6fd8d2ca17a180786b69acc140d282b71a49"
   }
  }
 },
 "nbformat": 4,
 "nbformat_minor": 2
}
