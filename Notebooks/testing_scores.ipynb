{
 "cells": [
  {
   "cell_type": "code",
   "execution_count": 1,
   "metadata": {},
   "outputs": [
    {
     "name": "stdout",
     "output_type": "stream",
     "text": [
      "/Users/shashankgupta/Documents/code/git_project/plaid_credit\n",
      "/Users/shashankgupta/Documents/code/git_project/plaid_credit/Code\n"
     ]
    }
   ],
   "source": [
    "import os \n",
    "cwd = os.getcwd()\n",
    "\n",
    "os.chdir('../')\n",
    "cwd = os.getcwd()\n",
    "print(cwd)\n",
    "\n",
    "os.chdir('./code/')\n",
    "cwd = os.getcwd()\n",
    "print(cwd)\n",
    "\n",
    "import pandas as pd \n",
    "import numpy as np \n",
    "import seaborn as sns\n",
    "from sklearn.metrics import  roc_auc_score\n",
    "\n",
    "import pickle \n",
    "import logging\n",
    "\n",
    "\n",
    "# from config.config import SQLQuery\n",
    "# querySno = SQLQuery('snowflake')"
   ]
  },
  {
   "cell_type": "code",
   "execution_count": 2,
   "metadata": {},
   "outputs": [],
   "source": [
    "from preprocess import Convert,MissingValues,Outlier,FeatureSelection\n",
    "from feature_transformation import Scaler,Transform,Selection\n",
    "from model_building import split_test_train, feature_encoding, classification_models\n",
    "from model_evaluations import model_metrics, feature_importance, probability_bins, cross_validation\n",
    "from sklearn.preprocessing import StandardScaler, MinMaxScaler, RobustScaler, Normalizer\n",
    "\n",
    "from statsmodels.stats.outliers_influence import variance_inflation_factor\n",
    "\n",
    "# object initiation \n",
    "tf = Transform()\n",
    "sel = Selection()\n",
    "ft = FeatureSelection()\n",
    "cv = Convert()\n",
    "mv = MissingValues()\n",
    "ot = Outlier()\n",
    "\n",
    "# set seed\n",
    "seed = 37"
   ]
  },
  {
   "cell_type": "code",
   "execution_count": 3,
   "metadata": {},
   "outputs": [
    {
     "data": {
      "text/plain": [
       "(5, 10)"
      ]
     },
     "execution_count": 3,
     "metadata": {},
     "output_type": "execute_result"
    }
   ],
   "source": [
    "df_raw = pd.read_pickle('/Users/shashankgupta/Documents/code/git_project/plaid_credit/data/testing_features.pkl')\n",
    "df_raw.shape"
   ]
  },
  {
   "cell_type": "code",
   "execution_count": 4,
   "metadata": {},
   "outputs": [],
   "source": [
    "feat_list = ['credit_size_3M',\n",
    " 'pos_size_1M',\n",
    " 'ratio_amt_credits_less_100_credits_grt_500_3M',\n",
    " 'median_credit_amt_1M',\n",
    " 'ratio_pos_size_1M_6M',\n",
    " 'median_pos_amt_3M',\n",
    " 'count_credits_grt_500_3M',\n",
    " 'loans_size_6M',\n",
    " 'ach_count_6M']"
   ]
  },
  {
   "cell_type": "code",
   "execution_count": 7,
   "metadata": {},
   "outputs": [],
   "source": [
    "keep_cols = ['business_id']"
   ]
  },
  {
   "cell_type": "code",
   "execution_count": 8,
   "metadata": {},
   "outputs": [
    {
     "data": {
      "text/plain": [
       "(5, 10)"
      ]
     },
     "execution_count": 8,
     "metadata": {},
     "output_type": "execute_result"
    }
   ],
   "source": [
    "df_raw = df_raw[keep_cols + feat_list]\n",
    "df_raw.shape"
   ]
  },
  {
   "cell_type": "code",
   "execution_count": 9,
   "metadata": {},
   "outputs": [
    {
     "data": {
      "text/html": [
       "<div>\n",
       "<style scoped>\n",
       "    .dataframe tbody tr th:only-of-type {\n",
       "        vertical-align: middle;\n",
       "    }\n",
       "\n",
       "    .dataframe tbody tr th {\n",
       "        vertical-align: top;\n",
       "    }\n",
       "\n",
       "    .dataframe thead th {\n",
       "        text-align: right;\n",
       "    }\n",
       "</style>\n",
       "<table border=\"1\" class=\"dataframe\">\n",
       "  <thead>\n",
       "    <tr style=\"text-align: right;\">\n",
       "      <th></th>\n",
       "      <th>business_id</th>\n",
       "      <th>credit_size_3M</th>\n",
       "      <th>pos_size_1M</th>\n",
       "      <th>ratio_amt_credits_less_100_credits_grt_500_3M</th>\n",
       "      <th>median_credit_amt_1M</th>\n",
       "      <th>ratio_pos_size_1M_6M</th>\n",
       "      <th>median_pos_amt_3M</th>\n",
       "      <th>count_credits_grt_500_3M</th>\n",
       "      <th>loans_size_6M</th>\n",
       "      <th>ach_count_6M</th>\n",
       "    </tr>\n",
       "  </thead>\n",
       "  <tbody>\n",
       "    <tr>\n",
       "      <th>2</th>\n",
       "      <td>3c4f32e9-c92a-4fd5-9303-9365bf5f392e</td>\n",
       "      <td>65.053158</td>\n",
       "      <td>6.085</td>\n",
       "      <td>NaN</td>\n",
       "      <td>12.170</td>\n",
       "      <td>0.291334</td>\n",
       "      <td>29.83</td>\n",
       "      <td>NaN</td>\n",
       "      <td>NaN</td>\n",
       "      <td>NaN</td>\n",
       "    </tr>\n",
       "    <tr>\n",
       "      <th>1</th>\n",
       "      <td>3369b5d7-92a0-4d8a-813b-11f34abd34d6</td>\n",
       "      <td>2474.628333</td>\n",
       "      <td>NaN</td>\n",
       "      <td>0.000356</td>\n",
       "      <td>270.000</td>\n",
       "      <td>NaN</td>\n",
       "      <td>4791.28</td>\n",
       "      <td>12.0</td>\n",
       "      <td>NaN</td>\n",
       "      <td>2.0</td>\n",
       "    </tr>\n",
       "    <tr>\n",
       "      <th>0</th>\n",
       "      <td>07bb4be8-674f-40fb-acf7-116ca4ed257c</td>\n",
       "      <td>830.732500</td>\n",
       "      <td>NaN</td>\n",
       "      <td>0.008015</td>\n",
       "      <td>55.345</td>\n",
       "      <td>NaN</td>\n",
       "      <td>NaN</td>\n",
       "      <td>1.0</td>\n",
       "      <td>NaN</td>\n",
       "      <td>NaN</td>\n",
       "    </tr>\n",
       "    <tr>\n",
       "      <th>3</th>\n",
       "      <td>8105af48-e73f-4f4b-9913-6cb3153a7556</td>\n",
       "      <td>119.084595</td>\n",
       "      <td>NaN</td>\n",
       "      <td>0.013856</td>\n",
       "      <td>1.130</td>\n",
       "      <td>NaN</td>\n",
       "      <td>NaN</td>\n",
       "      <td>4.0</td>\n",
       "      <td>NaN</td>\n",
       "      <td>NaN</td>\n",
       "    </tr>\n",
       "    <tr>\n",
       "      <th>4</th>\n",
       "      <td>c95b45e5-9df5-496b-a6d2-a890544f58e7</td>\n",
       "      <td>NaN</td>\n",
       "      <td>NaN</td>\n",
       "      <td>NaN</td>\n",
       "      <td>NaN</td>\n",
       "      <td>NaN</td>\n",
       "      <td>NaN</td>\n",
       "      <td>NaN</td>\n",
       "      <td>NaN</td>\n",
       "      <td>NaN</td>\n",
       "    </tr>\n",
       "  </tbody>\n",
       "</table>\n",
       "</div>"
      ],
      "text/plain": [
       "                            business_id  credit_size_3M  pos_size_1M  \\\n",
       "2  3c4f32e9-c92a-4fd5-9303-9365bf5f392e       65.053158        6.085   \n",
       "1  3369b5d7-92a0-4d8a-813b-11f34abd34d6     2474.628333          NaN   \n",
       "0  07bb4be8-674f-40fb-acf7-116ca4ed257c      830.732500          NaN   \n",
       "3  8105af48-e73f-4f4b-9913-6cb3153a7556      119.084595          NaN   \n",
       "4  c95b45e5-9df5-496b-a6d2-a890544f58e7             NaN          NaN   \n",
       "\n",
       "   ratio_amt_credits_less_100_credits_grt_500_3M  median_credit_amt_1M  \\\n",
       "2                                            NaN                12.170   \n",
       "1                                       0.000356               270.000   \n",
       "0                                       0.008015                55.345   \n",
       "3                                       0.013856                 1.130   \n",
       "4                                            NaN                   NaN   \n",
       "\n",
       "   ratio_pos_size_1M_6M  median_pos_amt_3M  count_credits_grt_500_3M  \\\n",
       "2              0.291334              29.83                       NaN   \n",
       "1                   NaN            4791.28                      12.0   \n",
       "0                   NaN                NaN                       1.0   \n",
       "3                   NaN                NaN                       4.0   \n",
       "4                   NaN                NaN                       NaN   \n",
       "\n",
       "   loans_size_6M  ach_count_6M  \n",
       "2            NaN           NaN  \n",
       "1            NaN           2.0  \n",
       "0            NaN           NaN  \n",
       "3            NaN           NaN  \n",
       "4            NaN           NaN  "
      ]
     },
     "execution_count": 9,
     "metadata": {},
     "output_type": "execute_result"
    }
   ],
   "source": [
    "df_raw.sample(5)"
   ]
  },
  {
   "cell_type": "code",
   "execution_count": 10,
   "metadata": {},
   "outputs": [
    {
     "data": {
      "text/html": [
       "<div>\n",
       "<style scoped>\n",
       "    .dataframe tbody tr th:only-of-type {\n",
       "        vertical-align: middle;\n",
       "    }\n",
       "\n",
       "    .dataframe tbody tr th {\n",
       "        vertical-align: top;\n",
       "    }\n",
       "\n",
       "    .dataframe thead th {\n",
       "        text-align: right;\n",
       "    }\n",
       "</style>\n",
       "<table border=\"1\" class=\"dataframe\">\n",
       "  <thead>\n",
       "    <tr style=\"text-align: right;\">\n",
       "      <th></th>\n",
       "      <th>credit_size_3M</th>\n",
       "      <th>pos_size_1M</th>\n",
       "      <th>ratio_amt_credits_less_100_credits_grt_500_3M</th>\n",
       "      <th>median_credit_amt_1M</th>\n",
       "      <th>ratio_pos_size_1M_6M</th>\n",
       "      <th>median_pos_amt_3M</th>\n",
       "      <th>count_credits_grt_500_3M</th>\n",
       "      <th>loans_size_6M</th>\n",
       "      <th>ach_count_6M</th>\n",
       "    </tr>\n",
       "  </thead>\n",
       "  <tbody>\n",
       "    <tr>\n",
       "      <th>count</th>\n",
       "      <td>4.000000</td>\n",
       "      <td>1.000</td>\n",
       "      <td>3.000000</td>\n",
       "      <td>4.000000</td>\n",
       "      <td>1.000000</td>\n",
       "      <td>2.000000</td>\n",
       "      <td>3.000000</td>\n",
       "      <td>0.0</td>\n",
       "      <td>1.0</td>\n",
       "    </tr>\n",
       "    <tr>\n",
       "      <th>mean</th>\n",
       "      <td>872.374646</td>\n",
       "      <td>6.085</td>\n",
       "      <td>0.007409</td>\n",
       "      <td>84.661250</td>\n",
       "      <td>0.291334</td>\n",
       "      <td>2410.555000</td>\n",
       "      <td>5.666667</td>\n",
       "      <td>NaN</td>\n",
       "      <td>2.0</td>\n",
       "    </tr>\n",
       "    <tr>\n",
       "      <th>std</th>\n",
       "      <td>1123.708864</td>\n",
       "      <td>NaN</td>\n",
       "      <td>0.006770</td>\n",
       "      <td>125.754186</td>\n",
       "      <td>NaN</td>\n",
       "      <td>3366.853583</td>\n",
       "      <td>5.686241</td>\n",
       "      <td>NaN</td>\n",
       "      <td>NaN</td>\n",
       "    </tr>\n",
       "    <tr>\n",
       "      <th>min</th>\n",
       "      <td>65.053158</td>\n",
       "      <td>6.085</td>\n",
       "      <td>0.000356</td>\n",
       "      <td>1.130000</td>\n",
       "      <td>0.291334</td>\n",
       "      <td>29.830000</td>\n",
       "      <td>1.000000</td>\n",
       "      <td>NaN</td>\n",
       "      <td>2.0</td>\n",
       "    </tr>\n",
       "    <tr>\n",
       "      <th>25%</th>\n",
       "      <td>105.576735</td>\n",
       "      <td>6.085</td>\n",
       "      <td>0.004186</td>\n",
       "      <td>9.410000</td>\n",
       "      <td>0.291334</td>\n",
       "      <td>1220.192500</td>\n",
       "      <td>2.500000</td>\n",
       "      <td>NaN</td>\n",
       "      <td>2.0</td>\n",
       "    </tr>\n",
       "    <tr>\n",
       "      <th>50%</th>\n",
       "      <td>474.908547</td>\n",
       "      <td>6.085</td>\n",
       "      <td>0.008015</td>\n",
       "      <td>33.757500</td>\n",
       "      <td>0.291334</td>\n",
       "      <td>2410.555000</td>\n",
       "      <td>4.000000</td>\n",
       "      <td>NaN</td>\n",
       "      <td>2.0</td>\n",
       "    </tr>\n",
       "    <tr>\n",
       "      <th>75%</th>\n",
       "      <td>1241.706458</td>\n",
       "      <td>6.085</td>\n",
       "      <td>0.010936</td>\n",
       "      <td>109.008750</td>\n",
       "      <td>0.291334</td>\n",
       "      <td>3600.917500</td>\n",
       "      <td>8.000000</td>\n",
       "      <td>NaN</td>\n",
       "      <td>2.0</td>\n",
       "    </tr>\n",
       "    <tr>\n",
       "      <th>max</th>\n",
       "      <td>2474.628333</td>\n",
       "      <td>6.085</td>\n",
       "      <td>0.013856</td>\n",
       "      <td>270.000000</td>\n",
       "      <td>0.291334</td>\n",
       "      <td>4791.280000</td>\n",
       "      <td>12.000000</td>\n",
       "      <td>NaN</td>\n",
       "      <td>2.0</td>\n",
       "    </tr>\n",
       "  </tbody>\n",
       "</table>\n",
       "</div>"
      ],
      "text/plain": [
       "       credit_size_3M  pos_size_1M  \\\n",
       "count        4.000000        1.000   \n",
       "mean       872.374646        6.085   \n",
       "std       1123.708864          NaN   \n",
       "min         65.053158        6.085   \n",
       "25%        105.576735        6.085   \n",
       "50%        474.908547        6.085   \n",
       "75%       1241.706458        6.085   \n",
       "max       2474.628333        6.085   \n",
       "\n",
       "       ratio_amt_credits_less_100_credits_grt_500_3M  median_credit_amt_1M  \\\n",
       "count                                       3.000000              4.000000   \n",
       "mean                                        0.007409             84.661250   \n",
       "std                                         0.006770            125.754186   \n",
       "min                                         0.000356              1.130000   \n",
       "25%                                         0.004186              9.410000   \n",
       "50%                                         0.008015             33.757500   \n",
       "75%                                         0.010936            109.008750   \n",
       "max                                         0.013856            270.000000   \n",
       "\n",
       "       ratio_pos_size_1M_6M  median_pos_amt_3M  count_credits_grt_500_3M  \\\n",
       "count              1.000000           2.000000                  3.000000   \n",
       "mean               0.291334        2410.555000                  5.666667   \n",
       "std                     NaN        3366.853583                  5.686241   \n",
       "min                0.291334          29.830000                  1.000000   \n",
       "25%                0.291334        1220.192500                  2.500000   \n",
       "50%                0.291334        2410.555000                  4.000000   \n",
       "75%                0.291334        3600.917500                  8.000000   \n",
       "max                0.291334        4791.280000                 12.000000   \n",
       "\n",
       "       loans_size_6M  ach_count_6M  \n",
       "count            0.0           1.0  \n",
       "mean             NaN           2.0  \n",
       "std              NaN           NaN  \n",
       "min              NaN           2.0  \n",
       "25%              NaN           2.0  \n",
       "50%              NaN           2.0  \n",
       "75%              NaN           2.0  \n",
       "max              NaN           2.0  "
      ]
     },
     "execution_count": 10,
     "metadata": {},
     "output_type": "execute_result"
    }
   ],
   "source": [
    "df_raw.describe()"
   ]
  },
  {
   "cell_type": "code",
   "execution_count": 11,
   "metadata": {},
   "outputs": [],
   "source": [
    "median_dict = {'credit_size_3M' : 774.588458,\n",
    "                'pos_size_1M' : 281.750000,\n",
    "                'ratio_amt_credits_less_100_credits_grt_500_3M' : 9.341087e-03,\n",
    "                'median_credit_amt_1M' : 369.600000,\n",
    "                'ratio_pos_size_1M_6M' : 0.692535,\n",
    "                'median_pos_amt_3M' : 300,\n",
    "                'count_credits_grt_500_3M' : 10,\n",
    "                'loans_size_6M' : 783.3,\n",
    "                'ach_count_6M' : 5}"
   ]
  },
  {
   "cell_type": "code",
   "execution_count": 12,
   "metadata": {},
   "outputs": [
    {
     "ename": "KeyError",
     "evalue": "'txn_flag'",
     "output_type": "error",
     "traceback": [
      "\u001b[0;31m---------------------------------------------------------------------------\u001b[0m",
      "\u001b[0;31mKeyError\u001b[0m                                  Traceback (most recent call last)",
      "File \u001b[0;32m~/.pyenv/versions/3.9.17/envs/venv_plaid_credit/lib/python3.9/site-packages/pandas/core/indexes/base.py:3652\u001b[0m, in \u001b[0;36mIndex.get_loc\u001b[0;34m(self, key)\u001b[0m\n\u001b[1;32m   3651\u001b[0m \u001b[39mtry\u001b[39;00m:\n\u001b[0;32m-> 3652\u001b[0m     \u001b[39mreturn\u001b[39;00m \u001b[39mself\u001b[39;49m\u001b[39m.\u001b[39;49m_engine\u001b[39m.\u001b[39;49mget_loc(casted_key)\n\u001b[1;32m   3653\u001b[0m \u001b[39mexcept\u001b[39;00m \u001b[39mKeyError\u001b[39;00m \u001b[39mas\u001b[39;00m err:\n",
      "File \u001b[0;32m~/.pyenv/versions/3.9.17/envs/venv_plaid_credit/lib/python3.9/site-packages/pandas/_libs/index.pyx:147\u001b[0m, in \u001b[0;36mpandas._libs.index.IndexEngine.get_loc\u001b[0;34m()\u001b[0m\n",
      "File \u001b[0;32m~/.pyenv/versions/3.9.17/envs/venv_plaid_credit/lib/python3.9/site-packages/pandas/_libs/index.pyx:176\u001b[0m, in \u001b[0;36mpandas._libs.index.IndexEngine.get_loc\u001b[0;34m()\u001b[0m\n",
      "File \u001b[0;32mpandas/_libs/hashtable_class_helper.pxi:7080\u001b[0m, in \u001b[0;36mpandas._libs.hashtable.PyObjectHashTable.get_item\u001b[0;34m()\u001b[0m\n",
      "File \u001b[0;32mpandas/_libs/hashtable_class_helper.pxi:7088\u001b[0m, in \u001b[0;36mpandas._libs.hashtable.PyObjectHashTable.get_item\u001b[0;34m()\u001b[0m\n",
      "\u001b[0;31mKeyError\u001b[0m: 'txn_flag'",
      "\nThe above exception was the direct cause of the following exception:\n",
      "\u001b[0;31mKeyError\u001b[0m                                  Traceback (most recent call last)",
      "Cell \u001b[0;32mIn[12], line 1\u001b[0m\n\u001b[0;32m----> 1\u001b[0m df_raw[df_raw[\u001b[38;5;124m'\u001b[39m\u001b[38;5;124mtxn_flag\u001b[39m\u001b[38;5;124m'\u001b[39m] \u001b[38;5;241m==\u001b[39m \u001b[38;5;241m0\u001b[39m] \u001b[38;5;241m=\u001b[39m df_raw[\u001b[43mdf_raw\u001b[49m\u001b[43m[\u001b[49m\u001b[38;5;124;43m'\u001b[39;49m\u001b[38;5;124;43mtxn_flag\u001b[39;49m\u001b[38;5;124;43m'\u001b[39;49m\u001b[43m]\u001b[49m \u001b[38;5;241m==\u001b[39m \u001b[38;5;241m0\u001b[39m]\u001b[38;5;241m.\u001b[39mfillna(median_dict)\n",
      "File \u001b[0;32m~/.pyenv/versions/3.9.17/envs/venv_plaid_credit/lib/python3.9/site-packages/pandas/core/frame.py:3761\u001b[0m, in \u001b[0;36mDataFrame.__getitem__\u001b[0;34m(self, key)\u001b[0m\n\u001b[1;32m   3759\u001b[0m \u001b[39mif\u001b[39;00m \u001b[39mself\u001b[39m\u001b[39m.\u001b[39mcolumns\u001b[39m.\u001b[39mnlevels \u001b[39m>\u001b[39m \u001b[39m1\u001b[39m:\n\u001b[1;32m   3760\u001b[0m     \u001b[39mreturn\u001b[39;00m \u001b[39mself\u001b[39m\u001b[39m.\u001b[39m_getitem_multilevel(key)\n\u001b[0;32m-> 3761\u001b[0m indexer \u001b[39m=\u001b[39m \u001b[39mself\u001b[39;49m\u001b[39m.\u001b[39;49mcolumns\u001b[39m.\u001b[39;49mget_loc(key)\n\u001b[1;32m   3762\u001b[0m \u001b[39mif\u001b[39;00m is_integer(indexer):\n\u001b[1;32m   3763\u001b[0m     indexer \u001b[39m=\u001b[39m [indexer]\n",
      "File \u001b[0;32m~/.pyenv/versions/3.9.17/envs/venv_plaid_credit/lib/python3.9/site-packages/pandas/core/indexes/base.py:3654\u001b[0m, in \u001b[0;36mIndex.get_loc\u001b[0;34m(self, key)\u001b[0m\n\u001b[1;32m   3652\u001b[0m     \u001b[39mreturn\u001b[39;00m \u001b[39mself\u001b[39m\u001b[39m.\u001b[39m_engine\u001b[39m.\u001b[39mget_loc(casted_key)\n\u001b[1;32m   3653\u001b[0m \u001b[39mexcept\u001b[39;00m \u001b[39mKeyError\u001b[39;00m \u001b[39mas\u001b[39;00m err:\n\u001b[0;32m-> 3654\u001b[0m     \u001b[39mraise\u001b[39;00m \u001b[39mKeyError\u001b[39;00m(key) \u001b[39mfrom\u001b[39;00m \u001b[39merr\u001b[39;00m\n\u001b[1;32m   3655\u001b[0m \u001b[39mexcept\u001b[39;00m \u001b[39mTypeError\u001b[39;00m:\n\u001b[1;32m   3656\u001b[0m     \u001b[39m# If we have a listlike key, _check_indexing_error will raise\u001b[39;00m\n\u001b[1;32m   3657\u001b[0m     \u001b[39m#  InvalidIndexError. Otherwise we fall through and re-raise\u001b[39;00m\n\u001b[1;32m   3658\u001b[0m     \u001b[39m#  the TypeError.\u001b[39;00m\n\u001b[1;32m   3659\u001b[0m     \u001b[39mself\u001b[39m\u001b[39m.\u001b[39m_check_indexing_error(key)\n",
      "\u001b[0;31mKeyError\u001b[0m: 'txn_flag'"
     ]
    }
   ],
   "source": [
    "df_raw[df_raw['txn_flag'] == 0] = df_raw[df_raw['txn_flag'] == 0].fillna(median_dict)"
   ]
  },
  {
   "cell_type": "code",
   "execution_count": 13,
   "metadata": {},
   "outputs": [
    {
     "data": {
      "text/plain": [
       "0"
      ]
     },
     "execution_count": 13,
     "metadata": {},
     "output_type": "execute_result"
    }
   ],
   "source": [
    "df_raw = df_raw.fillna(0)\n",
    "df_raw.isnull().sum().sum()"
   ]
  },
  {
   "cell_type": "code",
   "execution_count": null,
   "metadata": {},
   "outputs": [],
   "source": [
    "df_raw.drop('txn_flag',axis=1,inplace=True)"
   ]
  },
  {
   "cell_type": "code",
   "execution_count": null,
   "metadata": {},
   "outputs": [],
   "source": [
    "df_raw['target'] = df_raw['target'].astype('int')"
   ]
  },
  {
   "cell_type": "code",
   "execution_count": null,
   "metadata": {},
   "outputs": [
    {
     "data": {
      "text/plain": [
       "['credit_size_3M',\n",
       " 'pos_size_1M',\n",
       " 'ratio_amt_credits_less_100_credits_grt_500_3M',\n",
       " 'median_credit_amt_1M',\n",
       " 'ratio_pos_size_1M_6M',\n",
       " 'median_pos_amt_3M',\n",
       " 'count_credits_grt_500_3M',\n",
       " 'loans_size_6M',\n",
       " 'ach_count_6M']"
      ]
     },
     "execution_count": 14,
     "metadata": {},
     "output_type": "execute_result"
    }
   ],
   "source": [
    "feat_list"
   ]
  },
  {
   "cell_type": "code",
   "execution_count": 14,
   "metadata": {},
   "outputs": [],
   "source": [
    "transformed_vars = df_raw.copy()"
   ]
  },
  {
   "cell_type": "code",
   "execution_count": 15,
   "metadata": {},
   "outputs": [],
   "source": [
    "# 1\n",
    "# transform\n",
    "col         = 'credit_size_3M'\n",
    "conditions  = [ transformed_vars[col] < 178.8,\n",
    "                (transformed_vars[col] >= 178.9 ) & (transformed_vars[col] < 392.56),\n",
    "                (transformed_vars[col] >= 392.56 ) & (transformed_vars[col] < 2274.8),\n",
    "                transformed_vars[col] >= 2274.8 ]\n",
    "\n",
    "choices     = [-1.056997,-0.484478,0.184337,1.294378]\n",
    "    \n",
    "transformed_vars[\"credit_size_3M\"] = np.select(conditions, choices, default=np.nan)\n",
    "\n",
    "\n",
    "# 2\n",
    "# transform\n",
    "col         = 'pos_size_1M'\n",
    "conditions  = [ transformed_vars[col] < 235.11, \n",
    "                (transformed_vars[col] >= 235.11 ) & (transformed_vars[col] < 979.44), \n",
    "                transformed_vars[col] >= 979.44 ]\n",
    "\n",
    "choices     = [-0.152312,0.159398,1.699843]\n",
    "    \n",
    "transformed_vars[\"pos_size_1M\"] = np.select(conditions, choices, default=np.nan)\n",
    "\n",
    "# 3\n",
    "# transform\n",
    "col         = 'ratio_amt_credits_less_100_credits_grt_500_3M'\n",
    "conditions  = [ transformed_vars[col] <= 0,\n",
    "                transformed_vars[col] > 0 ]\n",
    "\n",
    "choices     = [-0.112536,0.045514]\n",
    "    \n",
    "transformed_vars[\"ratio_amt_credits_less_100_credits_grt_500_3M\"] = np.select(conditions, choices, default=np.nan)\n",
    "\n",
    "# 4\n",
    "# transform\n",
    "col         = 'median_credit_amt_1M'\n",
    "conditions  = [ transformed_vars[col] < 102,\n",
    "                (transformed_vars[col] >= 102 ) & (transformed_vars[col] < 475.2),\n",
    "                transformed_vars[col] >= 475.2 ]\n",
    "\n",
    "choices     = [-0.444738,-0.119068,0.550264]\n",
    "    \n",
    "transformed_vars[\"median_credit_amt_1M\"] = np.select(conditions, choices, default=np.nan)\n",
    "\n",
    "\n",
    "# 5\n",
    "# transform\n",
    "col         = 'ratio_pos_size_1M_6M'\n",
    "conditions  = [ transformed_vars[col] <= 0,\n",
    "                (transformed_vars[col] > 0 ) & (transformed_vars[col] < 1.21),\n",
    "                transformed_vars[col] >= 1.21 ]\n",
    "\n",
    "choices     = [-0.164722,0.141314,1.140227]\n",
    "    \n",
    "transformed_vars[\"ratio_pos_size_1M_6M\"] = np.select(conditions, choices, default=np.nan)\n",
    "\n",
    "# 6\n",
    "# transform\n",
    "col         = 'median_pos_amt_3M'\n",
    "conditions  = [ transformed_vars[col] <= 0,\n",
    "                (transformed_vars[col] > 0 ) & (transformed_vars[col] < 486.25),\n",
    "                transformed_vars[col] >= 486.25 ]\n",
    "\n",
    "choices     = [-0.25334,-0.127284,0.968955]\n",
    "    \n",
    "transformed_vars[\"median_pos_amt_3M\"] = np.select(conditions, choices, default=np.nan)\n",
    "\n",
    "# 7\n",
    "# transform\n",
    "col         = 'count_credits_grt_500_3M'\n",
    "conditions  = [ transformed_vars[col] < 1.5,\n",
    "                (transformed_vars[col] >= 1.5 ) & (transformed_vars[col] < 15.5),\n",
    "                transformed_vars[col] >= 15.5 ]\n",
    "\n",
    "choices     = [-0.450862,-0.000945,0.284561]\n",
    "    \n",
    "transformed_vars[\"count_credits_grt_500_3M\"] = np.select(conditions, choices, default=np.nan)\n",
    "\n",
    "# 8\n",
    "# transform\n",
    "col         = 'loans_size_6M'\n",
    "conditions  = [ transformed_vars[col] <= 0,\n",
    "                (transformed_vars[col] > 0 ) & (transformed_vars[col] < 3317),\n",
    "                transformed_vars[col] >= 3317 ]\n",
    "\n",
    "choices     = [0.08126,-0.605012,0.814805]\n",
    "    \n",
    "transformed_vars[\"loans_size_6M\"] = np.select(conditions, choices, default=np.nan)\n",
    "\n",
    "\n",
    "# 9\n",
    "# transform\n",
    "col         = 'ach_count_6M'\n",
    "conditions  = [ transformed_vars[col] < 6.5,\n",
    "                transformed_vars[col] >= 6.5 ]\n",
    "\n",
    "choices     = [-0.022101,0.149246]\n",
    "    \n",
    "transformed_vars[\"ach_count_6M\"] = np.select(conditions, choices, default=np.nan)\n"
   ]
  },
  {
   "cell_type": "code",
   "execution_count": 16,
   "metadata": {},
   "outputs": [
    {
     "data": {
      "text/html": [
       "<div>\n",
       "<style scoped>\n",
       "    .dataframe tbody tr th:only-of-type {\n",
       "        vertical-align: middle;\n",
       "    }\n",
       "\n",
       "    .dataframe tbody tr th {\n",
       "        vertical-align: top;\n",
       "    }\n",
       "\n",
       "    .dataframe thead th {\n",
       "        text-align: right;\n",
       "    }\n",
       "</style>\n",
       "<table border=\"1\" class=\"dataframe\">\n",
       "  <thead>\n",
       "    <tr style=\"text-align: right;\">\n",
       "      <th></th>\n",
       "      <th>business_id</th>\n",
       "      <th>credit_size_3M</th>\n",
       "      <th>pos_size_1M</th>\n",
       "      <th>ratio_amt_credits_less_100_credits_grt_500_3M</th>\n",
       "      <th>median_credit_amt_1M</th>\n",
       "      <th>ratio_pos_size_1M_6M</th>\n",
       "      <th>median_pos_amt_3M</th>\n",
       "      <th>count_credits_grt_500_3M</th>\n",
       "      <th>loans_size_6M</th>\n",
       "      <th>ach_count_6M</th>\n",
       "    </tr>\n",
       "  </thead>\n",
       "  <tbody>\n",
       "    <tr>\n",
       "      <th>0</th>\n",
       "      <td>07bb4be8-674f-40fb-acf7-116ca4ed257c</td>\n",
       "      <td>0.184337</td>\n",
       "      <td>-0.152312</td>\n",
       "      <td>0.045514</td>\n",
       "      <td>-0.444738</td>\n",
       "      <td>-0.164722</td>\n",
       "      <td>-0.253340</td>\n",
       "      <td>-0.450862</td>\n",
       "      <td>0.08126</td>\n",
       "      <td>-0.022101</td>\n",
       "    </tr>\n",
       "    <tr>\n",
       "      <th>1</th>\n",
       "      <td>3369b5d7-92a0-4d8a-813b-11f34abd34d6</td>\n",
       "      <td>1.294378</td>\n",
       "      <td>-0.152312</td>\n",
       "      <td>0.045514</td>\n",
       "      <td>-0.119068</td>\n",
       "      <td>-0.164722</td>\n",
       "      <td>0.968955</td>\n",
       "      <td>-0.000945</td>\n",
       "      <td>0.08126</td>\n",
       "      <td>-0.022101</td>\n",
       "    </tr>\n",
       "    <tr>\n",
       "      <th>2</th>\n",
       "      <td>3c4f32e9-c92a-4fd5-9303-9365bf5f392e</td>\n",
       "      <td>-1.056997</td>\n",
       "      <td>-0.152312</td>\n",
       "      <td>-0.112536</td>\n",
       "      <td>-0.444738</td>\n",
       "      <td>0.141314</td>\n",
       "      <td>-0.127284</td>\n",
       "      <td>-0.450862</td>\n",
       "      <td>0.08126</td>\n",
       "      <td>-0.022101</td>\n",
       "    </tr>\n",
       "    <tr>\n",
       "      <th>3</th>\n",
       "      <td>8105af48-e73f-4f4b-9913-6cb3153a7556</td>\n",
       "      <td>-1.056997</td>\n",
       "      <td>-0.152312</td>\n",
       "      <td>0.045514</td>\n",
       "      <td>-0.444738</td>\n",
       "      <td>-0.164722</td>\n",
       "      <td>-0.253340</td>\n",
       "      <td>-0.000945</td>\n",
       "      <td>0.08126</td>\n",
       "      <td>-0.022101</td>\n",
       "    </tr>\n",
       "    <tr>\n",
       "      <th>4</th>\n",
       "      <td>c95b45e5-9df5-496b-a6d2-a890544f58e7</td>\n",
       "      <td>-1.056997</td>\n",
       "      <td>-0.152312</td>\n",
       "      <td>-0.112536</td>\n",
       "      <td>-0.444738</td>\n",
       "      <td>-0.164722</td>\n",
       "      <td>-0.253340</td>\n",
       "      <td>-0.450862</td>\n",
       "      <td>0.08126</td>\n",
       "      <td>-0.022101</td>\n",
       "    </tr>\n",
       "  </tbody>\n",
       "</table>\n",
       "</div>"
      ],
      "text/plain": [
       "                            business_id  credit_size_3M  pos_size_1M  \\\n",
       "0  07bb4be8-674f-40fb-acf7-116ca4ed257c        0.184337    -0.152312   \n",
       "1  3369b5d7-92a0-4d8a-813b-11f34abd34d6        1.294378    -0.152312   \n",
       "2  3c4f32e9-c92a-4fd5-9303-9365bf5f392e       -1.056997    -0.152312   \n",
       "3  8105af48-e73f-4f4b-9913-6cb3153a7556       -1.056997    -0.152312   \n",
       "4  c95b45e5-9df5-496b-a6d2-a890544f58e7       -1.056997    -0.152312   \n",
       "\n",
       "   ratio_amt_credits_less_100_credits_grt_500_3M  median_credit_amt_1M  \\\n",
       "0                                       0.045514             -0.444738   \n",
       "1                                       0.045514             -0.119068   \n",
       "2                                      -0.112536             -0.444738   \n",
       "3                                       0.045514             -0.444738   \n",
       "4                                      -0.112536             -0.444738   \n",
       "\n",
       "   ratio_pos_size_1M_6M  median_pos_amt_3M  count_credits_grt_500_3M  \\\n",
       "0             -0.164722          -0.253340                 -0.450862   \n",
       "1             -0.164722           0.968955                 -0.000945   \n",
       "2              0.141314          -0.127284                 -0.450862   \n",
       "3             -0.164722          -0.253340                 -0.000945   \n",
       "4             -0.164722          -0.253340                 -0.450862   \n",
       "\n",
       "   loans_size_6M  ach_count_6M  \n",
       "0        0.08126     -0.022101  \n",
       "1        0.08126     -0.022101  \n",
       "2        0.08126     -0.022101  \n",
       "3        0.08126     -0.022101  \n",
       "4        0.08126     -0.022101  "
      ]
     },
     "execution_count": 16,
     "metadata": {},
     "output_type": "execute_result"
    }
   ],
   "source": [
    "transformed_vars.head()"
   ]
  },
  {
   "cell_type": "code",
   "execution_count": 17,
   "metadata": {},
   "outputs": [],
   "source": [
    "logreg_model = pickle.load(open('/Users/shashankgupta/Documents/code/git_project/plaid_credit/models/final_model.pkl', 'rb'))"
   ]
  },
  {
   "cell_type": "code",
   "execution_count": 18,
   "metadata": {},
   "outputs": [
    {
     "data": {
      "text/plain": [
       "count      5.000000\n",
       "mean     576.880082\n",
       "std       74.568054\n",
       "min      494.874938\n",
       "25%      538.510618\n",
       "50%      549.255823\n",
       "75%      616.750438\n",
       "max      685.008591\n",
       "Name: Ext_IN1_score, dtype: float64"
      ]
     },
     "execution_count": 18,
     "metadata": {},
     "output_type": "execute_result"
    }
   ],
   "source": [
    "# Scoring on full-data\n",
    "\n",
    "scored_df = transformed_vars.copy()\n",
    "scored_df['pred_proba'] = logreg_model.predict_proba(scored_df[feat_list])[:,1]\n",
    "\n",
    "scored_df['odds'] = scored_df['pred_proba'] / (1-scored_df['pred_proba'])\n",
    "scored_df['log_odds'] = np.log(scored_df['odds'])\n",
    "scored_df['Ext_IN1_score'] = 601.7 - (86.6 * scored_df['log_odds'])\n",
    "scored_df.Ext_IN1_score.describe()"
   ]
  },
  {
   "cell_type": "code",
   "execution_count": 22,
   "metadata": {},
   "outputs": [],
   "source": [
    "scored_df[['business_id','Ext_IN1_score']].to_clipboard()"
   ]
  },
  {
   "cell_type": "code",
   "execution_count": null,
   "metadata": {},
   "outputs": [],
   "source": [
    "def bin_logic(x):\n",
    "    if x < 0.261540:\n",
    "        return 5\n",
    "    if x < 0.455167:\n",
    "        return 4\n",
    "    if x < 0.530817:\n",
    "        return 3\n",
    "    if x < 0.628923:\n",
    "        return 2\n",
    "    return 1"
   ]
  },
  {
   "cell_type": "code",
   "execution_count": null,
   "metadata": {},
   "outputs": [],
   "source": [
    "scored_df['Ext_IN1_bin'] = scored_df['pred_proba'].apply(lambda x: bin_logic(x))"
   ]
  },
  {
   "cell_type": "code",
   "execution_count": 21,
   "metadata": {},
   "outputs": [],
   "source": [
    "scored_df.to_clipboard()"
   ]
  },
  {
   "cell_type": "code",
   "execution_count": null,
   "metadata": {},
   "outputs": [
    {
     "name": "stdout",
     "output_type": "stream",
     "text": [
      "<class 'pandas.core.frame.DataFrame'>\n",
      "Index: 646 entries, 0 to 645\n",
      "Data columns (total 18 columns):\n",
      " #   Column                                         Non-Null Count  Dtype  \n",
      "---  ------                                         --------------  -----  \n",
      " 0   business_id                                    646 non-null    object \n",
      " 1   lending_business_id                            646 non-null    object \n",
      " 2   decision_date                                  646 non-null    object \n",
      " 3   target                                         646 non-null    int64  \n",
      " 4   credit_size_3M                                 646 non-null    float64\n",
      " 5   pos_size_1M                                    646 non-null    float64\n",
      " 6   ratio_amt_credits_less_100_credits_grt_500_3M  646 non-null    float64\n",
      " 7   median_credit_amt_1M                           646 non-null    float64\n",
      " 8   ratio_pos_size_1M_6M                           646 non-null    float64\n",
      " 9   median_pos_amt_3M                              646 non-null    float64\n",
      " 10  count_credits_grt_500_3M                       646 non-null    float64\n",
      " 11  loans_size_6M                                  646 non-null    float64\n",
      " 12  ach_count_6M                                   646 non-null    float64\n",
      " 13  pred_proba                                     646 non-null    float64\n",
      " 14  odds                                           646 non-null    float64\n",
      " 15  log_odds                                       646 non-null    float64\n",
      " 16  Ext_IN1_score                                  646 non-null    float64\n",
      " 17  Ext_IN1_bin                                    646 non-null    int64  \n",
      "dtypes: float64(13), int64(2), object(3)\n",
      "memory usage: 95.9+ KB\n"
     ]
    }
   ],
   "source": [
    "scored_df.info()"
   ]
  },
  {
   "cell_type": "code",
   "execution_count": null,
   "metadata": {},
   "outputs": [
    {
     "data": {
      "text/html": [
       "<div>\n",
       "<style scoped>\n",
       "    .dataframe tbody tr th:only-of-type {\n",
       "        vertical-align: middle;\n",
       "    }\n",
       "\n",
       "    .dataframe tbody tr th {\n",
       "        vertical-align: top;\n",
       "    }\n",
       "\n",
       "    .dataframe thead th {\n",
       "        text-align: right;\n",
       "    }\n",
       "</style>\n",
       "<table border=\"1\" class=\"dataframe\">\n",
       "  <thead>\n",
       "    <tr style=\"text-align: right;\">\n",
       "      <th></th>\n",
       "      <th>Ext_IN1_bin</th>\n",
       "      <th>count_of_bads</th>\n",
       "      <th>total_accs</th>\n",
       "      <th>bad_rate</th>\n",
       "    </tr>\n",
       "  </thead>\n",
       "  <tbody>\n",
       "    <tr>\n",
       "      <th>0</th>\n",
       "      <td>1</td>\n",
       "      <td>55</td>\n",
       "      <td>139</td>\n",
       "      <td>0.40</td>\n",
       "    </tr>\n",
       "    <tr>\n",
       "      <th>1</th>\n",
       "      <td>2</td>\n",
       "      <td>28</td>\n",
       "      <td>116</td>\n",
       "      <td>0.24</td>\n",
       "    </tr>\n",
       "    <tr>\n",
       "      <th>2</th>\n",
       "      <td>3</td>\n",
       "      <td>29</td>\n",
       "      <td>149</td>\n",
       "      <td>0.19</td>\n",
       "    </tr>\n",
       "    <tr>\n",
       "      <th>3</th>\n",
       "      <td>4</td>\n",
       "      <td>15</td>\n",
       "      <td>124</td>\n",
       "      <td>0.12</td>\n",
       "    </tr>\n",
       "    <tr>\n",
       "      <th>4</th>\n",
       "      <td>5</td>\n",
       "      <td>6</td>\n",
       "      <td>118</td>\n",
       "      <td>0.05</td>\n",
       "    </tr>\n",
       "  </tbody>\n",
       "</table>\n",
       "</div>"
      ],
      "text/plain": [
       "   Ext_IN1_bin  count_of_bads  total_accs  bad_rate\n",
       "0            1             55         139      0.40\n",
       "1            2             28         116      0.24\n",
       "2            3             29         149      0.19\n",
       "3            4             15         124      0.12\n",
       "4            5              6         118      0.05"
      ]
     },
     "execution_count": 29,
     "metadata": {},
     "output_type": "execute_result"
    }
   ],
   "source": [
    "t = scored_df.groupby('Ext_IN1_bin',as_index=False)['target'].agg(['sum','count']).rename(columns={'sum':'count_of_bads','count':'total_accs'})\n",
    "t['bad_rate'] = np.round(t['count_of_bads']/t['total_accs'],2)\n",
    "t"
   ]
  },
  {
   "cell_type": "code",
   "execution_count": null,
   "metadata": {},
   "outputs": [],
   "source": [
    "t1 = scored_df.groupby('Ext_IN1_bin', as_index=False)['Ext_IN1_score'].min().rename(columns={'Ext_IN1_score':'min_score'})\n",
    "t2 = scored_df.groupby('Ext_IN1_bin', as_index=False)['Ext_IN1_score'].max().rename(columns={'Ext_IN1_score':'max_score'})\n",
    "\n",
    "t3 = scored_df.groupby('Ext_IN1_bin', as_index=False)['pred_proba'].min().rename(columns={'pred_proba':'min_prob'})\n",
    "t4 = scored_df.groupby('Ext_IN1_bin', as_index=False)['pred_proba'].max().rename(columns={'pred_proba':'max_prob'})\n",
    "\n",
    "res = t1.merge(t2, on='Ext_IN1_bin')\n",
    "res = res.merge(t3, on='Ext_IN1_bin')\n",
    "res = res.merge(t4, on='Ext_IN1_bin')\n",
    "res.to_clipboard()"
   ]
  },
  {
   "cell_type": "code",
   "execution_count": null,
   "metadata": {},
   "outputs": [
    {
     "data": {
      "text/html": [
       "<div>\n",
       "<style scoped>\n",
       "    .dataframe tbody tr th:only-of-type {\n",
       "        vertical-align: middle;\n",
       "    }\n",
       "\n",
       "    .dataframe tbody tr th {\n",
       "        vertical-align: top;\n",
       "    }\n",
       "\n",
       "    .dataframe thead th {\n",
       "        text-align: right;\n",
       "    }\n",
       "</style>\n",
       "<table border=\"1\" class=\"dataframe\">\n",
       "  <thead>\n",
       "    <tr style=\"text-align: right;\">\n",
       "      <th></th>\n",
       "      <th>Ext_IN1_bin</th>\n",
       "      <th>Ext_IN1_score</th>\n",
       "    </tr>\n",
       "  </thead>\n",
       "  <tbody>\n",
       "    <tr>\n",
       "      <th>0</th>\n",
       "      <td>1</td>\n",
       "      <td>469.821422</td>\n",
       "    </tr>\n",
       "    <tr>\n",
       "      <th>1</th>\n",
       "      <td>2</td>\n",
       "      <td>557.045827</td>\n",
       "    </tr>\n",
       "    <tr>\n",
       "      <th>2</th>\n",
       "      <td>3</td>\n",
       "      <td>591.011509</td>\n",
       "    </tr>\n",
       "    <tr>\n",
       "      <th>3</th>\n",
       "      <td>4</td>\n",
       "      <td>619.916659</td>\n",
       "    </tr>\n",
       "    <tr>\n",
       "      <th>4</th>\n",
       "      <td>5</td>\n",
       "      <td>691.589243</td>\n",
       "    </tr>\n",
       "  </tbody>\n",
       "</table>\n",
       "</div>"
      ],
      "text/plain": [
       "   Ext_IN1_bin  Ext_IN1_score\n",
       "0            1     469.821422\n",
       "1            2     557.045827\n",
       "2            3     591.011509\n",
       "3            4     619.916659\n",
       "4            5     691.589243"
      ]
     },
     "execution_count": 35,
     "metadata": {},
     "output_type": "execute_result"
    }
   ],
   "source": [
    "scored_df.groupby('Ext_IN1_bin', as_index=False)['Ext_IN1_score'].max()"
   ]
  },
  {
   "cell_type": "code",
   "execution_count": null,
   "metadata": {},
   "outputs": [
    {
     "data": {
      "text/plain": [
       "array(['credit_size_3M', 'pos_size_1M',\n",
       "       'ratio_amt_credits_less_100_credits_grt_500_3M',\n",
       "       'median_credit_amt_1M', 'ratio_pos_size_1M_6M',\n",
       "       'median_pos_amt_3M', 'count_credits_grt_500_3M', 'loans_size_6M',\n",
       "       'ach_count_6M'], dtype=object)"
      ]
     },
     "execution_count": 30,
     "metadata": {},
     "output_type": "execute_result"
    }
   ],
   "source": [
    "logreg_model.feature_names_in_"
   ]
  },
  {
   "cell_type": "code",
   "execution_count": null,
   "metadata": {},
   "outputs": [
    {
     "data": {
      "text/plain": [
       "array([[-0.81997815, -0.85685935,  0.72385091, -0.34517684, -0.35318817,\n",
       "        -0.1268506 ,  0.86565206, -0.42155525,  0.18572408]])"
      ]
     },
     "execution_count": 32,
     "metadata": {},
     "output_type": "execute_result"
    }
   ],
   "source": [
    "logreg_model.coef_"
   ]
  },
  {
   "cell_type": "code",
   "execution_count": null,
   "metadata": {},
   "outputs": [
    {
     "data": {
      "text/plain": [
       "array([-0.00127315])"
      ]
     },
     "execution_count": 33,
     "metadata": {},
     "output_type": "execute_result"
    }
   ],
   "source": [
    "logreg_model.intercept_"
   ]
  },
  {
   "cell_type": "code",
   "execution_count": null,
   "metadata": {},
   "outputs": [],
   "source": [
    "# scored_df.to_csv('/Users/shashankgupta/Documents/code/git_project/plaid_credit/data/scored_dataset.csv')"
   ]
  },
  {
   "cell_type": "code",
   "execution_count": null,
   "metadata": {},
   "outputs": [],
   "source": [
    "# scored_df.to_pickle('/Users/shashankgupta/Documents/code/git_project/plaid_credit/data/scored_dataset.pkl')"
   ]
  }
 ],
 "metadata": {
  "kernelspec": {
   "display_name": "Python 3.9.17 64-bit ('venv_plaid_credit')",
   "language": "python",
   "name": "python3"
  },
  "language_info": {
   "codemirror_mode": {
    "name": "ipython",
    "version": 3
   },
   "file_extension": ".py",
   "mimetype": "text/x-python",
   "name": "python",
   "nbconvert_exporter": "python",
   "pygments_lexer": "ipython3",
   "version": "3.9.17"
  },
  "orig_nbformat": 4,
  "vscode": {
   "interpreter": {
    "hash": "d9bbc33ec67b6e69663d9524a7cba3ebe2e2de2798633e20e7d227e00dd346ad"
   }
  }
 },
 "nbformat": 4,
 "nbformat_minor": 2
}
