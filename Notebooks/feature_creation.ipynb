{
 "cells": [
  {
   "cell_type": "code",
   "execution_count": 1,
   "metadata": {},
   "outputs": [
    {
     "name": "stdout",
     "output_type": "stream",
     "text": [
      "/Users/shashankgupta/Documents/code/git_project/plaid_credit\n",
      "/Users/shashankgupta/Documents/code/git_project/plaid_credit/Code\n"
     ]
    }
   ],
   "source": [
    "import os \n",
    "cwd = os.getcwd()\n",
    "\n",
    "os.chdir('../')\n",
    "cwd = os.getcwd()\n",
    "print(cwd)\n",
    "\n",
    "os.chdir('./code/')\n",
    "cwd = os.getcwd()\n",
    "print(cwd)\n",
    "\n",
    "import pandas as pd \n",
    "import numpy as np \n",
    "import seaborn as sns\n",
    "\n",
    "import pickle \n",
    "import logging\n",
    "\n",
    "\n",
    "from config.config import SQLQuery\n",
    "querySno = SQLQuery('snowflake')"
   ]
  },
  {
   "cell_type": "code",
   "execution_count": 2,
   "metadata": {},
   "outputs": [
    {
     "data": {
      "text/plain": [
       "(646, 7)"
      ]
     },
     "execution_count": 2,
     "metadata": {},
     "output_type": "execute_result"
    }
   ],
   "source": [
    "querySno = SQLQuery('snowflake')\n",
    "base = querySno(r\"\"\" \n",
    "select * from prod_db.adhoc.lending_response_base_w_plaid_match_g20_txns_20230624\n",
    "\"\"\")\n",
    "base.shape"
   ]
  },
  {
   "cell_type": "code",
   "execution_count": 3,
   "metadata": {},
   "outputs": [
    {
     "data": {
      "text/html": [
       "<div>\n",
       "<style scoped>\n",
       "    .dataframe tbody tr th:only-of-type {\n",
       "        vertical-align: middle;\n",
       "    }\n",
       "\n",
       "    .dataframe tbody tr th {\n",
       "        vertical-align: top;\n",
       "    }\n",
       "\n",
       "    .dataframe thead th {\n",
       "        text-align: right;\n",
       "    }\n",
       "</style>\n",
       "<table border=\"1\" class=\"dataframe\">\n",
       "  <thead>\n",
       "    <tr style=\"text-align: right;\">\n",
       "      <th></th>\n",
       "      <th>business_id</th>\n",
       "      <th>lending_business_id</th>\n",
       "      <th>decision_date</th>\n",
       "      <th>drawn_flag</th>\n",
       "      <th>everDPD_15</th>\n",
       "      <th>fico_score</th>\n",
       "      <th>target</th>\n",
       "    </tr>\n",
       "  </thead>\n",
       "  <tbody>\n",
       "    <tr>\n",
       "      <th>0</th>\n",
       "      <td>a2317f88-325b-43ee-9423-6c711856555b</td>\n",
       "      <td>01e38425-5486-4c95-b6b0-de5c57319255</td>\n",
       "      <td>2023-02-02</td>\n",
       "      <td>1</td>\n",
       "      <td>0</td>\n",
       "      <td>721</td>\n",
       "      <td>0</td>\n",
       "    </tr>\n",
       "    <tr>\n",
       "      <th>1</th>\n",
       "      <td>252c9a3f-338f-43fc-893f-87e4c8184e8c</td>\n",
       "      <td>166d62fb-70ed-4214-8a75-1223dfbbd06e</td>\n",
       "      <td>2023-03-15</td>\n",
       "      <td>1</td>\n",
       "      <td>0</td>\n",
       "      <td>846</td>\n",
       "      <td>0</td>\n",
       "    </tr>\n",
       "    <tr>\n",
       "      <th>2</th>\n",
       "      <td>420bb9d6-c156-4e29-8060-420fa8753e7f</td>\n",
       "      <td>2c5dbbbc-327b-48ac-a737-73dc0c2a4d26</td>\n",
       "      <td>2023-03-07</td>\n",
       "      <td>1</td>\n",
       "      <td>0</td>\n",
       "      <td>720</td>\n",
       "      <td>0</td>\n",
       "    </tr>\n",
       "    <tr>\n",
       "      <th>3</th>\n",
       "      <td>d9f1ffe7-f652-45ec-bdd6-5d530cf6a24a</td>\n",
       "      <td>588d7169-4d5c-4725-bc69-3e6d5e32d394</td>\n",
       "      <td>2023-02-15</td>\n",
       "      <td>1</td>\n",
       "      <td>0</td>\n",
       "      <td>720</td>\n",
       "      <td>0</td>\n",
       "    </tr>\n",
       "    <tr>\n",
       "      <th>4</th>\n",
       "      <td>588127e8-c54e-42d0-955a-a22e64207a2f</td>\n",
       "      <td>4bbe29b6-f631-4146-829c-880d71809e26</td>\n",
       "      <td>2023-03-24</td>\n",
       "      <td>1</td>\n",
       "      <td>0</td>\n",
       "      <td>687</td>\n",
       "      <td>0</td>\n",
       "    </tr>\n",
       "  </tbody>\n",
       "</table>\n",
       "</div>"
      ],
      "text/plain": [
       "                            business_id                   lending_business_id  \\\n",
       "0  a2317f88-325b-43ee-9423-6c711856555b  01e38425-5486-4c95-b6b0-de5c57319255   \n",
       "1  252c9a3f-338f-43fc-893f-87e4c8184e8c  166d62fb-70ed-4214-8a75-1223dfbbd06e   \n",
       "2  420bb9d6-c156-4e29-8060-420fa8753e7f  2c5dbbbc-327b-48ac-a737-73dc0c2a4d26   \n",
       "3  d9f1ffe7-f652-45ec-bdd6-5d530cf6a24a  588d7169-4d5c-4725-bc69-3e6d5e32d394   \n",
       "4  588127e8-c54e-42d0-955a-a22e64207a2f  4bbe29b6-f631-4146-829c-880d71809e26   \n",
       "\n",
       "  decision_date drawn_flag everDPD_15 fico_score target  \n",
       "0    2023-02-02          1          0        721      0  \n",
       "1    2023-03-15          1          0        846      0  \n",
       "2    2023-03-07          1          0        720      0  \n",
       "3    2023-02-15          1          0        720      0  \n",
       "4    2023-03-24          1          0        687      0  "
      ]
     },
     "execution_count": 3,
     "metadata": {},
     "output_type": "execute_result"
    }
   ],
   "source": [
    "base.head()"
   ]
  },
  {
   "cell_type": "code",
   "execution_count": 4,
   "metadata": {},
   "outputs": [],
   "source": [
    "bids_tuple = tuple(base['business_id'])\n",
    "lid_tuple = tuple(base['lending_business_id'])"
   ]
  },
  {
   "cell_type": "code",
   "execution_count": 5,
   "metadata": {},
   "outputs": [
    {
     "data": {
      "text/plain": [
       "(41020, 21)"
      ]
     },
     "execution_count": 5,
     "metadata": {},
     "output_type": "execute_result"
    }
   ],
   "source": [
    "querySno = SQLQuery('snowflake')\n",
    "credit_df = querySno(r\"\"\" \n",
    "select * from prod_db.adhoc.lending_dda_txns_w_owned_flag_final_20230625\n",
    "where type = 'credit'\n",
    "\"\"\")\n",
    "credit_df.shape"
   ]
  },
  {
   "cell_type": "code",
   "execution_count": 6,
   "metadata": {},
   "outputs": [
    {
     "data": {
      "text/html": [
       "<div>\n",
       "<style scoped>\n",
       "    .dataframe tbody tr th:only-of-type {\n",
       "        vertical-align: middle;\n",
       "    }\n",
       "\n",
       "    .dataframe tbody tr th {\n",
       "        vertical-align: top;\n",
       "    }\n",
       "\n",
       "    .dataframe thead th {\n",
       "        text-align: right;\n",
       "    }\n",
       "</style>\n",
       "<table border=\"1\" class=\"dataframe\">\n",
       "  <thead>\n",
       "    <tr style=\"text-align: right;\">\n",
       "      <th></th>\n",
       "      <th>id</th>\n",
       "      <th>transaction_id</th>\n",
       "      <th>date</th>\n",
       "      <th>amount</th>\n",
       "      <th>plaid_account_id</th>\n",
       "      <th>pending</th>\n",
       "      <th>description</th>\n",
       "      <th>created_at</th>\n",
       "      <th>merchant_name</th>\n",
       "      <th>retrieved_at</th>\n",
       "      <th>...</th>\n",
       "      <th>plaid_item_id</th>\n",
       "      <th>external_account_id</th>\n",
       "      <th>updated_at</th>\n",
       "      <th>meta</th>\n",
       "      <th>iso_currency_code</th>\n",
       "      <th>categories</th>\n",
       "      <th>business_id</th>\n",
       "      <th>_fivetran_deleted</th>\n",
       "      <th>_fivetran_synced</th>\n",
       "      <th>owned_by</th>\n",
       "    </tr>\n",
       "  </thead>\n",
       "  <tbody>\n",
       "    <tr>\n",
       "      <th>0</th>\n",
       "      <td>4c8e4bf9-0b2a-4413-80f0-53c701918dc3</td>\n",
       "      <td>66Rx0pvbDnIa776Ng9O8SQMjMJB4K5fmjaB6o</td>\n",
       "      <td>2023-01-12</td>\n",
       "      <td>-1500.00</td>\n",
       "      <td>NbPydzB7RxfXmm6Yvy83sZKboR4n8nURBorEL</td>\n",
       "      <td>false</td>\n",
       "      <td>CHIME3_DEBIT - P2P</td>\n",
       "      <td>2023-01-13 07:41:05.323000+00:00</td>\n",
       "      <td>None</td>\n",
       "      <td>2023-01-13 07:41:05.323000+00:00</td>\n",
       "      <td>...</td>\n",
       "      <td>216c5474-1788-42f1-aaee-29dd8b441e89</td>\n",
       "      <td>a1f1b265-8f73-4212-b4dd-93fbb3547b7f</td>\n",
       "      <td>2023-01-13 07:41:05.323000+00:00</td>\n",
       "      <td>{\\n  \"account_id\": \"NbPydzB7RxfXmm6Yvy83sZKboR...</td>\n",
       "      <td>USD</td>\n",
       "      <td>Transfer,Credit</td>\n",
       "      <td>480acd65-6031-45f9-a612-d18904ea9e79</td>\n",
       "      <td>None</td>\n",
       "      <td>2023-02-20 13:36:48.810000+00:00</td>\n",
       "      <td>business</td>\n",
       "    </tr>\n",
       "    <tr>\n",
       "      <th>1</th>\n",
       "      <td>deb6d965-294e-44b4-8355-34259cfcf171</td>\n",
       "      <td>66Rx0pvbDnIa776Ng9OKsZvqMgY5MvFYJw5QD</td>\n",
       "      <td>2023-01-13</td>\n",
       "      <td>-2750.00</td>\n",
       "      <td>NbPydzB7RxfXmm6Yvy83sZKboR4n8nURBorEL</td>\n",
       "      <td>false</td>\n",
       "      <td>CHIME3_DEBIT - P2P</td>\n",
       "      <td>2023-01-14 07:40:47.343000+00:00</td>\n",
       "      <td>None</td>\n",
       "      <td>2023-01-14 07:40:47.343000+00:00</td>\n",
       "      <td>...</td>\n",
       "      <td>216c5474-1788-42f1-aaee-29dd8b441e89</td>\n",
       "      <td>a1f1b265-8f73-4212-b4dd-93fbb3547b7f</td>\n",
       "      <td>2023-01-14 07:40:47.343000+00:00</td>\n",
       "      <td>{\\n  \"account_id\": \"NbPydzB7RxfXmm6Yvy83sZKboR...</td>\n",
       "      <td>USD</td>\n",
       "      <td>Transfer,Credit</td>\n",
       "      <td>480acd65-6031-45f9-a612-d18904ea9e79</td>\n",
       "      <td>None</td>\n",
       "      <td>2023-02-20 20:01:52.286000+00:00</td>\n",
       "      <td>business</td>\n",
       "    </tr>\n",
       "    <tr>\n",
       "      <th>2</th>\n",
       "      <td>5d0a7bef-559d-4f7e-9b8d-1db195846a2d</td>\n",
       "      <td>3MQrkpK0wEuBvved3xmgT5xZv847qdHPOygya</td>\n",
       "      <td>2023-01-17</td>\n",
       "      <td>-4000.00</td>\n",
       "      <td>NbPydzB7RxfXmm6Yvy83sZKboR4n8nURBorEL</td>\n",
       "      <td>false</td>\n",
       "      <td>CHIME3_DEBIT - P2P</td>\n",
       "      <td>2023-01-18 07:33:50.704000+00:00</td>\n",
       "      <td>None</td>\n",
       "      <td>2023-01-18 07:33:50.704000+00:00</td>\n",
       "      <td>...</td>\n",
       "      <td>216c5474-1788-42f1-aaee-29dd8b441e89</td>\n",
       "      <td>a1f1b265-8f73-4212-b4dd-93fbb3547b7f</td>\n",
       "      <td>2023-01-18 07:33:50.704000+00:00</td>\n",
       "      <td>{\\n  \"account_id\": \"NbPydzB7RxfXmm6Yvy83sZKboR...</td>\n",
       "      <td>USD</td>\n",
       "      <td>Transfer,Credit</td>\n",
       "      <td>480acd65-6031-45f9-a612-d18904ea9e79</td>\n",
       "      <td>None</td>\n",
       "      <td>2023-02-20 14:17:34.268000+00:00</td>\n",
       "      <td>business</td>\n",
       "    </tr>\n",
       "    <tr>\n",
       "      <th>3</th>\n",
       "      <td>bfb273e1-3d5a-4b6d-9356-f03ec4e9ad4f</td>\n",
       "      <td>Vw64BzjM87u8zzQqgZx6fQkxeJjYBOcJwwmdPb</td>\n",
       "      <td>2023-01-24</td>\n",
       "      <td>-9495.94</td>\n",
       "      <td>NbPydzB7RxfXmm6Yvy83sZKboR4n8nURBorEL</td>\n",
       "      <td>false</td>\n",
       "      <td>STRIPE - TRANSFER</td>\n",
       "      <td>2023-01-25 07:28:15.788000+00:00</td>\n",
       "      <td>None</td>\n",
       "      <td>2023-01-25 07:28:15.788000+00:00</td>\n",
       "      <td>...</td>\n",
       "      <td>216c5474-1788-42f1-aaee-29dd8b441e89</td>\n",
       "      <td>a1f1b265-8f73-4212-b4dd-93fbb3547b7f</td>\n",
       "      <td>2023-01-25 07:28:15.788000+00:00</td>\n",
       "      <td>{\\n  \"account_id\": \"NbPydzB7RxfXmm6Yvy83sZKboR...</td>\n",
       "      <td>USD</td>\n",
       "      <td>Transfer,Credit</td>\n",
       "      <td>480acd65-6031-45f9-a612-d18904ea9e79</td>\n",
       "      <td>None</td>\n",
       "      <td>2023-02-20 18:41:38.608000+00:00</td>\n",
       "      <td>business</td>\n",
       "    </tr>\n",
       "    <tr>\n",
       "      <th>4</th>\n",
       "      <td>43722dc8-cf69-465f-8f50-e2a741ac6314</td>\n",
       "      <td>OgqKwz3BXJtmeexdyprwu1B6X1YaO0cMo4vX6</td>\n",
       "      <td>2023-01-25</td>\n",
       "      <td>-537.80</td>\n",
       "      <td>NbPydzB7RxfXmm6Yvy83sZKboR4n8nURBorEL</td>\n",
       "      <td>false</td>\n",
       "      <td>STRIPE - TRANSFER</td>\n",
       "      <td>2023-01-26 07:28:54.878000+00:00</td>\n",
       "      <td>None</td>\n",
       "      <td>2023-01-26 07:28:54.878000+00:00</td>\n",
       "      <td>...</td>\n",
       "      <td>216c5474-1788-42f1-aaee-29dd8b441e89</td>\n",
       "      <td>a1f1b265-8f73-4212-b4dd-93fbb3547b7f</td>\n",
       "      <td>2023-01-26 07:28:54.878000+00:00</td>\n",
       "      <td>{\\n  \"account_id\": \"NbPydzB7RxfXmm6Yvy83sZKboR...</td>\n",
       "      <td>USD</td>\n",
       "      <td>Transfer,Credit</td>\n",
       "      <td>480acd65-6031-45f9-a612-d18904ea9e79</td>\n",
       "      <td>None</td>\n",
       "      <td>2023-02-20 13:18:12.856000+00:00</td>\n",
       "      <td>business</td>\n",
       "    </tr>\n",
       "  </tbody>\n",
       "</table>\n",
       "<p>5 rows × 21 columns</p>\n",
       "</div>"
      ],
      "text/plain": [
       "                                     id  \\\n",
       "0  4c8e4bf9-0b2a-4413-80f0-53c701918dc3   \n",
       "1  deb6d965-294e-44b4-8355-34259cfcf171   \n",
       "2  5d0a7bef-559d-4f7e-9b8d-1db195846a2d   \n",
       "3  bfb273e1-3d5a-4b6d-9356-f03ec4e9ad4f   \n",
       "4  43722dc8-cf69-465f-8f50-e2a741ac6314   \n",
       "\n",
       "                           transaction_id        date    amount  \\\n",
       "0   66Rx0pvbDnIa776Ng9O8SQMjMJB4K5fmjaB6o  2023-01-12  -1500.00   \n",
       "1   66Rx0pvbDnIa776Ng9OKsZvqMgY5MvFYJw5QD  2023-01-13  -2750.00   \n",
       "2   3MQrkpK0wEuBvved3xmgT5xZv847qdHPOygya  2023-01-17  -4000.00   \n",
       "3  Vw64BzjM87u8zzQqgZx6fQkxeJjYBOcJwwmdPb  2023-01-24  -9495.94   \n",
       "4   OgqKwz3BXJtmeexdyprwu1B6X1YaO0cMo4vX6  2023-01-25   -537.80   \n",
       "\n",
       "                        plaid_account_id pending         description  \\\n",
       "0  NbPydzB7RxfXmm6Yvy83sZKboR4n8nURBorEL   false  CHIME3_DEBIT - P2P   \n",
       "1  NbPydzB7RxfXmm6Yvy83sZKboR4n8nURBorEL   false  CHIME3_DEBIT - P2P   \n",
       "2  NbPydzB7RxfXmm6Yvy83sZKboR4n8nURBorEL   false  CHIME3_DEBIT - P2P   \n",
       "3  NbPydzB7RxfXmm6Yvy83sZKboR4n8nURBorEL   false   STRIPE - TRANSFER   \n",
       "4  NbPydzB7RxfXmm6Yvy83sZKboR4n8nURBorEL   false   STRIPE - TRANSFER   \n",
       "\n",
       "                         created_at merchant_name  \\\n",
       "0  2023-01-13 07:41:05.323000+00:00          None   \n",
       "1  2023-01-14 07:40:47.343000+00:00          None   \n",
       "2  2023-01-18 07:33:50.704000+00:00          None   \n",
       "3  2023-01-25 07:28:15.788000+00:00          None   \n",
       "4  2023-01-26 07:28:54.878000+00:00          None   \n",
       "\n",
       "                       retrieved_at  ...  \\\n",
       "0  2023-01-13 07:41:05.323000+00:00  ...   \n",
       "1  2023-01-14 07:40:47.343000+00:00  ...   \n",
       "2  2023-01-18 07:33:50.704000+00:00  ...   \n",
       "3  2023-01-25 07:28:15.788000+00:00  ...   \n",
       "4  2023-01-26 07:28:54.878000+00:00  ...   \n",
       "\n",
       "                          plaid_item_id                   external_account_id  \\\n",
       "0  216c5474-1788-42f1-aaee-29dd8b441e89  a1f1b265-8f73-4212-b4dd-93fbb3547b7f   \n",
       "1  216c5474-1788-42f1-aaee-29dd8b441e89  a1f1b265-8f73-4212-b4dd-93fbb3547b7f   \n",
       "2  216c5474-1788-42f1-aaee-29dd8b441e89  a1f1b265-8f73-4212-b4dd-93fbb3547b7f   \n",
       "3  216c5474-1788-42f1-aaee-29dd8b441e89  a1f1b265-8f73-4212-b4dd-93fbb3547b7f   \n",
       "4  216c5474-1788-42f1-aaee-29dd8b441e89  a1f1b265-8f73-4212-b4dd-93fbb3547b7f   \n",
       "\n",
       "                         updated_at  \\\n",
       "0  2023-01-13 07:41:05.323000+00:00   \n",
       "1  2023-01-14 07:40:47.343000+00:00   \n",
       "2  2023-01-18 07:33:50.704000+00:00   \n",
       "3  2023-01-25 07:28:15.788000+00:00   \n",
       "4  2023-01-26 07:28:54.878000+00:00   \n",
       "\n",
       "                                                meta iso_currency_code  \\\n",
       "0  {\\n  \"account_id\": \"NbPydzB7RxfXmm6Yvy83sZKboR...               USD   \n",
       "1  {\\n  \"account_id\": \"NbPydzB7RxfXmm6Yvy83sZKboR...               USD   \n",
       "2  {\\n  \"account_id\": \"NbPydzB7RxfXmm6Yvy83sZKboR...               USD   \n",
       "3  {\\n  \"account_id\": \"NbPydzB7RxfXmm6Yvy83sZKboR...               USD   \n",
       "4  {\\n  \"account_id\": \"NbPydzB7RxfXmm6Yvy83sZKboR...               USD   \n",
       "\n",
       "        categories                           business_id _fivetran_deleted  \\\n",
       "0  Transfer,Credit  480acd65-6031-45f9-a612-d18904ea9e79              None   \n",
       "1  Transfer,Credit  480acd65-6031-45f9-a612-d18904ea9e79              None   \n",
       "2  Transfer,Credit  480acd65-6031-45f9-a612-d18904ea9e79              None   \n",
       "3  Transfer,Credit  480acd65-6031-45f9-a612-d18904ea9e79              None   \n",
       "4  Transfer,Credit  480acd65-6031-45f9-a612-d18904ea9e79              None   \n",
       "\n",
       "                   _fivetran_synced  owned_by  \n",
       "0  2023-02-20 13:36:48.810000+00:00  business  \n",
       "1  2023-02-20 20:01:52.286000+00:00  business  \n",
       "2  2023-02-20 14:17:34.268000+00:00  business  \n",
       "3  2023-02-20 18:41:38.608000+00:00  business  \n",
       "4  2023-02-20 13:18:12.856000+00:00  business  \n",
       "\n",
       "[5 rows x 21 columns]"
      ]
     },
     "execution_count": 6,
     "metadata": {},
     "output_type": "execute_result"
    }
   ],
   "source": [
    "credit_df.head()"
   ]
  },
  {
   "cell_type": "code",
   "execution_count": 7,
   "metadata": {},
   "outputs": [
    {
     "data": {
      "text/plain": [
       "(9, 8)"
      ]
     },
     "execution_count": 7,
     "metadata": {},
     "output_type": "execute_result"
    }
   ],
   "source": [
    "#no credit transactions\n",
    "t = base.merge(credit_df[['business_id','description']],how='left',on='business_id')\n",
    "t[t['description'].isnull()].shape\n"
   ]
  },
  {
   "cell_type": "code",
   "execution_count": 8,
   "metadata": {},
   "outputs": [],
   "source": [
    "df = credit_df.merge(base,on=['business_id'])"
   ]
  },
  {
   "cell_type": "code",
   "execution_count": 9,
   "metadata": {},
   "outputs": [],
   "source": [
    "df.drop('meta',axis=1,inplace=True)"
   ]
  },
  {
   "cell_type": "code",
   "execution_count": 10,
   "metadata": {},
   "outputs": [],
   "source": [
    "df['amount'] = df['amount'].astype('float')\n",
    "df['amount'] = -1*df['amount']"
   ]
  },
  {
   "cell_type": "code",
   "execution_count": 11,
   "metadata": {},
   "outputs": [
    {
     "data": {
      "text/plain": [
       "(41020, 26)"
      ]
     },
     "execution_count": 11,
     "metadata": {},
     "output_type": "execute_result"
    }
   ],
   "source": [
    "df.shape"
   ]
  },
  {
   "cell_type": "code",
   "execution_count": 12,
   "metadata": {},
   "outputs": [
    {
     "data": {
      "text/plain": [
       "637"
      ]
     },
     "execution_count": 12,
     "metadata": {},
     "output_type": "execute_result"
    }
   ],
   "source": [
    "len(df['business_id'].unique())"
   ]
  },
  {
   "cell_type": "code",
   "execution_count": 13,
   "metadata": {},
   "outputs": [
    {
     "data": {
      "text/plain": [
       "Index(['id', 'transaction_id', 'date', 'amount', 'plaid_account_id', 'pending',\n",
       "       'description', 'created_at', 'merchant_name', 'retrieved_at', 'type',\n",
       "       'plaid_item_id', 'external_account_id', 'updated_at',\n",
       "       'iso_currency_code', 'categories', 'business_id', '_fivetran_deleted',\n",
       "       '_fivetran_synced', 'owned_by', 'lending_business_id', 'decision_date',\n",
       "       'drawn_flag', 'everDPD_15', 'fico_score', 'target'],\n",
       "      dtype='object')"
      ]
     },
     "execution_count": 13,
     "metadata": {},
     "output_type": "execute_result"
    }
   ],
   "source": [
    "df.columns"
   ]
  },
  {
   "cell_type": "code",
   "execution_count": 14,
   "metadata": {},
   "outputs": [],
   "source": [
    "df['date'] = pd.to_datetime(df['date']) \n",
    "df['decision_date'] = pd.to_datetime(df['decision_date'])\n",
    "df['datediff'] = df['decision_date'] - df['date']\n",
    "df['datediff'] = df['datediff'].dt.days"
   ]
  },
  {
   "cell_type": "code",
   "execution_count": 15,
   "metadata": {},
   "outputs": [],
   "source": [
    "df_copy = df.copy()"
   ]
  },
  {
   "cell_type": "markdown",
   "metadata": {},
   "source": [
    "#### Keywords"
   ]
  },
  {
   "cell_type": "code",
   "execution_count": 16,
   "metadata": {},
   "outputs": [],
   "source": [
    "finance_merchants = ['Affirm','Upstart','Dave','Pennymac','Navient','MoneyLion','Affirm Inc','Wf Home Mtg','Rocket Mortgage','OneMain Financial','Kikoff Lending','Lightstream','Avant','SoFi','Firstmark','Mohela','Dovenmuehle Mortgage','Dept Education','Progressive Leasing','Great Lakes','Mr. Cooper','Dave Inc','Nationstar Dba','GM Financial','Uplift','Chrysler Capital','Flagstar',\t'Loan',\t'Continental Finance',\t'Freedom Mortgage',\t'Fundbox Inc.',\t'Empower',\t'Snap Finance',\t'Sezzle',\t'Dovenmuehle Mtg',\t'Navient Navi',\t'Navient Pmt Spe',\t'Fedloanservicing Stdnt Loan',\t'Earnin',\t'Hmfusa',\t'Sba Loan',\t'American Education Services',\t'Unitedwholesale',\t'Nelnet Loan Serv',\t'Progressivelease',\t'Upstart Network',\t'Netcredit',\t'Con Ed Of Ny',\t'Avant LLC',\t'Install Loan',\t'Quicken Loans',\t'Educational Comp',\t'Bmwfinancial Svs',\t'Of America',\t'To Loan',\t'Possible Finance',\t'Gm Financial',\t'Sofi Securities',\t'Ford Credit',\t'Navient-fdr',\t'Self Lender',\t'Albert',\t'Mariner Finance',\t'Aes Stdnt Loan',\t'Auto Loan',\t'Freedom Mtg',\t'Onemain',\t'Td Auto',\t'Marcus',\t'Cont Finance',\t'Service Finance',\t'Bridgecrest',\t'Credit Acceptance',\t'Mortgage Serv',\t'Quicken Loans Mtg',\t'Vw Credit Tel.',\t'Qoins',\t'Flex Finance',\t'Lending Club',\t'Advance America',\t'Amerihome Mtg',\t'Home Mtg',\t'Guild Mortgage',\t'Onemain Loan',\t'Lakeview Ln Srv',\t'Iphone Citiz',\t'Moneylion',\t'Navi Ed Serv Web',\t'Loancare Serv',\t'Affirm Payment',\t'Self Lender Scc',\t'Small Business Administration',\t'Fedloanservicing',\t'UAS',\t'Caliber Home Loa',\t'Nelnet Loan Srv',\t'United Wholesale Mortgage',\t'Speedy Cash',\t'Edward Jones',\t'Charles Schwab','DreamSpring','Bluevine','INTUIT']\n",
    "finance_keywords = ['loan', 'finance','disburs','cash advance','advance']\n",
    "loan_sba = ['shopify capital', 'knight', 'expansion', 'payin', 'sba', 'ondeck', 'kabbage', 'bluevine', 'headway', 'prosper', 'onramp','direct capital edi','lightstream', 'onemain', 'intuit financ', 'ninja', 'good funding','SoFi']\n",
    "\n",
    "payroll_keywords = ['quickbooks','ADP','Gusto','Paychex flex','Onpay','Paycor','payroll']\n",
    "\n",
    "uber_keywords = ['uber','lyft','car service','ride share']\n",
    "\n",
    "refunds_keywords = ['reverse', 'reversal', 'refund', 'return']\n",
    "\n",
    "pos_keywords1 = ['POS']\n",
    "pos_keywords2 = ['card payment','point of sale']\n",
    "pos_cat = ['ATM']\n",
    "\n",
    "rent_keywords = ['rent', 'airbnb']\n",
    "\n",
    "ecom_keywords = ['shopify', 'ebay','amazon', 'sears', 'target','bigcommerce','shift4shop','opencart','prestashop','magento','wix','woocommerce','godaddy','ecwid','bigcartel','nopcommerce','walmart','costco','home depot','best buy']\n",
    "\n",
    "third_party = ['venmo','zelle','cash app','cashapp','afterpay','paypal','square','digit','acorns','betterment']\n",
    "third_party_cat = ['third party']\n",
    "\n",
    "biz_rev_desc = ['stripe','USAA','capital one','airbnb','rent']\n",
    "service_cat = ['Service','Healthcare','Taxi','education','recreation','gaming','freight','stock broker','photography','real estate','lodging','subscription']\n",
    "shops_cat = ['Shops','gas station','travel','food','digital purchase','restaurants','community','groceries','beauty','fitness','gyms','clothing','sport','florist']\n",
    "bank_fees_cat = ['bank fees']\n",
    "\n",
    "#categories == Service\n",
    "\n"
   ]
  },
  {
   "cell_type": "markdown",
   "metadata": {},
   "source": [
    "#### keywords for transaction categories"
   ]
  },
  {
   "cell_type": "code",
   "execution_count": 17,
   "metadata": {},
   "outputs": [],
   "source": [
    "# keywords for description column\n",
    "finance_keywords = ['loan', 'finance','disburs','cash advance','advance']\n",
    "loan_sba = ['shopify capital', 'knight', 'expansion', 'payin', 'sba', 'ondeck', 'kabbage', 'bluevine', 'headway', 'prosper', 'onramp','direct capital edi','lightstream', 'onemain', 'intuit financ', 'ninja', 'good funding','SoFi','rentsidual']\n",
    "\n",
    "payroll_keywords = ['quickbooks','ADP','Gusto','Paychex flex','Onpay','Paycor','payroll']\n",
    "\n",
    "pos_keywords1 = ['POS']\n",
    "pos_keywords2 = ['card payment','point of sale','square']\n",
    "\n",
    "ecom_keywords = ['shopify', 'ebay','amazon', 'sears', 'target','bigcommerce','shift4shop','opencart','prestashop','magento','wix','woocommerce','godaddy','ecwid','bigcartel','nopcommerce','walmart','costco','home depot','best buy']\n",
    "\n",
    "third_party = ['venmo','zelle','cash app','cashapp','afterpay','paypal','square cash','digit','acorns','betterment','coinbase']\n",
    "\n",
    "service = ['Service','Healthcare','Taxi','education','recreation','gaming','freight','stock broker','photography','real estate','lodging','subscription']\n",
    "shops = ['Shops','gas station','travel','food','digital purchase','restaurants','community','groceries','beauty','fitness','gyms','clothing','sport','florist']\n",
    "\n",
    "biz_rev = ['stripe','USAA','capital one','airbnb','rent','ACH deposit','cash','']\n",
    "biz_rev_cat = ['wire']"
   ]
  },
  {
   "cell_type": "code",
   "execution_count": 18,
   "metadata": {},
   "outputs": [],
   "source": [
    "# keywors for categories column\n",
    "finance_merchants = ['Affirm','Upstart','Dave','Pennymac','Navient','MoneyLion','Affirm Inc','Wf Home Mtg','Rocket Mortgage','OneMain Financial','Kikoff Lending','Lightstream','Avant','SoFi','Firstmark','Mohela','Dovenmuehle Mortgage','Dept Education','Progressive Leasing','Great Lakes','Mr. Cooper','Dave Inc','Nationstar Dba','GM Financial','Uplift','Chrysler Capital','Flagstar',\t'Loan',\t'Continental Finance',\t'Freedom Mortgage',\t'Fundbox Inc.',\t'Empower',\t'Snap Finance',\t'Sezzle',\t'Dovenmuehle Mtg',\t'Navient Navi',\t'Navient Pmt Spe',\t'Fedloanservicing Stdnt Loan',\t'Earnin',\t'Hmfusa',\t'Sba Loan',\t'American Education Services',\t'Unitedwholesale',\t'Nelnet Loan Serv',\t'Progressivelease',\t'Upstart Network',\t'Netcredit',\t'Con Ed Of Ny',\t'Avant LLC',\t'Install Loan',\t'Quicken Loans',\t'Educational Comp',\t'Bmwfinancial Svs',\t'Of America',\t'To Loan',\t'Possible Finance',\t'Gm Financial',\t'Sofi Securities',\t'Ford Credit',\t'Navient-fdr',\t'Self Lender',\t'Albert',\t'Mariner Finance',\t'Aes Stdnt Loan',\t'Auto Loan',\t'Freedom Mtg',\t'Onemain',\t'Td Auto',\t'Marcus',\t'Cont Finance',\t'Service Finance',\t'Bridgecrest',\t'Credit Acceptance',\t'Mortgage Serv',\t'Quicken Loans Mtg',\t'Vw Credit Tel.',\t'Qoins',\t'Flex Finance',\t'Lending Club',\t'Advance America',\t'Amerihome Mtg',\t'Home Mtg',\t'Guild Mortgage',\t'Onemain Loan',\t'Lakeview Ln Srv',\t'Iphone Citiz',\t'Moneylion',\t'Navi Ed Serv Web',\t'Loancare Serv',\t'Affirm Payment',\t'Self Lender Scc',\t'Small Business Administration',\t'Fedloanservicing',\t'UAS',\t'Caliber Home Loa',\t'Nelnet Loan Srv',\t'United Wholesale Mortgage',\t'Speedy Cash',\t'Edward Jones',\t'Charles Schwab','DreamSpring','Bluevine','INTUIT']\n",
    "\n",
    "payroll = ['payroll']\n",
    "\n",
    "pos_cat = ['ATM']\n",
    "\n",
    "third_party_cat = ['third party']\n",
    "\n",
    "service_cat = ['service']\n",
    "shops_cat = ['shops']\n",
    "\n",
    "bank = ['bank fees']\n"
   ]
  },
  {
   "cell_type": "markdown",
   "metadata": {},
   "source": [
    "#### Transaction categorisation"
   ]
  },
  {
   "cell_type": "code",
   "execution_count": 19,
   "metadata": {},
   "outputs": [
    {
     "data": {
      "text/plain": [
       "0    35364\n",
       "1     5656\n",
       "Name: pos_flag, dtype: int64"
      ]
     },
     "execution_count": 19,
     "metadata": {},
     "output_type": "execute_result"
    }
   ],
   "source": [
    "#POS \n",
    "df['pos_flag'] = 0\n",
    "df.loc[(df['description'].str.contains('|'.join(pos_keywords1))),'pos_flag'] = 1\n",
    "df.loc[(df['description'].str.contains('|'.join(pos_keywords2),case=False)),'pos_flag'] = 1\n",
    "df.loc[(df['categories'].str.contains('|'.join(pos_cat),case=False)),'pos_flag'] = 1\n",
    "\n",
    "df['pos_flag'].value_counts()"
   ]
  },
  {
   "cell_type": "code",
   "execution_count": 20,
   "metadata": {},
   "outputs": [
    {
     "data": {
      "text/plain": [
       "0    40327\n",
       "1      693\n",
       "Name: loans_flag, dtype: int64"
      ]
     },
     "execution_count": 20,
     "metadata": {},
     "output_type": "execute_result"
    }
   ],
   "source": [
    "## Loans\n",
    "# merchant\n",
    "df['loans_flag'] = 0\n",
    "\n",
    "df.loc[df['merchant_name'].isnull(),'merchant_name'] = ''\n",
    "df.loc[(df['merchant_name'].str.contains('|'.join(finance_merchants), case=False)),'loans_flag'] = 1\n",
    "\n",
    "# desc\n",
    "df.loc[(df['description'].str.contains('|'.join(loan_sba), case=False)),'loans_flag'] = 1\n",
    "df.loc[(df['description'].str.contains('|'.join(finance_keywords), case=False)),'loans_flag'] = 1\n",
    "\n",
    "df['loans_flag'].value_counts()"
   ]
  },
  {
   "cell_type": "code",
   "execution_count": 21,
   "metadata": {},
   "outputs": [
    {
     "data": {
      "text/plain": [
       "0    36516\n",
       "1     4504\n",
       "Name: payroll_flag, dtype: int64"
      ]
     },
     "execution_count": 21,
     "metadata": {},
     "output_type": "execute_result"
    }
   ],
   "source": [
    "# Payroll\n",
    "df['payroll_flag'] = 0\n",
    "df.loc[(df['description'].str.contains('|'.join(payroll_keywords), case=False)),'payroll_flag'] = 1\n",
    "df.loc[(df['categories'].str.contains('|'.join(payroll), case=False)),'payroll_flag'] = 1\n",
    "\n",
    "df['payroll_flag'].value_counts()"
   ]
  },
  {
   "cell_type": "code",
   "execution_count": 22,
   "metadata": {},
   "outputs": [
    {
     "data": {
      "text/plain": [
       "0    39122\n",
       "1     1898\n",
       "Name: ecom_flag, dtype: int64"
      ]
     },
     "execution_count": 22,
     "metadata": {},
     "output_type": "execute_result"
    }
   ],
   "source": [
    "#ecom\n",
    "df['ecom_flag'] = 0\n",
    "df.loc[(df['description'].str.contains('|'.join(ecom_keywords), case=False)),'ecom_flag'] = 1\n",
    "df['ecom_flag'].value_counts()"
   ]
  },
  {
   "cell_type": "code",
   "execution_count": 23,
   "metadata": {},
   "outputs": [
    {
     "data": {
      "text/plain": [
       "0    31797\n",
       "1     9223\n",
       "Name: third_party_flag, dtype: int64"
      ]
     },
     "execution_count": 23,
     "metadata": {},
     "output_type": "execute_result"
    }
   ],
   "source": [
    "#third party\n",
    "df['third_party_flag'] = 0\n",
    "df.loc[(df['description'].str.contains('|'.join(third_party), case=False)),'third_party_flag'] = 1\n",
    "\n",
    "df.loc[(df['categories'].str.contains('|'.join(third_party_cat), case=False)),'third_party_flag'] = 1\n",
    "\n",
    "df['third_party_flag'].value_counts()"
   ]
  },
  {
   "cell_type": "code",
   "execution_count": 24,
   "metadata": {},
   "outputs": [
    {
     "data": {
      "text/plain": [
       "0    38393\n",
       "1     2627\n",
       "Name: service_flag, dtype: int64"
      ]
     },
     "execution_count": 24,
     "metadata": {},
     "output_type": "execute_result"
    }
   ],
   "source": [
    "#Services\n",
    "df['service_flag'] = 0\n",
    "df.loc[(df['description'].str.contains('|'.join(service), case=False)),'service_flag'] = 1\n",
    "\n",
    "df.loc[(df['categories'].str.contains('|'.join(service_cat), case=False)),'service_flag'] = 1\n",
    "\n",
    "df['service_flag'].value_counts()"
   ]
  },
  {
   "cell_type": "code",
   "execution_count": 25,
   "metadata": {},
   "outputs": [
    {
     "data": {
      "text/plain": [
       "0    38670\n",
       "1     2350\n",
       "Name: shops_flag, dtype: int64"
      ]
     },
     "execution_count": 25,
     "metadata": {},
     "output_type": "execute_result"
    }
   ],
   "source": [
    "#Shops\n",
    "df['shops_flag'] = 0\n",
    "df.loc[(df['description'].str.contains('|'.join(shops), case=False)),'shops_flag'] = 1\n",
    "\n",
    "df.loc[(df['categories'].str.contains('|'.join(service_cat), case=False)),'shops_flag'] = 1\n",
    "\n",
    "df['shops_flag'].value_counts()"
   ]
  },
  {
   "cell_type": "code",
   "execution_count": 26,
   "metadata": {},
   "outputs": [
    {
     "data": {
      "text/plain": [
       "0    38431\n",
       "1     2589\n",
       "Name: ach_flag, dtype: int64"
      ]
     },
     "execution_count": 26,
     "metadata": {},
     "output_type": "execute_result"
    }
   ],
   "source": [
    "# ACH\n",
    "df['ach_flag'] = 0\n",
    "df.loc[df['description'].str.contains('ACH'),'ach_flag'] = 1\n",
    "df['ach_flag'].value_counts()"
   ]
  },
  {
   "cell_type": "code",
   "execution_count": 27,
   "metadata": {},
   "outputs": [
    {
     "name": "stdout",
     "output_type": "stream",
     "text": [
      "loans count = 693\n",
      "payrolls count = 4504\n",
      "third party count = 9223\n",
      "ecom count = 1898\n",
      "service count = 2627\n",
      "shops count = 2350\n",
      "POS count = 5656\n"
     ]
    }
   ],
   "source": [
    "print('loans count = {}'.format(df['loans_flag'].sum()))\n",
    "print('payrolls count = {}'.format(df['payroll_flag'].sum()))\n",
    "print('third party count = {}'.format(df['third_party_flag'].sum()))\n",
    "print('ecom count = {}'.format(df['ecom_flag'].sum()))\n",
    "print('service count = {}'.format(df['service_flag'].sum()))\n",
    "print('shops count = {}'.format(df['shops_flag'].sum()))\n",
    "print('POS count = {}'.format(df['pos_flag'].sum()))\n"
   ]
  },
  {
   "cell_type": "code",
   "execution_count": 28,
   "metadata": {},
   "outputs": [
    {
     "data": {
      "text/plain": [
       "Index(['id', 'transaction_id', 'date', 'amount', 'plaid_account_id', 'pending',\n",
       "       'description', 'created_at', 'merchant_name', 'retrieved_at', 'type',\n",
       "       'plaid_item_id', 'external_account_id', 'updated_at',\n",
       "       'iso_currency_code', 'categories', 'business_id', '_fivetran_deleted',\n",
       "       '_fivetran_synced', 'owned_by', 'lending_business_id', 'decision_date',\n",
       "       'drawn_flag', 'everDPD_15', 'fico_score', 'target', 'datediff',\n",
       "       'pos_flag', 'loans_flag', 'payroll_flag', 'ecom_flag',\n",
       "       'third_party_flag', 'service_flag', 'shops_flag', 'ach_flag'],\n",
       "      dtype='object')"
      ]
     },
     "execution_count": 28,
     "metadata": {},
     "output_type": "execute_result"
    }
   ],
   "source": [
    "df.columns"
   ]
  },
  {
   "cell_type": "code",
   "execution_count": 29,
   "metadata": {},
   "outputs": [
    {
     "name": "stdout",
     "output_type": "stream",
     "text": [
      "1M count = 6938\n",
      "3M count = 20554\n",
      "6M count = 41020\n"
     ]
    }
   ],
   "source": [
    "# Month flag\n",
    "df['1M_flag'] = 0\n",
    "df['3M_flag'] = 0\n",
    "df['6M_flag'] = 0\n",
    "\n",
    "df.loc[df['datediff'] <= 30,'1M_flag'] = 1\n",
    "df.loc[df['datediff'] <= 90,'3M_flag'] = 1\n",
    "df.loc[df['datediff'] <= 180,'6M_flag'] = 1\n",
    "\n",
    "print('1M count = {}'.format(df['1M_flag'].sum()))\n",
    "print('3M count = {}'.format(df['3M_flag'].sum()))\n",
    "print('6M count = {}'.format(df['6M_flag'].sum()))"
   ]
  },
  {
   "cell_type": "markdown",
   "metadata": {},
   "source": [
    "#### Feature creation"
   ]
  },
  {
   "cell_type": "code",
   "execution_count": 30,
   "metadata": {},
   "outputs": [
    {
     "data": {
      "text/plain": [
       "637"
      ]
     },
     "execution_count": 30,
     "metadata": {},
     "output_type": "execute_result"
    }
   ],
   "source": [
    "len(df['business_id'].unique())"
   ]
  },
  {
   "cell_type": "code",
   "execution_count": 31,
   "metadata": {},
   "outputs": [
    {
     "data": {
      "text/plain": [
       "Index(['id', 'transaction_id', 'date', 'amount', 'plaid_account_id', 'pending',\n",
       "       'description', 'created_at', 'merchant_name', 'retrieved_at', 'type',\n",
       "       'plaid_item_id', 'external_account_id', 'updated_at',\n",
       "       'iso_currency_code', 'categories', 'business_id', '_fivetran_deleted',\n",
       "       '_fivetran_synced', 'owned_by', 'lending_business_id', 'decision_date',\n",
       "       'drawn_flag', 'everDPD_15', 'fico_score', 'target', 'datediff',\n",
       "       'pos_flag', 'loans_flag', 'payroll_flag', 'ecom_flag',\n",
       "       'third_party_flag', 'service_flag', 'shops_flag', 'ach_flag', '1M_flag',\n",
       "       '3M_flag', '6M_flag'],\n",
       "      dtype='object')"
      ]
     },
     "execution_count": 31,
     "metadata": {},
     "output_type": "execute_result"
    }
   ],
   "source": [
    "df.columns"
   ]
  },
  {
   "cell_type": "code",
   "execution_count": 32,
   "metadata": {},
   "outputs": [],
   "source": [
    "base_df = base.copy()"
   ]
  },
  {
   "cell_type": "code",
   "execution_count": 33,
   "metadata": {},
   "outputs": [
    {
     "name": "stdout",
     "output_type": "stream",
     "text": [
      "loans count = 129.0\n",
      "payrolls count = 340.0\n",
      "POS count = 410.0\n",
      "ecom count = 211.0\n",
      "Third party count = 438.0\n",
      "Service count = 349.0\n",
      "Shops count = 346.0\n",
      "ACH count = 203.0\n"
     ]
    }
   ],
   "source": [
    "# loans flag\n",
    "t = df.groupby('business_id',as_index=False)['loans_flag'].max()\n",
    "base_df = base_df.merge(t,how='left',on='business_id')\n",
    "print('loans count = {}'.format(base_df['loans_flag'].sum()))\n",
    "\n",
    "# payroll flag\n",
    "t = df.groupby('business_id',as_index=False)['payroll_flag'].max()\n",
    "base_df = base_df.merge(t,how='left',on='business_id')\n",
    "print('payrolls count = {}'.format(base_df['payroll_flag'].sum()))\n",
    "\n",
    "# POS flag\n",
    "t = df.groupby('business_id',as_index=False)['pos_flag'].max()\n",
    "base_df = base_df.merge(t,how='left',on='business_id')\n",
    "print('POS count = {}'.format(base_df['pos_flag'].sum()))\n",
    "\n",
    "# ecom flag\n",
    "t = df.groupby('business_id',as_index=False)['ecom_flag'].max()\n",
    "base_df = base_df.merge(t,how='left',on='business_id')\n",
    "print('ecom count = {}'.format(base_df['ecom_flag'].sum()))\n",
    "\n",
    "# Third party flag\n",
    "t = df.groupby('business_id',as_index=False)['third_party_flag'].max()\n",
    "base_df = base_df.merge(t,how='left',on='business_id')\n",
    "print('Third party count = {}'.format(base_df['third_party_flag'].sum()))\n",
    "\n",
    "# Service flag\n",
    "t = df.groupby('business_id',as_index=False)['service_flag'].max()\n",
    "base_df = base_df.merge(t,how='left',on='business_id')\n",
    "print('Service count = {}'.format(base_df['service_flag'].sum()))\n",
    "\n",
    "# Shops flag\n",
    "t = df.groupby('business_id',as_index=False)['shops_flag'].max()\n",
    "base_df = base_df.merge(t,how='left',on='business_id')\n",
    "print('Shops count = {}'.format(base_df['shops_flag'].sum()))\n",
    "\n",
    "# ACH flag\n",
    "t = df.groupby('business_id',as_index=False)['ach_flag'].max()\n",
    "base_df = base_df.merge(t,how='left',on='business_id')\n",
    "print('ACH count = {}'.format(base_df['ach_flag'].sum()))\n",
    "\n"
   ]
  },
  {
   "cell_type": "code",
   "execution_count": 34,
   "metadata": {},
   "outputs": [],
   "source": [
    "# credit count 1M / 3M / 6M\n",
    "t1 = df[df['1M_flag']==1].groupby('business_id',as_index=False)['transaction_id'].count().rename(columns = {'transaction_id':'total_credit_count_1M'})\n",
    "t3 = df[df['3M_flag']==1].groupby('business_id',as_index=False)['transaction_id'].count().rename(columns = {'transaction_id':'total_credit_count_3M'})\n",
    "t6 = df[df['6M_flag']==1].groupby('business_id',as_index=False)['transaction_id'].count().rename(columns = {'transaction_id':'total_credit_count_6M'})\n",
    "\n",
    "base_df = base_df.merge(t1,how='left',on='business_id')\n",
    "base_df = base_df.merge(t3,how='left',on='business_id')\n",
    "base_df = base_df.merge(t6,how='left',on='business_id')\n",
    "\n",
    "# base_df[['total_credit_count_1M','total_credit_count_3M','total_credit_count_6M']] = base_df[['total_credit_count_1M','total_credit_count_3M','total_credit_count_6M']].fillna(0)"
   ]
  },
  {
   "cell_type": "code",
   "execution_count": 35,
   "metadata": {},
   "outputs": [],
   "source": [
    "# credit amt 1M / 3M / 6M\n",
    "t1 = df[df['1M_flag']==1].groupby('business_id',as_index=False)['amount'].sum().rename(columns = {'amount':'total_credit_amt_1M'})\n",
    "t3 = df[df['3M_flag']==1].groupby('business_id',as_index=False)['amount'].sum().rename(columns = {'amount':'total_credit_amt_3M'})\n",
    "t6 = df[df['6M_flag']==1].groupby('business_id',as_index=False)['amount'].sum().rename(columns = {'amount':'total_credit_amt_6M'})\n",
    "\n",
    "base_df = base_df.merge(t1,how='left',on='business_id')\n",
    "base_df = base_df.merge(t3,how='left',on='business_id')\n",
    "base_df = base_df.merge(t6,how='left',on='business_id')\n",
    "\n",
    "# base_df[['total_credit_amt_1M','total_credit_amt_3M','total_credit_amt_6M']] = base_df[['total_credit_amt_1M','total_credit_amt_3M','total_credit_amt_6M']].fillna(0)"
   ]
  },
  {
   "cell_type": "code",
   "execution_count": 36,
   "metadata": {},
   "outputs": [],
   "source": [
    "# credit size 1M / 3M / 6M\n",
    "base_df['credit_size_1M'] = base_df['total_credit_amt_1M']/(1 + base_df['total_credit_count_1M'])\n",
    "base_df['credit_size_3M'] = base_df['total_credit_amt_3M']/(1 + base_df['total_credit_count_3M'])\n",
    "base_df['credit_size_6M'] = base_df['total_credit_amt_6M']/(1 + base_df['total_credit_count_6M'])\n"
   ]
  },
  {
   "cell_type": "code",
   "execution_count": 37,
   "metadata": {},
   "outputs": [],
   "source": [
    "# stddev credits\n",
    "\n",
    "t1 = df[df['1M_flag']==1].groupby('business_id',as_index=False)['amount'].agg([np.std,'median']).rename(columns = {'std':'stddev_credit_amt_1M','median':'median_credit_amt_1M'})\n",
    "t3 = df[df['3M_flag']==1].groupby('business_id',as_index=False)['amount'].agg([np.std,'median']).rename(columns = {'std':'stddev_credit_amt_3M','median':'median_credit_amt_3M'})\n",
    "t6 = df.groupby('business_id',as_index=False)['amount'].agg([np.std,'median']).rename(columns = {'std':'stddev_credit_amt_6M','median':'median_credit_amt_6M'})\n",
    "\n",
    "base_df = base_df.merge(t1,how='left',on='business_id')\n",
    "base_df = base_df.merge(t3,how='left',on='business_id')\n",
    "base_df = base_df.merge(t6,how='left',on='business_id')\n",
    "\n",
    "#ratios\n",
    "base_df['ratio_stddev_credit_amt_1M_6M'] = base_df['stddev_credit_amt_1M']/(1 + base_df['stddev_credit_amt_6M'])\n",
    "base_df['ratio_stddev_credit_amt_1M_3M'] = base_df['stddev_credit_amt_1M']/(1 + base_df['stddev_credit_amt_3M'])\n",
    "\n",
    "base_df['ratio_median_credit_amt_1M_6M'] = base_df['median_credit_amt_1M']/(1 + base_df['median_credit_amt_6M'])\n",
    "base_df['ratio_median_credit_amt_1M_3M'] = base_df['median_credit_amt_1M']/(1 + base_df['median_credit_amt_3M'])"
   ]
  },
  {
   "cell_type": "code",
   "execution_count": 38,
   "metadata": {},
   "outputs": [],
   "source": [
    "# categories - sum, count, medin, stddev - 1M / 3M / 6M\n",
    "\n",
    "t1 = df[df['loans_flag']==1].groupby('business_id',as_index=False)['amount'].agg(['sum','count','median',np.std]).rename(columns = {'sum':'loans_amt_6M','count':'loans_count_6M','median':'median_loans_amt_6M', 'std': 'stddev_loans_amt_6M'})\n",
    "t2 = df[df['payroll_flag']==1].groupby('business_id',as_index=False)['amount'].agg(['sum','count','median',np.std]).rename(columns = {'sum':'payroll_amt_6M','count':'payroll_count_6M','median':'median_payroll_amt_6M', 'std': 'stddev_payroll_amt_6M'})\n",
    "t3 = df[df['pos_flag']==1].groupby('business_id',as_index=False)['amount'].agg(['sum','count','median',np.std]).rename(columns = {'sum':'pos_amt_6M','count':'pos_count_6M','median':'median_pos_amt_6M', 'std': 'stddev_pos_amt_6M'})\n",
    "t4 = df[df['ecom_flag']==1].groupby('business_id',as_index=False)['amount'].agg(['sum','count','median',np.std]).rename(columns = {'sum':'ecom_amt_6M','count':'ecom_count_6M','median':'median_ecom_amt_6M', 'std': 'stddev_ecom_amt_6M'})\n",
    "t5 = df[df['third_party_flag']==1].groupby('business_id',as_index=False)['amount'].agg(['sum','count','median',np.std]).rename(columns = {'sum':'third_party_amt_6M','count':'third_party_count_6M','median':'median_third_party_amt_6M', 'std': 'stddev_third_party_amt_6M'})\n",
    "t6 = df[df['service_flag']==1].groupby('business_id',as_index=False)['amount'].agg(['sum','count','median',np.std]).rename(columns = {'sum':'service_amt_6M','count':'service_count_6M','median':'median_service_amt_6M', 'std': 'stddev_service_amt_6M'})\n",
    "t7 = df[df['shops_flag']==1].groupby('business_id',as_index=False)['amount'].agg(['sum','count','median',np.std]).rename(columns = {'sum':'shops_amt_6M','count':'shops_count_6M','median':'median_shops_amt_6M', 'std': 'stddev_shops_amt_6M'})\n",
    "t8 = df[df['ach_flag']==1].groupby('business_id',as_index=False)['amount'].agg(['sum','count','median',np.std]).rename(columns = {'sum':'ach_amt_6M','count':'ach_count_6M','median':'median_ach_amt_6M', 'std': 'stddev_ach_amt_6M'})\n",
    "\n",
    "base_df = base_df.merge(t1,how='left',on='business_id')\n",
    "base_df = base_df.merge(t2,how='left',on='business_id')\n",
    "base_df = base_df.merge(t3,how='left',on='business_id')\n",
    "base_df = base_df.merge(t4,how='left',on='business_id')\n",
    "base_df = base_df.merge(t5,how='left',on='business_id')\n",
    "base_df = base_df.merge(t6,how='left',on='business_id')\n",
    "base_df = base_df.merge(t7,how='left',on='business_id')\n",
    "base_df = base_df.merge(t8,how='left',on='business_id')\n",
    "\n",
    "t1 = df[(df['loans_flag']==1) & (df['3M_flag']==1)].groupby('business_id',as_index=False)['amount'].agg(['sum','count','median',np.std]).rename(columns = {'sum':'loans_amt_3M','count':'loans_count_3M','median':'median_loans_amt_3M', 'std': 'stddev_loans_amt_3M'})\n",
    "t2 = df[(df['payroll_flag']==1) & (df['3M_flag']==1)].groupby('business_id',as_index=False)['amount'].agg(['sum','count','median',np.std]).rename(columns = {'sum':'payroll_amt_3M','count':'payroll_count_3M','median':'median_payroll_amt_3M', 'std': 'stddev_payroll_amt_3M'})\n",
    "t3 = df[(df['pos_flag']==1) & (df['3M_flag']==1)].groupby('business_id',as_index=False)['amount'].agg(['sum','count','median',np.std]).rename(columns = {'sum':'pos_amt_3M','count':'pos_count_3M','median':'median_pos_amt_3M', 'std': 'stddev_pos_amt_3M'})\n",
    "t4 = df[(df['ecom_flag']==1) & (df['3M_flag']==1)].groupby('business_id',as_index=False)['amount'].agg(['sum','count','median',np.std]).rename(columns = {'sum':'ecom_amt_3M','count':'ecom_count_3M','median':'median_ecom_amt_3M', 'std': 'stddev_ecom_amt_3M'})\n",
    "t5 = df[(df['third_party_flag']==1) & (df['3M_flag']==1)].groupby('business_id',as_index=False)['amount'].agg(['sum','count','median',np.std]).rename(columns = {'sum':'third_party_amt_3M','count':'third_party_count_3M','median':'median_third_party_amt_3M', 'std': 'stddev_third_party_amt_3M'})\n",
    "t6 = df[(df['service_flag']==1) & (df['3M_flag']==1)].groupby('business_id',as_index=False)['amount'].agg(['sum','count','median',np.std]).rename(columns = {'sum':'service_amt_3M','count':'service_count_3M','median':'median_service_amt_3M', 'std': 'stddev_service_amt_3M'})\n",
    "t7 = df[(df['shops_flag']==1) & (df['3M_flag']==1)].groupby('business_id',as_index=False)['amount'].agg(['sum','count','median',np.std]).rename(columns = {'sum':'shops_amt_3M','count':'shops_count_3M','median':'median_shops_amt_3M', 'std': 'stddev_shops_amt_3M'})\n",
    "t8 = df[(df['ach_flag']==1) & (df['3M_flag']==1)].groupby('business_id',as_index=False)['amount'].agg(['sum','count','median',np.std]).rename(columns = {'sum':'ach_amt_3M','count':'ach_count_3M','median':'median_ach_amt_3M', 'std': 'stddev_ach_amt_3M'})\n",
    "\n",
    "base_df = base_df.merge(t1,how='left',on='business_id')\n",
    "base_df = base_df.merge(t2,how='left',on='business_id')\n",
    "base_df = base_df.merge(t3,how='left',on='business_id')\n",
    "base_df = base_df.merge(t4,how='left',on='business_id')\n",
    "base_df = base_df.merge(t5,how='left',on='business_id')\n",
    "base_df = base_df.merge(t6,how='left',on='business_id')\n",
    "base_df = base_df.merge(t7,how='left',on='business_id')\n",
    "base_df = base_df.merge(t8,how='left',on='business_id')\n",
    "\n",
    "t1 = df[(df['loans_flag']==1) & (df['1M_flag']==1)].groupby('business_id',as_index=False)['amount'].agg(['sum','count','median',np.std]).rename(columns = {'sum':'loans_amt_1M','count':'loans_count_1M','median':'median_loans_amt_1M', 'std': 'stddev_loans_amt_1M'})\n",
    "t2 = df[(df['payroll_flag']==1) & (df['1M_flag']==1)].groupby('business_id',as_index=False)['amount'].agg(['sum','count','median',np.std]).rename(columns = {'sum':'payroll_amt_1M','count':'payroll_count_1M','median':'median_payroll_amt_1M', 'std': 'stddev_payroll_amt_1M'})\n",
    "t3 = df[(df['pos_flag']==1) & (df['1M_flag']==1)].groupby('business_id',as_index=False)['amount'].agg(['sum','count','median',np.std]).rename(columns = {'sum':'pos_amt_1M','count':'pos_count_1M','median':'median_pos_amt_1M', 'std': 'stddev_pos_amt_1M'})\n",
    "t4 = df[(df['ecom_flag']==1) & (df['1M_flag']==1)].groupby('business_id',as_index=False)['amount'].agg(['sum','count','median',np.std]).rename(columns = {'sum':'ecom_amt_1M','count':'ecom_count_1M','median':'median_ecom_amt_1M', 'std': 'stddev_ecom_amt_1M'})\n",
    "t5 = df[(df['third_party_flag']==1) & (df['1M_flag']==1)].groupby('business_id',as_index=False)['amount'].agg(['sum','count','median',np.std]).rename(columns = {'sum':'third_party_amt_1M','count':'third_party_count_1M','median':'median_third_party_amt_1M', 'std': 'stddev_third_party_amt_1M'})\n",
    "t6 = df[(df['service_flag']==1) & (df['1M_flag']==1)].groupby('business_id',as_index=False)['amount'].agg(['sum','count','median',np.std]).rename(columns = {'sum':'service_amt_1M','count':'service_count_1M','median':'median_service_amt_1M', 'std': 'stddev_service_amt_1M'})\n",
    "t7 = df[(df['shops_flag']==1) & (df['1M_flag']==1)].groupby('business_id',as_index=False)['amount'].agg(['sum','count','median',np.std]).rename(columns = {'sum':'shops_amt_1M','count':'shops_count_1M','median':'median_shops_amt_1M', 'std': 'stddev_shops_amt_1M'})\n",
    "t8 = df[(df['ach_flag']==1) & (df['1M_flag']==1)].groupby('business_id',as_index=False)['amount'].agg(['sum','count','median',np.std]).rename(columns = {'sum':'ach_amt_1M','count':'ach_count_1M','median':'median_ach_amt_1M', 'std': 'stddev_ach_amt_1M'})\n",
    "\n",
    "base_df = base_df.merge(t1,how='left',on='business_id')\n",
    "base_df = base_df.merge(t2,how='left',on='business_id')\n",
    "base_df = base_df.merge(t3,how='left',on='business_id')\n",
    "base_df = base_df.merge(t4,how='left',on='business_id')\n",
    "base_df = base_df.merge(t5,how='left',on='business_id')\n",
    "base_df = base_df.merge(t6,how='left',on='business_id')\n",
    "base_df = base_df.merge(t7,how='left',on='business_id')\n",
    "base_df = base_df.merge(t8,how='left',on='business_id')"
   ]
  },
  {
   "cell_type": "code",
   "execution_count": 39,
   "metadata": {},
   "outputs": [],
   "source": [
    "# size 1M / 3M / 6M\n",
    "base_df['loans_size_1M'] = base_df['loans_amt_1M']/(1 + base_df['loans_count_1M'])\n",
    "base_df['payroll_size_1M'] = base_df['payroll_amt_1M']/(1 + base_df['payroll_count_1M'])\n",
    "base_df['pos_size_1M'] = base_df['pos_amt_1M']/(1 + base_df['pos_count_1M'])\n",
    "base_df['ecom_size_1M'] = base_df['ecom_amt_1M']/(1 + base_df['ecom_count_1M'])\n",
    "base_df['third_party_size_1M'] = base_df['third_party_amt_1M']/(1 + base_df['third_party_amt_1M'])\n",
    "base_df['service_size_1M'] = base_df['service_amt_1M']/(1 + base_df['service_count_1M'])\n",
    "base_df['shops_size_1M'] = base_df['shops_amt_1M']/(1 + base_df['shops_count_1M'])\n",
    "base_df['ach_size_1M'] = base_df['ach_amt_1M']/(1 + base_df['ach_count_1M'])\n",
    "\n",
    "base_df['loans_size_3M'] = base_df['loans_amt_3M']/(1 + base_df['loans_count_3M'])\n",
    "base_df['payroll_size_3M'] = base_df['payroll_amt_3M']/(1 + base_df['payroll_count_3M'])\n",
    "base_df['pos_size_3M'] = base_df['pos_amt_3M']/(1 + base_df['pos_count_3M'])\n",
    "base_df['ecom_size_3M'] = base_df['ecom_amt_3M']/(1 + base_df['ecom_count_3M'])\n",
    "base_df['third_party_size_3M'] = base_df['third_party_amt_3M']/(1 + base_df['third_party_amt_3M'])\n",
    "base_df['service_size_3M'] = base_df['service_amt_3M']/(1 + base_df['service_count_3M'])\n",
    "base_df['shops_size_3M'] = base_df['shops_amt_3M']/(1 + base_df['shops_count_3M'])\n",
    "base_df['ach_size_3M'] = base_df['ach_amt_3M']/(1 + base_df['ach_count_3M'])\n",
    "\n",
    "base_df['loans_size_6M'] = base_df['loans_amt_6M']/(1 + base_df['loans_count_6M'])\n",
    "base_df['payroll_size_6M'] = base_df['payroll_amt_6M']/(1 + base_df['payroll_count_6M'])\n",
    "base_df['pos_size_6M'] = base_df['pos_amt_6M']/(1 + base_df['pos_count_6M'])\n",
    "base_df['ecom_size_6M'] = base_df['ecom_amt_6M']/(1 + base_df['ecom_count_6M'])\n",
    "base_df['third_party_size_6M'] = base_df['third_party_amt_6M']/(1 + base_df['third_party_amt_6M'])\n",
    "base_df['service_size_6M'] = base_df['service_amt_6M']/(1 + base_df['service_count_6M'])\n",
    "base_df['shops_size_6M'] = base_df['shops_amt_6M']/(1 + base_df['shops_count_6M'])\n",
    "base_df['ach_size_6M'] = base_df['ach_amt_6M']/(1 + base_df['ach_count_6M'])"
   ]
  },
  {
   "cell_type": "code",
   "execution_count": 40,
   "metadata": {},
   "outputs": [],
   "source": [
    "# ratios 1M/6M & 1M/3M & 3M/6M\n",
    "\n",
    "base_df['ratio_loan_size_1M_6M'] = base_df['loans_size_1M']/(1 + base_df['loans_size_6M'])\n",
    "base_df['ratio_payroll_size_1M_6M'] = base_df['payroll_size_1M']/(1 + base_df['payroll_size_6M'])\n",
    "base_df['ratio_pos_size_1M_6M'] = base_df['pos_size_1M']/(1 + base_df['pos_size_6M'])\n",
    "base_df['ratio_ecom_size_1M_6M'] = base_df['ecom_size_1M']/(1 + base_df['ecom_size_6M'])\n",
    "base_df['ratio_third_party_size_1M_6M'] = base_df['third_party_size_1M']/(1 + base_df['third_party_size_6M'])\n",
    "base_df['ratio_service_size_1M_6M'] = base_df['service_size_1M']/(1 + base_df['service_size_6M'])\n",
    "base_df['ratio_shops_size_1M_6M'] = base_df['shops_size_1M']/(1 + base_df['shops_size_6M'])\n",
    "base_df['ratio_ach_size_1M_6M'] = base_df['ach_size_1M']/(1 + base_df['ach_size_6M'])\n",
    "\n",
    "base_df['ratio_loan_size_1M_3M'] = base_df['loans_size_1M']/(1 + base_df['loans_size_3M'])\n",
    "base_df['ratio_payroll_size_1M_3M'] = base_df['payroll_size_1M']/(1 + base_df['payroll_size_3M'])\n",
    "base_df['ratio_pos_size_1M_3M'] = base_df['pos_size_1M']/(1 + base_df['pos_size_3M'])\n",
    "base_df['ratio_ecom_size_1M_3M'] = base_df['ecom_size_1M']/(1 + base_df['ecom_size_3M'])\n",
    "base_df['ratio_third_party_size_1M_3M'] = base_df['third_party_size_1M']/(1 + base_df['third_party_size_3M'])\n",
    "base_df['ratio_service_size__1M_3M'] = base_df['service_size_1M']/(1 + base_df['service_size_3M'])\n",
    "base_df['ratio_shops_size_1M_3M'] = base_df['shops_size_1M']/(1 + base_df['shops_size_3M'])\n",
    "base_df['ratio_ach_size_1M_3M'] = base_df['ach_size_1M']/(1 + base_df['ach_size_3M'])\n",
    "\n",
    "base_df['ratio_median_loan_amt_3M_6M'] = base_df['median_loans_amt_3M']/(1 + base_df['median_loans_amt_6M'])\n",
    "base_df['ratio_median_payroll_amt_3M_6M'] = base_df['median_payroll_amt_3M']/(1 + base_df['median_payroll_amt_6M'])\n",
    "base_df['ratio_median_pos_amt_3M_6M'] = base_df['median_pos_amt_3M']/(1 + base_df['median_pos_amt_6M'])\n",
    "base_df['ratio_median_ecom_amt_3M_6M'] = base_df['median_ecom_amt_3M']/(1 + base_df['median_ecom_amt_6M'])\n",
    "base_df['ratio_median_third_party_amt_3M_6M'] = base_df['median_third_party_amt_3M']/(1 + base_df['median_third_party_amt_6M'])\n",
    "base_df['ratio_median_service_amt_3M_6M'] = base_df['median_service_amt_3M']/(1 + base_df['median_service_amt_6M'])\n",
    "base_df['ratio_median_shops_amt_3M_6M'] = base_df['median_shops_amt_3M']/(1 + base_df['median_shops_amt_6M'])\n",
    "base_df['ratio_median_ach_amt_3M_6M'] = base_df['median_ach_amt_3M']/(1 + base_df['median_ach_amt_6M'])\n",
    "\n",
    "\n",
    "base_df['ratio_stddev_loan_amt_3M_6M'] = base_df['stddev_loans_amt_3M']/(1 + base_df['stddev_loans_amt_6M'])\n",
    "base_df['ratio_stddev_payroll_amt_3M_6M'] = base_df['stddev_payroll_amt_3M']/(1 + base_df['stddev_payroll_amt_6M'])\n",
    "base_df['ratio_stddev_pos_amt_3M_6M'] = base_df['stddev_pos_amt_3M']/(1 + base_df['stddev_pos_amt_6M'])\n",
    "base_df['ratio_stddev_ecom_amt_3M_6M'] = base_df['stddev_ecom_amt_3M']/(1 + base_df['stddev_ecom_amt_6M'])\n",
    "base_df['ratio_stddev_third_party_amt_3M_6M'] = base_df['stddev_third_party_amt_3M']/(1 + base_df['stddev_third_party_amt_6M'])\n",
    "base_df['ratio_stddev_service_amt_3M_6M'] = base_df['stddev_service_amt_3M']/(1 + base_df['stddev_service_amt_6M'])\n",
    "base_df['ratio_stddev_shops_amt_3M_6M'] = base_df['stddev_shops_amt_3M']/(1 + base_df['stddev_shops_amt_6M'])\n",
    "base_df['ratio_stddev_ach_amt_3M_6M'] = base_df['stddev_ach_amt_3M']/(1 + base_df['stddev_ach_amt_6M'])"
   ]
  },
  {
   "cell_type": "code",
   "execution_count": 41,
   "metadata": {},
   "outputs": [],
   "source": [
    "# ratio cat/credit\n",
    "\n",
    "base_df['ratio_loans_size_credit_size_1M'] = base_df['loans_size_1M']/(1 + base_df['credit_size_1M'])\n",
    "base_df['ratio_payroll_size_credit_size_1M'] = base_df['payroll_size_1M']/(1 + base_df['credit_size_1M'])\n",
    "base_df['ratio_pos_size_credit_size_1M'] = base_df['pos_size_1M']/(1 + base_df['credit_size_1M'])\n",
    "base_df['ratio_ecom_size_credit_size_1M'] = base_df['ecom_size_1M']/(1 + base_df['credit_size_1M'])\n",
    "base_df['ratio_third_party_size_credit_size_1M'] = base_df['third_party_size_1M']/(1 + base_df['credit_size_1M'])\n",
    "base_df['ratio_service_size_credit_size_1M'] = base_df['service_size_1M']/(1 + base_df['credit_size_1M'])\n",
    "base_df['ratio_shops_size_credit_size_1M'] = base_df['shops_size_1M']/(1 + base_df['credit_size_1M'])\n",
    "base_df['ratio_ach_size_credit_size_1M'] = base_df['ach_size_1M']/(1 + base_df['credit_size_1M'])\n",
    "\n",
    "base_df['ratio_loans_size_credit_size_3M'] = base_df['loans_size_3M']/(1 + base_df['credit_size_3M'])\n",
    "base_df['ratio_payroll_size_credit_size_3M'] = base_df['payroll_size_3M']/(1 + base_df['credit_size_3M'])\n",
    "base_df['ratio_pos_size_credit_size_3M'] = base_df['pos_size_3M']/(1 + base_df['credit_size_3M'])\n",
    "base_df['ratio_ecom_size_credit_size_3M'] = base_df['ecom_size_3M']/(1 + base_df['credit_size_3M'])\n",
    "base_df['ratio_third_party_size_credit_size_3M'] = base_df['third_party_size_3M']/(1 + base_df['credit_size_3M'])\n",
    "base_df['ratio_service_size_credit_size_3M'] = base_df['service_size_3M']/(1 + base_df['credit_size_3M'])\n",
    "base_df['ratio_shops_size_credit_size_3M'] = base_df['shops_size_3M']/(1 + base_df['credit_size_3M'])\n",
    "base_df['ratio_ach_size_credit_size_3M'] = base_df['ach_size_3M']/(1 + base_df['credit_size_3M'])\n",
    "\n",
    "base_df['ratio_loans_size_credit_size_6M'] = base_df['loans_size_6M']/(1 + base_df['credit_size_6M'])\n",
    "base_df['ratio_payroll_size_credit_size_6M'] = base_df['payroll_size_6M']/(1 + base_df['credit_size_6M'])\n",
    "base_df['ratio_pos_size_credit_size_6M'] = base_df['pos_size_6M']/(1 + base_df['credit_size_6M'])\n",
    "base_df['ratio_ecom_size_credit_size_6M'] = base_df['ecom_size_6M']/(1 + base_df['credit_size_6M'])\n",
    "base_df['ratio_third_party_size_credit_size_6M'] = base_df['third_party_size_6M']/(1 + base_df['credit_size_6M'])\n",
    "base_df['ratio_service_size_credit_size_6M'] = base_df['service_size_6M']/(1 + base_df['credit_size_6M'])\n",
    "base_df['ratio_shops_size_credit_size_6M'] = base_df['shops_size_6M']/(1 + base_df['credit_size_6M'])\n",
    "base_df['ratio_ach_size_credit_size_6M'] = base_df['ach_size_6M']/(1 + base_df['credit_size_6M'])"
   ]
  },
  {
   "cell_type": "code",
   "execution_count": 42,
   "metadata": {},
   "outputs": [],
   "source": [
    "# amount features"
   ]
  },
  {
   "cell_type": "code",
   "execution_count": 43,
   "metadata": {},
   "outputs": [],
   "source": [
    "t1 = df[(df['amount']<100) & (df['1M_flag']==1)].groupby('business_id',as_index=False)['amount'].agg(['count','sum']).rename(columns={'sum':'sum_credits_lessthan_100_1M','count':'count_credits_lessthan_100_1M'})\n",
    "t2 = df[(df['amount']>=100) & (df['amount']<500) & (df['1M_flag']==1)].groupby('business_id',as_index=False)['amount'].agg(['count','sum']).rename(columns={'sum':'sum_credits_100_to_500_1M','count':'count_credits_100_to_500_1M'})\n",
    "t3 = df[(df['amount']>=500) & (df['1M_flag']==1)].groupby('business_id',as_index=False)['amount'].agg(['count','sum']).rename(columns={'sum':'sum_credits_grt_500_1M','count':'count_credits_grt_500_1M'})\n",
    "t4 = df[(df['amount']>=1500) & (df['1M_flag']==1)].groupby('business_id',as_index=False)['amount'].agg(['count','sum']).rename(columns={'sum':'sum_credits_grt_1500_1M','count':'count_credits_grt_1500_1M'})\n",
    "\n",
    "base_df = base_df.merge(t1,how='left',on='business_id')\n",
    "base_df = base_df.merge(t2,how='left',on='business_id')\n",
    "base_df = base_df.merge(t3,how='left',on='business_id')\n",
    "base_df = base_df.merge(t4,how='left',on='business_id')\n",
    "\n",
    "t1 = df[(df['amount']<100) & (df['3M_flag']==1)].groupby('business_id',as_index=False)['amount'].agg(['count','sum']).rename(columns={'sum':'sum_credits_lessthan_100_3M','count':'count_credits_lessthan_100_3M'})\n",
    "t2 = df[(df['amount']>=100) & (df['amount']<500) & (df['3M_flag']==1)].groupby('business_id',as_index=False)['amount'].agg(['count','sum']).rename(columns={'sum':'sum_credits_100_to_500_3M','count':'count_credits_100_to_500_3M'})\n",
    "t3 = df[(df['amount']>=500) & (df['3M_flag']==1)].groupby('business_id',as_index=False)['amount'].agg(['count','sum']).rename(columns={'sum':'sum_credits_grt_500_3M','count':'count_credits_grt_500_3M'})\n",
    "t4 = df[(df['amount']>=1500) & (df['3M_flag']==1)].groupby('business_id',as_index=False)['amount'].agg(['count','sum']).rename(columns={'sum':'sum_credits_grt_1500_3M','count':'count_credits_grt_1500_3M'})\n",
    "\n",
    "base_df = base_df.merge(t1,how='left',on='business_id')\n",
    "base_df = base_df.merge(t2,how='left',on='business_id')\n",
    "base_df = base_df.merge(t3,how='left',on='business_id')\n",
    "base_df = base_df.merge(t4,how='left',on='business_id')\n",
    "\n",
    "t1 = df[(df['amount']<100) & (df['6M_flag']==1)].groupby('business_id',as_index=False)['amount'].agg(['count','sum']).rename(columns={'sum':'sum_credits_lessthan_100_6M','count':'count_credits_lessthan_100_6M'})\n",
    "t2 = df[(df['amount']>=100) & (df['amount']<500) & (df['6M_flag']==1)].groupby('business_id',as_index=False)['amount'].agg(['count','sum']).rename(columns={'sum':'sum_credits_100_to_500_6M','count':'count_credits_100_to_500_6M'})\n",
    "t3 = df[(df['amount']>=500) & (df['6M_flag']==1)].groupby('business_id',as_index=False)['amount'].agg(['count','sum']).rename(columns={'sum':'sum_credits_grt_500_6M','count':'count_credits_grt_500_6M'})\n",
    "t4 = df[(df['amount']>=1500) & (df['6M_flag']==1)].groupby('business_id',as_index=False)['amount'].agg(['count','sum']).rename(columns={'sum':'sum_credits_grt_1500_6M','count':'count_credits_grt_1500_6M'})\n",
    "\n",
    "base_df = base_df.merge(t1,how='left',on='business_id')\n",
    "base_df = base_df.merge(t2,how='left',on='business_id')\n",
    "base_df = base_df.merge(t3,how='left',on='business_id')\n",
    "base_df = base_df.merge(t4,how='left',on='business_id')"
   ]
  },
  {
   "cell_type": "code",
   "execution_count": 44,
   "metadata": {},
   "outputs": [],
   "source": [
    "# amount ratios\n",
    "\n",
    "base_df['ratio_credits_lessthan_100_1M_3M'] = base_df['count_credits_lessthan_100_1M']/(1 + base_df['count_credits_lessthan_100_3M'])\n",
    "base_df['ratio_credits_lessthan_100_1M_6M'] = base_df['count_credits_lessthan_100_1M']/(1 + base_df['count_credits_lessthan_100_6M'])\n",
    "\n",
    "base_df['ratio_credits_grt_500_1M_3M'] = base_df['count_credits_grt_500_1M']/(1 + base_df['count_credits_grt_500_3M'])\n",
    "base_df['ratio_credits_grt_500_1M_6M'] = base_df['count_credits_grt_500_1M']/(1 + base_df['count_credits_grt_500_6M'])\n",
    "\n",
    "base_df['ratio_credits_grt_1500_1M_3M'] = base_df['count_credits_grt_1500_1M']/(1 + base_df['count_credits_grt_1500_3M'])\n",
    "base_df['ratio_credits_grt_1500_1M_6M'] = base_df['count_credits_grt_1500_1M']/(1 + base_df['count_credits_grt_1500_6M'])"
   ]
  },
  {
   "cell_type": "code",
   "execution_count": 45,
   "metadata": {},
   "outputs": [],
   "source": [
    "# amount ratios 2 \n",
    "base_df['ratio_amt_credits_less_100_credits_grt_500_6M'] = base_df['sum_credits_lessthan_100_6M']/(1 + base_df['sum_credits_grt_500_6M'])\n",
    "base_df['ratio_amt_credits_less_100_credits_grt_500_3M'] = base_df['sum_credits_lessthan_100_3M']/(1 + base_df['sum_credits_grt_500_3M'])\n",
    "\n",
    "base_df['ratio_amt_credits_less_100_credits_grt_1500_6M'] = base_df['sum_credits_lessthan_100_6M']/(1 + base_df['sum_credits_grt_1500_6M'])\n",
    "base_df['ratio_amt_credits_less_100_credits_grt_1500_3M'] = base_df['sum_credits_lessthan_100_3M']/(1 + base_df['sum_credits_grt_1500_3M'])\n",
    "\n",
    "base_df['ratio_amt_credits_grt_500_credits_grt_1500_6M'] = base_df['sum_credits_grt_500_6M']/(1 + base_df['sum_credits_grt_1500_6M'])\n",
    "base_df['ratio_amt_credits_grt_500_credits_grt_1500_3M'] = base_df['sum_credits_grt_500_3M']/(1 + base_df['sum_credits_grt_1500_3M'])\n",
    "\n",
    "\n",
    "base_df['ratio_cnt_credits_less_100_credits_grt_500_6M'] = base_df['count_credits_lessthan_100_6M']/(1 + base_df['count_credits_grt_500_6M'])\n",
    "base_df['ratio_cnt_credits_less_100_credits_grt_500_3M'] = base_df['count_credits_lessthan_100_3M']/(1 + base_df['count_credits_grt_500_3M'])\n",
    "\n",
    "base_df['ratio_cnt_credits_less_100_credits_grt_1500_6M'] = base_df['count_credits_lessthan_100_6M']/(1 + base_df['count_credits_grt_1500_6M'])\n",
    "base_df['ratio_cnt_credits_less_100_credits_grt_1500_3M'] = base_df['count_credits_lessthan_100_3M']/(1 + base_df['count_credits_grt_1500_3M'])\n",
    "\n",
    "base_df['ratio_cnt_credits_grt_500_credits_grt_1500_6M'] = base_df['count_credits_grt_500_6M']/(1 + base_df['count_credits_grt_1500_6M'])\n",
    "base_df['ratio_cnt_credits_grt_500_credits_grt_1500_3M'] = base_df['count_credits_grt_500_3M']/(1 + base_df['count_credits_grt_1500_3M'])\n"
   ]
  },
  {
   "cell_type": "code",
   "execution_count": 46,
   "metadata": {},
   "outputs": [],
   "source": [
    "# txns in each month flag\n",
    "df['txn_l1m_flag'] = 0\n",
    "df['txn_2nd_mth_flag'] = 0\n",
    "df['txn_3rd_mth_flag'] = 0\n",
    "df['txn_4th_mth_flag'] = 0\n",
    "df['txn_5th_mth_flag'] = 0\n",
    "df['txn_6th_mth_flag'] = 0\n",
    "\n",
    "df.loc[(df['datediff']<=30),'txn_l1m_flag'] = 1\n",
    "df.loc[(df['datediff']>30) & (df['datediff']<=60),'txn_2nd_mth_flag'] = 1\n",
    "df.loc[(df['datediff']>60) & (df['datediff']<=90),'txn_3rd_mth_flag'] = 1\n",
    "df.loc[(df['datediff']>90) & (df['datediff']<=120),'txn_4th_mth_flag'] = 1\n",
    "df.loc[(df['datediff']>120) & (df['datediff']<=150),'txn_5th_mth_flag'] = 1\n",
    "df.loc[(df['datediff']>150) & (df['datediff']<=180),'txn_6th_mth_flag'] = 1\n",
    "\n",
    "t1 = df.groupby('business_id',as_index=False)[['txn_l1m_flag','txn_2nd_mth_flag','txn_3rd_mth_flag','txn_4th_mth_flag','txn_5th_mth_flag','txn_6th_mth_flag']].max()\n",
    "t1['txn_each_mth_flag'] = 0\n",
    "t1.loc[(t1['txn_l1m_flag']==1) & (t1['txn_2nd_mth_flag']==1) & (t1['txn_3rd_mth_flag']==1) & (t1['txn_4th_mth_flag']==1) & (t1['txn_5th_mth_flag']==1) & (t1['txn_6th_mth_flag']==1),'txn_each_mth_flag'] = 1\n",
    "\n",
    "base_df = base_df.merge(t1[['business_id','txn_each_mth_flag']],how='left',on = 'business_id')\n",
    "\n",
    "t1 = df[df['amount']>100].groupby('business_id',as_index=False)[['txn_l1m_flag','txn_2nd_mth_flag','txn_3rd_mth_flag','txn_4th_mth_flag','txn_5th_mth_flag','txn_6th_mth_flag']].max()\n",
    "t1['txn_grt_100_each_mth_flag'] = 0\n",
    "t1.loc[(t1['txn_l1m_flag']==1) & (t1['txn_2nd_mth_flag']==1) & (t1['txn_3rd_mth_flag']==1) & (t1['txn_4th_mth_flag']==1) & (t1['txn_5th_mth_flag']==1) & (t1['txn_6th_mth_flag']==1),'txn_grt_100_each_mth_flag'] = 1\n",
    "\n",
    "base_df = base_df.merge(t1[['business_id','txn_grt_100_each_mth_flag']],how='left',on = 'business_id')\n"
   ]
  },
  {
   "cell_type": "code",
   "execution_count": 47,
   "metadata": {},
   "outputs": [
    {
     "data": {
      "text/plain": [
       "Index(['business_id', 'lending_business_id', 'decision_date', 'drawn_flag',\n",
       "       'everDPD_15', 'fico_score', 'target', 'loans_flag', 'payroll_flag',\n",
       "       'pos_flag',\n",
       "       ...\n",
       "       'ratio_amt_credits_grt_500_credits_grt_1500_6M',\n",
       "       'ratio_amt_credits_grt_500_credits_grt_1500_3M',\n",
       "       'ratio_cnt_credits_less_100_credits_grt_500_6M',\n",
       "       'ratio_cnt_credits_less_100_credits_grt_500_3M',\n",
       "       'ratio_cnt_credits_less_100_credits_grt_1500_6M',\n",
       "       'ratio_cnt_credits_less_100_credits_grt_1500_3M',\n",
       "       'ratio_cnt_credits_grt_500_credits_grt_1500_6M',\n",
       "       'ratio_cnt_credits_grt_500_credits_grt_1500_3M', 'txn_each_mth_flag',\n",
       "       'txn_grt_100_each_mth_flag'],\n",
       "      dtype='object', length=254)"
      ]
     },
     "execution_count": 47,
     "metadata": {},
     "output_type": "execute_result"
    }
   ],
   "source": [
    "base_df.columns\n",
    "# len(base_df.columns)"
   ]
  },
  {
   "cell_type": "code",
   "execution_count": 49,
   "metadata": {},
   "outputs": [],
   "source": [
    "final_df = base_df.copy()"
   ]
  },
  {
   "cell_type": "code",
   "execution_count": 50,
   "metadata": {},
   "outputs": [
    {
     "data": {
      "text/plain": [
       "(646, 255)"
      ]
     },
     "execution_count": 50,
     "metadata": {},
     "output_type": "execute_result"
    }
   ],
   "source": [
    "t = pd.DataFrame(df['business_id'].unique(),columns=['business_id'])\n",
    "t['txn_flag'] = 1\n",
    "final_df = final_df.merge(t,how='left',on='business_id')\n",
    "final_df['txn_flag'] = final_df['txn_flag'].fillna(0)\n",
    "final_df.shape"
   ]
  },
  {
   "cell_type": "code",
   "execution_count": 51,
   "metadata": {},
   "outputs": [
    {
     "data": {
      "text/plain": [
       "1.0    637\n",
       "0.0      9\n",
       "Name: txn_flag, dtype: int64"
      ]
     },
     "execution_count": 51,
     "metadata": {},
     "output_type": "execute_result"
    }
   ],
   "source": [
    "final_df['txn_flag'].value_counts()"
   ]
  },
  {
   "cell_type": "code",
   "execution_count": 52,
   "metadata": {},
   "outputs": [],
   "source": [
    "# final_df.to_pickle('/Users/shashankgupta/Documents/code/git_project/plaid_credit/Data/final_dataset_2.pkl')"
   ]
  },
  {
   "cell_type": "code",
   "execution_count": null,
   "metadata": {},
   "outputs": [],
   "source": []
  }
 ],
 "metadata": {
  "kernelspec": {
   "display_name": "Python 3.10.5 64-bit",
   "language": "python",
   "name": "python3"
  },
  "language_info": {
   "codemirror_mode": {
    "name": "ipython",
    "version": 3
   },
   "file_extension": ".py",
   "mimetype": "text/x-python",
   "name": "python",
   "nbconvert_exporter": "python",
   "pygments_lexer": "ipython3",
   "version": "3.10.5"
  },
  "orig_nbformat": 4,
  "vscode": {
   "interpreter": {
    "hash": "aee8b7b246df8f9039afb4144a1f6fd8d2ca17a180786b69acc140d282b71a49"
   }
  }
 },
 "nbformat": 4,
 "nbformat_minor": 2
}
