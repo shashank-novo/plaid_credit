{
 "cells": [
  {
   "cell_type": "code",
   "execution_count": 1,
   "metadata": {},
   "outputs": [
    {
     "name": "stdout",
     "output_type": "stream",
     "text": [
      "/Users/shashankgupta/Documents/code/git_project/plaid_credit\n",
      "/Users/shashankgupta/Documents/code/git_project/plaid_credit/Code\n"
     ]
    }
   ],
   "source": [
    "import os \n",
    "cwd = os.getcwd()\n",
    "\n",
    "os.chdir('../')\n",
    "cwd = os.getcwd()\n",
    "print(cwd)\n",
    "\n",
    "os.chdir('./code/')\n",
    "cwd = os.getcwd()\n",
    "print(cwd)\n",
    "\n",
    "import pandas as pd \n",
    "import numpy as np \n",
    "import seaborn as sns\n",
    "\n",
    "import pickle \n",
    "import logging\n",
    "\n",
    "\n",
    "from config.config import SQLQuery\n",
    "querySno = SQLQuery('snowflake')"
   ]
  },
  {
   "cell_type": "code",
   "execution_count": 2,
   "metadata": {},
   "outputs": [
    {
     "data": {
      "text/plain": [
       "(710, 4)"
      ]
     },
     "execution_count": 2,
     "metadata": {},
     "output_type": "execute_result"
    }
   ],
   "source": [
    "plaid_ids = pd.read_csv('/Users/shashankgupta/Documents/code/git_project/plaid_credit/Data/base_plaid_coverage.csv')\n",
    "plaid_ids.shape"
   ]
  },
  {
   "cell_type": "code",
   "execution_count": 3,
   "metadata": {},
   "outputs": [
    {
     "data": {
      "text/html": [
       "<div>\n",
       "<style scoped>\n",
       "    .dataframe tbody tr th:only-of-type {\n",
       "        vertical-align: middle;\n",
       "    }\n",
       "\n",
       "    .dataframe tbody tr th {\n",
       "        vertical-align: top;\n",
       "    }\n",
       "\n",
       "    .dataframe thead th {\n",
       "        text-align: right;\n",
       "    }\n",
       "</style>\n",
       "<table border=\"1\" class=\"dataframe\">\n",
       "  <thead>\n",
       "    <tr style=\"text-align: right;\">\n",
       "      <th></th>\n",
       "      <th>LENDING_BUSINESS_ID</th>\n",
       "      <th>BUSINESS_ID</th>\n",
       "      <th>Ever15plus</th>\n",
       "      <th>Source</th>\n",
       "    </tr>\n",
       "  </thead>\n",
       "  <tbody>\n",
       "    <tr>\n",
       "      <th>0</th>\n",
       "      <td>b88bad24-8711-444a-98e1-52047e87f6fc</td>\n",
       "      <td>fdbeb997-87d8-411e-a068-9a2297324910</td>\n",
       "      <td>0</td>\n",
       "      <td>GA</td>\n",
       "    </tr>\n",
       "    <tr>\n",
       "      <th>1</th>\n",
       "      <td>987da0d5-f838-45a9-8bb6-d19a64e8888c</td>\n",
       "      <td>215ca059-aac1-4c09-a6db-9e2a143ce7c5</td>\n",
       "      <td>0</td>\n",
       "      <td>GA</td>\n",
       "    </tr>\n",
       "    <tr>\n",
       "      <th>2</th>\n",
       "      <td>166d62fb-70ed-4214-8a75-1223dfbbd06e</td>\n",
       "      <td>252c9a3f-338f-43fc-893f-87e4c8184e8c</td>\n",
       "      <td>0</td>\n",
       "      <td>GA</td>\n",
       "    </tr>\n",
       "    <tr>\n",
       "      <th>3</th>\n",
       "      <td>8105f405-a33a-434e-9f0d-0c0fed3b0889</td>\n",
       "      <td>02d133cb-e8eb-449d-9b7d-d0501058bc61</td>\n",
       "      <td>0</td>\n",
       "      <td>GA</td>\n",
       "    </tr>\n",
       "    <tr>\n",
       "      <th>4</th>\n",
       "      <td>13fe3447-98d9-4996-92e5-fffa8e63429b</td>\n",
       "      <td>e98ced58-b53b-44c0-8cfa-2dd9b43f95be</td>\n",
       "      <td>0</td>\n",
       "      <td>GA</td>\n",
       "    </tr>\n",
       "  </tbody>\n",
       "</table>\n",
       "</div>"
      ],
      "text/plain": [
       "                    LENDING_BUSINESS_ID                           BUSINESS_ID  \\\n",
       "0  b88bad24-8711-444a-98e1-52047e87f6fc  fdbeb997-87d8-411e-a068-9a2297324910   \n",
       "1  987da0d5-f838-45a9-8bb6-d19a64e8888c  215ca059-aac1-4c09-a6db-9e2a143ce7c5   \n",
       "2  166d62fb-70ed-4214-8a75-1223dfbbd06e  252c9a3f-338f-43fc-893f-87e4c8184e8c   \n",
       "3  8105f405-a33a-434e-9f0d-0c0fed3b0889  02d133cb-e8eb-449d-9b7d-d0501058bc61   \n",
       "4  13fe3447-98d9-4996-92e5-fffa8e63429b  e98ced58-b53b-44c0-8cfa-2dd9b43f95be   \n",
       "\n",
       "   Ever15plus Source  \n",
       "0           0     GA  \n",
       "1           0     GA  \n",
       "2           0     GA  \n",
       "3           0     GA  \n",
       "4           0     GA  "
      ]
     },
     "execution_count": 3,
     "metadata": {},
     "output_type": "execute_result"
    }
   ],
   "source": [
    "plaid_ids.head()"
   ]
  },
  {
   "cell_type": "code",
   "execution_count": 4,
   "metadata": {},
   "outputs": [],
   "source": [
    "plaid_ids = plaid_ids.rename(columns={'LENDING_BUSINESS_ID': 'lending_business_id', 'BUSINESS_ID': 'business_id'})"
   ]
  },
  {
   "cell_type": "code",
   "execution_count": 5,
   "metadata": {},
   "outputs": [],
   "source": [
    "bids_tuple = tuple(plaid_ids['business_id'])\n",
    "lid_tuple = tuple(plaid_ids['lending_business_id'])"
   ]
  },
  {
   "cell_type": "code",
   "execution_count": 6,
   "metadata": {},
   "outputs": [],
   "source": [
    "querySno = SQLQuery('snowflake')\n",
    "biz_info = querySno(r\"\"\" \n",
    "select id as business_id, JSON_EXTRACT_PATH_TEXT(meta, 'business_questions.industry_category_name') as industry_category_name, \n",
    "JSON_EXTRACT_PATH_TEXT(meta, 'business_questions.industry_name') as industry_name, \n",
    "JSON_EXTRACT_PATH_TEXT(meta, 'business_questions.number_of_employees') as number_of_employees\n",
    "from \"FIVETRAN_DB\".\"PROD_NOVO_API_PUBLIC\".\"BUSINESSES\"\n",
    "where id in {}\n",
    "\"\"\".format(bids_tuple))"
   ]
  },
  {
   "cell_type": "code",
   "execution_count": 7,
   "metadata": {},
   "outputs": [
    {
     "data": {
      "text/plain": [
       "(709, 4)"
      ]
     },
     "execution_count": 7,
     "metadata": {},
     "output_type": "execute_result"
    }
   ],
   "source": [
    "biz_info.shape"
   ]
  },
  {
   "cell_type": "code",
   "execution_count": 8,
   "metadata": {},
   "outputs": [],
   "source": [
    "querySno = SQLQuery('snowflake')\n",
    "rev30_info = querySno(r\"\"\" \n",
    "select lending_business_id,\n",
    "JSON_EXTRACT_PATH_TEXT(decision_variables, 'context.rev_30') as rev_30,\n",
    "JSON_EXTRACT_PATH_TEXT(decision_variables, 'context.novo_risk_model_score') as novo_risk_model_score\n",
    "from FIVETRAN_DB.PROD_NOVO_API_PUBLIC.LENDING_APPLICATION_SUBMISSION_VARIABLES\n",
    "where lending_business_id in {}\n",
    "\"\"\".format(lid_tuple))"
   ]
  },
  {
   "cell_type": "code",
   "execution_count": 9,
   "metadata": {},
   "outputs": [
    {
     "data": {
      "text/plain": [
       "(707, 3)"
      ]
     },
     "execution_count": 9,
     "metadata": {},
     "output_type": "execute_result"
    }
   ],
   "source": [
    "rev30_info.shape"
   ]
  },
  {
   "cell_type": "code",
   "execution_count": 10,
   "metadata": {},
   "outputs": [],
   "source": [
    "querySno = SQLQuery('snowflake')\n",
    "rs2_df = querySno(r\"\"\" \n",
    "select lending_business_id, \n",
    "JSON_EXTRACT_PATH_TEXT(predict_meta, 'default_bin') as rs2_bin,\n",
    "JSON_EXTRACT_PATH_TEXT(predict_meta, 'novo_risk_model_score') as rs2_score\n",
    "from FIVETRAN_DB.PROD_NOVO_API_PUBLIC.LENDING_DECISION_RESULTS\n",
    "where lending_business_id in {}\n",
    "\"\"\".format(lid_tuple))"
   ]
  },
  {
   "cell_type": "code",
   "execution_count": 11,
   "metadata": {},
   "outputs": [
    {
     "data": {
      "text/plain": [
       "(707, 3)"
      ]
     },
     "execution_count": 11,
     "metadata": {},
     "output_type": "execute_result"
    }
   ],
   "source": [
    "rs2_df.shape"
   ]
  },
  {
   "cell_type": "code",
   "execution_count": 12,
   "metadata": {},
   "outputs": [],
   "source": [
    "t1 = plaid_ids.merge(biz_info, how = 'left', left_on = 'business_id', right_on = 'business_id')\n",
    "t2 = t1.merge(rev30_info, how='left', left_on = 'lending_business_id', right_on = 'lending_business_id')\n",
    "df_raw = t2.merge(rs2_df, how='left', left_on = 'lending_business_id', right_on = 'lending_business_id')"
   ]
  },
  {
   "cell_type": "code",
   "execution_count": 13,
   "metadata": {},
   "outputs": [
    {
     "data": {
      "text/html": [
       "<div>\n",
       "<style scoped>\n",
       "    .dataframe tbody tr th:only-of-type {\n",
       "        vertical-align: middle;\n",
       "    }\n",
       "\n",
       "    .dataframe tbody tr th {\n",
       "        vertical-align: top;\n",
       "    }\n",
       "\n",
       "    .dataframe thead th {\n",
       "        text-align: right;\n",
       "    }\n",
       "</style>\n",
       "<table border=\"1\" class=\"dataframe\">\n",
       "  <thead>\n",
       "    <tr style=\"text-align: right;\">\n",
       "      <th></th>\n",
       "      <th>lending_business_id</th>\n",
       "      <th>business_id</th>\n",
       "      <th>Ever15plus</th>\n",
       "      <th>Source</th>\n",
       "      <th>industry_category_name</th>\n",
       "      <th>industry_name</th>\n",
       "      <th>number_of_employees</th>\n",
       "      <th>rev_30</th>\n",
       "      <th>novo_risk_model_score</th>\n",
       "      <th>rs2_bin</th>\n",
       "      <th>rs2_score</th>\n",
       "    </tr>\n",
       "  </thead>\n",
       "  <tbody>\n",
       "    <tr>\n",
       "      <th>695</th>\n",
       "      <td>55d04b92-7adb-4938-a8ce-f4241d5c59c0</td>\n",
       "      <td>5248448f-dc61-4699-b87d-20c1203ed386</td>\n",
       "      <td>1</td>\n",
       "      <td>FICO</td>\n",
       "      <td>Retail Trade</td>\n",
       "      <td>All Other Miscellaneous Store Retailers (excep...</td>\n",
       "      <td>1</td>\n",
       "      <td>2673.0332</td>\n",
       "      <td>573</td>\n",
       "      <td>3</td>\n",
       "      <td>573</td>\n",
       "    </tr>\n",
       "    <tr>\n",
       "      <th>144</th>\n",
       "      <td>ceb0653a-4981-4a72-962d-f71adac3f809</td>\n",
       "      <td>98dd3072-f3ed-4b6c-8896-e1f516273027</td>\n",
       "      <td>0</td>\n",
       "      <td>GA</td>\n",
       "      <td>Information</td>\n",
       "      <td>Motion Picture and Video Production</td>\n",
       "      <td>1</td>\n",
       "      <td>3265.0207</td>\n",
       "      <td>626</td>\n",
       "      <td>4</td>\n",
       "      <td>626</td>\n",
       "    </tr>\n",
       "    <tr>\n",
       "      <th>577</th>\n",
       "      <td>2cde824c-01df-4076-a128-d0404668f766</td>\n",
       "      <td>9b66659c-529c-4e91-8705-a61a7bddfd13</td>\n",
       "      <td>1</td>\n",
       "      <td>FICO</td>\n",
       "      <td>Retail Trade</td>\n",
       "      <td>Electronic Shopping and Mail-Order Houses</td>\n",
       "      <td>1</td>\n",
       "      <td>None</td>\n",
       "      <td>None</td>\n",
       "      <td>1</td>\n",
       "      <td>358</td>\n",
       "    </tr>\n",
       "    <tr>\n",
       "      <th>15</th>\n",
       "      <td>1888c110-974e-4fa0-8d85-6848857700de</td>\n",
       "      <td>847daccf-5011-44c9-a71b-83267581f92a</td>\n",
       "      <td>1</td>\n",
       "      <td>GA</td>\n",
       "      <td>Administrative and Support and Waste Managemen...</td>\n",
       "      <td>Other Waste Collection</td>\n",
       "      <td>1</td>\n",
       "      <td>None</td>\n",
       "      <td>None</td>\n",
       "      <td>3</td>\n",
       "      <td>551</td>\n",
       "    </tr>\n",
       "    <tr>\n",
       "      <th>346</th>\n",
       "      <td>cd81e279-ddf1-4452-860a-7cf093444f11</td>\n",
       "      <td>a4f15690-8691-4705-95da-36517e139eb9</td>\n",
       "      <td>0</td>\n",
       "      <td>GA</td>\n",
       "      <td>Accommodation and Food Services</td>\n",
       "      <td>Drinking Places (Alcoholic Beverages)</td>\n",
       "      <td>2</td>\n",
       "      <td>16184.7832</td>\n",
       "      <td>896</td>\n",
       "      <td>5</td>\n",
       "      <td>896</td>\n",
       "    </tr>\n",
       "  </tbody>\n",
       "</table>\n",
       "</div>"
      ],
      "text/plain": [
       "                      lending_business_id  \\\n",
       "695  55d04b92-7adb-4938-a8ce-f4241d5c59c0   \n",
       "144  ceb0653a-4981-4a72-962d-f71adac3f809   \n",
       "577  2cde824c-01df-4076-a128-d0404668f766   \n",
       "15   1888c110-974e-4fa0-8d85-6848857700de   \n",
       "346  cd81e279-ddf1-4452-860a-7cf093444f11   \n",
       "\n",
       "                              business_id  Ever15plus Source  \\\n",
       "695  5248448f-dc61-4699-b87d-20c1203ed386           1   FICO   \n",
       "144  98dd3072-f3ed-4b6c-8896-e1f516273027           0     GA   \n",
       "577  9b66659c-529c-4e91-8705-a61a7bddfd13           1   FICO   \n",
       "15   847daccf-5011-44c9-a71b-83267581f92a           1     GA   \n",
       "346  a4f15690-8691-4705-95da-36517e139eb9           0     GA   \n",
       "\n",
       "                                industry_category_name  \\\n",
       "695                                       Retail Trade   \n",
       "144                                        Information   \n",
       "577                                       Retail Trade   \n",
       "15   Administrative and Support and Waste Managemen...   \n",
       "346                    Accommodation and Food Services   \n",
       "\n",
       "                                         industry_name number_of_employees  \\\n",
       "695  All Other Miscellaneous Store Retailers (excep...                   1   \n",
       "144                Motion Picture and Video Production                   1   \n",
       "577          Electronic Shopping and Mail-Order Houses                   1   \n",
       "15                              Other Waste Collection                   1   \n",
       "346              Drinking Places (Alcoholic Beverages)                   2   \n",
       "\n",
       "         rev_30 novo_risk_model_score rs2_bin rs2_score  \n",
       "695   2673.0332                   573       3       573  \n",
       "144   3265.0207                   626       4       626  \n",
       "577        None                  None       1       358  \n",
       "15         None                  None       3       551  \n",
       "346  16184.7832                   896       5       896  "
      ]
     },
     "execution_count": 13,
     "metadata": {},
     "output_type": "execute_result"
    }
   ],
   "source": [
    "df_raw.sample(5)"
   ]
  },
  {
   "cell_type": "code",
   "execution_count": 14,
   "metadata": {},
   "outputs": [
    {
     "data": {
      "text/plain": [
       "lending_business_id        0\n",
       "business_id                0\n",
       "Ever15plus                 0\n",
       "Source                     0\n",
       "industry_category_name     0\n",
       "industry_name              0\n",
       "number_of_employees       34\n",
       "rev_30                    87\n",
       "novo_risk_model_score     87\n",
       "rs2_bin                   30\n",
       "rs2_score                 30\n",
       "dtype: int64"
      ]
     },
     "execution_count": 14,
     "metadata": {},
     "output_type": "execute_result"
    }
   ],
   "source": [
    "df_raw.isnull().sum()"
   ]
  },
  {
   "cell_type": "code",
   "execution_count": 15,
   "metadata": {},
   "outputs": [
    {
     "data": {
      "text/html": [
       "<div>\n",
       "<style scoped>\n",
       "    .dataframe tbody tr th:only-of-type {\n",
       "        vertical-align: middle;\n",
       "    }\n",
       "\n",
       "    .dataframe tbody tr th {\n",
       "        vertical-align: top;\n",
       "    }\n",
       "\n",
       "    .dataframe thead th {\n",
       "        text-align: right;\n",
       "    }\n",
       "</style>\n",
       "<table border=\"1\" class=\"dataframe\">\n",
       "  <thead>\n",
       "    <tr style=\"text-align: right;\">\n",
       "      <th></th>\n",
       "      <th>rs2_bin</th>\n",
       "      <th>lending_business_id</th>\n",
       "    </tr>\n",
       "  </thead>\n",
       "  <tbody>\n",
       "    <tr>\n",
       "      <th>0</th>\n",
       "      <td>1</td>\n",
       "      <td>18</td>\n",
       "    </tr>\n",
       "    <tr>\n",
       "      <th>1</th>\n",
       "      <td>2</td>\n",
       "      <td>31</td>\n",
       "    </tr>\n",
       "    <tr>\n",
       "      <th>2</th>\n",
       "      <td>3</td>\n",
       "      <td>163</td>\n",
       "    </tr>\n",
       "    <tr>\n",
       "      <th>3</th>\n",
       "      <td>4</td>\n",
       "      <td>175</td>\n",
       "    </tr>\n",
       "    <tr>\n",
       "      <th>4</th>\n",
       "      <td>5</td>\n",
       "      <td>293</td>\n",
       "    </tr>\n",
       "  </tbody>\n",
       "</table>\n",
       "</div>"
      ],
      "text/plain": [
       "  rs2_bin  lending_business_id\n",
       "0       1                   18\n",
       "1       2                   31\n",
       "2       3                  163\n",
       "3       4                  175\n",
       "4       5                  293"
      ]
     },
     "execution_count": 15,
     "metadata": {},
     "output_type": "execute_result"
    }
   ],
   "source": [
    "df_raw.groupby('rs2_bin', as_index=False)['lending_business_id'].agg('count')"
   ]
  },
  {
   "cell_type": "code",
   "execution_count": 16,
   "metadata": {},
   "outputs": [
    {
     "data": {
      "application/vnd.plotly.v1+json": {
       "config": {
        "plotlyServerURL": "https://plot.ly"
       },
       "data": [
        {
         "alignmentgroup": "True",
         "hovertemplate": "rs2_bin=%{x}<br>lending_business_id=%{y}<extra></extra>",
         "legendgroup": "",
         "marker": {
          "color": "#636efa",
          "pattern": {
           "shape": ""
          }
         },
         "name": "",
         "offsetgroup": "",
         "orientation": "v",
         "showlegend": false,
         "textposition": "auto",
         "texttemplate": "%{y}",
         "type": "bar",
         "x": [
          "1",
          "2",
          "3",
          "4",
          "5"
         ],
         "xaxis": "x",
         "y": [
          18,
          31,
          163,
          175,
          293
         ],
         "yaxis": "y"
        }
       ],
       "layout": {
        "barmode": "relative",
        "legend": {
         "tracegroupgap": 0
        },
        "margin": {
         "t": 60
        },
        "template": {
         "data": {
          "bar": [
           {
            "error_x": {
             "color": "#2a3f5f"
            },
            "error_y": {
             "color": "#2a3f5f"
            },
            "marker": {
             "line": {
              "color": "#E5ECF6",
              "width": 0.5
             },
             "pattern": {
              "fillmode": "overlay",
              "size": 10,
              "solidity": 0.2
             }
            },
            "type": "bar"
           }
          ],
          "barpolar": [
           {
            "marker": {
             "line": {
              "color": "#E5ECF6",
              "width": 0.5
             },
             "pattern": {
              "fillmode": "overlay",
              "size": 10,
              "solidity": 0.2
             }
            },
            "type": "barpolar"
           }
          ],
          "carpet": [
           {
            "aaxis": {
             "endlinecolor": "#2a3f5f",
             "gridcolor": "white",
             "linecolor": "white",
             "minorgridcolor": "white",
             "startlinecolor": "#2a3f5f"
            },
            "baxis": {
             "endlinecolor": "#2a3f5f",
             "gridcolor": "white",
             "linecolor": "white",
             "minorgridcolor": "white",
             "startlinecolor": "#2a3f5f"
            },
            "type": "carpet"
           }
          ],
          "choropleth": [
           {
            "colorbar": {
             "outlinewidth": 0,
             "ticks": ""
            },
            "type": "choropleth"
           }
          ],
          "contour": [
           {
            "colorbar": {
             "outlinewidth": 0,
             "ticks": ""
            },
            "colorscale": [
             [
              0,
              "#0d0887"
             ],
             [
              0.1111111111111111,
              "#46039f"
             ],
             [
              0.2222222222222222,
              "#7201a8"
             ],
             [
              0.3333333333333333,
              "#9c179e"
             ],
             [
              0.4444444444444444,
              "#bd3786"
             ],
             [
              0.5555555555555556,
              "#d8576b"
             ],
             [
              0.6666666666666666,
              "#ed7953"
             ],
             [
              0.7777777777777778,
              "#fb9f3a"
             ],
             [
              0.8888888888888888,
              "#fdca26"
             ],
             [
              1,
              "#f0f921"
             ]
            ],
            "type": "contour"
           }
          ],
          "contourcarpet": [
           {
            "colorbar": {
             "outlinewidth": 0,
             "ticks": ""
            },
            "type": "contourcarpet"
           }
          ],
          "heatmap": [
           {
            "colorbar": {
             "outlinewidth": 0,
             "ticks": ""
            },
            "colorscale": [
             [
              0,
              "#0d0887"
             ],
             [
              0.1111111111111111,
              "#46039f"
             ],
             [
              0.2222222222222222,
              "#7201a8"
             ],
             [
              0.3333333333333333,
              "#9c179e"
             ],
             [
              0.4444444444444444,
              "#bd3786"
             ],
             [
              0.5555555555555556,
              "#d8576b"
             ],
             [
              0.6666666666666666,
              "#ed7953"
             ],
             [
              0.7777777777777778,
              "#fb9f3a"
             ],
             [
              0.8888888888888888,
              "#fdca26"
             ],
             [
              1,
              "#f0f921"
             ]
            ],
            "type": "heatmap"
           }
          ],
          "heatmapgl": [
           {
            "colorbar": {
             "outlinewidth": 0,
             "ticks": ""
            },
            "colorscale": [
             [
              0,
              "#0d0887"
             ],
             [
              0.1111111111111111,
              "#46039f"
             ],
             [
              0.2222222222222222,
              "#7201a8"
             ],
             [
              0.3333333333333333,
              "#9c179e"
             ],
             [
              0.4444444444444444,
              "#bd3786"
             ],
             [
              0.5555555555555556,
              "#d8576b"
             ],
             [
              0.6666666666666666,
              "#ed7953"
             ],
             [
              0.7777777777777778,
              "#fb9f3a"
             ],
             [
              0.8888888888888888,
              "#fdca26"
             ],
             [
              1,
              "#f0f921"
             ]
            ],
            "type": "heatmapgl"
           }
          ],
          "histogram": [
           {
            "marker": {
             "pattern": {
              "fillmode": "overlay",
              "size": 10,
              "solidity": 0.2
             }
            },
            "type": "histogram"
           }
          ],
          "histogram2d": [
           {
            "colorbar": {
             "outlinewidth": 0,
             "ticks": ""
            },
            "colorscale": [
             [
              0,
              "#0d0887"
             ],
             [
              0.1111111111111111,
              "#46039f"
             ],
             [
              0.2222222222222222,
              "#7201a8"
             ],
             [
              0.3333333333333333,
              "#9c179e"
             ],
             [
              0.4444444444444444,
              "#bd3786"
             ],
             [
              0.5555555555555556,
              "#d8576b"
             ],
             [
              0.6666666666666666,
              "#ed7953"
             ],
             [
              0.7777777777777778,
              "#fb9f3a"
             ],
             [
              0.8888888888888888,
              "#fdca26"
             ],
             [
              1,
              "#f0f921"
             ]
            ],
            "type": "histogram2d"
           }
          ],
          "histogram2dcontour": [
           {
            "colorbar": {
             "outlinewidth": 0,
             "ticks": ""
            },
            "colorscale": [
             [
              0,
              "#0d0887"
             ],
             [
              0.1111111111111111,
              "#46039f"
             ],
             [
              0.2222222222222222,
              "#7201a8"
             ],
             [
              0.3333333333333333,
              "#9c179e"
             ],
             [
              0.4444444444444444,
              "#bd3786"
             ],
             [
              0.5555555555555556,
              "#d8576b"
             ],
             [
              0.6666666666666666,
              "#ed7953"
             ],
             [
              0.7777777777777778,
              "#fb9f3a"
             ],
             [
              0.8888888888888888,
              "#fdca26"
             ],
             [
              1,
              "#f0f921"
             ]
            ],
            "type": "histogram2dcontour"
           }
          ],
          "mesh3d": [
           {
            "colorbar": {
             "outlinewidth": 0,
             "ticks": ""
            },
            "type": "mesh3d"
           }
          ],
          "parcoords": [
           {
            "line": {
             "colorbar": {
              "outlinewidth": 0,
              "ticks": ""
             }
            },
            "type": "parcoords"
           }
          ],
          "pie": [
           {
            "automargin": true,
            "type": "pie"
           }
          ],
          "scatter": [
           {
            "fillpattern": {
             "fillmode": "overlay",
             "size": 10,
             "solidity": 0.2
            },
            "type": "scatter"
           }
          ],
          "scatter3d": [
           {
            "line": {
             "colorbar": {
              "outlinewidth": 0,
              "ticks": ""
             }
            },
            "marker": {
             "colorbar": {
              "outlinewidth": 0,
              "ticks": ""
             }
            },
            "type": "scatter3d"
           }
          ],
          "scattercarpet": [
           {
            "marker": {
             "colorbar": {
              "outlinewidth": 0,
              "ticks": ""
             }
            },
            "type": "scattercarpet"
           }
          ],
          "scattergeo": [
           {
            "marker": {
             "colorbar": {
              "outlinewidth": 0,
              "ticks": ""
             }
            },
            "type": "scattergeo"
           }
          ],
          "scattergl": [
           {
            "marker": {
             "colorbar": {
              "outlinewidth": 0,
              "ticks": ""
             }
            },
            "type": "scattergl"
           }
          ],
          "scattermapbox": [
           {
            "marker": {
             "colorbar": {
              "outlinewidth": 0,
              "ticks": ""
             }
            },
            "type": "scattermapbox"
           }
          ],
          "scatterpolar": [
           {
            "marker": {
             "colorbar": {
              "outlinewidth": 0,
              "ticks": ""
             }
            },
            "type": "scatterpolar"
           }
          ],
          "scatterpolargl": [
           {
            "marker": {
             "colorbar": {
              "outlinewidth": 0,
              "ticks": ""
             }
            },
            "type": "scatterpolargl"
           }
          ],
          "scatterternary": [
           {
            "marker": {
             "colorbar": {
              "outlinewidth": 0,
              "ticks": ""
             }
            },
            "type": "scatterternary"
           }
          ],
          "surface": [
           {
            "colorbar": {
             "outlinewidth": 0,
             "ticks": ""
            },
            "colorscale": [
             [
              0,
              "#0d0887"
             ],
             [
              0.1111111111111111,
              "#46039f"
             ],
             [
              0.2222222222222222,
              "#7201a8"
             ],
             [
              0.3333333333333333,
              "#9c179e"
             ],
             [
              0.4444444444444444,
              "#bd3786"
             ],
             [
              0.5555555555555556,
              "#d8576b"
             ],
             [
              0.6666666666666666,
              "#ed7953"
             ],
             [
              0.7777777777777778,
              "#fb9f3a"
             ],
             [
              0.8888888888888888,
              "#fdca26"
             ],
             [
              1,
              "#f0f921"
             ]
            ],
            "type": "surface"
           }
          ],
          "table": [
           {
            "cells": {
             "fill": {
              "color": "#EBF0F8"
             },
             "line": {
              "color": "white"
             }
            },
            "header": {
             "fill": {
              "color": "#C8D4E3"
             },
             "line": {
              "color": "white"
             }
            },
            "type": "table"
           }
          ]
         },
         "layout": {
          "annotationdefaults": {
           "arrowcolor": "#2a3f5f",
           "arrowhead": 0,
           "arrowwidth": 1
          },
          "autotypenumbers": "strict",
          "coloraxis": {
           "colorbar": {
            "outlinewidth": 0,
            "ticks": ""
           }
          },
          "colorscale": {
           "diverging": [
            [
             0,
             "#8e0152"
            ],
            [
             0.1,
             "#c51b7d"
            ],
            [
             0.2,
             "#de77ae"
            ],
            [
             0.3,
             "#f1b6da"
            ],
            [
             0.4,
             "#fde0ef"
            ],
            [
             0.5,
             "#f7f7f7"
            ],
            [
             0.6,
             "#e6f5d0"
            ],
            [
             0.7,
             "#b8e186"
            ],
            [
             0.8,
             "#7fbc41"
            ],
            [
             0.9,
             "#4d9221"
            ],
            [
             1,
             "#276419"
            ]
           ],
           "sequential": [
            [
             0,
             "#0d0887"
            ],
            [
             0.1111111111111111,
             "#46039f"
            ],
            [
             0.2222222222222222,
             "#7201a8"
            ],
            [
             0.3333333333333333,
             "#9c179e"
            ],
            [
             0.4444444444444444,
             "#bd3786"
            ],
            [
             0.5555555555555556,
             "#d8576b"
            ],
            [
             0.6666666666666666,
             "#ed7953"
            ],
            [
             0.7777777777777778,
             "#fb9f3a"
            ],
            [
             0.8888888888888888,
             "#fdca26"
            ],
            [
             1,
             "#f0f921"
            ]
           ],
           "sequentialminus": [
            [
             0,
             "#0d0887"
            ],
            [
             0.1111111111111111,
             "#46039f"
            ],
            [
             0.2222222222222222,
             "#7201a8"
            ],
            [
             0.3333333333333333,
             "#9c179e"
            ],
            [
             0.4444444444444444,
             "#bd3786"
            ],
            [
             0.5555555555555556,
             "#d8576b"
            ],
            [
             0.6666666666666666,
             "#ed7953"
            ],
            [
             0.7777777777777778,
             "#fb9f3a"
            ],
            [
             0.8888888888888888,
             "#fdca26"
            ],
            [
             1,
             "#f0f921"
            ]
           ]
          },
          "colorway": [
           "#636efa",
           "#EF553B",
           "#00cc96",
           "#ab63fa",
           "#FFA15A",
           "#19d3f3",
           "#FF6692",
           "#B6E880",
           "#FF97FF",
           "#FECB52"
          ],
          "font": {
           "color": "#2a3f5f"
          },
          "geo": {
           "bgcolor": "white",
           "lakecolor": "white",
           "landcolor": "#E5ECF6",
           "showlakes": true,
           "showland": true,
           "subunitcolor": "white"
          },
          "hoverlabel": {
           "align": "left"
          },
          "hovermode": "closest",
          "mapbox": {
           "style": "light"
          },
          "paper_bgcolor": "white",
          "plot_bgcolor": "#E5ECF6",
          "polar": {
           "angularaxis": {
            "gridcolor": "white",
            "linecolor": "white",
            "ticks": ""
           },
           "bgcolor": "#E5ECF6",
           "radialaxis": {
            "gridcolor": "white",
            "linecolor": "white",
            "ticks": ""
           }
          },
          "scene": {
           "xaxis": {
            "backgroundcolor": "#E5ECF6",
            "gridcolor": "white",
            "gridwidth": 2,
            "linecolor": "white",
            "showbackground": true,
            "ticks": "",
            "zerolinecolor": "white"
           },
           "yaxis": {
            "backgroundcolor": "#E5ECF6",
            "gridcolor": "white",
            "gridwidth": 2,
            "linecolor": "white",
            "showbackground": true,
            "ticks": "",
            "zerolinecolor": "white"
           },
           "zaxis": {
            "backgroundcolor": "#E5ECF6",
            "gridcolor": "white",
            "gridwidth": 2,
            "linecolor": "white",
            "showbackground": true,
            "ticks": "",
            "zerolinecolor": "white"
           }
          },
          "shapedefaults": {
           "line": {
            "color": "#2a3f5f"
           }
          },
          "ternary": {
           "aaxis": {
            "gridcolor": "white",
            "linecolor": "white",
            "ticks": ""
           },
           "baxis": {
            "gridcolor": "white",
            "linecolor": "white",
            "ticks": ""
           },
           "bgcolor": "#E5ECF6",
           "caxis": {
            "gridcolor": "white",
            "linecolor": "white",
            "ticks": ""
           }
          },
          "title": {
           "x": 0.05
          },
          "xaxis": {
           "automargin": true,
           "gridcolor": "white",
           "linecolor": "white",
           "ticks": "",
           "title": {
            "standoff": 15
           },
           "zerolinecolor": "white",
           "zerolinewidth": 2
          },
          "yaxis": {
           "automargin": true,
           "gridcolor": "white",
           "linecolor": "white",
           "ticks": "",
           "title": {
            "standoff": 15
           },
           "zerolinecolor": "white",
           "zerolinewidth": 2
          }
         }
        },
        "xaxis": {
         "anchor": "y",
         "domain": [
          0,
          1
         ],
         "title": {
          "text": "rs2_bin"
         }
        },
        "yaxis": {
         "anchor": "x",
         "domain": [
          0,
          1
         ],
         "title": {
          "text": "lending_business_id"
         }
        }
       }
      }
     },
     "metadata": {},
     "output_type": "display_data"
    }
   ],
   "source": [
    "import plotly.express as px\n",
    "\n",
    "fig = px.bar(df_raw.groupby(['rs2_bin'], as_index=False)['lending_business_id'].count(), x='rs2_bin', y='lending_business_id', \n",
    "                text_auto=True)\n",
    "fig.show()"
   ]
  },
  {
   "cell_type": "code",
   "execution_count": null,
   "metadata": {},
   "outputs": [],
   "source": []
  },
  {
   "cell_type": "code",
   "execution_count": 17,
   "metadata": {},
   "outputs": [],
   "source": [
    "querySno = SQLQuery('snowflake')\n",
    "credit_df = querySno(r\"\"\" \n",
    "select business_id, transaction_id,date, amount, description, merchant_name, type, categories, \n",
    "datediff(day,date, current_timestamp) as days_from_current   \n",
    "from \"METABASE_DB\".\"TRANSACTION\".\"PLAID_TRANSACTIONS\"\n",
    "where type = 'credit'\n",
    "and datediff(day,date, current_timestamp) <= 180\n",
    "and business_id in {}\n",
    "\"\"\".format(bids_tuple))"
   ]
  },
  {
   "cell_type": "code",
   "execution_count": 18,
   "metadata": {},
   "outputs": [
    {
     "data": {
      "text/plain": [
       "(65039, 9)"
      ]
     },
     "execution_count": 18,
     "metadata": {},
     "output_type": "execute_result"
    }
   ],
   "source": [
    "credit_df.shape"
   ]
  },
  {
   "cell_type": "code",
   "execution_count": 90,
   "metadata": {},
   "outputs": [],
   "source": [
    "querySno = SQLQuery('snowflake')\n",
    "credit_df = querySno(r\"\"\" \n",
    "with target_businesses as (\n",
    "SELECT DISTINCT a.id AS business_id, APPLICATION_ID,\n",
    "lower(regexp_replace(a.company_name, '(inc|inc.|llc|\\\\,|\\\\.|co|corp.|co.|corp)', '', 1,0,'i')) AS company_name,\n",
    "CASE WHEN dba IS NOT NULL THEN lower(regexp_replace(dba, '(inc|inc.|llc|\\\\,|\\\\.|co|corp.|co.|corp)', '', 1,0,'i')) ELSE NULL end AS dba,\n",
    "case when a.TYPE = 'sole_proprietorship' then 'sol_prop' else 'non sol_prop' end AS business_type\n",
    "FROM FIVETRAN_DB.PROD_NOVO_API_PUBLIC.BUSINESSES a\n",
    "join prod_db.data.businesses b\n",
    "on a.id = b.business_id\n",
    "where a.id IN (\n",
    "    select business_id\n",
    "    from prod_db.adhoc.external_model_training_base)\n",
    "\n",
    ")\n",
    "\n",
    ",logic1 as (\n",
    "-- account name match\n",
    "SELECT distinct t1.id as plaid_item_id, t1.business_id, json_extract_path_text(json_extract_path_text(t2.value,'account'),'name') as ext_account_name,\n",
    "lower(regexp_replace(json_extract_path_text(json_extract_path_text(t2.value,'account'),'name'), '(inc|inc.|llc|\\\\,|\\\\.|co|corp.|co.|corp)', '', 1,0,'i')) AS external_acc_company_name ,\n",
    "json_extract_path_text(json_extract_path_text(t2.value,'ach'),'account') AS account_id\n",
    "FROM FIVETRAN_DB.plaid_data_public.plaid_items t1, LATERAL FLATTEN(input => \"META\") t2\n",
    "WHERE status = 'active'\n",
    "and account_id is not null\n",
    "and account_id != ''\n",
    "union\n",
    "SELECT distinct t1.id as plaid_item_id, t1.business_id, t2.value as ext_account_name,\n",
    "lower(regexp_replace(t2.value, '(inc|inc.|llc|\\\\,|\\\\.|co|corp.|co.|corp)', '', 1,0,'i')) AS external_acc_company_name, \n",
    "--'' as account_id,\n",
    "json_extract_path_text(json_extract_path_text(t3.value,'ach'),'account') AS account_id\n",
    "FROM FIVETRAN_DB.plaid_data_public.plaid_items t1, LATERAL FLATTEN(input => \"IDENTITY\":names) t2\n",
    ", LATERAL FLATTEN(input => \"META\") t3\n",
    "WHERE status = 'active'\n",
    "and account_id is not null\n",
    "and account_id != ''\n",
    "order by account_id\n",
    "),\n",
    "mapped_accts as (\n",
    "select distinct a.*, b.plaid_item_id, b.ext_account_name, b.external_acc_company_name, b.account_id, e.owned_by,\n",
    "case when ((company_name = external_acc_company_name) OR \n",
    "(SOUNDEX(company_name) = SOUNDEX(external_acc_company_name)) OR\n",
    "(dba IS NOT NULL AND dba = external_acc_company_name) OR\n",
    "(dba IS NOT NULL AND SOUNDEX(dba)=SOUNDEX(external_acc_company_name))) then 1 else 0 end as name_match_flag\n",
    "from target_businesses a\n",
    "left join logic1 b \n",
    "on a.business_id = b.business_id\n",
    "left join metabase_db.external.external_accounts e\n",
    "on a.business_id = e.business_id\n",
    "and b.account_id = e.account_number\n",
    "where account_id is not null\n",
    "and account_id !=''\n",
    "), --6.78%\n",
    "logic2 as (\n",
    "-- email id match\n",
    "select distinct a.business_id, a.company_name, email, email_domain, website\n",
    "from target_businesses a\n",
    "left join PROD_DB.DATA.APPLICATIONS b\n",
    "on a.application_id = b.application_id\n",
    "),\n",
    "plaid_email as (\n",
    "select distinct business_id, t1.id as plaid_item_id, json_extract_path_text(t2.value,'data') as email,\n",
    "json_extract_path_text(json_extract_path_text(t3.value,'ach'),'account') AS account_id\n",
    "from fivetran_db.plaid_data_public.plaid_items t1, LATERAL FLATTEN(input => \"IDENTITY\":emails) t2\n",
    ", LATERAL FLATTEN(input => \"META\") t3\n",
    "where status = 'active'\n",
    "),\n",
    "match_email as (\n",
    "select b.*, plaid_item_id, lower(t1.email) as plaid_email, account_id,\n",
    "--split_part(b.email,'@',1),split_part(b.email,'@',2),\n",
    "case when (email_domain not in ('gmail.com','yahoo.com','outlook.com','hotmail.com','icloud.com','protonmail.com',\n",
    "'me.com','live.com','mail.com','comcast.net','att.net','msn.com','pm.me','mac.com') and \n",
    "          soundex(b.email_domain) = soundex(split_part(plaid_email,'@',2)) )\n",
    "          or b.email = plaid_email\n",
    "          or b.email_domain = split_part(plaid_email,'@',1)\n",
    "          then 1 else 0 end as email_match_flag\n",
    "from logic2 b\n",
    "left join plaid_email t1\n",
    "on t1.business_id = b.business_id\n",
    "order by business_id\n",
    "), \n",
    "logic4 as (\n",
    "--website match\n",
    "select distinct b.business_id, p.plaid_item_id, p.account_id, a.external_acc_company_name, lower(split_part(replace(b.website,'www.',''),'.',1)) as cleaned_website, \n",
    "case when (b.website is not null) and ((soundex(external_acc_company_name) = soundex(cleaned_website)) \n",
    "          or (external_acc_company_name = cleaned_website)\n",
    "          or (cleaned_website = split_part(split_part(p.email,'@',2),'.',1))\n",
    "          or (cleaned_website = split_part(p.email,'@',1))\n",
    "          or (soundex(cleaned_website) = soundex(split_part(split_part(p.email,'@',2),'.',1))) \n",
    "          or (soundex(cleaned_website) = soundex(split_part(p.email,'@',1)))) \n",
    "          then 1 else 0 end as website_match\n",
    "from logic2 b\n",
    "left join plaid_email p\n",
    "on b.business_id = p.business_id\n",
    "left join logic1 a\n",
    "on a.business_id = b.business_id\n",
    "and p.account_id = a.account_id\n",
    "),\n",
    "final as (\n",
    "select distinct a.business_id, a.company_name, a.dba, a.external_acc_company_name,\n",
    "case when a.plaid_item_id is null and d.plaid_item_id is null then b.plaid_item_id\n",
    "     when a.plaid_item_id is null and b.plaid_item_id is null then d.plaid_item_id\n",
    "     else a.plaid_item_id end as plaid_item_id, \n",
    "case when a.account_id is null and d.account_id is null then b.account_id\n",
    "     when a.account_id is null and b.account_id is null then d.account_id\n",
    "     else a.account_id end as account_id, \n",
    "a.owned_by,\n",
    "b.email, b.plaid_email,cleaned_website,\n",
    "max(a.name_match_flag) as name_match_flag,\n",
    "max(b.email_match_flag) as email_match_flag,\n",
    "--max(c.comp_zip_match) as zip_match_flag,\n",
    "max(website_match) as website_match_flag\n",
    "from target_businesses s\n",
    "left join mapped_accts a\n",
    "on s.business_id = a.business_id\n",
    "left join match_email b\n",
    "on a.business_id = b.business_id\n",
    "and a.account_id = b.account_id\n",
    "left join logic4 d\n",
    "on d.business_id = s.business_id\n",
    "and a.account_id = d.account_id\n",
    "group by 1,2,3,4,5,6,7,8,9,10\n",
    "),\n",
    "external_accts as (\n",
    "select *,\n",
    "case when name_match_flag=1 or email_match_flag=1 or website_match_flag=1\n",
    "then 1 else 0 end as final_flag\n",
    "from final\n",
    "),\n",
    "ext_accounts as (\n",
    "select distinct a.business_id, --a.plaid_item_id, \n",
    "a.account_id,\n",
    "d.id as EXTERNAL_ACCOUNT_ID\n",
    "from external_accts a\n",
    "left join METABASE_DB.EXTERNAL.EXTERNAL_ACCOUNTS d\n",
    "on a.account_id = d.account_number\n",
    "and a.account_id is not null\n",
    "and a.account_id!=''\n",
    "where a.final_flag=1\n",
    "and (a.owned_by is null or a.owned_by='' or a.owned_by='business')\n",
    "and EXTERNAL_ACCOUNT_ID is not null\n",
    "order by business_id\n",
    ")\n",
    "\n",
    "select *, datediff(day,b.date, date('2023-06-20')) as days_from_current from ext_accounts a \n",
    "left join \"METABASE_DB\".\"TRANSACTION\".\"PLAID_TRANSACTIONS\" b \n",
    "on a.business_id = b.business_id and a.EXTERNAL_ACCOUNT_ID = b.external_account_id\n",
    "where b.external_account_id is not null and b.type = 'credit' and datediff(day,b.date, date('2023-06-20')) <= 180\n",
    "\n",
    "\"\"\")"
   ]
  },
  {
   "cell_type": "code",
   "execution_count": 91,
   "metadata": {},
   "outputs": [],
   "source": [
    "credit_df = pd.read_csv('/Users/shashankgupta/Documents/code/git_project/plaid_credit/data/plaid_credit_transactions.csv')"
   ]
  },
  {
   "cell_type": "code",
   "execution_count": 115,
   "metadata": {},
   "outputs": [],
   "source": [
    "credit_df.iloc[:,12:24].to_clipboard()"
   ]
  },
  {
   "cell_type": "code",
   "execution_count": 117,
   "metadata": {},
   "outputs": [],
   "source": [
    "to_copy = credit_df.drop('META',axis=1)\n",
    "to_copy.to_clipboard()"
   ]
  },
  {
   "cell_type": "code",
   "execution_count": 92,
   "metadata": {},
   "outputs": [
    {
     "data": {
      "text/plain": [
       "(17020, 24)"
      ]
     },
     "execution_count": 92,
     "metadata": {},
     "output_type": "execute_result"
    }
   ],
   "source": [
    "credit_df.shape"
   ]
  },
  {
   "cell_type": "code",
   "execution_count": 95,
   "metadata": {},
   "outputs": [],
   "source": [
    "df = credit_df.merge(df_raw,how='left',left_on='BUSINESS_ID',right_on='business_id')"
   ]
  },
  {
   "cell_type": "code",
   "execution_count": 96,
   "metadata": {},
   "outputs": [
    {
     "data": {
      "text/plain": [
       "(17040, 35)"
      ]
     },
     "execution_count": 96,
     "metadata": {},
     "output_type": "execute_result"
    }
   ],
   "source": [
    "df.shape"
   ]
  },
  {
   "cell_type": "code",
   "execution_count": 98,
   "metadata": {},
   "outputs": [
    {
     "data": {
      "text/plain": [
       "(1777, 24)"
      ]
     },
     "execution_count": 98,
     "metadata": {},
     "output_type": "execute_result"
    }
   ],
   "source": [
    "credit_df[~credit_df['MERCHANT_NAME'].isnull()].shape"
   ]
  },
  {
   "cell_type": "code",
   "execution_count": 100,
   "metadata": {},
   "outputs": [
    {
     "data": {
      "text/plain": [
       "BetMGM         205\n",
       "eBay           122\n",
       "Amazon         106\n",
       "Sezzle          66\n",
       "Walmart         65\n",
       "              ... \n",
       "Cleo             1\n",
       "Refu             1\n",
       "RaceWay          1\n",
       "Whataburger      1\n",
       "Stop             1\n",
       "Name: MERCHANT_NAME, Length: 235, dtype: int64"
      ]
     },
     "execution_count": 100,
     "metadata": {},
     "output_type": "execute_result"
    }
   ],
   "source": [
    "credit_df['MERCHANT_NAME'].value_counts()"
   ]
  },
  {
   "cell_type": "code",
   "execution_count": 103,
   "metadata": {},
   "outputs": [],
   "source": [
    "credit_df['CATEGORIES'].value_counts().to_clipboard()"
   ]
  },
  {
   "cell_type": "code",
   "execution_count": 24,
   "metadata": {},
   "outputs": [
    {
     "data": {
      "text/plain": [
       "Earnin             144\n",
       "eBay                92\n",
       "SoFi                56\n",
       "AfterPay            39\n",
       "Dave                38\n",
       "                  ... \n",
       "ZKW                  1\n",
       "Rudyjude             1\n",
       "Gui Fang             1\n",
       "Wisestamp            1\n",
       "Tx P Realty LLC      1\n",
       "Name: merchant_name, Length: 110, dtype: int64"
      ]
     },
     "execution_count": 24,
     "metadata": {},
     "output_type": "execute_result"
    }
   ],
   "source": [
    "credit_df[credit_df['CATEGORIES']=='Transfer,Credit']['MERCHANT'].value_counts()"
   ]
  },
  {
   "cell_type": "code",
   "execution_count": 25,
   "metadata": {},
   "outputs": [
    {
     "data": {
      "text/plain": [
       "(25674, 9)"
      ]
     },
     "execution_count": 25,
     "metadata": {},
     "output_type": "execute_result"
    }
   ],
   "source": [
    "credit_df[(credit_df['CATEGORIES']=='Transfer,Credit') & (credit_df['merchant_name'].isnull())].shape"
   ]
  },
  {
   "cell_type": "code",
   "execution_count": 26,
   "metadata": {},
   "outputs": [
    {
     "data": {
      "text/plain": [
       "(1031, 9)"
      ]
     },
     "execution_count": 26,
     "metadata": {},
     "output_type": "execute_result"
    }
   ],
   "source": [
    "# Refunds & reversals\n",
    "search = ['reverse', 'reversal', 'refund', 'return']\n",
    "credit_df[(credit_df['description'].str.contains('|'.join(search), case=False)) ].shape"
   ]
  },
  {
   "cell_type": "code",
   "execution_count": 62,
   "metadata": {},
   "outputs": [],
   "source": [
    "# POS\n",
    "search = ['ATM', 'debit card']\n",
    "pos_df = credit_df[(credit_df['description'].str.contains('|'.join(search), case=False))]"
   ]
  },
  {
   "cell_type": "code",
   "execution_count": 63,
   "metadata": {},
   "outputs": [
    {
     "data": {
      "text/plain": [
       "(2343, 9)"
      ]
     },
     "execution_count": 63,
     "metadata": {},
     "output_type": "execute_result"
    }
   ],
   "source": [
    "pos_df.shape"
   ]
  },
  {
   "cell_type": "code",
   "execution_count": 64,
   "metadata": {},
   "outputs": [],
   "source": [
    "# POS 2\n",
    "search = ['POS']\n",
    "pos_df = credit_df[(credit_df['description'].str.contains('|'.join(search)))]"
   ]
  },
  {
   "cell_type": "code",
   "execution_count": 65,
   "metadata": {},
   "outputs": [
    {
     "data": {
      "text/plain": [
       "(4688, 9)"
      ]
     },
     "execution_count": 65,
     "metadata": {},
     "output_type": "execute_result"
    }
   ],
   "source": [
    "pos_df.shape"
   ]
  },
  {
   "cell_type": "code",
   "execution_count": 29,
   "metadata": {},
   "outputs": [],
   "source": [
    "pos_df.to_clipboard()"
   ]
  },
  {
   "cell_type": "code",
   "execution_count": 30,
   "metadata": {},
   "outputs": [],
   "source": [
    "# invoice\n",
    "search = ['invoice','requested']\n",
    "idf = credit_df[(credit_df['description'].str.contains('|'.join(search), case=False))]"
   ]
  },
  {
   "cell_type": "code",
   "execution_count": 31,
   "metadata": {},
   "outputs": [
    {
     "data": {
      "text/plain": [
       "(309, 9)"
      ]
     },
     "execution_count": 31,
     "metadata": {},
     "output_type": "execute_result"
    }
   ],
   "source": [
    "idf.shape"
   ]
  },
  {
   "cell_type": "code",
   "execution_count": 32,
   "metadata": {},
   "outputs": [],
   "source": [
    "idf.to_clipboard()"
   ]
  },
  {
   "cell_type": "code",
   "execution_count": 58,
   "metadata": {},
   "outputs": [],
   "source": [
    "# recurring\n",
    "search = ['payroll','recurring','rent']\n",
    "rec = credit_df[(credit_df['description'].str.contains('|'.join(search), case=False))]"
   ]
  },
  {
   "cell_type": "code",
   "execution_count": 59,
   "metadata": {},
   "outputs": [
    {
     "data": {
      "text/plain": [
       "(2280, 9)"
      ]
     },
     "execution_count": 59,
     "metadata": {},
     "output_type": "execute_result"
    }
   ],
   "source": [
    "rec.shape"
   ]
  },
  {
   "cell_type": "code",
   "execution_count": 105,
   "metadata": {},
   "outputs": [],
   "source": [
    "df.loc[(df['CATEGORIES'] == 'Transfer,Credit'),'industry_category_name'].value_counts().to_clipboard()"
   ]
  },
  {
   "cell_type": "code",
   "execution_count": 48,
   "metadata": {},
   "outputs": [
    {
     "data": {
      "text/html": [
       "<div>\n",
       "<style scoped>\n",
       "    .dataframe tbody tr th:only-of-type {\n",
       "        vertical-align: middle;\n",
       "    }\n",
       "\n",
       "    .dataframe tbody tr th {\n",
       "        vertical-align: top;\n",
       "    }\n",
       "\n",
       "    .dataframe thead th {\n",
       "        text-align: right;\n",
       "    }\n",
       "</style>\n",
       "<table border=\"1\" class=\"dataframe\">\n",
       "  <thead>\n",
       "    <tr style=\"text-align: right;\">\n",
       "      <th></th>\n",
       "      <th>business_id</th>\n",
       "      <th>transaction_id</th>\n",
       "      <th>date</th>\n",
       "      <th>amount</th>\n",
       "      <th>description</th>\n",
       "      <th>merchant_name</th>\n",
       "      <th>type</th>\n",
       "      <th>categories</th>\n",
       "      <th>days_from_current</th>\n",
       "      <th>lending_business_id</th>\n",
       "      <th>Ever15plus</th>\n",
       "      <th>Source</th>\n",
       "      <th>industry_category_name</th>\n",
       "      <th>industry_name</th>\n",
       "      <th>number_of_employees</th>\n",
       "      <th>rev_30</th>\n",
       "      <th>novo_risk_model_score</th>\n",
       "      <th>rs2_bin</th>\n",
       "      <th>rs2_score</th>\n",
       "    </tr>\n",
       "  </thead>\n",
       "  <tbody>\n",
       "    <tr>\n",
       "      <th>60354</th>\n",
       "      <td>dad2647f-ebdb-44b2-8cee-9349b1b6d1a2</td>\n",
       "      <td>k8xmanvMNLsJekr5MqxdszYLaq6b0RHbJLPgE</td>\n",
       "      <td>2023-05-31</td>\n",
       "      <td>-152.40</td>\n",
       "      <td>Card payment</td>\n",
       "      <td>None</td>\n",
       "      <td>credit</td>\n",
       "      <td>Transfer,Credit</td>\n",
       "      <td>21</td>\n",
       "      <td>5ce6de96-b605-486b-96fc-3a7232a7bb4f</td>\n",
       "      <td>1</td>\n",
       "      <td>FICO</td>\n",
       "      <td>Arts, Entertainment, and Recreation</td>\n",
       "      <td>Fitness and Recreational Sports Centers</td>\n",
       "      <td>1</td>\n",
       "      <td>1956.7341</td>\n",
       "      <td>277</td>\n",
       "      <td>1</td>\n",
       "      <td>277</td>\n",
       "    </tr>\n",
       "    <tr>\n",
       "      <th>59669</th>\n",
       "      <td>33d844ec-b84e-40de-8d83-8dfb3788c0b1</td>\n",
       "      <td>ydOY5BBdvMFV8zx7RV3nsmNY0eQoNKS3qBnMe</td>\n",
       "      <td>2023-01-18</td>\n",
       "      <td>-45.96</td>\n",
       "      <td>WISLOV.COM FL USA Debit Card Purchase</td>\n",
       "      <td>None</td>\n",
       "      <td>credit</td>\n",
       "      <td>Transfer,Credit</td>\n",
       "      <td>154</td>\n",
       "      <td>1955ba7e-d732-4bd4-9bf4-b55c4398107b</td>\n",
       "      <td>1</td>\n",
       "      <td>FICO</td>\n",
       "      <td>Arts, Entertainment, and Recreation</td>\n",
       "      <td>All Other Amusement and Recreation Industries</td>\n",
       "      <td>1</td>\n",
       "      <td>1443.5621</td>\n",
       "      <td>708</td>\n",
       "      <td>5</td>\n",
       "      <td>708</td>\n",
       "    </tr>\n",
       "    <tr>\n",
       "      <th>32827</th>\n",
       "      <td>2378bec3-b0ba-4ddf-9d4a-a2bbf71cc835</td>\n",
       "      <td>Nao9yNJy9Oud9N4ZPyQPH6Y8ozBMZntpopApN</td>\n",
       "      <td>2023-05-16</td>\n",
       "      <td>-200.00</td>\n",
       "      <td>MSPBNA ACH TRNSFR 230515 79849150906 45237245</td>\n",
       "      <td>Morgan Stanley</td>\n",
       "      <td>credit</td>\n",
       "      <td>Transfer,Credit</td>\n",
       "      <td>36</td>\n",
       "      <td>28548b41-89b0-452a-840c-7bb6f5b3fdc8</td>\n",
       "      <td>0</td>\n",
       "      <td>GA</td>\n",
       "      <td>Arts, Entertainment, and Recreation</td>\n",
       "      <td>Independent Artists, Writers, and Performers</td>\n",
       "      <td>1</td>\n",
       "      <td>969.5959</td>\n",
       "      <td>581</td>\n",
       "      <td>3</td>\n",
       "      <td>581</td>\n",
       "    </tr>\n",
       "    <tr>\n",
       "      <th>18613</th>\n",
       "      <td>3435a44d-e715-4372-8613-923c64b72d06</td>\n",
       "      <td>Kqeq8QZd3ecM6gZXZbqBuxXNO8XKD5tmZ1Eew</td>\n",
       "      <td>2023-02-22</td>\n",
       "      <td>-101.50</td>\n",
       "      <td>VISA 1270</td>\n",
       "      <td>None</td>\n",
       "      <td>credit</td>\n",
       "      <td>Transfer,Credit</td>\n",
       "      <td>119</td>\n",
       "      <td>90361232-38ef-49ab-b85f-6c06b20801f3</td>\n",
       "      <td>0</td>\n",
       "      <td>GA</td>\n",
       "      <td>Arts, Entertainment, and Recreation</td>\n",
       "      <td>All Other Amusement and Recreation Industries</td>\n",
       "      <td>3</td>\n",
       "      <td>4474.5272</td>\n",
       "      <td>746</td>\n",
       "      <td>5</td>\n",
       "      <td>746</td>\n",
       "    </tr>\n",
       "  </tbody>\n",
       "</table>\n",
       "</div>"
      ],
      "text/plain": [
       "                                business_id  \\\n",
       "60354  dad2647f-ebdb-44b2-8cee-9349b1b6d1a2   \n",
       "59669  33d844ec-b84e-40de-8d83-8dfb3788c0b1   \n",
       "32827  2378bec3-b0ba-4ddf-9d4a-a2bbf71cc835   \n",
       "18613  3435a44d-e715-4372-8613-923c64b72d06   \n",
       "\n",
       "                              transaction_id        date  amount  \\\n",
       "60354  k8xmanvMNLsJekr5MqxdszYLaq6b0RHbJLPgE  2023-05-31 -152.40   \n",
       "59669  ydOY5BBdvMFV8zx7RV3nsmNY0eQoNKS3qBnMe  2023-01-18  -45.96   \n",
       "32827  Nao9yNJy9Oud9N4ZPyQPH6Y8ozBMZntpopApN  2023-05-16 -200.00   \n",
       "18613  Kqeq8QZd3ecM6gZXZbqBuxXNO8XKD5tmZ1Eew  2023-02-22 -101.50   \n",
       "\n",
       "                                         description   merchant_name    type  \\\n",
       "60354                                   Card payment            None  credit   \n",
       "59669          WISLOV.COM FL USA Debit Card Purchase            None  credit   \n",
       "32827  MSPBNA ACH TRNSFR 230515 79849150906 45237245  Morgan Stanley  credit   \n",
       "18613                                      VISA 1270            None  credit   \n",
       "\n",
       "            categories  days_from_current  \\\n",
       "60354  Transfer,Credit                 21   \n",
       "59669  Transfer,Credit                154   \n",
       "32827  Transfer,Credit                 36   \n",
       "18613  Transfer,Credit                119   \n",
       "\n",
       "                        lending_business_id  Ever15plus Source  \\\n",
       "60354  5ce6de96-b605-486b-96fc-3a7232a7bb4f           1   FICO   \n",
       "59669  1955ba7e-d732-4bd4-9bf4-b55c4398107b           1   FICO   \n",
       "32827  28548b41-89b0-452a-840c-7bb6f5b3fdc8           0     GA   \n",
       "18613  90361232-38ef-49ab-b85f-6c06b20801f3           0     GA   \n",
       "\n",
       "                    industry_category_name  \\\n",
       "60354  Arts, Entertainment, and Recreation   \n",
       "59669  Arts, Entertainment, and Recreation   \n",
       "32827  Arts, Entertainment, and Recreation   \n",
       "18613  Arts, Entertainment, and Recreation   \n",
       "\n",
       "                                       industry_name number_of_employees  \\\n",
       "60354        Fitness and Recreational Sports Centers                   1   \n",
       "59669  All Other Amusement and Recreation Industries                   1   \n",
       "32827   Independent Artists, Writers, and Performers                   1   \n",
       "18613  All Other Amusement and Recreation Industries                   3   \n",
       "\n",
       "          rev_30 novo_risk_model_score rs2_bin rs2_score  \n",
       "60354  1956.7341                   277       1       277  \n",
       "59669  1443.5621                   708       5       708  \n",
       "32827   969.5959                   581       3       581  \n",
       "18613  4474.5272                   746       5       746  "
      ]
     },
     "execution_count": 48,
     "metadata": {},
     "output_type": "execute_result"
    }
   ],
   "source": [
    "df[(df['categories'] == 'Transfer,Credit') & (df['industry_category_name'] == 'Arts, Entertainment, and Recreation')].sample(4)"
   ]
  },
  {
   "cell_type": "code",
   "execution_count": 61,
   "metadata": {},
   "outputs": [
    {
     "data": {
      "text/html": [
       "<div>\n",
       "<style scoped>\n",
       "    .dataframe tbody tr th:only-of-type {\n",
       "        vertical-align: middle;\n",
       "    }\n",
       "\n",
       "    .dataframe tbody tr th {\n",
       "        vertical-align: top;\n",
       "    }\n",
       "\n",
       "    .dataframe thead th {\n",
       "        text-align: right;\n",
       "    }\n",
       "</style>\n",
       "<table border=\"1\" class=\"dataframe\">\n",
       "  <thead>\n",
       "    <tr style=\"text-align: right;\">\n",
       "      <th></th>\n",
       "      <th>business_id</th>\n",
       "      <th>transaction_id</th>\n",
       "      <th>date</th>\n",
       "      <th>amount</th>\n",
       "      <th>description</th>\n",
       "      <th>merchant_name</th>\n",
       "      <th>type</th>\n",
       "      <th>categories</th>\n",
       "      <th>days_from_current</th>\n",
       "      <th>lending_business_id</th>\n",
       "      <th>Ever15plus</th>\n",
       "      <th>Source</th>\n",
       "      <th>industry_category_name</th>\n",
       "      <th>industry_name</th>\n",
       "      <th>number_of_employees</th>\n",
       "      <th>rev_30</th>\n",
       "      <th>novo_risk_model_score</th>\n",
       "      <th>rs2_bin</th>\n",
       "      <th>rs2_score</th>\n",
       "    </tr>\n",
       "  </thead>\n",
       "  <tbody>\n",
       "    <tr>\n",
       "      <th>63241</th>\n",
       "      <td>33b3cd23-d55b-4770-b64b-24fd52c58514</td>\n",
       "      <td>Rz5Eg63M3vfPKVNkya1MhEgmj6zjAVf44YkLO</td>\n",
       "      <td>2023-05-16</td>\n",
       "      <td>-150.00</td>\n",
       "      <td>External Deposit SCHWAB BANK / P2P ID NBR: JES...</td>\n",
       "      <td>None</td>\n",
       "      <td>credit</td>\n",
       "      <td>Transfer,Deposit</td>\n",
       "      <td>36</td>\n",
       "      <td>d95c9a4d-0ff5-41c7-b92d-a5545baedce0</td>\n",
       "      <td>1</td>\n",
       "      <td>GA</td>\n",
       "      <td>Health Care and Social Assistance</td>\n",
       "      <td>Offices of Physicians (except Mental Health Sp...</td>\n",
       "      <td>1</td>\n",
       "      <td>7934.4982</td>\n",
       "      <td>844</td>\n",
       "      <td>5</td>\n",
       "      <td>844</td>\n",
       "    </tr>\n",
       "    <tr>\n",
       "      <th>34755</th>\n",
       "      <td>81aaf0cf-b642-438b-a388-93529129773c</td>\n",
       "      <td>KnyBANNroxFM95KnOZVrcaL5gKDKLeFmL348r</td>\n",
       "      <td>2023-02-28</td>\n",
       "      <td>-4000.00</td>\n",
       "      <td>DEPOSIT / BOHEMIAN LUMBERJ 5FFE9B8A9F</td>\n",
       "      <td>None</td>\n",
       "      <td>credit</td>\n",
       "      <td>Transfer,Deposit</td>\n",
       "      <td>113</td>\n",
       "      <td>4434d8b0-6d31-4d9d-9ff5-fa27a4609dbd</td>\n",
       "      <td>0</td>\n",
       "      <td>GA</td>\n",
       "      <td>Agriculture, Forestry, Fishing and Hunting</td>\n",
       "      <td>Logging</td>\n",
       "      <td>1</td>\n",
       "      <td>1963.6042</td>\n",
       "      <td>666</td>\n",
       "      <td>4</td>\n",
       "      <td>666</td>\n",
       "    </tr>\n",
       "    <tr>\n",
       "      <th>13204</th>\n",
       "      <td>2993ca66-8214-421c-8f4b-86cbe416b9ea</td>\n",
       "      <td>dbJmZ70pxdTLzN44Mk1KS13p15grYDUoQK65P</td>\n",
       "      <td>2023-03-27</td>\n",
       "      <td>-6000.00</td>\n",
       "      <td>BKOFAMERICA MOBILE 03/26 XXXXX83573 DEPOSIT *M...</td>\n",
       "      <td>None</td>\n",
       "      <td>credit</td>\n",
       "      <td>Transfer,Deposit</td>\n",
       "      <td>86</td>\n",
       "      <td>feb6a20c-5232-4293-b809-9008a516f917</td>\n",
       "      <td>0</td>\n",
       "      <td>FICO</td>\n",
       "      <td>Real Estate Rental and Leasing</td>\n",
       "      <td>Lessors of Residential Buildings and Dwellings</td>\n",
       "      <td>2</td>\n",
       "      <td>7141.091</td>\n",
       "      <td>659</td>\n",
       "      <td>4</td>\n",
       "      <td>659</td>\n",
       "    </tr>\n",
       "    <tr>\n",
       "      <th>56799</th>\n",
       "      <td>37c408e4-a57e-4d98-bd92-e346ae66f628</td>\n",
       "      <td>kPz9AVOQq7h73gExrQOQU47wjXDqDqUZMyJg9N</td>\n",
       "      <td>2023-05-04</td>\n",
       "      <td>-499.31</td>\n",
       "      <td>Deposit Shared Branch Mobile Deposit First Tec...</td>\n",
       "      <td>First Tech Federal Credit Union</td>\n",
       "      <td>credit</td>\n",
       "      <td>Transfer,Deposit</td>\n",
       "      <td>48</td>\n",
       "      <td>59495dd5-4d03-4783-adf7-b4b4467e92a8</td>\n",
       "      <td>0</td>\n",
       "      <td>FICO</td>\n",
       "      <td>Construction</td>\n",
       "      <td>Residential Remodelers</td>\n",
       "      <td>1</td>\n",
       "      <td>None</td>\n",
       "      <td>None</td>\n",
       "      <td>3</td>\n",
       "      <td>551</td>\n",
       "    </tr>\n",
       "    <tr>\n",
       "      <th>52524</th>\n",
       "      <td>829a6684-2f44-465b-a829-7c9de32d3b93</td>\n",
       "      <td>66m94ZmzpktY9kdqkkrXT9zYMxwem9sAP4PQ1</td>\n",
       "      <td>2023-06-01</td>\n",
       "      <td>-1000.00</td>\n",
       "      <td>BKOFAMERICA MOBILE 06/01 XXXXX33992 DEPOSIT *M...</td>\n",
       "      <td>None</td>\n",
       "      <td>credit</td>\n",
       "      <td>Transfer,Deposit</td>\n",
       "      <td>20</td>\n",
       "      <td>cf50a9fd-da14-4760-b35a-a60a2f918b1f</td>\n",
       "      <td>0</td>\n",
       "      <td>GA</td>\n",
       "      <td>Arts, Entertainment, and Recreation</td>\n",
       "      <td>Independent Artists, Writers, and Performers</td>\n",
       "      <td>1</td>\n",
       "      <td>1239.9528</td>\n",
       "      <td>698</td>\n",
       "      <td>4</td>\n",
       "      <td>698</td>\n",
       "    </tr>\n",
       "    <tr>\n",
       "      <th>3837</th>\n",
       "      <td>48897f91-1c4f-4d4c-8e97-8b463fae9510</td>\n",
       "      <td>VVxwJ9K9mRH5B1pozXzxugrmorwJEncz9vjNO</td>\n",
       "      <td>2023-01-17</td>\n",
       "      <td>-9.00</td>\n",
       "      <td>BANKCARD DES:MTOT DEP ID:XXXXXXXXXX27942 INDN:...</td>\n",
       "      <td>None</td>\n",
       "      <td>credit</td>\n",
       "      <td>Transfer,Deposit</td>\n",
       "      <td>155</td>\n",
       "      <td>cab150d3-7c94-4a58-9871-4341f1b7276d</td>\n",
       "      <td>0</td>\n",
       "      <td>GA</td>\n",
       "      <td>Other Services</td>\n",
       "      <td>Other Personal Care Services</td>\n",
       "      <td>8</td>\n",
       "      <td>4879.175</td>\n",
       "      <td>887</td>\n",
       "      <td>5</td>\n",
       "      <td>887</td>\n",
       "    </tr>\n",
       "    <tr>\n",
       "      <th>29941</th>\n",
       "      <td>7f7b016a-cf50-48f9-9e67-736779fac52e</td>\n",
       "      <td>qV9Ea1q1qNILorQK4gAqixRbNNEMbLfBVXK0y</td>\n",
       "      <td>2023-02-01</td>\n",
       "      <td>-900.00</td>\n",
       "      <td>DEPOSIT/CREDIT</td>\n",
       "      <td>None</td>\n",
       "      <td>credit</td>\n",
       "      <td>Transfer,Deposit</td>\n",
       "      <td>140</td>\n",
       "      <td>ef1df9cf-8f9b-4526-876c-252c88a55a65</td>\n",
       "      <td>0</td>\n",
       "      <td>FICO</td>\n",
       "      <td>Real Estate Rental and Leasing</td>\n",
       "      <td>Other Activities Related to Real Estate</td>\n",
       "      <td>1</td>\n",
       "      <td>3685.1022</td>\n",
       "      <td>732</td>\n",
       "      <td>5</td>\n",
       "      <td>732</td>\n",
       "    </tr>\n",
       "    <tr>\n",
       "      <th>1267</th>\n",
       "      <td>c0c05166-4c30-4199-8721-354a4935ef84</td>\n",
       "      <td>avD51M3MJZT45VknrPPMUR9gpBgrRRI9Manme</td>\n",
       "      <td>2023-04-06</td>\n",
       "      <td>-250.00</td>\n",
       "      <td>MOBILE DEPOSIT</td>\n",
       "      <td>None</td>\n",
       "      <td>credit</td>\n",
       "      <td>Transfer,Deposit</td>\n",
       "      <td>76</td>\n",
       "      <td>57586ecf-ee91-404c-b562-ca6c0e8b58e8</td>\n",
       "      <td>1</td>\n",
       "      <td>GA</td>\n",
       "      <td>Real Estate Rental and Leasing</td>\n",
       "      <td>Offices of Real Estate Agents and Brokers</td>\n",
       "      <td>2</td>\n",
       "      <td>2810.5514</td>\n",
       "      <td>824</td>\n",
       "      <td>5</td>\n",
       "      <td>824</td>\n",
       "    </tr>\n",
       "    <tr>\n",
       "      <th>64142</th>\n",
       "      <td>bbd345ad-3fe9-4a64-b95d-92cea89d1c87</td>\n",
       "      <td>4ag1RjRxJxT8QXzrDx9aUVadbb39xDUqa8wrB</td>\n",
       "      <td>2023-01-10</td>\n",
       "      <td>-175.00</td>\n",
       "      <td>MOBILE DEPOSIT : REF NUMBER :214100353554</td>\n",
       "      <td>None</td>\n",
       "      <td>credit</td>\n",
       "      <td>Transfer,Deposit</td>\n",
       "      <td>162</td>\n",
       "      <td>189546ea-f958-42c9-86c3-79ed8d255d61</td>\n",
       "      <td>0</td>\n",
       "      <td>GA</td>\n",
       "      <td>Administrative and Support and Waste Managemen...</td>\n",
       "      <td>Janitorial Services</td>\n",
       "      <td>5</td>\n",
       "      <td>2100.3477</td>\n",
       "      <td>810</td>\n",
       "      <td>5</td>\n",
       "      <td>810</td>\n",
       "    </tr>\n",
       "    <tr>\n",
       "      <th>59862</th>\n",
       "      <td>df46b691-b5fc-4a81-a93b-75c48275059a</td>\n",
       "      <td>1oZRpZva0VI5LmmeXx4jf5N3gY9KkaIrR4KA1r</td>\n",
       "      <td>2023-02-10</td>\n",
       "      <td>-80.00</td>\n",
       "      <td>POS/Check Card Deposit CASH / APP*CASH OUT Vis...</td>\n",
       "      <td>None</td>\n",
       "      <td>credit</td>\n",
       "      <td>Transfer,Deposit</td>\n",
       "      <td>131</td>\n",
       "      <td>67a02401-0053-4880-b82a-97939589296e</td>\n",
       "      <td>1</td>\n",
       "      <td>GA</td>\n",
       "      <td>Arts, Entertainment, and Recreation</td>\n",
       "      <td>Agents and Managers for Artists, Athletes, Ent...</td>\n",
       "      <td>1</td>\n",
       "      <td>1244.6318</td>\n",
       "      <td>404</td>\n",
       "      <td>3</td>\n",
       "      <td>404</td>\n",
       "    </tr>\n",
       "  </tbody>\n",
       "</table>\n",
       "</div>"
      ],
      "text/plain": [
       "                                business_id  \\\n",
       "63241  33b3cd23-d55b-4770-b64b-24fd52c58514   \n",
       "34755  81aaf0cf-b642-438b-a388-93529129773c   \n",
       "13204  2993ca66-8214-421c-8f4b-86cbe416b9ea   \n",
       "56799  37c408e4-a57e-4d98-bd92-e346ae66f628   \n",
       "52524  829a6684-2f44-465b-a829-7c9de32d3b93   \n",
       "3837   48897f91-1c4f-4d4c-8e97-8b463fae9510   \n",
       "29941  7f7b016a-cf50-48f9-9e67-736779fac52e   \n",
       "1267   c0c05166-4c30-4199-8721-354a4935ef84   \n",
       "64142  bbd345ad-3fe9-4a64-b95d-92cea89d1c87   \n",
       "59862  df46b691-b5fc-4a81-a93b-75c48275059a   \n",
       "\n",
       "                               transaction_id        date   amount  \\\n",
       "63241   Rz5Eg63M3vfPKVNkya1MhEgmj6zjAVf44YkLO  2023-05-16  -150.00   \n",
       "34755   KnyBANNroxFM95KnOZVrcaL5gKDKLeFmL348r  2023-02-28 -4000.00   \n",
       "13204   dbJmZ70pxdTLzN44Mk1KS13p15grYDUoQK65P  2023-03-27 -6000.00   \n",
       "56799  kPz9AVOQq7h73gExrQOQU47wjXDqDqUZMyJg9N  2023-05-04  -499.31   \n",
       "52524   66m94ZmzpktY9kdqkkrXT9zYMxwem9sAP4PQ1  2023-06-01 -1000.00   \n",
       "3837    VVxwJ9K9mRH5B1pozXzxugrmorwJEncz9vjNO  2023-01-17    -9.00   \n",
       "29941   qV9Ea1q1qNILorQK4gAqixRbNNEMbLfBVXK0y  2023-02-01  -900.00   \n",
       "1267    avD51M3MJZT45VknrPPMUR9gpBgrRRI9Manme  2023-04-06  -250.00   \n",
       "64142   4ag1RjRxJxT8QXzrDx9aUVadbb39xDUqa8wrB  2023-01-10  -175.00   \n",
       "59862  1oZRpZva0VI5LmmeXx4jf5N3gY9KkaIrR4KA1r  2023-02-10   -80.00   \n",
       "\n",
       "                                             description  \\\n",
       "63241  External Deposit SCHWAB BANK / P2P ID NBR: JES...   \n",
       "34755              DEPOSIT / BOHEMIAN LUMBERJ 5FFE9B8A9F   \n",
       "13204  BKOFAMERICA MOBILE 03/26 XXXXX83573 DEPOSIT *M...   \n",
       "56799  Deposit Shared Branch Mobile Deposit First Tec...   \n",
       "52524  BKOFAMERICA MOBILE 06/01 XXXXX33992 DEPOSIT *M...   \n",
       "3837   BANKCARD DES:MTOT DEP ID:XXXXXXXXXX27942 INDN:...   \n",
       "29941                                     DEPOSIT/CREDIT   \n",
       "1267                                      MOBILE DEPOSIT   \n",
       "64142          MOBILE DEPOSIT : REF NUMBER :214100353554   \n",
       "59862  POS/Check Card Deposit CASH / APP*CASH OUT Vis...   \n",
       "\n",
       "                         merchant_name    type        categories  \\\n",
       "63241                             None  credit  Transfer,Deposit   \n",
       "34755                             None  credit  Transfer,Deposit   \n",
       "13204                             None  credit  Transfer,Deposit   \n",
       "56799  First Tech Federal Credit Union  credit  Transfer,Deposit   \n",
       "52524                             None  credit  Transfer,Deposit   \n",
       "3837                              None  credit  Transfer,Deposit   \n",
       "29941                             None  credit  Transfer,Deposit   \n",
       "1267                              None  credit  Transfer,Deposit   \n",
       "64142                             None  credit  Transfer,Deposit   \n",
       "59862                             None  credit  Transfer,Deposit   \n",
       "\n",
       "       days_from_current                   lending_business_id  Ever15plus  \\\n",
       "63241                 36  d95c9a4d-0ff5-41c7-b92d-a5545baedce0           1   \n",
       "34755                113  4434d8b0-6d31-4d9d-9ff5-fa27a4609dbd           0   \n",
       "13204                 86  feb6a20c-5232-4293-b809-9008a516f917           0   \n",
       "56799                 48  59495dd5-4d03-4783-adf7-b4b4467e92a8           0   \n",
       "52524                 20  cf50a9fd-da14-4760-b35a-a60a2f918b1f           0   \n",
       "3837                 155  cab150d3-7c94-4a58-9871-4341f1b7276d           0   \n",
       "29941                140  ef1df9cf-8f9b-4526-876c-252c88a55a65           0   \n",
       "1267                  76  57586ecf-ee91-404c-b562-ca6c0e8b58e8           1   \n",
       "64142                162  189546ea-f958-42c9-86c3-79ed8d255d61           0   \n",
       "59862                131  67a02401-0053-4880-b82a-97939589296e           1   \n",
       "\n",
       "      Source                             industry_category_name  \\\n",
       "63241     GA                  Health Care and Social Assistance   \n",
       "34755     GA         Agriculture, Forestry, Fishing and Hunting   \n",
       "13204   FICO                     Real Estate Rental and Leasing   \n",
       "56799   FICO                                       Construction   \n",
       "52524     GA                Arts, Entertainment, and Recreation   \n",
       "3837      GA                                     Other Services   \n",
       "29941   FICO                     Real Estate Rental and Leasing   \n",
       "1267      GA                     Real Estate Rental and Leasing   \n",
       "64142     GA  Administrative and Support and Waste Managemen...   \n",
       "59862     GA                Arts, Entertainment, and Recreation   \n",
       "\n",
       "                                           industry_name number_of_employees  \\\n",
       "63241  Offices of Physicians (except Mental Health Sp...                   1   \n",
       "34755                                            Logging                   1   \n",
       "13204     Lessors of Residential Buildings and Dwellings                   2   \n",
       "56799                             Residential Remodelers                   1   \n",
       "52524       Independent Artists, Writers, and Performers                   1   \n",
       "3837                        Other Personal Care Services                   8   \n",
       "29941            Other Activities Related to Real Estate                   1   \n",
       "1267           Offices of Real Estate Agents and Brokers                   2   \n",
       "64142                                Janitorial Services                   5   \n",
       "59862  Agents and Managers for Artists, Athletes, Ent...                   1   \n",
       "\n",
       "          rev_30 novo_risk_model_score rs2_bin rs2_score  \n",
       "63241  7934.4982                   844       5       844  \n",
       "34755  1963.6042                   666       4       666  \n",
       "13204   7141.091                   659       4       659  \n",
       "56799       None                  None       3       551  \n",
       "52524  1239.9528                   698       4       698  \n",
       "3837    4879.175                   887       5       887  \n",
       "29941  3685.1022                   732       5       732  \n",
       "1267   2810.5514                   824       5       824  \n",
       "64142  2100.3477                   810       5       810  \n",
       "59862  1244.6318                   404       3       404  "
      ]
     },
     "execution_count": 61,
     "metadata": {},
     "output_type": "execute_result"
    }
   ],
   "source": [
    "df[(df['categories'] == 'Transfer,Deposit')].sample(10)"
   ]
  },
  {
   "cell_type": "code",
   "execution_count": 119,
   "metadata": {},
   "outputs": [
    {
     "data": {
      "text/plain": [
       "BUSINESS_ID                                \n",
       "018b2b70-af2d-4f75-be6b-851f1f9d3a1c  3447       -25.00\n",
       "02fe0ef7-6ddd-4885-aada-e9851fc9f20e  1529    -15050.00\n",
       "                                      14741   -13917.00\n",
       "                                      3498    -11605.00\n",
       "                                      2454     -9067.00\n",
       "                                                 ...   \n",
       "ffd8d9b8-4ebb-488b-9167-4d3ea2abe9a3  7794     -5000.00\n",
       "                                      12670    -1270.99\n",
       "                                      4451     -1224.36\n",
       "                                      14187    -1155.00\n",
       "                                      12083    -1082.72\n",
       "Name: AMOUNT, Length: 1187, dtype: float64"
      ]
     },
     "execution_count": 119,
     "metadata": {},
     "output_type": "execute_result"
    }
   ],
   "source": [
    "df.groupby('BUSINESS_ID')['AMOUNT'].nsmallest(5)"
   ]
  },
  {
   "cell_type": "code",
   "execution_count": 120,
   "metadata": {},
   "outputs": [
    {
     "data": {
      "text/html": [
       "<div>\n",
       "<style scoped>\n",
       "    .dataframe tbody tr th:only-of-type {\n",
       "        vertical-align: middle;\n",
       "    }\n",
       "\n",
       "    .dataframe tbody tr th {\n",
       "        vertical-align: top;\n",
       "    }\n",
       "\n",
       "    .dataframe thead th {\n",
       "        text-align: right;\n",
       "    }\n",
       "</style>\n",
       "<table border=\"1\" class=\"dataframe\">\n",
       "  <thead>\n",
       "    <tr style=\"text-align: right;\">\n",
       "      <th></th>\n",
       "      <th>BUSINESS_ID</th>\n",
       "      <th>ACCOUNT_ID</th>\n",
       "      <th>EXTERNAL_ACCOUNT_ID</th>\n",
       "      <th>ID</th>\n",
       "      <th>TRANSACTION_ID</th>\n",
       "      <th>DATE</th>\n",
       "      <th>AMOUNT</th>\n",
       "      <th>PLAID_ACCOUNT_ID</th>\n",
       "      <th>PENDING</th>\n",
       "      <th>DESCRIPTION</th>\n",
       "      <th>...</th>\n",
       "      <th>business_id</th>\n",
       "      <th>Ever15plus</th>\n",
       "      <th>Source</th>\n",
       "      <th>industry_category_name</th>\n",
       "      <th>industry_name</th>\n",
       "      <th>number_of_employees</th>\n",
       "      <th>rev_30</th>\n",
       "      <th>novo_risk_model_score</th>\n",
       "      <th>rs2_bin</th>\n",
       "      <th>rs2_score</th>\n",
       "    </tr>\n",
       "  </thead>\n",
       "  <tbody>\n",
       "    <tr>\n",
       "      <th>1529</th>\n",
       "      <td>02fe0ef7-6ddd-4885-aada-e9851fc9f20e</td>\n",
       "      <td>1000022135239</td>\n",
       "      <td>484ded0b-e888-4f10-9ac0-bdcfab945c6a</td>\n",
       "      <td>c9dd00f2-3782-487e-b46e-86ec4e77dab5</td>\n",
       "      <td>nPP9Qm14nYU0pOR44ZMQCJqP4aYzzqHp8NrwN</td>\n",
       "      <td>2023-05-15</td>\n",
       "      <td>-15050.0</td>\n",
       "      <td>kLLNQ6zbEYIpE7oKKvbPfzr3P1V0dqtRvw8Ve</td>\n",
       "      <td>False</td>\n",
       "      <td>EDI PYMNTS Honor Technology Zeewise Inc ACH CR...</td>\n",
       "      <td>...</td>\n",
       "      <td>02fe0ef7-6ddd-4885-aada-e9851fc9f20e</td>\n",
       "      <td>0</td>\n",
       "      <td>FICO</td>\n",
       "      <td>Professional, Scientific, and Technical Services</td>\n",
       "      <td>Custom Computer Programming Services</td>\n",
       "      <td>None</td>\n",
       "      <td>None</td>\n",
       "      <td>None</td>\n",
       "      <td>5</td>\n",
       "      <td>998</td>\n",
       "    </tr>\n",
       "    <tr>\n",
       "      <th>14741</th>\n",
       "      <td>02fe0ef7-6ddd-4885-aada-e9851fc9f20e</td>\n",
       "      <td>1000022135239</td>\n",
       "      <td>484ded0b-e888-4f10-9ac0-bdcfab945c6a</td>\n",
       "      <td>aec90010-515b-4a72-8bfc-ccc7e3a14ea9</td>\n",
       "      <td>bOOb7Z58QYsBpaA113gwi1v96xqwZZhxxea3w</td>\n",
       "      <td>2023-02-01</td>\n",
       "      <td>-13917.0</td>\n",
       "      <td>kLLNQ6zbEYIpE7oKKvbPfzr3P1V0dqtRvw8Ve</td>\n",
       "      <td>False</td>\n",
       "      <td>Payment TGI Friday's Inc 0003Zeewise Inc ACH C...</td>\n",
       "      <td>...</td>\n",
       "      <td>02fe0ef7-6ddd-4885-aada-e9851fc9f20e</td>\n",
       "      <td>0</td>\n",
       "      <td>FICO</td>\n",
       "      <td>Professional, Scientific, and Technical Services</td>\n",
       "      <td>Custom Computer Programming Services</td>\n",
       "      <td>None</td>\n",
       "      <td>None</td>\n",
       "      <td>None</td>\n",
       "      <td>5</td>\n",
       "      <td>998</td>\n",
       "    </tr>\n",
       "    <tr>\n",
       "      <th>3498</th>\n",
       "      <td>02fe0ef7-6ddd-4885-aada-e9851fc9f20e</td>\n",
       "      <td>1000022135239</td>\n",
       "      <td>484ded0b-e888-4f10-9ac0-bdcfab945c6a</td>\n",
       "      <td>8262c255-ab21-4b5f-bb88-fa14b78cde4e</td>\n",
       "      <td>aVVAg78mEYUr84YbbgKoFY1NnOEov6Te88jJw</td>\n",
       "      <td>2023-06-14</td>\n",
       "      <td>-11605.0</td>\n",
       "      <td>kLLNQ6zbEYIpE7oKKvbPfzr3P1V0dqtRvw8Ve</td>\n",
       "      <td>False</td>\n",
       "      <td>Coupa Pay Honor Technology Zeewise Inc ACH CREDIT</td>\n",
       "      <td>...</td>\n",
       "      <td>02fe0ef7-6ddd-4885-aada-e9851fc9f20e</td>\n",
       "      <td>0</td>\n",
       "      <td>FICO</td>\n",
       "      <td>Professional, Scientific, and Technical Services</td>\n",
       "      <td>Custom Computer Programming Services</td>\n",
       "      <td>None</td>\n",
       "      <td>None</td>\n",
       "      <td>None</td>\n",
       "      <td>5</td>\n",
       "      <td>998</td>\n",
       "    </tr>\n",
       "    <tr>\n",
       "      <th>2454</th>\n",
       "      <td>02fe0ef7-6ddd-4885-aada-e9851fc9f20e</td>\n",
       "      <td>1000022135239</td>\n",
       "      <td>484ded0b-e888-4f10-9ac0-bdcfab945c6a</td>\n",
       "      <td>7da675f4-404b-42c1-98c9-68efa8211dee</td>\n",
       "      <td>gnnyQZR8EYIPO5xmmbv6fdvDvRKkzktKkZ4L1</td>\n",
       "      <td>2023-05-09</td>\n",
       "      <td>-9067.0</td>\n",
       "      <td>kLLNQ6zbEYIpE7oKKvbPfzr3P1V0dqtRvw8Ve</td>\n",
       "      <td>False</td>\n",
       "      <td>Payment TGI Friday's Inc 0002Zeewise Inc ACH C...</td>\n",
       "      <td>...</td>\n",
       "      <td>02fe0ef7-6ddd-4885-aada-e9851fc9f20e</td>\n",
       "      <td>0</td>\n",
       "      <td>FICO</td>\n",
       "      <td>Professional, Scientific, and Technical Services</td>\n",
       "      <td>Custom Computer Programming Services</td>\n",
       "      <td>None</td>\n",
       "      <td>None</td>\n",
       "      <td>None</td>\n",
       "      <td>5</td>\n",
       "      <td>998</td>\n",
       "    </tr>\n",
       "    <tr>\n",
       "      <th>9430</th>\n",
       "      <td>02fe0ef7-6ddd-4885-aada-e9851fc9f20e</td>\n",
       "      <td>1000022135239</td>\n",
       "      <td>484ded0b-e888-4f10-9ac0-bdcfab945c6a</td>\n",
       "      <td>670cd978-f119-4d75-a1c9-a0bd47f2c5bf</td>\n",
       "      <td>OkkP389OxYFJedyggqpNtAY5Zgpmg3Tgpw0Mz</td>\n",
       "      <td>2023-02-28</td>\n",
       "      <td>-7010.0</td>\n",
       "      <td>kLLNQ6zbEYIpE7oKKvbPfzr3P1V0dqtRvw8Ve</td>\n",
       "      <td>False</td>\n",
       "      <td>Payment Home Instead Inc ZeewiseInc ACH CREDIT</td>\n",
       "      <td>...</td>\n",
       "      <td>02fe0ef7-6ddd-4885-aada-e9851fc9f20e</td>\n",
       "      <td>0</td>\n",
       "      <td>FICO</td>\n",
       "      <td>Professional, Scientific, and Technical Services</td>\n",
       "      <td>Custom Computer Programming Services</td>\n",
       "      <td>None</td>\n",
       "      <td>None</td>\n",
       "      <td>None</td>\n",
       "      <td>5</td>\n",
       "      <td>998</td>\n",
       "    </tr>\n",
       "    <tr>\n",
       "      <th>13477</th>\n",
       "      <td>02fe0ef7-6ddd-4885-aada-e9851fc9f20e</td>\n",
       "      <td>1000022135239</td>\n",
       "      <td>484ded0b-e888-4f10-9ac0-bdcfab945c6a</td>\n",
       "      <td>452f455d-ca45-4e42-b608-daef5b2b876f</td>\n",
       "      <td>VaarjodQEYc7zqgkkoZEUDw0X8o8jvIakqQoN</td>\n",
       "      <td>2023-01-31</td>\n",
       "      <td>-5825.0</td>\n",
       "      <td>kLLNQ6zbEYIpE7oKKvbPfzr3P1V0dqtRvw8Ve</td>\n",
       "      <td>False</td>\n",
       "      <td>Payment Home Instead Inc ZeewiseInc ACH CREDIT</td>\n",
       "      <td>...</td>\n",
       "      <td>02fe0ef7-6ddd-4885-aada-e9851fc9f20e</td>\n",
       "      <td>0</td>\n",
       "      <td>FICO</td>\n",
       "      <td>Professional, Scientific, and Technical Services</td>\n",
       "      <td>Custom Computer Programming Services</td>\n",
       "      <td>None</td>\n",
       "      <td>None</td>\n",
       "      <td>None</td>\n",
       "      <td>5</td>\n",
       "      <td>998</td>\n",
       "    </tr>\n",
       "    <tr>\n",
       "      <th>16943</th>\n",
       "      <td>02fe0ef7-6ddd-4885-aada-e9851fc9f20e</td>\n",
       "      <td>1000022135239</td>\n",
       "      <td>484ded0b-e888-4f10-9ac0-bdcfab945c6a</td>\n",
       "      <td>4b86c6f9-19e7-49a4-9acc-315c17f58837</td>\n",
       "      <td>E66k9n3by8fKypkLLJwZhdE6NQA8wqtZQXdN9</td>\n",
       "      <td>2022-12-30</td>\n",
       "      <td>-5660.0</td>\n",
       "      <td>kLLNQ6zbEYIpE7oKKvbPfzr3P1V0dqtRvw8Ve</td>\n",
       "      <td>False</td>\n",
       "      <td>Payment Home Instead Inc ZeewiseInc ACH CREDIT</td>\n",
       "      <td>...</td>\n",
       "      <td>02fe0ef7-6ddd-4885-aada-e9851fc9f20e</td>\n",
       "      <td>0</td>\n",
       "      <td>FICO</td>\n",
       "      <td>Professional, Scientific, and Technical Services</td>\n",
       "      <td>Custom Computer Programming Services</td>\n",
       "      <td>None</td>\n",
       "      <td>None</td>\n",
       "      <td>None</td>\n",
       "      <td>5</td>\n",
       "      <td>998</td>\n",
       "    </tr>\n",
       "    <tr>\n",
       "      <th>10149</th>\n",
       "      <td>02fe0ef7-6ddd-4885-aada-e9851fc9f20e</td>\n",
       "      <td>1000022135239</td>\n",
       "      <td>484ded0b-e888-4f10-9ac0-bdcfab945c6a</td>\n",
       "      <td>67f830f9-b483-45d6-a849-9ac4fc48fe7b</td>\n",
       "      <td>QvvxKbEJ8YCZg60qqkA9UwJQ8YxmKVswOa9Pn</td>\n",
       "      <td>2022-12-22</td>\n",
       "      <td>-3000.0</td>\n",
       "      <td>kLLNQ6zbEYIpE7oKKvbPfzr3P1V0dqtRvw8Ve</td>\n",
       "      <td>False</td>\n",
       "      <td>WIRE REF# 20221222-00009545 INCOMING WIRE TRAN...</td>\n",
       "      <td>...</td>\n",
       "      <td>02fe0ef7-6ddd-4885-aada-e9851fc9f20e</td>\n",
       "      <td>0</td>\n",
       "      <td>FICO</td>\n",
       "      <td>Professional, Scientific, and Technical Services</td>\n",
       "      <td>Custom Computer Programming Services</td>\n",
       "      <td>None</td>\n",
       "      <td>None</td>\n",
       "      <td>None</td>\n",
       "      <td>5</td>\n",
       "      <td>998</td>\n",
       "    </tr>\n",
       "  </tbody>\n",
       "</table>\n",
       "<p>8 rows × 35 columns</p>\n",
       "</div>"
      ],
      "text/plain": [
       "                                BUSINESS_ID     ACCOUNT_ID  \\\n",
       "1529   02fe0ef7-6ddd-4885-aada-e9851fc9f20e  1000022135239   \n",
       "14741  02fe0ef7-6ddd-4885-aada-e9851fc9f20e  1000022135239   \n",
       "3498   02fe0ef7-6ddd-4885-aada-e9851fc9f20e  1000022135239   \n",
       "2454   02fe0ef7-6ddd-4885-aada-e9851fc9f20e  1000022135239   \n",
       "9430   02fe0ef7-6ddd-4885-aada-e9851fc9f20e  1000022135239   \n",
       "13477  02fe0ef7-6ddd-4885-aada-e9851fc9f20e  1000022135239   \n",
       "16943  02fe0ef7-6ddd-4885-aada-e9851fc9f20e  1000022135239   \n",
       "10149  02fe0ef7-6ddd-4885-aada-e9851fc9f20e  1000022135239   \n",
       "\n",
       "                        EXTERNAL_ACCOUNT_ID  \\\n",
       "1529   484ded0b-e888-4f10-9ac0-bdcfab945c6a   \n",
       "14741  484ded0b-e888-4f10-9ac0-bdcfab945c6a   \n",
       "3498   484ded0b-e888-4f10-9ac0-bdcfab945c6a   \n",
       "2454   484ded0b-e888-4f10-9ac0-bdcfab945c6a   \n",
       "9430   484ded0b-e888-4f10-9ac0-bdcfab945c6a   \n",
       "13477  484ded0b-e888-4f10-9ac0-bdcfab945c6a   \n",
       "16943  484ded0b-e888-4f10-9ac0-bdcfab945c6a   \n",
       "10149  484ded0b-e888-4f10-9ac0-bdcfab945c6a   \n",
       "\n",
       "                                         ID  \\\n",
       "1529   c9dd00f2-3782-487e-b46e-86ec4e77dab5   \n",
       "14741  aec90010-515b-4a72-8bfc-ccc7e3a14ea9   \n",
       "3498   8262c255-ab21-4b5f-bb88-fa14b78cde4e   \n",
       "2454   7da675f4-404b-42c1-98c9-68efa8211dee   \n",
       "9430   670cd978-f119-4d75-a1c9-a0bd47f2c5bf   \n",
       "13477  452f455d-ca45-4e42-b608-daef5b2b876f   \n",
       "16943  4b86c6f9-19e7-49a4-9acc-315c17f58837   \n",
       "10149  67f830f9-b483-45d6-a849-9ac4fc48fe7b   \n",
       "\n",
       "                              TRANSACTION_ID        DATE   AMOUNT  \\\n",
       "1529   nPP9Qm14nYU0pOR44ZMQCJqP4aYzzqHp8NrwN  2023-05-15 -15050.0   \n",
       "14741  bOOb7Z58QYsBpaA113gwi1v96xqwZZhxxea3w  2023-02-01 -13917.0   \n",
       "3498   aVVAg78mEYUr84YbbgKoFY1NnOEov6Te88jJw  2023-06-14 -11605.0   \n",
       "2454   gnnyQZR8EYIPO5xmmbv6fdvDvRKkzktKkZ4L1  2023-05-09  -9067.0   \n",
       "9430   OkkP389OxYFJedyggqpNtAY5Zgpmg3Tgpw0Mz  2023-02-28  -7010.0   \n",
       "13477  VaarjodQEYc7zqgkkoZEUDw0X8o8jvIakqQoN  2023-01-31  -5825.0   \n",
       "16943  E66k9n3by8fKypkLLJwZhdE6NQA8wqtZQXdN9  2022-12-30  -5660.0   \n",
       "10149  QvvxKbEJ8YCZg60qqkA9UwJQ8YxmKVswOa9Pn  2022-12-22  -3000.0   \n",
       "\n",
       "                            PLAID_ACCOUNT_ID  PENDING  \\\n",
       "1529   kLLNQ6zbEYIpE7oKKvbPfzr3P1V0dqtRvw8Ve    False   \n",
       "14741  kLLNQ6zbEYIpE7oKKvbPfzr3P1V0dqtRvw8Ve    False   \n",
       "3498   kLLNQ6zbEYIpE7oKKvbPfzr3P1V0dqtRvw8Ve    False   \n",
       "2454   kLLNQ6zbEYIpE7oKKvbPfzr3P1V0dqtRvw8Ve    False   \n",
       "9430   kLLNQ6zbEYIpE7oKKvbPfzr3P1V0dqtRvw8Ve    False   \n",
       "13477  kLLNQ6zbEYIpE7oKKvbPfzr3P1V0dqtRvw8Ve    False   \n",
       "16943  kLLNQ6zbEYIpE7oKKvbPfzr3P1V0dqtRvw8Ve    False   \n",
       "10149  kLLNQ6zbEYIpE7oKKvbPfzr3P1V0dqtRvw8Ve    False   \n",
       "\n",
       "                                             DESCRIPTION  ...  \\\n",
       "1529   EDI PYMNTS Honor Technology Zeewise Inc ACH CR...  ...   \n",
       "14741  Payment TGI Friday's Inc 0003Zeewise Inc ACH C...  ...   \n",
       "3498   Coupa Pay Honor Technology Zeewise Inc ACH CREDIT  ...   \n",
       "2454   Payment TGI Friday's Inc 0002Zeewise Inc ACH C...  ...   \n",
       "9430      Payment Home Instead Inc ZeewiseInc ACH CREDIT  ...   \n",
       "13477     Payment Home Instead Inc ZeewiseInc ACH CREDIT  ...   \n",
       "16943     Payment Home Instead Inc ZeewiseInc ACH CREDIT  ...   \n",
       "10149  WIRE REF# 20221222-00009545 INCOMING WIRE TRAN...  ...   \n",
       "\n",
       "                                business_id Ever15plus Source  \\\n",
       "1529   02fe0ef7-6ddd-4885-aada-e9851fc9f20e          0   FICO   \n",
       "14741  02fe0ef7-6ddd-4885-aada-e9851fc9f20e          0   FICO   \n",
       "3498   02fe0ef7-6ddd-4885-aada-e9851fc9f20e          0   FICO   \n",
       "2454   02fe0ef7-6ddd-4885-aada-e9851fc9f20e          0   FICO   \n",
       "9430   02fe0ef7-6ddd-4885-aada-e9851fc9f20e          0   FICO   \n",
       "13477  02fe0ef7-6ddd-4885-aada-e9851fc9f20e          0   FICO   \n",
       "16943  02fe0ef7-6ddd-4885-aada-e9851fc9f20e          0   FICO   \n",
       "10149  02fe0ef7-6ddd-4885-aada-e9851fc9f20e          0   FICO   \n",
       "\n",
       "                                 industry_category_name  \\\n",
       "1529   Professional, Scientific, and Technical Services   \n",
       "14741  Professional, Scientific, and Technical Services   \n",
       "3498   Professional, Scientific, and Technical Services   \n",
       "2454   Professional, Scientific, and Technical Services   \n",
       "9430   Professional, Scientific, and Technical Services   \n",
       "13477  Professional, Scientific, and Technical Services   \n",
       "16943  Professional, Scientific, and Technical Services   \n",
       "10149  Professional, Scientific, and Technical Services   \n",
       "\n",
       "                              industry_name number_of_employees rev_30  \\\n",
       "1529   Custom Computer Programming Services                None   None   \n",
       "14741  Custom Computer Programming Services                None   None   \n",
       "3498   Custom Computer Programming Services                None   None   \n",
       "2454   Custom Computer Programming Services                None   None   \n",
       "9430   Custom Computer Programming Services                None   None   \n",
       "13477  Custom Computer Programming Services                None   None   \n",
       "16943  Custom Computer Programming Services                None   None   \n",
       "10149  Custom Computer Programming Services                None   None   \n",
       "\n",
       "      novo_risk_model_score rs2_bin rs2_score  \n",
       "1529                   None       5       998  \n",
       "14741                  None       5       998  \n",
       "3498                   None       5       998  \n",
       "2454                   None       5       998  \n",
       "9430                   None       5       998  \n",
       "13477                  None       5       998  \n",
       "16943                  None       5       998  \n",
       "10149                  None       5       998  \n",
       "\n",
       "[8 rows x 35 columns]"
      ]
     },
     "execution_count": 120,
     "metadata": {},
     "output_type": "execute_result"
    }
   ],
   "source": [
    "df[df['BUSINESS_ID']=='02fe0ef7-6ddd-4885-aada-e9851fc9f20e'].sort_values(by='AMOUNT')"
   ]
  },
  {
   "cell_type": "code",
   "execution_count": 121,
   "metadata": {},
   "outputs": [
    {
     "data": {
      "text/plain": [
       "250"
      ]
     },
     "execution_count": 121,
     "metadata": {},
     "output_type": "execute_result"
    }
   ],
   "source": [
    "len(df['BUSINESS_ID'].unique())"
   ]
  },
  {
   "cell_type": "code",
   "execution_count": 79,
   "metadata": {},
   "outputs": [
    {
     "data": {
      "text/html": [
       "<div>\n",
       "<style scoped>\n",
       "    .dataframe tbody tr th:only-of-type {\n",
       "        vertical-align: middle;\n",
       "    }\n",
       "\n",
       "    .dataframe tbody tr th {\n",
       "        vertical-align: top;\n",
       "    }\n",
       "\n",
       "    .dataframe thead th {\n",
       "        text-align: right;\n",
       "    }\n",
       "</style>\n",
       "<table border=\"1\" class=\"dataframe\">\n",
       "  <thead>\n",
       "    <tr style=\"text-align: right;\">\n",
       "      <th></th>\n",
       "      <th>business_id</th>\n",
       "      <th>transaction_id</th>\n",
       "      <th>date</th>\n",
       "      <th>amount</th>\n",
       "      <th>description</th>\n",
       "      <th>merchant_name</th>\n",
       "      <th>type</th>\n",
       "      <th>categories</th>\n",
       "      <th>days_from_current</th>\n",
       "      <th>lending_business_id</th>\n",
       "      <th>Ever15plus</th>\n",
       "      <th>Source</th>\n",
       "      <th>industry_category_name</th>\n",
       "      <th>industry_name</th>\n",
       "      <th>number_of_employees</th>\n",
       "      <th>rev_30</th>\n",
       "      <th>novo_risk_model_score</th>\n",
       "      <th>rs2_bin</th>\n",
       "      <th>rs2_score</th>\n",
       "    </tr>\n",
       "  </thead>\n",
       "  <tbody>\n",
       "    <tr>\n",
       "      <th>52323</th>\n",
       "      <td>0171a1ff-d47d-4029-b4b2-c1d2b579b857</td>\n",
       "      <td>qMqDDQ0zx9t11MKOB7pbiZ4po3jwyLC110V6y</td>\n",
       "      <td>2023-05-22</td>\n",
       "      <td>-2500.0</td>\n",
       "      <td>Zelle payment from ARLINE CORREA Conf# cmb7ans9u</td>\n",
       "      <td>None</td>\n",
       "      <td>credit</td>\n",
       "      <td>Transfer,Credit</td>\n",
       "      <td>30</td>\n",
       "      <td>2012588d-a3d2-46c4-8507-46d7e7fd863a</td>\n",
       "      <td>0</td>\n",
       "      <td>GA</td>\n",
       "      <td>Administrative and Support and Waste Managemen...</td>\n",
       "      <td>Travel Agencies</td>\n",
       "      <td>1</td>\n",
       "      <td>1971.8898</td>\n",
       "      <td>620</td>\n",
       "      <td>3</td>\n",
       "      <td>620</td>\n",
       "    </tr>\n",
       "  </tbody>\n",
       "</table>\n",
       "</div>"
      ],
      "text/plain": [
       "                                business_id  \\\n",
       "52323  0171a1ff-d47d-4029-b4b2-c1d2b579b857   \n",
       "\n",
       "                              transaction_id        date  amount  \\\n",
       "52323  qMqDDQ0zx9t11MKOB7pbiZ4po3jwyLC110V6y  2023-05-22 -2500.0   \n",
       "\n",
       "                                            description merchant_name    type  \\\n",
       "52323  Zelle payment from ARLINE CORREA Conf# cmb7ans9u          None  credit   \n",
       "\n",
       "            categories  days_from_current  \\\n",
       "52323  Transfer,Credit                 30   \n",
       "\n",
       "                        lending_business_id  Ever15plus Source  \\\n",
       "52323  2012588d-a3d2-46c4-8507-46d7e7fd863a           0     GA   \n",
       "\n",
       "                                  industry_category_name    industry_name  \\\n",
       "52323  Administrative and Support and Waste Managemen...  Travel Agencies   \n",
       "\n",
       "      number_of_employees     rev_30 novo_risk_model_score rs2_bin rs2_score  \n",
       "52323                   1  1971.8898                   620       3       620  "
      ]
     },
     "execution_count": 79,
     "metadata": {},
     "output_type": "execute_result"
    }
   ],
   "source": [
    "df[df.index == 52323]"
   ]
  },
  {
   "cell_type": "code",
   "execution_count": 86,
   "metadata": {},
   "outputs": [
    {
     "data": {
      "text/html": [
       "<div>\n",
       "<style scoped>\n",
       "    .dataframe tbody tr th:only-of-type {\n",
       "        vertical-align: middle;\n",
       "    }\n",
       "\n",
       "    .dataframe tbody tr th {\n",
       "        vertical-align: top;\n",
       "    }\n",
       "\n",
       "    .dataframe thead th {\n",
       "        text-align: right;\n",
       "    }\n",
       "</style>\n",
       "<table border=\"1\" class=\"dataframe\">\n",
       "  <thead>\n",
       "    <tr style=\"text-align: right;\">\n",
       "      <th></th>\n",
       "      <th>business_id</th>\n",
       "      <th>transaction_id</th>\n",
       "      <th>date</th>\n",
       "      <th>amount</th>\n",
       "      <th>description</th>\n",
       "      <th>merchant_name</th>\n",
       "      <th>type</th>\n",
       "      <th>categories</th>\n",
       "      <th>days_from_current</th>\n",
       "      <th>lending_business_id</th>\n",
       "      <th>Ever15plus</th>\n",
       "      <th>Source</th>\n",
       "      <th>industry_category_name</th>\n",
       "      <th>industry_name</th>\n",
       "      <th>number_of_employees</th>\n",
       "      <th>rev_30</th>\n",
       "      <th>novo_risk_model_score</th>\n",
       "      <th>rs2_bin</th>\n",
       "      <th>rs2_score</th>\n",
       "    </tr>\n",
       "  </thead>\n",
       "  <tbody>\n",
       "  </tbody>\n",
       "</table>\n",
       "</div>"
      ],
      "text/plain": [
       "Empty DataFrame\n",
       "Columns: [business_id, transaction_id, date, amount, description, merchant_name, type, categories, days_from_current, lending_business_id, Ever15plus, Source, industry_category_name, industry_name, number_of_employees, rev_30, novo_risk_model_score, rs2_bin, rs2_score]\n",
       "Index: []"
      ]
     },
     "execution_count": 86,
     "metadata": {},
     "output_type": "execute_result"
    }
   ],
   "source": [
    "df[df['description'].str.contains('greenbox',case=False)]"
   ]
  },
  {
   "cell_type": "code",
   "execution_count": null,
   "metadata": {},
   "outputs": [],
   "source": [
    "loans = ['shopify capital', 'knight', 'expansion', 'payin', 'sba', 'ondeck', 'kabbage', 'bluevine', 'headway', 'prosper', 'onramp','direct capital edi',\\\n",
    "          'lightstream', 'onemain', 'intuit financ', 'ninja', 'good funding', '' ]\n",
    "lenders = ['dreamspring']"
   ]
  }
 ],
 "metadata": {
  "kernelspec": {
   "display_name": "Python 3.10.5 64-bit",
   "language": "python",
   "name": "python3"
  },
  "language_info": {
   "codemirror_mode": {
    "name": "ipython",
    "version": 3
   },
   "file_extension": ".py",
   "mimetype": "text/x-python",
   "name": "python",
   "nbconvert_exporter": "python",
   "pygments_lexer": "ipython3",
   "version": "3.10.5"
  },
  "orig_nbformat": 4,
  "vscode": {
   "interpreter": {
    "hash": "aee8b7b246df8f9039afb4144a1f6fd8d2ca17a180786b69acc140d282b71a49"
   }
  }
 },
 "nbformat": 4,
 "nbformat_minor": 2
}
