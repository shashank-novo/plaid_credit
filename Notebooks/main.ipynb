{
 "cells": [
  {
   "cell_type": "code",
   "execution_count": 1,
   "metadata": {},
   "outputs": [
    {
     "name": "stdout",
     "output_type": "stream",
     "text": [
      "/Users/shashankgupta/Documents/code/git_project/plaid_credit\n",
      "/Users/shashankgupta/Documents/code/git_project/plaid_credit/Code\n"
     ]
    }
   ],
   "source": [
    "import os \n",
    "cwd = os.getcwd()\n",
    "\n",
    "os.chdir('../')\n",
    "cwd = os.getcwd()\n",
    "print(cwd)\n",
    "\n",
    "os.chdir('./code/')\n",
    "cwd = os.getcwd()\n",
    "print(cwd)\n",
    "\n",
    "import pandas as pd \n",
    "import numpy as np \n",
    "import seaborn as sns\n",
    "\n",
    "import pickle \n",
    "import logging\n",
    "\n",
    "\n",
    "# from config.config import SQLQuery\n",
    "# querySno = SQLQuery('snowflake')"
   ]
  },
  {
   "cell_type": "code",
   "execution_count": 2,
   "metadata": {},
   "outputs": [],
   "source": [
    "from preprocess import Convert,MissingValues,Outlier,FeatureSelection\n",
    "from feature_transformation import Scaler,Transform,Selection\n",
    "from model_building import split_test_train, feature_encoding, classification_models\n",
    "from model_evaluations import model_metrics, feature_importance, probability_bins, cross_validation\n",
    "from sklearn.preprocessing import StandardScaler, MinMaxScaler, RobustScaler, Normalizer\n",
    "\n",
    "from statsmodels.stats.outliers_influence import variance_inflation_factor\n",
    "\n",
    "# object initiation \n",
    "tf = Transform()\n",
    "sel = Selection()\n",
    "ft = FeatureSelection()\n",
    "cv = Convert()\n",
    "mv = MissingValues()\n",
    "ot = Outlier()\n",
    "\n",
    "# set seed\n",
    "seed = 9"
   ]
  },
  {
   "cell_type": "code",
   "execution_count": 3,
   "metadata": {},
   "outputs": [],
   "source": [
    "corr_arr = 0.4 # person correlation coefficient # change it to 0.5\n",
    "vif_arr = 5 # vif coefficient\n",
    "features_arr = 10 # total number of features to be selected from backward feature selection\n",
    "iv_upper_limit = 0.5 # upper threshold of iv # change it to 0.6\n",
    "iv_lower_limit = 0.02 # lower threshold of iv"
   ]
  },
  {
   "cell_type": "code",
   "execution_count": 4,
   "metadata": {},
   "outputs": [
    {
     "data": {
      "text/plain": [
       "(646, 243)"
      ]
     },
     "execution_count": 4,
     "metadata": {},
     "output_type": "execute_result"
    }
   ],
   "source": [
    "df_raw = pd.read_pickle('/Users/shashankgupta/Documents/code/git_project/plaid_credit/data/final_dataset.pkl')\n",
    "df_raw.shape"
   ]
  },
  {
   "cell_type": "code",
   "execution_count": 5,
   "metadata": {},
   "outputs": [
    {
     "data": {
      "text/plain": [
       "Index(['business_id', 'lending_business_id', 'decision_date', 'drawn_flag',\n",
       "       'everDPD_15', 'fico_score', 'target', 'loans_flag', 'payroll_flag',\n",
       "       'pos_flag',\n",
       "       ...\n",
       "       'sum_credits_grt_1500_6M', 'ratio_credits_lessthan_100_1M_3M',\n",
       "       'ratio_credits_lessthan_100_1M_6M', 'ratio_credits_grt_500_1M_3M',\n",
       "       'ratio_credits_grt_500_1M_6M', 'ratio_credits_grt_1500_1M_3M',\n",
       "       'ratio_credits_grt_1500_1M_6M', 'txn_each_mth_flag',\n",
       "       'txn_grt_100_each_mth_flag', 'txn_flag'],\n",
       "      dtype='object', length=243)"
      ]
     },
     "execution_count": 5,
     "metadata": {},
     "output_type": "execute_result"
    }
   ],
   "source": [
    "df_raw.columns"
   ]
  },
  {
   "cell_type": "code",
   "execution_count": 6,
   "metadata": {},
   "outputs": [
    {
     "data": {
      "text/plain": [
       "txn_flag\n",
       "1.0    637\n",
       "0.0      9\n",
       "Name: count, dtype: int64"
      ]
     },
     "execution_count": 6,
     "metadata": {},
     "output_type": "execute_result"
    }
   ],
   "source": [
    "df_raw['txn_flag'].value_counts()"
   ]
  },
  {
   "cell_type": "code",
   "execution_count": 7,
   "metadata": {},
   "outputs": [
    {
     "data": {
      "text/plain": [
       "(637, 243)"
      ]
     },
     "execution_count": 7,
     "metadata": {},
     "output_type": "execute_result"
    }
   ],
   "source": [
    "df_raw = df_raw[df_raw['txn_flag']==1]\n",
    "df_raw.shape"
   ]
  },
  {
   "cell_type": "code",
   "execution_count": 8,
   "metadata": {},
   "outputs": [
    {
     "data": {
      "text/plain": [
       "(637, 236)"
      ]
     },
     "execution_count": 8,
     "metadata": {},
     "output_type": "execute_result"
    }
   ],
   "source": [
    "df_raw = df_raw.drop(['business_id', 'lending_business_id','decision_date','drawn_flag', 'everDPD_15', 'fico_score','txn_flag'], axis=1)\n",
    "df_raw.shape"
   ]
  },
  {
   "cell_type": "code",
   "execution_count": 70,
   "metadata": {},
   "outputs": [
    {
     "data": {
      "text/html": [
       "<div>\n",
       "<style scoped>\n",
       "    .dataframe tbody tr th:only-of-type {\n",
       "        vertical-align: middle;\n",
       "    }\n",
       "\n",
       "    .dataframe tbody tr th {\n",
       "        vertical-align: top;\n",
       "    }\n",
       "\n",
       "    .dataframe thead th {\n",
       "        text-align: right;\n",
       "    }\n",
       "</style>\n",
       "<table border=\"1\" class=\"dataframe\">\n",
       "  <thead>\n",
       "    <tr style=\"text-align: right;\">\n",
       "      <th></th>\n",
       "      <th>credit_size_3M</th>\n",
       "      <th>median_credit_amt_3M</th>\n",
       "      <th>stddev_credit_amt_3M</th>\n",
       "      <th>target</th>\n",
       "    </tr>\n",
       "  </thead>\n",
       "  <tbody>\n",
       "    <tr>\n",
       "      <th>0</th>\n",
       "      <td>1330.152857</td>\n",
       "      <td>140.000</td>\n",
       "      <td>3265.835892</td>\n",
       "      <td>0</td>\n",
       "    </tr>\n",
       "    <tr>\n",
       "      <th>1</th>\n",
       "      <td>780.922941</td>\n",
       "      <td>500.000</td>\n",
       "      <td>869.793709</td>\n",
       "      <td>0</td>\n",
       "    </tr>\n",
       "    <tr>\n",
       "      <th>2</th>\n",
       "      <td>6823.550000</td>\n",
       "      <td>13647.100</td>\n",
       "      <td>NaN</td>\n",
       "      <td>0</td>\n",
       "    </tr>\n",
       "    <tr>\n",
       "      <th>3</th>\n",
       "      <td>3442.870769</td>\n",
       "      <td>4249.995</td>\n",
       "      <td>2372.763887</td>\n",
       "      <td>0</td>\n",
       "    </tr>\n",
       "    <tr>\n",
       "      <th>4</th>\n",
       "      <td>833.333333</td>\n",
       "      <td>1250.000</td>\n",
       "      <td>353.553391</td>\n",
       "      <td>0</td>\n",
       "    </tr>\n",
       "    <tr>\n",
       "      <th>...</th>\n",
       "      <td>...</td>\n",
       "      <td>...</td>\n",
       "      <td>...</td>\n",
       "      <td>...</td>\n",
       "    </tr>\n",
       "    <tr>\n",
       "      <th>641</th>\n",
       "      <td>615.698250</td>\n",
       "      <td>200.000</td>\n",
       "      <td>1151.705632</td>\n",
       "      <td>0</td>\n",
       "    </tr>\n",
       "    <tr>\n",
       "      <th>642</th>\n",
       "      <td>1133.936857</td>\n",
       "      <td>933.665</td>\n",
       "      <td>1036.449283</td>\n",
       "      <td>0</td>\n",
       "    </tr>\n",
       "    <tr>\n",
       "      <th>643</th>\n",
       "      <td>9604.730000</td>\n",
       "      <td>14887.440</td>\n",
       "      <td>7583.423561</td>\n",
       "      <td>1</td>\n",
       "    </tr>\n",
       "    <tr>\n",
       "      <th>644</th>\n",
       "      <td>7.240000</td>\n",
       "      <td>10.760</td>\n",
       "      <td>5.110669</td>\n",
       "      <td>1</td>\n",
       "    </tr>\n",
       "    <tr>\n",
       "      <th>645</th>\n",
       "      <td>1102.221939</td>\n",
       "      <td>269.000</td>\n",
       "      <td>5501.979303</td>\n",
       "      <td>0</td>\n",
       "    </tr>\n",
       "  </tbody>\n",
       "</table>\n",
       "<p>637 rows × 4 columns</p>\n",
       "</div>"
      ],
      "text/plain": [
       "     credit_size_3M  median_credit_amt_3M  stddev_credit_amt_3M target\n",
       "0       1330.152857               140.000           3265.835892      0\n",
       "1        780.922941               500.000            869.793709      0\n",
       "2       6823.550000             13647.100                   NaN      0\n",
       "3       3442.870769              4249.995           2372.763887      0\n",
       "4        833.333333              1250.000            353.553391      0\n",
       "..              ...                   ...                   ...    ...\n",
       "641      615.698250               200.000           1151.705632      0\n",
       "642     1133.936857               933.665           1036.449283      0\n",
       "643     9604.730000             14887.440           7583.423561      1\n",
       "644        7.240000                10.760              5.110669      1\n",
       "645     1102.221939               269.000           5501.979303      0\n",
       "\n",
       "[637 rows x 4 columns]"
      ]
     },
     "execution_count": 70,
     "metadata": {},
     "output_type": "execute_result"
    }
   ],
   "source": [
    "df_raw[['credit_size_3M', 'median_credit_amt_3M', 'stddev_credit_amt_3M','target']]"
   ]
  },
  {
   "cell_type": "code",
   "execution_count": 9,
   "metadata": {},
   "outputs": [
    {
     "name": "stdout",
     "output_type": "stream",
     "text": [
      "x_train.shape = (445, 235) | y_train.shape = (445,) | x_test.shape = (192, 235) | y_test.shape = (192,)\n"
     ]
    }
   ],
   "source": [
    "## train-test split\n",
    "\n",
    "# train test split\n",
    "x_train, y_train, x_test, y_test = split_test_train(df_raw, target_column='target', test_size=0.3, random_state=seed)\n",
    "print(f'{x_train.shape = }', '|' ,f'{y_train.shape = }', '|' ,f'{x_test.shape = }', '|' ,f'{y_test.shape = }')\n",
    "\n",
    "\n",
    "# copy to df\n",
    "df = x_train.copy(deep=True)"
   ]
  },
  {
   "cell_type": "code",
   "execution_count": 10,
   "metadata": {},
   "outputs": [
    {
     "data": {
      "text/plain": [
       "(445, 235)"
      ]
     },
     "execution_count": 10,
     "metadata": {},
     "output_type": "execute_result"
    }
   ],
   "source": [
    "# get constant features\n",
    "def get_const_features(df):\n",
    "    const_list = []\n",
    "    for col in df.columns: \n",
    "        if (len(df[col].unique())==1):\n",
    "            const_list.append(col)\n",
    "    return(const_list)\n",
    "\n",
    "# remove constant features\n",
    "const_list = get_const_features(df)\n",
    "df = df.drop(columns=const_list)\n",
    "df.shape"
   ]
  },
  {
   "cell_type": "code",
   "execution_count": 11,
   "metadata": {},
   "outputs": [
    {
     "data": {
      "text/plain": [
       "(445, 226)"
      ]
     },
     "execution_count": 11,
     "metadata": {},
     "output_type": "execute_result"
    }
   ],
   "source": [
    "# get quasi-constant features\n",
    "def get_quasi_const_features(df, threshold=0.01):\n",
    "    qconst_list = []\n",
    "    for col in df.columns: \n",
    "        if (df[col].var() <= threshold):\n",
    "            qconst_list.append(col)\n",
    "    return(qconst_list)\n",
    "\n",
    "# remove constant features\n",
    "qconst_list = get_quasi_const_features(df, threshold=0.01)\n",
    "df = df.drop(columns=qconst_list)\n",
    "df.shape"
   ]
  },
  {
   "cell_type": "code",
   "execution_count": 12,
   "metadata": {},
   "outputs": [
    {
     "data": {
      "text/html": [
       "<div>\n",
       "<style scoped>\n",
       "    .dataframe tbody tr th:only-of-type {\n",
       "        vertical-align: middle;\n",
       "    }\n",
       "\n",
       "    .dataframe tbody tr th {\n",
       "        vertical-align: top;\n",
       "    }\n",
       "\n",
       "    .dataframe thead th {\n",
       "        text-align: right;\n",
       "    }\n",
       "</style>\n",
       "<table border=\"1\" class=\"dataframe\">\n",
       "  <thead>\n",
       "    <tr style=\"text-align: right;\">\n",
       "      <th></th>\n",
       "      <th>percent_missing</th>\n",
       "    </tr>\n",
       "  </thead>\n",
       "  <tbody>\n",
       "    <tr>\n",
       "      <th>stddev_loans_amt_1M</th>\n",
       "      <td>96.179775</td>\n",
       "    </tr>\n",
       "    <tr>\n",
       "      <th>stddev_ecom_amt_1M</th>\n",
       "      <td>93.033708</td>\n",
       "    </tr>\n",
       "    <tr>\n",
       "      <th>stddev_loans_amt_3M</th>\n",
       "      <td>91.235955</td>\n",
       "    </tr>\n",
       "    <tr>\n",
       "      <th>ratio_stddev_loan_amt_3M_6M</th>\n",
       "      <td>91.235955</td>\n",
       "    </tr>\n",
       "    <tr>\n",
       "      <th>loans_amt_1M</th>\n",
       "      <td>91.011236</td>\n",
       "    </tr>\n",
       "    <tr>\n",
       "      <th>...</th>\n",
       "      <td>...</td>\n",
       "    </tr>\n",
       "    <tr>\n",
       "      <th>third_party_flag</th>\n",
       "      <td>0.000000</td>\n",
       "    </tr>\n",
       "    <tr>\n",
       "      <th>ecom_flag</th>\n",
       "      <td>0.000000</td>\n",
       "    </tr>\n",
       "    <tr>\n",
       "      <th>pos_flag</th>\n",
       "      <td>0.000000</td>\n",
       "    </tr>\n",
       "    <tr>\n",
       "      <th>txn_each_mth_flag</th>\n",
       "      <td>0.000000</td>\n",
       "    </tr>\n",
       "    <tr>\n",
       "      <th>loans_flag</th>\n",
       "      <td>0.000000</td>\n",
       "    </tr>\n",
       "  </tbody>\n",
       "</table>\n",
       "<p>226 rows × 1 columns</p>\n",
       "</div>"
      ],
      "text/plain": [
       "                             percent_missing\n",
       "stddev_loans_amt_1M                96.179775\n",
       "stddev_ecom_amt_1M                 93.033708\n",
       "stddev_loans_amt_3M                91.235955\n",
       "ratio_stddev_loan_amt_3M_6M        91.235955\n",
       "loans_amt_1M                       91.011236\n",
       "...                                      ...\n",
       "third_party_flag                    0.000000\n",
       "ecom_flag                           0.000000\n",
       "pos_flag                            0.000000\n",
       "txn_each_mth_flag                   0.000000\n",
       "loans_flag                          0.000000\n",
       "\n",
       "[226 rows x 1 columns]"
      ]
     },
     "execution_count": 12,
     "metadata": {},
     "output_type": "execute_result"
    }
   ],
   "source": [
    "# view missing values\n",
    "def missing_value(df):\n",
    "    percent_missing = df.isnull().sum() * 100 / len(df)\n",
    "    missing_val_df = pd.DataFrame({'percent_missing': percent_missing})\n",
    "    missing_val_df.sort_values(by='percent_missing', ascending=False, inplace=True)\n",
    "    return missing_val_df\n",
    "\n",
    "missing_value(df)"
   ]
  },
  {
   "cell_type": "code",
   "execution_count": 13,
   "metadata": {},
   "outputs": [
    {
     "data": {
      "text/plain": [
       "(445, 187)"
      ]
     },
     "execution_count": 13,
     "metadata": {},
     "output_type": "execute_result"
    }
   ],
   "source": [
    "t = missing_value(df)\n",
    "drop_cols = list(t[t['percent_missing']>80].index)\n",
    "df.drop(drop_cols,axis=1,inplace=True)\n",
    "df.shape"
   ]
  },
  {
   "cell_type": "code",
   "execution_count": 14,
   "metadata": {},
   "outputs": [],
   "source": [
    "# Treating missing values\n",
    "df = df.fillna(0)"
   ]
  },
  {
   "cell_type": "code",
   "execution_count": 15,
   "metadata": {},
   "outputs": [
    {
     "name": "stdout",
     "output_type": "stream",
     "text": [
      "{'float64': 187}\n",
      "10\n",
      "177\n"
     ]
    }
   ],
   "source": [
    "# get boolean columns\n",
    "def findbool(df):\n",
    "    bool_arr = []\n",
    "    for col in df.columns: \n",
    "        if (len(df[col].unique())<=2):\n",
    "            bool_arr.append(col)\n",
    "    return(bool_arr)\n",
    "\n",
    "# get datatypes frequency\n",
    "def get_datatypes_freq(df):\n",
    "    type_dct = {str(k): list(v) for k, v in df.groupby(df.dtypes, axis=1)}\n",
    "    type_dct_info = {k: len(v) for k, v in type_dct.items()}\n",
    "    return type_dct, type_dct_info\n",
    "\n",
    "type_dct, type_dct_info = get_datatypes_freq(df)\n",
    "print(type_dct_info)\n",
    "\n",
    "bool_col_list = findbool(df)\n",
    "print(len(bool_col_list))\n",
    "\n",
    "type_dct, type_dct_info = get_datatypes_freq(df)\n",
    "col_list = (type_dct['float64'])\n",
    "col_list_excpt_bool = [column for column in col_list if column not in bool_col_list]\n",
    "print(len(col_list_excpt_bool))"
   ]
  },
  {
   "cell_type": "code",
   "execution_count": 16,
   "metadata": {},
   "outputs": [],
   "source": [
    "## iv_woe\n",
    "\n",
    "def iv_woe(data, target, bins=10, show_woe=False):\n",
    "    \n",
    "    #Empty Dataframe\n",
    "    newDF,woeDF = pd.DataFrame(), pd.DataFrame()\n",
    "    \n",
    "    #Extract Column Names\n",
    "    cols = data.columns\n",
    "    \n",
    "    #Run WOE and IV on all the independent variables\n",
    "    for ivars in cols[~cols.isin([target])]:\n",
    "        if (data[ivars].dtype.kind in 'bifc') and (len(np.unique(data[ivars]))>10):\n",
    "            binned_x = pd.qcut(data[ivars], bins,  duplicates='drop')\n",
    "            d0 = pd.DataFrame({'x': binned_x, 'y': data[target]})\n",
    "        else:\n",
    "            d0 = pd.DataFrame({'x': data[ivars], 'y': data[target]})\n",
    "\n",
    "        \n",
    "        # Calculate the number of events in each group (bin)\n",
    "        d = d0.groupby(\"x\", as_index=False).agg({\"y\": [\"count\", \"sum\"]})\n",
    "        d.columns = ['Cutoff', 'N', 'Events']\n",
    "        \n",
    "        # Calculate % of events in each group.\n",
    "        d['% of Events'] = np.maximum(d['Events'], 0.5) / d['Events'].sum()\n",
    "\n",
    "        # Calculate the non events in each group.\n",
    "        d['Non-Events'] = d['N'] - d['Events']\n",
    "        # Calculate % of non events in each group.\n",
    "        d['% of Non-Events'] = np.maximum(d['Non-Events'], 0.5) / d['Non-Events'].sum()\n",
    "\n",
    "        # Calculate WOE by taking natural log of division of % of non-events and % of events\n",
    "        d['WoE'] = np.log(d['% of Events']/d['% of Non-Events'])\n",
    "        d['IV'] = d['WoE'] * (d['% of Events'] - d['% of Non-Events'])\n",
    "        d.insert(loc=0, column='Variable', value=ivars)\n",
    "        print(\"Information value of \" + ivars + \" is \" + str(round(d['IV'].sum(),6)))\n",
    "        temp =pd.DataFrame({\"Variable\" : [ivars], \"IV\" : [d['IV'].sum()]}, columns = [\"Variable\", \"IV\"])\n",
    "        newDF=pd.concat([newDF,temp], axis=0)\n",
    "        woeDF=pd.concat([woeDF,d], axis=0)\n",
    "\n",
    "        #Show WOE Table\n",
    "        if show_woe == True:\n",
    "            print(d)\n",
    "    return newDF, woeDF"
   ]
  },
  {
   "cell_type": "code",
   "execution_count": 17,
   "metadata": {},
   "outputs": [
    {
     "name": "stdout",
     "output_type": "stream",
     "text": [
      "Information value of total_credit_count_1M is 0.046417\n",
      "Information value of total_credit_count_3M is 0.123842\n",
      "Information value of total_credit_count_6M is 0.106814\n",
      "Information value of total_credit_amt_1M is 0.039476\n",
      "Information value of total_credit_amt_3M is 0.087181\n",
      "Information value of total_credit_amt_6M is 0.046794\n",
      "Information value of credit_size_1M is 0.117904\n",
      "Information value of credit_size_3M is 0.286985\n",
      "Information value of credit_size_6M is 0.244407\n",
      "Information value of stddev_credit_amt_1M is 0.142908\n",
      "Information value of median_credit_amt_1M is 0.14747\n",
      "Information value of stddev_credit_amt_3M is 0.151783\n",
      "Information value of median_credit_amt_3M is 0.195674\n",
      "Information value of stddev_credit_amt_6M is 0.090132\n",
      "Information value of median_credit_amt_6M is 0.254997\n",
      "Information value of ratio_stddev_credit_amt_1M_6M is 0.042563\n",
      "Information value of ratio_stddev_credit_amt_1M_3M is 0.016118\n",
      "Information value of ratio_median_credit_amt_1M_6M is 0.056231\n",
      "Information value of ratio_median_credit_amt_1M_3M is 0.05263\n",
      "Information value of loans_amt_6M is 0.023398\n",
      "Information value of loans_count_6M is 0.034076\n",
      "Information value of median_loans_amt_6M is 0.023398\n",
      "Information value of payroll_amt_6M is 0.024865\n",
      "Information value of payroll_count_6M is 0.005915\n",
      "Information value of median_payroll_amt_6M is 0.024862\n",
      "Information value of stddev_payroll_amt_6M is 0.064408\n",
      "Information value of pos_amt_6M is 0.124942\n",
      "Information value of pos_count_6M is 0.060484\n",
      "Information value of median_pos_amt_6M is 0.165416\n",
      "Information value of stddev_pos_amt_6M is 0.183267\n",
      "Information value of ecom_amt_6M is 0.097237\n",
      "Information value of ecom_count_6M is 0.059462\n",
      "Information value of median_ecom_amt_6M is 0.117647\n",
      "Information value of stddev_ecom_amt_6M is 0.117647\n",
      "Information value of third_party_amt_6M is 0.050978\n",
      "Information value of third_party_count_6M is 0.1205\n",
      "Information value of median_third_party_amt_6M is 0.054732\n",
      "Information value of stddev_third_party_amt_6M is 0.044395\n",
      "Information value of service_amt_6M is 0.031718\n",
      "Information value of service_count_6M is 0.036077\n",
      "Information value of median_service_amt_6M is 0.082993\n",
      "Information value of stddev_service_amt_6M is 0.024148\n",
      "Information value of shops_amt_6M is 0.024596\n",
      "Information value of shops_count_6M is 0.023586\n",
      "Information value of median_shops_amt_6M is 0.072024\n",
      "Information value of stddev_shops_amt_6M is 0.002936\n",
      "Information value of ach_amt_6M is 0.002936\n",
      "Information value of ach_count_6M is 8.1e-05\n",
      "Information value of median_ach_amt_6M is 0.002352\n",
      "Information value of stddev_ach_amt_6M is 0.000419\n",
      "Information value of payroll_amt_3M is 0.02717\n",
      "Information value of payroll_count_3M is 0.031411\n",
      "Information value of median_payroll_amt_3M is 0.015042\n",
      "Information value of stddev_payroll_amt_3M is 0.02457\n",
      "Information value of pos_amt_3M is 0.039683\n",
      "Information value of pos_count_3M is 0.032695\n",
      "Information value of median_pos_amt_3M is 0.128121\n",
      "Information value of stddev_pos_amt_3M is 0.07475\n",
      "Information value of ecom_amt_3M is 0.061982\n",
      "Information value of ecom_count_3M is 0.036288\n",
      "Information value of median_ecom_amt_3M is 0.014495\n",
      "Information value of third_party_amt_3M is 0.050978\n",
      "Information value of third_party_count_3M is 0.092285\n",
      "Information value of median_third_party_amt_3M is 0.088849\n",
      "Information value of stddev_third_party_amt_3M is 0.030494\n",
      "Information value of service_amt_3M is 0.122403\n",
      "Information value of service_count_3M is 0.026231\n",
      "Information value of median_service_amt_3M is 0.047977\n",
      "Information value of stddev_service_amt_3M is 0.002352\n",
      "Information value of shops_amt_3M is 0.08739\n",
      "Information value of shops_count_3M is 0.022842\n",
      "Information value of median_shops_amt_3M is 0.049321\n",
      "Information value of stddev_shops_amt_3M is 0.002352\n",
      "Information value of ach_amt_3M is 0.002936\n",
      "Information value of ach_count_3M is 0.002421\n",
      "Information value of median_ach_amt_3M is 0.000419\n",
      "Information value of payroll_amt_1M is 0.02457\n",
      "Information value of payroll_count_1M is 0.000977\n",
      "Information value of median_payroll_amt_1M is 0.02457\n",
      "Information value of stddev_payroll_amt_1M is 0.000419\n",
      "Information value of pos_amt_1M is 0.052024\n",
      "Information value of pos_count_1M is 0.004532\n",
      "Information value of median_pos_amt_1M is 0.055576\n",
      "Information value of stddev_pos_amt_1M is 0.02457\n",
      "Information value of third_party_amt_1M is 0.034309\n",
      "Information value of third_party_count_1M is 0.039478\n",
      "Information value of median_third_party_amt_1M is 0.098737\n",
      "Information value of stddev_third_party_amt_1M is 0.002936\n",
      "Information value of service_amt_1M is 0.000189\n",
      "Information value of service_count_1M is 0.002148\n",
      "Information value of median_service_amt_1M is 0.002352\n",
      "Information value of shops_amt_1M is 0.000419\n",
      "Information value of shops_count_1M is 1.8e-05\n",
      "Information value of median_shops_amt_1M is 0.000419\n",
      "Information value of payroll_size_1M is 0.054417\n",
      "Information value of pos_size_1M is 0.038154\n",
      "Information value of service_size_1M is 0.007031\n",
      "Information value of shops_size_1M is 0.000189\n",
      "Information value of payroll_size_3M is 0.02717\n",
      "Information value of pos_size_3M is 0.113325\n",
      "Information value of ecom_size_3M is 0.034309\n",
      "Information value of service_size_3M is 0.06234\n",
      "Information value of shops_size_3M is 0.098687\n",
      "Information value of ach_size_3M is 0.002936\n",
      "Information value of loans_size_6M is 0.014495\n",
      "Information value of payroll_size_6M is 0.0589\n",
      "Information value of pos_size_6M is 0.244945\n",
      "Information value of ecom_size_6M is 0.139891\n",
      "Information value of service_size_6M is 0.072024\n",
      "Information value of shops_size_6M is 0.06821\n",
      "Information value of ach_size_6M is 0.000419\n",
      "Information value of ratio_payroll_size_1M_6M is 0.002352\n",
      "Information value of ratio_pos_size_1M_6M is 0.012\n",
      "Information value of ratio_service_size_1M_6M is 0.000419\n",
      "Information value of ratio_shops_size_1M_6M is 0.007653\n",
      "Information value of ratio_payroll_size_1M_3M is 0.000419\n",
      "Information value of ratio_pos_size_1M_3M is 0.012\n",
      "Information value of ratio_service_size__1M_3M is 0.007653\n",
      "Information value of ratio_shops_size_1M_3M is 0.014495\n",
      "Information value of ratio_median_payroll_amt_3M_6M is 0.008256\n",
      "Information value of ratio_median_pos_amt_3M_6M is 0.012\n",
      "Information value of ratio_median_ecom_amt_3M_6M is 0.023398\n",
      "Information value of ratio_median_third_party_amt_3M_6M is 0.079557\n",
      "Information value of ratio_median_service_amt_3M_6M is 0.080985\n",
      "Information value of ratio_median_shops_amt_3M_6M is 0.098687\n",
      "Information value of ratio_median_ach_amt_3M_6M is 0.037826\n",
      "Information value of ratio_stddev_payroll_amt_3M_6M is 0.002352\n",
      "Information value of ratio_stddev_pos_amt_3M_6M is 0.027552\n",
      "Information value of ratio_stddev_third_party_amt_3M_6M is 0.06647\n",
      "Information value of ratio_stddev_service_amt_3M_6M is 0.014495\n",
      "Information value of ratio_stddev_shops_amt_3M_6M is 0.002936\n",
      "Information value of ratio_payroll_size_credit_size_1M is 0.002936\n",
      "Information value of ratio_pos_size_credit_size_1M is 0.020596\n",
      "Information value of ratio_service_size_credit_size_1M is 0.007653\n",
      "Information value of ratio_shops_size_credit_size_1M is 0.007653\n",
      "Information value of ratio_payroll_size_credit_size_3M is 0.017954\n",
      "Information value of ratio_pos_size_credit_size_3M is 0.027265\n",
      "Information value of ratio_ecom_size_credit_size_3M is 0.034309\n",
      "Information value of ratio_service_size_credit_size_3M is 0.065104\n",
      "Information value of ratio_shops_size_credit_size_3M is 0.070538\n",
      "Information value of ratio_ach_size_credit_size_3M is 0.007653\n",
      "Information value of ratio_loans_size_credit_size_6M is 0.023398\n",
      "Information value of ratio_payroll_size_credit_size_6M is 0.082993\n",
      "Information value of ratio_pos_size_credit_size_6M is 0.101512\n",
      "Information value of ratio_ecom_size_credit_size_6M is 0.163957\n",
      "Information value of ratio_service_size_credit_size_6M is 0.051582\n",
      "Information value of ratio_shops_size_credit_size_6M is 0.04727\n",
      "Information value of ratio_ach_size_credit_size_6M is 0.002936\n",
      "Information value of count_credits_lessthan_100_1M is 0.112666\n",
      "Information value of sum_credits_lessthan_100_1M is 0.155921\n",
      "Information value of count_credits_100_to_500_1M is 0.05544\n",
      "Information value of sum_credits_100_to_500_1M is 0.07538\n",
      "Information value of count_credits_grt_500_1M is 0.024608\n",
      "Information value of sum_credits_grt_500_1M is 0.07782\n",
      "Information value of count_credits_grt_1500_1M is 0.047626\n",
      "Information value of sum_credits_grt_1500_1M is 0.062646\n",
      "Information value of count_credits_lessthan_100_3M is 0.13311\n",
      "Information value of sum_credits_lessthan_100_3M is 0.169437\n",
      "Information value of count_credits_100_to_500_3M is 0.125503\n",
      "Information value of sum_credits_100_to_500_3M is 0.098917\n",
      "Information value of count_credits_grt_500_3M is 0.051962\n",
      "Information value of sum_credits_grt_500_3M is 0.126578\n",
      "Information value of count_credits_grt_1500_3M is 0.049676\n",
      "Information value of sum_credits_grt_1500_3M is 0.101139\n",
      "Information value of count_credits_lessthan_100_6M is 0.118544\n",
      "Information value of sum_credits_lessthan_100_6M is 0.18297\n",
      "Information value of count_credits_100_to_500_6M is 0.088252\n",
      "Information value of sum_credits_100_to_500_6M is 0.095597\n",
      "Information value of count_credits_grt_500_6M is 0.063442\n",
      "Information value of sum_credits_grt_500_6M is 0.096474\n",
      "Information value of count_credits_grt_1500_6M is 0.117989\n",
      "Information value of sum_credits_grt_1500_6M is 0.081223\n",
      "Information value of ratio_credits_lessthan_100_1M_3M is 0.023371\n",
      "Information value of ratio_credits_lessthan_100_1M_6M is 0.003004\n",
      "Information value of ratio_credits_grt_500_1M_3M is 0.029344\n",
      "Information value of ratio_credits_grt_1500_1M_3M is 0.029576\n",
      "Information value of ratio_credits_grt_1500_1M_6M is 0.02416\n"
     ]
    },
    {
     "data": {
      "text/plain": [
       "128"
      ]
     },
     "execution_count": 17,
     "metadata": {},
     "output_type": "execute_result"
    }
   ],
   "source": [
    "# remove features on basis of IV\n",
    "# y_train.reset_index(drop=True, inplace=True)\n",
    "df['target'] = y_train\n",
    "df['target'] = df['target'].astype(float)\n",
    "temp = df.copy()\n",
    "\n",
    "t1, t2 = iv_woe(temp[np.append(col_list_excpt_bool,['target'])], 'target', bins=5, show_woe=False)\n",
    "feature_list = list(t1[ (t1['IV']<iv_upper_limit) & (t1['IV']>iv_lower_limit) ]['Variable'].values)\n",
    "len(feature_list)"
   ]
  },
  {
   "cell_type": "code",
   "execution_count": 18,
   "metadata": {},
   "outputs": [
    {
     "data": {
      "text/plain": [
       "28"
      ]
     },
     "execution_count": 18,
     "metadata": {},
     "output_type": "execute_result"
    }
   ],
   "source": [
    "# view correlation\n",
    "corr_df, subset_df = sel.get_correlated_features(df, feature_list, thresh=corr_arr)\n",
    "corr_df\n",
    "\n",
    "\n",
    "# remove correlated features\n",
    "feature_list = sel.corr_iter(df, np.array(feature_list), thresh=corr_arr)\n",
    "feature_list = list(feature_list)\n",
    "len(feature_list)"
   ]
  },
  {
   "cell_type": "code",
   "execution_count": 73,
   "metadata": {},
   "outputs": [],
   "source": [
    "corr_df[corr_df['feature_1'] == 'stddev_credit_amt_3M'].to_clipboard()"
   ]
  },
  {
   "cell_type": "code",
   "execution_count": 19,
   "metadata": {},
   "outputs": [
    {
     "data": {
      "text/plain": [
       "28"
      ]
     },
     "execution_count": 19,
     "metadata": {},
     "output_type": "execute_result"
    }
   ],
   "source": [
    "# get feature list after itaerative VIF elimination\n",
    "def vif_iter(df, iv, threshold=10):\n",
    "    vif_data = pd.DataFrame()\n",
    "    vif_data[\"feature\"] = iv\n",
    "    vif_data[\"VIF\"] = [variance_inflation_factor(df[iv].values, i) for i in range(len(iv))]\n",
    "    if len(vif_data[vif_data['VIF'] == np.inf]) > 0:\n",
    "        feature = vif_data[vif_data['VIF'] == np.inf]['feature'].iloc[0]\n",
    "        iv.remove(feature)\n",
    "        vif_iter(df, iv, threshold)\n",
    "    elif len(vif_data[vif_data['VIF'] > threshold]) > 0:\n",
    "        feature = vif_data.sort_values(by='VIF', ascending=False)['feature'].iloc[0]\n",
    "        iv.remove(feature)\n",
    "        vif_iter(df, iv, threshold)\n",
    "    vif_data = pd.DataFrame()\n",
    "    vif_data[\"feature\"] = iv\n",
    "    vif_data[\"VIF\"] = [variance_inflation_factor(df[iv].values, i) for i in range(len(iv))]\n",
    "    return iv, vif_data\n",
    "\n",
    "feature_list, vif_df = vif_iter(df, feature_list, threshold=vif_arr)\n",
    "len(feature_list)"
   ]
  },
  {
   "cell_type": "code",
   "execution_count": 20,
   "metadata": {},
   "outputs": [
    {
     "data": {
      "text/plain": [
       "['stddev_credit_amt_3M',\n",
       " 'median_shops_amt_6M',\n",
       " 'stddev_payroll_amt_3M',\n",
       " 'shops_count_3M',\n",
       " 'pos_amt_1M',\n",
       " 'ratio_stddev_third_party_amt_3M_6M',\n",
       " 'ratio_pos_size_credit_size_1M',\n",
       " 'count_credits_lessthan_100_6M',\n",
       " 'count_credits_grt_500_6M',\n",
       " 'ratio_credits_grt_1500_1M_3M']"
      ]
     },
     "execution_count": 20,
     "metadata": {},
     "output_type": "execute_result"
    }
   ],
   "source": [
    "# Backward feature elimination\n",
    "feat_list = ft.backward_feature_selection(df[feature_list], y_train, num_features=features_arr)\n",
    "feat_list"
   ]
  },
  {
   "cell_type": "code",
   "execution_count": 21,
   "metadata": {},
   "outputs": [
    {
     "name": "stdout",
     "output_type": "stream",
     "text": [
      "(CVXPY) Jun 30 01:02:56 PM: Encountered unexpected exception importing solver GLOP:\n",
      "RuntimeError('Unrecognized new version of ortools (9.6.2534). Expected < 9.5.0.Please open a feature request on cvxpy to enable support for this version.')\n",
      "(CVXPY) Jun 30 01:02:56 PM: Encountered unexpected exception importing solver PDLP:\n",
      "RuntimeError('Unrecognized new version of ortools (9.6.2534). Expected < 9.5.0.Please open a feature request on cvxpy to enable support for this version.')\n"
     ]
    }
   ],
   "source": [
    "## optimal binning woe\n",
    "\n",
    "import optbinning as optb\n",
    "from optbinning import Scorecard, BinningProcess, OptimalBinning\n",
    "from optbinning.binning.binning_statistics import BinningTable\n",
    "\n",
    "df_temp = df[feat_list].copy()\n",
    "df_temp['target'] = df['target']"
   ]
  },
  {
   "cell_type": "code",
   "execution_count": 65,
   "metadata": {},
   "outputs": [
    {
     "data": {
      "image/png": "[encoded data removed]",
      "text/plain": [
       "<Figure size 640x480 with 2 Axes>"
      ]
     },
     "metadata": {},
     "output_type": "display_data"
    }
   ],
   "source": [
    "# 1\n",
    "Xt= df_temp['stddev_credit_amt_3M']\n",
    "yt = df_temp['target'].astype(int)\n",
    "\n",
    "optb = OptimalBinning(name='stddev_credit_amt_3M', dtype=\"numerical\", max_n_prebins=4, monotonic_trend='descending')\n",
    "optb.fit(Xt, yt)  \n",
    "\n",
    "Xt_binned = optb.transform(Xt)\n",
    "\n",
    "ob_stddev_credit_amt_3M = optb.binning_table.build()\n",
    "\n",
    "optb.binning_table.plot(metric=\"event_rate\")"
   ]
  },
  {
   "cell_type": "code",
   "execution_count": 66,
   "metadata": {},
   "outputs": [
    {
     "data": {
      "text/html": [
       "<div>\n",
       "<style scoped>\n",
       "    .dataframe tbody tr th:only-of-type {\n",
       "        vertical-align: middle;\n",
       "    }\n",
       "\n",
       "    .dataframe tbody tr th {\n",
       "        vertical-align: top;\n",
       "    }\n",
       "\n",
       "    .dataframe thead th {\n",
       "        text-align: right;\n",
       "    }\n",
       "</style>\n",
       "<table border=\"1\" class=\"dataframe\">\n",
       "  <thead>\n",
       "    <tr style=\"text-align: right;\">\n",
       "      <th></th>\n",
       "      <th>Bin</th>\n",
       "      <th>Count</th>\n",
       "      <th>Count (%)</th>\n",
       "      <th>Non-event</th>\n",
       "      <th>Event</th>\n",
       "      <th>Event rate</th>\n",
       "      <th>WoE</th>\n",
       "      <th>IV</th>\n",
       "      <th>JS</th>\n",
       "    </tr>\n",
       "  </thead>\n",
       "  <tbody>\n",
       "    <tr>\n",
       "      <th>0</th>\n",
       "      <td>(-inf, 578.24)</td>\n",
       "      <td>148</td>\n",
       "      <td>0.332584</td>\n",
       "      <td>105</td>\n",
       "      <td>43</td>\n",
       "      <td>0.290541</td>\n",
       "      <td>-0.451919</td>\n",
       "      <td>0.076800</td>\n",
       "      <td>0.009519</td>\n",
       "    </tr>\n",
       "    <tr>\n",
       "      <th>1</th>\n",
       "      <td>[578.24, 1274.05)</td>\n",
       "      <td>134</td>\n",
       "      <td>0.301124</td>\n",
       "      <td>106</td>\n",
       "      <td>28</td>\n",
       "      <td>0.208955</td>\n",
       "      <td>-0.013445</td>\n",
       "      <td>0.000055</td>\n",
       "      <td>0.000007</td>\n",
       "    </tr>\n",
       "    <tr>\n",
       "      <th>2</th>\n",
       "      <td>[1274.05, inf)</td>\n",
       "      <td>163</td>\n",
       "      <td>0.366292</td>\n",
       "      <td>142</td>\n",
       "      <td>21</td>\n",
       "      <td>0.128834</td>\n",
       "      <td>0.566625</td>\n",
       "      <td>0.098596</td>\n",
       "      <td>0.012162</td>\n",
       "    </tr>\n",
       "    <tr>\n",
       "      <th>3</th>\n",
       "      <td>Special</td>\n",
       "      <td>0</td>\n",
       "      <td>0.000000</td>\n",
       "      <td>0</td>\n",
       "      <td>0</td>\n",
       "      <td>0.000000</td>\n",
       "      <td>0.0</td>\n",
       "      <td>0.000000</td>\n",
       "      <td>0.000000</td>\n",
       "    </tr>\n",
       "    <tr>\n",
       "      <th>4</th>\n",
       "      <td>Missing</td>\n",
       "      <td>0</td>\n",
       "      <td>0.000000</td>\n",
       "      <td>0</td>\n",
       "      <td>0</td>\n",
       "      <td>0.000000</td>\n",
       "      <td>0.0</td>\n",
       "      <td>0.000000</td>\n",
       "      <td>0.000000</td>\n",
       "    </tr>\n",
       "    <tr>\n",
       "      <th>Totals</th>\n",
       "      <td></td>\n",
       "      <td>445</td>\n",
       "      <td>1.000000</td>\n",
       "      <td>353</td>\n",
       "      <td>92</td>\n",
       "      <td>0.206742</td>\n",
       "      <td></td>\n",
       "      <td>0.175450</td>\n",
       "      <td>0.021688</td>\n",
       "    </tr>\n",
       "  </tbody>\n",
       "</table>\n",
       "</div>"
      ],
      "text/plain": [
       "                      Bin  Count  Count (%)  Non-event  Event  Event rate  \\\n",
       "0          (-inf, 578.24)    148   0.332584        105     43    0.290541   \n",
       "1       [578.24, 1274.05)    134   0.301124        106     28    0.208955   \n",
       "2          [1274.05, inf)    163   0.366292        142     21    0.128834   \n",
       "3                 Special      0   0.000000          0      0    0.000000   \n",
       "4                 Missing      0   0.000000          0      0    0.000000   \n",
       "Totals                       445   1.000000        353     92    0.206742   \n",
       "\n",
       "             WoE        IV        JS  \n",
       "0      -0.451919  0.076800  0.009519  \n",
       "1      -0.013445  0.000055  0.000007  \n",
       "2       0.566625  0.098596  0.012162  \n",
       "3            0.0  0.000000  0.000000  \n",
       "4            0.0  0.000000  0.000000  \n",
       "Totals            0.175450  0.021688  "
      ]
     },
     "execution_count": 66,
     "metadata": {},
     "output_type": "execute_result"
    }
   ],
   "source": [
    "ob_stddev_credit_amt_3M"
   ]
  },
  {
   "cell_type": "code",
   "execution_count": 24,
   "metadata": {},
   "outputs": [],
   "source": [
    "# 1\n",
    "# Var tranform\n",
    "transformed_vars = df[feat_list].copy()\n",
    "\n",
    "# transform\n",
    "col         = 'stddev_credit_amt_3M'\n",
    "conditions  = [ transformed_vars[col] <= 0, \n",
    "                (transformed_vars[col] > 0 ) & (transformed_vars[col] < 578), \n",
    "                (transformed_vars[col] >= 578 ) & (transformed_vars[col] < 1274), \n",
    "                (transformed_vars[col] >= 1274) & (transformed_vars[col] < 7646),\n",
    "                transformed_vars[col] >= 7646 ]\n",
    "\n",
    "choices     = [0.090405,-0.551449,-0.013445, 0.40452,1.951157]\n",
    "    \n",
    "transformed_vars[\"stddev_credit_amt_3M\"] = np.select(conditions, choices, default=np.nan)"
   ]
  },
  {
   "cell_type": "code",
   "execution_count": 25,
   "metadata": {},
   "outputs": [
    {
     "data": {
      "image/png": "[encoded data removed]",
      "text/plain": [
       "<Figure size 640x480 with 2 Axes>"
      ]
     },
     "metadata": {},
     "output_type": "display_data"
    }
   ],
   "source": [
    "# 2\n",
    "Xt= df_temp['median_shops_amt_6M']\n",
    "yt = df_temp['target'].astype(int)\n",
    "\n",
    "optb = OptimalBinning(name='median_shops_amt_6M', dtype=\"numerical\", max_n_prebins=4, monotonic_trend='descending',special_codes = [0])\n",
    "optb.fit(Xt, yt)  \n",
    "\n",
    "Xt_binned = optb.transform(Xt)\n",
    "\n",
    "ob_median_shops_amt_6M = optb.binning_table.build()\n",
    "\n",
    "optb.binning_table.plot(metric=\"event_rate\")"
   ]
  },
  {
   "cell_type": "code",
   "execution_count": 26,
   "metadata": {},
   "outputs": [
    {
     "data": {
      "text/html": [
       "<div>\n",
       "<style scoped>\n",
       "    .dataframe tbody tr th:only-of-type {\n",
       "        vertical-align: middle;\n",
       "    }\n",
       "\n",
       "    .dataframe tbody tr th {\n",
       "        vertical-align: top;\n",
       "    }\n",
       "\n",
       "    .dataframe thead th {\n",
       "        text-align: right;\n",
       "    }\n",
       "</style>\n",
       "<table border=\"1\" class=\"dataframe\">\n",
       "  <thead>\n",
       "    <tr style=\"text-align: right;\">\n",
       "      <th></th>\n",
       "      <th>Bin</th>\n",
       "      <th>Count</th>\n",
       "      <th>Count (%)</th>\n",
       "      <th>Non-event</th>\n",
       "      <th>Event</th>\n",
       "      <th>Event rate</th>\n",
       "      <th>WoE</th>\n",
       "      <th>IV</th>\n",
       "      <th>JS</th>\n",
       "    </tr>\n",
       "  </thead>\n",
       "  <tbody>\n",
       "    <tr>\n",
       "      <th>0</th>\n",
       "      <td>(-inf, 108.95)</td>\n",
       "      <td>74</td>\n",
       "      <td>0.166292</td>\n",
       "      <td>51</td>\n",
       "      <td>23</td>\n",
       "      <td>0.310811</td>\n",
       "      <td>-0.548348</td>\n",
       "      <td>0.057864</td>\n",
       "      <td>0.007144</td>\n",
       "    </tr>\n",
       "    <tr>\n",
       "      <th>1</th>\n",
       "      <td>[108.95, 953.75)</td>\n",
       "      <td>95</td>\n",
       "      <td>0.213483</td>\n",
       "      <td>70</td>\n",
       "      <td>25</td>\n",
       "      <td>0.263158</td>\n",
       "      <td>-0.31506</td>\n",
       "      <td>0.023138</td>\n",
       "      <td>0.002880</td>\n",
       "    </tr>\n",
       "    <tr>\n",
       "      <th>2</th>\n",
       "      <td>[953.75, inf)</td>\n",
       "      <td>81</td>\n",
       "      <td>0.182022</td>\n",
       "      <td>72</td>\n",
       "      <td>9</td>\n",
       "      <td>0.111111</td>\n",
       "      <td>0.734762</td>\n",
       "      <td>0.077988</td>\n",
       "      <td>0.009535</td>\n",
       "    </tr>\n",
       "    <tr>\n",
       "      <th>3</th>\n",
       "      <td>Special</td>\n",
       "      <td>195</td>\n",
       "      <td>0.438202</td>\n",
       "      <td>160</td>\n",
       "      <td>35</td>\n",
       "      <td>0.179487</td>\n",
       "      <td>0.175146</td>\n",
       "      <td>0.012755</td>\n",
       "      <td>0.001592</td>\n",
       "    </tr>\n",
       "    <tr>\n",
       "      <th>4</th>\n",
       "      <td>Missing</td>\n",
       "      <td>0</td>\n",
       "      <td>0.000000</td>\n",
       "      <td>0</td>\n",
       "      <td>0</td>\n",
       "      <td>0.000000</td>\n",
       "      <td>0.0</td>\n",
       "      <td>0.000000</td>\n",
       "      <td>0.000000</td>\n",
       "    </tr>\n",
       "    <tr>\n",
       "      <th>Totals</th>\n",
       "      <td></td>\n",
       "      <td>445</td>\n",
       "      <td>1.000000</td>\n",
       "      <td>353</td>\n",
       "      <td>92</td>\n",
       "      <td>0.206742</td>\n",
       "      <td></td>\n",
       "      <td>0.171744</td>\n",
       "      <td>0.021151</td>\n",
       "    </tr>\n",
       "  </tbody>\n",
       "</table>\n",
       "</div>"
      ],
      "text/plain": [
       "                     Bin  Count  Count (%)  Non-event  Event  Event rate  \\\n",
       "0         (-inf, 108.95)     74   0.166292         51     23    0.310811   \n",
       "1       [108.95, 953.75)     95   0.213483         70     25    0.263158   \n",
       "2          [953.75, inf)     81   0.182022         72      9    0.111111   \n",
       "3                Special    195   0.438202        160     35    0.179487   \n",
       "4                Missing      0   0.000000          0      0    0.000000   \n",
       "Totals                      445   1.000000        353     92    0.206742   \n",
       "\n",
       "             WoE        IV        JS  \n",
       "0      -0.548348  0.057864  0.007144  \n",
       "1       -0.31506  0.023138  0.002880  \n",
       "2       0.734762  0.077988  0.009535  \n",
       "3       0.175146  0.012755  0.001592  \n",
       "4            0.0  0.000000  0.000000  \n",
       "Totals            0.171744  0.021151  "
      ]
     },
     "execution_count": 26,
     "metadata": {},
     "output_type": "execute_result"
    }
   ],
   "source": [
    "ob_median_shops_amt_6M"
   ]
  },
  {
   "cell_type": "code",
   "execution_count": 27,
   "metadata": {},
   "outputs": [],
   "source": [
    "# 2\n",
    "# transform\n",
    "col         = 'median_shops_amt_6M'\n",
    "conditions  = [ transformed_vars[col] <= 0, \n",
    "                (transformed_vars[col] > 0 ) & (transformed_vars[col] < 109), \n",
    "                (transformed_vars[col] >= 109 ) & (transformed_vars[col] < 954),\n",
    "                transformed_vars[col] >= 954 ]\n",
    "\n",
    "choices     = [0.175146,-0.548348,-0.31506, 0.734762]\n",
    "    \n",
    "transformed_vars[\"median_shops_amt_6M\"] = np.select(conditions, choices, default=np.nan)"
   ]
  },
  {
   "cell_type": "code",
   "execution_count": 28,
   "metadata": {},
   "outputs": [
    {
     "data": {
      "image/png": "[encoded data removed]",
      "text/plain": [
       "<Figure size 640x480 with 2 Axes>"
      ]
     },
     "metadata": {},
     "output_type": "display_data"
    }
   ],
   "source": [
    "# 3\n",
    "Xt= df_temp['stddev_payroll_amt_3M']\n",
    "yt = df_temp['target'].astype(int)\n",
    "\n",
    "optb = OptimalBinning(name='stddev_payroll_amt_3M', dtype=\"numerical\", max_n_prebins=4, monotonic_trend='descending',special_codes = [0])\n",
    "optb.fit(Xt, yt)  \n",
    "\n",
    "Xt_binned = optb.transform(Xt)\n",
    "\n",
    "ob_stddev_payroll_amt_3M = optb.binning_table.build()\n",
    "\n",
    "optb.binning_table.plot(metric=\"event_rate\")"
   ]
  },
  {
   "cell_type": "code",
   "execution_count": 29,
   "metadata": {},
   "outputs": [
    {
     "data": {
      "text/html": [
       "<div>\n",
       "<style scoped>\n",
       "    .dataframe tbody tr th:only-of-type {\n",
       "        vertical-align: middle;\n",
       "    }\n",
       "\n",
       "    .dataframe tbody tr th {\n",
       "        vertical-align: top;\n",
       "    }\n",
       "\n",
       "    .dataframe thead th {\n",
       "        text-align: right;\n",
       "    }\n",
       "</style>\n",
       "<table border=\"1\" class=\"dataframe\">\n",
       "  <thead>\n",
       "    <tr style=\"text-align: right;\">\n",
       "      <th></th>\n",
       "      <th>Bin</th>\n",
       "      <th>Count</th>\n",
       "      <th>Count (%)</th>\n",
       "      <th>Non-event</th>\n",
       "      <th>Event</th>\n",
       "      <th>Event rate</th>\n",
       "      <th>WoE</th>\n",
       "      <th>IV</th>\n",
       "      <th>JS</th>\n",
       "    </tr>\n",
       "  </thead>\n",
       "  <tbody>\n",
       "    <tr>\n",
       "      <th>0</th>\n",
       "      <td>(-inf, 900.69)</td>\n",
       "      <td>110</td>\n",
       "      <td>0.247191</td>\n",
       "      <td>80</td>\n",
       "      <td>30</td>\n",
       "      <td>0.272727</td>\n",
       "      <td>-0.36385</td>\n",
       "      <td>0.036188</td>\n",
       "      <td>0.004499</td>\n",
       "    </tr>\n",
       "    <tr>\n",
       "      <th>1</th>\n",
       "      <td>[900.69, inf)</td>\n",
       "      <td>58</td>\n",
       "      <td>0.130337</td>\n",
       "      <td>52</td>\n",
       "      <td>6</td>\n",
       "      <td>0.103448</td>\n",
       "      <td>0.814805</td>\n",
       "      <td>0.066888</td>\n",
       "      <td>0.008137</td>\n",
       "    </tr>\n",
       "    <tr>\n",
       "      <th>2</th>\n",
       "      <td>Special</td>\n",
       "      <td>277</td>\n",
       "      <td>0.622472</td>\n",
       "      <td>221</td>\n",
       "      <td>56</td>\n",
       "      <td>0.202166</td>\n",
       "      <td>0.028132</td>\n",
       "      <td>0.000489</td>\n",
       "      <td>0.000061</td>\n",
       "    </tr>\n",
       "    <tr>\n",
       "      <th>3</th>\n",
       "      <td>Missing</td>\n",
       "      <td>0</td>\n",
       "      <td>0.000000</td>\n",
       "      <td>0</td>\n",
       "      <td>0</td>\n",
       "      <td>0.000000</td>\n",
       "      <td>0.0</td>\n",
       "      <td>0.000000</td>\n",
       "      <td>0.000000</td>\n",
       "    </tr>\n",
       "    <tr>\n",
       "      <th>Totals</th>\n",
       "      <td></td>\n",
       "      <td>445</td>\n",
       "      <td>1.000000</td>\n",
       "      <td>353</td>\n",
       "      <td>92</td>\n",
       "      <td>0.206742</td>\n",
       "      <td></td>\n",
       "      <td>0.103565</td>\n",
       "      <td>0.012697</td>\n",
       "    </tr>\n",
       "  </tbody>\n",
       "</table>\n",
       "</div>"
      ],
      "text/plain": [
       "                   Bin  Count  Count (%)  Non-event  Event  Event rate  \\\n",
       "0       (-inf, 900.69)    110   0.247191         80     30    0.272727   \n",
       "1        [900.69, inf)     58   0.130337         52      6    0.103448   \n",
       "2              Special    277   0.622472        221     56    0.202166   \n",
       "3              Missing      0   0.000000          0      0    0.000000   \n",
       "Totals                    445   1.000000        353     92    0.206742   \n",
       "\n",
       "             WoE        IV        JS  \n",
       "0       -0.36385  0.036188  0.004499  \n",
       "1       0.814805  0.066888  0.008137  \n",
       "2       0.028132  0.000489  0.000061  \n",
       "3            0.0  0.000000  0.000000  \n",
       "Totals            0.103565  0.012697  "
      ]
     },
     "execution_count": 29,
     "metadata": {},
     "output_type": "execute_result"
    }
   ],
   "source": [
    "ob_stddev_payroll_amt_3M"
   ]
  },
  {
   "cell_type": "code",
   "execution_count": 30,
   "metadata": {},
   "outputs": [],
   "source": [
    "# 3\n",
    "# transform\n",
    "col         = 'stddev_payroll_amt_3M'\n",
    "conditions  = [ transformed_vars[col] <= 0, \n",
    "                (transformed_vars[col] > 0 ) & (transformed_vars[col] < 901),\n",
    "                transformed_vars[col] >= 901 ]\n",
    "\n",
    "choices     = [0.028132,-0.36385,0.814805]\n",
    "    \n",
    "transformed_vars[\"stddev_payroll_amt_3M\"] = np.select(conditions, choices, default=np.nan)"
   ]
  },
  {
   "cell_type": "code",
   "execution_count": 31,
   "metadata": {},
   "outputs": [
    {
     "data": {
      "image/png": "[encoded data removed]",
      "text/plain": [
       "<Figure size 640x480 with 2 Axes>"
      ]
     },
     "metadata": {},
     "output_type": "display_data"
    }
   ],
   "source": [
    "# 4\n",
    "Xt= df_temp['shops_count_3M']\n",
    "yt = df_temp['target'].astype(int)\n",
    "\n",
    "optb = OptimalBinning(name='shops_count_3M', dtype=\"numerical\", max_n_prebins=3, monotonic_trend='descending',special_codes = [0])\n",
    "optb.fit(Xt, yt)  \n",
    "\n",
    "Xt_binned = optb.transform(Xt)\n",
    "\n",
    "ob_shops_count_3M = optb.binning_table.build()\n",
    "\n",
    "optb.binning_table.plot(metric=\"event_rate\")"
   ]
  },
  {
   "cell_type": "code",
   "execution_count": 32,
   "metadata": {},
   "outputs": [
    {
     "data": {
      "text/html": [
       "<div>\n",
       "<style scoped>\n",
       "    .dataframe tbody tr th:only-of-type {\n",
       "        vertical-align: middle;\n",
       "    }\n",
       "\n",
       "    .dataframe tbody tr th {\n",
       "        vertical-align: top;\n",
       "    }\n",
       "\n",
       "    .dataframe thead th {\n",
       "        text-align: right;\n",
       "    }\n",
       "</style>\n",
       "<table border=\"1\" class=\"dataframe\">\n",
       "  <thead>\n",
       "    <tr style=\"text-align: right;\">\n",
       "      <th></th>\n",
       "      <th>Bin</th>\n",
       "      <th>Count</th>\n",
       "      <th>Count (%)</th>\n",
       "      <th>Non-event</th>\n",
       "      <th>Event</th>\n",
       "      <th>Event rate</th>\n",
       "      <th>WoE</th>\n",
       "      <th>IV</th>\n",
       "      <th>JS</th>\n",
       "    </tr>\n",
       "  </thead>\n",
       "  <tbody>\n",
       "    <tr>\n",
       "      <th>0</th>\n",
       "      <td>(-inf, 4.50)</td>\n",
       "      <td>141</td>\n",
       "      <td>0.316854</td>\n",
       "      <td>103</td>\n",
       "      <td>38</td>\n",
       "      <td>0.269504</td>\n",
       "      <td>-0.347537</td>\n",
       "      <td>0.042142</td>\n",
       "      <td>0.005241</td>\n",
       "    </tr>\n",
       "    <tr>\n",
       "      <th>1</th>\n",
       "      <td>[4.50, inf)</td>\n",
       "      <td>54</td>\n",
       "      <td>0.121348</td>\n",
       "      <td>43</td>\n",
       "      <td>11</td>\n",
       "      <td>0.203704</td>\n",
       "      <td>0.018625</td>\n",
       "      <td>0.000042</td>\n",
       "      <td>0.000005</td>\n",
       "    </tr>\n",
       "    <tr>\n",
       "      <th>2</th>\n",
       "      <td>Special</td>\n",
       "      <td>250</td>\n",
       "      <td>0.561798</td>\n",
       "      <td>207</td>\n",
       "      <td>43</td>\n",
       "      <td>0.172000</td>\n",
       "      <td>0.226839</td>\n",
       "      <td>0.026996</td>\n",
       "      <td>0.003367</td>\n",
       "    </tr>\n",
       "    <tr>\n",
       "      <th>3</th>\n",
       "      <td>Missing</td>\n",
       "      <td>0</td>\n",
       "      <td>0.000000</td>\n",
       "      <td>0</td>\n",
       "      <td>0</td>\n",
       "      <td>0.000000</td>\n",
       "      <td>0.0</td>\n",
       "      <td>0.000000</td>\n",
       "      <td>0.000000</td>\n",
       "    </tr>\n",
       "    <tr>\n",
       "      <th>Totals</th>\n",
       "      <td></td>\n",
       "      <td>445</td>\n",
       "      <td>1.000000</td>\n",
       "      <td>353</td>\n",
       "      <td>92</td>\n",
       "      <td>0.206742</td>\n",
       "      <td></td>\n",
       "      <td>0.069180</td>\n",
       "      <td>0.008614</td>\n",
       "    </tr>\n",
       "  </tbody>\n",
       "</table>\n",
       "</div>"
      ],
      "text/plain": [
       "                 Bin  Count  Count (%)  Non-event  Event  Event rate  \\\n",
       "0       (-inf, 4.50)    141   0.316854        103     38    0.269504   \n",
       "1        [4.50, inf)     54   0.121348         43     11    0.203704   \n",
       "2            Special    250   0.561798        207     43    0.172000   \n",
       "3            Missing      0   0.000000          0      0    0.000000   \n",
       "Totals                  445   1.000000        353     92    0.206742   \n",
       "\n",
       "             WoE        IV        JS  \n",
       "0      -0.347537  0.042142  0.005241  \n",
       "1       0.018625  0.000042  0.000005  \n",
       "2       0.226839  0.026996  0.003367  \n",
       "3            0.0  0.000000  0.000000  \n",
       "Totals            0.069180  0.008614  "
      ]
     },
     "execution_count": 32,
     "metadata": {},
     "output_type": "execute_result"
    }
   ],
   "source": [
    "ob_shops_count_3M"
   ]
  },
  {
   "cell_type": "code",
   "execution_count": 33,
   "metadata": {},
   "outputs": [],
   "source": [
    "# 4\n",
    "# transform\n",
    "col         = 'shops_count_3M'\n",
    "conditions  = [ transformed_vars[col] <= 0, \n",
    "                (transformed_vars[col] > 0 ) & (transformed_vars[col] < 4.5),\n",
    "                transformed_vars[col] >= 4.5 ]\n",
    "\n",
    "choices     = [0.226839,-0.347537,0.018625]\n",
    "    \n",
    "transformed_vars[\"shops_count_3M\"] = np.select(conditions, choices, default=np.nan)"
   ]
  },
  {
   "cell_type": "code",
   "execution_count": 34,
   "metadata": {},
   "outputs": [
    {
     "data": {
      "image/png": "[encoded data removed]",
      "text/plain": [
       "<Figure size 640x480 with 2 Axes>"
      ]
     },
     "metadata": {},
     "output_type": "display_data"
    }
   ],
   "source": [
    "# 5\n",
    "Xt= df_temp['pos_amt_1M']\n",
    "yt = df_temp['target'].astype(int)\n",
    "\n",
    "optb = OptimalBinning(name='pos_amt_1M', dtype=\"numerical\", max_n_prebins=4, monotonic_trend='descending')\n",
    "optb.fit(Xt, yt)  \n",
    "\n",
    "Xt_binned = optb.transform(Xt)\n",
    "\n",
    "ob_pos_amt_1M = optb.binning_table.build()\n",
    "\n",
    "optb.binning_table.plot(metric=\"event_rate\")"
   ]
  },
  {
   "cell_type": "code",
   "execution_count": 35,
   "metadata": {},
   "outputs": [
    {
     "data": {
      "text/html": [
       "<div>\n",
       "<style scoped>\n",
       "    .dataframe tbody tr th:only-of-type {\n",
       "        vertical-align: middle;\n",
       "    }\n",
       "\n",
       "    .dataframe tbody tr th {\n",
       "        vertical-align: top;\n",
       "    }\n",
       "\n",
       "    .dataframe thead th {\n",
       "        text-align: right;\n",
       "    }\n",
       "</style>\n",
       "<table border=\"1\" class=\"dataframe\">\n",
       "  <thead>\n",
       "    <tr style=\"text-align: right;\">\n",
       "      <th></th>\n",
       "      <th>Bin</th>\n",
       "      <th>Count</th>\n",
       "      <th>Count (%)</th>\n",
       "      <th>Non-event</th>\n",
       "      <th>Event</th>\n",
       "      <th>Event rate</th>\n",
       "      <th>WoE</th>\n",
       "      <th>IV</th>\n",
       "      <th>JS</th>\n",
       "    </tr>\n",
       "  </thead>\n",
       "  <tbody>\n",
       "    <tr>\n",
       "      <th>0</th>\n",
       "      <td>(-inf, 1780.00)</td>\n",
       "      <td>366</td>\n",
       "      <td>0.822472</td>\n",
       "      <td>284</td>\n",
       "      <td>82</td>\n",
       "      <td>0.224044</td>\n",
       "      <td>-0.102424</td>\n",
       "      <td>0.008888</td>\n",
       "      <td>0.001110</td>\n",
       "    </tr>\n",
       "    <tr>\n",
       "      <th>1</th>\n",
       "      <td>[1780.00, inf)</td>\n",
       "      <td>79</td>\n",
       "      <td>0.177528</td>\n",
       "      <td>69</td>\n",
       "      <td>10</td>\n",
       "      <td>0.126582</td>\n",
       "      <td>0.586842</td>\n",
       "      <td>0.050921</td>\n",
       "      <td>0.006275</td>\n",
       "    </tr>\n",
       "    <tr>\n",
       "      <th>2</th>\n",
       "      <td>Special</td>\n",
       "      <td>0</td>\n",
       "      <td>0.000000</td>\n",
       "      <td>0</td>\n",
       "      <td>0</td>\n",
       "      <td>0.000000</td>\n",
       "      <td>0.0</td>\n",
       "      <td>0.000000</td>\n",
       "      <td>0.000000</td>\n",
       "    </tr>\n",
       "    <tr>\n",
       "      <th>3</th>\n",
       "      <td>Missing</td>\n",
       "      <td>0</td>\n",
       "      <td>0.000000</td>\n",
       "      <td>0</td>\n",
       "      <td>0</td>\n",
       "      <td>0.000000</td>\n",
       "      <td>0.0</td>\n",
       "      <td>0.000000</td>\n",
       "      <td>0.000000</td>\n",
       "    </tr>\n",
       "    <tr>\n",
       "      <th>Totals</th>\n",
       "      <td></td>\n",
       "      <td>445</td>\n",
       "      <td>1.000000</td>\n",
       "      <td>353</td>\n",
       "      <td>92</td>\n",
       "      <td>0.206742</td>\n",
       "      <td></td>\n",
       "      <td>0.059809</td>\n",
       "      <td>0.007386</td>\n",
       "    </tr>\n",
       "  </tbody>\n",
       "</table>\n",
       "</div>"
      ],
      "text/plain": [
       "                    Bin  Count  Count (%)  Non-event  Event  Event rate  \\\n",
       "0       (-inf, 1780.00)    366   0.822472        284     82    0.224044   \n",
       "1        [1780.00, inf)     79   0.177528         69     10    0.126582   \n",
       "2               Special      0   0.000000          0      0    0.000000   \n",
       "3               Missing      0   0.000000          0      0    0.000000   \n",
       "Totals                     445   1.000000        353     92    0.206742   \n",
       "\n",
       "             WoE        IV        JS  \n",
       "0      -0.102424  0.008888  0.001110  \n",
       "1       0.586842  0.050921  0.006275  \n",
       "2            0.0  0.000000  0.000000  \n",
       "3            0.0  0.000000  0.000000  \n",
       "Totals            0.059809  0.007386  "
      ]
     },
     "execution_count": 35,
     "metadata": {},
     "output_type": "execute_result"
    }
   ],
   "source": [
    "ob_pos_amt_1M"
   ]
  },
  {
   "cell_type": "code",
   "execution_count": 36,
   "metadata": {},
   "outputs": [],
   "source": [
    "# 5\n",
    "# transform\n",
    "col         = 'pos_amt_1M'\n",
    "conditions  = [ transformed_vars[col] < 1780,\n",
    "                transformed_vars[col] >= 1780 ]\n",
    "\n",
    "choices     = [-0.102424,0.586842]\n",
    "    \n",
    "transformed_vars[\"pos_amt_1M\"] = np.select(conditions, choices, default=np.nan)"
   ]
  },
  {
   "cell_type": "code",
   "execution_count": 37,
   "metadata": {},
   "outputs": [
    {
     "data": {
      "image/png": "[encoded data removed]",
      "text/plain": [
       "<Figure size 640x480 with 2 Axes>"
      ]
     },
     "metadata": {},
     "output_type": "display_data"
    }
   ],
   "source": [
    "# 6\n",
    "Xt= df_temp['ratio_stddev_third_party_amt_3M_6M']\n",
    "yt = df_temp['target'].astype(int)\n",
    "\n",
    "optb = OptimalBinning(name='ratio_stddev_third_party_amt_3M_6M', dtype=\"numerical\", max_n_prebins=4, monotonic_trend='descending',special_codes = [0])\n",
    "optb.fit(Xt, yt)  \n",
    "\n",
    "Xt_binned = optb.transform(Xt)\n",
    "\n",
    "ob_ratio_stddev_third_party_amt_3M_6M = optb.binning_table.build()\n",
    "\n",
    "optb.binning_table.plot(metric=\"event_rate\")"
   ]
  },
  {
   "cell_type": "code",
   "execution_count": 38,
   "metadata": {},
   "outputs": [
    {
     "data": {
      "text/html": [
       "<div>\n",
       "<style scoped>\n",
       "    .dataframe tbody tr th:only-of-type {\n",
       "        vertical-align: middle;\n",
       "    }\n",
       "\n",
       "    .dataframe tbody tr th {\n",
       "        vertical-align: top;\n",
       "    }\n",
       "\n",
       "    .dataframe thead th {\n",
       "        text-align: right;\n",
       "    }\n",
       "</style>\n",
       "<table border=\"1\" class=\"dataframe\">\n",
       "  <thead>\n",
       "    <tr style=\"text-align: right;\">\n",
       "      <th></th>\n",
       "      <th>Bin</th>\n",
       "      <th>Count</th>\n",
       "      <th>Count (%)</th>\n",
       "      <th>Non-event</th>\n",
       "      <th>Event</th>\n",
       "      <th>Event rate</th>\n",
       "      <th>WoE</th>\n",
       "      <th>IV</th>\n",
       "      <th>JS</th>\n",
       "    </tr>\n",
       "  </thead>\n",
       "  <tbody>\n",
       "    <tr>\n",
       "      <th>0</th>\n",
       "      <td>(-inf, inf)</td>\n",
       "      <td>212</td>\n",
       "      <td>0.476404</td>\n",
       "      <td>158</td>\n",
       "      <td>54</td>\n",
       "      <td>0.254717</td>\n",
       "      <td>-0.271068</td>\n",
       "      <td>0.037777</td>\n",
       "      <td>0.004708</td>\n",
       "    </tr>\n",
       "    <tr>\n",
       "      <th>1</th>\n",
       "      <td>Special</td>\n",
       "      <td>233</td>\n",
       "      <td>0.523596</td>\n",
       "      <td>195</td>\n",
       "      <td>38</td>\n",
       "      <td>0.163090</td>\n",
       "      <td>0.290734</td>\n",
       "      <td>0.040518</td>\n",
       "      <td>0.005047</td>\n",
       "    </tr>\n",
       "    <tr>\n",
       "      <th>2</th>\n",
       "      <td>Missing</td>\n",
       "      <td>0</td>\n",
       "      <td>0.000000</td>\n",
       "      <td>0</td>\n",
       "      <td>0</td>\n",
       "      <td>0.000000</td>\n",
       "      <td>0.0</td>\n",
       "      <td>0.000000</td>\n",
       "      <td>0.000000</td>\n",
       "    </tr>\n",
       "    <tr>\n",
       "      <th>Totals</th>\n",
       "      <td></td>\n",
       "      <td>445</td>\n",
       "      <td>1.000000</td>\n",
       "      <td>353</td>\n",
       "      <td>92</td>\n",
       "      <td>0.206742</td>\n",
       "      <td></td>\n",
       "      <td>0.078295</td>\n",
       "      <td>0.009755</td>\n",
       "    </tr>\n",
       "  </tbody>\n",
       "</table>\n",
       "</div>"
      ],
      "text/plain": [
       "                Bin  Count  Count (%)  Non-event  Event  Event rate       WoE  \\\n",
       "0       (-inf, inf)    212   0.476404        158     54    0.254717 -0.271068   \n",
       "1           Special    233   0.523596        195     38    0.163090  0.290734   \n",
       "2           Missing      0   0.000000          0      0    0.000000       0.0   \n",
       "Totals                 445   1.000000        353     92    0.206742             \n",
       "\n",
       "              IV        JS  \n",
       "0       0.037777  0.004708  \n",
       "1       0.040518  0.005047  \n",
       "2       0.000000  0.000000  \n",
       "Totals  0.078295  0.009755  "
      ]
     },
     "execution_count": 38,
     "metadata": {},
     "output_type": "execute_result"
    }
   ],
   "source": [
    "ob_ratio_stddev_third_party_amt_3M_6M"
   ]
  },
  {
   "cell_type": "code",
   "execution_count": 39,
   "metadata": {},
   "outputs": [],
   "source": [
    "# 6\n",
    "# transform\n",
    "col         = 'ratio_stddev_third_party_amt_3M_6M'\n",
    "conditions  = [ transformed_vars[col] <= 0,\n",
    "                transformed_vars[col] > 0 ]\n",
    "\n",
    "choices     = [0.290734,-0.271068]\n",
    "    \n",
    "transformed_vars[\"ratio_stddev_third_party_amt_3M_6M\"] = np.select(conditions, choices, default=np.nan)"
   ]
  },
  {
   "cell_type": "code",
   "execution_count": 40,
   "metadata": {},
   "outputs": [
    {
     "data": {
      "image/png": "[encoded data removed]",
      "text/plain": [
       "<Figure size 640x480 with 2 Axes>"
      ]
     },
     "metadata": {},
     "output_type": "display_data"
    }
   ],
   "source": [
    "# 7\n",
    "Xt= df_temp['ratio_pos_size_credit_size_1M']\n",
    "yt = df_temp['target'].astype(int)\n",
    "\n",
    "optb = OptimalBinning(name='ratio_pos_size_credit_size_1M', dtype=\"numerical\", max_n_prebins=2, monotonic_trend='descending')\n",
    "optb.fit(Xt, yt)  \n",
    "\n",
    "Xt_binned = optb.transform(Xt)\n",
    "\n",
    "ob_ratio_pos_size_credit_size_1M = optb.binning_table.build()\n",
    "\n",
    "optb.binning_table.plot(metric=\"event_rate\")"
   ]
  },
  {
   "cell_type": "code",
   "execution_count": 41,
   "metadata": {},
   "outputs": [
    {
     "data": {
      "text/html": [
       "<div>\n",
       "<style scoped>\n",
       "    .dataframe tbody tr th:only-of-type {\n",
       "        vertical-align: middle;\n",
       "    }\n",
       "\n",
       "    .dataframe tbody tr th {\n",
       "        vertical-align: top;\n",
       "    }\n",
       "\n",
       "    .dataframe thead th {\n",
       "        text-align: right;\n",
       "    }\n",
       "</style>\n",
       "<table border=\"1\" class=\"dataframe\">\n",
       "  <thead>\n",
       "    <tr style=\"text-align: right;\">\n",
       "      <th></th>\n",
       "      <th>Bin</th>\n",
       "      <th>Count</th>\n",
       "      <th>Count (%)</th>\n",
       "      <th>Non-event</th>\n",
       "      <th>Event</th>\n",
       "      <th>Event rate</th>\n",
       "      <th>WoE</th>\n",
       "      <th>IV</th>\n",
       "      <th>JS</th>\n",
       "    </tr>\n",
       "  </thead>\n",
       "  <tbody>\n",
       "    <tr>\n",
       "      <th>0</th>\n",
       "      <td>(-inf, 0.27)</td>\n",
       "      <td>306</td>\n",
       "      <td>0.68764</td>\n",
       "      <td>236</td>\n",
       "      <td>70</td>\n",
       "      <td>0.228758</td>\n",
       "      <td>-0.129343</td>\n",
       "      <td>0.011940</td>\n",
       "      <td>0.001491</td>\n",
       "    </tr>\n",
       "    <tr>\n",
       "      <th>1</th>\n",
       "      <td>[0.27, inf)</td>\n",
       "      <td>139</td>\n",
       "      <td>0.31236</td>\n",
       "      <td>117</td>\n",
       "      <td>22</td>\n",
       "      <td>0.158273</td>\n",
       "      <td>0.326452</td>\n",
       "      <td>0.030136</td>\n",
       "      <td>0.003750</td>\n",
       "    </tr>\n",
       "    <tr>\n",
       "      <th>2</th>\n",
       "      <td>Special</td>\n",
       "      <td>0</td>\n",
       "      <td>0.00000</td>\n",
       "      <td>0</td>\n",
       "      <td>0</td>\n",
       "      <td>0.000000</td>\n",
       "      <td>0.0</td>\n",
       "      <td>0.000000</td>\n",
       "      <td>0.000000</td>\n",
       "    </tr>\n",
       "    <tr>\n",
       "      <th>3</th>\n",
       "      <td>Missing</td>\n",
       "      <td>0</td>\n",
       "      <td>0.00000</td>\n",
       "      <td>0</td>\n",
       "      <td>0</td>\n",
       "      <td>0.000000</td>\n",
       "      <td>0.0</td>\n",
       "      <td>0.000000</td>\n",
       "      <td>0.000000</td>\n",
       "    </tr>\n",
       "    <tr>\n",
       "      <th>Totals</th>\n",
       "      <td></td>\n",
       "      <td>445</td>\n",
       "      <td>1.00000</td>\n",
       "      <td>353</td>\n",
       "      <td>92</td>\n",
       "      <td>0.206742</td>\n",
       "      <td></td>\n",
       "      <td>0.042076</td>\n",
       "      <td>0.005242</td>\n",
       "    </tr>\n",
       "  </tbody>\n",
       "</table>\n",
       "</div>"
      ],
      "text/plain": [
       "                 Bin  Count  Count (%)  Non-event  Event  Event rate  \\\n",
       "0       (-inf, 0.27)    306    0.68764        236     70    0.228758   \n",
       "1        [0.27, inf)    139    0.31236        117     22    0.158273   \n",
       "2            Special      0    0.00000          0      0    0.000000   \n",
       "3            Missing      0    0.00000          0      0    0.000000   \n",
       "Totals                  445    1.00000        353     92    0.206742   \n",
       "\n",
       "             WoE        IV        JS  \n",
       "0      -0.129343  0.011940  0.001491  \n",
       "1       0.326452  0.030136  0.003750  \n",
       "2            0.0  0.000000  0.000000  \n",
       "3            0.0  0.000000  0.000000  \n",
       "Totals            0.042076  0.005242  "
      ]
     },
     "execution_count": 41,
     "metadata": {},
     "output_type": "execute_result"
    }
   ],
   "source": [
    "ob_ratio_pos_size_credit_size_1M"
   ]
  },
  {
   "cell_type": "code",
   "execution_count": 42,
   "metadata": {},
   "outputs": [],
   "source": [
    "# 7\n",
    "# transform\n",
    "col         = 'ratio_pos_size_credit_size_1M'\n",
    "conditions  = [ transformed_vars[col] < 0.27,\n",
    "                transformed_vars[col] >= 0.27 ]\n",
    "\n",
    "choices     = [-0.129343,0.326452]\n",
    "    \n",
    "transformed_vars[\"ratio_pos_size_credit_size_1M\"] = np.select(conditions, choices, default=np.nan)"
   ]
  },
  {
   "cell_type": "code",
   "execution_count": 43,
   "metadata": {},
   "outputs": [
    {
     "data": {
      "image/png": "[encoded data removed]",
      "text/plain": [
       "<Figure size 640x480 with 2 Axes>"
      ]
     },
     "metadata": {},
     "output_type": "display_data"
    }
   ],
   "source": [
    "# 8\n",
    "Xt= df_temp['count_credits_lessthan_100_6M']\n",
    "yt = df_temp['target'].astype(int)\n",
    "\n",
    "optb = OptimalBinning(name='count_credits_lessthan_100_6M', dtype=\"numerical\", max_n_prebins=2, monotonic_trend='descending',special_codes=[0])\n",
    "optb.fit(Xt, yt)  \n",
    "\n",
    "Xt_binned = optb.transform(Xt)\n",
    "\n",
    "ob_count_credits_lessthan_100_6M = optb.binning_table.build()\n",
    "\n",
    "optb.binning_table.plot(metric=\"event_rate\")"
   ]
  },
  {
   "cell_type": "code",
   "execution_count": 44,
   "metadata": {},
   "outputs": [
    {
     "data": {
      "text/html": [
       "<div>\n",
       "<style scoped>\n",
       "    .dataframe tbody tr th:only-of-type {\n",
       "        vertical-align: middle;\n",
       "    }\n",
       "\n",
       "    .dataframe tbody tr th {\n",
       "        vertical-align: top;\n",
       "    }\n",
       "\n",
       "    .dataframe thead th {\n",
       "        text-align: right;\n",
       "    }\n",
       "</style>\n",
       "<table border=\"1\" class=\"dataframe\">\n",
       "  <thead>\n",
       "    <tr style=\"text-align: right;\">\n",
       "      <th></th>\n",
       "      <th>Bin</th>\n",
       "      <th>Count</th>\n",
       "      <th>Count (%)</th>\n",
       "      <th>Non-event</th>\n",
       "      <th>Event</th>\n",
       "      <th>Event rate</th>\n",
       "      <th>WoE</th>\n",
       "      <th>IV</th>\n",
       "      <th>JS</th>\n",
       "    </tr>\n",
       "  </thead>\n",
       "  <tbody>\n",
       "    <tr>\n",
       "      <th>0</th>\n",
       "      <td>(-inf, inf)</td>\n",
       "      <td>403</td>\n",
       "      <td>0.905618</td>\n",
       "      <td>316</td>\n",
       "      <td>87</td>\n",
       "      <td>0.215881</td>\n",
       "      <td>-0.054845</td>\n",
       "      <td>0.002768</td>\n",
       "      <td>0.000346</td>\n",
       "    </tr>\n",
       "    <tr>\n",
       "      <th>1</th>\n",
       "      <td>Special</td>\n",
       "      <td>42</td>\n",
       "      <td>0.094382</td>\n",
       "      <td>37</td>\n",
       "      <td>5</td>\n",
       "      <td>0.119048</td>\n",
       "      <td>0.656801</td>\n",
       "      <td>0.033147</td>\n",
       "      <td>0.004071</td>\n",
       "    </tr>\n",
       "    <tr>\n",
       "      <th>2</th>\n",
       "      <td>Missing</td>\n",
       "      <td>0</td>\n",
       "      <td>0.000000</td>\n",
       "      <td>0</td>\n",
       "      <td>0</td>\n",
       "      <td>0.000000</td>\n",
       "      <td>0.0</td>\n",
       "      <td>0.000000</td>\n",
       "      <td>0.000000</td>\n",
       "    </tr>\n",
       "    <tr>\n",
       "      <th>Totals</th>\n",
       "      <td></td>\n",
       "      <td>445</td>\n",
       "      <td>1.000000</td>\n",
       "      <td>353</td>\n",
       "      <td>92</td>\n",
       "      <td>0.206742</td>\n",
       "      <td></td>\n",
       "      <td>0.035915</td>\n",
       "      <td>0.004416</td>\n",
       "    </tr>\n",
       "  </tbody>\n",
       "</table>\n",
       "</div>"
      ],
      "text/plain": [
       "                Bin  Count  Count (%)  Non-event  Event  Event rate       WoE  \\\n",
       "0       (-inf, inf)    403   0.905618        316     87    0.215881 -0.054845   \n",
       "1           Special     42   0.094382         37      5    0.119048  0.656801   \n",
       "2           Missing      0   0.000000          0      0    0.000000       0.0   \n",
       "Totals                 445   1.000000        353     92    0.206742             \n",
       "\n",
       "              IV        JS  \n",
       "0       0.002768  0.000346  \n",
       "1       0.033147  0.004071  \n",
       "2       0.000000  0.000000  \n",
       "Totals  0.035915  0.004416  "
      ]
     },
     "execution_count": 44,
     "metadata": {},
     "output_type": "execute_result"
    }
   ],
   "source": [
    "ob_count_credits_lessthan_100_6M"
   ]
  },
  {
   "cell_type": "code",
   "execution_count": 45,
   "metadata": {},
   "outputs": [],
   "source": [
    "# 8\n",
    "# transform\n",
    "col         = 'count_credits_lessthan_100_6M'\n",
    "conditions  = [ transformed_vars[col] <= 0,\n",
    "                transformed_vars[col] > 0 ]\n",
    "\n",
    "choices     = [0.656801,-0.054845]\n",
    "    \n",
    "transformed_vars[\"count_credits_lessthan_100_6M\"] = np.select(conditions, choices, default=np.nan)"
   ]
  },
  {
   "cell_type": "code",
   "execution_count": 46,
   "metadata": {},
   "outputs": [
    {
     "data": {
      "image/png": "[encoded data removed]",
      "text/plain": [
       "<Figure size 640x480 with 2 Axes>"
      ]
     },
     "metadata": {},
     "output_type": "display_data"
    }
   ],
   "source": [
    "# 9\n",
    "Xt= df_temp['count_credits_grt_500_6M']\n",
    "yt = df_temp['target'].astype(int)\n",
    "\n",
    "optb = OptimalBinning(name='count_credits_grt_500_6M', dtype=\"numerical\", max_n_prebins=4, monotonic_trend='descending',special_codes=[0])\n",
    "optb.fit(Xt, yt)  \n",
    "\n",
    "Xt_binned = optb.transform(Xt)\n",
    "\n",
    "ob_count_credits_grt_500_6M = optb.binning_table.build()\n",
    "\n",
    "optb.binning_table.plot(metric=\"event_rate\")"
   ]
  },
  {
   "cell_type": "code",
   "execution_count": 47,
   "metadata": {},
   "outputs": [
    {
     "data": {
      "text/html": [
       "<div>\n",
       "<style scoped>\n",
       "    .dataframe tbody tr th:only-of-type {\n",
       "        vertical-align: middle;\n",
       "    }\n",
       "\n",
       "    .dataframe tbody tr th {\n",
       "        vertical-align: top;\n",
       "    }\n",
       "\n",
       "    .dataframe thead th {\n",
       "        text-align: right;\n",
       "    }\n",
       "</style>\n",
       "<table border=\"1\" class=\"dataframe\">\n",
       "  <thead>\n",
       "    <tr style=\"text-align: right;\">\n",
       "      <th></th>\n",
       "      <th>Bin</th>\n",
       "      <th>Count</th>\n",
       "      <th>Count (%)</th>\n",
       "      <th>Non-event</th>\n",
       "      <th>Event</th>\n",
       "      <th>Event rate</th>\n",
       "      <th>WoE</th>\n",
       "      <th>IV</th>\n",
       "      <th>JS</th>\n",
       "    </tr>\n",
       "  </thead>\n",
       "  <tbody>\n",
       "    <tr>\n",
       "      <th>0</th>\n",
       "      <td>(-inf, 22.50)</td>\n",
       "      <td>236</td>\n",
       "      <td>0.530337</td>\n",
       "      <td>182</td>\n",
       "      <td>54</td>\n",
       "      <td>0.228814</td>\n",
       "      <td>-0.129657</td>\n",
       "      <td>0.009254</td>\n",
       "      <td>0.001156</td>\n",
       "    </tr>\n",
       "    <tr>\n",
       "      <th>1</th>\n",
       "      <td>[22.50, inf)</td>\n",
       "      <td>190</td>\n",
       "      <td>0.426966</td>\n",
       "      <td>158</td>\n",
       "      <td>32</td>\n",
       "      <td>0.168421</td>\n",
       "      <td>0.25218</td>\n",
       "      <td>0.025159</td>\n",
       "      <td>0.003137</td>\n",
       "    </tr>\n",
       "    <tr>\n",
       "      <th>2</th>\n",
       "      <td>Special</td>\n",
       "      <td>19</td>\n",
       "      <td>0.042697</td>\n",
       "      <td>13</td>\n",
       "      <td>6</td>\n",
       "      <td>0.315789</td>\n",
       "      <td>-0.57149</td>\n",
       "      <td>0.016225</td>\n",
       "      <td>0.002001</td>\n",
       "    </tr>\n",
       "    <tr>\n",
       "      <th>3</th>\n",
       "      <td>Missing</td>\n",
       "      <td>0</td>\n",
       "      <td>0.000000</td>\n",
       "      <td>0</td>\n",
       "      <td>0</td>\n",
       "      <td>0.000000</td>\n",
       "      <td>0.0</td>\n",
       "      <td>0.000000</td>\n",
       "      <td>0.000000</td>\n",
       "    </tr>\n",
       "    <tr>\n",
       "      <th>Totals</th>\n",
       "      <td></td>\n",
       "      <td>445</td>\n",
       "      <td>1.000000</td>\n",
       "      <td>353</td>\n",
       "      <td>92</td>\n",
       "      <td>0.206742</td>\n",
       "      <td></td>\n",
       "      <td>0.050638</td>\n",
       "      <td>0.006293</td>\n",
       "    </tr>\n",
       "  </tbody>\n",
       "</table>\n",
       "</div>"
      ],
      "text/plain": [
       "                  Bin  Count  Count (%)  Non-event  Event  Event rate  \\\n",
       "0       (-inf, 22.50)    236   0.530337        182     54    0.228814   \n",
       "1        [22.50, inf)    190   0.426966        158     32    0.168421   \n",
       "2             Special     19   0.042697         13      6    0.315789   \n",
       "3             Missing      0   0.000000          0      0    0.000000   \n",
       "Totals                   445   1.000000        353     92    0.206742   \n",
       "\n",
       "             WoE        IV        JS  \n",
       "0      -0.129657  0.009254  0.001156  \n",
       "1        0.25218  0.025159  0.003137  \n",
       "2       -0.57149  0.016225  0.002001  \n",
       "3            0.0  0.000000  0.000000  \n",
       "Totals            0.050638  0.006293  "
      ]
     },
     "execution_count": 47,
     "metadata": {},
     "output_type": "execute_result"
    }
   ],
   "source": [
    "ob_count_credits_grt_500_6M"
   ]
  },
  {
   "cell_type": "code",
   "execution_count": 48,
   "metadata": {},
   "outputs": [],
   "source": [
    "# 9\n",
    "# transform\n",
    "col         = 'count_credits_grt_500_6M'\n",
    "conditions  = [ transformed_vars[col] <= 0, \n",
    "                (transformed_vars[col] > 0 ) & (transformed_vars[col] < 22.5),\n",
    "                transformed_vars[col] >= 22.5 ]\n",
    "\n",
    "choices     = [-0.57149,-0.129657,0.25218]\n",
    "    \n",
    "transformed_vars[\"count_credits_grt_500_6M\"] = np.select(conditions, choices, default=np.nan)"
   ]
  },
  {
   "cell_type": "code",
   "execution_count": 49,
   "metadata": {},
   "outputs": [
    {
     "data": {
      "image/png": "[encoded data removed]",
      "text/plain": [
       "<Figure size 640x480 with 2 Axes>"
      ]
     },
     "metadata": {},
     "output_type": "display_data"
    }
   ],
   "source": [
    "# 10\n",
    "Xt= df_temp['ratio_credits_grt_1500_1M_3M']\n",
    "yt = df_temp['target'].astype(int)\n",
    "\n",
    "optb = OptimalBinning(name='ratio_credits_grt_1500_1M_3M', dtype=\"numerical\", max_n_prebins=5, monotonic_trend='descending',special_codes = [0])\n",
    "optb.fit(Xt, yt)  \n",
    "\n",
    "Xt_binned = optb.transform(Xt)\n",
    "\n",
    "ob_ratio_credits_grt_1500_1M_3M = optb.binning_table.build()\n",
    "\n",
    "optb.binning_table.plot(metric=\"event_rate\")"
   ]
  },
  {
   "cell_type": "code",
   "execution_count": 50,
   "metadata": {},
   "outputs": [
    {
     "data": {
      "text/html": [
       "<div>\n",
       "<style scoped>\n",
       "    .dataframe tbody tr th:only-of-type {\n",
       "        vertical-align: middle;\n",
       "    }\n",
       "\n",
       "    .dataframe tbody tr th {\n",
       "        vertical-align: top;\n",
       "    }\n",
       "\n",
       "    .dataframe thead th {\n",
       "        text-align: right;\n",
       "    }\n",
       "</style>\n",
       "<table border=\"1\" class=\"dataframe\">\n",
       "  <thead>\n",
       "    <tr style=\"text-align: right;\">\n",
       "      <th></th>\n",
       "      <th>Bin</th>\n",
       "      <th>Count</th>\n",
       "      <th>Count (%)</th>\n",
       "      <th>Non-event</th>\n",
       "      <th>Event</th>\n",
       "      <th>Event rate</th>\n",
       "      <th>WoE</th>\n",
       "      <th>IV</th>\n",
       "      <th>JS</th>\n",
       "    </tr>\n",
       "  </thead>\n",
       "  <tbody>\n",
       "    <tr>\n",
       "      <th>0</th>\n",
       "      <td>(-inf, 0.17)</td>\n",
       "      <td>29</td>\n",
       "      <td>0.065169</td>\n",
       "      <td>20</td>\n",
       "      <td>9</td>\n",
       "      <td>0.310345</td>\n",
       "      <td>-0.546172</td>\n",
       "      <td>0.022485</td>\n",
       "      <td>0.002776</td>\n",
       "    </tr>\n",
       "    <tr>\n",
       "      <th>1</th>\n",
       "      <td>[0.17, 0.34)</td>\n",
       "      <td>127</td>\n",
       "      <td>0.285393</td>\n",
       "      <td>102</td>\n",
       "      <td>25</td>\n",
       "      <td>0.196850</td>\n",
       "      <td>0.061418</td>\n",
       "      <td>0.001057</td>\n",
       "      <td>0.000132</td>\n",
       "    </tr>\n",
       "    <tr>\n",
       "      <th>2</th>\n",
       "      <td>[0.34, inf)</td>\n",
       "      <td>112</td>\n",
       "      <td>0.251685</td>\n",
       "      <td>96</td>\n",
       "      <td>16</td>\n",
       "      <td>0.142857</td>\n",
       "      <td>0.44708</td>\n",
       "      <td>0.043832</td>\n",
       "      <td>0.005434</td>\n",
       "    </tr>\n",
       "    <tr>\n",
       "      <th>3</th>\n",
       "      <td>Special</td>\n",
       "      <td>177</td>\n",
       "      <td>0.397753</td>\n",
       "      <td>135</td>\n",
       "      <td>42</td>\n",
       "      <td>0.237288</td>\n",
       "      <td>-0.177074</td>\n",
       "      <td>0.013119</td>\n",
       "      <td>0.001638</td>\n",
       "    </tr>\n",
       "    <tr>\n",
       "      <th>4</th>\n",
       "      <td>Missing</td>\n",
       "      <td>0</td>\n",
       "      <td>0.000000</td>\n",
       "      <td>0</td>\n",
       "      <td>0</td>\n",
       "      <td>0.000000</td>\n",
       "      <td>0.0</td>\n",
       "      <td>0.000000</td>\n",
       "      <td>0.000000</td>\n",
       "    </tr>\n",
       "    <tr>\n",
       "      <th>Totals</th>\n",
       "      <td></td>\n",
       "      <td>445</td>\n",
       "      <td>1.000000</td>\n",
       "      <td>353</td>\n",
       "      <td>92</td>\n",
       "      <td>0.206742</td>\n",
       "      <td></td>\n",
       "      <td>0.080494</td>\n",
       "      <td>0.009980</td>\n",
       "    </tr>\n",
       "  </tbody>\n",
       "</table>\n",
       "</div>"
      ],
      "text/plain": [
       "                 Bin  Count  Count (%)  Non-event  Event  Event rate  \\\n",
       "0       (-inf, 0.17)     29   0.065169         20      9    0.310345   \n",
       "1       [0.17, 0.34)    127   0.285393        102     25    0.196850   \n",
       "2        [0.34, inf)    112   0.251685         96     16    0.142857   \n",
       "3            Special    177   0.397753        135     42    0.237288   \n",
       "4            Missing      0   0.000000          0      0    0.000000   \n",
       "Totals                  445   1.000000        353     92    0.206742   \n",
       "\n",
       "             WoE        IV        JS  \n",
       "0      -0.546172  0.022485  0.002776  \n",
       "1       0.061418  0.001057  0.000132  \n",
       "2        0.44708  0.043832  0.005434  \n",
       "3      -0.177074  0.013119  0.001638  \n",
       "4            0.0  0.000000  0.000000  \n",
       "Totals            0.080494  0.009980  "
      ]
     },
     "execution_count": 50,
     "metadata": {},
     "output_type": "execute_result"
    }
   ],
   "source": [
    "ob_ratio_credits_grt_1500_1M_3M"
   ]
  },
  {
   "cell_type": "code",
   "execution_count": 51,
   "metadata": {},
   "outputs": [],
   "source": [
    "# 10\n",
    "# transform\n",
    "col         = 'ratio_credits_grt_1500_1M_3M'\n",
    "conditions  = [ transformed_vars[col] <= 0, \n",
    "                (transformed_vars[col] > 0 ) & (transformed_vars[col] < 0.17),\n",
    "                (transformed_vars[col] >= 0.17 ) & (transformed_vars[col] < 0.34),\n",
    "                transformed_vars[col] >= 0.34 ]\n",
    "\n",
    "choices     = [-0.177074,-0.546172,0.061418,0.44708]\n",
    "    \n",
    "transformed_vars[\"ratio_credits_grt_1500_1M_3M\"] = np.select(conditions, choices, default=np.nan)"
   ]
  },
  {
   "cell_type": "code",
   "execution_count": 52,
   "metadata": {},
   "outputs": [
    {
     "data": {
      "text/html": [
       "<div>\n",
       "<style scoped>\n",
       "    .dataframe tbody tr th:only-of-type {\n",
       "        vertical-align: middle;\n",
       "    }\n",
       "\n",
       "    .dataframe tbody tr th {\n",
       "        vertical-align: top;\n",
       "    }\n",
       "\n",
       "    .dataframe thead th {\n",
       "        text-align: right;\n",
       "    }\n",
       "</style>\n",
       "<table border=\"1\" class=\"dataframe\">\n",
       "  <thead>\n",
       "    <tr style=\"text-align: right;\">\n",
       "      <th></th>\n",
       "      <th>stddev_credit_amt_3M</th>\n",
       "      <th>median_shops_amt_6M</th>\n",
       "      <th>stddev_payroll_amt_3M</th>\n",
       "      <th>shops_count_3M</th>\n",
       "      <th>pos_amt_1M</th>\n",
       "      <th>ratio_stddev_third_party_amt_3M_6M</th>\n",
       "      <th>ratio_pos_size_credit_size_1M</th>\n",
       "      <th>count_credits_lessthan_100_6M</th>\n",
       "      <th>count_credits_grt_500_6M</th>\n",
       "      <th>ratio_credits_grt_1500_1M_3M</th>\n",
       "    </tr>\n",
       "  </thead>\n",
       "  <tbody>\n",
       "    <tr>\n",
       "      <th>408</th>\n",
       "      <td>-0.551449</td>\n",
       "      <td>0.175146</td>\n",
       "      <td>0.028132</td>\n",
       "      <td>0.226839</td>\n",
       "      <td>-0.102424</td>\n",
       "      <td>0.290734</td>\n",
       "      <td>-0.129343</td>\n",
       "      <td>0.656801</td>\n",
       "      <td>-0.129657</td>\n",
       "      <td>-0.177074</td>\n",
       "    </tr>\n",
       "    <tr>\n",
       "      <th>108</th>\n",
       "      <td>-0.013445</td>\n",
       "      <td>-0.548348</td>\n",
       "      <td>-0.363850</td>\n",
       "      <td>-0.347537</td>\n",
       "      <td>-0.102424</td>\n",
       "      <td>-0.271068</td>\n",
       "      <td>-0.129343</td>\n",
       "      <td>-0.054845</td>\n",
       "      <td>0.252180</td>\n",
       "      <td>0.061418</td>\n",
       "    </tr>\n",
       "    <tr>\n",
       "      <th>613</th>\n",
       "      <td>-0.013445</td>\n",
       "      <td>-0.548348</td>\n",
       "      <td>0.028132</td>\n",
       "      <td>0.226839</td>\n",
       "      <td>-0.102424</td>\n",
       "      <td>-0.271068</td>\n",
       "      <td>-0.129343</td>\n",
       "      <td>-0.054845</td>\n",
       "      <td>-0.129657</td>\n",
       "      <td>0.061418</td>\n",
       "    </tr>\n",
       "    <tr>\n",
       "      <th>101</th>\n",
       "      <td>-0.013445</td>\n",
       "      <td>-0.548348</td>\n",
       "      <td>0.814805</td>\n",
       "      <td>-0.347537</td>\n",
       "      <td>-0.102424</td>\n",
       "      <td>-0.271068</td>\n",
       "      <td>0.326452</td>\n",
       "      <td>-0.054845</td>\n",
       "      <td>-0.129657</td>\n",
       "      <td>0.061418</td>\n",
       "    </tr>\n",
       "    <tr>\n",
       "      <th>484</th>\n",
       "      <td>1.951157</td>\n",
       "      <td>0.175146</td>\n",
       "      <td>0.814805</td>\n",
       "      <td>0.226839</td>\n",
       "      <td>-0.102424</td>\n",
       "      <td>0.290734</td>\n",
       "      <td>-0.129343</td>\n",
       "      <td>0.656801</td>\n",
       "      <td>0.252180</td>\n",
       "      <td>-0.177074</td>\n",
       "    </tr>\n",
       "    <tr>\n",
       "      <th>...</th>\n",
       "      <td>...</td>\n",
       "      <td>...</td>\n",
       "      <td>...</td>\n",
       "      <td>...</td>\n",
       "      <td>...</td>\n",
       "      <td>...</td>\n",
       "      <td>...</td>\n",
       "      <td>...</td>\n",
       "      <td>...</td>\n",
       "      <td>...</td>\n",
       "    </tr>\n",
       "    <tr>\n",
       "      <th>170</th>\n",
       "      <td>-0.551449</td>\n",
       "      <td>-0.548348</td>\n",
       "      <td>0.028132</td>\n",
       "      <td>0.018625</td>\n",
       "      <td>-0.102424</td>\n",
       "      <td>-0.271068</td>\n",
       "      <td>-0.129343</td>\n",
       "      <td>-0.054845</td>\n",
       "      <td>-0.129657</td>\n",
       "      <td>-0.177074</td>\n",
       "    </tr>\n",
       "    <tr>\n",
       "      <th>157</th>\n",
       "      <td>0.404520</td>\n",
       "      <td>-0.315060</td>\n",
       "      <td>0.814805</td>\n",
       "      <td>-0.347537</td>\n",
       "      <td>-0.102424</td>\n",
       "      <td>-0.271068</td>\n",
       "      <td>-0.129343</td>\n",
       "      <td>-0.054845</td>\n",
       "      <td>0.252180</td>\n",
       "      <td>0.447080</td>\n",
       "    </tr>\n",
       "    <tr>\n",
       "      <th>36</th>\n",
       "      <td>-0.013445</td>\n",
       "      <td>0.175146</td>\n",
       "      <td>0.028132</td>\n",
       "      <td>0.226839</td>\n",
       "      <td>-0.102424</td>\n",
       "      <td>0.290734</td>\n",
       "      <td>-0.129343</td>\n",
       "      <td>-0.054845</td>\n",
       "      <td>-0.129657</td>\n",
       "      <td>-0.177074</td>\n",
       "    </tr>\n",
       "    <tr>\n",
       "      <th>5</th>\n",
       "      <td>-0.551449</td>\n",
       "      <td>-0.548348</td>\n",
       "      <td>-0.363850</td>\n",
       "      <td>-0.347537</td>\n",
       "      <td>-0.102424</td>\n",
       "      <td>-0.271068</td>\n",
       "      <td>-0.129343</td>\n",
       "      <td>-0.054845</td>\n",
       "      <td>-0.129657</td>\n",
       "      <td>-0.177074</td>\n",
       "    </tr>\n",
       "    <tr>\n",
       "      <th>475</th>\n",
       "      <td>-0.013445</td>\n",
       "      <td>0.175146</td>\n",
       "      <td>0.028132</td>\n",
       "      <td>0.226839</td>\n",
       "      <td>-0.102424</td>\n",
       "      <td>-0.271068</td>\n",
       "      <td>-0.129343</td>\n",
       "      <td>-0.054845</td>\n",
       "      <td>0.252180</td>\n",
       "      <td>0.447080</td>\n",
       "    </tr>\n",
       "  </tbody>\n",
       "</table>\n",
       "<p>445 rows × 10 columns</p>\n",
       "</div>"
      ],
      "text/plain": [
       "     stddev_credit_amt_3M  median_shops_amt_6M  stddev_payroll_amt_3M  \\\n",
       "408             -0.551449             0.175146               0.028132   \n",
       "108             -0.013445            -0.548348              -0.363850   \n",
       "613             -0.013445            -0.548348               0.028132   \n",
       "101             -0.013445            -0.548348               0.814805   \n",
       "484              1.951157             0.175146               0.814805   \n",
       "..                    ...                  ...                    ...   \n",
       "170             -0.551449            -0.548348               0.028132   \n",
       "157              0.404520            -0.315060               0.814805   \n",
       "36              -0.013445             0.175146               0.028132   \n",
       "5               -0.551449            -0.548348              -0.363850   \n",
       "475             -0.013445             0.175146               0.028132   \n",
       "\n",
       "     shops_count_3M  pos_amt_1M  ratio_stddev_third_party_amt_3M_6M  \\\n",
       "408        0.226839   -0.102424                            0.290734   \n",
       "108       -0.347537   -0.102424                           -0.271068   \n",
       "613        0.226839   -0.102424                           -0.271068   \n",
       "101       -0.347537   -0.102424                           -0.271068   \n",
       "484        0.226839   -0.102424                            0.290734   \n",
       "..              ...         ...                                 ...   \n",
       "170        0.018625   -0.102424                           -0.271068   \n",
       "157       -0.347537   -0.102424                           -0.271068   \n",
       "36         0.226839   -0.102424                            0.290734   \n",
       "5         -0.347537   -0.102424                           -0.271068   \n",
       "475        0.226839   -0.102424                           -0.271068   \n",
       "\n",
       "     ratio_pos_size_credit_size_1M  count_credits_lessthan_100_6M  \\\n",
       "408                      -0.129343                       0.656801   \n",
       "108                      -0.129343                      -0.054845   \n",
       "613                      -0.129343                      -0.054845   \n",
       "101                       0.326452                      -0.054845   \n",
       "484                      -0.129343                       0.656801   \n",
       "..                             ...                            ...   \n",
       "170                      -0.129343                      -0.054845   \n",
       "157                      -0.129343                      -0.054845   \n",
       "36                       -0.129343                      -0.054845   \n",
       "5                        -0.129343                      -0.054845   \n",
       "475                      -0.129343                      -0.054845   \n",
       "\n",
       "     count_credits_grt_500_6M  ratio_credits_grt_1500_1M_3M  \n",
       "408                 -0.129657                     -0.177074  \n",
       "108                  0.252180                      0.061418  \n",
       "613                 -0.129657                      0.061418  \n",
       "101                 -0.129657                      0.061418  \n",
       "484                  0.252180                     -0.177074  \n",
       "..                        ...                           ...  \n",
       "170                 -0.129657                     -0.177074  \n",
       "157                  0.252180                      0.447080  \n",
       "36                  -0.129657                     -0.177074  \n",
       "5                   -0.129657                     -0.177074  \n",
       "475                  0.252180                      0.447080  \n",
       "\n",
       "[445 rows x 10 columns]"
      ]
     },
     "execution_count": 52,
     "metadata": {},
     "output_type": "execute_result"
    }
   ],
   "source": [
    "transformed_vars"
   ]
  },
  {
   "cell_type": "markdown",
   "metadata": {},
   "source": [
    "#### Model fitting"
   ]
  },
  {
   "cell_type": "code",
   "execution_count": 53,
   "metadata": {},
   "outputs": [],
   "source": [
    "# copy vars\n",
    "X_train = transformed_vars.copy()\n",
    "\n",
    "# hyperparameters\n",
    "params_log_reg = {'penalty': 'l2',\n",
    "                  'random_state': seed,\n",
    "                  'solver': 'liblinear',\n",
    "                  'class_weight': 'balanced'}\n",
    "\n",
    "# model fit\n",
    "logreg_model = classification_models(X_train[feat_list], y_train, params_log_reg, models=['log_reg'])"
   ]
  },
  {
   "cell_type": "code",
   "execution_count": 54,
   "metadata": {},
   "outputs": [
    {
     "name": "stdout",
     "output_type": "stream",
     "text": [
      "CV Scores - [0.71 0.71 0.64]\n",
      "Mean of CV Scores - 0.69\n"
     ]
    }
   ],
   "source": [
    "# train cv scores\n",
    "cv_scores = cross_validation(logreg_model, X_train[feat_list], y_train, scoring='roc_auc', folds=3, seed=seed)\n",
    "print('CV Scores -',np.round(cv_scores, 2))\n",
    "print('Mean of CV Scores -',np.round(np.mean(cv_scores),2))"
   ]
  },
  {
   "cell_type": "code",
   "execution_count": 55,
   "metadata": {},
   "outputs": [
    {
     "data": {
      "application/vnd.plotly.v1+json": {
       "config": {
        "plotlyServerURL": "https://plot.ly"
       },
       "data": [
        {
         "alignmentgroup": "True",
         "hovertemplate": "variable=importance<br>value=%{x}<br>index=%{y}<extra></extra>",
         "legendgroup": "importance",
         "marker": {
          "color": "#636efa",
          "pattern": {
           "shape": ""
          }
         },
         "name": "importance",
         "offsetgroup": "importance",
         "orientation": "h",
         "showlegend": true,
         "textposition": "auto",
         "type": "bar",
         "x": [
          -0.6768998986545026,
          -0.5252705468937249,
          -0.3651664812565453,
          -0.8758783392002758,
          -0.4356876046172544,
          -1.0763415884975,
          -1.089411697256766,
          -0.6790572365942592,
          -0.818476789757715,
          -0.444097811361502
         ],
         "xaxis": "x",
         "y": [
          "stddev_credit_amt_3M",
          "median_shops_amt_6M",
          "stddev_payroll_amt_3M",
          "shops_count_3M",
          "pos_amt_1M",
          "ratio_stddev_third_party_amt_3M_6M",
          "ratio_pos_size_credit_size_1M",
          "count_credits_lessthan_100_6M",
          "count_credits_grt_500_6M",
          "ratio_credits_grt_1500_1M_3M"
         ],
         "yaxis": "y"
        }
       ],
       "layout": {
        "barmode": "relative",
        "height": 500,
        "legend": {
         "title": {
          "text": "variable"
         },
         "tracegroupgap": 0
        },
        "margin": {
         "t": 60
        },
        "template": {
         "data": {
          "bar": [
           {
            "error_x": {
             "color": "#2a3f5f"
            },
            "error_y": {
             "color": "#2a3f5f"
            },
            "marker": {
             "line": {
              "color": "#E5ECF6",
              "width": 0.5
             },
             "pattern": {
              "fillmode": "overlay",
              "size": 10,
              "solidity": 0.2
             }
            },
            "type": "bar"
           }
          ],
          "barpolar": [
           {
            "marker": {
             "line": {
              "color": "#E5ECF6",
              "width": 0.5
             },
             "pattern": {
              "fillmode": "overlay",
              "size": 10,
              "solidity": 0.2
             }
            },
            "type": "barpolar"
           }
          ],
          "carpet": [
           {
            "aaxis": {
             "endlinecolor": "#2a3f5f",
             "gridcolor": "white",
             "linecolor": "white",
             "minorgridcolor": "white",
             "startlinecolor": "#2a3f5f"
            },
            "baxis": {
             "endlinecolor": "#2a3f5f",
             "gridcolor": "white",
             "linecolor": "white",
             "minorgridcolor": "white",
             "startlinecolor": "#2a3f5f"
            },
            "type": "carpet"
           }
          ],
          "choropleth": [
           {
            "colorbar": {
             "outlinewidth": 0,
             "ticks": ""
            },
            "type": "choropleth"
           }
          ],
          "contour": [
           {
            "colorbar": {
             "outlinewidth": 0,
             "ticks": ""
            },
            "colorscale": [
             [
              0,
              "#0d0887"
             ],
             [
              0.1111111111111111,
              "#46039f"
             ],
             [
              0.2222222222222222,
              "#7201a8"
             ],
             [
              0.3333333333333333,
              "#9c179e"
             ],
             [
              0.4444444444444444,
              "#bd3786"
             ],
             [
              0.5555555555555556,
              "#d8576b"
             ],
             [
              0.6666666666666666,
              "#ed7953"
             ],
             [
              0.7777777777777778,
              "#fb9f3a"
             ],
             [
              0.8888888888888888,
              "#fdca26"
             ],
             [
              1,
              "#f0f921"
             ]
            ],
            "type": "contour"
           }
          ],
          "contourcarpet": [
           {
            "colorbar": {
             "outlinewidth": 0,
             "ticks": ""
            },
            "type": "contourcarpet"
           }
          ],
          "heatmap": [
           {
            "colorbar": {
             "outlinewidth": 0,
             "ticks": ""
            },
            "colorscale": [
             [
              0,
              "#0d0887"
             ],
             [
              0.1111111111111111,
              "#46039f"
             ],
             [
              0.2222222222222222,
              "#7201a8"
             ],
             [
              0.3333333333333333,
              "#9c179e"
             ],
             [
              0.4444444444444444,
              "#bd3786"
             ],
             [
              0.5555555555555556,
              "#d8576b"
             ],
             [
              0.6666666666666666,
              "#ed7953"
             ],
             [
              0.7777777777777778,
              "#fb9f3a"
             ],
             [
              0.8888888888888888,
              "#fdca26"
             ],
             [
              1,
              "#f0f921"
             ]
            ],
            "type": "heatmap"
           }
          ],
          "heatmapgl": [
           {
            "colorbar": {
             "outlinewidth": 0,
             "ticks": ""
            },
            "colorscale": [
             [
              0,
              "#0d0887"
             ],
             [
              0.1111111111111111,
              "#46039f"
             ],
             [
              0.2222222222222222,
              "#7201a8"
             ],
             [
              0.3333333333333333,
              "#9c179e"
             ],
             [
              0.4444444444444444,
              "#bd3786"
             ],
             [
              0.5555555555555556,
              "#d8576b"
             ],
             [
              0.6666666666666666,
              "#ed7953"
             ],
             [
              0.7777777777777778,
              "#fb9f3a"
             ],
             [
              0.8888888888888888,
              "#fdca26"
             ],
             [
              1,
              "#f0f921"
             ]
            ],
            "type": "heatmapgl"
           }
          ],
          "histogram": [
           {
            "marker": {
             "pattern": {
              "fillmode": "overlay",
              "size": 10,
              "solidity": 0.2
             }
            },
            "type": "histogram"
           }
          ],
          "histogram2d": [
           {
            "colorbar": {
             "outlinewidth": 0,
             "ticks": ""
            },
            "colorscale": [
             [
              0,
              "#0d0887"
             ],
             [
              0.1111111111111111,
              "#46039f"
             ],
             [
              0.2222222222222222,
              "#7201a8"
             ],
             [
              0.3333333333333333,
              "#9c179e"
             ],
             [
              0.4444444444444444,
              "#bd3786"
             ],
             [
              0.5555555555555556,
              "#d8576b"
             ],
             [
              0.6666666666666666,
              "#ed7953"
             ],
             [
              0.7777777777777778,
              "#fb9f3a"
             ],
             [
              0.8888888888888888,
              "#fdca26"
             ],
             [
              1,
              "#f0f921"
             ]
            ],
            "type": "histogram2d"
           }
          ],
          "histogram2dcontour": [
           {
            "colorbar": {
             "outlinewidth": 0,
             "ticks": ""
            },
            "colorscale": [
             [
              0,
              "#0d0887"
             ],
             [
              0.1111111111111111,
              "#46039f"
             ],
             [
              0.2222222222222222,
              "#7201a8"
             ],
             [
              0.3333333333333333,
              "#9c179e"
             ],
             [
              0.4444444444444444,
              "#bd3786"
             ],
             [
              0.5555555555555556,
              "#d8576b"
             ],
             [
              0.6666666666666666,
              "#ed7953"
             ],
             [
              0.7777777777777778,
              "#fb9f3a"
             ],
             [
              0.8888888888888888,
              "#fdca26"
             ],
             [
              1,
              "#f0f921"
             ]
            ],
            "type": "histogram2dcontour"
           }
          ],
          "mesh3d": [
           {
            "colorbar": {
             "outlinewidth": 0,
             "ticks": ""
            },
            "type": "mesh3d"
           }
          ],
          "parcoords": [
           {
            "line": {
             "colorbar": {
              "outlinewidth": 0,
              "ticks": ""
             }
            },
            "type": "parcoords"
           }
          ],
          "pie": [
           {
            "automargin": true,
            "type": "pie"
           }
          ],
          "scatter": [
           {
            "fillpattern": {
             "fillmode": "overlay",
             "size": 10,
             "solidity": 0.2
            },
            "type": "scatter"
           }
          ],
          "scatter3d": [
           {
            "line": {
             "colorbar": {
              "outlinewidth": 0,
              "ticks": ""
             }
            },
            "marker": {
             "colorbar": {
              "outlinewidth": 0,
              "ticks": ""
             }
            },
            "type": "scatter3d"
           }
          ],
          "scattercarpet": [
           {
            "marker": {
             "colorbar": {
              "outlinewidth": 0,
              "ticks": ""
             }
            },
            "type": "scattercarpet"
           }
          ],
          "scattergeo": [
           {
            "marker": {
             "colorbar": {
              "outlinewidth": 0,
              "ticks": ""
             }
            },
            "type": "scattergeo"
           }
          ],
          "scattergl": [
           {
            "marker": {
             "colorbar": {
              "outlinewidth": 0,
              "ticks": ""
             }
            },
            "type": "scattergl"
           }
          ],
          "scattermapbox": [
           {
            "marker": {
             "colorbar": {
              "outlinewidth": 0,
              "ticks": ""
             }
            },
            "type": "scattermapbox"
           }
          ],
          "scatterpolar": [
           {
            "marker": {
             "colorbar": {
              "outlinewidth": 0,
              "ticks": ""
             }
            },
            "type": "scatterpolar"
           }
          ],
          "scatterpolargl": [
           {
            "marker": {
             "colorbar": {
              "outlinewidth": 0,
              "ticks": ""
             }
            },
            "type": "scatterpolargl"
           }
          ],
          "scatterternary": [
           {
            "marker": {
             "colorbar": {
              "outlinewidth": 0,
              "ticks": ""
             }
            },
            "type": "scatterternary"
           }
          ],
          "surface": [
           {
            "colorbar": {
             "outlinewidth": 0,
             "ticks": ""
            },
            "colorscale": [
             [
              0,
              "#0d0887"
             ],
             [
              0.1111111111111111,
              "#46039f"
             ],
             [
              0.2222222222222222,
              "#7201a8"
             ],
             [
              0.3333333333333333,
              "#9c179e"
             ],
             [
              0.4444444444444444,
              "#bd3786"
             ],
             [
              0.5555555555555556,
              "#d8576b"
             ],
             [
              0.6666666666666666,
              "#ed7953"
             ],
             [
              0.7777777777777778,
              "#fb9f3a"
             ],
             [
              0.8888888888888888,
              "#fdca26"
             ],
             [
              1,
              "#f0f921"
             ]
            ],
            "type": "surface"
           }
          ],
          "table": [
           {
            "cells": {
             "fill": {
              "color": "#EBF0F8"
             },
             "line": {
              "color": "white"
             }
            },
            "header": {
             "fill": {
              "color": "#C8D4E3"
             },
             "line": {
              "color": "white"
             }
            },
            "type": "table"
           }
          ]
         },
         "layout": {
          "annotationdefaults": {
           "arrowcolor": "#2a3f5f",
           "arrowhead": 0,
           "arrowwidth": 1
          },
          "autotypenumbers": "strict",
          "coloraxis": {
           "colorbar": {
            "outlinewidth": 0,
            "ticks": ""
           }
          },
          "colorscale": {
           "diverging": [
            [
             0,
             "#8e0152"
            ],
            [
             0.1,
             "#c51b7d"
            ],
            [
             0.2,
             "#de77ae"
            ],
            [
             0.3,
             "#f1b6da"
            ],
            [
             0.4,
             "#fde0ef"
            ],
            [
             0.5,
             "#f7f7f7"
            ],
            [
             0.6,
             "#e6f5d0"
            ],
            [
             0.7,
             "#b8e186"
            ],
            [
             0.8,
             "#7fbc41"
            ],
            [
             0.9,
             "#4d9221"
            ],
            [
             1,
             "#276419"
            ]
           ],
           "sequential": [
            [
             0,
             "#0d0887"
            ],
            [
             0.1111111111111111,
             "#46039f"
            ],
            [
             0.2222222222222222,
             "#7201a8"
            ],
            [
             0.3333333333333333,
             "#9c179e"
            ],
            [
             0.4444444444444444,
             "#bd3786"
            ],
            [
             0.5555555555555556,
             "#d8576b"
            ],
            [
             0.6666666666666666,
             "#ed7953"
            ],
            [
             0.7777777777777778,
             "#fb9f3a"
            ],
            [
             0.8888888888888888,
             "#fdca26"
            ],
            [
             1,
             "#f0f921"
            ]
           ],
           "sequentialminus": [
            [
             0,
             "#0d0887"
            ],
            [
             0.1111111111111111,
             "#46039f"
            ],
            [
             0.2222222222222222,
             "#7201a8"
            ],
            [
             0.3333333333333333,
             "#9c179e"
            ],
            [
             0.4444444444444444,
             "#bd3786"
            ],
            [
             0.5555555555555556,
             "#d8576b"
            ],
            [
             0.6666666666666666,
             "#ed7953"
            ],
            [
             0.7777777777777778,
             "#fb9f3a"
            ],
            [
             0.8888888888888888,
             "#fdca26"
            ],
            [
             1,
             "#f0f921"
            ]
           ]
          },
          "colorway": [
           "#636efa",
           "#EF553B",
           "#00cc96",
           "#ab63fa",
           "#FFA15A",
           "#19d3f3",
           "#FF6692",
           "#B6E880",
           "#FF97FF",
           "#FECB52"
          ],
          "font": {
           "color": "#2a3f5f"
          },
          "geo": {
           "bgcolor": "white",
           "lakecolor": "white",
           "landcolor": "#E5ECF6",
           "showlakes": true,
           "showland": true,
           "subunitcolor": "white"
          },
          "hoverlabel": {
           "align": "left"
          },
          "hovermode": "closest",
          "mapbox": {
           "style": "light"
          },
          "paper_bgcolor": "white",
          "plot_bgcolor": "#E5ECF6",
          "polar": {
           "angularaxis": {
            "gridcolor": "white",
            "linecolor": "white",
            "ticks": ""
           },
           "bgcolor": "#E5ECF6",
           "radialaxis": {
            "gridcolor": "white",
            "linecolor": "white",
            "ticks": ""
           }
          },
          "scene": {
           "xaxis": {
            "backgroundcolor": "#E5ECF6",
            "gridcolor": "white",
            "gridwidth": 2,
            "linecolor": "white",
            "showbackground": true,
            "ticks": "",
            "zerolinecolor": "white"
           },
           "yaxis": {
            "backgroundcolor": "#E5ECF6",
            "gridcolor": "white",
            "gridwidth": 2,
            "linecolor": "white",
            "showbackground": true,
            "ticks": "",
            "zerolinecolor": "white"
           },
           "zaxis": {
            "backgroundcolor": "#E5ECF6",
            "gridcolor": "white",
            "gridwidth": 2,
            "linecolor": "white",
            "showbackground": true,
            "ticks": "",
            "zerolinecolor": "white"
           }
          },
          "shapedefaults": {
           "line": {
            "color": "#2a3f5f"
           }
          },
          "ternary": {
           "aaxis": {
            "gridcolor": "white",
            "linecolor": "white",
            "ticks": ""
           },
           "baxis": {
            "gridcolor": "white",
            "linecolor": "white",
            "ticks": ""
           },
           "bgcolor": "#E5ECF6",
           "caxis": {
            "gridcolor": "white",
            "linecolor": "white",
            "ticks": ""
           }
          },
          "title": {
           "x": 0.05
          },
          "xaxis": {
           "automargin": true,
           "gridcolor": "white",
           "linecolor": "white",
           "ticks": "",
           "title": {
            "standoff": 15
           },
           "zerolinecolor": "white",
           "zerolinewidth": 2
          },
          "yaxis": {
           "automargin": true,
           "gridcolor": "white",
           "linecolor": "white",
           "ticks": "",
           "title": {
            "standoff": 15
           },
           "zerolinecolor": "white",
           "zerolinewidth": 2
          }
         }
        },
        "width": 1400,
        "xaxis": {
         "anchor": "y",
         "domain": [
          0,
          1
         ],
         "title": {
          "text": "value"
         }
        },
        "yaxis": {
         "anchor": "x",
         "categoryorder": "total ascending",
         "domain": [
          0,
          1
         ],
         "title": {
          "text": "index"
         }
        }
       }
      }
     },
     "metadata": {},
     "output_type": "display_data"
    },
    {
     "data": {
      "text/html": [
       "<div>\n",
       "<style scoped>\n",
       "    .dataframe tbody tr th:only-of-type {\n",
       "        vertical-align: middle;\n",
       "    }\n",
       "\n",
       "    .dataframe tbody tr th {\n",
       "        vertical-align: top;\n",
       "    }\n",
       "\n",
       "    .dataframe thead th {\n",
       "        text-align: right;\n",
       "    }\n",
       "</style>\n",
       "<table border=\"1\" class=\"dataframe\">\n",
       "  <thead>\n",
       "    <tr style=\"text-align: right;\">\n",
       "      <th></th>\n",
       "      <th>importance</th>\n",
       "    </tr>\n",
       "  </thead>\n",
       "  <tbody>\n",
       "    <tr>\n",
       "      <th>stddev_payroll_amt_3M</th>\n",
       "      <td>-0.365166</td>\n",
       "    </tr>\n",
       "    <tr>\n",
       "      <th>pos_amt_1M</th>\n",
       "      <td>-0.435688</td>\n",
       "    </tr>\n",
       "    <tr>\n",
       "      <th>ratio_credits_grt_1500_1M_3M</th>\n",
       "      <td>-0.444098</td>\n",
       "    </tr>\n",
       "    <tr>\n",
       "      <th>median_shops_amt_6M</th>\n",
       "      <td>-0.525271</td>\n",
       "    </tr>\n",
       "    <tr>\n",
       "      <th>stddev_credit_amt_3M</th>\n",
       "      <td>-0.676900</td>\n",
       "    </tr>\n",
       "    <tr>\n",
       "      <th>count_credits_lessthan_100_6M</th>\n",
       "      <td>-0.679057</td>\n",
       "    </tr>\n",
       "    <tr>\n",
       "      <th>count_credits_grt_500_6M</th>\n",
       "      <td>-0.818477</td>\n",
       "    </tr>\n",
       "    <tr>\n",
       "      <th>shops_count_3M</th>\n",
       "      <td>-0.875878</td>\n",
       "    </tr>\n",
       "    <tr>\n",
       "      <th>ratio_stddev_third_party_amt_3M_6M</th>\n",
       "      <td>-1.076342</td>\n",
       "    </tr>\n",
       "    <tr>\n",
       "      <th>ratio_pos_size_credit_size_1M</th>\n",
       "      <td>-1.089412</td>\n",
       "    </tr>\n",
       "  </tbody>\n",
       "</table>\n",
       "</div>"
      ],
      "text/plain": [
       "                                    importance\n",
       "stddev_payroll_amt_3M                -0.365166\n",
       "pos_amt_1M                           -0.435688\n",
       "ratio_credits_grt_1500_1M_3M         -0.444098\n",
       "median_shops_amt_6M                  -0.525271\n",
       "stddev_credit_amt_3M                 -0.676900\n",
       "count_credits_lessthan_100_6M        -0.679057\n",
       "count_credits_grt_500_6M             -0.818477\n",
       "shops_count_3M                       -0.875878\n",
       "ratio_stddev_third_party_amt_3M_6M   -1.076342\n",
       "ratio_pos_size_credit_size_1M        -1.089412"
      ]
     },
     "execution_count": 55,
     "metadata": {},
     "output_type": "execute_result"
    }
   ],
   "source": [
    "# Feature importance\n",
    "feat_imp = feature_importance(logreg_model, X_train[feat_list], show_plot=True)\n",
    "\n",
    "feat_imp.sort_values(by='importance', ascending=False)"
   ]
  },
  {
   "cell_type": "code",
   "execution_count": 56,
   "metadata": {},
   "outputs": [],
   "source": [
    "# binning variable transform\n",
    "x_test.fillna(0, inplace=True)\n",
    "\n",
    "transformed_vars = x_test[feat_list]"
   ]
  },
  {
   "cell_type": "code",
   "execution_count": 57,
   "metadata": {},
   "outputs": [],
   "source": [
    "# 1\n",
    "# transform\n",
    "col         = 'stddev_credit_amt_3M'\n",
    "conditions  = [ transformed_vars[col] <= 0, \n",
    "                (transformed_vars[col] > 0 ) & (transformed_vars[col] < 578), \n",
    "                (transformed_vars[col] >= 578 ) & (transformed_vars[col] < 1274), \n",
    "                (transformed_vars[col] >= 1274) & (transformed_vars[col] < 7646),\n",
    "                transformed_vars[col] >= 7646 ]\n",
    "\n",
    "choices     = [0.090405,-0.551449,-0.013445, 0.40452,1.951157]\n",
    "    \n",
    "transformed_vars[\"stddev_credit_amt_3M\"] = np.select(conditions, choices, default=np.nan)\n",
    "\n",
    "# 2\n",
    "# transform\n",
    "col         = 'median_shops_amt_6M'\n",
    "conditions  = [ transformed_vars[col] <= 0, \n",
    "                (transformed_vars[col] > 0 ) & (transformed_vars[col] < 109), \n",
    "                (transformed_vars[col] >= 109 ) & (transformed_vars[col] < 954),\n",
    "                transformed_vars[col] >= 954 ]\n",
    "\n",
    "choices     = [0.175146,-0.548348,-0.31506, 0.734762]\n",
    "    \n",
    "transformed_vars[\"median_shops_amt_6M\"] = np.select(conditions, choices, default=np.nan)\n",
    "\n",
    "# 3\n",
    "# transform\n",
    "col         = 'stddev_payroll_amt_3M'\n",
    "conditions  = [ transformed_vars[col] <= 0, \n",
    "                (transformed_vars[col] > 0 ) & (transformed_vars[col] < 901),\n",
    "                transformed_vars[col] >= 901 ]\n",
    "\n",
    "choices     = [0.028132,-0.36385,0.814805]\n",
    "    \n",
    "transformed_vars[\"stddev_payroll_amt_3M\"] = np.select(conditions, choices, default=np.nan)\n",
    "\n",
    "# 4\n",
    "# transform\n",
    "col         = 'shops_count_3M'\n",
    "conditions  = [ transformed_vars[col] <= 0, \n",
    "                (transformed_vars[col] > 0 ) & (transformed_vars[col] < 4.5),\n",
    "                transformed_vars[col] >= 4.5 ]\n",
    "\n",
    "choices     = [0.226839,-0.347537,0.018625]\n",
    "    \n",
    "transformed_vars[\"shops_count_3M\"] = np.select(conditions, choices, default=np.nan)\n",
    "\n",
    "# 5\n",
    "# transform\n",
    "col         = 'pos_amt_1M'\n",
    "conditions  = [ transformed_vars[col] < 1780,\n",
    "                transformed_vars[col] >= 1780 ]\n",
    "\n",
    "choices     = [-0.102424,0.586842]\n",
    "    \n",
    "transformed_vars[\"pos_amt_1M\"] = np.select(conditions, choices, default=np.nan)\n",
    "\n",
    "# 6\n",
    "# transform\n",
    "col         = 'ratio_stddev_third_party_amt_3M_6M'\n",
    "conditions  = [ transformed_vars[col] <= 0,\n",
    "                transformed_vars[col] > 0 ]\n",
    "\n",
    "choices     = [0.290734,-0.271068]\n",
    "    \n",
    "transformed_vars[\"ratio_stddev_third_party_amt_3M_6M\"] = np.select(conditions, choices, default=np.nan)\n",
    "\n",
    "# 7\n",
    "# transform\n",
    "col         = 'ratio_pos_size_credit_size_1M'\n",
    "conditions  = [ transformed_vars[col] < 0.27,\n",
    "                transformed_vars[col] >= 0.27 ]\n",
    "\n",
    "choices     = [-0.129343,0.326452]\n",
    "    \n",
    "transformed_vars[\"ratio_pos_size_credit_size_1M\"] = np.select(conditions, choices, default=np.nan)\n",
    "\n",
    "# 8\n",
    "# transform\n",
    "col         = 'count_credits_lessthan_100_6M'\n",
    "conditions  = [ transformed_vars[col] <= 0,\n",
    "                transformed_vars[col] > 0 ]\n",
    "\n",
    "choices     = [0.656801,-0.054845]\n",
    "    \n",
    "transformed_vars[\"count_credits_lessthan_100_6M\"] = np.select(conditions, choices, default=np.nan)\n",
    "\n",
    "\n",
    "# 9\n",
    "# transform\n",
    "col         = 'count_credits_grt_500_6M'\n",
    "conditions  = [ transformed_vars[col] <= 0, \n",
    "                (transformed_vars[col] > 0 ) & (transformed_vars[col] < 22.5),\n",
    "                transformed_vars[col] >= 22.5 ]\n",
    "\n",
    "choices     = [-0.57149,-0.129657,0.25218]\n",
    "    \n",
    "transformed_vars[\"count_credits_grt_500_6M\"] = np.select(conditions, choices, default=np.nan)\n",
    "\n",
    "\n",
    "# 10\n",
    "# transform\n",
    "col         = 'ratio_credits_grt_1500_1M_3M'\n",
    "conditions  = [ transformed_vars[col] <= 0, \n",
    "                (transformed_vars[col] > 0 ) & (transformed_vars[col] < 0.17),\n",
    "                (transformed_vars[col] >= 0.17 ) & (transformed_vars[col] < 0.34),\n",
    "                transformed_vars[col] >= 0.34 ]\n",
    "\n",
    "choices     = [-0.177074,-0.546172,0.061418,0.44708]\n",
    "    \n",
    "transformed_vars[\"ratio_credits_grt_1500_1M_3M\"] = np.select(conditions, choices, default=np.nan)\n"
   ]
  },
  {
   "cell_type": "code",
   "execution_count": 58,
   "metadata": {},
   "outputs": [],
   "source": [
    "# copy\n",
    "X_test = transformed_vars.copy()"
   ]
  },
  {
   "cell_type": "code",
   "execution_count": 59,
   "metadata": {},
   "outputs": [
    {
     "name": "stdout",
     "output_type": "stream",
     "text": [
      "CV Scores - [0.68 0.68 0.59]\n",
      "Mean of CV Scores - 0.65\n"
     ]
    }
   ],
   "source": [
    "# test cv scores\n",
    "cv_scores = cross_validation(logreg_model, X_test[feat_list], y_test, scoring='roc_auc', folds=3, seed=seed)\n",
    "print('CV Scores -',np.round(cv_scores, 2))\n",
    "print('Mean of CV Scores -',np.round(np.mean(cv_scores),2))"
   ]
  },
  {
   "cell_type": "code",
   "execution_count": 60,
   "metadata": {},
   "outputs": [],
   "source": [
    "## Model Evaluation - KS & ROC AUC\n",
    "\n",
    "def ks(target=None, prob=None):\n",
    "    data = pd.DataFrame()\n",
    "    data['y'] = target\n",
    "    data['y'] = data['y'].astype(float)\n",
    "    data['p'] = prob\n",
    "    data['y0'] = 1- data['y']\n",
    "    data['bucket'] = pd.qcut(data['p'], 5)\n",
    "    grouped = data.groupby('bucket', as_index=False)\n",
    "    kstable = pd.DataFrame()\n",
    "    kstable['min_prob'] = grouped.min()['p']\n",
    "    kstable['max_prob'] = grouped.max()['p']\n",
    "    kstable['events'] = grouped.sum()['y']\n",
    "    kstable['nonevents'] = grouped.sum()['y0']\n",
    "    kstable = kstable.sort_values(by='min_prob', ascending=False).reset_index(drop=True)\n",
    "    kstable['event_rate'] = (kstable.events / data['y'].sum()).apply('{0:.2%}'.format)\n",
    "    kstable['nonevent_rate'] = (kstable['nonevents'] /  data['y0'].sum()).apply('{0:2%}'.format)\n",
    "    kstable['cum_eventrate'] = (kstable.events / data['y'].sum()).cumsum()\n",
    "    kstable['cum_noneventrate'] = (kstable.nonevents / data['y0'].sum()).cumsum()\n",
    "    kstable['KS'] = np.round(kstable['cum_eventrate'] - kstable['cum_noneventrate'], 3) * 100\n",
    "    kstable['bad_rate'] = (kstable['events'] / (kstable['events'] + kstable['nonevents'])) * 100\n",
    "    \n",
    "    # formatting\n",
    "    kstable['cum_eventrate'] = kstable['cum_eventrate'].apply('{0:.2%}'.format)\n",
    "    kstable['cum_noneventrate'] = kstable['cum_noneventrate'].apply('{0:.2%}'.format)\n",
    "    kstable.index = range(1,6)\n",
    "    kstable.index.rename('Decile', inplace=True)\n",
    "    pd.set_option('display.max_columns', 9)\n",
    "    print(kstable)\n",
    "    \n",
    "    # Display KS\n",
    "    print(\"KS is \" + str(max(kstable['KS']))+\"%\"+ \" at decile \" + str((kstable.index[kstable['KS']==max(kstable['KS'])][0])))\n",
    "    return kstable"
   ]
  },
  {
   "cell_type": "code",
   "execution_count": 61,
   "metadata": {},
   "outputs": [
    {
     "name": "stdout",
     "output_type": "stream",
     "text": [
      "        min_prob  max_prob  events  nonevents  ... cum_eventrate  \\\n",
      "Decile                                         ...                 \n",
      "1       0.606826  0.859053    39.0       50.0  ...        42.39%   \n",
      "2       0.523070  0.606444    21.0       68.0  ...        65.22%   \n",
      "3       0.414504  0.521187    17.0       72.0  ...        83.70%   \n",
      "4       0.316767  0.412000    11.0       78.0  ...        95.65%   \n",
      "5       0.051952  0.315002     4.0       85.0  ...       100.00%   \n",
      "\n",
      "       cum_noneventrate    KS   bad_rate  \n",
      "Decile                                    \n",
      "1                14.16%  28.2  43.820225  \n",
      "2                33.43%  31.8  23.595506  \n",
      "3                53.82%  29.9  19.101124  \n",
      "4                75.92%  19.7  12.359551  \n",
      "5               100.00%  -0.0   4.494382  \n",
      "\n",
      "[5 rows x 10 columns]\n",
      "KS is 31.8% at decile 2\n",
      "        min_prob  max_prob  events  nonevents  ... cum_eventrate  \\\n",
      "Decile                                         ...                 \n",
      "1       0.643256  0.859053    16.0       23.0  ...        40.00%   \n",
      "2       0.526335  0.635649     9.0       29.0  ...        62.50%   \n",
      "3       0.423909  0.525892     7.0       30.0  ...        80.00%   \n",
      "4       0.321717  0.420664     5.0       33.0  ...        92.50%   \n",
      "5       0.061065  0.321305     3.0       37.0  ...       100.00%   \n",
      "\n",
      "       cum_noneventrate    KS   bad_rate  \n",
      "Decile                                    \n",
      "1                15.13%  24.9  41.025641  \n",
      "2                34.21%  28.3  23.684211  \n",
      "3                53.95%  26.1  18.918919  \n",
      "4                75.66%  16.8  13.157895  \n",
      "5               100.00%   0.0   7.500000  \n",
      "\n",
      "[5 rows x 10 columns]\n",
      "KS is 28.299999999999997% at decile 2\n"
     ]
    }
   ],
   "source": [
    "# predicted proability\n",
    "train_pred = logreg_model.predict_proba(X_train[feat_list])[:,1]\n",
    "                                                                     \n",
    "test_pred = logreg_model.predict_proba(X_test[feat_list])[:,1]\n",
    "\n",
    "\n",
    "train_ks = ks(y_train, train_pred)\n",
    "test_ks = ks(y_test, test_pred)\n",
    "\n"
   ]
  },
  {
   "cell_type": "code",
   "execution_count": 62,
   "metadata": {},
   "outputs": [
    {
     "name": "stdout",
     "output_type": "stream",
     "text": [
      "Train AUC = 0.7212249045448946\n",
      "Test AUC = 0.6966282894736842\n"
     ]
    }
   ],
   "source": [
    "from sklearn.metrics import  roc_auc_score\n",
    "\n",
    "print('Train AUC = {}'.format(roc_auc_score(y_train, train_pred)))   \n",
    "  \n",
    "print('Test AUC = {}'.format(roc_auc_score(y_test, test_pred)))    "
   ]
  },
  {
   "cell_type": "code",
   "execution_count": 63,
   "metadata": {},
   "outputs": [
    {
     "data": {
      "text/html": [
       "<div>\n",
       "<style scoped>\n",
       "    .dataframe tbody tr th:only-of-type {\n",
       "        vertical-align: middle;\n",
       "    }\n",
       "\n",
       "    .dataframe tbody tr th {\n",
       "        vertical-align: top;\n",
       "    }\n",
       "\n",
       "    .dataframe thead th {\n",
       "        text-align: right;\n",
       "    }\n",
       "</style>\n",
       "<table border=\"1\" class=\"dataframe\">\n",
       "  <thead>\n",
       "    <tr style=\"text-align: right;\">\n",
       "      <th></th>\n",
       "      <th>min_prob</th>\n",
       "      <th>max_prob</th>\n",
       "      <th>events</th>\n",
       "      <th>nonevents</th>\n",
       "      <th>...</th>\n",
       "      <th>cum_eventrate</th>\n",
       "      <th>cum_noneventrate</th>\n",
       "      <th>KS</th>\n",
       "      <th>bad_rate</th>\n",
       "    </tr>\n",
       "    <tr>\n",
       "      <th>Decile</th>\n",
       "      <th></th>\n",
       "      <th></th>\n",
       "      <th></th>\n",
       "      <th></th>\n",
       "      <th></th>\n",
       "      <th></th>\n",
       "      <th></th>\n",
       "      <th></th>\n",
       "      <th></th>\n",
       "    </tr>\n",
       "  </thead>\n",
       "  <tbody>\n",
       "    <tr>\n",
       "      <th>1</th>\n",
       "      <td>0.606826</td>\n",
       "      <td>0.859053</td>\n",
       "      <td>39.0</td>\n",
       "      <td>50.0</td>\n",
       "      <td>...</td>\n",
       "      <td>42.39%</td>\n",
       "      <td>14.16%</td>\n",
       "      <td>28.2</td>\n",
       "      <td>43.820225</td>\n",
       "    </tr>\n",
       "    <tr>\n",
       "      <th>2</th>\n",
       "      <td>0.523070</td>\n",
       "      <td>0.606444</td>\n",
       "      <td>21.0</td>\n",
       "      <td>68.0</td>\n",
       "      <td>...</td>\n",
       "      <td>65.22%</td>\n",
       "      <td>33.43%</td>\n",
       "      <td>31.8</td>\n",
       "      <td>23.595506</td>\n",
       "    </tr>\n",
       "    <tr>\n",
       "      <th>3</th>\n",
       "      <td>0.414504</td>\n",
       "      <td>0.521187</td>\n",
       "      <td>17.0</td>\n",
       "      <td>72.0</td>\n",
       "      <td>...</td>\n",
       "      <td>83.70%</td>\n",
       "      <td>53.82%</td>\n",
       "      <td>29.9</td>\n",
       "      <td>19.101124</td>\n",
       "    </tr>\n",
       "    <tr>\n",
       "      <th>4</th>\n",
       "      <td>0.316767</td>\n",
       "      <td>0.412000</td>\n",
       "      <td>11.0</td>\n",
       "      <td>78.0</td>\n",
       "      <td>...</td>\n",
       "      <td>95.65%</td>\n",
       "      <td>75.92%</td>\n",
       "      <td>19.7</td>\n",
       "      <td>12.359551</td>\n",
       "    </tr>\n",
       "    <tr>\n",
       "      <th>5</th>\n",
       "      <td>0.051952</td>\n",
       "      <td>0.315002</td>\n",
       "      <td>4.0</td>\n",
       "      <td>85.0</td>\n",
       "      <td>...</td>\n",
       "      <td>100.00%</td>\n",
       "      <td>100.00%</td>\n",
       "      <td>-0.0</td>\n",
       "      <td>4.494382</td>\n",
       "    </tr>\n",
       "  </tbody>\n",
       "</table>\n",
       "<p>5 rows × 10 columns</p>\n",
       "</div>"
      ],
      "text/plain": [
       "        min_prob  max_prob  events  nonevents  ... cum_eventrate  \\\n",
       "Decile                                         ...                 \n",
       "1       0.606826  0.859053    39.0       50.0  ...        42.39%   \n",
       "2       0.523070  0.606444    21.0       68.0  ...        65.22%   \n",
       "3       0.414504  0.521187    17.0       72.0  ...        83.70%   \n",
       "4       0.316767  0.412000    11.0       78.0  ...        95.65%   \n",
       "5       0.051952  0.315002     4.0       85.0  ...       100.00%   \n",
       "\n",
       "       cum_noneventrate    KS   bad_rate  \n",
       "Decile                                    \n",
       "1                14.16%  28.2  43.820225  \n",
       "2                33.43%  31.8  23.595506  \n",
       "3                53.82%  29.9  19.101124  \n",
       "4                75.92%  19.7  12.359551  \n",
       "5               100.00%  -0.0   4.494382  \n",
       "\n",
       "[5 rows x 10 columns]"
      ]
     },
     "execution_count": 63,
     "metadata": {},
     "output_type": "execute_result"
    }
   ],
   "source": [
    "train_ks"
   ]
  },
  {
   "cell_type": "code",
   "execution_count": 64,
   "metadata": {},
   "outputs": [
    {
     "data": {
      "text/html": [
       "<div>\n",
       "<style scoped>\n",
       "    .dataframe tbody tr th:only-of-type {\n",
       "        vertical-align: middle;\n",
       "    }\n",
       "\n",
       "    .dataframe tbody tr th {\n",
       "        vertical-align: top;\n",
       "    }\n",
       "\n",
       "    .dataframe thead th {\n",
       "        text-align: right;\n",
       "    }\n",
       "</style>\n",
       "<table border=\"1\" class=\"dataframe\">\n",
       "  <thead>\n",
       "    <tr style=\"text-align: right;\">\n",
       "      <th></th>\n",
       "      <th>min_prob</th>\n",
       "      <th>max_prob</th>\n",
       "      <th>events</th>\n",
       "      <th>nonevents</th>\n",
       "      <th>...</th>\n",
       "      <th>cum_eventrate</th>\n",
       "      <th>cum_noneventrate</th>\n",
       "      <th>KS</th>\n",
       "      <th>bad_rate</th>\n",
       "    </tr>\n",
       "    <tr>\n",
       "      <th>Decile</th>\n",
       "      <th></th>\n",
       "      <th></th>\n",
       "      <th></th>\n",
       "      <th></th>\n",
       "      <th></th>\n",
       "      <th></th>\n",
       "      <th></th>\n",
       "      <th></th>\n",
       "      <th></th>\n",
       "    </tr>\n",
       "  </thead>\n",
       "  <tbody>\n",
       "    <tr>\n",
       "      <th>1</th>\n",
       "      <td>0.643256</td>\n",
       "      <td>0.859053</td>\n",
       "      <td>16.0</td>\n",
       "      <td>23.0</td>\n",
       "      <td>...</td>\n",
       "      <td>40.00%</td>\n",
       "      <td>15.13%</td>\n",
       "      <td>24.9</td>\n",
       "      <td>41.025641</td>\n",
       "    </tr>\n",
       "    <tr>\n",
       "      <th>2</th>\n",
       "      <td>0.526335</td>\n",
       "      <td>0.635649</td>\n",
       "      <td>9.0</td>\n",
       "      <td>29.0</td>\n",
       "      <td>...</td>\n",
       "      <td>62.50%</td>\n",
       "      <td>34.21%</td>\n",
       "      <td>28.3</td>\n",
       "      <td>23.684211</td>\n",
       "    </tr>\n",
       "    <tr>\n",
       "      <th>3</th>\n",
       "      <td>0.423909</td>\n",
       "      <td>0.525892</td>\n",
       "      <td>7.0</td>\n",
       "      <td>30.0</td>\n",
       "      <td>...</td>\n",
       "      <td>80.00%</td>\n",
       "      <td>53.95%</td>\n",
       "      <td>26.1</td>\n",
       "      <td>18.918919</td>\n",
       "    </tr>\n",
       "    <tr>\n",
       "      <th>4</th>\n",
       "      <td>0.321717</td>\n",
       "      <td>0.420664</td>\n",
       "      <td>5.0</td>\n",
       "      <td>33.0</td>\n",
       "      <td>...</td>\n",
       "      <td>92.50%</td>\n",
       "      <td>75.66%</td>\n",
       "      <td>16.8</td>\n",
       "      <td>13.157895</td>\n",
       "    </tr>\n",
       "    <tr>\n",
       "      <th>5</th>\n",
       "      <td>0.061065</td>\n",
       "      <td>0.321305</td>\n",
       "      <td>3.0</td>\n",
       "      <td>37.0</td>\n",
       "      <td>...</td>\n",
       "      <td>100.00%</td>\n",
       "      <td>100.00%</td>\n",
       "      <td>0.0</td>\n",
       "      <td>7.500000</td>\n",
       "    </tr>\n",
       "  </tbody>\n",
       "</table>\n",
       "<p>5 rows × 10 columns</p>\n",
       "</div>"
      ],
      "text/plain": [
       "        min_prob  max_prob  events  nonevents  ... cum_eventrate  \\\n",
       "Decile                                         ...                 \n",
       "1       0.643256  0.859053    16.0       23.0  ...        40.00%   \n",
       "2       0.526335  0.635649     9.0       29.0  ...        62.50%   \n",
       "3       0.423909  0.525892     7.0       30.0  ...        80.00%   \n",
       "4       0.321717  0.420664     5.0       33.0  ...        92.50%   \n",
       "5       0.061065  0.321305     3.0       37.0  ...       100.00%   \n",
       "\n",
       "       cum_noneventrate    KS   bad_rate  \n",
       "Decile                                    \n",
       "1                15.13%  24.9  41.025641  \n",
       "2                34.21%  28.3  23.684211  \n",
       "3                53.95%  26.1  18.918919  \n",
       "4                75.66%  16.8  13.157895  \n",
       "5               100.00%   0.0   7.500000  \n",
       "\n",
       "[5 rows x 10 columns]"
      ]
     },
     "execution_count": 64,
     "metadata": {},
     "output_type": "execute_result"
    }
   ],
   "source": [
    "test_ks"
   ]
  },
  {
   "cell_type": "code",
   "execution_count": null,
   "metadata": {},
   "outputs": [],
   "source": []
  },
  {
   "cell_type": "code",
   "execution_count": null,
   "metadata": {},
   "outputs": [],
   "source": []
  }
 ],
 "metadata": {
  "kernelspec": {
   "display_name": "Python 3.9.17 64-bit ('venv_plaid_credit')",
   "language": "python",
   "name": "python3"
  },
  "language_info": {
   "codemirror_mode": {
    "name": "ipython",
    "version": 3
   },
   "file_extension": ".py",
   "mimetype": "text/x-python",
   "name": "python",
   "nbconvert_exporter": "python",
   "pygments_lexer": "ipython3",
   "version": "3.9.17"
  },
  "orig_nbformat": 4,
  "vscode": {
   "interpreter": {
    "hash": "d9bbc33ec67b6e69663d9524a7cba3ebe2e2de2798633e20e7d227e00dd346ad"
   }
  }
 },
 "nbformat": 4,
 "nbformat_minor": 2
}
